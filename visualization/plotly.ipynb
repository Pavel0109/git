{
 "nbformat": 4,
 "nbformat_minor": 2,
 "metadata": {
  "language_info": {
   "name": "python",
   "codemirror_mode": {
    "name": "ipython",
    "version": 3
   },
   "version": "3.7.6-final"
  },
  "orig_nbformat": 2,
  "file_extension": ".py",
  "mimetype": "text/x-python",
  "name": "python",
  "npconvert_exporter": "python",
  "pygments_lexer": "ipython3",
  "version": 3,
  "kernelspec": {
   "name": "python3",
   "display_name": "Python 3"
  }
 },
 "cells": [
  {
   "cell_type": "markdown",
   "execution_count": null,
   "metadata": {},
   "outputs": [],
   "source": [
    "# Введение\n",
    "В любом эксперименте важной частью, является представление данных в удобном виде. Для этого существует большое количество различных библиотек для визуализации. В этой статье одну из новых библиотек - [Plotly](https://plot.ly/python/) \n",
    "\n",
    "Plotly - библиотека с которой я работаю сейчас. С ней можно работать в двух видах: \n",
    "* Полный вид. Код начинается с команды `import plotly.graph_objects as go` \n",
    "* Компактный вид. Код начинается с команды `import plotly.express as px`\n",
    "\n",
    "Из плюсов библиотеки отмечу отличную [документацию](https://plot.ly/python/) с большим количеством примеров, также интерактивные графики. \n",
    "\n",
    "Из минусов: при большом количестве графиков могут начаться подтормаживания (решается включением неинтерактивный режима)\n"
   ]
  },
  {
   "cell_type": "markdown",
   "execution_count": null,
   "metadata": {},
   "outputs": [],
   "source": [
    "# Установка\n",
    "## Подготовка\n",
    "0. (необязательно) Создадим новое окружение `conda create --name visual` \n",
    "1. Активируем его `conda activate visual`\n",
    "2. Установим pandas и  numpy и Jupyter `conda install numpy pandas jupyter`\n",
    "3. Создадим два массива (x и sin(x))\n",
    "\n"
   ]
  },
  {
   "cell_type": "code",
   "execution_count": 1,
   "metadata": {},
   "outputs": [],
   "source": [
    "import numpy as np\n",
    "import pandas as pd\n",
    "\n",
    "x = np.linspace(0, 10, 100)\n",
    "y = np.sin(x)\n"
   ]
  },
  {
   "cell_type": "markdown",
   "execution_count": null,
   "metadata": {},
   "outputs": [],
   "source": [
    "## Установка Plotly\n",
    "Установка Plotly достаточно сложная (не в одну строчку)\n",
    "Приведем тут, что говорит нам [документация](https://plot.ly/python/getting-started/)\n",
    "\n",
    "1. `conda install plotly` (может возникать проблема No module named 'plotly', тогда пропишите pip install plotly)\n",
    "\n",
    "2. Дальше если вы работаете\n",
    " через Jupter:\n",
    "\n",
    "`conda install notebook ipywidgets`\n",
    "\n",
    "через Jupterlab: \n",
    "```\n",
    "conda install jupyterlab\n",
    "conda install ipywidgets\n",
    "```\n",
    "\n",
    "Если через VS code ничего не надо\n",
    "\n",
    "Проверим, что все работает:"
   ]
  },
  {
   "cell_type": "code",
   "execution_count": 2,
   "metadata": {},
   "outputs": [
    {
     "data": {
      "application/vnd.plotly.v1+json": {
       "config": {
        "plotlyServerURL": "https://plot.ly"
       },
       "data": [
        {
         "hoverlabel": {
          "namelength": 0
         },
         "hovertemplate": "x=%{x}<br>y=%{y}",
         "legendgroup": "",
         "marker": {
          "color": "#636efa",
          "symbol": "circle"
         },
         "mode": "markers",
         "name": "",
         "showlegend": false,
         "type": "scatter",
         "x": [
          0,
          0.10101010101010101,
          0.20202020202020202,
          0.30303030303030304,
          0.40404040404040403,
          0.5050505050505051,
          0.6060606060606061,
          0.7070707070707071,
          0.8080808080808081,
          0.9090909090909091,
          1.0101010101010102,
          1.1111111111111112,
          1.2121212121212122,
          1.3131313131313131,
          1.4141414141414141,
          1.5151515151515151,
          1.6161616161616161,
          1.7171717171717171,
          1.8181818181818181,
          1.9191919191919191,
          2.0202020202020203,
          2.121212121212121,
          2.2222222222222223,
          2.323232323232323,
          2.4242424242424243,
          2.525252525252525,
          2.6262626262626263,
          2.727272727272727,
          2.8282828282828283,
          2.929292929292929,
          3.0303030303030303,
          3.131313131313131,
          3.2323232323232323,
          3.3333333333333335,
          3.4343434343434343,
          3.5353535353535355,
          3.6363636363636362,
          3.7373737373737375,
          3.8383838383838382,
          3.9393939393939394,
          4.040404040404041,
          4.141414141414141,
          4.242424242424242,
          4.343434343434343,
          4.444444444444445,
          4.545454545454545,
          4.646464646464646,
          4.747474747474747,
          4.848484848484849,
          4.94949494949495,
          5.05050505050505,
          5.151515151515151,
          5.252525252525253,
          5.353535353535354,
          5.454545454545454,
          5.555555555555555,
          5.656565656565657,
          5.757575757575758,
          5.858585858585858,
          5.959595959595959,
          6.0606060606060606,
          6.161616161616162,
          6.262626262626262,
          6.363636363636363,
          6.4646464646464645,
          6.565656565656566,
          6.666666666666667,
          6.767676767676767,
          6.8686868686868685,
          6.96969696969697,
          7.070707070707071,
          7.171717171717171,
          7.2727272727272725,
          7.373737373737374,
          7.474747474747475,
          7.575757575757575,
          7.6767676767676765,
          7.777777777777778,
          7.878787878787879,
          7.979797979797979,
          8.080808080808081,
          8.181818181818182,
          8.282828282828282,
          8.383838383838384,
          8.484848484848484,
          8.585858585858587,
          8.686868686868687,
          8.787878787878787,
          8.88888888888889,
          8.98989898989899,
          9.09090909090909,
          9.191919191919192,
          9.292929292929292,
          9.393939393939394,
          9.494949494949495,
          9.595959595959595,
          9.696969696969697,
          9.797979797979798,
          9.8989898989899,
          10
         ],
         "xaxis": "x",
         "y": [
          0,
          0.1008384202581046,
          0.2006488565226854,
          0.2984138044476411,
          0.3931366121483298,
          0.48385164043793466,
          0.5696341069089657,
          0.6496095135057065,
          0.7229625614794604,
          0.7889454628442574,
          0.8468855636029834,
          0.8961922010299563,
          0.9363627251042848,
          0.9669876227092996,
          0.9877546923600838,
          0.9984522269003895,
          0.9989711717233568,
          0.9893062365143401,
          0.9695559491823237,
          0.9399216514301312,
          0.9007054462029555,
          0.8523071179396753,
          0.7952200570230491,
          0.7300262299764464,
          0.6573902466827755,
          0.5780525851065732,
          0.4928220425889235,
          0.40256749066949654,
          0.30820901749007684,
          0.2107085480771929,
          0.11106003812412972,
          0.010279341240534697,
          -0.09060614703340773,
          -0.19056796287548539,
          -0.28858705872043244,
          -0.38366419180611233,
          -0.4748301108222395,
          -0.5611554368152017,
          -0.6417601376193878,
          -0.7158224992291902,
          -0.7825875026542022,
          -0.8413745208608701,
          -0.8915842573351402,
          -0.9327048555318336,
          -0.9643171169287783,
          -0.9860987744909296,
          -0.9978277779792126,
          -0.9993845576124357,
          -0.9907532430056771,
          -0.9720218249588334,
          -0.9433812584459996,
          -0.9051235159501367,
          -0.8576386109880517,
          -0.8014106221689697,
          -0.7370127583189134,
          -0.6651015149788224,
          -0.586409981847235,
          -0.5017403693939113,
          -0.4119558308308628,
          -0.31797166281061867,
          -0.22074597455506337,
          -0.12126992053716677,
          -0.020557596287260064,
          0.08036429967028173,
          0.18046693235991093,
          0.2787298186775573,
          0.37415123057121996,
          0.4657584070256517,
          0.5526174707464059,
          0.6338429484489058,
          0.7086067976992182,
          0.7761468482835805,
          0.8357745720522589,
          0.8868821020290788,
          0.9289484292312513,
          0.9615447140268235,
          0.9843386578838236,
          0.9970978909438748,
          0.9996923408861117,
          0.9920955589323228,
          0.9743849894755358,
          0.9467411805833543,
          0.9094459434244626,
          0.8628794793817836,
          0.8075165041395626,
          0.7439214082568444,
          0.6727425035622647,
          0.5947054140244974,
          0.510605678474283,
          0.4213006405886069,
          0.32770070881349983,
          0.23076007532505177,
          0.13146698864295842,
          0.03083367906114098,
          -0.07011396040064677,
          -0.1703468323280965,
          -0.268843125910384,
          -0.36459873365588863,
          -0.45663748763377376,
          -0.5440211108893699
         ],
         "yaxis": "y"
        }
       ],
       "layout": {
        "legend": {
         "tracegroupgap": 0
        },
        "margin": {
         "t": 60
        },
        "template": {
         "data": {
          "bar": [
           {
            "error_x": {
             "color": "#2a3f5f"
            },
            "error_y": {
             "color": "#2a3f5f"
            },
            "marker": {
             "line": {
              "color": "#E5ECF6",
              "width": 0.5
             }
            },
            "type": "bar"
           }
          ],
          "barpolar": [
           {
            "marker": {
             "line": {
              "color": "#E5ECF6",
              "width": 0.5
             }
            },
            "type": "barpolar"
           }
          ],
          "carpet": [
           {
            "aaxis": {
             "endlinecolor": "#2a3f5f",
             "gridcolor": "white",
             "linecolor": "white",
             "minorgridcolor": "white",
             "startlinecolor": "#2a3f5f"
            },
            "baxis": {
             "endlinecolor": "#2a3f5f",
             "gridcolor": "white",
             "linecolor": "white",
             "minorgridcolor": "white",
             "startlinecolor": "#2a3f5f"
            },
            "type": "carpet"
           }
          ],
          "choropleth": [
           {
            "colorbar": {
             "outlinewidth": 0,
             "ticks": ""
            },
            "type": "choropleth"
           }
          ],
          "contour": [
           {
            "colorbar": {
             "outlinewidth": 0,
             "ticks": ""
            },
            "colorscale": [
             [
              0,
              "#0d0887"
             ],
             [
              0.1111111111111111,
              "#46039f"
             ],
             [
              0.2222222222222222,
              "#7201a8"
             ],
             [
              0.3333333333333333,
              "#9c179e"
             ],
             [
              0.4444444444444444,
              "#bd3786"
             ],
             [
              0.5555555555555556,
              "#d8576b"
             ],
             [
              0.6666666666666666,
              "#ed7953"
             ],
             [
              0.7777777777777778,
              "#fb9f3a"
             ],
             [
              0.8888888888888888,
              "#fdca26"
             ],
             [
              1,
              "#f0f921"
             ]
            ],
            "type": "contour"
           }
          ],
          "contourcarpet": [
           {
            "colorbar": {
             "outlinewidth": 0,
             "ticks": ""
            },
            "type": "contourcarpet"
           }
          ],
          "heatmap": [
           {
            "colorbar": {
             "outlinewidth": 0,
             "ticks": ""
            },
            "colorscale": [
             [
              0,
              "#0d0887"
             ],
             [
              0.1111111111111111,
              "#46039f"
             ],
             [
              0.2222222222222222,
              "#7201a8"
             ],
             [
              0.3333333333333333,
              "#9c179e"
             ],
             [
              0.4444444444444444,
              "#bd3786"
             ],
             [
              0.5555555555555556,
              "#d8576b"
             ],
             [
              0.6666666666666666,
              "#ed7953"
             ],
             [
              0.7777777777777778,
              "#fb9f3a"
             ],
             [
              0.8888888888888888,
              "#fdca26"
             ],
             [
              1,
              "#f0f921"
             ]
            ],
            "type": "heatmap"
           }
          ],
          "heatmapgl": [
           {
            "colorbar": {
             "outlinewidth": 0,
             "ticks": ""
            },
            "colorscale": [
             [
              0,
              "#0d0887"
             ],
             [
              0.1111111111111111,
              "#46039f"
             ],
             [
              0.2222222222222222,
              "#7201a8"
             ],
             [
              0.3333333333333333,
              "#9c179e"
             ],
             [
              0.4444444444444444,
              "#bd3786"
             ],
             [
              0.5555555555555556,
              "#d8576b"
             ],
             [
              0.6666666666666666,
              "#ed7953"
             ],
             [
              0.7777777777777778,
              "#fb9f3a"
             ],
             [
              0.8888888888888888,
              "#fdca26"
             ],
             [
              1,
              "#f0f921"
             ]
            ],
            "type": "heatmapgl"
           }
          ],
          "histogram": [
           {
            "marker": {
             "colorbar": {
              "outlinewidth": 0,
              "ticks": ""
             }
            },
            "type": "histogram"
           }
          ],
          "histogram2d": [
           {
            "colorbar": {
             "outlinewidth": 0,
             "ticks": ""
            },
            "colorscale": [
             [
              0,
              "#0d0887"
             ],
             [
              0.1111111111111111,
              "#46039f"
             ],
             [
              0.2222222222222222,
              "#7201a8"
             ],
             [
              0.3333333333333333,
              "#9c179e"
             ],
             [
              0.4444444444444444,
              "#bd3786"
             ],
             [
              0.5555555555555556,
              "#d8576b"
             ],
             [
              0.6666666666666666,
              "#ed7953"
             ],
             [
              0.7777777777777778,
              "#fb9f3a"
             ],
             [
              0.8888888888888888,
              "#fdca26"
             ],
             [
              1,
              "#f0f921"
             ]
            ],
            "type": "histogram2d"
           }
          ],
          "histogram2dcontour": [
           {
            "colorbar": {
             "outlinewidth": 0,
             "ticks": ""
            },
            "colorscale": [
             [
              0,
              "#0d0887"
             ],
             [
              0.1111111111111111,
              "#46039f"
             ],
             [
              0.2222222222222222,
              "#7201a8"
             ],
             [
              0.3333333333333333,
              "#9c179e"
             ],
             [
              0.4444444444444444,
              "#bd3786"
             ],
             [
              0.5555555555555556,
              "#d8576b"
             ],
             [
              0.6666666666666666,
              "#ed7953"
             ],
             [
              0.7777777777777778,
              "#fb9f3a"
             ],
             [
              0.8888888888888888,
              "#fdca26"
             ],
             [
              1,
              "#f0f921"
             ]
            ],
            "type": "histogram2dcontour"
           }
          ],
          "mesh3d": [
           {
            "colorbar": {
             "outlinewidth": 0,
             "ticks": ""
            },
            "type": "mesh3d"
           }
          ],
          "parcoords": [
           {
            "line": {
             "colorbar": {
              "outlinewidth": 0,
              "ticks": ""
             }
            },
            "type": "parcoords"
           }
          ],
          "pie": [
           {
            "automargin": true,
            "type": "pie"
           }
          ],
          "scatter": [
           {
            "marker": {
             "colorbar": {
              "outlinewidth": 0,
              "ticks": ""
             }
            },
            "type": "scatter"
           }
          ],
          "scatter3d": [
           {
            "line": {
             "colorbar": {
              "outlinewidth": 0,
              "ticks": ""
             }
            },
            "marker": {
             "colorbar": {
              "outlinewidth": 0,
              "ticks": ""
             }
            },
            "type": "scatter3d"
           }
          ],
          "scattercarpet": [
           {
            "marker": {
             "colorbar": {
              "outlinewidth": 0,
              "ticks": ""
             }
            },
            "type": "scattercarpet"
           }
          ],
          "scattergeo": [
           {
            "marker": {
             "colorbar": {
              "outlinewidth": 0,
              "ticks": ""
             }
            },
            "type": "scattergeo"
           }
          ],
          "scattergl": [
           {
            "marker": {
             "colorbar": {
              "outlinewidth": 0,
              "ticks": ""
             }
            },
            "type": "scattergl"
           }
          ],
          "scattermapbox": [
           {
            "marker": {
             "colorbar": {
              "outlinewidth": 0,
              "ticks": ""
             }
            },
            "type": "scattermapbox"
           }
          ],
          "scatterpolar": [
           {
            "marker": {
             "colorbar": {
              "outlinewidth": 0,
              "ticks": ""
             }
            },
            "type": "scatterpolar"
           }
          ],
          "scatterpolargl": [
           {
            "marker": {
             "colorbar": {
              "outlinewidth": 0,
              "ticks": ""
             }
            },
            "type": "scatterpolargl"
           }
          ],
          "scatterternary": [
           {
            "marker": {
             "colorbar": {
              "outlinewidth": 0,
              "ticks": ""
             }
            },
            "type": "scatterternary"
           }
          ],
          "surface": [
           {
            "colorbar": {
             "outlinewidth": 0,
             "ticks": ""
            },
            "colorscale": [
             [
              0,
              "#0d0887"
             ],
             [
              0.1111111111111111,
              "#46039f"
             ],
             [
              0.2222222222222222,
              "#7201a8"
             ],
             [
              0.3333333333333333,
              "#9c179e"
             ],
             [
              0.4444444444444444,
              "#bd3786"
             ],
             [
              0.5555555555555556,
              "#d8576b"
             ],
             [
              0.6666666666666666,
              "#ed7953"
             ],
             [
              0.7777777777777778,
              "#fb9f3a"
             ],
             [
              0.8888888888888888,
              "#fdca26"
             ],
             [
              1,
              "#f0f921"
             ]
            ],
            "type": "surface"
           }
          ],
          "table": [
           {
            "cells": {
             "fill": {
              "color": "#EBF0F8"
             },
             "line": {
              "color": "white"
             }
            },
            "header": {
             "fill": {
              "color": "#C8D4E3"
             },
             "line": {
              "color": "white"
             }
            },
            "type": "table"
           }
          ]
         },
         "layout": {
          "annotationdefaults": {
           "arrowcolor": "#2a3f5f",
           "arrowhead": 0,
           "arrowwidth": 1
          },
          "coloraxis": {
           "colorbar": {
            "outlinewidth": 0,
            "ticks": ""
           }
          },
          "colorscale": {
           "diverging": [
            [
             0,
             "#8e0152"
            ],
            [
             0.1,
             "#c51b7d"
            ],
            [
             0.2,
             "#de77ae"
            ],
            [
             0.3,
             "#f1b6da"
            ],
            [
             0.4,
             "#fde0ef"
            ],
            [
             0.5,
             "#f7f7f7"
            ],
            [
             0.6,
             "#e6f5d0"
            ],
            [
             0.7,
             "#b8e186"
            ],
            [
             0.8,
             "#7fbc41"
            ],
            [
             0.9,
             "#4d9221"
            ],
            [
             1,
             "#276419"
            ]
           ],
           "sequential": [
            [
             0,
             "#0d0887"
            ],
            [
             0.1111111111111111,
             "#46039f"
            ],
            [
             0.2222222222222222,
             "#7201a8"
            ],
            [
             0.3333333333333333,
             "#9c179e"
            ],
            [
             0.4444444444444444,
             "#bd3786"
            ],
            [
             0.5555555555555556,
             "#d8576b"
            ],
            [
             0.6666666666666666,
             "#ed7953"
            ],
            [
             0.7777777777777778,
             "#fb9f3a"
            ],
            [
             0.8888888888888888,
             "#fdca26"
            ],
            [
             1,
             "#f0f921"
            ]
           ],
           "sequentialminus": [
            [
             0,
             "#0d0887"
            ],
            [
             0.1111111111111111,
             "#46039f"
            ],
            [
             0.2222222222222222,
             "#7201a8"
            ],
            [
             0.3333333333333333,
             "#9c179e"
            ],
            [
             0.4444444444444444,
             "#bd3786"
            ],
            [
             0.5555555555555556,
             "#d8576b"
            ],
            [
             0.6666666666666666,
             "#ed7953"
            ],
            [
             0.7777777777777778,
             "#fb9f3a"
            ],
            [
             0.8888888888888888,
             "#fdca26"
            ],
            [
             1,
             "#f0f921"
            ]
           ]
          },
          "colorway": [
           "#636efa",
           "#EF553B",
           "#00cc96",
           "#ab63fa",
           "#FFA15A",
           "#19d3f3",
           "#FF6692",
           "#B6E880",
           "#FF97FF",
           "#FECB52"
          ],
          "font": {
           "color": "#2a3f5f"
          },
          "geo": {
           "bgcolor": "white",
           "lakecolor": "white",
           "landcolor": "#E5ECF6",
           "showlakes": true,
           "showland": true,
           "subunitcolor": "white"
          },
          "hoverlabel": {
           "align": "left"
          },
          "hovermode": "closest",
          "mapbox": {
           "style": "light"
          },
          "paper_bgcolor": "white",
          "plot_bgcolor": "#E5ECF6",
          "polar": {
           "angularaxis": {
            "gridcolor": "white",
            "linecolor": "white",
            "ticks": ""
           },
           "bgcolor": "#E5ECF6",
           "radialaxis": {
            "gridcolor": "white",
            "linecolor": "white",
            "ticks": ""
           }
          },
          "scene": {
           "xaxis": {
            "backgroundcolor": "#E5ECF6",
            "gridcolor": "white",
            "gridwidth": 2,
            "linecolor": "white",
            "showbackground": true,
            "ticks": "",
            "zerolinecolor": "white"
           },
           "yaxis": {
            "backgroundcolor": "#E5ECF6",
            "gridcolor": "white",
            "gridwidth": 2,
            "linecolor": "white",
            "showbackground": true,
            "ticks": "",
            "zerolinecolor": "white"
           },
           "zaxis": {
            "backgroundcolor": "#E5ECF6",
            "gridcolor": "white",
            "gridwidth": 2,
            "linecolor": "white",
            "showbackground": true,
            "ticks": "",
            "zerolinecolor": "white"
           }
          },
          "shapedefaults": {
           "line": {
            "color": "#2a3f5f"
           }
          },
          "ternary": {
           "aaxis": {
            "gridcolor": "white",
            "linecolor": "white",
            "ticks": ""
           },
           "baxis": {
            "gridcolor": "white",
            "linecolor": "white",
            "ticks": ""
           },
           "bgcolor": "#E5ECF6",
           "caxis": {
            "gridcolor": "white",
            "linecolor": "white",
            "ticks": ""
           }
          },
          "title": {
           "x": 0.05
          },
          "xaxis": {
           "automargin": true,
           "gridcolor": "white",
           "linecolor": "white",
           "ticks": "",
           "title": {
            "standoff": 15
           },
           "zerolinecolor": "white",
           "zerolinewidth": 2
          },
          "yaxis": {
           "automargin": true,
           "gridcolor": "white",
           "linecolor": "white",
           "ticks": "",
           "title": {
            "standoff": 15
           },
           "zerolinecolor": "white",
           "zerolinewidth": 2
          }
         }
        },
        "xaxis": {
         "anchor": "y",
         "domain": [
          0,
          1
         ],
         "title": {
          "text": "x"
         }
        },
        "yaxis": {
         "anchor": "x",
         "domain": [
          0,
          1
         ],
         "title": {
          "text": "y"
         }
        }
       }
      }
     },
     "metadata": {},
     "output_type": "display_data"
    }
   ],
   "source": [
    "import plotly.express as px\n",
    "fig = px.scatter(x=x, y=y)\n",
    "fig.show()"
   ]
  },
  {
   "cell_type": "markdown",
   "execution_count": null,
   "metadata": {},
   "outputs": [],
   "source": [
    "Также для сохранения графиков (как картинки, либо вывода в неинтерактивный режиме) необходимо прописать (в терминале): \n",
    "`conda install -c plotly plotly-orca psutil requests`\n",
    "\n",
    "После этого график можно отобразить в неинтерактивном режиме либо сохранить:"
   ]
  },
  {
   "cell_type": "code",
   "execution_count": 3,
   "metadata": {},
   "outputs": [
    {
     "data": {
      "image/png": "[encoded data removed]"
     },
     "metadata": {},
     "output_type": "display_data"
    }
   ],
   "source": [
    "fig.show(renderer=\"png\")"
   ]
  },
  {
   "cell_type": "markdown",
   "execution_count": null,
   "metadata": {},
   "outputs": [],
   "source": [
    "Как уже говорилось, plotly может работать в двух режимах, на примерах посмотрим разни\n",
    "\n",
    "#Построение оснонвых графиков\n",
    "## Scatter plot (Точечный график) \n",
    "\n",
    "Обычная задача возникающая на лабораторных работах:\n",
    "Имеется две серии данных (c погрешностями). Необходимо нанести их на один график и построить аппроксимирующие функции. Отметим, что Plotly-express работают с DataFrame. \n",
    "\n",
    "Создадим DataFrame, с двумя сериями. Столбец `type` отвечает за номер серии."
   ]
  },
  {
   "cell_type": "code",
   "execution_count": 72,
   "metadata": {},
   "outputs": [
    {
     "data": {
      "text/html": "<div>\n<style scoped>\n    .dataframe tbody tr th:only-of-type {\n        vertical-align: middle;\n    }\n\n    .dataframe tbody tr th {\n        vertical-align: top;\n    }\n\n    .dataframe thead th {\n        text-align: right;\n    }\n</style>\n<table border=\"1\" class=\"dataframe\">\n  <thead>\n    <tr style=\"text-align: right;\">\n      <th></th>\n      <th>x</th>\n      <th>y</th>\n      <th>type</th>\n      <th>err</th>\n    </tr>\n  </thead>\n  <tbody>\n    <tr>\n      <th>0</th>\n      <td>-0.857397</td>\n      <td>-6.857397</td>\n      <td>1</td>\n      <td>1.590466</td>\n    </tr>\n    <tr>\n      <th>1</th>\n      <td>-0.690730</td>\n      <td>-6.690730</td>\n      <td>1</td>\n      <td>1.415322</td>\n    </tr>\n    <tr>\n      <th>2</th>\n      <td>-0.524064</td>\n      <td>-6.524064</td>\n      <td>1</td>\n      <td>0.863951</td>\n    </tr>\n    <tr>\n      <th>3</th>\n      <td>-0.357397</td>\n      <td>-6.357397</td>\n      <td>1</td>\n      <td>0.655179</td>\n    </tr>\n    <tr>\n      <th>4</th>\n      <td>-0.190730</td>\n      <td>-6.190730</td>\n      <td>1</td>\n      <td>1.909840</td>\n    </tr>\n    <tr>\n      <th>5</th>\n      <td>-0.024064</td>\n      <td>-6.024064</td>\n      <td>1</td>\n      <td>1.333388</td>\n    </tr>\n    <tr>\n      <th>6</th>\n      <td>0.142603</td>\n      <td>-5.857397</td>\n      <td>1</td>\n      <td>0.999655</td>\n    </tr>\n    <tr>\n      <th>7</th>\n      <td>0.309270</td>\n      <td>-5.690730</td>\n      <td>1</td>\n      <td>0.122297</td>\n    </tr>\n    <tr>\n      <th>8</th>\n      <td>0.475936</td>\n      <td>-5.524064</td>\n      <td>1</td>\n      <td>0.558248</td>\n    </tr>\n    <tr>\n      <th>9</th>\n      <td>0.642603</td>\n      <td>-5.357397</td>\n      <td>1</td>\n      <td>0.674411</td>\n    </tr>\n    <tr>\n      <th>10</th>\n      <td>0.809270</td>\n      <td>-5.190730</td>\n      <td>1</td>\n      <td>1.328935</td>\n    </tr>\n    <tr>\n      <th>11</th>\n      <td>0.975936</td>\n      <td>-5.024064</td>\n      <td>1</td>\n      <td>0.932280</td>\n    </tr>\n    <tr>\n      <th>12</th>\n      <td>1.142603</td>\n      <td>-4.857397</td>\n      <td>1</td>\n      <td>0.684976</td>\n    </tr>\n    <tr>\n      <th>13</th>\n      <td>1.309270</td>\n      <td>-4.690730</td>\n      <td>1</td>\n      <td>0.326190</td>\n    </tr>\n    <tr>\n      <th>14</th>\n      <td>1.475936</td>\n      <td>-4.524064</td>\n      <td>1</td>\n      <td>1.637992</td>\n    </tr>\n    <tr>\n      <th>15</th>\n      <td>1.642603</td>\n      <td>-4.357397</td>\n      <td>1</td>\n      <td>0.766729</td>\n    </tr>\n    <tr>\n      <th>16</th>\n      <td>1.809270</td>\n      <td>-4.190730</td>\n      <td>1</td>\n      <td>1.770925</td>\n    </tr>\n    <tr>\n      <th>17</th>\n      <td>1.975936</td>\n      <td>-4.024064</td>\n      <td>1</td>\n      <td>1.735011</td>\n    </tr>\n    <tr>\n      <th>18</th>\n      <td>2.142603</td>\n      <td>-3.857397</td>\n      <td>1</td>\n      <td>1.142774</td>\n    </tr>\n    <tr>\n      <th>19</th>\n      <td>2.309270</td>\n      <td>-3.690730</td>\n      <td>1</td>\n      <td>0.029900</td>\n    </tr>\n    <tr>\n      <th>20</th>\n      <td>2.475936</td>\n      <td>-3.524064</td>\n      <td>1</td>\n      <td>1.734760</td>\n    </tr>\n    <tr>\n      <th>21</th>\n      <td>2.642603</td>\n      <td>-3.357397</td>\n      <td>1</td>\n      <td>0.164705</td>\n    </tr>\n    <tr>\n      <th>22</th>\n      <td>2.809270</td>\n      <td>-3.190730</td>\n      <td>1</td>\n      <td>0.789723</td>\n    </tr>\n    <tr>\n      <th>23</th>\n      <td>2.975936</td>\n      <td>-3.024064</td>\n      <td>1</td>\n      <td>1.638120</td>\n    </tr>\n    <tr>\n      <th>24</th>\n      <td>3.142603</td>\n      <td>-2.857397</td>\n      <td>1</td>\n      <td>0.035013</td>\n    </tr>\n    <tr>\n      <th>25</th>\n      <td>-2.725010</td>\n      <td>-17.235041</td>\n      <td>2</td>\n      <td>0.730515</td>\n    </tr>\n    <tr>\n      <th>26</th>\n      <td>-2.475010</td>\n      <td>-12.161098</td>\n      <td>2</td>\n      <td>1.255254</td>\n    </tr>\n    <tr>\n      <th>27</th>\n      <td>-2.225010</td>\n      <td>-8.015283</td>\n      <td>2</td>\n      <td>0.835167</td>\n    </tr>\n    <tr>\n      <th>28</th>\n      <td>-1.975010</td>\n      <td>-4.703846</td>\n      <td>2</td>\n      <td>1.474457</td>\n    </tr>\n    <tr>\n      <th>29</th>\n      <td>-1.725010</td>\n      <td>-2.133038</td>\n      <td>2</td>\n      <td>1.355620</td>\n    </tr>\n    <tr>\n      <th>30</th>\n      <td>-1.475010</td>\n      <td>-0.209109</td>\n      <td>2</td>\n      <td>1.188137</td>\n    </tr>\n    <tr>\n      <th>31</th>\n      <td>-1.225010</td>\n      <td>1.161691</td>\n      <td>2</td>\n      <td>1.396048</td>\n    </tr>\n    <tr>\n      <th>32</th>\n      <td>-0.975010</td>\n      <td>2.073113</td>\n      <td>2</td>\n      <td>1.108058</td>\n    </tr>\n    <tr>\n      <th>33</th>\n      <td>-0.725010</td>\n      <td>2.618907</td>\n      <td>2</td>\n      <td>0.193333</td>\n    </tr>\n    <tr>\n      <th>34</th>\n      <td>-0.475010</td>\n      <td>2.892822</td>\n      <td>2</td>\n      <td>1.436675</td>\n    </tr>\n    <tr>\n      <th>35</th>\n      <td>-0.225010</td>\n      <td>2.988608</td>\n      <td>2</td>\n      <td>1.406350</td>\n    </tr>\n    <tr>\n      <th>36</th>\n      <td>0.024990</td>\n      <td>3.000016</td>\n      <td>2</td>\n      <td>1.309379</td>\n    </tr>\n    <tr>\n      <th>37</th>\n      <td>0.274990</td>\n      <td>3.020795</td>\n      <td>2</td>\n      <td>1.367140</td>\n    </tr>\n    <tr>\n      <th>38</th>\n      <td>0.524990</td>\n      <td>3.144695</td>\n      <td>2</td>\n      <td>1.133486</td>\n    </tr>\n    <tr>\n      <th>39</th>\n      <td>0.774990</td>\n      <td>3.465467</td>\n      <td>2</td>\n      <td>1.100643</td>\n    </tr>\n    <tr>\n      <th>40</th>\n      <td>1.024990</td>\n      <td>4.076860</td>\n      <td>2</td>\n      <td>1.347292</td>\n    </tr>\n    <tr>\n      <th>41</th>\n      <td>1.274990</td>\n      <td>5.072625</td>\n      <td>2</td>\n      <td>1.588824</td>\n    </tr>\n    <tr>\n      <th>42</th>\n      <td>1.524990</td>\n      <td>6.546511</td>\n      <td>2</td>\n      <td>1.045085</td>\n    </tr>\n    <tr>\n      <th>43</th>\n      <td>1.774990</td>\n      <td>8.592269</td>\n      <td>2</td>\n      <td>0.966595</td>\n    </tr>\n    <tr>\n      <th>44</th>\n      <td>2.024990</td>\n      <td>11.303648</td>\n      <td>2</td>\n      <td>0.333394</td>\n    </tr>\n    <tr>\n      <th>45</th>\n      <td>2.274990</td>\n      <td>14.774398</td>\n      <td>2</td>\n      <td>0.902270</td>\n    </tr>\n    <tr>\n      <th>46</th>\n      <td>2.524990</td>\n      <td>19.098270</td>\n      <td>2</td>\n      <td>1.171137</td>\n    </tr>\n    <tr>\n      <th>47</th>\n      <td>2.774990</td>\n      <td>24.369014</td>\n      <td>2</td>\n      <td>0.221785</td>\n    </tr>\n    <tr>\n      <th>48</th>\n      <td>3.024990</td>\n      <td>30.680378</td>\n      <td>2</td>\n      <td>0.727756</td>\n    </tr>\n    <tr>\n      <th>49</th>\n      <td>3.274990</td>\n      <td>38.126114</td>\n      <td>2</td>\n      <td>1.359514</td>\n    </tr>\n  </tbody>\n</table>\n</div>",
      "text/plain": "           x          y type       err\n0  -0.857397  -6.857397    1  1.590466\n1  -0.690730  -6.690730    1  1.415322\n2  -0.524064  -6.524064    1  0.863951\n3  -0.357397  -6.357397    1  0.655179\n4  -0.190730  -6.190730    1  1.909840\n5  -0.024064  -6.024064    1  1.333388\n6   0.142603  -5.857397    1  0.999655\n7   0.309270  -5.690730    1  0.122297\n8   0.475936  -5.524064    1  0.558248\n9   0.642603  -5.357397    1  0.674411\n10  0.809270  -5.190730    1  1.328935\n11  0.975936  -5.024064    1  0.932280\n12  1.142603  -4.857397    1  0.684976\n13  1.309270  -4.690730    1  0.326190\n14  1.475936  -4.524064    1  1.637992\n15  1.642603  -4.357397    1  0.766729\n16  1.809270  -4.190730    1  1.770925\n17  1.975936  -4.024064    1  1.735011\n18  2.142603  -3.857397    1  1.142774\n19  2.309270  -3.690730    1  0.029900\n20  2.475936  -3.524064    1  1.734760\n21  2.642603  -3.357397    1  0.164705\n22  2.809270  -3.190730    1  0.789723\n23  2.975936  -3.024064    1  1.638120\n24  3.142603  -2.857397    1  0.035013\n25 -2.725010 -17.235041    2  0.730515\n26 -2.475010 -12.161098    2  1.255254\n27 -2.225010  -8.015283    2  0.835167\n28 -1.975010  -4.703846    2  1.474457\n29 -1.725010  -2.133038    2  1.355620\n30 -1.475010  -0.209109    2  1.188137\n31 -1.225010   1.161691    2  1.396048\n32 -0.975010   2.073113    2  1.108058\n33 -0.725010   2.618907    2  0.193333\n34 -0.475010   2.892822    2  1.436675\n35 -0.225010   2.988608    2  1.406350\n36  0.024990   3.000016    2  1.309379\n37  0.274990   3.020795    2  1.367140\n38  0.524990   3.144695    2  1.133486\n39  0.774990   3.465467    2  1.100643\n40  1.024990   4.076860    2  1.347292\n41  1.274990   5.072625    2  1.588824\n42  1.524990   6.546511    2  1.045085\n43  1.774990   8.592269    2  0.966595\n44  2.024990  11.303648    2  0.333394\n45  2.274990  14.774398    2  0.902270\n46  2.524990  19.098270    2  1.171137\n47  2.774990  24.369014    2  0.221785\n48  3.024990  30.680378    2  0.727756\n49  3.274990  38.126114    2  1.359514"
     },
     "execution_count": 72,
     "metadata": {},
     "output_type": "execute_result"
    }
   ],
   "source": [
    "x1 = np.linspace(-2,2 ,25) + np.random.randn()\n",
    "x2 = np.linspace(-3,3 ,25) + np.random.randn()\n",
    "e = np.random.sample(50)*2\n",
    "\n",
    "y1 = x1 - 6\n",
    "y2 = np.power(x2, 3) + 3\n",
    "data = pd.DataFrame({'x':np.append(x1,x2),'y':np.append(y1,y2),'type':np.repeat(['1','2'], 25),'err':e})\n",
    "data"
   ]
  },
  {
   "cell_type": "markdown",
   "execution_count": null,
   "metadata": {},
   "outputs": [],
   "source": [
    "### Plotly Express\n"
   ]
  },
  {
   "cell_type": "code",
   "execution_count": 75,
   "metadata": {},
   "outputs": [
    {
     "data": {
      "application/vnd.plotly.v1+json": {
       "config": {
        "plotlyServerURL": "https://plot.ly"
       },
       "data": [
        {
         "error_y": {
          "array": [
           1.590466183562944,
           1.4153220128013642,
           0.8639507720578992,
           0.6551788503740923,
           1.9098396341777164,
           1.333387821004064,
           0.9996554663831656,
           0.12229687318905502,
           0.5582484827994261,
           0.6744111910750168,
           1.328934522837352,
           0.9322798534233743,
           0.684976434614532,
           0.3261903361975036,
           1.6379924449020504,
           0.7667293009099616,
           1.7709254895958448,
           1.7350106064150133,
           1.14277398052582,
           0.02989996749133894,
           1.734759600898999,
           0.16470538813396263,
           0.7897229789382911,
           1.6381201062001935,
           0.03501317870075815
          ]
         },
         "hoverlabel": {
          "namelength": 0
         },
         "hovertemplate": "type=1<br>x=%{x}<br>y=%{y}",
         "legendgroup": "type=1",
         "marker": {
          "color": "#636efa",
          "symbol": "circle"
         },
         "mode": "markers",
         "name": "type=1",
         "showlegend": true,
         "type": "scatter",
         "x": [
          -0.8573970671886828,
          -0.6907304005220161,
          -0.5240637338553495,
          -0.3573970671886828,
          -0.19073040052201629,
          -0.024063733855349545,
          0.1426029328113172,
          0.3092695994779837,
          0.47593626614465045,
          0.6426029328113172,
          0.8092695994779837,
          0.9759362661446505,
          1.1426029328113172,
          1.3092695994779837,
          1.4759362661446502,
          1.6426029328113172,
          1.8092695994779837,
          1.9759362661446502,
          2.142602932811317,
          2.3092695994779837,
          2.4759362661446502,
          2.642602932811317,
          2.8092695994779837,
          2.9759362661446502,
          3.142602932811317
         ],
         "xaxis": "x",
         "y": [
          -6.857397067188683,
          -6.690730400522016,
          -6.52406373385535,
          -6.357397067188683,
          -6.190730400522016,
          -6.02406373385535,
          -5.857397067188683,
          -5.690730400522016,
          -5.52406373385535,
          -5.357397067188683,
          -5.190730400522016,
          -5.02406373385535,
          -4.857397067188683,
          -4.690730400522016,
          -4.52406373385535,
          -4.357397067188683,
          -4.190730400522016,
          -4.02406373385535,
          -3.857397067188683,
          -3.6907304005220163,
          -3.5240637338553498,
          -3.357397067188683,
          -3.1907304005220163,
          -3.0240637338553498,
          -2.857397067188683
         ],
         "yaxis": "y"
        },
        {
         "hoverlabel": {
          "namelength": 0
         },
         "hovertemplate": "<b>OLS trendline</b><br>y = 1.000000 * x + -6.000000<br>R<sup>2</sup>=1.000000<br><br>type=1<br>x=%{x}<br>y=%{y} <b>(trend)</b>",
         "legendgroup": "type=1",
         "marker": {
          "color": "#636efa",
          "symbol": "circle"
         },
         "mode": "lines",
         "name": "type=1",
         "showlegend": false,
         "type": "scatter",
         "x": [
          -0.8573970671886828,
          -0.6907304005220161,
          -0.5240637338553495,
          -0.3573970671886828,
          -0.19073040052201629,
          -0.024063733855349545,
          0.1426029328113172,
          0.3092695994779837,
          0.47593626614465045,
          0.6426029328113172,
          0.8092695994779837,
          0.9759362661446505,
          1.1426029328113172,
          1.3092695994779837,
          1.4759362661446502,
          1.6426029328113172,
          1.8092695994779837,
          1.9759362661446502,
          2.142602932811317,
          2.3092695994779837,
          2.4759362661446502,
          2.642602932811317,
          2.8092695994779837,
          2.9759362661446502,
          3.142602932811317
         ],
         "xaxis": "x",
         "y": [
          -6.85739706718868,
          -6.690730400522014,
          -6.524063733855347,
          -6.357397067188681,
          -6.190730400522014,
          -6.024063733855348,
          -5.857397067188681,
          -5.690730400522015,
          -5.524063733855348,
          -5.357397067188682,
          -5.190730400522015,
          -5.024063733855348,
          -4.857397067188682,
          -4.690730400522016,
          -4.524063733855349,
          -4.357397067188682,
          -4.190730400522016,
          -4.02406373385535,
          -3.8573970671886824,
          -3.690730400522016,
          -3.5240637338553498,
          -3.357397067188683,
          -3.1907304005220163,
          -3.0240637338553498,
          -2.8573970671886832
         ],
         "yaxis": "y"
        },
        {
         "error_y": {
          "array": [
           0.7305145258508625,
           1.2552539407794505,
           0.8351668869611848,
           1.474456606600599,
           1.3556196396100315,
           1.1881370919048855,
           1.3960484649292857,
           1.1080580981044041,
           0.19333308171012153,
           1.4366746278788536,
           1.4063495315565342,
           1.3093785477868116,
           1.36714016691782,
           1.1334861470461506,
           1.1006426284845665,
           1.3472923870507703,
           1.5888237664956595,
           1.0450854688394062,
           0.9665950166833741,
           0.3333940458433886,
           0.9022697779384614,
           1.1711366394692342,
           0.22178523673858042,
           0.7277557222188487,
           1.359514076697816
          ]
         },
         "hoverlabel": {
          "namelength": 0
         },
         "hovertemplate": "type=2<br>x=%{x}<br>y=%{y}",
         "legendgroup": "type=2",
         "marker": {
          "color": "#EF553B",
          "symbol": "circle"
         },
         "mode": "markers",
         "name": "type=2",
         "showlegend": true,
         "type": "scatter",
         "x": [
          -2.725009559243732,
          -2.475009559243732,
          -2.225009559243732,
          -1.9750095592437318,
          -1.7250095592437318,
          -1.4750095592437318,
          -1.2250095592437318,
          -0.9750095592437318,
          -0.7250095592437318,
          -0.4750095592437318,
          -0.22500955924373178,
          0.024990440756268217,
          0.2749904407562682,
          0.5249904407562682,
          0.7749904407562682,
          1.0249904407562682,
          1.2749904407562682,
          1.5249904407562682,
          1.7749904407562682,
          2.024990440756268,
          2.274990440756268,
          2.524990440756268,
          2.774990440756268,
          3.024990440756268,
          3.274990440756268
         ],
         "xaxis": "x",
         "y": [
          -17.235041075824732,
          -12.161097544705644,
          -8.015282598302955,
          -4.703846236616666,
          -2.1330384596467757,
          -0.2091092673932855,
          1.1616913401438058,
          2.0731133629644978,
          2.61890680106879,
          2.8928216544566827,
          2.9886079231281766,
          3.0000156070832706,
          3.0207947063219653,
          3.1446952208442607,
          3.4654671506501566,
          4.076860495739653,
          5.07262525611275,
          6.5465114317694475,
          8.592269022709747,
          11.303648028933644,
          14.774398450441144,
          19.098270287232243,
          24.369013539306945,
          30.680378206665246,
          38.12611428930715
         ],
         "yaxis": "y"
        },
        {
         "hoverlabel": {
          "namelength": 0
         },
         "hovertemplate": "<b>OLS trendline</b><br>y = 6.064359 * x + 4.034311<br>R<sup>2</sup>=0.818318<br><br>type=2<br>x=%{x}<br>y=%{y} <b>(trend)</b>",
         "legendgroup": "type=2",
         "marker": {
          "color": "#EF553B",
          "symbol": "circle"
         },
         "mode": "lines",
         "name": "type=2",
         "showlegend": false,
         "type": "scatter",
         "x": [
          -2.725009559243732,
          -2.475009559243732,
          -2.225009559243732,
          -1.9750095592437318,
          -1.7250095592437318,
          -1.4750095592437318,
          -1.2250095592437318,
          -0.9750095592437318,
          -0.7250095592437318,
          -0.4750095592437318,
          -0.22500955924373178,
          0.024990440756268217,
          0.2749904407562682,
          0.5249904407562682,
          0.7749904407562682,
          1.0249904407562682,
          1.2749904407562682,
          1.5249904407562682,
          1.7749904407562682,
          2.024990440756268,
          2.274990440756268,
          2.524990440756268,
          2.774990440756268,
          3.024990440756268,
          3.274990440756268
         ],
         "xaxis": "x",
         "y": [
          -12.49112617887036,
          -10.975036371989864,
          -9.458946565109368,
          -7.942856758228874,
          -6.4267669513483785,
          -4.9106771444678845,
          -3.3945873375873887,
          -1.8784975307068938,
          -0.36240772382639896,
          1.153682083054096,
          2.669771889934591,
          4.185861696815086,
          5.701951503695581,
          7.2180413105760755,
          8.73413111745657,
          10.250220924337064,
          11.76631073121756,
          13.282400538098054,
          14.79849034497855,
          16.314580151859044,
          17.83066995873954,
          19.346759765620035,
          20.86284957250053,
          22.378939379381023,
          23.895029186261517
         ],
         "yaxis": "y"
        }
       ],
       "layout": {
        "legend": {
         "tracegroupgap": 0
        },
        "template": {
         "data": {
          "bar": [
           {
            "error_x": {
             "color": "#2a3f5f"
            },
            "error_y": {
             "color": "#2a3f5f"
            },
            "marker": {
             "line": {
              "color": "#E5ECF6",
              "width": 0.5
             }
            },
            "type": "bar"
           }
          ],
          "barpolar": [
           {
            "marker": {
             "line": {
              "color": "#E5ECF6",
              "width": 0.5
             }
            },
            "type": "barpolar"
           }
          ],
          "carpet": [
           {
            "aaxis": {
             "endlinecolor": "#2a3f5f",
             "gridcolor": "white",
             "linecolor": "white",
             "minorgridcolor": "white",
             "startlinecolor": "#2a3f5f"
            },
            "baxis": {
             "endlinecolor": "#2a3f5f",
             "gridcolor": "white",
             "linecolor": "white",
             "minorgridcolor": "white",
             "startlinecolor": "#2a3f5f"
            },
            "type": "carpet"
           }
          ],
          "choropleth": [
           {
            "colorbar": {
             "outlinewidth": 0,
             "ticks": ""
            },
            "type": "choropleth"
           }
          ],
          "contour": [
           {
            "colorbar": {
             "outlinewidth": 0,
             "ticks": ""
            },
            "colorscale": [
             [
              0,
              "#0d0887"
             ],
             [
              0.1111111111111111,
              "#46039f"
             ],
             [
              0.2222222222222222,
              "#7201a8"
             ],
             [
              0.3333333333333333,
              "#9c179e"
             ],
             [
              0.4444444444444444,
              "#bd3786"
             ],
             [
              0.5555555555555556,
              "#d8576b"
             ],
             [
              0.6666666666666666,
              "#ed7953"
             ],
             [
              0.7777777777777778,
              "#fb9f3a"
             ],
             [
              0.8888888888888888,
              "#fdca26"
             ],
             [
              1,
              "#f0f921"
             ]
            ],
            "type": "contour"
           }
          ],
          "contourcarpet": [
           {
            "colorbar": {
             "outlinewidth": 0,
             "ticks": ""
            },
            "type": "contourcarpet"
           }
          ],
          "heatmap": [
           {
            "colorbar": {
             "outlinewidth": 0,
             "ticks": ""
            },
            "colorscale": [
             [
              0,
              "#0d0887"
             ],
             [
              0.1111111111111111,
              "#46039f"
             ],
             [
              0.2222222222222222,
              "#7201a8"
             ],
             [
              0.3333333333333333,
              "#9c179e"
             ],
             [
              0.4444444444444444,
              "#bd3786"
             ],
             [
              0.5555555555555556,
              "#d8576b"
             ],
             [
              0.6666666666666666,
              "#ed7953"
             ],
             [
              0.7777777777777778,
              "#fb9f3a"
             ],
             [
              0.8888888888888888,
              "#fdca26"
             ],
             [
              1,
              "#f0f921"
             ]
            ],
            "type": "heatmap"
           }
          ],
          "heatmapgl": [
           {
            "colorbar": {
             "outlinewidth": 0,
             "ticks": ""
            },
            "colorscale": [
             [
              0,
              "#0d0887"
             ],
             [
              0.1111111111111111,
              "#46039f"
             ],
             [
              0.2222222222222222,
              "#7201a8"
             ],
             [
              0.3333333333333333,
              "#9c179e"
             ],
             [
              0.4444444444444444,
              "#bd3786"
             ],
             [
              0.5555555555555556,
              "#d8576b"
             ],
             [
              0.6666666666666666,
              "#ed7953"
             ],
             [
              0.7777777777777778,
              "#fb9f3a"
             ],
             [
              0.8888888888888888,
              "#fdca26"
             ],
             [
              1,
              "#f0f921"
             ]
            ],
            "type": "heatmapgl"
           }
          ],
          "histogram": [
           {
            "marker": {
             "colorbar": {
              "outlinewidth": 0,
              "ticks": ""
             }
            },
            "type": "histogram"
           }
          ],
          "histogram2d": [
           {
            "colorbar": {
             "outlinewidth": 0,
             "ticks": ""
            },
            "colorscale": [
             [
              0,
              "#0d0887"
             ],
             [
              0.1111111111111111,
              "#46039f"
             ],
             [
              0.2222222222222222,
              "#7201a8"
             ],
             [
              0.3333333333333333,
              "#9c179e"
             ],
             [
              0.4444444444444444,
              "#bd3786"
             ],
             [
              0.5555555555555556,
              "#d8576b"
             ],
             [
              0.6666666666666666,
              "#ed7953"
             ],
             [
              0.7777777777777778,
              "#fb9f3a"
             ],
             [
              0.8888888888888888,
              "#fdca26"
             ],
             [
              1,
              "#f0f921"
             ]
            ],
            "type": "histogram2d"
           }
          ],
          "histogram2dcontour": [
           {
            "colorbar": {
             "outlinewidth": 0,
             "ticks": ""
            },
            "colorscale": [
             [
              0,
              "#0d0887"
             ],
             [
              0.1111111111111111,
              "#46039f"
             ],
             [
              0.2222222222222222,
              "#7201a8"
             ],
             [
              0.3333333333333333,
              "#9c179e"
             ],
             [
              0.4444444444444444,
              "#bd3786"
             ],
             [
              0.5555555555555556,
              "#d8576b"
             ],
             [
              0.6666666666666666,
              "#ed7953"
             ],
             [
              0.7777777777777778,
              "#fb9f3a"
             ],
             [
              0.8888888888888888,
              "#fdca26"
             ],
             [
              1,
              "#f0f921"
             ]
            ],
            "type": "histogram2dcontour"
           }
          ],
          "mesh3d": [
           {
            "colorbar": {
             "outlinewidth": 0,
             "ticks": ""
            },
            "type": "mesh3d"
           }
          ],
          "parcoords": [
           {
            "line": {
             "colorbar": {
              "outlinewidth": 0,
              "ticks": ""
             }
            },
            "type": "parcoords"
           }
          ],
          "pie": [
           {
            "automargin": true,
            "type": "pie"
           }
          ],
          "scatter": [
           {
            "marker": {
             "colorbar": {
              "outlinewidth": 0,
              "ticks": ""
             }
            },
            "type": "scatter"
           }
          ],
          "scatter3d": [
           {
            "line": {
             "colorbar": {
              "outlinewidth": 0,
              "ticks": ""
             }
            },
            "marker": {
             "colorbar": {
              "outlinewidth": 0,
              "ticks": ""
             }
            },
            "type": "scatter3d"
           }
          ],
          "scattercarpet": [
           {
            "marker": {
             "colorbar": {
              "outlinewidth": 0,
              "ticks": ""
             }
            },
            "type": "scattercarpet"
           }
          ],
          "scattergeo": [
           {
            "marker": {
             "colorbar": {
              "outlinewidth": 0,
              "ticks": ""
             }
            },
            "type": "scattergeo"
           }
          ],
          "scattergl": [
           {
            "marker": {
             "colorbar": {
              "outlinewidth": 0,
              "ticks": ""
             }
            },
            "type": "scattergl"
           }
          ],
          "scattermapbox": [
           {
            "marker": {
             "colorbar": {
              "outlinewidth": 0,
              "ticks": ""
             }
            },
            "type": "scattermapbox"
           }
          ],
          "scatterpolar": [
           {
            "marker": {
             "colorbar": {
              "outlinewidth": 0,
              "ticks": ""
             }
            },
            "type": "scatterpolar"
           }
          ],
          "scatterpolargl": [
           {
            "marker": {
             "colorbar": {
              "outlinewidth": 0,
              "ticks": ""
             }
            },
            "type": "scatterpolargl"
           }
          ],
          "scatterternary": [
           {
            "marker": {
             "colorbar": {
              "outlinewidth": 0,
              "ticks": ""
             }
            },
            "type": "scatterternary"
           }
          ],
          "surface": [
           {
            "colorbar": {
             "outlinewidth": 0,
             "ticks": ""
            },
            "colorscale": [
             [
              0,
              "#0d0887"
             ],
             [
              0.1111111111111111,
              "#46039f"
             ],
             [
              0.2222222222222222,
              "#7201a8"
             ],
             [
              0.3333333333333333,
              "#9c179e"
             ],
             [
              0.4444444444444444,
              "#bd3786"
             ],
             [
              0.5555555555555556,
              "#d8576b"
             ],
             [
              0.6666666666666666,
              "#ed7953"
             ],
             [
              0.7777777777777778,
              "#fb9f3a"
             ],
             [
              0.8888888888888888,
              "#fdca26"
             ],
             [
              1,
              "#f0f921"
             ]
            ],
            "type": "surface"
           }
          ],
          "table": [
           {
            "cells": {
             "fill": {
              "color": "#EBF0F8"
             },
             "line": {
              "color": "white"
             }
            },
            "header": {
             "fill": {
              "color": "#C8D4E3"
             },
             "line": {
              "color": "white"
             }
            },
            "type": "table"
           }
          ]
         },
         "layout": {
          "annotationdefaults": {
           "arrowcolor": "#2a3f5f",
           "arrowhead": 0,
           "arrowwidth": 1
          },
          "coloraxis": {
           "colorbar": {
            "outlinewidth": 0,
            "ticks": ""
           }
          },
          "colorscale": {
           "diverging": [
            [
             0,
             "#8e0152"
            ],
            [
             0.1,
             "#c51b7d"
            ],
            [
             0.2,
             "#de77ae"
            ],
            [
             0.3,
             "#f1b6da"
            ],
            [
             0.4,
             "#fde0ef"
            ],
            [
             0.5,
             "#f7f7f7"
            ],
            [
             0.6,
             "#e6f5d0"
            ],
            [
             0.7,
             "#b8e186"
            ],
            [
             0.8,
             "#7fbc41"
            ],
            [
             0.9,
             "#4d9221"
            ],
            [
             1,
             "#276419"
            ]
           ],
           "sequential": [
            [
             0,
             "#0d0887"
            ],
            [
             0.1111111111111111,
             "#46039f"
            ],
            [
             0.2222222222222222,
             "#7201a8"
            ],
            [
             0.3333333333333333,
             "#9c179e"
            ],
            [
             0.4444444444444444,
             "#bd3786"
            ],
            [
             0.5555555555555556,
             "#d8576b"
            ],
            [
             0.6666666666666666,
             "#ed7953"
            ],
            [
             0.7777777777777778,
             "#fb9f3a"
            ],
            [
             0.8888888888888888,
             "#fdca26"
            ],
            [
             1,
             "#f0f921"
            ]
           ],
           "sequentialminus": [
            [
             0,
             "#0d0887"
            ],
            [
             0.1111111111111111,
             "#46039f"
            ],
            [
             0.2222222222222222,
             "#7201a8"
            ],
            [
             0.3333333333333333,
             "#9c179e"
            ],
            [
             0.4444444444444444,
             "#bd3786"
            ],
            [
             0.5555555555555556,
             "#d8576b"
            ],
            [
             0.6666666666666666,
             "#ed7953"
            ],
            [
             0.7777777777777778,
             "#fb9f3a"
            ],
            [
             0.8888888888888888,
             "#fdca26"
            ],
            [
             1,
             "#f0f921"
            ]
           ]
          },
          "colorway": [
           "#636efa",
           "#EF553B",
           "#00cc96",
           "#ab63fa",
           "#FFA15A",
           "#19d3f3",
           "#FF6692",
           "#B6E880",
           "#FF97FF",
           "#FECB52"
          ],
          "font": {
           "color": "#2a3f5f"
          },
          "geo": {
           "bgcolor": "white",
           "lakecolor": "white",
           "landcolor": "#E5ECF6",
           "showlakes": true,
           "showland": true,
           "subunitcolor": "white"
          },
          "hoverlabel": {
           "align": "left"
          },
          "hovermode": "closest",
          "mapbox": {
           "style": "light"
          },
          "paper_bgcolor": "white",
          "plot_bgcolor": "#E5ECF6",
          "polar": {
           "angularaxis": {
            "gridcolor": "white",
            "linecolor": "white",
            "ticks": ""
           },
           "bgcolor": "#E5ECF6",
           "radialaxis": {
            "gridcolor": "white",
            "linecolor": "white",
            "ticks": ""
           }
          },
          "scene": {
           "xaxis": {
            "backgroundcolor": "#E5ECF6",
            "gridcolor": "white",
            "gridwidth": 2,
            "linecolor": "white",
            "showbackground": true,
            "ticks": "",
            "zerolinecolor": "white"
           },
           "yaxis": {
            "backgroundcolor": "#E5ECF6",
            "gridcolor": "white",
            "gridwidth": 2,
            "linecolor": "white",
            "showbackground": true,
            "ticks": "",
            "zerolinecolor": "white"
           },
           "zaxis": {
            "backgroundcolor": "#E5ECF6",
            "gridcolor": "white",
            "gridwidth": 2,
            "linecolor": "white",
            "showbackground": true,
            "ticks": "",
            "zerolinecolor": "white"
           }
          },
          "shapedefaults": {
           "line": {
            "color": "#2a3f5f"
           }
          },
          "ternary": {
           "aaxis": {
            "gridcolor": "white",
            "linecolor": "white",
            "ticks": ""
           },
           "baxis": {
            "gridcolor": "white",
            "linecolor": "white",
            "ticks": ""
           },
           "bgcolor": "#E5ECF6",
           "caxis": {
            "gridcolor": "white",
            "linecolor": "white",
            "ticks": ""
           }
          },
          "title": {
           "x": 0.05
          },
          "xaxis": {
           "automargin": true,
           "gridcolor": "white",
           "linecolor": "white",
           "ticks": "",
           "title": {
            "standoff": 15
           },
           "zerolinecolor": "white",
           "zerolinewidth": 2
          },
          "yaxis": {
           "automargin": true,
           "gridcolor": "white",
           "linecolor": "white",
           "ticks": "",
           "title": {
            "standoff": 15
           },
           "zerolinecolor": "white",
           "zerolinewidth": 2
          }
         }
        },
        "title": {
         "text": "example_1"
        },
        "xaxis": {
         "anchor": "y",
         "domain": [
          0,
          1
         ],
         "title": {
          "text": "x"
         }
        },
        "yaxis": {
         "anchor": "x",
         "domain": [
          0,
          1
         ],
         "title": {
          "text": "y"
         }
        }
       }
      }
     },
     "metadata": {},
     "output_type": "display_data"
    }
   ],
   "source": [
    "fig = px.scatter(data,x='x', y='y', color=\"type\",error_y='err', title = 'example_1', trendline = 'ols')\n",
    "fig.show()"
   ]
  },
  {
   "cell_type": "markdown",
   "execution_count": 76,
   "metadata": {},
   "outputs": [
    {
     "ename": "SyntaxError",
     "evalue": "invalid syntax (<ipython-input-76-8693776cf515>, line 1)",
     "output_type": "error",
     "traceback": [
      "\u001b[0;36m  File \u001b[0;32m\"<ipython-input-76-8693776cf515>\"\u001b[0;36m, line \u001b[0;32m1\u001b[0m\n\u001b[0;31m    Пояснение к примеру\u001b[0m\n\u001b[0m              ^\u001b[0m\n\u001b[0;31mSyntaxError\u001b[0m\u001b[0;31m:\u001b[0m invalid syntax\n"
     ]
    }
   ],
   "source": [
    "Пояснение к примеру:\n",
    "\n",
    "1. `data` - текущий data frame с которым мы рабоатем.\n",
    "2. `x,y` - данные, которые мы строим. Можно,как указать названия столбцов текущего Data frame, так и указать Series или Array\n",
    "3. `color` - название колонки, по которой разделеть данные на категории, в нашем это 1,2 (обратите внимание, что как строки). Аналогично работает symbol (только разные категории, отилчаются разными символами) \n",
    "4. `title` - название графика\n",
    "5. `trendline` - апроксимация, значение аргумента - метод апроксимации.\n",
    "\n",
    "[Более подробно](https://plot.ly/python-api-reference/generated/plotly.express.scatter.html#plotly.express.scatter)\n",
    "\n"
   ]
  },
  {
   "cell_type": "markdown",
   "execution_count": null,
   "metadata": {},
   "outputs": [],
   "source": [
    "### Полный вид\n",
    "Построем то же, самоое через полную версию.\n",
    "\n"
   ]
  },
  {
   "cell_type": "code",
   "execution_count": 89,
   "metadata": {},
   "outputs": [
    {
     "data": {
      "application/vnd.plotly.v1+json": {
       "config": {
        "plotlyServerURL": "https://plot.ly"
       },
       "data": [
        {
         "mode": "markers",
         "name": "x",
         "type": "scatter",
         "x": [
          -0.8573970671886828,
          -0.6907304005220161,
          -0.5240637338553495,
          -0.3573970671886828,
          -0.19073040052201629,
          -0.024063733855349545,
          0.1426029328113172,
          0.3092695994779837,
          0.47593626614465045,
          0.6426029328113172,
          0.8092695994779837,
          0.9759362661446505,
          1.1426029328113172,
          1.3092695994779837,
          1.4759362661446502,
          1.6426029328113172,
          1.8092695994779837,
          1.9759362661446502,
          2.142602932811317,
          2.3092695994779837,
          2.4759362661446502,
          2.642602932811317,
          2.8092695994779837,
          2.9759362661446502,
          3.142602932811317
         ],
         "y": [
          -6.857397067188683,
          -6.690730400522016,
          -6.52406373385535,
          -6.357397067188683,
          -6.190730400522016,
          -6.02406373385535,
          -5.857397067188683,
          -5.690730400522016,
          -5.52406373385535,
          -5.357397067188683,
          -5.190730400522016,
          -5.02406373385535,
          -4.857397067188683,
          -4.690730400522016,
          -4.52406373385535,
          -4.357397067188683,
          -4.190730400522016,
          -4.02406373385535,
          -3.857397067188683,
          -3.6907304005220163,
          -3.5240637338553498,
          -3.357397067188683,
          -3.1907304005220163,
          -3.0240637338553498,
          -2.857397067188683
         ]
        },
        {
         "error_x": {
          "color": "purple",
          "type": "constant",
          "value": 0.2
         },
         "mode": "markers",
         "name": "$x^2$",
         "type": "scatter",
         "x": [
          -2.725009559243732,
          -2.475009559243732,
          -2.225009559243732,
          -1.9750095592437318,
          -1.7250095592437318,
          -1.4750095592437318,
          -1.2250095592437318,
          -0.9750095592437318,
          -0.7250095592437318,
          -0.4750095592437318,
          -0.22500955924373178,
          0.024990440756268217,
          0.2749904407562682,
          0.5249904407562682,
          0.7749904407562682,
          1.0249904407562682,
          1.2749904407562682,
          1.5249904407562682,
          1.7749904407562682,
          2.024990440756268,
          2.274990440756268,
          2.524990440756268,
          2.774990440756268,
          3.024990440756268,
          3.274990440756268
         ],
         "y": [
          -17.235041075824732,
          -12.161097544705644,
          -8.015282598302955,
          -4.703846236616666,
          -2.1330384596467757,
          -0.2091092673932855,
          1.1616913401438058,
          2.0731133629644978,
          2.61890680106879,
          2.8928216544566827,
          2.9886079231281766,
          3.0000156070832706,
          3.0207947063219653,
          3.1446952208442607,
          3.4654671506501566,
          4.076860495739653,
          5.07262525611275,
          6.5465114317694475,
          8.592269022709747,
          11.303648028933644,
          14.774398450441144,
          19.098270287232243,
          24.369013539306945,
          30.680378206665246,
          38.12611428930715
         ]
        }
       ],
       "layout": {
        "template": {
         "data": {
          "bar": [
           {
            "error_x": {
             "color": "#2a3f5f"
            },
            "error_y": {
             "color": "#2a3f5f"
            },
            "marker": {
             "line": {
              "color": "#E5ECF6",
              "width": 0.5
             }
            },
            "type": "bar"
           }
          ],
          "barpolar": [
           {
            "marker": {
             "line": {
              "color": "#E5ECF6",
              "width": 0.5
             }
            },
            "type": "barpolar"
           }
          ],
          "carpet": [
           {
            "aaxis": {
             "endlinecolor": "#2a3f5f",
             "gridcolor": "white",
             "linecolor": "white",
             "minorgridcolor": "white",
             "startlinecolor": "#2a3f5f"
            },
            "baxis": {
             "endlinecolor": "#2a3f5f",
             "gridcolor": "white",
             "linecolor": "white",
             "minorgridcolor": "white",
             "startlinecolor": "#2a3f5f"
            },
            "type": "carpet"
           }
          ],
          "choropleth": [
           {
            "colorbar": {
             "outlinewidth": 0,
             "ticks": ""
            },
            "type": "choropleth"
           }
          ],
          "contour": [
           {
            "colorbar": {
             "outlinewidth": 0,
             "ticks": ""
            },
            "colorscale": [
             [
              0,
              "#0d0887"
             ],
             [
              0.1111111111111111,
              "#46039f"
             ],
             [
              0.2222222222222222,
              "#7201a8"
             ],
             [
              0.3333333333333333,
              "#9c179e"
             ],
             [
              0.4444444444444444,
              "#bd3786"
             ],
             [
              0.5555555555555556,
              "#d8576b"
             ],
             [
              0.6666666666666666,
              "#ed7953"
             ],
             [
              0.7777777777777778,
              "#fb9f3a"
             ],
             [
              0.8888888888888888,
              "#fdca26"
             ],
             [
              1,
              "#f0f921"
             ]
            ],
            "type": "contour"
           }
          ],
          "contourcarpet": [
           {
            "colorbar": {
             "outlinewidth": 0,
             "ticks": ""
            },
            "type": "contourcarpet"
           }
          ],
          "heatmap": [
           {
            "colorbar": {
             "outlinewidth": 0,
             "ticks": ""
            },
            "colorscale": [
             [
              0,
              "#0d0887"
             ],
             [
              0.1111111111111111,
              "#46039f"
             ],
             [
              0.2222222222222222,
              "#7201a8"
             ],
             [
              0.3333333333333333,
              "#9c179e"
             ],
             [
              0.4444444444444444,
              "#bd3786"
             ],
             [
              0.5555555555555556,
              "#d8576b"
             ],
             [
              0.6666666666666666,
              "#ed7953"
             ],
             [
              0.7777777777777778,
              "#fb9f3a"
             ],
             [
              0.8888888888888888,
              "#fdca26"
             ],
             [
              1,
              "#f0f921"
             ]
            ],
            "type": "heatmap"
           }
          ],
          "heatmapgl": [
           {
            "colorbar": {
             "outlinewidth": 0,
             "ticks": ""
            },
            "colorscale": [
             [
              0,
              "#0d0887"
             ],
             [
              0.1111111111111111,
              "#46039f"
             ],
             [
              0.2222222222222222,
              "#7201a8"
             ],
             [
              0.3333333333333333,
              "#9c179e"
             ],
             [
              0.4444444444444444,
              "#bd3786"
             ],
             [
              0.5555555555555556,
              "#d8576b"
             ],
             [
              0.6666666666666666,
              "#ed7953"
             ],
             [
              0.7777777777777778,
              "#fb9f3a"
             ],
             [
              0.8888888888888888,
              "#fdca26"
             ],
             [
              1,
              "#f0f921"
             ]
            ],
            "type": "heatmapgl"
           }
          ],
          "histogram": [
           {
            "marker": {
             "colorbar": {
              "outlinewidth": 0,
              "ticks": ""
             }
            },
            "type": "histogram"
           }
          ],
          "histogram2d": [
           {
            "colorbar": {
             "outlinewidth": 0,
             "ticks": ""
            },
            "colorscale": [
             [
              0,
              "#0d0887"
             ],
             [
              0.1111111111111111,
              "#46039f"
             ],
             [
              0.2222222222222222,
              "#7201a8"
             ],
             [
              0.3333333333333333,
              "#9c179e"
             ],
             [
              0.4444444444444444,
              "#bd3786"
             ],
             [
              0.5555555555555556,
              "#d8576b"
             ],
             [
              0.6666666666666666,
              "#ed7953"
             ],
             [
              0.7777777777777778,
              "#fb9f3a"
             ],
             [
              0.8888888888888888,
              "#fdca26"
             ],
             [
              1,
              "#f0f921"
             ]
            ],
            "type": "histogram2d"
           }
          ],
          "histogram2dcontour": [
           {
            "colorbar": {
             "outlinewidth": 0,
             "ticks": ""
            },
            "colorscale": [
             [
              0,
              "#0d0887"
             ],
             [
              0.1111111111111111,
              "#46039f"
             ],
             [
              0.2222222222222222,
              "#7201a8"
             ],
             [
              0.3333333333333333,
              "#9c179e"
             ],
             [
              0.4444444444444444,
              "#bd3786"
             ],
             [
              0.5555555555555556,
              "#d8576b"
             ],
             [
              0.6666666666666666,
              "#ed7953"
             ],
             [
              0.7777777777777778,
              "#fb9f3a"
             ],
             [
              0.8888888888888888,
              "#fdca26"
             ],
             [
              1,
              "#f0f921"
             ]
            ],
            "type": "histogram2dcontour"
           }
          ],
          "mesh3d": [
           {
            "colorbar": {
             "outlinewidth": 0,
             "ticks": ""
            },
            "type": "mesh3d"
           }
          ],
          "parcoords": [
           {
            "line": {
             "colorbar": {
              "outlinewidth": 0,
              "ticks": ""
             }
            },
            "type": "parcoords"
           }
          ],
          "pie": [
           {
            "automargin": true,
            "type": "pie"
           }
          ],
          "scatter": [
           {
            "marker": {
             "colorbar": {
              "outlinewidth": 0,
              "ticks": ""
             }
            },
            "type": "scatter"
           }
          ],
          "scatter3d": [
           {
            "line": {
             "colorbar": {
              "outlinewidth": 0,
              "ticks": ""
             }
            },
            "marker": {
             "colorbar": {
              "outlinewidth": 0,
              "ticks": ""
             }
            },
            "type": "scatter3d"
           }
          ],
          "scattercarpet": [
           {
            "marker": {
             "colorbar": {
              "outlinewidth": 0,
              "ticks": ""
             }
            },
            "type": "scattercarpet"
           }
          ],
          "scattergeo": [
           {
            "marker": {
             "colorbar": {
              "outlinewidth": 0,
              "ticks": ""
             }
            },
            "type": "scattergeo"
           }
          ],
          "scattergl": [
           {
            "marker": {
             "colorbar": {
              "outlinewidth": 0,
              "ticks": ""
             }
            },
            "type": "scattergl"
           }
          ],
          "scattermapbox": [
           {
            "marker": {
             "colorbar": {
              "outlinewidth": 0,
              "ticks": ""
             }
            },
            "type": "scattermapbox"
           }
          ],
          "scatterpolar": [
           {
            "marker": {
             "colorbar": {
              "outlinewidth": 0,
              "ticks": ""
             }
            },
            "type": "scatterpolar"
           }
          ],
          "scatterpolargl": [
           {
            "marker": {
             "colorbar": {
              "outlinewidth": 0,
              "ticks": ""
             }
            },
            "type": "scatterpolargl"
           }
          ],
          "scatterternary": [
           {
            "marker": {
             "colorbar": {
              "outlinewidth": 0,
              "ticks": ""
             }
            },
            "type": "scatterternary"
           }
          ],
          "surface": [
           {
            "colorbar": {
             "outlinewidth": 0,
             "ticks": ""
            },
            "colorscale": [
             [
              0,
              "#0d0887"
             ],
             [
              0.1111111111111111,
              "#46039f"
             ],
             [
              0.2222222222222222,
              "#7201a8"
             ],
             [
              0.3333333333333333,
              "#9c179e"
             ],
             [
              0.4444444444444444,
              "#bd3786"
             ],
             [
              0.5555555555555556,
              "#d8576b"
             ],
             [
              0.6666666666666666,
              "#ed7953"
             ],
             [
              0.7777777777777778,
              "#fb9f3a"
             ],
             [
              0.8888888888888888,
              "#fdca26"
             ],
             [
              1,
              "#f0f921"
             ]
            ],
            "type": "surface"
           }
          ],
          "table": [
           {
            "cells": {
             "fill": {
              "color": "#EBF0F8"
             },
             "line": {
              "color": "white"
             }
            },
            "header": {
             "fill": {
              "color": "#C8D4E3"
             },
             "line": {
              "color": "white"
             }
            },
            "type": "table"
           }
          ]
         },
         "layout": {
          "annotationdefaults": {
           "arrowcolor": "#2a3f5f",
           "arrowhead": 0,
           "arrowwidth": 1
          },
          "coloraxis": {
           "colorbar": {
            "outlinewidth": 0,
            "ticks": ""
           }
          },
          "colorscale": {
           "diverging": [
            [
             0,
             "#8e0152"
            ],
            [
             0.1,
             "#c51b7d"
            ],
            [
             0.2,
             "#de77ae"
            ],
            [
             0.3,
             "#f1b6da"
            ],
            [
             0.4,
             "#fde0ef"
            ],
            [
             0.5,
             "#f7f7f7"
            ],
            [
             0.6,
             "#e6f5d0"
            ],
            [
             0.7,
             "#b8e186"
            ],
            [
             0.8,
             "#7fbc41"
            ],
            [
             0.9,
             "#4d9221"
            ],
            [
             1,
             "#276419"
            ]
           ],
           "sequential": [
            [
             0,
             "#0d0887"
            ],
            [
             0.1111111111111111,
             "#46039f"
            ],
            [
             0.2222222222222222,
             "#7201a8"
            ],
            [
             0.3333333333333333,
             "#9c179e"
            ],
            [
             0.4444444444444444,
             "#bd3786"
            ],
            [
             0.5555555555555556,
             "#d8576b"
            ],
            [
             0.6666666666666666,
             "#ed7953"
            ],
            [
             0.7777777777777778,
             "#fb9f3a"
            ],
            [
             0.8888888888888888,
             "#fdca26"
            ],
            [
             1,
             "#f0f921"
            ]
           ],
           "sequentialminus": [
            [
             0,
             "#0d0887"
            ],
            [
             0.1111111111111111,
             "#46039f"
            ],
            [
             0.2222222222222222,
             "#7201a8"
            ],
            [
             0.3333333333333333,
             "#9c179e"
            ],
            [
             0.4444444444444444,
             "#bd3786"
            ],
            [
             0.5555555555555556,
             "#d8576b"
            ],
            [
             0.6666666666666666,
             "#ed7953"
            ],
            [
             0.7777777777777778,
             "#fb9f3a"
            ],
            [
             0.8888888888888888,
             "#fdca26"
            ],
            [
             1,
             "#f0f921"
            ]
           ]
          },
          "colorway": [
           "#636efa",
           "#EF553B",
           "#00cc96",
           "#ab63fa",
           "#FFA15A",
           "#19d3f3",
           "#FF6692",
           "#B6E880",
           "#FF97FF",
           "#FECB52"
          ],
          "font": {
           "color": "#2a3f5f"
          },
          "geo": {
           "bgcolor": "white",
           "lakecolor": "white",
           "landcolor": "#E5ECF6",
           "showlakes": true,
           "showland": true,
           "subunitcolor": "white"
          },
          "hoverlabel": {
           "align": "left"
          },
          "hovermode": "closest",
          "mapbox": {
           "style": "light"
          },
          "paper_bgcolor": "white",
          "plot_bgcolor": "#E5ECF6",
          "polar": {
           "angularaxis": {
            "gridcolor": "white",
            "linecolor": "white",
            "ticks": ""
           },
           "bgcolor": "#E5ECF6",
           "radialaxis": {
            "gridcolor": "white",
            "linecolor": "white",
            "ticks": ""
           }
          },
          "scene": {
           "xaxis": {
            "backgroundcolor": "#E5ECF6",
            "gridcolor": "white",
            "gridwidth": 2,
            "linecolor": "white",
            "showbackground": true,
            "ticks": "",
            "zerolinecolor": "white"
           },
           "yaxis": {
            "backgroundcolor": "#E5ECF6",
            "gridcolor": "white",
            "gridwidth": 2,
            "linecolor": "white",
            "showbackground": true,
            "ticks": "",
            "zerolinecolor": "white"
           },
           "zaxis": {
            "backgroundcolor": "#E5ECF6",
            "gridcolor": "white",
            "gridwidth": 2,
            "linecolor": "white",
            "showbackground": true,
            "ticks": "",
            "zerolinecolor": "white"
           }
          },
          "shapedefaults": {
           "line": {
            "color": "#2a3f5f"
           }
          },
          "ternary": {
           "aaxis": {
            "gridcolor": "white",
            "linecolor": "white",
            "ticks": ""
           },
           "baxis": {
            "gridcolor": "white",
            "linecolor": "white",
            "ticks": ""
           },
           "bgcolor": "#E5ECF6",
           "caxis": {
            "gridcolor": "white",
            "linecolor": "white",
            "ticks": ""
           }
          },
          "title": {
           "x": 0.05
          },
          "xaxis": {
           "automargin": true,
           "gridcolor": "white",
           "linecolor": "white",
           "ticks": "",
           "title": {
            "standoff": 15
           },
           "zerolinecolor": "white",
           "zerolinewidth": 2
          },
          "yaxis": {
           "automargin": true,
           "gridcolor": "white",
           "linecolor": "white",
           "ticks": "",
           "title": {
            "standoff": 15
           },
           "zerolinecolor": "white",
           "zerolinewidth": 2
          }
         }
        }
       }
      }
     },
     "metadata": {},
     "output_type": "display_data"
    }
   ],
   "source": [
    "import plotly.graph_objects as go\n",
    "\n",
    "fig = go.Figure()\n",
    "\n",
    "# Add traces\n",
    "fig.add_trace(go.Scatter(x=data['x'][0:25], y=data['y'][0:25],\n",
    "                    mode='markers',\n",
    "                    name='x'))\n",
    "fig.add_trace(go.Scatter(x=data['x'][25:50], y=data['y'][25:50],\n",
    "                    mode='markers',\n",
    "                    name='$x^2$',\n",
    "                    error_x = dict(\n",
    "                        type='constant',value=0.2,\n",
    "                        color='purple')))\n",
    "fig.show()"
   ]
  },
  {
   "cell_type": "markdown",
   "execution_count": 78,
   "metadata": {},
   "outputs": [
    {
     "data": {
      "text/plain": "25   -2.72501\n26   -2.47501\n27   -2.22501\n28   -1.97501\n29   -1.72501\n30   -1.47501\n31   -1.22501\n32   -0.97501\n33   -0.72501\n34   -0.47501\n35   -0.22501\n36    0.02499\n37    0.27499\n38    0.52499\n39    0.77499\n40    1.02499\n41    1.27499\n42    1.52499\n43    1.77499\n44    2.02499\n45    2.27499\n46    2.52499\n47    2.77499\n48    3.02499\n49    3.27499\nName: x, dtype: float64"
     },
     "execution_count": 78,
     "metadata": {},
     "output_type": "execute_result"
    }
   ],
   "source": [
    "Пояснения:\n",
    "\n",
    "1. go.Scatter - добавление на `fig`, точек типа Scatter. Тоесть точек от x и y.\n",
    "\n",
    "2. Параметры: \n",
    "* x,y - данные (Series, Array like)\n",
    "* mode - просто точки, просто линии, точки + линии\n",
    "* \n",
    " \n",
    "Как видно из данного примера в полоном режиме доступно больше возможностей для настройки,но и код получается более длинным. "
   ]
  },
  {
   "cell_type": "code",
   "execution_count": 128,
   "metadata": {},
   "outputs": [
    {
     "data": {
      "application/vnd.plotly.v1+json": {
       "config": {
        "plotlyServerURL": "https://plot.ly"
       },
       "data": [
        {
         "marker": {
          "symbol": "cross"
         },
         "mode": "markers",
         "name": "$x^2$",
         "type": "scatter",
         "x": [
          -0.8573970671886828,
          -0.6907304005220161,
          -0.5240637338553495,
          -0.3573970671886828,
          -0.19073040052201629,
          -0.024063733855349545,
          0.1426029328113172,
          0.3092695994779837,
          0.47593626614465045,
          0.6426029328113172,
          0.8092695994779837,
          0.9759362661446505,
          1.1426029328113172,
          1.3092695994779837,
          1.4759362661446502,
          1.6426029328113172,
          1.8092695994779837,
          1.9759362661446502,
          2.142602932811317,
          2.3092695994779837,
          2.4759362661446502,
          2.642602932811317,
          2.8092695994779837,
          2.9759362661446502,
          3.142602932811317,
          -2.725009559243732,
          -2.475009559243732,
          -2.225009559243732,
          -1.9750095592437318,
          -1.7250095592437318,
          -1.4750095592437318,
          -1.2250095592437318,
          -0.9750095592437318,
          -0.7250095592437318,
          -0.4750095592437318,
          -0.22500955924373178,
          0.024990440756268217,
          0.2749904407562682,
          0.5249904407562682,
          0.7749904407562682,
          1.0249904407562682,
          1.2749904407562682,
          1.5249904407562682,
          1.7749904407562682,
          2.024990440756268,
          2.274990440756268,
          2.524990440756268,
          2.774990440756268,
          3.024990440756268,
          3.274990440756268
         ],
         "y": [
          -6.857397067188683,
          -6.690730400522016,
          -6.52406373385535,
          -6.357397067188683,
          -6.190730400522016,
          -6.02406373385535,
          -5.857397067188683,
          -5.690730400522016,
          -5.52406373385535,
          -5.357397067188683,
          -5.190730400522016,
          -5.02406373385535,
          -4.857397067188683,
          -4.690730400522016,
          -4.52406373385535,
          -4.357397067188683,
          -4.190730400522016,
          -4.02406373385535,
          -3.857397067188683,
          -3.6907304005220163,
          -3.5240637338553498,
          -3.357397067188683,
          -3.1907304005220163,
          -3.0240637338553498,
          -2.857397067188683,
          -17.235041075824732,
          -12.161097544705644,
          -8.015282598302955,
          -4.703846236616666,
          -2.1330384596467757,
          -0.2091092673932855,
          1.1616913401438058,
          2.0731133629644978,
          2.61890680106879,
          2.8928216544566827,
          2.9886079231281766,
          3.0000156070832706,
          3.0207947063219653,
          3.1446952208442607,
          3.4654671506501566,
          4.076860495739653,
          5.07262525611275,
          6.5465114317694475,
          8.592269022709747,
          11.303648028933644,
          14.774398450441144,
          19.098270287232243,
          24.369013539306945,
          30.680378206665246,
          38.12611428930715
         ]
        }
       ],
       "layout": {
        "template": {
         "data": {
          "bar": [
           {
            "error_x": {
             "color": "#2a3f5f"
            },
            "error_y": {
             "color": "#2a3f5f"
            },
            "marker": {
             "line": {
              "color": "#E5ECF6",
              "width": 0.5
             }
            },
            "type": "bar"
           }
          ],
          "barpolar": [
           {
            "marker": {
             "line": {
              "color": "#E5ECF6",
              "width": 0.5
             }
            },
            "type": "barpolar"
           }
          ],
          "carpet": [
           {
            "aaxis": {
             "endlinecolor": "#2a3f5f",
             "gridcolor": "white",
             "linecolor": "white",
             "minorgridcolor": "white",
             "startlinecolor": "#2a3f5f"
            },
            "baxis": {
             "endlinecolor": "#2a3f5f",
             "gridcolor": "white",
             "linecolor": "white",
             "minorgridcolor": "white",
             "startlinecolor": "#2a3f5f"
            },
            "type": "carpet"
           }
          ],
          "choropleth": [
           {
            "colorbar": {
             "outlinewidth": 0,
             "ticks": ""
            },
            "type": "choropleth"
           }
          ],
          "contour": [
           {
            "colorbar": {
             "outlinewidth": 0,
             "ticks": ""
            },
            "colorscale": [
             [
              0,
              "#0d0887"
             ],
             [
              0.1111111111111111,
              "#46039f"
             ],
             [
              0.2222222222222222,
              "#7201a8"
             ],
             [
              0.3333333333333333,
              "#9c179e"
             ],
             [
              0.4444444444444444,
              "#bd3786"
             ],
             [
              0.5555555555555556,
              "#d8576b"
             ],
             [
              0.6666666666666666,
              "#ed7953"
             ],
             [
              0.7777777777777778,
              "#fb9f3a"
             ],
             [
              0.8888888888888888,
              "#fdca26"
             ],
             [
              1,
              "#f0f921"
             ]
            ],
            "type": "contour"
           }
          ],
          "contourcarpet": [
           {
            "colorbar": {
             "outlinewidth": 0,
             "ticks": ""
            },
            "type": "contourcarpet"
           }
          ],
          "heatmap": [
           {
            "colorbar": {
             "outlinewidth": 0,
             "ticks": ""
            },
            "colorscale": [
             [
              0,
              "#0d0887"
             ],
             [
              0.1111111111111111,
              "#46039f"
             ],
             [
              0.2222222222222222,
              "#7201a8"
             ],
             [
              0.3333333333333333,
              "#9c179e"
             ],
             [
              0.4444444444444444,
              "#bd3786"
             ],
             [
              0.5555555555555556,
              "#d8576b"
             ],
             [
              0.6666666666666666,
              "#ed7953"
             ],
             [
              0.7777777777777778,
              "#fb9f3a"
             ],
             [
              0.8888888888888888,
              "#fdca26"
             ],
             [
              1,
              "#f0f921"
             ]
            ],
            "type": "heatmap"
           }
          ],
          "heatmapgl": [
           {
            "colorbar": {
             "outlinewidth": 0,
             "ticks": ""
            },
            "colorscale": [
             [
              0,
              "#0d0887"
             ],
             [
              0.1111111111111111,
              "#46039f"
             ],
             [
              0.2222222222222222,
              "#7201a8"
             ],
             [
              0.3333333333333333,
              "#9c179e"
             ],
             [
              0.4444444444444444,
              "#bd3786"
             ],
             [
              0.5555555555555556,
              "#d8576b"
             ],
             [
              0.6666666666666666,
              "#ed7953"
             ],
             [
              0.7777777777777778,
              "#fb9f3a"
             ],
             [
              0.8888888888888888,
              "#fdca26"
             ],
             [
              1,
              "#f0f921"
             ]
            ],
            "type": "heatmapgl"
           }
          ],
          "histogram": [
           {
            "marker": {
             "colorbar": {
              "outlinewidth": 0,
              "ticks": ""
             }
            },
            "type": "histogram"
           }
          ],
          "histogram2d": [
           {
            "colorbar": {
             "outlinewidth": 0,
             "ticks": ""
            },
            "colorscale": [
             [
              0,
              "#0d0887"
             ],
             [
              0.1111111111111111,
              "#46039f"
             ],
             [
              0.2222222222222222,
              "#7201a8"
             ],
             [
              0.3333333333333333,
              "#9c179e"
             ],
             [
              0.4444444444444444,
              "#bd3786"
             ],
             [
              0.5555555555555556,
              "#d8576b"
             ],
             [
              0.6666666666666666,
              "#ed7953"
             ],
             [
              0.7777777777777778,
              "#fb9f3a"
             ],
             [
              0.8888888888888888,
              "#fdca26"
             ],
             [
              1,
              "#f0f921"
             ]
            ],
            "type": "histogram2d"
           }
          ],
          "histogram2dcontour": [
           {
            "colorbar": {
             "outlinewidth": 0,
             "ticks": ""
            },
            "colorscale": [
             [
              0,
              "#0d0887"
             ],
             [
              0.1111111111111111,
              "#46039f"
             ],
             [
              0.2222222222222222,
              "#7201a8"
             ],
             [
              0.3333333333333333,
              "#9c179e"
             ],
             [
              0.4444444444444444,
              "#bd3786"
             ],
             [
              0.5555555555555556,
              "#d8576b"
             ],
             [
              0.6666666666666666,
              "#ed7953"
             ],
             [
              0.7777777777777778,
              "#fb9f3a"
             ],
             [
              0.8888888888888888,
              "#fdca26"
             ],
             [
              1,
              "#f0f921"
             ]
            ],
            "type": "histogram2dcontour"
           }
          ],
          "mesh3d": [
           {
            "colorbar": {
             "outlinewidth": 0,
             "ticks": ""
            },
            "type": "mesh3d"
           }
          ],
          "parcoords": [
           {
            "line": {
             "colorbar": {
              "outlinewidth": 0,
              "ticks": ""
             }
            },
            "type": "parcoords"
           }
          ],
          "pie": [
           {
            "automargin": true,
            "type": "pie"
           }
          ],
          "scatter": [
           {
            "marker": {
             "colorbar": {
              "outlinewidth": 0,
              "ticks": ""
             }
            },
            "type": "scatter"
           }
          ],
          "scatter3d": [
           {
            "line": {
             "colorbar": {
              "outlinewidth": 0,
              "ticks": ""
             }
            },
            "marker": {
             "colorbar": {
              "outlinewidth": 0,
              "ticks": ""
             }
            },
            "type": "scatter3d"
           }
          ],
          "scattercarpet": [
           {
            "marker": {
             "colorbar": {
              "outlinewidth": 0,
              "ticks": ""
             }
            },
            "type": "scattercarpet"
           }
          ],
          "scattergeo": [
           {
            "marker": {
             "colorbar": {
              "outlinewidth": 0,
              "ticks": ""
             }
            },
            "type": "scattergeo"
           }
          ],
          "scattergl": [
           {
            "marker": {
             "colorbar": {
              "outlinewidth": 0,
              "ticks": ""
             }
            },
            "type": "scattergl"
           }
          ],
          "scattermapbox": [
           {
            "marker": {
             "colorbar": {
              "outlinewidth": 0,
              "ticks": ""
             }
            },
            "type": "scattermapbox"
           }
          ],
          "scatterpolar": [
           {
            "marker": {
             "colorbar": {
              "outlinewidth": 0,
              "ticks": ""
             }
            },
            "type": "scatterpolar"
           }
          ],
          "scatterpolargl": [
           {
            "marker": {
             "colorbar": {
              "outlinewidth": 0,
              "ticks": ""
             }
            },
            "type": "scatterpolargl"
           }
          ],
          "scatterternary": [
           {
            "marker": {
             "colorbar": {
              "outlinewidth": 0,
              "ticks": ""
             }
            },
            "type": "scatterternary"
           }
          ],
          "surface": [
           {
            "colorbar": {
             "outlinewidth": 0,
             "ticks": ""
            },
            "colorscale": [
             [
              0,
              "#0d0887"
             ],
             [
              0.1111111111111111,
              "#46039f"
             ],
             [
              0.2222222222222222,
              "#7201a8"
             ],
             [
              0.3333333333333333,
              "#9c179e"
             ],
             [
              0.4444444444444444,
              "#bd3786"
             ],
             [
              0.5555555555555556,
              "#d8576b"
             ],
             [
              0.6666666666666666,
              "#ed7953"
             ],
             [
              0.7777777777777778,
              "#fb9f3a"
             ],
             [
              0.8888888888888888,
              "#fdca26"
             ],
             [
              1,
              "#f0f921"
             ]
            ],
            "type": "surface"
           }
          ],
          "table": [
           {
            "cells": {
             "fill": {
              "color": "#EBF0F8"
             },
             "line": {
              "color": "white"
             }
            },
            "header": {
             "fill": {
              "color": "#C8D4E3"
             },
             "line": {
              "color": "white"
             }
            },
            "type": "table"
           }
          ]
         },
         "layout": {
          "annotationdefaults": {
           "arrowcolor": "#2a3f5f",
           "arrowhead": 0,
           "arrowwidth": 1
          },
          "coloraxis": {
           "colorbar": {
            "outlinewidth": 0,
            "ticks": ""
           }
          },
          "colorscale": {
           "diverging": [
            [
             0,
             "#8e0152"
            ],
            [
             0.1,
             "#c51b7d"
            ],
            [
             0.2,
             "#de77ae"
            ],
            [
             0.3,
             "#f1b6da"
            ],
            [
             0.4,
             "#fde0ef"
            ],
            [
             0.5,
             "#f7f7f7"
            ],
            [
             0.6,
             "#e6f5d0"
            ],
            [
             0.7,
             "#b8e186"
            ],
            [
             0.8,
             "#7fbc41"
            ],
            [
             0.9,
             "#4d9221"
            ],
            [
             1,
             "#276419"
            ]
           ],
           "sequential": [
            [
             0,
             "#0d0887"
            ],
            [
             0.1111111111111111,
             "#46039f"
            ],
            [
             0.2222222222222222,
             "#7201a8"
            ],
            [
             0.3333333333333333,
             "#9c179e"
            ],
            [
             0.4444444444444444,
             "#bd3786"
            ],
            [
             0.5555555555555556,
             "#d8576b"
            ],
            [
             0.6666666666666666,
             "#ed7953"
            ],
            [
             0.7777777777777778,
             "#fb9f3a"
            ],
            [
             0.8888888888888888,
             "#fdca26"
            ],
            [
             1,
             "#f0f921"
            ]
           ],
           "sequentialminus": [
            [
             0,
             "#0d0887"
            ],
            [
             0.1111111111111111,
             "#46039f"
            ],
            [
             0.2222222222222222,
             "#7201a8"
            ],
            [
             0.3333333333333333,
             "#9c179e"
            ],
            [
             0.4444444444444444,
             "#bd3786"
            ],
            [
             0.5555555555555556,
             "#d8576b"
            ],
            [
             0.6666666666666666,
             "#ed7953"
            ],
            [
             0.7777777777777778,
             "#fb9f3a"
            ],
            [
             0.8888888888888888,
             "#fdca26"
            ],
            [
             1,
             "#f0f921"
            ]
           ]
          },
          "colorway": [
           "#636efa",
           "#EF553B",
           "#00cc96",
           "#ab63fa",
           "#FFA15A",
           "#19d3f3",
           "#FF6692",
           "#B6E880",
           "#FF97FF",
           "#FECB52"
          ],
          "font": {
           "color": "#2a3f5f"
          },
          "geo": {
           "bgcolor": "white",
           "lakecolor": "white",
           "landcolor": "#E5ECF6",
           "showlakes": true,
           "showland": true,
           "subunitcolor": "white"
          },
          "hoverlabel": {
           "align": "left"
          },
          "hovermode": "closest",
          "mapbox": {
           "style": "light"
          },
          "paper_bgcolor": "white",
          "plot_bgcolor": "#E5ECF6",
          "polar": {
           "angularaxis": {
            "gridcolor": "white",
            "linecolor": "white",
            "ticks": ""
           },
           "bgcolor": "#E5ECF6",
           "radialaxis": {
            "gridcolor": "white",
            "linecolor": "white",
            "ticks": ""
           }
          },
          "scene": {
           "xaxis": {
            "backgroundcolor": "#E5ECF6",
            "gridcolor": "white",
            "gridwidth": 2,
            "linecolor": "white",
            "showbackground": true,
            "ticks": "",
            "zerolinecolor": "white"
           },
           "yaxis": {
            "backgroundcolor": "#E5ECF6",
            "gridcolor": "white",
            "gridwidth": 2,
            "linecolor": "white",
            "showbackground": true,
            "ticks": "",
            "zerolinecolor": "white"
           },
           "zaxis": {
            "backgroundcolor": "#E5ECF6",
            "gridcolor": "white",
            "gridwidth": 2,
            "linecolor": "white",
            "showbackground": true,
            "ticks": "",
            "zerolinecolor": "white"
           }
          },
          "shapedefaults": {
           "line": {
            "color": "#2a3f5f"
           }
          },
          "ternary": {
           "aaxis": {
            "gridcolor": "white",
            "linecolor": "white",
            "ticks": ""
           },
           "baxis": {
            "gridcolor": "white",
            "linecolor": "white",
            "ticks": ""
           },
           "bgcolor": "#E5ECF6",
           "caxis": {
            "gridcolor": "white",
            "linecolor": "white",
            "ticks": ""
           }
          },
          "title": {
           "x": 0.05
          },
          "xaxis": {
           "automargin": true,
           "gridcolor": "white",
           "linecolor": "white",
           "ticks": "",
           "title": {
            "standoff": 15
           },
           "zerolinecolor": "white",
           "zerolinewidth": 2
          },
          "yaxis": {
           "automargin": true,
           "gridcolor": "white",
           "linecolor": "white",
           "ticks": "",
           "title": {
            "standoff": 15
           },
           "zerolinecolor": "white",
           "zerolinewidth": 2
          }
         }
        }
       }
      }
     },
     "metadata": {},
     "output_type": "display_data"
    }
   ],
   "source": [
    "fig = go.Figure()\n",
    "\n",
    "# Add traces\n",
    "\n",
    "fig.add_trace(go.Scatter(x=data['x'], y=data['y'],\n",
    "                    mode='markers',\n",
    "                    marker = dict(\n",
    "                        symbol = 'cross'\n",
    "                    ),\n",
    "                    name='$x^2$'))\n",
    "fig.show()"
   ]
  },
  {
   "cell_type": "markdown",
   "execution_count": null,
   "metadata": {},
   "outputs": [],
   "source": [
    "В этом примере, мы задали `symbol` посмотреть все варианты можно тут."
   ]
  }
 ]
}