{
 "nbformat": 4,
 "nbformat_minor": 2,
 "metadata": {
  "language_info": {
   "name": "python",
   "codemirror_mode": {
    "name": "ipython",
    "version": 3
   },
   "version": "3.7.6-final"
  },
  "orig_nbformat": 2,
  "file_extension": ".py",
  "mimetype": "text/x-python",
  "name": "python",
  "npconvert_exporter": "python",
  "pygments_lexer": "ipython3",
  "version": 3,
  "kernelspec": {
   "name": "python3",
   "display_name": "Python 3"
  }
 },
 "cells": [
  {
   "cell_type": "markdown",
   "execution_count": null,
   "metadata": {},
   "outputs": [],
   "source": [
    "# Введение\n",
    "В любом эксперименте важной частью, является представление данных в удобном виде. Для этого существует большое количество различных библиотек для визуализации. В этой  статье мы познакомимся с одной из новых библиотек - [Plotly](https://plot.ly/python/) \n",
    "\n",
    "Из плюсов библиотеки отмечу: \n",
    " * Отличную [документацию](https://plot.ly/python/) с большим количеством примеров. \n",
    " * Интерактивные графики (возможность узнать значение точки, выделить нужную часть и тд. И все это без дополнительного написания кода). \n",
    " * О той же компании существует проект [Dash](https://dash-gallery.plotly.host/Portal/) который позволяет строить красивую аналитку наподобии tableau.\n",
    " * Много возможностей при работе с датасетами (об этом ниже)"
   ]
  },
  {
   "cell_type": "markdown",
   "execution_count": null,
   "metadata": {},
   "outputs": [],
   "source": [
    "# Введение\n",
    "## Подготовка\n",
    "0. (необязательно) Создадим новое окружение `conda create --name visual` \n",
    "1. Активируем его `conda activate visual`\n",
    "2. Установим pandas и  numpy и Jupyter `conda install numpy pandas jupyter`\n",
    "3. Скачать датасет \"Титаник\" (добавить ссылку)\n"
   ]
  },
  {
   "cell_type": "markdown",
   "execution_count": null,
   "metadata": {},
   "outputs": [],
   "source": [
    "## Установка Plotly\n",
    "Установка Plotly достаточно сложная (не в одну строчку)\n",
    "Приведем тут, что говорит нам [документация](https://plot.ly/python/getting-started/)\n",
    "\n",
    "1. `conda install plotly` (может возникать проблема No module named 'plotly', тогда пропишите pip install plotly)\n",
    "\n",
    "2. Дальше если вы работаете\n",
    " через Jupter:\n",
    "\n",
    "`conda install notebook ipywidgets`\n",
    "\n",
    "через Jupterlab: \n",
    "```\n",
    "conda install jupyterlab\n",
    "conda install ipywidgets\n",
    "```\n",
    "\n",
    "Если через VS code ничего не надо\n",
    "\n",
    "Проверим, что все работает (создадим точки по синусу):"
   ]
  },
  {
   "cell_type": "code",
   "execution_count": 3,
   "metadata": {},
   "outputs": [
    {
     "data": {
      "application/vnd.plotly.v1+json": {
       "config": {
        "plotlyServerURL": "https://plot.ly"
       },
       "data": [
        {
         "hoverlabel": {
          "namelength": 0
         },
         "hovertemplate": "x=%{x}<br>y=%{y}",
         "legendgroup": "",
         "marker": {
          "color": "#636efa",
          "symbol": "circle"
         },
         "mode": "markers",
         "name": "",
         "showlegend": false,
         "type": "scatter",
         "x": [
          0,
          0.10101010101010101,
          0.20202020202020202,
          0.30303030303030304,
          0.40404040404040403,
          0.5050505050505051,
          0.6060606060606061,
          0.7070707070707071,
          0.8080808080808081,
          0.9090909090909091,
          1.0101010101010102,
          1.1111111111111112,
          1.2121212121212122,
          1.3131313131313131,
          1.4141414141414141,
          1.5151515151515151,
          1.6161616161616161,
          1.7171717171717171,
          1.8181818181818181,
          1.9191919191919191,
          2.0202020202020203,
          2.121212121212121,
          2.2222222222222223,
          2.323232323232323,
          2.4242424242424243,
          2.525252525252525,
          2.6262626262626263,
          2.727272727272727,
          2.8282828282828283,
          2.929292929292929,
          3.0303030303030303,
          3.131313131313131,
          3.2323232323232323,
          3.3333333333333335,
          3.4343434343434343,
          3.5353535353535355,
          3.6363636363636362,
          3.7373737373737375,
          3.8383838383838382,
          3.9393939393939394,
          4.040404040404041,
          4.141414141414141,
          4.242424242424242,
          4.343434343434343,
          4.444444444444445,
          4.545454545454545,
          4.646464646464646,
          4.747474747474747,
          4.848484848484849,
          4.94949494949495,
          5.05050505050505,
          5.151515151515151,
          5.252525252525253,
          5.353535353535354,
          5.454545454545454,
          5.555555555555555,
          5.656565656565657,
          5.757575757575758,
          5.858585858585858,
          5.959595959595959,
          6.0606060606060606,
          6.161616161616162,
          6.262626262626262,
          6.363636363636363,
          6.4646464646464645,
          6.565656565656566,
          6.666666666666667,
          6.767676767676767,
          6.8686868686868685,
          6.96969696969697,
          7.070707070707071,
          7.171717171717171,
          7.2727272727272725,
          7.373737373737374,
          7.474747474747475,
          7.575757575757575,
          7.6767676767676765,
          7.777777777777778,
          7.878787878787879,
          7.979797979797979,
          8.080808080808081,
          8.181818181818182,
          8.282828282828282,
          8.383838383838384,
          8.484848484848484,
          8.585858585858587,
          8.686868686868687,
          8.787878787878787,
          8.88888888888889,
          8.98989898989899,
          9.09090909090909,
          9.191919191919192,
          9.292929292929292,
          9.393939393939394,
          9.494949494949495,
          9.595959595959595,
          9.696969696969697,
          9.797979797979798,
          9.8989898989899,
          10
         ],
         "xaxis": "x",
         "y": [
          0,
          0.1008384202581046,
          0.2006488565226854,
          0.2984138044476411,
          0.3931366121483298,
          0.48385164043793466,
          0.5696341069089657,
          0.6496095135057065,
          0.7229625614794604,
          0.7889454628442574,
          0.8468855636029834,
          0.8961922010299563,
          0.9363627251042848,
          0.9669876227092996,
          0.9877546923600838,
          0.9984522269003895,
          0.9989711717233568,
          0.9893062365143401,
          0.9695559491823237,
          0.9399216514301312,
          0.9007054462029555,
          0.8523071179396753,
          0.7952200570230491,
          0.7300262299764464,
          0.6573902466827755,
          0.5780525851065732,
          0.4928220425889235,
          0.40256749066949654,
          0.30820901749007684,
          0.2107085480771929,
          0.11106003812412972,
          0.010279341240534697,
          -0.09060614703340773,
          -0.19056796287548539,
          -0.28858705872043244,
          -0.38366419180611233,
          -0.4748301108222395,
          -0.5611554368152017,
          -0.6417601376193878,
          -0.7158224992291902,
          -0.7825875026542022,
          -0.8413745208608701,
          -0.8915842573351402,
          -0.9327048555318336,
          -0.9643171169287783,
          -0.9860987744909296,
          -0.9978277779792126,
          -0.9993845576124357,
          -0.9907532430056771,
          -0.9720218249588334,
          -0.9433812584459996,
          -0.9051235159501367,
          -0.8576386109880517,
          -0.8014106221689697,
          -0.7370127583189134,
          -0.6651015149788224,
          -0.586409981847235,
          -0.5017403693939113,
          -0.4119558308308628,
          -0.31797166281061867,
          -0.22074597455506337,
          -0.12126992053716677,
          -0.020557596287260064,
          0.08036429967028173,
          0.18046693235991093,
          0.2787298186775573,
          0.37415123057121996,
          0.4657584070256517,
          0.5526174707464059,
          0.6338429484489058,
          0.7086067976992182,
          0.7761468482835805,
          0.8357745720522589,
          0.8868821020290788,
          0.9289484292312513,
          0.9615447140268235,
          0.9843386578838236,
          0.9970978909438748,
          0.9996923408861117,
          0.9920955589323228,
          0.9743849894755358,
          0.9467411805833543,
          0.9094459434244626,
          0.8628794793817836,
          0.8075165041395626,
          0.7439214082568444,
          0.6727425035622647,
          0.5947054140244974,
          0.510605678474283,
          0.4213006405886069,
          0.32770070881349983,
          0.23076007532505177,
          0.13146698864295842,
          0.03083367906114098,
          -0.07011396040064677,
          -0.1703468323280965,
          -0.268843125910384,
          -0.36459873365588863,
          -0.45663748763377376,
          -0.5440211108893699
         ],
         "yaxis": "y"
        }
       ],
       "layout": {
        "legend": {
         "tracegroupgap": 0
        },
        "margin": {
         "t": 60
        },
        "template": {
         "data": {
          "bar": [
           {
            "error_x": {
             "color": "#2a3f5f"
            },
            "error_y": {
             "color": "#2a3f5f"
            },
            "marker": {
             "line": {
              "color": "#E5ECF6",
              "width": 0.5
             }
            },
            "type": "bar"
           }
          ],
          "barpolar": [
           {
            "marker": {
             "line": {
              "color": "#E5ECF6",
              "width": 0.5
             }
            },
            "type": "barpolar"
           }
          ],
          "carpet": [
           {
            "aaxis": {
             "endlinecolor": "#2a3f5f",
             "gridcolor": "white",
             "linecolor": "white",
             "minorgridcolor": "white",
             "startlinecolor": "#2a3f5f"
            },
            "baxis": {
             "endlinecolor": "#2a3f5f",
             "gridcolor": "white",
             "linecolor": "white",
             "minorgridcolor": "white",
             "startlinecolor": "#2a3f5f"
            },
            "type": "carpet"
           }
          ],
          "choropleth": [
           {
            "colorbar": {
             "outlinewidth": 0,
             "ticks": ""
            },
            "type": "choropleth"
           }
          ],
          "contour": [
           {
            "colorbar": {
             "outlinewidth": 0,
             "ticks": ""
            },
            "colorscale": [
             [
              0,
              "#0d0887"
             ],
             [
              0.1111111111111111,
              "#46039f"
             ],
             [
              0.2222222222222222,
              "#7201a8"
             ],
             [
              0.3333333333333333,
              "#9c179e"
             ],
             [
              0.4444444444444444,
              "#bd3786"
             ],
             [
              0.5555555555555556,
              "#d8576b"
             ],
             [
              0.6666666666666666,
              "#ed7953"
             ],
             [
              0.7777777777777778,
              "#fb9f3a"
             ],
             [
              0.8888888888888888,
              "#fdca26"
             ],
             [
              1,
              "#f0f921"
             ]
            ],
            "type": "contour"
           }
          ],
          "contourcarpet": [
           {
            "colorbar": {
             "outlinewidth": 0,
             "ticks": ""
            },
            "type": "contourcarpet"
           }
          ],
          "heatmap": [
           {
            "colorbar": {
             "outlinewidth": 0,
             "ticks": ""
            },
            "colorscale": [
             [
              0,
              "#0d0887"
             ],
             [
              0.1111111111111111,
              "#46039f"
             ],
             [
              0.2222222222222222,
              "#7201a8"
             ],
             [
              0.3333333333333333,
              "#9c179e"
             ],
             [
              0.4444444444444444,
              "#bd3786"
             ],
             [
              0.5555555555555556,
              "#d8576b"
             ],
             [
              0.6666666666666666,
              "#ed7953"
             ],
             [
              0.7777777777777778,
              "#fb9f3a"
             ],
             [
              0.8888888888888888,
              "#fdca26"
             ],
             [
              1,
              "#f0f921"
             ]
            ],
            "type": "heatmap"
           }
          ],
          "heatmapgl": [
           {
            "colorbar": {
             "outlinewidth": 0,
             "ticks": ""
            },
            "colorscale": [
             [
              0,
              "#0d0887"
             ],
             [
              0.1111111111111111,
              "#46039f"
             ],
             [
              0.2222222222222222,
              "#7201a8"
             ],
             [
              0.3333333333333333,
              "#9c179e"
             ],
             [
              0.4444444444444444,
              "#bd3786"
             ],
             [
              0.5555555555555556,
              "#d8576b"
             ],
             [
              0.6666666666666666,
              "#ed7953"
             ],
             [
              0.7777777777777778,
              "#fb9f3a"
             ],
             [
              0.8888888888888888,
              "#fdca26"
             ],
             [
              1,
              "#f0f921"
             ]
            ],
            "type": "heatmapgl"
           }
          ],
          "histogram": [
           {
            "marker": {
             "colorbar": {
              "outlinewidth": 0,
              "ticks": ""
             }
            },
            "type": "histogram"
           }
          ],
          "histogram2d": [
           {
            "colorbar": {
             "outlinewidth": 0,
             "ticks": ""
            },
            "colorscale": [
             [
              0,
              "#0d0887"
             ],
             [
              0.1111111111111111,
              "#46039f"
             ],
             [
              0.2222222222222222,
              "#7201a8"
             ],
             [
              0.3333333333333333,
              "#9c179e"
             ],
             [
              0.4444444444444444,
              "#bd3786"
             ],
             [
              0.5555555555555556,
              "#d8576b"
             ],
             [
              0.6666666666666666,
              "#ed7953"
             ],
             [
              0.7777777777777778,
              "#fb9f3a"
             ],
             [
              0.8888888888888888,
              "#fdca26"
             ],
             [
              1,
              "#f0f921"
             ]
            ],
            "type": "histogram2d"
           }
          ],
          "histogram2dcontour": [
           {
            "colorbar": {
             "outlinewidth": 0,
             "ticks": ""
            },
            "colorscale": [
             [
              0,
              "#0d0887"
             ],
             [
              0.1111111111111111,
              "#46039f"
             ],
             [
              0.2222222222222222,
              "#7201a8"
             ],
             [
              0.3333333333333333,
              "#9c179e"
             ],
             [
              0.4444444444444444,
              "#bd3786"
             ],
             [
              0.5555555555555556,
              "#d8576b"
             ],
             [
              0.6666666666666666,
              "#ed7953"
             ],
             [
              0.7777777777777778,
              "#fb9f3a"
             ],
             [
              0.8888888888888888,
              "#fdca26"
             ],
             [
              1,
              "#f0f921"
             ]
            ],
            "type": "histogram2dcontour"
           }
          ],
          "mesh3d": [
           {
            "colorbar": {
             "outlinewidth": 0,
             "ticks": ""
            },
            "type": "mesh3d"
           }
          ],
          "parcoords": [
           {
            "line": {
             "colorbar": {
              "outlinewidth": 0,
              "ticks": ""
             }
            },
            "type": "parcoords"
           }
          ],
          "pie": [
           {
            "automargin": true,
            "type": "pie"
           }
          ],
          "scatter": [
           {
            "marker": {
             "colorbar": {
              "outlinewidth": 0,
              "ticks": ""
             }
            },
            "type": "scatter"
           }
          ],
          "scatter3d": [
           {
            "line": {
             "colorbar": {
              "outlinewidth": 0,
              "ticks": ""
             }
            },
            "marker": {
             "colorbar": {
              "outlinewidth": 0,
              "ticks": ""
             }
            },
            "type": "scatter3d"
           }
          ],
          "scattercarpet": [
           {
            "marker": {
             "colorbar": {
              "outlinewidth": 0,
              "ticks": ""
             }
            },
            "type": "scattercarpet"
           }
          ],
          "scattergeo": [
           {
            "marker": {
             "colorbar": {
              "outlinewidth": 0,
              "ticks": ""
             }
            },
            "type": "scattergeo"
           }
          ],
          "scattergl": [
           {
            "marker": {
             "colorbar": {
              "outlinewidth": 0,
              "ticks": ""
             }
            },
            "type": "scattergl"
           }
          ],
          "scattermapbox": [
           {
            "marker": {
             "colorbar": {
              "outlinewidth": 0,
              "ticks": ""
             }
            },
            "type": "scattermapbox"
           }
          ],
          "scatterpolar": [
           {
            "marker": {
             "colorbar": {
              "outlinewidth": 0,
              "ticks": ""
             }
            },
            "type": "scatterpolar"
           }
          ],
          "scatterpolargl": [
           {
            "marker": {
             "colorbar": {
              "outlinewidth": 0,
              "ticks": ""
             }
            },
            "type": "scatterpolargl"
           }
          ],
          "scatterternary": [
           {
            "marker": {
             "colorbar": {
              "outlinewidth": 0,
              "ticks": ""
             }
            },
            "type": "scatterternary"
           }
          ],
          "surface": [
           {
            "colorbar": {
             "outlinewidth": 0,
             "ticks": ""
            },
            "colorscale": [
             [
              0,
              "#0d0887"
             ],
             [
              0.1111111111111111,
              "#46039f"
             ],
             [
              0.2222222222222222,
              "#7201a8"
             ],
             [
              0.3333333333333333,
              "#9c179e"
             ],
             [
              0.4444444444444444,
              "#bd3786"
             ],
             [
              0.5555555555555556,
              "#d8576b"
             ],
             [
              0.6666666666666666,
              "#ed7953"
             ],
             [
              0.7777777777777778,
              "#fb9f3a"
             ],
             [
              0.8888888888888888,
              "#fdca26"
             ],
             [
              1,
              "#f0f921"
             ]
            ],
            "type": "surface"
           }
          ],
          "table": [
           {
            "cells": {
             "fill": {
              "color": "#EBF0F8"
             },
             "line": {
              "color": "white"
             }
            },
            "header": {
             "fill": {
              "color": "#C8D4E3"
             },
             "line": {
              "color": "white"
             }
            },
            "type": "table"
           }
          ]
         },
         "layout": {
          "annotationdefaults": {
           "arrowcolor": "#2a3f5f",
           "arrowhead": 0,
           "arrowwidth": 1
          },
          "coloraxis": {
           "colorbar": {
            "outlinewidth": 0,
            "ticks": ""
           }
          },
          "colorscale": {
           "diverging": [
            [
             0,
             "#8e0152"
            ],
            [
             0.1,
             "#c51b7d"
            ],
            [
             0.2,
             "#de77ae"
            ],
            [
             0.3,
             "#f1b6da"
            ],
            [
             0.4,
             "#fde0ef"
            ],
            [
             0.5,
             "#f7f7f7"
            ],
            [
             0.6,
             "#e6f5d0"
            ],
            [
             0.7,
             "#b8e186"
            ],
            [
             0.8,
             "#7fbc41"
            ],
            [
             0.9,
             "#4d9221"
            ],
            [
             1,
             "#276419"
            ]
           ],
           "sequential": [
            [
             0,
             "#0d0887"
            ],
            [
             0.1111111111111111,
             "#46039f"
            ],
            [
             0.2222222222222222,
             "#7201a8"
            ],
            [
             0.3333333333333333,
             "#9c179e"
            ],
            [
             0.4444444444444444,
             "#bd3786"
            ],
            [
             0.5555555555555556,
             "#d8576b"
            ],
            [
             0.6666666666666666,
             "#ed7953"
            ],
            [
             0.7777777777777778,
             "#fb9f3a"
            ],
            [
             0.8888888888888888,
             "#fdca26"
            ],
            [
             1,
             "#f0f921"
            ]
           ],
           "sequentialminus": [
            [
             0,
             "#0d0887"
            ],
            [
             0.1111111111111111,
             "#46039f"
            ],
            [
             0.2222222222222222,
             "#7201a8"
            ],
            [
             0.3333333333333333,
             "#9c179e"
            ],
            [
             0.4444444444444444,
             "#bd3786"
            ],
            [
             0.5555555555555556,
             "#d8576b"
            ],
            [
             0.6666666666666666,
             "#ed7953"
            ],
            [
             0.7777777777777778,
             "#fb9f3a"
            ],
            [
             0.8888888888888888,
             "#fdca26"
            ],
            [
             1,
             "#f0f921"
            ]
           ]
          },
          "colorway": [
           "#636efa",
           "#EF553B",
           "#00cc96",
           "#ab63fa",
           "#FFA15A",
           "#19d3f3",
           "#FF6692",
           "#B6E880",
           "#FF97FF",
           "#FECB52"
          ],
          "font": {
           "color": "#2a3f5f"
          },
          "geo": {
           "bgcolor": "white",
           "lakecolor": "white",
           "landcolor": "#E5ECF6",
           "showlakes": true,
           "showland": true,
           "subunitcolor": "white"
          },
          "hoverlabel": {
           "align": "left"
          },
          "hovermode": "closest",
          "mapbox": {
           "style": "light"
          },
          "paper_bgcolor": "white",
          "plot_bgcolor": "#E5ECF6",
          "polar": {
           "angularaxis": {
            "gridcolor": "white",
            "linecolor": "white",
            "ticks": ""
           },
           "bgcolor": "#E5ECF6",
           "radialaxis": {
            "gridcolor": "white",
            "linecolor": "white",
            "ticks": ""
           }
          },
          "scene": {
           "xaxis": {
            "backgroundcolor": "#E5ECF6",
            "gridcolor": "white",
            "gridwidth": 2,
            "linecolor": "white",
            "showbackground": true,
            "ticks": "",
            "zerolinecolor": "white"
           },
           "yaxis": {
            "backgroundcolor": "#E5ECF6",
            "gridcolor": "white",
            "gridwidth": 2,
            "linecolor": "white",
            "showbackground": true,
            "ticks": "",
            "zerolinecolor": "white"
           },
           "zaxis": {
            "backgroundcolor": "#E5ECF6",
            "gridcolor": "white",
            "gridwidth": 2,
            "linecolor": "white",
            "showbackground": true,
            "ticks": "",
            "zerolinecolor": "white"
           }
          },
          "shapedefaults": {
           "line": {
            "color": "#2a3f5f"
           }
          },
          "ternary": {
           "aaxis": {
            "gridcolor": "white",
            "linecolor": "white",
            "ticks": ""
           },
           "baxis": {
            "gridcolor": "white",
            "linecolor": "white",
            "ticks": ""
           },
           "bgcolor": "#E5ECF6",
           "caxis": {
            "gridcolor": "white",
            "linecolor": "white",
            "ticks": ""
           }
          },
          "title": {
           "x": 0.05
          },
          "xaxis": {
           "automargin": true,
           "gridcolor": "white",
           "linecolor": "white",
           "ticks": "",
           "title": {
            "standoff": 15
           },
           "zerolinecolor": "white",
           "zerolinewidth": 2
          },
          "yaxis": {
           "automargin": true,
           "gridcolor": "white",
           "linecolor": "white",
           "ticks": "",
           "title": {
            "standoff": 15
           },
           "zerolinecolor": "white",
           "zerolinewidth": 2
          }
         }
        },
        "xaxis": {
         "anchor": "y",
         "domain": [
          0,
          1
         ],
         "title": {
          "text": "x"
         }
        },
        "yaxis": {
         "anchor": "x",
         "domain": [
          0,
          1
         ],
         "title": {
          "text": "y"
         }
        }
       }
      }
     },
     "metadata": {},
     "output_type": "display_data"
    }
   ],
   "source": [
    "import numpy as np\n",
    "import pandas as pd\n",
    "import plotly.graph_objects as go\n",
    "import plotly.express as px\n",
    "\n",
    "x = np.linspace(0, 10, 100)\n",
    "y = np.sin(x)\n",
    "\n",
    "fig = px.scatter(x=x, y=y)\n",
    "fig.show()"
   ]
  },
  {
   "cell_type": "markdown",
   "execution_count": null,
   "metadata": {},
   "outputs": [],
   "source": [
    "## Static режим\n",
    "Также для сохранения графиков (как картинки, либо вывода в неинтерактивный режиме) необходимо прописать (в терминале): \n",
    "`conda install -c plotly plotly-orca psutil requests`\n",
    "\n",
    "В случае если не работает, рекомендую посмотреть этот [раздел](https://plot.ly/python/orca-management/), если не помогло (особенно на Mac), рекомендую проделать все дейстивия от [сюда](https://github.com/plotly/orca)\n",
    "После этого график можно отобразить в неинтерактивном режиме либо сохранить. Доступные форматы: eps, png, jpeg, pdf"
   ]
  },
  {
   "cell_type": "code",
   "execution_count": 5,
   "metadata": {},
   "outputs": [
    {
     "data": {
      "image/png": "[encoded data removed]"
     },
     "metadata": {},
     "output_type": "display_data"
    }
   ],
   "source": [
    "fig.show(renderer=\"png\")\n",
    "#fig.write_image(\"images/fig1.png\") для сохранения "
   ]
  },
  {
   "cell_type": "markdown",
   "execution_count": null,
   "metadata": {},
   "outputs": [],
   "source": [
    "# Немного теории\n",
    "## Основные объекты\n",
    "Основными объектами в Plotly являются: fig и trace. Fig это все, что будет вывести. На ней может быть и два графика:"
   ]
  },
  {
   "cell_type": "code",
   "execution_count": 13,
   "metadata": {},
   "outputs": [
    {
     "data": {
      "application/vnd.plotly.v1+json": {
       "config": {
        "plotlyServerURL": "https://plot.ly"
       },
       "data": [
        {
         "mode": "markers",
         "type": "scatter",
         "xaxis": "x",
         "y": [
          4,
          2,
          1
         ],
         "yaxis": "y"
        },
        {
         "type": "bar",
         "xaxis": "x2",
         "y": [
          2,
          1,
          3
         ],
         "yaxis": "y2"
        }
       ],
       "layout": {
        "template": {
         "data": {
          "bar": [
           {
            "error_x": {
             "color": "#2a3f5f"
            },
            "error_y": {
             "color": "#2a3f5f"
            },
            "marker": {
             "line": {
              "color": "#E5ECF6",
              "width": 0.5
             }
            },
            "type": "bar"
           }
          ],
          "barpolar": [
           {
            "marker": {
             "line": {
              "color": "#E5ECF6",
              "width": 0.5
             }
            },
            "type": "barpolar"
           }
          ],
          "carpet": [
           {
            "aaxis": {
             "endlinecolor": "#2a3f5f",
             "gridcolor": "white",
             "linecolor": "white",
             "minorgridcolor": "white",
             "startlinecolor": "#2a3f5f"
            },
            "baxis": {
             "endlinecolor": "#2a3f5f",
             "gridcolor": "white",
             "linecolor": "white",
             "minorgridcolor": "white",
             "startlinecolor": "#2a3f5f"
            },
            "type": "carpet"
           }
          ],
          "choropleth": [
           {
            "colorbar": {
             "outlinewidth": 0,
             "ticks": ""
            },
            "type": "choropleth"
           }
          ],
          "contour": [
           {
            "colorbar": {
             "outlinewidth": 0,
             "ticks": ""
            },
            "colorscale": [
             [
              0,
              "#0d0887"
             ],
             [
              0.1111111111111111,
              "#46039f"
             ],
             [
              0.2222222222222222,
              "#7201a8"
             ],
             [
              0.3333333333333333,
              "#9c179e"
             ],
             [
              0.4444444444444444,
              "#bd3786"
             ],
             [
              0.5555555555555556,
              "#d8576b"
             ],
             [
              0.6666666666666666,
              "#ed7953"
             ],
             [
              0.7777777777777778,
              "#fb9f3a"
             ],
             [
              0.8888888888888888,
              "#fdca26"
             ],
             [
              1,
              "#f0f921"
             ]
            ],
            "type": "contour"
           }
          ],
          "contourcarpet": [
           {
            "colorbar": {
             "outlinewidth": 0,
             "ticks": ""
            },
            "type": "contourcarpet"
           }
          ],
          "heatmap": [
           {
            "colorbar": {
             "outlinewidth": 0,
             "ticks": ""
            },
            "colorscale": [
             [
              0,
              "#0d0887"
             ],
             [
              0.1111111111111111,
              "#46039f"
             ],
             [
              0.2222222222222222,
              "#7201a8"
             ],
             [
              0.3333333333333333,
              "#9c179e"
             ],
             [
              0.4444444444444444,
              "#bd3786"
             ],
             [
              0.5555555555555556,
              "#d8576b"
             ],
             [
              0.6666666666666666,
              "#ed7953"
             ],
             [
              0.7777777777777778,
              "#fb9f3a"
             ],
             [
              0.8888888888888888,
              "#fdca26"
             ],
             [
              1,
              "#f0f921"
             ]
            ],
            "type": "heatmap"
           }
          ],
          "heatmapgl": [
           {
            "colorbar": {
             "outlinewidth": 0,
             "ticks": ""
            },
            "colorscale": [
             [
              0,
              "#0d0887"
             ],
             [
              0.1111111111111111,
              "#46039f"
             ],
             [
              0.2222222222222222,
              "#7201a8"
             ],
             [
              0.3333333333333333,
              "#9c179e"
             ],
             [
              0.4444444444444444,
              "#bd3786"
             ],
             [
              0.5555555555555556,
              "#d8576b"
             ],
             [
              0.6666666666666666,
              "#ed7953"
             ],
             [
              0.7777777777777778,
              "#fb9f3a"
             ],
             [
              0.8888888888888888,
              "#fdca26"
             ],
             [
              1,
              "#f0f921"
             ]
            ],
            "type": "heatmapgl"
           }
          ],
          "histogram": [
           {
            "marker": {
             "colorbar": {
              "outlinewidth": 0,
              "ticks": ""
             }
            },
            "type": "histogram"
           }
          ],
          "histogram2d": [
           {
            "colorbar": {
             "outlinewidth": 0,
             "ticks": ""
            },
            "colorscale": [
             [
              0,
              "#0d0887"
             ],
             [
              0.1111111111111111,
              "#46039f"
             ],
             [
              0.2222222222222222,
              "#7201a8"
             ],
             [
              0.3333333333333333,
              "#9c179e"
             ],
             [
              0.4444444444444444,
              "#bd3786"
             ],
             [
              0.5555555555555556,
              "#d8576b"
             ],
             [
              0.6666666666666666,
              "#ed7953"
             ],
             [
              0.7777777777777778,
              "#fb9f3a"
             ],
             [
              0.8888888888888888,
              "#fdca26"
             ],
             [
              1,
              "#f0f921"
             ]
            ],
            "type": "histogram2d"
           }
          ],
          "histogram2dcontour": [
           {
            "colorbar": {
             "outlinewidth": 0,
             "ticks": ""
            },
            "colorscale": [
             [
              0,
              "#0d0887"
             ],
             [
              0.1111111111111111,
              "#46039f"
             ],
             [
              0.2222222222222222,
              "#7201a8"
             ],
             [
              0.3333333333333333,
              "#9c179e"
             ],
             [
              0.4444444444444444,
              "#bd3786"
             ],
             [
              0.5555555555555556,
              "#d8576b"
             ],
             [
              0.6666666666666666,
              "#ed7953"
             ],
             [
              0.7777777777777778,
              "#fb9f3a"
             ],
             [
              0.8888888888888888,
              "#fdca26"
             ],
             [
              1,
              "#f0f921"
             ]
            ],
            "type": "histogram2dcontour"
           }
          ],
          "mesh3d": [
           {
            "colorbar": {
             "outlinewidth": 0,
             "ticks": ""
            },
            "type": "mesh3d"
           }
          ],
          "parcoords": [
           {
            "line": {
             "colorbar": {
              "outlinewidth": 0,
              "ticks": ""
             }
            },
            "type": "parcoords"
           }
          ],
          "pie": [
           {
            "automargin": true,
            "type": "pie"
           }
          ],
          "scatter": [
           {
            "marker": {
             "colorbar": {
              "outlinewidth": 0,
              "ticks": ""
             }
            },
            "type": "scatter"
           }
          ],
          "scatter3d": [
           {
            "line": {
             "colorbar": {
              "outlinewidth": 0,
              "ticks": ""
             }
            },
            "marker": {
             "colorbar": {
              "outlinewidth": 0,
              "ticks": ""
             }
            },
            "type": "scatter3d"
           }
          ],
          "scattercarpet": [
           {
            "marker": {
             "colorbar": {
              "outlinewidth": 0,
              "ticks": ""
             }
            },
            "type": "scattercarpet"
           }
          ],
          "scattergeo": [
           {
            "marker": {
             "colorbar": {
              "outlinewidth": 0,
              "ticks": ""
             }
            },
            "type": "scattergeo"
           }
          ],
          "scattergl": [
           {
            "marker": {
             "colorbar": {
              "outlinewidth": 0,
              "ticks": ""
             }
            },
            "type": "scattergl"
           }
          ],
          "scattermapbox": [
           {
            "marker": {
             "colorbar": {
              "outlinewidth": 0,
              "ticks": ""
             }
            },
            "type": "scattermapbox"
           }
          ],
          "scatterpolar": [
           {
            "marker": {
             "colorbar": {
              "outlinewidth": 0,
              "ticks": ""
             }
            },
            "type": "scatterpolar"
           }
          ],
          "scatterpolargl": [
           {
            "marker": {
             "colorbar": {
              "outlinewidth": 0,
              "ticks": ""
             }
            },
            "type": "scatterpolargl"
           }
          ],
          "scatterternary": [
           {
            "marker": {
             "colorbar": {
              "outlinewidth": 0,
              "ticks": ""
             }
            },
            "type": "scatterternary"
           }
          ],
          "surface": [
           {
            "colorbar": {
             "outlinewidth": 0,
             "ticks": ""
            },
            "colorscale": [
             [
              0,
              "#0d0887"
             ],
             [
              0.1111111111111111,
              "#46039f"
             ],
             [
              0.2222222222222222,
              "#7201a8"
             ],
             [
              0.3333333333333333,
              "#9c179e"
             ],
             [
              0.4444444444444444,
              "#bd3786"
             ],
             [
              0.5555555555555556,
              "#d8576b"
             ],
             [
              0.6666666666666666,
              "#ed7953"
             ],
             [
              0.7777777777777778,
              "#fb9f3a"
             ],
             [
              0.8888888888888888,
              "#fdca26"
             ],
             [
              1,
              "#f0f921"
             ]
            ],
            "type": "surface"
           }
          ],
          "table": [
           {
            "cells": {
             "fill": {
              "color": "#EBF0F8"
             },
             "line": {
              "color": "white"
             }
            },
            "header": {
             "fill": {
              "color": "#C8D4E3"
             },
             "line": {
              "color": "white"
             }
            },
            "type": "table"
           }
          ]
         },
         "layout": {
          "annotationdefaults": {
           "arrowcolor": "#2a3f5f",
           "arrowhead": 0,
           "arrowwidth": 1
          },
          "coloraxis": {
           "colorbar": {
            "outlinewidth": 0,
            "ticks": ""
           }
          },
          "colorscale": {
           "diverging": [
            [
             0,
             "#8e0152"
            ],
            [
             0.1,
             "#c51b7d"
            ],
            [
             0.2,
             "#de77ae"
            ],
            [
             0.3,
             "#f1b6da"
            ],
            [
             0.4,
             "#fde0ef"
            ],
            [
             0.5,
             "#f7f7f7"
            ],
            [
             0.6,
             "#e6f5d0"
            ],
            [
             0.7,
             "#b8e186"
            ],
            [
             0.8,
             "#7fbc41"
            ],
            [
             0.9,
             "#4d9221"
            ],
            [
             1,
             "#276419"
            ]
           ],
           "sequential": [
            [
             0,
             "#0d0887"
            ],
            [
             0.1111111111111111,
             "#46039f"
            ],
            [
             0.2222222222222222,
             "#7201a8"
            ],
            [
             0.3333333333333333,
             "#9c179e"
            ],
            [
             0.4444444444444444,
             "#bd3786"
            ],
            [
             0.5555555555555556,
             "#d8576b"
            ],
            [
             0.6666666666666666,
             "#ed7953"
            ],
            [
             0.7777777777777778,
             "#fb9f3a"
            ],
            [
             0.8888888888888888,
             "#fdca26"
            ],
            [
             1,
             "#f0f921"
            ]
           ],
           "sequentialminus": [
            [
             0,
             "#0d0887"
            ],
            [
             0.1111111111111111,
             "#46039f"
            ],
            [
             0.2222222222222222,
             "#7201a8"
            ],
            [
             0.3333333333333333,
             "#9c179e"
            ],
            [
             0.4444444444444444,
             "#bd3786"
            ],
            [
             0.5555555555555556,
             "#d8576b"
            ],
            [
             0.6666666666666666,
             "#ed7953"
            ],
            [
             0.7777777777777778,
             "#fb9f3a"
            ],
            [
             0.8888888888888888,
             "#fdca26"
            ],
            [
             1,
             "#f0f921"
            ]
           ]
          },
          "colorway": [
           "#636efa",
           "#EF553B",
           "#00cc96",
           "#ab63fa",
           "#FFA15A",
           "#19d3f3",
           "#FF6692",
           "#B6E880",
           "#FF97FF",
           "#FECB52"
          ],
          "font": {
           "color": "#2a3f5f"
          },
          "geo": {
           "bgcolor": "white",
           "lakecolor": "white",
           "landcolor": "#E5ECF6",
           "showlakes": true,
           "showland": true,
           "subunitcolor": "white"
          },
          "hoverlabel": {
           "align": "left"
          },
          "hovermode": "closest",
          "mapbox": {
           "style": "light"
          },
          "paper_bgcolor": "white",
          "plot_bgcolor": "#E5ECF6",
          "polar": {
           "angularaxis": {
            "gridcolor": "white",
            "linecolor": "white",
            "ticks": ""
           },
           "bgcolor": "#E5ECF6",
           "radialaxis": {
            "gridcolor": "white",
            "linecolor": "white",
            "ticks": ""
           }
          },
          "scene": {
           "xaxis": {
            "backgroundcolor": "#E5ECF6",
            "gridcolor": "white",
            "gridwidth": 2,
            "linecolor": "white",
            "showbackground": true,
            "ticks": "",
            "zerolinecolor": "white"
           },
           "yaxis": {
            "backgroundcolor": "#E5ECF6",
            "gridcolor": "white",
            "gridwidth": 2,
            "linecolor": "white",
            "showbackground": true,
            "ticks": "",
            "zerolinecolor": "white"
           },
           "zaxis": {
            "backgroundcolor": "#E5ECF6",
            "gridcolor": "white",
            "gridwidth": 2,
            "linecolor": "white",
            "showbackground": true,
            "ticks": "",
            "zerolinecolor": "white"
           }
          },
          "shapedefaults": {
           "line": {
            "color": "#2a3f5f"
           }
          },
          "ternary": {
           "aaxis": {
            "gridcolor": "white",
            "linecolor": "white",
            "ticks": ""
           },
           "baxis": {
            "gridcolor": "white",
            "linecolor": "white",
            "ticks": ""
           },
           "bgcolor": "#E5ECF6",
           "caxis": {
            "gridcolor": "white",
            "linecolor": "white",
            "ticks": ""
           }
          },
          "title": {
           "x": 0.05
          },
          "xaxis": {
           "automargin": true,
           "gridcolor": "white",
           "linecolor": "white",
           "ticks": "",
           "title": {
            "standoff": 15
           },
           "zerolinecolor": "white",
           "zerolinewidth": 2
          },
          "yaxis": {
           "automargin": true,
           "gridcolor": "white",
           "linecolor": "white",
           "ticks": "",
           "title": {
            "standoff": 15
           },
           "zerolinecolor": "white",
           "zerolinewidth": 2
          }
         }
        },
        "xaxis": {
         "anchor": "y",
         "domain": [
          0,
          0.45
         ]
        },
        "xaxis2": {
         "anchor": "y2",
         "domain": [
          0.55,
          1
         ]
        },
        "yaxis": {
         "anchor": "x",
         "domain": [
          0,
          1
         ]
        },
        "yaxis2": {
         "anchor": "x2",
         "domain": [
          0,
          1
         ]
        }
       }
      }
     },
     "metadata": {},
     "output_type": "display_data"
    }
   ],
   "source": [
    "from plotly.subplots import make_subplots\n",
    "fig = make_subplots(rows=1, cols=2)\n",
    "fig.add_trace(go.Scatter(y=[4, 2, 1], mode=\"markers\"), row=1, col=1)\n",
    "fig.add_trace(go.Bar(y=[2, 1, 3]), row=1, col=2)\n",
    "fig.show() "
   ]
  },
  {
   "cell_type": "markdown",
   "metadata": {},
   "source": [
    "Как видно, fig может состоять из двух частей, но это все fig. fig можно, как создать отдельно например:"
   ]
  },
  {
   "cell_type": "code",
   "execution_count": 29,
   "metadata": {},
   "outputs": [
    {
     "data": {
      "application/vnd.plotly.v1+json": {
       "config": {
        "plotlyServerURL": "https://plot.ly"
       },
       "data": [],
       "layout": {
        "autosize": false,
        "height": 500,
        "template": {
         "data": {
          "bar": [
           {
            "error_x": {
             "color": "#2a3f5f"
            },
            "error_y": {
             "color": "#2a3f5f"
            },
            "marker": {
             "line": {
              "color": "#E5ECF6",
              "width": 0.5
             }
            },
            "type": "bar"
           }
          ],
          "barpolar": [
           {
            "marker": {
             "line": {
              "color": "#E5ECF6",
              "width": 0.5
             }
            },
            "type": "barpolar"
           }
          ],
          "carpet": [
           {
            "aaxis": {
             "endlinecolor": "#2a3f5f",
             "gridcolor": "white",
             "linecolor": "white",
             "minorgridcolor": "white",
             "startlinecolor": "#2a3f5f"
            },
            "baxis": {
             "endlinecolor": "#2a3f5f",
             "gridcolor": "white",
             "linecolor": "white",
             "minorgridcolor": "white",
             "startlinecolor": "#2a3f5f"
            },
            "type": "carpet"
           }
          ],
          "choropleth": [
           {
            "colorbar": {
             "outlinewidth": 0,
             "ticks": ""
            },
            "type": "choropleth"
           }
          ],
          "contour": [
           {
            "colorbar": {
             "outlinewidth": 0,
             "ticks": ""
            },
            "colorscale": [
             [
              0,
              "#0d0887"
             ],
             [
              0.1111111111111111,
              "#46039f"
             ],
             [
              0.2222222222222222,
              "#7201a8"
             ],
             [
              0.3333333333333333,
              "#9c179e"
             ],
             [
              0.4444444444444444,
              "#bd3786"
             ],
             [
              0.5555555555555556,
              "#d8576b"
             ],
             [
              0.6666666666666666,
              "#ed7953"
             ],
             [
              0.7777777777777778,
              "#fb9f3a"
             ],
             [
              0.8888888888888888,
              "#fdca26"
             ],
             [
              1,
              "#f0f921"
             ]
            ],
            "type": "contour"
           }
          ],
          "contourcarpet": [
           {
            "colorbar": {
             "outlinewidth": 0,
             "ticks": ""
            },
            "type": "contourcarpet"
           }
          ],
          "heatmap": [
           {
            "colorbar": {
             "outlinewidth": 0,
             "ticks": ""
            },
            "colorscale": [
             [
              0,
              "#0d0887"
             ],
             [
              0.1111111111111111,
              "#46039f"
             ],
             [
              0.2222222222222222,
              "#7201a8"
             ],
             [
              0.3333333333333333,
              "#9c179e"
             ],
             [
              0.4444444444444444,
              "#bd3786"
             ],
             [
              0.5555555555555556,
              "#d8576b"
             ],
             [
              0.6666666666666666,
              "#ed7953"
             ],
             [
              0.7777777777777778,
              "#fb9f3a"
             ],
             [
              0.8888888888888888,
              "#fdca26"
             ],
             [
              1,
              "#f0f921"
             ]
            ],
            "type": "heatmap"
           }
          ],
          "heatmapgl": [
           {
            "colorbar": {
             "outlinewidth": 0,
             "ticks": ""
            },
            "colorscale": [
             [
              0,
              "#0d0887"
             ],
             [
              0.1111111111111111,
              "#46039f"
             ],
             [
              0.2222222222222222,
              "#7201a8"
             ],
             [
              0.3333333333333333,
              "#9c179e"
             ],
             [
              0.4444444444444444,
              "#bd3786"
             ],
             [
              0.5555555555555556,
              "#d8576b"
             ],
             [
              0.6666666666666666,
              "#ed7953"
             ],
             [
              0.7777777777777778,
              "#fb9f3a"
             ],
             [
              0.8888888888888888,
              "#fdca26"
             ],
             [
              1,
              "#f0f921"
             ]
            ],
            "type": "heatmapgl"
           }
          ],
          "histogram": [
           {
            "marker": {
             "colorbar": {
              "outlinewidth": 0,
              "ticks": ""
             }
            },
            "type": "histogram"
           }
          ],
          "histogram2d": [
           {
            "colorbar": {
             "outlinewidth": 0,
             "ticks": ""
            },
            "colorscale": [
             [
              0,
              "#0d0887"
             ],
             [
              0.1111111111111111,
              "#46039f"
             ],
             [
              0.2222222222222222,
              "#7201a8"
             ],
             [
              0.3333333333333333,
              "#9c179e"
             ],
             [
              0.4444444444444444,
              "#bd3786"
             ],
             [
              0.5555555555555556,
              "#d8576b"
             ],
             [
              0.6666666666666666,
              "#ed7953"
             ],
             [
              0.7777777777777778,
              "#fb9f3a"
             ],
             [
              0.8888888888888888,
              "#fdca26"
             ],
             [
              1,
              "#f0f921"
             ]
            ],
            "type": "histogram2d"
           }
          ],
          "histogram2dcontour": [
           {
            "colorbar": {
             "outlinewidth": 0,
             "ticks": ""
            },
            "colorscale": [
             [
              0,
              "#0d0887"
             ],
             [
              0.1111111111111111,
              "#46039f"
             ],
             [
              0.2222222222222222,
              "#7201a8"
             ],
             [
              0.3333333333333333,
              "#9c179e"
             ],
             [
              0.4444444444444444,
              "#bd3786"
             ],
             [
              0.5555555555555556,
              "#d8576b"
             ],
             [
              0.6666666666666666,
              "#ed7953"
             ],
             [
              0.7777777777777778,
              "#fb9f3a"
             ],
             [
              0.8888888888888888,
              "#fdca26"
             ],
             [
              1,
              "#f0f921"
             ]
            ],
            "type": "histogram2dcontour"
           }
          ],
          "mesh3d": [
           {
            "colorbar": {
             "outlinewidth": 0,
             "ticks": ""
            },
            "type": "mesh3d"
           }
          ],
          "parcoords": [
           {
            "line": {
             "colorbar": {
              "outlinewidth": 0,
              "ticks": ""
             }
            },
            "type": "parcoords"
           }
          ],
          "pie": [
           {
            "automargin": true,
            "type": "pie"
           }
          ],
          "scatter": [
           {
            "marker": {
             "colorbar": {
              "outlinewidth": 0,
              "ticks": ""
             }
            },
            "type": "scatter"
           }
          ],
          "scatter3d": [
           {
            "line": {
             "colorbar": {
              "outlinewidth": 0,
              "ticks": ""
             }
            },
            "marker": {
             "colorbar": {
              "outlinewidth": 0,
              "ticks": ""
             }
            },
            "type": "scatter3d"
           }
          ],
          "scattercarpet": [
           {
            "marker": {
             "colorbar": {
              "outlinewidth": 0,
              "ticks": ""
             }
            },
            "type": "scattercarpet"
           }
          ],
          "scattergeo": [
           {
            "marker": {
             "colorbar": {
              "outlinewidth": 0,
              "ticks": ""
             }
            },
            "type": "scattergeo"
           }
          ],
          "scattergl": [
           {
            "marker": {
             "colorbar": {
              "outlinewidth": 0,
              "ticks": ""
             }
            },
            "type": "scattergl"
           }
          ],
          "scattermapbox": [
           {
            "marker": {
             "colorbar": {
              "outlinewidth": 0,
              "ticks": ""
             }
            },
            "type": "scattermapbox"
           }
          ],
          "scatterpolar": [
           {
            "marker": {
             "colorbar": {
              "outlinewidth": 0,
              "ticks": ""
             }
            },
            "type": "scatterpolar"
           }
          ],
          "scatterpolargl": [
           {
            "marker": {
             "colorbar": {
              "outlinewidth": 0,
              "ticks": ""
             }
            },
            "type": "scatterpolargl"
           }
          ],
          "scatterternary": [
           {
            "marker": {
             "colorbar": {
              "outlinewidth": 0,
              "ticks": ""
             }
            },
            "type": "scatterternary"
           }
          ],
          "surface": [
           {
            "colorbar": {
             "outlinewidth": 0,
             "ticks": ""
            },
            "colorscale": [
             [
              0,
              "#0d0887"
             ],
             [
              0.1111111111111111,
              "#46039f"
             ],
             [
              0.2222222222222222,
              "#7201a8"
             ],
             [
              0.3333333333333333,
              "#9c179e"
             ],
             [
              0.4444444444444444,
              "#bd3786"
             ],
             [
              0.5555555555555556,
              "#d8576b"
             ],
             [
              0.6666666666666666,
              "#ed7953"
             ],
             [
              0.7777777777777778,
              "#fb9f3a"
             ],
             [
              0.8888888888888888,
              "#fdca26"
             ],
             [
              1,
              "#f0f921"
             ]
            ],
            "type": "surface"
           }
          ],
          "table": [
           {
            "cells": {
             "fill": {
              "color": "#EBF0F8"
             },
             "line": {
              "color": "white"
             }
            },
            "header": {
             "fill": {
              "color": "#C8D4E3"
             },
             "line": {
              "color": "white"
             }
            },
            "type": "table"
           }
          ]
         },
         "layout": {
          "annotationdefaults": {
           "arrowcolor": "#2a3f5f",
           "arrowhead": 0,
           "arrowwidth": 1
          },
          "coloraxis": {
           "colorbar": {
            "outlinewidth": 0,
            "ticks": ""
           }
          },
          "colorscale": {
           "diverging": [
            [
             0,
             "#8e0152"
            ],
            [
             0.1,
             "#c51b7d"
            ],
            [
             0.2,
             "#de77ae"
            ],
            [
             0.3,
             "#f1b6da"
            ],
            [
             0.4,
             "#fde0ef"
            ],
            [
             0.5,
             "#f7f7f7"
            ],
            [
             0.6,
             "#e6f5d0"
            ],
            [
             0.7,
             "#b8e186"
            ],
            [
             0.8,
             "#7fbc41"
            ],
            [
             0.9,
             "#4d9221"
            ],
            [
             1,
             "#276419"
            ]
           ],
           "sequential": [
            [
             0,
             "#0d0887"
            ],
            [
             0.1111111111111111,
             "#46039f"
            ],
            [
             0.2222222222222222,
             "#7201a8"
            ],
            [
             0.3333333333333333,
             "#9c179e"
            ],
            [
             0.4444444444444444,
             "#bd3786"
            ],
            [
             0.5555555555555556,
             "#d8576b"
            ],
            [
             0.6666666666666666,
             "#ed7953"
            ],
            [
             0.7777777777777778,
             "#fb9f3a"
            ],
            [
             0.8888888888888888,
             "#fdca26"
            ],
            [
             1,
             "#f0f921"
            ]
           ],
           "sequentialminus": [
            [
             0,
             "#0d0887"
            ],
            [
             0.1111111111111111,
             "#46039f"
            ],
            [
             0.2222222222222222,
             "#7201a8"
            ],
            [
             0.3333333333333333,
             "#9c179e"
            ],
            [
             0.4444444444444444,
             "#bd3786"
            ],
            [
             0.5555555555555556,
             "#d8576b"
            ],
            [
             0.6666666666666666,
             "#ed7953"
            ],
            [
             0.7777777777777778,
             "#fb9f3a"
            ],
            [
             0.8888888888888888,
             "#fdca26"
            ],
            [
             1,
             "#f0f921"
            ]
           ]
          },
          "colorway": [
           "#636efa",
           "#EF553B",
           "#00cc96",
           "#ab63fa",
           "#FFA15A",
           "#19d3f3",
           "#FF6692",
           "#B6E880",
           "#FF97FF",
           "#FECB52"
          ],
          "font": {
           "color": "#2a3f5f"
          },
          "geo": {
           "bgcolor": "white",
           "lakecolor": "white",
           "landcolor": "#E5ECF6",
           "showlakes": true,
           "showland": true,
           "subunitcolor": "white"
          },
          "hoverlabel": {
           "align": "left"
          },
          "hovermode": "closest",
          "mapbox": {
           "style": "light"
          },
          "paper_bgcolor": "white",
          "plot_bgcolor": "#E5ECF6",
          "polar": {
           "angularaxis": {
            "gridcolor": "white",
            "linecolor": "white",
            "ticks": ""
           },
           "bgcolor": "#E5ECF6",
           "radialaxis": {
            "gridcolor": "white",
            "linecolor": "white",
            "ticks": ""
           }
          },
          "scene": {
           "xaxis": {
            "backgroundcolor": "#E5ECF6",
            "gridcolor": "white",
            "gridwidth": 2,
            "linecolor": "white",
            "showbackground": true,
            "ticks": "",
            "zerolinecolor": "white"
           },
           "yaxis": {
            "backgroundcolor": "#E5ECF6",
            "gridcolor": "white",
            "gridwidth": 2,
            "linecolor": "white",
            "showbackground": true,
            "ticks": "",
            "zerolinecolor": "white"
           },
           "zaxis": {
            "backgroundcolor": "#E5ECF6",
            "gridcolor": "white",
            "gridwidth": 2,
            "linecolor": "white",
            "showbackground": true,
            "ticks": "",
            "zerolinecolor": "white"
           }
          },
          "shapedefaults": {
           "line": {
            "color": "#2a3f5f"
           }
          },
          "ternary": {
           "aaxis": {
            "gridcolor": "white",
            "linecolor": "white",
            "ticks": ""
           },
           "baxis": {
            "gridcolor": "white",
            "linecolor": "white",
            "ticks": ""
           },
           "bgcolor": "#E5ECF6",
           "caxis": {
            "gridcolor": "white",
            "linecolor": "white",
            "ticks": ""
           }
          },
          "title": {
           "x": 0.05
          },
          "xaxis": {
           "automargin": true,
           "gridcolor": "white",
           "linecolor": "white",
           "ticks": "",
           "title": {
            "standoff": 15
           },
           "zerolinecolor": "white",
           "zerolinewidth": 2
          },
          "yaxis": {
           "automargin": true,
           "gridcolor": "white",
           "linecolor": "white",
           "ticks": "",
           "title": {
            "standoff": 15
           },
           "zerolinecolor": "white",
           "zerolinewidth": 2
          }
         }
        },
        "width": 500,
        "yaxis": {
         "tickmode": "array",
         "ticktext": [
          "Very long label",
          "long label",
          "3",
          "label"
         ],
         "tickvals": [
          1,
          2,
          3,
          4
         ],
         "title": {
          "font": {
           "size": 30
          },
          "text": "Y-axis Title"
         }
        }
       }
      }
     },
     "metadata": {},
     "output_type": "display_data"
    }
   ],
   "source": [
    "fig = go.Figure()\n",
    "fig.update_layout( autosize=False,\n",
    "    width=500,\n",
    "    height=500,\n",
    "    \n",
    "    yaxis=dict(\n",
    "        title_text=\"Y-axis Title\",\n",
    "        ticktext=[\"Very long label\", \"long label\", \"3\", \"label\"],\n",
    "        tickvals=[1, 2, 3, 4],\n",
    "        tickmode=\"array\",\n",
    "        titlefont=dict(size=30),\n",
    "    )\n",
    ")\n"
   ]
  },
  {
   "cell_type": "markdown",
   "metadata": {},
   "source": [
    "Так и сразу с точками: "
   ]
  },
  {
   "cell_type": "code",
   "execution_count": 20,
   "metadata": {},
   "outputs": [
    {
     "data": {
      "application/vnd.plotly.v1+json": {
       "config": {
        "plotlyServerURL": "https://plot.ly"
       },
       "data": [
        {
         "mode": "markers",
         "type": "scatter",
         "y": [
          1.2342922203893096,
          -0.36200319040923956,
          0.16406766174933074,
          0.23674757516727685,
          0.7151174775126204,
          -0.7607780015425664,
          0.7229455185081818,
          -0.8825480843347107,
          -2.6326402249510306,
          -0.9196205855038021,
          0.8274235718513431,
          -0.21774077018655175,
          0.05346067152876499,
          0.29379725600200546,
          0.09759962635550368,
          1.5396894345496874,
          -0.4259737875042989,
          -1.1264538394463564,
          -1.2716017134764486,
          0.5737458933405533,
          -0.5540128592570819,
          -0.09850424841336815,
          0.9941210761505344,
          -1.1462293976711586,
          0.35126610679870174,
          -0.10776487135052981,
          -0.1542018110453408,
          0.856499197566495,
          -0.2561245561682237,
          0.28260610615716514,
          -1.0713929428287658,
          0.016257674149989423,
          2.0437286073670218,
          -1.8605293372611948,
          0.40124133170846926,
          0.18030990395253493,
          -0.480107947920133,
          1.0397693570189162,
          -0.4017149165429395,
          1.3253910608557304,
          0.10513701874735547,
          0.8995243853107162,
          0.30071118610618713,
          -1.0094159228840855,
          -0.5356532009547712,
          -0.055706425392668485,
          -0.33668637599605566,
          -0.06808553470584792,
          0.5932357919960233,
          0.6073876288626415,
          1.6897050464633458,
          0.8508363011417808,
          -0.4020816419946763,
          0.6901511987292408,
          1.644238423021801,
          -2.2994730110282235,
          -0.14997751498803688,
          1.0152579562126554,
          -1.3365827035693376,
          0.37249663647064674,
          1.127264216978711,
          -1.0287703572812303,
          -0.5291563324783818,
          -0.7788257980938912,
          0.020850928508681334,
          -0.3660277141375404,
          -0.5772200251830971,
          0.9025087734705075,
          -0.5945465187054143,
          0.45606626692966573,
          0.4149940831971313,
          2.1096765125955024,
          1.392732212439648,
          0.5467684471502738,
          1.1281168440287028,
          1.6168448951199055,
          -1.173637678108432,
          0.38367476909400744,
          -1.071302236481278,
          1.005424320114482,
          0.6171784166124265,
          -0.09510922934006348,
          -3.241762016030086,
          -0.32215302878419055,
          -1.0398331078043714,
          0.5977727960082188,
          0.3052211034703967,
          0.637583797668258,
          -0.4008984772619194,
          0.2800120294859627,
          -1.8319849085390028,
          0.7003512875110084,
          1.0489395703262305,
          0.8344931937713786,
          0.4147675534376198,
          -1.1718201053558452,
          -0.24655407249160785,
          -1.2005215419853257,
          0.040323923919210754,
          -1.901238104138442,
          -0.48025220680000724,
          -1.0183010815497513,
          -0.35700906193340026,
          0.5430991495171665,
          1.2076687135099877,
          -0.9573077377186162,
          -0.6345189629874965,
          -0.17718293794530812,
          0.22532729268580626,
          0.554689768811591,
          1.1782506630920413,
          -1.7122911440819926,
          -0.5055561125374559,
          0.021441045184115257,
          0.3605014454474758,
          -1.5810575196775785,
          0.17446342416512875,
          -0.072767731176289,
          -0.22124535116103072,
          -0.42280798366989103,
          -0.41437328700760023,
          1.8998106224119933,
          0.09382797240942443,
          -0.3780229224486667,
          1.8339212876317863,
          2.1009501129696724,
          -0.9171814880811807,
          -0.34578454504983985,
          0.79198000488412,
          -0.12888237884132223,
          1.1209396368340847,
          0.6403853047856735,
          -0.010837197660003876,
          0.050713952604081146,
          0.19120883636700553,
          -0.5012746498187572,
          -0.7027674449300171,
          -1.0477927534697793,
          1.7558419121599589,
          -2.4831600464092345,
          1.7276613607426805,
          0.4596349807523168,
          -1.045405062888204,
          -1.1390756646945877,
          -0.5533124794638684,
          0.9968298515214941,
          0.6475187424977696,
          0.9800218629747598,
          -1.4394662824470366,
          -0.3250544591396023,
          -1.5181309001134256,
          0.6275202493315407,
          1.2498714171943717,
          -0.6025849675833529,
          0.7388349326932276,
          -1.0143193267166648,
          0.233697766174887,
          0.9303746417397549,
          0.9833054321330706,
          0.5671877512308132,
          -0.5920940934451085,
          -0.05478227730075437,
          -0.6466644062687205,
          -0.6965007396514349,
          -0.5880586882185987,
          -1.8079914965027288,
          -1.4418462803247818,
          -0.41954300748460543,
          0.6429919256787693,
          -0.5951344196007436,
          0.5245248829988599,
          0.817895919986593,
          3.700940467879979,
          -0.7129303944802001,
          -0.6417292935593343,
          0.1256402847190524,
          0.7525379643091958,
          -0.25607484633522193,
          -0.016767556187891282,
          0.20659002800620585,
          0.22891031511576057,
          0.4935186912111229,
          1.176558862762387,
          0.26694698900327035,
          0.44686963256254775,
          -0.7865599907269696,
          -0.06328681335904202,
          -0.8896589989722011,
          -0.4858351012491777,
          0.2773592541687988,
          1.2662883763910997,
          -0.3632421427426151,
          -0.03536626729866278,
          -0.7496074141063411,
          1.8163099008326618,
          -0.5350894929197699,
          0.18506952696548473,
          0.4246860598420488,
          1.3908603408989704,
          -0.02049516196672222,
          0.7310974085948193,
          -0.44521268306455286,
          0.13406709843222384,
          -1.4044745041564028,
          -1.5629888411708974,
          -0.686918532384425,
          -1.5320113481510413,
          -1.2295037719594482,
          -0.9401757032776198,
          0.8657069295458868,
          1.398880127156996,
          -0.05784312676562673,
          -1.1763567819565057,
          -0.4362837965109879,
          1.6549253258345566,
          0.3145345838595667,
          -1.8917378402993061,
          1.9039282237202393,
          -0.5660390491129086,
          0.6646233034452687,
          -1.3005618650224502,
          0.2020302655710117,
          1.8704458585910573,
          0.8962350426108433,
          0.12290464378693348,
          0.3328349024257518,
          0.6799154120173649,
          -0.2907608137032558,
          0.10363049553051686,
          -0.5908804710036648,
          -0.286857326747669,
          0.04196872351283129,
          -0.5124912830424725,
          1.2157282456364578,
          -0.6628444968533084,
          0.313333383871785,
          1.327353314486141,
          1.3292262792645206,
          -0.4417692376770291,
          -0.25281439085251745,
          1.518130839394916,
          0.984404686507467,
          0.23792000440211544,
          -0.578999504359273,
          -0.5129234595435436,
          -0.738580140301871,
          -1.2864096812593075,
          -0.35920527920181944,
          -0.38816947108881134,
          2.105682253128883,
          -1.5227230735095347,
          -1.1186244825494098,
          1.7762710669046289,
          0.8882796327842001,
          0.10185043217098559,
          -0.7046802262415545,
          -1.3692036607449567,
          -1.0258372435607483,
          0.26893604698728946,
          0.009498045954616181,
          -0.999910127681563,
          0.19309949487317649,
          1.5545273838677192,
          0.4116898304964938,
          -1.159629119709051,
          0.6307736099473076,
          1.638270814382875,
          0.4532842610529352,
          0.36849709191630403,
          0.6322828348298776,
          -0.717670373410844,
          -0.01190764783454692,
          1.377063213696596,
          1.9859045468718697,
          2.105035946199283,
          -0.00039910787247574177,
          1.0995014312675062,
          -0.35806990648433507,
          0.43806002682056644,
          0.9266638510489995,
          0.6759843831995356,
          -0.39098607992199236,
          0.9741849267371109,
          -1.3330128513419572,
          -0.8794932661532298,
          -0.29310971962340343,
          0.1221849954967969,
          1.6568960152260033,
          -0.25649459106116956,
          0.577704302849613,
          0.9047406517129509,
          0.03165555624120183,
          -1.0874956116167749,
          0.3113214658718062,
          0.13092841935800217,
          -0.7744883268597997,
          -0.16519233065827005,
          -0.45693182459403314,
          -0.981853001253628,
          -1.2272552573132183,
          0.3514216231450209,
          2.04550218464681,
          -0.9651257276003623,
          -1.8134602100223227,
          1.0197969091087613,
          2.523250575955626,
          -0.15283490125163235,
          0.2779241383822636,
          -2.126075886393738,
          1.9375708553722886,
          2.3116800829446484,
          -1.5878506841877498,
          0.10081976050433718,
          0.07075653532753855,
          0.9328484240419469,
          0.5775689212326062,
          0.9386703612614936,
          0.2593007736751371,
          -1.0054863909480103,
          -0.5842238559536116,
          1.979083029598053,
          0.39315695976237525,
          -1.0528980172499132,
          0.9432048557068388,
          0.29897764158112156,
          -1.3363839675164957,
          -1.4304611449506992,
          0.06579040013910173,
          0.9737848071149862,
          -0.33476457433510615,
          -0.17254460305996142,
          2.849203801508936,
          0.07822736270399147,
          0.6163976235043395,
          0.22167090873824888,
          1.0118146118100573,
          -0.4895650278495473,
          -0.6226424355196126,
          0.2946574033144089,
          -0.2651398214128423,
          -0.4512792330759377,
          0.3914927172401073,
          0.9635569710029059,
          0.5912631047941075,
          -2.3761158324967493,
          0.80827000673532,
          -1.2264453234468806,
          1.0748339664897506,
          -0.856386859185473,
          0.05505761061397322,
          -0.023734508677806094,
          -0.331433026500061,
          -0.2581610190110623,
          0.031892396656983665,
          -0.5673777820600636,
          1.2318674829818224,
          -0.25887754930153933,
          0.5695050752994613,
          -0.03557232902803831,
          -0.2771664409759383,
          -1.4442032680920658,
          -0.19736232365035442,
          0.13140468052058227,
          0.33480977871485873,
          -2.513463319229915,
          -0.815420854259196,
          -0.14718817551162972,
          1.6516935019143972,
          0.10781051386397003,
          1.137599759660247,
          -0.5283794700449946,
          1.43350290474394,
          -0.7066204725909843,
          -0.5792948572209783,
          -0.3157979065707444,
          -0.8677551658563182,
          1.515534062762271,
          -0.9734003468625625,
          1.249249804197696,
          0.37008977678967064,
          0.1606446671384833,
          -1.004421766150449,
          0.862018158238133,
          0.017364086267084508,
          -0.004002903644826794,
          -1.4883826774202167,
          0.6615093012903901,
          0.5500611136592155,
          0.956076580906528,
          1.481965053610253,
          -0.41299932258264727,
          -0.6153168125427159,
          -0.30957007505193557,
          -0.12271361017453934,
          0.5038232563434878,
          0.8273168275502049,
          0.5191644818386385,
          -2.0655674974560143,
          0.24014614141207202,
          -0.5267422905486663,
          0.05846008934600053,
          -0.41238669856892785,
          -2.006580283858589,
          -0.5502380716576296,
          2.2900282313202927,
          -0.1489213601124421,
          0.15285858294821916,
          2.186275279383611,
          -0.07239975634033274,
          1.2240725799309313,
          -0.1845417481162958,
          0.7102677804396139,
          0.5240036039415414,
          -0.5934128686821389,
          -0.8543812611434263,
          -0.6555609118576032,
          -0.3820906636638173,
          -0.3263128794273063,
          -0.22608162659339043,
          -0.9825897404417098,
          0.4946964400951199,
          -0.6248559878621142,
          -0.251311527799397,
          -1.2096852875925672,
          -0.6579035130007833,
          -0.460401575598748,
          -0.4096429482080233,
          0.8199009135620103,
          0.4063431105407721,
          1.1077098886838224,
          -0.9432703738742498,
          1.4705824609072082,
          1.976315089816331,
          -1.3728206588082965,
          -1.3992712312446298,
          -0.2686857561397039,
          -0.0643607268461093,
          -2.1472167195632488,
          0.26976053676065187,
          -0.9019020765641805,
          0.9408170789233629,
          -0.565003323574206,
          0.2639826515069188,
          1.7973414439333408,
          0.4281727534129169,
          -1.0390966718000076,
          -1.298568029048807,
          0.4836024855855305,
          1.6944948770437647,
          0.90512924324686,
          -0.16030530833570614,
          -0.8204703236523848,
          -0.5807398511602035,
          -0.7968787190109632,
          -0.044665430765823064,
          -1.2337729549928604,
          -1.0032821993200767,
          -0.1512567268644981,
          -0.41387503311781726,
          0.08558618829534058,
          -0.5023001614902849,
          -0.3222767552103156,
          -1.2957520349025173,
          0.16787100994491602,
          -1.059661209468385,
          1.8637938915333883,
          1.2198421927141945,
          0.1740487237355887,
          0.030782286446906167,
          -1.027597062119896,
          -0.5125479203055463,
          1.9426847796312905,
          -0.7992656201812938,
          0.14783689038968528,
          -0.9025299844578795,
          -1.4493513040818955,
          -0.442111037042929,
          0.80795489642229,
          0.49745817408994875,
          -0.04525992268290282,
          -0.3103900522962143,
          -0.23235951264190477,
          0.25980424000929336,
          1.7389334090514474,
          -0.12478729822662622,
          -1.624282365156114,
          1.4645365878227317,
          -0.3964940149270276,
          1.9137028342177276,
          0.6283623823176582,
          -0.7491554415481588,
          -0.0027887190180113934,
          1.2694349103691855,
          0.1986793075451367,
          -1.229012412139358,
          0.7172055534796385,
          -0.5389913506566625,
          -3.304892910705463,
          -1.0913876160522653,
          2.2477662086928825
         ]
        }
       ],
       "layout": {
        "template": {
         "data": {
          "bar": [
           {
            "error_x": {
             "color": "#2a3f5f"
            },
            "error_y": {
             "color": "#2a3f5f"
            },
            "marker": {
             "line": {
              "color": "#E5ECF6",
              "width": 0.5
             }
            },
            "type": "bar"
           }
          ],
          "barpolar": [
           {
            "marker": {
             "line": {
              "color": "#E5ECF6",
              "width": 0.5
             }
            },
            "type": "barpolar"
           }
          ],
          "carpet": [
           {
            "aaxis": {
             "endlinecolor": "#2a3f5f",
             "gridcolor": "white",
             "linecolor": "white",
             "minorgridcolor": "white",
             "startlinecolor": "#2a3f5f"
            },
            "baxis": {
             "endlinecolor": "#2a3f5f",
             "gridcolor": "white",
             "linecolor": "white",
             "minorgridcolor": "white",
             "startlinecolor": "#2a3f5f"
            },
            "type": "carpet"
           }
          ],
          "choropleth": [
           {
            "colorbar": {
             "outlinewidth": 0,
             "ticks": ""
            },
            "type": "choropleth"
           }
          ],
          "contour": [
           {
            "colorbar": {
             "outlinewidth": 0,
             "ticks": ""
            },
            "colorscale": [
             [
              0,
              "#0d0887"
             ],
             [
              0.1111111111111111,
              "#46039f"
             ],
             [
              0.2222222222222222,
              "#7201a8"
             ],
             [
              0.3333333333333333,
              "#9c179e"
             ],
             [
              0.4444444444444444,
              "#bd3786"
             ],
             [
              0.5555555555555556,
              "#d8576b"
             ],
             [
              0.6666666666666666,
              "#ed7953"
             ],
             [
              0.7777777777777778,
              "#fb9f3a"
             ],
             [
              0.8888888888888888,
              "#fdca26"
             ],
             [
              1,
              "#f0f921"
             ]
            ],
            "type": "contour"
           }
          ],
          "contourcarpet": [
           {
            "colorbar": {
             "outlinewidth": 0,
             "ticks": ""
            },
            "type": "contourcarpet"
           }
          ],
          "heatmap": [
           {
            "colorbar": {
             "outlinewidth": 0,
             "ticks": ""
            },
            "colorscale": [
             [
              0,
              "#0d0887"
             ],
             [
              0.1111111111111111,
              "#46039f"
             ],
             [
              0.2222222222222222,
              "#7201a8"
             ],
             [
              0.3333333333333333,
              "#9c179e"
             ],
             [
              0.4444444444444444,
              "#bd3786"
             ],
             [
              0.5555555555555556,
              "#d8576b"
             ],
             [
              0.6666666666666666,
              "#ed7953"
             ],
             [
              0.7777777777777778,
              "#fb9f3a"
             ],
             [
              0.8888888888888888,
              "#fdca26"
             ],
             [
              1,
              "#f0f921"
             ]
            ],
            "type": "heatmap"
           }
          ],
          "heatmapgl": [
           {
            "colorbar": {
             "outlinewidth": 0,
             "ticks": ""
            },
            "colorscale": [
             [
              0,
              "#0d0887"
             ],
             [
              0.1111111111111111,
              "#46039f"
             ],
             [
              0.2222222222222222,
              "#7201a8"
             ],
             [
              0.3333333333333333,
              "#9c179e"
             ],
             [
              0.4444444444444444,
              "#bd3786"
             ],
             [
              0.5555555555555556,
              "#d8576b"
             ],
             [
              0.6666666666666666,
              "#ed7953"
             ],
             [
              0.7777777777777778,
              "#fb9f3a"
             ],
             [
              0.8888888888888888,
              "#fdca26"
             ],
             [
              1,
              "#f0f921"
             ]
            ],
            "type": "heatmapgl"
           }
          ],
          "histogram": [
           {
            "marker": {
             "colorbar": {
              "outlinewidth": 0,
              "ticks": ""
             }
            },
            "type": "histogram"
           }
          ],
          "histogram2d": [
           {
            "colorbar": {
             "outlinewidth": 0,
             "ticks": ""
            },
            "colorscale": [
             [
              0,
              "#0d0887"
             ],
             [
              0.1111111111111111,
              "#46039f"
             ],
             [
              0.2222222222222222,
              "#7201a8"
             ],
             [
              0.3333333333333333,
              "#9c179e"
             ],
             [
              0.4444444444444444,
              "#bd3786"
             ],
             [
              0.5555555555555556,
              "#d8576b"
             ],
             [
              0.6666666666666666,
              "#ed7953"
             ],
             [
              0.7777777777777778,
              "#fb9f3a"
             ],
             [
              0.8888888888888888,
              "#fdca26"
             ],
             [
              1,
              "#f0f921"
             ]
            ],
            "type": "histogram2d"
           }
          ],
          "histogram2dcontour": [
           {
            "colorbar": {
             "outlinewidth": 0,
             "ticks": ""
            },
            "colorscale": [
             [
              0,
              "#0d0887"
             ],
             [
              0.1111111111111111,
              "#46039f"
             ],
             [
              0.2222222222222222,
              "#7201a8"
             ],
             [
              0.3333333333333333,
              "#9c179e"
             ],
             [
              0.4444444444444444,
              "#bd3786"
             ],
             [
              0.5555555555555556,
              "#d8576b"
             ],
             [
              0.6666666666666666,
              "#ed7953"
             ],
             [
              0.7777777777777778,
              "#fb9f3a"
             ],
             [
              0.8888888888888888,
              "#fdca26"
             ],
             [
              1,
              "#f0f921"
             ]
            ],
            "type": "histogram2dcontour"
           }
          ],
          "mesh3d": [
           {
            "colorbar": {
             "outlinewidth": 0,
             "ticks": ""
            },
            "type": "mesh3d"
           }
          ],
          "parcoords": [
           {
            "line": {
             "colorbar": {
              "outlinewidth": 0,
              "ticks": ""
             }
            },
            "type": "parcoords"
           }
          ],
          "pie": [
           {
            "automargin": true,
            "type": "pie"
           }
          ],
          "scatter": [
           {
            "marker": {
             "colorbar": {
              "outlinewidth": 0,
              "ticks": ""
             }
            },
            "type": "scatter"
           }
          ],
          "scatter3d": [
           {
            "line": {
             "colorbar": {
              "outlinewidth": 0,
              "ticks": ""
             }
            },
            "marker": {
             "colorbar": {
              "outlinewidth": 0,
              "ticks": ""
             }
            },
            "type": "scatter3d"
           }
          ],
          "scattercarpet": [
           {
            "marker": {
             "colorbar": {
              "outlinewidth": 0,
              "ticks": ""
             }
            },
            "type": "scattercarpet"
           }
          ],
          "scattergeo": [
           {
            "marker": {
             "colorbar": {
              "outlinewidth": 0,
              "ticks": ""
             }
            },
            "type": "scattergeo"
           }
          ],
          "scattergl": [
           {
            "marker": {
             "colorbar": {
              "outlinewidth": 0,
              "ticks": ""
             }
            },
            "type": "scattergl"
           }
          ],
          "scattermapbox": [
           {
            "marker": {
             "colorbar": {
              "outlinewidth": 0,
              "ticks": ""
             }
            },
            "type": "scattermapbox"
           }
          ],
          "scatterpolar": [
           {
            "marker": {
             "colorbar": {
              "outlinewidth": 0,
              "ticks": ""
             }
            },
            "type": "scatterpolar"
           }
          ],
          "scatterpolargl": [
           {
            "marker": {
             "colorbar": {
              "outlinewidth": 0,
              "ticks": ""
             }
            },
            "type": "scatterpolargl"
           }
          ],
          "scatterternary": [
           {
            "marker": {
             "colorbar": {
              "outlinewidth": 0,
              "ticks": ""
             }
            },
            "type": "scatterternary"
           }
          ],
          "surface": [
           {
            "colorbar": {
             "outlinewidth": 0,
             "ticks": ""
            },
            "colorscale": [
             [
              0,
              "#0d0887"
             ],
             [
              0.1111111111111111,
              "#46039f"
             ],
             [
              0.2222222222222222,
              "#7201a8"
             ],
             [
              0.3333333333333333,
              "#9c179e"
             ],
             [
              0.4444444444444444,
              "#bd3786"
             ],
             [
              0.5555555555555556,
              "#d8576b"
             ],
             [
              0.6666666666666666,
              "#ed7953"
             ],
             [
              0.7777777777777778,
              "#fb9f3a"
             ],
             [
              0.8888888888888888,
              "#fdca26"
             ],
             [
              1,
              "#f0f921"
             ]
            ],
            "type": "surface"
           }
          ],
          "table": [
           {
            "cells": {
             "fill": {
              "color": "#EBF0F8"
             },
             "line": {
              "color": "white"
             }
            },
            "header": {
             "fill": {
              "color": "#C8D4E3"
             },
             "line": {
              "color": "white"
             }
            },
            "type": "table"
           }
          ]
         },
         "layout": {
          "annotationdefaults": {
           "arrowcolor": "#2a3f5f",
           "arrowhead": 0,
           "arrowwidth": 1
          },
          "coloraxis": {
           "colorbar": {
            "outlinewidth": 0,
            "ticks": ""
           }
          },
          "colorscale": {
           "diverging": [
            [
             0,
             "#8e0152"
            ],
            [
             0.1,
             "#c51b7d"
            ],
            [
             0.2,
             "#de77ae"
            ],
            [
             0.3,
             "#f1b6da"
            ],
            [
             0.4,
             "#fde0ef"
            ],
            [
             0.5,
             "#f7f7f7"
            ],
            [
             0.6,
             "#e6f5d0"
            ],
            [
             0.7,
             "#b8e186"
            ],
            [
             0.8,
             "#7fbc41"
            ],
            [
             0.9,
             "#4d9221"
            ],
            [
             1,
             "#276419"
            ]
           ],
           "sequential": [
            [
             0,
             "#0d0887"
            ],
            [
             0.1111111111111111,
             "#46039f"
            ],
            [
             0.2222222222222222,
             "#7201a8"
            ],
            [
             0.3333333333333333,
             "#9c179e"
            ],
            [
             0.4444444444444444,
             "#bd3786"
            ],
            [
             0.5555555555555556,
             "#d8576b"
            ],
            [
             0.6666666666666666,
             "#ed7953"
            ],
            [
             0.7777777777777778,
             "#fb9f3a"
            ],
            [
             0.8888888888888888,
             "#fdca26"
            ],
            [
             1,
             "#f0f921"
            ]
           ],
           "sequentialminus": [
            [
             0,
             "#0d0887"
            ],
            [
             0.1111111111111111,
             "#46039f"
            ],
            [
             0.2222222222222222,
             "#7201a8"
            ],
            [
             0.3333333333333333,
             "#9c179e"
            ],
            [
             0.4444444444444444,
             "#bd3786"
            ],
            [
             0.5555555555555556,
             "#d8576b"
            ],
            [
             0.6666666666666666,
             "#ed7953"
            ],
            [
             0.7777777777777778,
             "#fb9f3a"
            ],
            [
             0.8888888888888888,
             "#fdca26"
            ],
            [
             1,
             "#f0f921"
            ]
           ]
          },
          "colorway": [
           "#636efa",
           "#EF553B",
           "#00cc96",
           "#ab63fa",
           "#FFA15A",
           "#19d3f3",
           "#FF6692",
           "#B6E880",
           "#FF97FF",
           "#FECB52"
          ],
          "font": {
           "color": "#2a3f5f"
          },
          "geo": {
           "bgcolor": "white",
           "lakecolor": "white",
           "landcolor": "#E5ECF6",
           "showlakes": true,
           "showland": true,
           "subunitcolor": "white"
          },
          "hoverlabel": {
           "align": "left"
          },
          "hovermode": "closest",
          "mapbox": {
           "style": "light"
          },
          "paper_bgcolor": "white",
          "plot_bgcolor": "#E5ECF6",
          "polar": {
           "angularaxis": {
            "gridcolor": "white",
            "linecolor": "white",
            "ticks": ""
           },
           "bgcolor": "#E5ECF6",
           "radialaxis": {
            "gridcolor": "white",
            "linecolor": "white",
            "ticks": ""
           }
          },
          "scene": {
           "xaxis": {
            "backgroundcolor": "#E5ECF6",
            "gridcolor": "white",
            "gridwidth": 2,
            "linecolor": "white",
            "showbackground": true,
            "ticks": "",
            "zerolinecolor": "white"
           },
           "yaxis": {
            "backgroundcolor": "#E5ECF6",
            "gridcolor": "white",
            "gridwidth": 2,
            "linecolor": "white",
            "showbackground": true,
            "ticks": "",
            "zerolinecolor": "white"
           },
           "zaxis": {
            "backgroundcolor": "#E5ECF6",
            "gridcolor": "white",
            "gridwidth": 2,
            "linecolor": "white",
            "showbackground": true,
            "ticks": "",
            "zerolinecolor": "white"
           }
          },
          "shapedefaults": {
           "line": {
            "color": "#2a3f5f"
           }
          },
          "ternary": {
           "aaxis": {
            "gridcolor": "white",
            "linecolor": "white",
            "ticks": ""
           },
           "baxis": {
            "gridcolor": "white",
            "linecolor": "white",
            "ticks": ""
           },
           "bgcolor": "#E5ECF6",
           "caxis": {
            "gridcolor": "white",
            "linecolor": "white",
            "ticks": ""
           }
          },
          "title": {
           "x": 0.05
          },
          "xaxis": {
           "automargin": true,
           "gridcolor": "white",
           "linecolor": "white",
           "ticks": "",
           "title": {
            "standoff": 15
           },
           "zerolinecolor": "white",
           "zerolinewidth": 2
          },
          "yaxis": {
           "automargin": true,
           "gridcolor": "white",
           "linecolor": "white",
           "ticks": "",
           "title": {
            "standoff": 15
           },
           "zerolinecolor": "white",
           "zerolinewidth": 2
          }
         }
        }
       }
      }
     },
     "metadata": {},
     "output_type": "display_data"
    }
   ],
   "source": [
    "fig = go.Figure(data=go.Scatter(\n",
    "    y = np.random.randn(500),\n",
    "    mode='markers',  \n",
    "    )\n",
    ")\n",
    "fig.show()"
   ]
  },
  {
   "cell_type": "markdown",
   "metadata": {},
   "source": [
    "Trace это же, те данные которые вы хотите нанести. Перечислим основные:\n",
    "* Scatter - набор точек\n",
    "* Line - точки соеденные прямыми\n",
    "* Error Bars - набор точек с погрешностями\n",
    "* histogram (Bar) - гистограмма \n",
    "\n",
    "и другие..."
   ]
  },
  {
   "cell_type": "markdown",
   "metadata": {},
   "source": [
    "С Plotly можно работать в двух видах (которые отличаются друг от друга): \n",
    "* Полный вид. Код начинается с команды `import plotly.graph_objects as go` \n",
    "* Компактный вид. Код начинается с команды `import plotly.express as px`\n",
    "\n",
    "названия лично мои)\n",
    "\n"
   ]
  },
  {
   "cell_type": "markdown",
   "metadata": {},
   "source": [
    "## plotly.express\n",
    "В этом виде удобно работать с датасетом. Год достаточно получается достаточно лаконичный. Есть дополнительные возможности например простой [способ создания анимации](https://plot.ly/python/animations/),а также параметры facet_col, facet_row (рассмотрим их ниже). Также отметим ограничения: вы не можете построить на одном fig несколько графиков вида express `fig.add_trace(px.Scatter...` - выдаст ошибку  (если знаете, как это можно сделать напишете). Остальные графики надо добавлять с помощью `fig.add_trace(go.Scatter(...))` тоесть в полным виде."
   ]
  },
  {
   "cell_type": "markdown",
   "metadata": {},
   "source": [
    "### Пример 1 (построение гистограмм, разделенные на subplots по категориям)"
   ]
  },
  {
   "cell_type": "code",
   "execution_count": 24,
   "metadata": {},
   "outputs": [
    {
     "data": {
      "text/html": "<div>\n<style scoped>\n    .dataframe tbody tr th:only-of-type {\n        vertical-align: middle;\n    }\n\n    .dataframe tbody tr th {\n        vertical-align: top;\n    }\n\n    .dataframe thead th {\n        text-align: right;\n    }\n</style>\n<table border=\"1\" class=\"dataframe\">\n  <thead>\n    <tr style=\"text-align: right;\">\n      <th></th>\n      <th>PassengerId</th>\n      <th>Survived</th>\n      <th>Pclass</th>\n      <th>Name</th>\n      <th>Sex</th>\n      <th>Age</th>\n      <th>SibSp</th>\n      <th>Parch</th>\n      <th>Ticket</th>\n      <th>Fare</th>\n      <th>Cabin</th>\n      <th>Embarked</th>\n    </tr>\n  </thead>\n  <tbody>\n    <tr>\n      <th>0</th>\n      <td>1</td>\n      <td>0</td>\n      <td>3</td>\n      <td>Braund, Mr. Owen Harris</td>\n      <td>male</td>\n      <td>22.0</td>\n      <td>1</td>\n      <td>0</td>\n      <td>A/5 21171</td>\n      <td>7.2500</td>\n      <td>NaN</td>\n      <td>S</td>\n    </tr>\n    <tr>\n      <th>1</th>\n      <td>2</td>\n      <td>1</td>\n      <td>1</td>\n      <td>Cumings, Mrs. John Bradley (Florence Briggs Th...</td>\n      <td>female</td>\n      <td>38.0</td>\n      <td>1</td>\n      <td>0</td>\n      <td>PC 17599</td>\n      <td>71.2833</td>\n      <td>C85</td>\n      <td>C</td>\n    </tr>\n    <tr>\n      <th>2</th>\n      <td>3</td>\n      <td>1</td>\n      <td>3</td>\n      <td>Heikkinen, Miss. Laina</td>\n      <td>female</td>\n      <td>26.0</td>\n      <td>0</td>\n      <td>0</td>\n      <td>STON/O2. 3101282</td>\n      <td>7.9250</td>\n      <td>NaN</td>\n      <td>S</td>\n    </tr>\n    <tr>\n      <th>3</th>\n      <td>4</td>\n      <td>1</td>\n      <td>1</td>\n      <td>Futrelle, Mrs. Jacques Heath (Lily May Peel)</td>\n      <td>female</td>\n      <td>35.0</td>\n      <td>1</td>\n      <td>0</td>\n      <td>113803</td>\n      <td>53.1000</td>\n      <td>C123</td>\n      <td>S</td>\n    </tr>\n    <tr>\n      <th>4</th>\n      <td>5</td>\n      <td>0</td>\n      <td>3</td>\n      <td>Allen, Mr. William Henry</td>\n      <td>male</td>\n      <td>35.0</td>\n      <td>0</td>\n      <td>0</td>\n      <td>373450</td>\n      <td>8.0500</td>\n      <td>NaN</td>\n      <td>S</td>\n    </tr>\n  </tbody>\n</table>\n</div>",
      "text/plain": "   PassengerId  Survived  Pclass  \\\n0            1         0       3   \n1            2         1       1   \n2            3         1       3   \n3            4         1       1   \n4            5         0       3   \n\n                                                Name     Sex   Age  SibSp  \\\n0                            Braund, Mr. Owen Harris    male  22.0      1   \n1  Cumings, Mrs. John Bradley (Florence Briggs Th...  female  38.0      1   \n2                             Heikkinen, Miss. Laina  female  26.0      0   \n3       Futrelle, Mrs. Jacques Heath (Lily May Peel)  female  35.0      1   \n4                           Allen, Mr. William Henry    male  35.0      0   \n\n   Parch            Ticket     Fare Cabin Embarked  \n0      0         A/5 21171   7.2500   NaN        S  \n1      0          PC 17599  71.2833   C85        C  \n2      0  STON/O2. 3101282   7.9250   NaN        S  \n3      0            113803  53.1000  C123        S  \n4      0            373450   8.0500   NaN        S  "
     },
     "execution_count": 24,
     "metadata": {},
     "output_type": "execute_result"
    }
   ],
   "source": [
    "# загрузим датасет титаник\n",
    "data = pd.read_csv('train.csv')\n",
    "data.head()"
   ]
  },
  {
   "cell_type": "code",
   "execution_count": 25,
   "metadata": {},
   "outputs": [
    {
     "data": {
      "application/vnd.plotly.v1+json": {
       "config": {
        "plotlyServerURL": "https://plot.ly"
       },
       "data": [
        {
         "alignmentgroup": "True",
         "bingroup": "x",
         "hoverlabel": {
          "namelength": 0
         },
         "hovertemplate": "Survived=0<br>Sex=male<br>Pclass=3<br>Fare=%{x}<br>count=%{y}",
         "legendgroup": "Survived=0",
         "marker": {
          "color": "#636efa"
         },
         "name": "Survived=0",
         "nbinsx": 200,
         "offsetgroup": "Survived=0",
         "orientation": "v",
         "showlegend": true,
         "type": "histogram",
         "x": [
          7.25,
          8.05,
          8.4583,
          21.075,
          8.05,
          31.275,
          29.125,
          7.225,
          7.8958,
          8.05,
          7.8958,
          8.05,
          15.5,
          21.6792,
          39.6875,
          7.8,
          7.2292,
          46.9,
          7.2292,
          27.9,
          8.1583,
          8.6625,
          14.4542,
          7.65,
          7.8958,
          8.05,
          9,
          34.375,
          8.05,
          8.05,
          8.05,
          7.8542,
          20.575,
          7.25,
          8.05,
          7.8958,
          8.6542,
          7.925,
          7.8958,
          7.8958,
          8.05,
          7.925,
          7.75,
          8.05,
          7.75,
          6.975,
          7.8958,
          7.05,
          9.2167,
          6.75,
          8.05,
          14.5,
          7.3125,
          8.05,
          8.6625,
          69.55,
          16.1,
          7.775,
          8.6625,
          39.6875,
          56.4958,
          29.125,
          7.925,
          7.8542,
          25.4667,
          0,
          31.3875,
          15.5,
          7.8958,
          7.75,
          8.4042,
          9.5,
          69.55,
          6.4958,
          7.225,
          15.85,
          7.05,
          7.25,
          7.75,
          8.05,
          7.8958,
          9.35,
          7.25,
          7.775,
          7.125,
          7.225,
          7.25,
          16.1,
          7.75,
          39.6875,
          29.125,
          7.75,
          7.8542,
          9.5,
          8.6625,
          7.8958,
          7.8958,
          7.2292,
          0,
          8.05,
          7.8958,
          7.25,
          7.8958,
          69.55,
          6.2375,
          18,
          7.8958,
          8.6625,
          9.225,
          7.2292,
          17.8,
          7.225,
          9.5,
          27.9,
          7.05,
          15.5,
          7.25,
          6.4958,
          8.05,
          4.0125,
          7.775,
          7.925,
          7.8958,
          46.9,
          7.7292,
          7.925,
          7.7958,
          8.05,
          15.85,
          7.75,
          7.775,
          7.8958,
          6.8583,
          7.8958,
          7.7333,
          7.875,
          20.2125,
          7.25,
          7.75,
          7.125,
          9.5,
          7.775,
          19.9667,
          8.05,
          7.75,
          8.05,
          8.05,
          7.05,
          7.725,
          7.25,
          8.6625,
          7.0458,
          7.5208,
          46.9,
          8.05,
          8.05,
          19.9667,
          7.25,
          8.05,
          14.4583,
          15.1,
          7.7958,
          8.6625,
          22.525,
          8.05,
          7.4958,
          24.15,
          7.8958,
          7.8958,
          7.225,
          7.2292,
          7.75,
          7.925,
          7.2292,
          7.2292,
          14.5,
          20.525,
          7.8292,
          7.75,
          7.8958,
          8.05,
          24.15,
          7.8958,
          7.2292,
          8.05,
          14.5,
          8.7125,
          8.05,
          8.05,
          7.125,
          7.25,
          24.15,
          0,
          7.225,
          7.8958,
          8.05,
          15.55,
          7.8958,
          7.05,
          7.75,
          8.05,
          14.4,
          14.4542,
          7.8542,
          16.1,
          7.8958,
          7.7333,
          7.0542,
          7.925,
          16.1,
          7.8542,
          7.8958,
          7.55,
          7.8958,
          8.4333,
          7.8958,
          7.225,
          7.4958,
          7.775,
          8.05,
          7.775,
          8.05,
          9.225,
          46.9,
          39.6875,
          10.1708,
          7.7958,
          7.225,
          8.05,
          7.65,
          7.7417,
          7.8542,
          9.4833,
          7.65,
          15.5,
          7.775,
          7.0542,
          8.6625,
          18.7875,
          16.1,
          7.8958,
          7.8958,
          16.1,
          20.25,
          7.75,
          9.5,
          7.8958,
          7.7958,
          8.05,
          14.5,
          7.125,
          7.775,
          24.15,
          8.3625,
          9.5,
          7.8542,
          7.225,
          7.75,
          7.75,
          7.7375,
          23.45,
          7.05,
          7.25,
          29.125,
          7.75,
          7.8958,
          7.2292,
          7.775,
          7.8875,
          24.15,
          8.05,
          6.45,
          27.9,
          39.6875,
          6.95,
          56.4958,
          7.2292,
          7.8542,
          8.3,
          8.6625,
          8.05,
          7.925,
          6.4375,
          8.6625,
          7.55,
          69.55,
          7.8958,
          31.275,
          7.775,
          7.2292,
          14.1083,
          9.5,
          7.8958,
          9,
          9.8458,
          7.8958,
          7.8958,
          7.8958,
          7.05,
          7.75
         ],
         "xaxis": "x4",
         "yaxis": "y4"
        },
        {
         "alignmentgroup": "True",
         "bingroup": "x",
         "hoverlabel": {
          "namelength": 0
         },
         "hovertemplate": "Survived=0<br>Sex=male<br>Pclass=1<br>Fare=%{x}<br>count=%{y}",
         "legendgroup": "Survived=0",
         "marker": {
          "color": "#636efa"
         },
         "name": "Survived=0",
         "nbinsx": 200,
         "offsetgroup": "Survived=0",
         "orientation": "v",
         "showlegend": false,
         "type": "histogram",
         "x": [
          51.8625,
          263,
          27.7208,
          82.1708,
          52,
          61.9792,
          83.475,
          27.7208,
          47.1,
          61.175,
          34.6542,
          77.2875,
          52,
          247.5208,
          77.2875,
          53.1,
          79.2,
          61.3792,
          25.925,
          33.5,
          30.6958,
          50,
          90,
          26.55,
          79.65,
          0,
          31,
          29.7,
          26,
          27.7208,
          28.5,
          153.4625,
          66.6,
          35.5,
          35,
          135.6333,
          211.5,
          55.9,
          263,
          27.75,
          26.55,
          38.5,
          26.55,
          52,
          29.7,
          30.5,
          49.5042,
          108.9,
          34.0208,
          221.7792,
          26.55,
          106.425,
          26,
          26.55,
          227.525,
          40.125,
          42.4,
          32.3208,
          0,
          113.275,
          25.5875,
          52,
          26.55,
          110.8833,
          26.55,
          78.85,
          71,
          53.1,
          39.6,
          30,
          79.2,
          30.6958,
          0,
          0,
          0,
          50.4958,
          5
         ],
         "xaxis": "x5",
         "yaxis": "y5"
        },
        {
         "alignmentgroup": "True",
         "bingroup": "x",
         "hoverlabel": {
          "namelength": 0
         },
         "hovertemplate": "Survived=0<br>Sex=male<br>Pclass=2<br>Fare=%{x}<br>count=%{y}",
         "legendgroup": "Survived=0",
         "marker": {
          "color": "#636efa"
         },
         "name": "Survived=0",
         "nbinsx": 200,
         "offsetgroup": "Survived=0",
         "orientation": "v",
         "showlegend": false,
         "type": "histogram",
         "x": [
          26,
          10.5,
          10.5,
          73.5,
          26,
          21,
          73.5,
          30.0708,
          13,
          15.0458,
          11.5,
          36.75,
          26,
          13,
          12.525,
          13,
          15.05,
          13,
          13,
          27,
          10.5,
          13,
          13,
          13.5,
          10.5,
          26,
          10.5,
          12.275,
          10.5,
          26,
          10.5,
          0,
          12.875,
          24,
          26.25,
          14,
          13,
          13,
          13,
          27.7208,
          73.5,
          26,
          10.5,
          21,
          0,
          13,
          10.5,
          27.75,
          13,
          0,
          21,
          0,
          11.5,
          26,
          13.5,
          26,
          15,
          26,
          10.5,
          12.35,
          26.25,
          73.5,
          13,
          73.5,
          13,
          10.5,
          0,
          39,
          41.5792,
          13.5,
          26,
          13,
          13,
          13,
          26,
          0,
          13,
          13,
          11.5,
          26,
          13,
          13,
          13,
          10.5,
          37.0042,
          10.5,
          33,
          11.5,
          13,
          10.5,
          13
         ],
         "xaxis": "x6",
         "yaxis": "y6"
        },
        {
         "alignmentgroup": "True",
         "bingroup": "x",
         "hoverlabel": {
          "namelength": 0
         },
         "hovertemplate": "Survived=0<br>Sex=female<br>Pclass=3<br>Fare=%{x}<br>count=%{y}",
         "legendgroup": "Survived=0",
         "marker": {
          "color": "#636efa"
         },
         "name": "Survived=0",
         "nbinsx": 200,
         "offsetgroup": "Survived=0",
         "orientation": "v",
         "showlegend": false,
         "type": "histogram",
         "x": [
          7.8542,
          18,
          21.075,
          18,
          9.475,
          17.8,
          46.9,
          7.8958,
          14.4542,
          9.825,
          14.4583,
          31.275,
          14.5,
          15.2458,
          34.375,
          27.9,
          69.55,
          10.4625,
          25.4667,
          7.55,
          14.4542,
          7.775,
          10.4625,
          20.2125,
          7.75,
          7.75,
          8.85,
          14.4542,
          21.075,
          7.8542,
          9.825,
          8.6625,
          25.4667,
          8.05,
          24.15,
          14.4,
          34.375,
          9.8375,
          25.4667,
          7.75,
          7.6292,
          9.5875,
          8.6625,
          31.275,
          31.275,
          8.05,
          21.075,
          14.4583,
          7.75,
          31.275,
          16.1,
          27.9,
          39.6875,
          27.9,
          6.75,
          15.5,
          46.9,
          8.1375,
          14.4542,
          7.925,
          34.375,
          7.75,
          69.55,
          24.15,
          7.775,
          31.275,
          7.925,
          15.2458,
          69.55,
          10.5167,
          29.125,
          23.45
         ],
         "xaxis": "x",
         "yaxis": "y"
        },
        {
         "alignmentgroup": "True",
         "bingroup": "x",
         "hoverlabel": {
          "namelength": 0
         },
         "hovertemplate": "Survived=0<br>Sex=female<br>Pclass=1<br>Fare=%{x}<br>count=%{y}",
         "legendgroup": "Survived=0",
         "marker": {
          "color": "#636efa"
         },
         "name": "Survived=0",
         "nbinsx": 200,
         "offsetgroup": "Survived=0",
         "orientation": "v",
         "showlegend": false,
         "type": "histogram",
         "x": [
          28.7125,
          151.55,
          151.55
         ],
         "xaxis": "x2",
         "yaxis": "y2"
        },
        {
         "alignmentgroup": "True",
         "bingroup": "x",
         "hoverlabel": {
          "namelength": 0
         },
         "hovertemplate": "Survived=0<br>Sex=female<br>Pclass=2<br>Fare=%{x}<br>count=%{y}",
         "legendgroup": "Survived=0",
         "marker": {
          "color": "#636efa"
         },
         "name": "Survived=0",
         "nbinsx": 200,
         "offsetgroup": "Survived=0",
         "orientation": "v",
         "showlegend": false,
         "type": "histogram",
         "x": [
          21,
          13,
          26,
          13,
          10.5,
          26
         ],
         "xaxis": "x3",
         "yaxis": "y3"
        },
        {
         "alignmentgroup": "True",
         "bingroup": "x",
         "hoverlabel": {
          "namelength": 0
         },
         "hovertemplate": "Survived=1<br>Sex=male<br>Pclass=3<br>Fare=%{x}<br>count=%{y}",
         "legendgroup": "Survived=1",
         "marker": {
          "color": "#EF553B"
         },
         "name": "Survived=1",
         "nbinsx": 200,
         "offsetgroup": "Survived=1",
         "orientation": "v",
         "showlegend": true,
         "type": "histogram",
         "x": [
          7.2292,
          15.2458,
          56.4958,
          9.5,
          7.775,
          11.2417,
          7.1417,
          7.7958,
          20.525,
          8.05,
          18.7875,
          8.05,
          31.3875,
          7.775,
          0,
          8.05,
          9.5,
          23.25,
          8.05,
          15.9,
          7.7958,
          7.925,
          7.925,
          8.05,
          8.1125,
          7.8958,
          15.9,
          56.4958,
          7.75,
          7.225,
          7.8542,
          7.925,
          15.7417,
          56.4958,
          7.925,
          56.4958,
          15.2458,
          7.925,
          12.475,
          7.2292,
          20.575,
          8.5167,
          6.975,
          8.6625,
          7.75,
          56.4958,
          11.1333
         ],
         "xaxis": "x4",
         "yaxis": "y4"
        },
        {
         "alignmentgroup": "True",
         "bingroup": "x",
         "hoverlabel": {
          "namelength": 0
         },
         "hovertemplate": "Survived=1<br>Sex=male<br>Pclass=1<br>Fare=%{x}<br>count=%{y}",
         "legendgroup": "Survived=1",
         "marker": {
          "color": "#EF553B"
         },
         "name": "Survived=1",
         "nbinsx": 200,
         "offsetgroup": "Survived=1",
         "orientation": "v",
         "showlegend": false,
         "type": "histogram",
         "x": [
          35.5,
          35.5,
          63.3583,
          26.55,
          31,
          90,
          52.5542,
          30.5,
          151.55,
          55.4417,
          120,
          26.55,
          81.8583,
          26.55,
          30.5,
          89.1042,
          26.55,
          91.0792,
          26.55,
          26.2875,
          110.8833,
          26.3875,
          79.2,
          56.9292,
          26.55,
          30.5,
          52.5542,
          30,
          30.5,
          76.7292,
          35.5,
          133.65,
          512.3292,
          76.7292,
          57,
          26.2875,
          26.2875,
          52,
          53.1,
          512.3292,
          30,
          120,
          29.7,
          26.55,
          30
         ],
         "xaxis": "x5",
         "yaxis": "y5"
        },
        {
         "alignmentgroup": "True",
         "bingroup": "x",
         "hoverlabel": {
          "namelength": 0
         },
         "hovertemplate": "Survived=1<br>Sex=male<br>Pclass=2<br>Fare=%{x}<br>count=%{y}",
         "legendgroup": "Survived=1",
         "marker": {
          "color": "#EF553B"
         },
         "name": "Survived=1",
         "nbinsx": 200,
         "offsetgroup": "Survived=1",
         "orientation": "v",
         "showlegend": false,
         "type": "histogram",
         "x": [
          13,
          13,
          29,
          39,
          26,
          10.5,
          13,
          26,
          18.75,
          26,
          13.8625,
          36.75,
          10.5,
          13,
          14.5,
          37.0042,
          18.75
         ],
         "xaxis": "x6",
         "yaxis": "y6"
        },
        {
         "alignmentgroup": "True",
         "bingroup": "x",
         "hoverlabel": {
          "namelength": 0
         },
         "hovertemplate": "Survived=1<br>Sex=female<br>Pclass=3<br>Fare=%{x}<br>count=%{y}",
         "legendgroup": "Survived=1",
         "marker": {
          "color": "#EF553B"
         },
         "name": "Survived=1",
         "nbinsx": 200,
         "offsetgroup": "Survived=1",
         "orientation": "v",
         "showlegend": false,
         "type": "histogram",
         "x": [
          7.925,
          11.1333,
          16.7,
          7.225,
          8.0292,
          31.3875,
          7.8792,
          7.75,
          11.2417,
          7.8792,
          7.75,
          7.925,
          12.475,
          7.7875,
          15.85,
          7.65,
          24.15,
          22.3583,
          7.75,
          15.85,
          7.7333,
          11.1333,
          22.025,
          15.5,
          7.8542,
          7.75,
          7.75,
          7.925,
          31.3875,
          15.5,
          15.2458,
          7.75,
          20.25,
          7.75,
          7.75,
          7.8542,
          20.525,
          23.25,
          16.1,
          7.8792,
          7.8792,
          7.2292,
          7.75,
          7.25,
          15.7417,
          16.7,
          16.1,
          19.2583,
          19.2583,
          12.2875,
          9.5875,
          22.3583,
          7.775,
          17.4,
          7.75,
          15.5,
          19.2583,
          7.55,
          7.8292,
          9.8417,
          13.4167,
          7.7333,
          7.7375,
          12.475,
          7.2292,
          7.4958,
          8.6833,
          12.475,
          14.4542,
          9.35,
          19.2583,
          7.225
         ],
         "xaxis": "x",
         "yaxis": "y"
        },
        {
         "alignmentgroup": "True",
         "bingroup": "x",
         "hoverlabel": {
          "namelength": 0
         },
         "hovertemplate": "Survived=1<br>Sex=female<br>Pclass=1<br>Fare=%{x}<br>count=%{y}",
         "legendgroup": "Survived=1",
         "marker": {
          "color": "#EF553B"
         },
         "name": "Survived=1",
         "nbinsx": 200,
         "offsetgroup": "Survived=1",
         "orientation": "v",
         "showlegend": false,
         "type": "histogram",
         "x": [
          71.2833,
          53.1,
          26.55,
          146.5208,
          76.7292,
          80,
          263,
          26.2833,
          66.6,
          55,
          27.7208,
          146.5208,
          113.275,
          76.2917,
          83.475,
          79.2,
          86.5,
          512.3292,
          153.4625,
          135.6333,
          77.9583,
          78.85,
          91.0792,
          247.5208,
          110.8833,
          108.9,
          56.9292,
          83.1583,
          262.375,
          164.8667,
          134.5,
          135.6333,
          57.9792,
          133.65,
          134.5,
          263,
          55,
          75.25,
          69.3,
          82.1708,
          227.525,
          52,
          113.275,
          90,
          120,
          51.8625,
          90,
          78.2667,
          86.5,
          59.4,
          93.5,
          57.9792,
          106.425,
          49.5,
          71,
          39.6,
          79.65,
          51.4792,
          55.9,
          110.8833,
          79.65,
          78.2667,
          153.4625,
          77.9583,
          69.3,
          52,
          211.3375,
          227.525,
          151.55,
          49.5042,
          227.525,
          211.3375,
          262.375,
          86.5,
          120,
          77.9583,
          211.3375,
          57,
          25.9292,
          53.1,
          93.5,
          80,
          83.1583,
          31,
          89.1042,
          39.4,
          164.8667,
          25.9292,
          52.5542,
          83.1583,
          30
         ],
         "xaxis": "x2",
         "yaxis": "y2"
        },
        {
         "alignmentgroup": "True",
         "bingroup": "x",
         "hoverlabel": {
          "namelength": 0
         },
         "hovertemplate": "Survived=1<br>Sex=female<br>Pclass=2<br>Fare=%{x}<br>count=%{y}",
         "legendgroup": "Survived=1",
         "marker": {
          "color": "#EF553B"
         },
         "name": "Survived=1",
         "nbinsx": 200,
         "offsetgroup": "Survived=1",
         "orientation": "v",
         "showlegend": false,
         "type": "histogram",
         "x": [
          30.0708,
          16,
          41.5792,
          26,
          10.5,
          27.75,
          10.5,
          10.5,
          23,
          13,
          26,
          15.75,
          13,
          21,
          26.25,
          14.5,
          26,
          19.5,
          12.35,
          26,
          12.35,
          29,
          13,
          13,
          13,
          13,
          12,
          12.65,
          32.5,
          13,
          26,
          26,
          26,
          18.75,
          26.25,
          13,
          19.5,
          10.5,
          27.75,
          13.7917,
          26,
          10.5,
          26,
          10.5,
          26,
          26.25,
          26,
          13,
          30,
          33,
          27,
          41.5792,
          65,
          39,
          13,
          23,
          39,
          13.5,
          10.5,
          33,
          21,
          13,
          23,
          65,
          23,
          26.25,
          13,
          13.8583,
          24,
          26
         ],
         "xaxis": "x3",
         "yaxis": "y3"
        }
       ],
       "layout": {
        "annotations": [
         {
          "font": {},
          "showarrow": false,
          "text": "Pclass=3",
          "x": 0.15666666666666665,
          "xanchor": "center",
          "xref": "paper",
          "y": 1,
          "yanchor": "bottom",
          "yref": "paper"
         },
         {
          "font": {},
          "showarrow": false,
          "text": "Pclass=1",
          "x": 0.49,
          "xanchor": "center",
          "xref": "paper",
          "y": 1,
          "yanchor": "bottom",
          "yref": "paper"
         },
         {
          "font": {},
          "showarrow": false,
          "text": "Pclass=2",
          "x": 0.8233333333333333,
          "xanchor": "center",
          "xref": "paper",
          "y": 1,
          "yanchor": "bottom",
          "yref": "paper"
         },
         {
          "font": {},
          "showarrow": false,
          "text": "Sex=female",
          "textangle": 90,
          "x": 0.98,
          "xanchor": "left",
          "xref": "paper",
          "y": 0.2425,
          "yanchor": "middle",
          "yref": "paper"
         },
         {
          "font": {},
          "showarrow": false,
          "text": "Sex=male",
          "textangle": 90,
          "x": 0.98,
          "xanchor": "left",
          "xref": "paper",
          "y": 0.7575000000000001,
          "yanchor": "middle",
          "yref": "paper"
         }
        ],
        "barmode": "relative",
        "legend": {
         "tracegroupgap": 0
        },
        "margin": {
         "t": 60
        },
        "template": {
         "data": {
          "bar": [
           {
            "error_x": {
             "color": "#2a3f5f"
            },
            "error_y": {
             "color": "#2a3f5f"
            },
            "marker": {
             "line": {
              "color": "#E5ECF6",
              "width": 0.5
             }
            },
            "type": "bar"
           }
          ],
          "barpolar": [
           {
            "marker": {
             "line": {
              "color": "#E5ECF6",
              "width": 0.5
             }
            },
            "type": "barpolar"
           }
          ],
          "carpet": [
           {
            "aaxis": {
             "endlinecolor": "#2a3f5f",
             "gridcolor": "white",
             "linecolor": "white",
             "minorgridcolor": "white",
             "startlinecolor": "#2a3f5f"
            },
            "baxis": {
             "endlinecolor": "#2a3f5f",
             "gridcolor": "white",
             "linecolor": "white",
             "minorgridcolor": "white",
             "startlinecolor": "#2a3f5f"
            },
            "type": "carpet"
           }
          ],
          "choropleth": [
           {
            "colorbar": {
             "outlinewidth": 0,
             "ticks": ""
            },
            "type": "choropleth"
           }
          ],
          "contour": [
           {
            "colorbar": {
             "outlinewidth": 0,
             "ticks": ""
            },
            "colorscale": [
             [
              0,
              "#0d0887"
             ],
             [
              0.1111111111111111,
              "#46039f"
             ],
             [
              0.2222222222222222,
              "#7201a8"
             ],
             [
              0.3333333333333333,
              "#9c179e"
             ],
             [
              0.4444444444444444,
              "#bd3786"
             ],
             [
              0.5555555555555556,
              "#d8576b"
             ],
             [
              0.6666666666666666,
              "#ed7953"
             ],
             [
              0.7777777777777778,
              "#fb9f3a"
             ],
             [
              0.8888888888888888,
              "#fdca26"
             ],
             [
              1,
              "#f0f921"
             ]
            ],
            "type": "contour"
           }
          ],
          "contourcarpet": [
           {
            "colorbar": {
             "outlinewidth": 0,
             "ticks": ""
            },
            "type": "contourcarpet"
           }
          ],
          "heatmap": [
           {
            "colorbar": {
             "outlinewidth": 0,
             "ticks": ""
            },
            "colorscale": [
             [
              0,
              "#0d0887"
             ],
             [
              0.1111111111111111,
              "#46039f"
             ],
             [
              0.2222222222222222,
              "#7201a8"
             ],
             [
              0.3333333333333333,
              "#9c179e"
             ],
             [
              0.4444444444444444,
              "#bd3786"
             ],
             [
              0.5555555555555556,
              "#d8576b"
             ],
             [
              0.6666666666666666,
              "#ed7953"
             ],
             [
              0.7777777777777778,
              "#fb9f3a"
             ],
             [
              0.8888888888888888,
              "#fdca26"
             ],
             [
              1,
              "#f0f921"
             ]
            ],
            "type": "heatmap"
           }
          ],
          "heatmapgl": [
           {
            "colorbar": {
             "outlinewidth": 0,
             "ticks": ""
            },
            "colorscale": [
             [
              0,
              "#0d0887"
             ],
             [
              0.1111111111111111,
              "#46039f"
             ],
             [
              0.2222222222222222,
              "#7201a8"
             ],
             [
              0.3333333333333333,
              "#9c179e"
             ],
             [
              0.4444444444444444,
              "#bd3786"
             ],
             [
              0.5555555555555556,
              "#d8576b"
             ],
             [
              0.6666666666666666,
              "#ed7953"
             ],
             [
              0.7777777777777778,
              "#fb9f3a"
             ],
             [
              0.8888888888888888,
              "#fdca26"
             ],
             [
              1,
              "#f0f921"
             ]
            ],
            "type": "heatmapgl"
           }
          ],
          "histogram": [
           {
            "marker": {
             "colorbar": {
              "outlinewidth": 0,
              "ticks": ""
             }
            },
            "type": "histogram"
           }
          ],
          "histogram2d": [
           {
            "colorbar": {
             "outlinewidth": 0,
             "ticks": ""
            },
            "colorscale": [
             [
              0,
              "#0d0887"
             ],
             [
              0.1111111111111111,
              "#46039f"
             ],
             [
              0.2222222222222222,
              "#7201a8"
             ],
             [
              0.3333333333333333,
              "#9c179e"
             ],
             [
              0.4444444444444444,
              "#bd3786"
             ],
             [
              0.5555555555555556,
              "#d8576b"
             ],
             [
              0.6666666666666666,
              "#ed7953"
             ],
             [
              0.7777777777777778,
              "#fb9f3a"
             ],
             [
              0.8888888888888888,
              "#fdca26"
             ],
             [
              1,
              "#f0f921"
             ]
            ],
            "type": "histogram2d"
           }
          ],
          "histogram2dcontour": [
           {
            "colorbar": {
             "outlinewidth": 0,
             "ticks": ""
            },
            "colorscale": [
             [
              0,
              "#0d0887"
             ],
             [
              0.1111111111111111,
              "#46039f"
             ],
             [
              0.2222222222222222,
              "#7201a8"
             ],
             [
              0.3333333333333333,
              "#9c179e"
             ],
             [
              0.4444444444444444,
              "#bd3786"
             ],
             [
              0.5555555555555556,
              "#d8576b"
             ],
             [
              0.6666666666666666,
              "#ed7953"
             ],
             [
              0.7777777777777778,
              "#fb9f3a"
             ],
             [
              0.8888888888888888,
              "#fdca26"
             ],
             [
              1,
              "#f0f921"
             ]
            ],
            "type": "histogram2dcontour"
           }
          ],
          "mesh3d": [
           {
            "colorbar": {
             "outlinewidth": 0,
             "ticks": ""
            },
            "type": "mesh3d"
           }
          ],
          "parcoords": [
           {
            "line": {
             "colorbar": {
              "outlinewidth": 0,
              "ticks": ""
             }
            },
            "type": "parcoords"
           }
          ],
          "pie": [
           {
            "automargin": true,
            "type": "pie"
           }
          ],
          "scatter": [
           {
            "marker": {
             "colorbar": {
              "outlinewidth": 0,
              "ticks": ""
             }
            },
            "type": "scatter"
           }
          ],
          "scatter3d": [
           {
            "line": {
             "colorbar": {
              "outlinewidth": 0,
              "ticks": ""
             }
            },
            "marker": {
             "colorbar": {
              "outlinewidth": 0,
              "ticks": ""
             }
            },
            "type": "scatter3d"
           }
          ],
          "scattercarpet": [
           {
            "marker": {
             "colorbar": {
              "outlinewidth": 0,
              "ticks": ""
             }
            },
            "type": "scattercarpet"
           }
          ],
          "scattergeo": [
           {
            "marker": {
             "colorbar": {
              "outlinewidth": 0,
              "ticks": ""
             }
            },
            "type": "scattergeo"
           }
          ],
          "scattergl": [
           {
            "marker": {
             "colorbar": {
              "outlinewidth": 0,
              "ticks": ""
             }
            },
            "type": "scattergl"
           }
          ],
          "scattermapbox": [
           {
            "marker": {
             "colorbar": {
              "outlinewidth": 0,
              "ticks": ""
             }
            },
            "type": "scattermapbox"
           }
          ],
          "scatterpolar": [
           {
            "marker": {
             "colorbar": {
              "outlinewidth": 0,
              "ticks": ""
             }
            },
            "type": "scatterpolar"
           }
          ],
          "scatterpolargl": [
           {
            "marker": {
             "colorbar": {
              "outlinewidth": 0,
              "ticks": ""
             }
            },
            "type": "scatterpolargl"
           }
          ],
          "scatterternary": [
           {
            "marker": {
             "colorbar": {
              "outlinewidth": 0,
              "ticks": ""
             }
            },
            "type": "scatterternary"
           }
          ],
          "surface": [
           {
            "colorbar": {
             "outlinewidth": 0,
             "ticks": ""
            },
            "colorscale": [
             [
              0,
              "#0d0887"
             ],
             [
              0.1111111111111111,
              "#46039f"
             ],
             [
              0.2222222222222222,
              "#7201a8"
             ],
             [
              0.3333333333333333,
              "#9c179e"
             ],
             [
              0.4444444444444444,
              "#bd3786"
             ],
             [
              0.5555555555555556,
              "#d8576b"
             ],
             [
              0.6666666666666666,
              "#ed7953"
             ],
             [
              0.7777777777777778,
              "#fb9f3a"
             ],
             [
              0.8888888888888888,
              "#fdca26"
             ],
             [
              1,
              "#f0f921"
             ]
            ],
            "type": "surface"
           }
          ],
          "table": [
           {
            "cells": {
             "fill": {
              "color": "#EBF0F8"
             },
             "line": {
              "color": "white"
             }
            },
            "header": {
             "fill": {
              "color": "#C8D4E3"
             },
             "line": {
              "color": "white"
             }
            },
            "type": "table"
           }
          ]
         },
         "layout": {
          "annotationdefaults": {
           "arrowcolor": "#2a3f5f",
           "arrowhead": 0,
           "arrowwidth": 1
          },
          "coloraxis": {
           "colorbar": {
            "outlinewidth": 0,
            "ticks": ""
           }
          },
          "colorscale": {
           "diverging": [
            [
             0,
             "#8e0152"
            ],
            [
             0.1,
             "#c51b7d"
            ],
            [
             0.2,
             "#de77ae"
            ],
            [
             0.3,
             "#f1b6da"
            ],
            [
             0.4,
             "#fde0ef"
            ],
            [
             0.5,
             "#f7f7f7"
            ],
            [
             0.6,
             "#e6f5d0"
            ],
            [
             0.7,
             "#b8e186"
            ],
            [
             0.8,
             "#7fbc41"
            ],
            [
             0.9,
             "#4d9221"
            ],
            [
             1,
             "#276419"
            ]
           ],
           "sequential": [
            [
             0,
             "#0d0887"
            ],
            [
             0.1111111111111111,
             "#46039f"
            ],
            [
             0.2222222222222222,
             "#7201a8"
            ],
            [
             0.3333333333333333,
             "#9c179e"
            ],
            [
             0.4444444444444444,
             "#bd3786"
            ],
            [
             0.5555555555555556,
             "#d8576b"
            ],
            [
             0.6666666666666666,
             "#ed7953"
            ],
            [
             0.7777777777777778,
             "#fb9f3a"
            ],
            [
             0.8888888888888888,
             "#fdca26"
            ],
            [
             1,
             "#f0f921"
            ]
           ],
           "sequentialminus": [
            [
             0,
             "#0d0887"
            ],
            [
             0.1111111111111111,
             "#46039f"
            ],
            [
             0.2222222222222222,
             "#7201a8"
            ],
            [
             0.3333333333333333,
             "#9c179e"
            ],
            [
             0.4444444444444444,
             "#bd3786"
            ],
            [
             0.5555555555555556,
             "#d8576b"
            ],
            [
             0.6666666666666666,
             "#ed7953"
            ],
            [
             0.7777777777777778,
             "#fb9f3a"
            ],
            [
             0.8888888888888888,
             "#fdca26"
            ],
            [
             1,
             "#f0f921"
            ]
           ]
          },
          "colorway": [
           "#636efa",
           "#EF553B",
           "#00cc96",
           "#ab63fa",
           "#FFA15A",
           "#19d3f3",
           "#FF6692",
           "#B6E880",
           "#FF97FF",
           "#FECB52"
          ],
          "font": {
           "color": "#2a3f5f"
          },
          "geo": {
           "bgcolor": "white",
           "lakecolor": "white",
           "landcolor": "#E5ECF6",
           "showlakes": true,
           "showland": true,
           "subunitcolor": "white"
          },
          "hoverlabel": {
           "align": "left"
          },
          "hovermode": "closest",
          "mapbox": {
           "style": "light"
          },
          "paper_bgcolor": "white",
          "plot_bgcolor": "#E5ECF6",
          "polar": {
           "angularaxis": {
            "gridcolor": "white",
            "linecolor": "white",
            "ticks": ""
           },
           "bgcolor": "#E5ECF6",
           "radialaxis": {
            "gridcolor": "white",
            "linecolor": "white",
            "ticks": ""
           }
          },
          "scene": {
           "xaxis": {
            "backgroundcolor": "#E5ECF6",
            "gridcolor": "white",
            "gridwidth": 2,
            "linecolor": "white",
            "showbackground": true,
            "ticks": "",
            "zerolinecolor": "white"
           },
           "yaxis": {
            "backgroundcolor": "#E5ECF6",
            "gridcolor": "white",
            "gridwidth": 2,
            "linecolor": "white",
            "showbackground": true,
            "ticks": "",
            "zerolinecolor": "white"
           },
           "zaxis": {
            "backgroundcolor": "#E5ECF6",
            "gridcolor": "white",
            "gridwidth": 2,
            "linecolor": "white",
            "showbackground": true,
            "ticks": "",
            "zerolinecolor": "white"
           }
          },
          "shapedefaults": {
           "line": {
            "color": "#2a3f5f"
           }
          },
          "ternary": {
           "aaxis": {
            "gridcolor": "white",
            "linecolor": "white",
            "ticks": ""
           },
           "baxis": {
            "gridcolor": "white",
            "linecolor": "white",
            "ticks": ""
           },
           "bgcolor": "#E5ECF6",
           "caxis": {
            "gridcolor": "white",
            "linecolor": "white",
            "ticks": ""
           }
          },
          "title": {
           "x": 0.05
          },
          "xaxis": {
           "automargin": true,
           "gridcolor": "white",
           "linecolor": "white",
           "ticks": "",
           "title": {
            "standoff": 15
           },
           "zerolinecolor": "white",
           "zerolinewidth": 2
          },
          "yaxis": {
           "automargin": true,
           "gridcolor": "white",
           "linecolor": "white",
           "ticks": "",
           "title": {
            "standoff": 15
           },
           "zerolinecolor": "white",
           "zerolinewidth": 2
          }
         }
        },
        "xaxis": {
         "anchor": "y",
         "domain": [
          0,
          0.3133333333333333
         ],
         "title": {
          "text": "Fare"
         }
        },
        "xaxis2": {
         "anchor": "y2",
         "domain": [
          0.3333333333333333,
          0.6466666666666666
         ],
         "matches": "x",
         "title": {
          "text": "Fare"
         }
        },
        "xaxis3": {
         "anchor": "y3",
         "domain": [
          0.6666666666666666,
          0.98
         ],
         "matches": "x",
         "title": {
          "text": "Fare"
         }
        },
        "xaxis4": {
         "anchor": "y4",
         "domain": [
          0,
          0.3133333333333333
         ],
         "matches": "x",
         "showticklabels": false
        },
        "xaxis5": {
         "anchor": "y5",
         "domain": [
          0.3333333333333333,
          0.6466666666666666
         ],
         "matches": "x",
         "showticklabels": false
        },
        "xaxis6": {
         "anchor": "y6",
         "domain": [
          0.6666666666666666,
          0.98
         ],
         "matches": "x",
         "showticklabels": false
        },
        "yaxis": {
         "anchor": "x",
         "domain": [
          0,
          0.485
         ],
         "title": {
          "text": "count"
         }
        },
        "yaxis2": {
         "anchor": "x2",
         "domain": [
          0,
          0.485
         ],
         "matches": "y",
         "showticklabels": false
        },
        "yaxis3": {
         "anchor": "x3",
         "domain": [
          0,
          0.485
         ],
         "matches": "y",
         "showticklabels": false
        },
        "yaxis4": {
         "anchor": "x4",
         "domain": [
          0.515,
          1
         ],
         "matches": "y",
         "title": {
          "text": "count"
         }
        },
        "yaxis5": {
         "anchor": "x5",
         "domain": [
          0.515,
          1
         ],
         "matches": "y",
         "showticklabels": false
        },
        "yaxis6": {
         "anchor": "x6",
         "domain": [
          0.515,
          1
         ],
         "matches": "y",
         "showticklabels": false
        }
       }
      }
     },
     "metadata": {},
     "output_type": "display_data"
    }
   ],
   "source": [
    "px.histogram(data, x = \"Fare\", color = \"Survived\", facet_col=\"Pclass\", facet_row=\"Sex\", nbins=200)"
   ]
  },
  {
   "cell_type": "markdown",
   "metadata": {},
   "source": [
    "Давайте рассмотрим приведенный выше пример более подробно:\n",
    "\n",
    "1. histogram - означает, что мы будем наносить гистограмму\n",
    "2. data - наш dataframe. Добавлять его не обязательно. Но если же он объявлен, то для того чтобы задать x или y (без него необходимо прописать массивы пример ниже),или для определения парметров, по которым будет разделение, достаточно только записать название столбца.\n",
    "3. x = \"Fare\" - стобец, по которому строим гистограмму. Если бы датасет не был указан, мы бы написали `x = data[Fare]`\n",
    "4. color = \"Survived\" - параметр, по которому наши данные разделяются на серии\n",
    "5. facet_col, facet_row - парметры, по которым происходит разделение на subplots\n",
    "\n",
    "Дополнение: если вы указали датасет, то подписи осей, легенда, и прочее будет происходить автоматически по названию столбцов."
   ]
  },
  {
   "cell_type": "markdown",
   "metadata": {},
   "source": [
    "### Пример 2 (Scatter разделенные на subplots по категориям c добавлением шума)\n",
    "В данном примере датасет добавлен, но мы добавлили небольшой шум в данные,чтобы увидеть где скапливаются точки (иначе эти группы будут в одной точке). Поэтому названия осей по умолчанию будут x,y."
   ]
  },
  {
   "cell_type": "code",
   "execution_count": 45,
   "metadata": {},
   "outputs": [
    {
     "data": {
      "application/vnd.plotly.v1+json": {
       "config": {
        "plotlyServerURL": "https://plot.ly"
       },
       "data": [
        {
         "hoverlabel": {
          "namelength": 0
         },
         "hovertemplate": "Sex=male<br>x=%{x}<br>y=%{y}<br>Survived=%{marker.color}",
         "legendgroup": "",
         "marker": {
          "color": [
           0,
           0,
           0,
           0,
           0,
           0,
           0,
           0,
           1,
           0,
           1,
           1,
           0,
           0,
           0,
           0,
           0,
           0,
           0,
           1,
           0,
           0,
           0,
           0,
           0,
           0,
           0,
           0,
           1,
           0,
           0,
           0,
           0,
           0,
           0,
           1,
           0,
           0,
           0,
           0,
           0,
           1,
           0,
           0,
           0,
           1,
           0,
           1,
           0,
           0,
           0,
           0,
           0,
           0,
           0,
           0,
           0,
           0,
           0,
           1,
           0,
           0,
           0,
           0,
           0,
           0,
           1,
           0,
           0,
           0,
           0,
           0,
           0,
           0,
           0,
           0,
           0,
           0,
           1,
           0,
           1,
           0,
           0,
           0,
           0,
           0,
           0,
           0,
           0,
           0,
           0,
           0,
           1,
           0,
           0,
           0,
           0,
           0,
           0,
           0,
           0,
           0,
           0,
           0,
           0,
           0,
           0,
           1,
           0,
           0,
           0,
           0,
           0,
           0,
           0,
           0,
           0,
           0,
           0,
           0,
           1,
           0,
           1,
           0,
           0,
           0,
           1,
           0,
           0,
           0,
           0,
           0,
           0,
           1,
           0,
           1,
           1,
           0,
           0,
           0,
           0,
           0,
           0,
           1,
           0,
           0,
           0,
           1,
           0,
           1,
           0,
           0,
           0,
           0,
           0,
           0,
           0,
           0,
           0,
           0,
           0,
           0,
           1,
           0,
           0,
           0,
           0,
           0,
           1,
           0,
           0,
           0,
           0,
           1,
           0,
           1,
           0,
           0,
           0,
           0,
           0,
           0,
           1,
           0,
           0,
           1,
           0,
           1,
           0,
           0,
           0,
           0,
           1,
           1,
           0,
           0,
           1,
           0,
           0,
           0,
           0,
           0,
           0,
           0,
           0,
           0,
           0,
           0,
           0,
           0,
           1,
           0,
           1,
           0,
           0,
           0,
           1,
           0,
           0,
           0,
           0,
           0,
           0,
           0,
           0,
           0,
           0,
           0,
           0,
           1,
           0,
           0,
           0,
           0,
           0,
           0,
           0,
           0,
           0,
           0,
           0,
           1,
           1,
           0,
           0,
           0,
           0,
           1,
           0,
           0,
           0,
           0,
           1,
           0,
           0,
           0,
           0,
           1,
           0,
           0,
           0,
           0,
           0,
           0,
           0,
           1,
           1,
           0,
           0,
           0,
           0,
           0,
           0,
           1,
           1,
           1,
           1,
           0,
           0,
           0,
           1,
           0,
           1,
           0,
           0,
           1,
           0,
           0,
           0,
           0,
           0,
           0,
           0,
           0,
           0,
           0,
           0,
           0,
           0,
           0,
           0,
           0,
           0,
           1,
           0,
           0,
           1,
           0,
           0,
           0,
           0,
           0,
           0,
           0,
           0,
           0,
           0,
           1,
           0,
           1,
           1,
           0,
           1,
           0,
           0,
           0,
           0,
           0,
           0,
           0,
           0,
           0,
           0,
           0,
           0,
           0,
           0,
           0,
           1,
           0,
           0,
           1,
           0,
           1,
           1,
           0,
           0,
           1,
           0,
           0,
           0,
           0,
           0,
           0,
           0,
           0,
           0,
           1,
           1,
           1,
           0,
           0,
           1,
           0,
           0,
           0,
           0,
           1,
           0,
           0,
           0,
           0,
           0,
           0,
           0,
           0,
           1,
           0,
           0,
           0,
           1,
           0,
           0,
           1,
           0,
           0,
           0,
           0,
           0,
           0,
           1,
           1,
           0,
           0,
           0,
           0,
           0,
           0,
           1,
           0,
           1,
           0,
           0,
           0,
           0,
           0,
           1,
           1,
           0,
           1,
           0,
           0,
           0,
           0,
           0,
           0,
           0,
           1,
           0,
           0,
           0,
           1,
           0,
           0,
           0,
           0,
           0,
           0,
           1,
           0,
           0,
           0,
           1,
           1,
           0,
           0,
           0,
           0,
           0,
           0,
           0,
           1,
           1,
           0,
           0,
           0,
           0,
           0,
           0,
           1,
           0,
           0,
           0,
           1,
           1,
           0,
           1,
           0,
           0,
           0,
           0,
           0,
           0,
           0,
           0,
           1,
           0,
           0,
           0,
           0,
           0,
           0,
           0,
           1,
           0,
           0,
           1,
           0,
           0,
           1,
           0,
           0,
           0,
           0,
           1,
           0,
           0,
           1,
           0,
           0,
           0,
           0,
           0,
           1,
           0,
           0,
           0,
           0,
           0,
           0,
           0,
           0,
           0,
           0,
           0,
           0,
           0,
           0,
           0,
           1,
           0,
           0,
           0,
           0,
           0,
           0,
           0,
           0,
           1,
           1,
           1,
           0,
           0,
           0,
           0,
           0,
           0,
           0,
           0,
           0,
           0,
           0,
           1,
           0,
           0,
           0,
           0,
           1,
           1,
           1,
           0,
           0,
           0,
           0,
           0,
           1,
           1,
           0,
           0,
           0,
           0,
           0,
           0,
           0,
           0,
           0,
           0,
           1,
           0,
           0,
           0,
           0,
           0,
           0,
           1,
           0,
           0,
           0,
           0,
           0,
           0,
           0,
           0,
           0,
           0,
           1,
           0
          ],
          "coloraxis": "coloraxis",
          "line": {
           "width": 2
          },
          "opacity": 0.7,
          "size": 8,
          "symbol": 100
         },
         "mode": "markers",
         "name": "",
         "showlegend": false,
         "type": "scatter",
         "x": [
          1.059905572636071,
          -0.1110371546102119,
          0.007970220295082034,
          -0.004854421869532252,
          3.2372734884594783,
          0.021291473403795048,
          0.9382251702086688,
          3.8895850668693237,
          0.1195577470059794,
          0.04162894735526414,
          -0.32577374470848375,
          0.07292764083081031,
          0.03801256921645443,
          3.1589514040925097,
          0.05489385277118536,
          0.08733809235983848,
          -0.18324173452877426,
          1.0601907090274147,
          1.058807007776146,
          0.14810460566771685,
          -0.03870763176372542,
          -0.04596509067664854,
          0.0090569953516899,
          0.936468038287708,
          1.9859725443388538,
          4.229048838226713,
          -0.014792132759128964,
          0.09414127876495468,
          -0.17628905283900487,
          0.11552533071604838,
          4.86195115179246,
          0.018240264554854828,
          0.845473992418287,
          3.182517966993619,
          -0.14179240659902548,
          1.1032599580081157,
          0.05646317683775033,
          1.9138710311648688,
          -0.06323518989302471,
          -0.13396050849512312,
          0.9293150192123947,
          0.03846897585159103,
          0.076162775046036,
          0.11133285575768334,
          0.00861124004694458,
          0.1595713641474344,
          -0.2734991811483585,
          0.04503795193980366,
          0.10986980115673627,
          1.1989005140043483,
          0.04282527644077623,
          0.126630426924579,
          0.09414576981159806,
          -0.28364301038063305,
          0.9271239370677512,
          0.8647260033496138,
          0.09285991590724928,
          -0.07865156333620345,
          0.09742606872791242,
          -0.10801086770646458,
          0.926108494895855,
          0.00566890943857225,
          0.07806456422935604,
          0.07366218388323534,
          2.0100515202603346,
          0.08028464385797754,
          0.1639401271288592,
          -0.10574963690151905,
          0.08030301040632208,
          -0.038094000720830225,
          -0.000825432013596041,
          -0.005932942514771384,
          1.1032471277644047,
          0.002021724730143578,
          1.8629487896577177,
          0.08506214759172832,
          0.9392519705070489,
          -0.08583139922123255,
          1.2630886967704003,
          0.08477482579973539,
          -0.07639050159728202,
          -0.13651825463747527,
          0.0958365597035911,
          -0.39935074980937385,
          -0.01732854290525918,
          0.07155606706244208,
          0.9499260337480046,
          -0.1921620221343774,
          -0.25064365523781024,
          0.13829577756077835,
          0.1851556258887295,
          1.2667343886244735,
          -0.035807207623967593,
          -0.12047380085487634,
          0.08251407341834405,
          -0.0009632974858711296,
          -0.12864450100886562,
          0.0939742766252009,
          -0.23555232906840667,
          0.19892202661150646,
          -0.21482519784910065,
          0.14200642209427314,
          8.261315961892969,
          0.14698781468167935,
          0.14718389033927798,
          0.015129559112354573,
          3.9519094768781207,
          0.015146386231365841,
          0.18095146898429854,
          0.04024433656783432,
          0.1787514848997128,
          3.783677168771184,
          -0.10121296451409358,
          0.021342362036786956,
          0.9270652701596189,
          3.3189122580192616,
          0.046581092293270655,
          -0.08723123606342184,
          0.1225238150904263,
          4.189753458761642,
          2.0905523859517463,
          0.12729676323307682,
          -0.17473082000062198,
          0.7451220622785854,
          0.03371350922303721,
          -0.09531088111420226,
          0.9457903660635172,
          -0.030996390239389115,
          -0.09144880182679975,
          -0.015766368196696818,
          8.179069834341904,
          0.05640239473490212,
          -0.08231827103654665,
          -0.14598741870895574,
          1.0715274988512438,
          0.2493299947715998,
          -0.017803914198927677,
          -0.07555005471991043,
          0.05188731502491402,
          -0.18483588482798693,
          1.1767723565898471,
          1.0132413447250657,
          0.15881368714362526,
          -0.01441237073069225,
          -0.10607187824097067,
          0.15912931987235698,
          0.21189225123978758,
          1.2141738212061544,
          -0.1099711186429168,
          -0.030349062982514136,
          0.12956720075186284,
          0.12556603424638627,
          0.004115953459229701,
          0.09683884061294776,
          0.06253134137641661,
          1.0499162318845312,
          -0.05048374549340508,
          0.13210727961700605,
          0.11275903190181177,
          -0.040565022925255975,
          -0.06731608886815776,
          1.9260633173628159,
          1.017630427352854,
          0.7401423089208607,
          0.2596732265768443,
          -0.0478447167647547,
          0.8444600045356669,
          0.31098501808156537,
          3.8776844327999966,
          0.9411904813576367,
          -0.28114725937210544,
          -0.07218363443425321,
          3.862226677557694,
          0.9949009271439692,
          -0.04980762911703334,
          0.14641934000777537,
          -0.1706917634631788,
          -0.0273643869402715,
          4.231609645615329,
          0.0479984818819907,
          0.02005149012166574,
          0.01184955897343899,
          -0.08211433085754409,
          -0.210694678273793,
          0.003208662594250332,
          -0.05672430356403866,
          0.016648670027253145,
          -0.26874025798815565,
          0.2195193537732055,
          -0.13521694965169392,
          0.00331403750962072,
          0.10667384308412738,
          -0.2186841188635143,
          1.766324187554757,
          0.1848221387543631,
          -0.18991898443600017,
          0.8876796740176224,
          0.7301031109079327,
          -0.10300666264688123,
          0.9683916618754459,
          -0.06486810218016525,
          0.1387510718593493,
          -0.10361552782803822,
          8.225399921377704,
          0.09055640478266944,
          -0.2511268836934915,
          0.13266419803461724,
          2.049403329177524,
          -0.009091128439553951,
          0.9867941984300047,
          -0.189016598419652,
          0.00611344541425201,
          1.1317623148439748,
          -0.12793982055351757,
          0.3610634495301549,
          -0.18671289615009584,
          1.1144022183777833,
          0.20512284557843036,
          -0.1092549415038188,
          -0.26768615359148684,
          1.035183579576081,
          1.0848223975480062,
          -0.059177891051554174,
          0.0662603435913286,
          1.061946199536398,
          0.9825940542906083,
          0.03528447698669641,
          0.9048612299959451,
          -0.34060277981422077,
          0.9543699626203224,
          0.9856014159039046,
          0.008135337942662734,
          -0.11153660462265096,
          0.13474656192351367,
          0.0009134584018015105,
          0.16014102696825613,
          -0.058429748157310675,
          -0.10500964160461877,
          0.05589380932356194,
          5.038195094148101,
          -0.041895457543511205,
          1.0831486543577757,
          0.07994632692427292,
          2.017300331443529,
          0.06831527290920089,
          0.07378700338942144,
          -0.11192873962108521,
          -0.10699569591780682,
          0.1855561857097268,
          1.0998889939207115,
          0.8277550462860861,
          0.02152337214815096,
          0.9046856880465037,
          0.0007188451552909953,
          0.06671761292833046,
          0.011680571602874914,
          -0.026393927694778035,
          0.06760352654281739,
          0.022219678091685104,
          0.3276523325174727,
          -0.017756956063253587,
          -0.1312519161494728,
          1.0121664443736085,
          -0.04105870604435794,
          0.15148112898303998,
          -0.1427605914278637,
          -0.1408607825875682,
          0.0020206966510889963,
          1.016055144242656,
          1.0996526647365494,
          0.1384350855523758,
          0.11202059650386365,
          0.9146971496310382,
          0.12195878361310959,
          -0.06766806637254236,
          -0.12715192440751497,
          0.06481091328426032,
          1.0199505898907655,
          0.8004001568080861,
          0.10468705089293917,
          0.9524965776883084,
          0.07511033827142709,
          -0.22395120490939951,
          -0.2900809266287857,
          -0.027515687398336253,
          0.13236534173222722,
          0.3062397742639088,
          0.4229735238338734,
          0.046378744609548654,
          0.1752974784842576,
          -0.015213338117892836,
          0.37643340762431776,
          0.24907972454948255,
          -0.0782128213732836,
          0.04405232241448869,
          0.14402594391244056,
          -0.009987824637328918,
          1.1492844357778003,
          0.9949990155041686,
          -0.16261041754929856,
          4.875142592360119,
          -0.2141195369228705,
          -0.08410949238202721,
          1.0707962551177361,
          -0.06021047732813504,
          0.02235692444938086,
          0.8564140074095568,
          1.0105463976437692,
          -0.08026737266921737,
          0.05580748828020076,
          -0.018088353314427423,
          0.17835340516517895,
          -0.014611809792369809,
          0.06062124617094914,
          0.07514341607124018,
          0.11405370203113499,
          1.1112511164889058,
          -0.05167463146990634,
          0.12154543563920109,
          0.07167103132929689,
          0.03439156586422449,
          -0.3933059436517684,
          0.15790277371349926,
          -0.11825173978100947,
          0.057265037434401415,
          0.19792364851223013,
          -0.04715373022982874,
          0.2242468186505988,
          0.04282249350317448,
          -0.023728130691334958,
          0.17896669389220973,
          -0.30133907770578405,
          0.10525880210040026,
          1.8483688342610118,
          -0.23016235238400723,
          0.8860951748362649,
          -0.0008498894599808143,
          -0.043684706582487645,
          1.2149451918127492,
          0.9746798615407359,
          -0.2430999668078501,
          0.13092477106541592,
          1.1473472218090157,
          1.0192871942557833,
          0.10490938497526185,
          -0.165675211525904,
          -0.23131652052557286,
          -0.013613461842982165,
          -0.04207057304146767,
          0.10626692371985406,
          -0.018443525990454623,
          0.06226540116393875,
          -0.02107386275429434,
          -0.19291318436449587,
          1.8692422547909926,
          -0.05078070431071784,
          -0.02831579011767627,
          -0.13844068049329789,
          -0.12252844118345264,
          0.030249079009554543,
          -0.08057198788895727,
          0.3295493785015351,
          0.06723078083032145,
          -0.04217138112262271,
          0.0070067318195111295,
          -0.07426571565620592,
          0.046391486578680634,
          0.9503342254164313,
          -0.02207005881513143,
          -0.18269183531552033,
          -0.20358613563680278,
          -0.10209891909318256,
          0.8345961691354213,
          0.9826834654109792,
          -0.16514081135338568,
          0.13913348662950023,
          0.8909785703599381,
          -0.3331353297355103,
          0.12998604718903392,
          0.21102171929598348,
          0.16670841674909362,
          0.7478068908548037,
          0.08152747133716405,
          -0.06377235859741007,
          -0.02281197007998678,
          -0.07117309786182192,
          -0.07907362528429696,
          0.7081081912316955,
          0.11011178381299781,
          1.0502163504895021,
          0.8280013732454945,
          0.9148588279799936,
          -0.061904189335169425,
          -0.23607147989680297,
          0.05034598467644681,
          0.024291221118382122,
          -0.21770299549431696,
          0.023675022246885318,
          -0.010270135446287089,
          0.011604968165584434,
          -0.26495184382444253,
          -0.01631301820537979,
          -0.00021426566868495026,
          1.1036886970021609,
          1.123100410954898,
          -0.006282665394160546,
          0.136681864818697,
          1.186153900254492,
          0.010550310105596008,
          -0.0858960788589003,
          0.08449784952174813,
          -0.01133470351380859,
          -0.33473660484815876,
          1.9143845810269409,
          0.07265213627583035,
          0.12297730189198777,
          0.03790543352773531,
          1.8840280009735164,
          -0.042367816833829224,
          0.04356714865902078,
          0.08334055690103956,
          1.2064484005203862,
          2.1254074292120855,
          -0.09030992149633574,
          -0.045981883087718126,
          0.2256218114355359,
          0.8367923906443718,
          -0.029201685890880145,
          0.007252028841131992,
          -0.10137639078592924,
          -0.09023089417078241,
          0.14622252152178258,
          -0.013897255686280698,
          -0.0679950934306687,
          -0.14691706805541402,
          5.144807074755398,
          1.0829129987168886,
          0.8966497441134224,
          4.180241174844165,
          0.02742972079502889,
          -0.3099557133814023,
          0.9428052367663584,
          -0.055463071911723026,
          0.221758789832439,
          0.27041200860493403,
          0.18787304798813792,
          0.3759698630696527,
          0.8943003369693081,
          0.07349570945721337,
          0.25718928328405927,
          0.20102139447831976,
          1.3075131771963044,
          0.18853549724919602,
          -0.24951405170490545,
          1.0661439074958161,
          -0.005556859371083958,
          0.8150894599991625,
          0.21449531481001763,
          -0.1516668477235756,
          0.020631535593020896,
          -0.16931084084461637,
          0.15882507274375793,
          1.2433717900566166,
          -0.0073484827527896465,
          0.172987828815669,
          1.0820259091232884,
          -0.04123359068742459,
          1.0220038387979717,
          -0.13987915657945704,
          0.037314127495568,
          0.18822055305555713,
          -0.23269304628586898,
          -0.27517443261533275,
          0.07407451844586344,
          -0.20371761905934457,
          0.0009546637521704366,
          0.021230750923833735,
          0.9026993309994643,
          1.2993012325208904,
          0.17650556307635032,
          1.0611427786012904,
          1.2289494005623105,
          0.9758547378956157,
          0.1269925711848173,
          -0.002895851314906068,
          0.16036598582649225,
          0.16541622515420348,
          0.9886592247002757,
          -0.015166474713118662,
          -0.06436303578344363,
          0.16667521961385062,
          0.17195469100937827,
          0.12280383472093882,
          0.0064197679605037744,
          -0.17407257453881916,
          -0.0608261158066785,
          1.0007586790802818,
          0.18558817872029415,
          0.1041605968381604,
          -0.10243691878663444,
          0.1096294938588711,
          -0.13687441297607217,
          -0.032910550450233875,
          -0.09403957867339931,
          0.03631537928253818,
          0.9191343572376303,
          0.16428638620869918,
          0.19102726864951508,
          3.957679402489485,
          1.0011925074810237,
          0.13943396358985544,
          -0.05109563459182735,
          0.004311120709046355,
          -0.020037826743166474,
          0.018816050430791882,
          0.21869984713569793,
          0.24597545558342074,
          0.14014101711505733,
          1.3165987443461538,
          -0.03484658046365009,
          0.11721807497065996,
          0.16516857857810452,
          0.07319315487612674,
          -0.07687967076702029,
          -0.12751638533418955,
          0.08321926622896807,
          -0.1414136672316741,
          0.05097951072155647,
          0.12852646435867254,
          1.3535540248454156,
          -0.12401478937549182,
          2.9774263480574925,
          -0.25639751497037,
          -0.2058675441634035,
          4.152693559718098,
          0.0163305182345897,
          -0.008577949239391735,
          0.12429694847279651,
          0.057180406128438256,
          0.808439336190848,
          0.0051907930109977105,
          -0.28226800360324067,
          -0.05361124921932383,
          0.3120970164754682,
          0.19681708902976042,
          -0.30265822125260283,
          -0.06964149608265838,
          0.1182885290219565,
          -0.0968774996847659,
          -0.0035673496919419274,
          0.04751137057941662,
          0.03533434994274077,
          8.19494275554045,
          -0.023419531649969155,
          0.01849596966775039,
          3.932892264321787,
          -0.07791477924544868,
          -0.03901586214442957,
          -0.04682561091125757,
          2.127213308323791,
          0.9773480555777017,
          0.022487025111825373,
          -0.16456251823374343,
          0.0699188628697262,
          1.0340814070917592,
          0.030831115592724136,
          0.0428051486870585,
          0.02947314659783527,
          -0.1396966171563381,
          0.15463071913210436,
          0.028239929756182162,
          0.10074870290385059,
          0.05765391965016564,
          0.1653191212222497,
          -0.24219924293287107,
          0.016274283920280217,
          -0.022581946987429286
         ],
         "xaxis": "x",
         "y": [
          -0.26462955167535906,
          0.13772017047598722,
          -0.05993099571708777,
          -0.014672390915949685,
          1.0732369131477586,
          0.02436819268187047,
          4.805779408794871,
          1.087136975496801,
          -0.1647433209628326,
          0.1691389032576305,
          0.132623334358104,
          -0.2070150260241455,
          0.19111372810675945,
          1.8240143299444678,
          -0.061018538789143976,
          -0.18696090587225814,
          -0.06112673890923846,
          0.07782803607016321,
          -0.049373596088705576,
          0.09811346488201242,
          -0.1387378001194753,
          -0.11445390670732383,
          -0.10962679798249475,
          -0.13211757083478354,
          0.13057940893570738,
          1.0586036892489665,
          -0.027825295107504054,
          1.0971136326149515,
          -0.182949746321778,
          0.01250844093346061,
          2.3101884241155184,
          0.2897723890261082,
          0.13487110072180858,
          1.8271845712036736,
          0.05267565740465237,
          0.8258889887524966,
          0.03948339670371971,
          -0.048850770923717014,
          -0.005900898852101427,
          0.1085702075307914,
          -0.10670087849784457,
          0.05994501399253419,
          0.1471183671464447,
          -0.025253200591107312,
          0.16392480844732707,
          1.991845719377834,
          0.11612943733073863,
          -0.12290789819261715,
          -0.1463002154477022,
          3.0164053507454454,
          -0.11227716221331409,
          0.07919004537751964,
          0.03858296330978083,
          -0.01654640478860023,
          0.09018449262056083,
          2.1354808935641816,
          -0.14669829270277018,
          0.1482220582684529,
          -0.006519911958245703,
          1.1435434386538863,
          0.011942840446887995,
          0.06519485971402865,
          0.9041089062503479,
          -0.1912783973758419,
          -0.14821071141643585,
          0.11885185112793241,
          -0.02159821420176512,
          0.0989209573718276,
          0.18901232162601608,
          0.17596493663909715,
          -0.007515170978573316,
          -0.07891944991425524,
          0.016065504363754625,
          1.1298114021300303,
          0.1584070382045529,
          0.1008866305067395,
          0.015495385553803994,
          0.910004739970025,
          -0.37718029623569416,
          -0.02989392040272304,
          0.08237296728225385,
          -0.09204391137107489,
          0.21383836204966272,
          0.06117578907343875,
          0.24023521748851545,
          0.01943185382983598,
          0.20857990549590663,
          0.03612612936556666,
          0.27276056437624685,
          -0.16656803053784303,
          -0.3735293021365796,
          0.949902839530597,
          0.24260041092579598,
          1.988567661100874,
          -0.07857338182259847,
          -0.14777671192599753,
          -0.12154831738868103,
          1.890446848039324,
          0.0826026781906637,
          0.8128906420570267,
          0.09211664108789311,
          -0.045583435626084405,
          1.963700122606951,
          0.9916513629303779,
          0.17510775900141343,
          -0.13937287576997118,
          1.0629324490635736,
          2.182981713774166,
          -0.12864125835217508,
          -0.31849414902311984,
          -0.047125062417321575,
          0.8285627068721373,
          0.12324697766846902,
          -0.048582935144000194,
          1.3999892976233275,
          1.0759702050254218,
          -0.075148635924922,
          0.09895153669767774,
          -0.044115077973361505,
          2.138209591142853,
          1.0190576964107334,
          -0.2119375803406976,
          -0.22505830780988118,
          0.865975807902749,
          -0.17921186179584156,
          -0.18537077755173817,
          0.9144225115535547,
          -0.04708929347968226,
          1.1272423838759176,
          -0.0837037206881127,
          1.7240815445189905,
          0.21928771116810783,
          -0.15649860863855114,
          -0.35254521630002256,
          -0.11443553453536333,
          -0.06339629646321963,
          -0.2759713571953125,
          -0.10579996997883576,
          -0.17601712571858558,
          0.03523529416669849,
          -0.22245875114135577,
          0.12244021571607475,
          0.19584809233097272,
          -0.15762379016265385,
          0.15136699996254485,
          -0.06786774902442913,
          -0.02820218966493068,
          -0.07535072793389337,
          0.14851266714018602,
          -0.12818969932957308,
          -0.260422182664794,
          0.008578725577797269,
          -0.2380630069972309,
          0.2546250531860953,
          0.34922021791297064,
          0.07670007736157815,
          -0.14328863288417285,
          -0.09388837749639382,
          -0.019302321249061467,
          -0.018392458940893773,
          0.12715683289105256,
          0.20906333418715442,
          0.8528682855216112,
          -0.14028672152388458,
          0.045968465456755335,
          -0.013619614300819071,
          -0.22218946225826533,
          -0.06143053171381869,
          2.080362227872505,
          1.1231154119581175,
          -0.0782863403818667,
          0.09060219388404799,
          0.9787513070155945,
          -0.016706166274059457,
          -0.08482639187253349,
          0.06920887075490677,
          1.08133538404792,
          0.26201229969504236,
          0.7060938586819271,
          0.021583773918095156,
          0.09148440145692796,
          0.31033294123440724,
          0.07420832127387518,
          -0.10419284472454475,
          -0.13098650690237218,
          0.025831917274063986,
          -0.14932236309266433,
          0.07374302708213502,
          0.07359923833294045,
          0.10497367351245131,
          0.10669191558427157,
          0.045189059863580204,
          0.24477105227547374,
          -0.14017185814907665,
          -0.08605899110891077,
          0.3581862608458542,
          2.0896190885180848,
          -0.07789827818063035,
          -0.08941068830621557,
          1.1752638832327384,
          0.2525083740692295,
          -0.09958661006647447,
          0.11649157826164537,
          1.9449135402241198,
          -0.18422881026735752,
          0.205951867132968,
          1.057381305051368,
          -0.238567932090753,
          -0.14511856974532475,
          0.15213401143832206,
          0.10520443106890741,
          -0.031894976972932594,
          0.8598646967551498,
          0.21554628621102892,
          -0.08044960153762602,
          0.09333525323340099,
          1.0308232890655882,
          -0.32182472547459545,
          0.22679992962896525,
          0.11388779164301632,
          0.983408129724831,
          0.052113814268125246,
          0.037524998991548944,
          0.008942867196761569,
          3.9714023490952877,
          -0.09960810330468468,
          0.05953963338233061,
          -0.051908272256045905,
          -0.03706270559400049,
          0.11194468205839514,
          -0.09953118283932047,
          0.034273818857514717,
          -0.03642365319089373,
          1.9253360533311479,
          0.07401923008191284,
          -0.13431340038362932,
          -0.04865160480681557,
          0.04158303246916883,
          -0.08446865615814311,
          1.986364883250311,
          -0.016491947212081477,
          2.210792565226585,
          0.12456510736131303,
          -0.28904057021776763,
          -0.28247908384235565,
          0.14111072966845875,
          0.049465576439223204,
          0.044299125373738264,
          -0.01512162298510382,
          -0.047148322982183376,
          0.36509469345181716,
          -0.20911299429606575,
          0.9855549797554634,
          0.28328930743399755,
          -0.13089988478204653,
          0.14487208824279238,
          -0.049304921445014124,
          0.012350974350749246,
          0.1058945014798046,
          0.2686296148432818,
          0.031732649008535535,
          -0.060929671331443454,
          1.0264627742393508,
          0.11428531856486558,
          0.02081422901618437,
          -0.10711048211457329,
          0.11593327306661758,
          -0.035030767854174076,
          -0.1243746066829395,
          4.003745414637871,
          0.26367400008135033,
          0.0005656617425594793,
          -0.0066242199158308025,
          0.09985639537683369,
          1.9367042225137627,
          0.21367692621998982,
          -0.016908655084497626,
          1.762493197200015,
          0.07327585086033217,
          -0.10053244645006587,
          0.1919276672699624,
          0.3017761168293222,
          0.10501273713816679,
          -0.10096741631660622,
          0.020426820361565307,
          -0.16996730603721286,
          0.09183069207483353,
          -0.4253749906972833,
          0.11202426235320839,
          0.10903508731886535,
          0.027404781125591828,
          -0.040003216659847886,
          -0.27762269879071283,
          -0.18175696236385916,
          0.13940741368246426,
          0.08943639920520183,
          -0.10477323154933446,
          0.058901671637633095,
          0.14432540908412303,
          0.21241555114208893,
          2.09797084331459,
          0.031380844465608515,
          -0.10115213172320756,
          0.038381437504138076,
          -0.0723532789812746,
          -0.12050475603357988,
          1.082337430637307,
          -0.02455677450630687,
          -0.07528358406193165,
          0.021958251167738356,
          0.03962657690377352,
          -0.41744294879370064,
          0.20962334005489017,
          0.05268052419358817,
          0.15090509376394512,
          -0.1075219365308163,
          -0.20319123289640964,
          0.03829752042562961,
          0.027132048229548004,
          -0.022125237110127184,
          0.11380142066882207,
          -0.18559847119891937,
          -0.12234236015035829,
          0.1936042313049808,
          0.127154947269043,
          -0.14139139679035953,
          -0.13913296815360973,
          -0.14486251233729835,
          -0.17580230499186777,
          0.0969586707833655,
          0.025083512641625918,
          -0.08376344682923835,
          0.14156891129551255,
          0.8884297371077371,
          -0.06686584716378803,
          1.084892723311425,
          -0.0912697379615365,
          0.16880444027385808,
          -0.1995399208240492,
          -0.17077343429994246,
          -0.10078968943014487,
          0.006868681220777085,
          0.9280552647169978,
          1.221191212671419,
          1.9451641260313999,
          -0.273809167972037,
          0.013540680697569479,
          -0.06785576444078711,
          0.2025448643933061,
          0.33368072947234856,
          -0.12841026022307897,
          0.09122252189140834,
          -0.011921650732460565,
          -0.4775524958790836,
          -0.25892702196999606,
          -0.10595990142904599,
          -0.17744295812150732,
          0.12350172753884887,
          -0.18355093859781957,
          -0.2990039067689934,
          -0.16939224185730986,
          0.18239807106131295,
          0.19032090408382937,
          -0.11728384460001916,
          -0.09418802125577283,
          0.06742793897381345,
          0.23680773407157354,
          0.9622564097730567,
          -0.2570090664976037,
          -0.04995618673096906,
          0.009951384682034076,
          0.16365074216748374,
          0.007474804877804497,
          1.0218162009509222,
          -0.10517536681635424,
          0.2677998602640984,
          0.09091738594666078,
          -0.15351805329802493,
          -0.04924345771213588,
          -0.11289564903210166,
          0.14372833547010475,
          -0.062290507022828255,
          0.03174304283570666,
          0.08675449281201121,
          -0.05930207978190748,
          -0.022747083062034528,
          0.1940446112332698,
          1.2994570802638656,
          -0.15152901153151005,
          -0.024848839362448038,
          -0.14877398443119733,
          1.062346804862727,
          -0.028356026340833083,
          0.052581593033572786,
          0.16484598425861602,
          -0.09639772775539898,
          0.09765379306865628,
          -0.14482727145856766,
          0.1946789015598902,
          -0.05256609047582344,
          0.08504270211216722,
          -0.09398580254349101,
          0.016925818404364256,
          1.0452930163340879,
          0.0056203378935437975,
          -0.16883286065013334,
          0.0322395783082825,
          -0.24448657014857716,
          0.10982349339398992,
          0.12745062050765904,
          -0.3925965732419547,
          0.13210865588588308,
          0.4091838586571857,
          -0.22509683492296623,
          -0.05050038713873071,
          0.10746824161066504,
          2.0585407285224067,
          0.13939432773384944,
          0.09190863844518814,
          0.14446748355393274,
          -0.1334277122635968,
          0.3478024225875311,
          -0.027401272914719048,
          -0.09669991044760558,
          -0.02252142374830927,
          -0.041017326389230294,
          0.07141788059316947,
          -0.01603993149116097,
          0.10323930625546947,
          0.07601562193395214,
          0.20466861422843916,
          -0.11805609114040116,
          0.8490967181129974,
          -0.07274188209553818,
          -0.08662242089935734,
          2.149415424707468,
          0.7855821009047825,
          1.9765165462871621,
          0.7514564374666685,
          0.026073381966714913,
          -0.07487966065615359,
          0.07871186320396796,
          0.25093217160226394,
          -0.06553153418027421,
          -0.07340031172571372,
          -0.007975651673263457,
          0.31145512047678825,
          1.207495761571544,
          0.21543965989364683,
          -0.10244001615753737,
          0.01795115886816823,
          0.07648330292447482,
          0.2799275965216107,
          0.030025574658075555,
          1.1406673973805062,
          0.011456474672590195,
          0.015035400158664895,
          0.073094741879642,
          0.1377598743226057,
          0.261922920277766,
          -0.05303372362602533,
          0.19373183920695652,
          -0.20539310220924012,
          0.20088351598663112,
          -0.08565540574819959,
          0.016169354061921597,
          0.13048728398570214,
          -0.08217491612542646,
          0.19682028724218514,
          -0.10604180855259149,
          0.18704536175153594,
          -0.1438682809279808,
          0.02234425674227614,
          -0.0419749216263471,
          -0.04822276762065554,
          -0.06940695349746219,
          -0.01445447760484682,
          0.028239568881430928,
          -0.2282139987944484,
          -0.10797877617282892,
          0.9790222067121527,
          0.9677430749547322,
          -0.01100210378422815,
          -0.04273926869167944,
          0.9029019119613665,
          0.14052486461962818,
          0.02489051613657436,
          0.6710133634797095,
          0.008104326906961879,
          0.07923199684323834,
          0.038535655018634464,
          -0.04758333754147183,
          -0.2528915228643884,
          -0.19770230383871554,
          -0.045383282636119966,
          -0.06214760132385872,
          -0.32186615637519456,
          0.028209564067666896,
          -0.02380896537892777,
          0.05625072857842028,
          -0.089661722640676,
          -0.038720724353616794,
          -0.3197263603374143,
          -0.09222534673223458,
          0.07131386290885407,
          2.0769712118893167,
          0.042717436625939034,
          -0.09694200043934305,
          0.9735439894457119,
          1.786050261844437,
          0.01985916418100383,
          0.006073582908365343,
          -0.035707819059567374,
          0.0004919139876036407,
          0.0820765207055638,
          -0.08288901359526842,
          -0.3336352291933036,
          0.14249146270408813,
          1.9701292701744069,
          1.058499712973903,
          0.033163013885454014,
          0.08886764928997079,
          -0.10030519888903193,
          0.008431836000294252,
          -0.0038062019890200785,
          0.20499067763104353,
          0.16851509698196623,
          0.014735412702148055,
          -0.1952139482874129,
          0.8926865887922854,
          0.015172172537673051,
          2.1615566436914038,
          0.20196832101019854,
          -0.009983855896758676,
          0.8588453442272289,
          0.08980122517813306,
          -0.026551483030409457,
          2.2300642644623965,
          -0.0351064876705648,
          1.093374020769182,
          0.12223529287754767,
          -0.00023990550999644528,
          0.026754836069786153,
          0.03387796178620933,
          -0.21883266982736124,
          -0.16147747652058791,
          -0.042591618977515,
          -0.12052437234629096,
          0.2705358428671616,
          -0.15364789651782737,
          -0.050244003078838695,
          0.011748361570978942,
          2.069522692002618,
          0.49390210074844737,
          1.186047454938496,
          1.8023163723113498,
          0.04116775876407724,
          -0.04955296596940362,
          0.03549444203535419,
          0.2298308909682933,
          -0.34087129210328027,
          0.010737823532567243,
          0.02410066530807267,
          -0.29273657061428054,
          1.0857070951539545,
          -0.13586066980760786,
          0.11864732623554071,
          0.07599058733002213,
          -0.16623998855036873,
          -0.20391765468093054,
          -0.23391139867120123,
          0.00012073095905354017,
          -0.06877312322392845,
          0.08999510592856204,
          0.1338490431367805,
          -0.2886127212751787,
          0.01837317380241374
         ],
         "yaxis": "y"
        },
        {
         "hoverlabel": {
          "namelength": 0
         },
         "hovertemplate": "Sex=female<br>x=%{x}<br>y=%{y}<br>Survived=%{marker.color}",
         "legendgroup": "",
         "marker": {
          "color": [
           1,
           1,
           1,
           1,
           1,
           1,
           1,
           0,
           1,
           0,
           1,
           1,
           0,
           1,
           1,
           1,
           1,
           0,
           1,
           0,
           0,
           1,
           1,
           1,
           0,
           1,
           1,
           1,
           1,
           1,
           1,
           1,
           0,
           1,
           1,
           1,
           1,
           1,
           1,
           0,
           1,
           1,
           0,
           0,
           0,
           0,
           1,
           1,
           0,
           1,
           1,
           0,
           1,
           1,
           0,
           1,
           1,
           1,
           1,
           0,
           1,
           0,
           0,
           1,
           1,
           1,
           1,
           1,
           1,
           1,
           0,
           0,
           1,
           1,
           1,
           1,
           1,
           0,
           1,
           1,
           0,
           1,
           0,
           1,
           0,
           1,
           0,
           0,
           1,
           1,
           1,
           1,
           1,
           0,
           1,
           1,
           1,
           1,
           1,
           0,
           1,
           1,
           1,
           1,
           0,
           0,
           1,
           1,
           1,
           1,
           1,
           1,
           1,
           1,
           0,
           1,
           1,
           1,
           1,
           1,
           1,
           1,
           1,
           1,
           1,
           1,
           1,
           1,
           1,
           1,
           1,
           1,
           1,
           0,
           1,
           1,
           0,
           1,
           1,
           1,
           1,
           0,
           1,
           1,
           1,
           1,
           1,
           1,
           1,
           1,
           1,
           0,
           1,
           0,
           0,
           0,
           1,
           0,
           1,
           1,
           0,
           0,
           1,
           1,
           1,
           1,
           1,
           0,
           1,
           1,
           1,
           1,
           1,
           1,
           1,
           1,
           1,
           1,
           0,
           1,
           1,
           0,
           1,
           1,
           0,
           0,
           0,
           0,
           1,
           1,
           1,
           1,
           1,
           1,
           1,
           1,
           1,
           1,
           0,
           1,
           1,
           1,
           1,
           0,
           0,
           1,
           1,
           1,
           1,
           1,
           0,
           0,
           1,
           1,
           1,
           1,
           0,
           1,
           1,
           1,
           1,
           0,
           1,
           1,
           1,
           1,
           0,
           1,
           1,
           0,
           1,
           1,
           0,
           1,
           0,
           1,
           0,
           1,
           1,
           1,
           1,
           0,
           0,
           1,
           1,
           1,
           0,
           0,
           1,
           1,
           1,
           1,
           0,
           1,
           1,
           1,
           1,
           1,
           1,
           1,
           1,
           0,
           1,
           0,
           1,
           1,
           1,
           1,
           1,
           1,
           1,
           0,
           0,
           1,
           1,
           1,
           1,
           1,
           1,
           0,
           1,
           1,
           0,
           1,
           0,
           1,
           0,
           0,
           1,
           1,
           1,
           1,
           1,
           1,
           1,
           0,
           1,
           0,
           1,
           1,
           1,
           1,
           0,
           1,
           1,
           1,
           1,
           1,
           1,
           1,
           0,
           0,
           1,
           0
          ],
          "coloraxis": "coloraxis",
          "line": {
           "width": 2
          },
          "opacity": 0.7,
          "size": 8,
          "symbol": 100
         },
         "mode": "markers",
         "name": "",
         "showlegend": false,
         "type": "scatter",
         "x": [
          1.1610558469649095,
          0.08589892145501611,
          1.0259323777767402,
          -0.06241202202031091,
          1.0684835474898038,
          0.8404310349880203,
          -0.0644059739290023,
          -0.0024493294186945995,
          0.03997699932322413,
          0.8982977978099338,
          -0.0986118796443914,
          -0.027929734978359756,
          2.980293948440547,
          0.8312145721003592,
          0.41286947956152226,
          1.0094127540095588,
          0.07073816834299892,
          2.070048250101968,
          0.9002502081241021,
          0.8681736724211685,
          1.1327407915125631,
          1.0085805153908898,
          0.300584339291714,
          0.0790289653573386,
          0.8749231773043462,
          1.0587651888812692,
          1.0685128010325908,
          -0.0775409949037421,
          0.8447882381320333,
          -0.03623163646478198,
          -0.43237146533354043,
          4.021526805813771,
          5.301127493526425,
          -0.035421480527667616,
          -0.010326548669607806,
          0.07444504143540319,
          3.0930511155051015,
          3.0694232673520814,
          -0.10118299795744232,
          -0.29662222864172516,
          0.2033801499369531,
          1.119594412367309,
          0.9334936046913243,
          0.9601268635405058,
          0.16431574394026696,
          3.8338476592774207,
          -0.31707497040904603,
          1.0019078997128756,
          0.8050493136861732,
          1.105471597971217,
          -0.13430121497172381,
          0.06838738316532075,
          0.1274993066639576,
          0.8391315249162995,
          2.173352204669177,
          0.8633158404009584,
          -0.08265691621930384,
          0.0029804471164798095,
          0.17738939366161896,
          0.9717756736959912,
          0.9440542670620332,
          -0.029427305702134626,
          7.89189840100747,
          0.028223260253728965,
          0.7218227793047174,
          -0.1706418865539431,
          0.9625854934501762,
          0.11179849941876631,
          -0.05931440708423469,
          -0.0036188687428080992,
          -0.25074055146321067,
          -0.20722831543717968,
          0.2421715409497416,
          -0.10604314071375022,
          0.5924456502954034,
          0.17511577082704996,
          0.08554552016417735,
          2.9134375235122705,
          0.899320509578749,
          3.917092774883465,
          -0.15544949441126077,
          -0.22521604271399537,
          0.9026777030744071,
          1.093016845322866,
          0.15286499142163687,
          -0.08887761907856795,
          1.1110985855565831,
          0.16654995098458167,
          -0.30538356039485404,
          0.17223592878921173,
          0.14326106886714593,
          0.27190156477562033,
          -0.030444065330540535,
          0.2901379137210944,
          0.04070425314579023,
          0.13373674492495918,
          0.05879406237536611,
          -0.09358944366222435,
          1.1887459365991035,
          0.09805372034225904,
          0.7441522366314919,
          -0.007485486818794538,
          -0.08915880270078579,
          1.08609108286262,
          0.07921762934111545,
          1.0732278251070895,
          -0.1737509918484613,
          0.008826034759961559,
          0.2005031702008099,
          0.008069657707269065,
          1.1151406557429406,
          0.24225639042699632,
          -0.05852303644878214,
          1.8425625213901178,
          0.9452231800643558,
          -0.026593092907107367,
          1.1741329796394373,
          -0.058591326442216055,
          0.8981211591535597,
          0.2315832742587368,
          0.8763842537596174,
          0.1562097909023354,
          -0.26784435615222474,
          1.1225753168232941,
          -0.11616177955185938,
          1.8618468253588303,
          0.9551094033452142,
          -0.07815358882207808,
          3.088978163456365,
          0.019273875941256235,
          0.22748190936510385,
          1.0942724967928041,
          0.019495283634200045,
          0.010364948246462563,
          -0.0018659814341577755,
          0.23283579409480532,
          0.03623188504155165,
          1.0800594797365204,
          -0.08649583706405063,
          -0.00892827645339667,
          0.06444421374242502,
          2.91151218635584,
          0.9474610057541213,
          -0.0204226534213976,
          -0.33038919573703046,
          -0.01847529572364748,
          1.069094045856813,
          0.05271077217897901,
          0.06969315934317483,
          0.922252144011167,
          0.3011547260603657,
          0.05319304827407354,
          -0.2084061883399849,
          0.9996274436841184,
          0.0962250669522798,
          3.096867560398458,
          0.674344329744936,
          -0.06599005876294886,
          0.991167270753954,
          0.10402471816539272,
          0.012569205219979212,
          1.1117103624394014,
          1.091445388410139,
          -0.05436965001981885,
          0.9777012434832038,
          1.0082917371698479,
          0.8819117030347167,
          1.8829489949728015,
          2.2193247265204583,
          0.9627495075233321,
          0.09513286336824292,
          0.2581093128657716,
          2.075404504482821,
          0.9999615015775248,
          -0.39755797551393,
          2.0701054966899712,
          1.2042955224550245,
          0.0538016896320599,
          0.2897859296831062,
          0.25037587880842466,
          -0.036356095930121214,
          3.3245737253832495,
          1.0244570857825483,
          0.9465788141354874,
          1.097640189619879,
          -0.022848194606200446,
          -0.04897537803774017,
          -0.13009468000743338,
          -0.014273740875984814,
          0.035592159400813235,
          1.174779538640869,
          0.02232136416697659,
          0.9611175035027272,
          -0.050665322376906775,
          0.1591502181870789,
          -0.009462297217853024,
          1.0299407219750523,
          0.18903259938312802,
          0.253718698960852,
          0.23682527520166077,
          0.05398435143725468,
          -0.27605341299420066,
          0.09340191634887231,
          4.243161722821105,
          4.372526746312621,
          0.752844788216962,
          -0.11420712514822993,
          0.9703584341312609,
          1.1236906869048882,
          1.009498317986517,
          0.1406977546976888,
          -0.04846522342273995,
          2.0967516060408227,
          -0.0029340648428487423,
          -0.42169253850912686,
          1.011289529869038,
          1.1234131881351066,
          1.1078042416423133,
          0.9633182875014215,
          0.014229873548238542,
          0.9264812614523079,
          0.03631134630941135,
          0.11458074026046745,
          1.9345166886290537,
          1.0999883733057132,
          -0.013268561802159079,
          1.0462291620412498,
          1.0129003973559834,
          1.1387014649805223,
          0.9273469414974309,
          2.0171733391375417,
          -0.1727978863119058,
          2.689363741629123,
          0.05813684921612649,
          -0.2529119418955556,
          0.001920841920272925,
          2.944819585899481,
          2.1760311765042912,
          0.3261205684810634,
          0.20132618843913602,
          -0.21181191793257817,
          0.045451492792633864,
          0.842835121388732,
          0.9466272962212086,
          1.2832389749581692,
          0.28412023512787704,
          0.8131964715218218,
          0.09648806383987463,
          0.020742624754099583,
          -0.06719320236808776,
          -0.016211445796171186,
          0.9399001748356188,
          -0.024371244461525093,
          -0.11225239668194063,
          0.03848918847865012,
          -0.12916483842596588,
          0.04245025122812968,
          0.0628036764051662,
          0.109812316681532,
          2.9939979793277667,
          -0.08298043189004686,
          1.0111870070423046,
          0.07686274332170102,
          1.1440675460706797,
          2.290882261981928,
          0.015588910175338937,
          0.9396585358773155,
          1.0051770732020116,
          0.2682148851804419,
          0.9387037571006815,
          1.0556824690599758,
          0.1090659822879231,
          0.06486469822707822,
          1.0706042231557882,
          0.038546501466141796,
          -0.07450295661766926,
          -0.24019271281138374,
          0.7840894601054084,
          0.2018438114628054,
          8.037579973477941,
          -0.27731929297589686,
          -0.10280994983724326,
          1.0825364202573275,
          0.9241191254278404,
          -0.15874255751971655,
          1.095259477682924,
          4.021374610989929,
          0.028204955124317938,
          0.9627983282283458,
          0.013923730126690879,
          0.11389276827421886,
          0.7270781695780245,
          1.0324378648045502,
          0.11687997946822495,
          1.1911864947266153,
          1.0659678384964666,
          -0.013661912224233005,
          1.1317103233208623,
          -0.08438428913045064,
          1.193815449778656,
          0.09931364613636186,
          0.1284083108195295,
          7.790851800055133,
          -0.11827923625225625,
          0.9781901559659852,
          1.022235112598518,
          1.21048220194387,
          0.24979864365364984,
          0.0810116213956963,
          0.004439606211056985,
          0.1773995726561408,
          -0.08763605941987375,
          0.05062455140172234,
          1.0470102014553848
         ],
         "xaxis": "x2",
         "y": [
          -0.0421574724943265,
          0.22771066684028263,
          0.10075588041007552,
          2.065934268807759,
          -0.2766116617492164,
          1.1217651725762725,
          -0.05001539968976338,
          0.1326238192342996,
          0.08258360275190725,
          0.21421435740106037,
          0.14058768807457703,
          0.06967523766318862,
          1.1000289557345209,
          4.933482468049584,
          0.05177825105918162,
          0.13722900138956998,
          0.12459043804335482,
          -0.1942693024349367,
          0.15060436749071485,
          -0.12598691835398562,
          -0.1883506166008446,
          2.2238680339775074,
          0.04351826690509514,
          0.22710060455460157,
          0.1118393917368671,
          0.09663701216947636,
          0.24353870226316812,
          -0.11528818677399726,
          1.979715653298869,
          0.02843805813200907,
          -0.11662416639308436,
          1.9251874008120557,
          1.880145253337841,
          0.21430812403180668,
          0.017685097265478837,
          0.0037035158490875257,
          0.261467895182117,
          2.019201598546902,
          0.9551184134800023,
          0.24419529830112777,
          0.07514552281882358,
          -0.13240903642466087,
          -0.043642006505753395,
          0.07470284795167793,
          0.10828595908704682,
          1.798154163777057,
          0.24212565505110836,
          1.0690454737078114,
          -0.010713214529109893,
          -0.005582264377344749,
          1.8972166511370694,
          2.0007832009802042,
          -0.06683195313390082,
          0.06799190166919519,
          2.008289659683572,
          -0.045337574151082895,
          0.23009984519281873,
          0.2886414196392595,
          1.2635359845520817,
          3.8988735904415024,
          0.9472203446834044,
          0.0635986582077229,
          1.8048100998998888,
          1.879911916401113,
          0.037377171887949756,
          0.18583937541900933,
          -0.015314360241719043,
          0.047684286901795485,
          0.06990441013841954,
          0.10045569560749266,
          -0.021375157402919294,
          0.943426854067515,
          -0.12358174132019592,
          0.15364690023405775,
          -0.014675782010697982,
          -0.032541990219575344,
          0.22333480531442942,
          1.1416699929995597,
          0.2554364781159556,
          2.084608187619443,
          -0.05902112375396795,
          2.0535062713900336,
          0.30220240214011956,
          -0.06113659677173984,
          -0.09024852780850294,
          1.985475680513484,
          0.7822882728193609,
          1.775308228434197,
          1.7787165762045927,
          -0.009909476681518096,
          -0.07472969538180477,
          -0.00046933553992867873,
          1.081892271291596,
          0.11275558514424865,
          1.1585373017605693,
          0.02983866225517354,
          0.9399673370885173,
          -0.26803289946010406,
          -0.1253036605983532,
          0.39542789146916885,
          0.9914811611785596,
          0.006491905340400231,
          -0.02955491105241329,
          -0.2179337893018737,
          0.05476175549551308,
          2.184082367848724,
          1.1309593226948245,
          0.06797744544855079,
          -0.004074988256167532,
          -0.026755872647730782,
          -0.01361220911667096,
          0.16070238202290815,
          0.08489829266188151,
          1.856037295753683,
          1.0503065671340257,
          -0.14337943790648255,
          0.10566150091749323,
          2.1590512378167963,
          1.1098052396725444,
          -0.1571058202912777,
          1.0526962290177564,
          0.038730322342491574,
          -0.01565539847912349,
          0.8840554673888921,
          1.1400347656222898,
          0.11776612789712505,
          -0.02318789889823383,
          -0.12557397988534663,
          2.0412139524563675,
          -0.13489121879892121,
          -0.022532627554685908,
          -0.08745379704070912,
          1.346787008347667,
          -0.03253261252566172,
          0.1191934294317144,
          -0.238652695453581,
          1.0828119114716117,
          0.13388741650352334,
          0.20529374461986394,
          -0.08334945007372364,
          0.15010052885832717,
          1.1684701059984446,
          0.025735016224148123,
          -0.12404209806890838,
          0.1696427347435409,
          2.093457401976021,
          0.07174173535679096,
          -0.0013505957035843553,
          0.04070796137739021,
          0.20683530863496,
          1.7587579060256888,
          0.09515405394197336,
          -0.32606532013867395,
          -0.06330357172977112,
          -0.017860579671541667,
          0.8974862225441846,
          0.16265002923754115,
          0.11228300084249142,
          1.09321203638012,
          1.9638288813195335,
          1.8084377971806718,
          1.0440318629938183,
          -0.2583094643854125,
          0.10816542847089068,
          0.14389284680869915,
          0.10883921227080126,
          2.227398140149729,
          1.9354341501590806,
          3.162446931969535,
          1.0012582109452228,
          -0.003976165789638244,
          1.1700758910855709,
          0.8242089316724754,
          0.08362424006434648,
          0.03420574504604356,
          0.8610046464303944,
          2.0678788916809845,
          0.011452821367219354,
          -0.16318981151870435,
          1.2632307368319338,
          0.12400519305293659,
          1.0193344676905054,
          -0.019474685470376306,
          -0.2240759141331361,
          2.0414325953235553,
          -0.21546323839229178,
          -0.19600278385146508,
          0.08601341965637234,
          -0.051784025723635316,
          2.1155631085901767,
          -0.19702003224906292,
          0.11431070427354885,
          0.16730877422128923,
          0.008282308428650463,
          0.8286158262036036,
          -0.03254751269928448,
          0.7861690230700067,
          2.213027493782964,
          0.17328268410195657,
          2.0906194162157044,
          0.24753885059506153,
          2.005511168823393,
          1.9701513095788068,
          2.208985506255446,
          1.815165119010011,
          0.038572962777265206,
          0.09578039962212201,
          0.06753707464659596,
          0.8998882239004427,
          0.11232996124518221,
          -0.00143737063641743,
          3.8576767935561436,
          -0.09735047955186964,
          -0.09564972388159125,
          -0.04097548914675052,
          0.23404871546013814,
          -0.1332802824839873,
          1.1208026413061172,
          1.164977502614122,
          2.110161713913019,
          0.127090663289186,
          1.8802433603157431,
          -0.12845137592331887,
          1.4169656566020543,
          2.020156180792282,
          0.11013943015830056,
          5.021781334502723,
          -0.012664777065212542,
          1.9337811473232038,
          -0.15500710960709022,
          1.1497852254391039,
          -0.27872018548621835,
          1.9025355617573736,
          -0.06473681779042369,
          5.015360973641636,
          0.1921284947382043,
          2.0068394853210707,
          0.9292177425355994,
          0.028936917314009384,
          1.0477397648297364,
          -0.19215360034892578,
          -0.25047694187155467,
          1.012336276626598,
          -0.023884806427659718,
          0.793564001892731,
          -0.18304510878827226,
          6.124295582945383,
          -0.061531736706484805,
          0.9811933087829886,
          0.9850985594906314,
          0.026911322960132343,
          0.09106949095635067,
          1.089396085336716,
          0.002140142217731397,
          0.1132889949394956,
          -0.007642895426127284,
          -0.12956661753920604,
          0.2274886759259582,
          0.996825839102403,
          -0.2591158252004963,
          0.07404114517191622,
          0.0468584280039246,
          -0.2573163857615974,
          2.690750134218237,
          2.08142750360915,
          -0.19210480574203273,
          1.184772858257243,
          2.079676845551289,
          0.12192380817683467,
          1.9140768820800125,
          -0.08264796390907936,
          0.009977041458830186,
          0.004531283616486396,
          3.0379102158598985,
          -0.1421843518786698,
          1.0324142110505858,
          -0.07299239017756597,
          0.17791666528552846,
          0.1512203595071603,
          1.7558954658824657,
          -0.10337081253629447,
          0.10063048777811053,
          1.069172986469715,
          1.200532367992028,
          -0.18863845692972384,
          0.2689991406642286,
          2.218571873425005,
          0.04100798979544139,
          0.969524604276378,
          1.0565595686991298,
          0.2995170571706653,
          -0.07755437673779277,
          0.8254632942348332,
          0.17497050249706023,
          -0.14550746686455782,
          1.1373620291625315,
          0.9421748273940171,
          -0.4891533393311192,
          0.9137064107604455,
          0.6985594293959643,
          2.8240346412112767,
          -0.1618110267923666,
          1.8918519457415142,
          0.11811782865334775,
          -0.21790186679449078,
          1.1394826396704598,
          0.33808655121149084,
          -0.04336633005585574,
          1.0691246778652865,
          0.705654278128161,
          -0.14334371053441583,
          5.094374027178703,
          0.12455503128221748,
          2.0539392783457493
         ],
         "yaxis": "y2"
        }
       ],
       "layout": {
        "annotations": [
         {
          "font": {},
          "showarrow": false,
          "text": "Sex=male",
          "x": 0.245,
          "xanchor": "center",
          "xref": "paper",
          "y": 1,
          "yanchor": "bottom",
          "yref": "paper"
         },
         {
          "font": {},
          "showarrow": false,
          "text": "Sex=female",
          "x": 0.755,
          "xanchor": "center",
          "xref": "paper",
          "y": 1,
          "yanchor": "bottom",
          "yref": "paper"
         }
        ],
        "coloraxis": {
         "colorbar": {
          "title": {
           "text": "Survived"
          }
         },
         "colorscale": [
          [
           0,
           "rgb(255,0,0)"
          ],
          [
           1,
           "rgb(0,0,255)"
          ]
         ]
        },
        "legend": {
         "tracegroupgap": 0
        },
        "template": {
         "data": {
          "bar": [
           {
            "error_x": {
             "color": "rgb(51,51,51)"
            },
            "error_y": {
             "color": "rgb(51,51,51)"
            },
            "marker": {
             "line": {
              "color": "rgb(237,237,237)",
              "width": 0.5
             }
            },
            "type": "bar"
           }
          ],
          "barpolar": [
           {
            "marker": {
             "line": {
              "color": "rgb(237,237,237)",
              "width": 0.5
             }
            },
            "type": "barpolar"
           }
          ],
          "carpet": [
           {
            "aaxis": {
             "endlinecolor": "rgb(51,51,51)",
             "gridcolor": "white",
             "linecolor": "white",
             "minorgridcolor": "white",
             "startlinecolor": "rgb(51,51,51)"
            },
            "baxis": {
             "endlinecolor": "rgb(51,51,51)",
             "gridcolor": "white",
             "linecolor": "white",
             "minorgridcolor": "white",
             "startlinecolor": "rgb(51,51,51)"
            },
            "type": "carpet"
           }
          ],
          "choropleth": [
           {
            "colorbar": {
             "outlinewidth": 0,
             "tickcolor": "rgb(237,237,237)",
             "ticklen": 6,
             "ticks": "inside"
            },
            "type": "choropleth"
           }
          ],
          "contour": [
           {
            "colorbar": {
             "outlinewidth": 0,
             "tickcolor": "rgb(237,237,237)",
             "ticklen": 6,
             "ticks": "inside"
            },
            "colorscale": [
             [
              0,
              "rgb(20,44,66)"
             ],
             [
              1,
              "rgb(90,179,244)"
             ]
            ],
            "type": "contour"
           }
          ],
          "contourcarpet": [
           {
            "colorbar": {
             "outlinewidth": 0,
             "tickcolor": "rgb(237,237,237)",
             "ticklen": 6,
             "ticks": "inside"
            },
            "type": "contourcarpet"
           }
          ],
          "heatmap": [
           {
            "colorbar": {
             "outlinewidth": 0,
             "tickcolor": "rgb(237,237,237)",
             "ticklen": 6,
             "ticks": "inside"
            },
            "colorscale": [
             [
              0,
              "rgb(20,44,66)"
             ],
             [
              1,
              "rgb(90,179,244)"
             ]
            ],
            "type": "heatmap"
           }
          ],
          "heatmapgl": [
           {
            "colorbar": {
             "outlinewidth": 0,
             "tickcolor": "rgb(237,237,237)",
             "ticklen": 6,
             "ticks": "inside"
            },
            "colorscale": [
             [
              0,
              "rgb(20,44,66)"
             ],
             [
              1,
              "rgb(90,179,244)"
             ]
            ],
            "type": "heatmapgl"
           }
          ],
          "histogram": [
           {
            "marker": {
             "colorbar": {
              "outlinewidth": 0,
              "tickcolor": "rgb(237,237,237)",
              "ticklen": 6,
              "ticks": "inside"
             }
            },
            "type": "histogram"
           }
          ],
          "histogram2d": [
           {
            "colorbar": {
             "outlinewidth": 0,
             "tickcolor": "rgb(237,237,237)",
             "ticklen": 6,
             "ticks": "inside"
            },
            "colorscale": [
             [
              0,
              "rgb(20,44,66)"
             ],
             [
              1,
              "rgb(90,179,244)"
             ]
            ],
            "type": "histogram2d"
           }
          ],
          "histogram2dcontour": [
           {
            "colorbar": {
             "outlinewidth": 0,
             "tickcolor": "rgb(237,237,237)",
             "ticklen": 6,
             "ticks": "inside"
            },
            "colorscale": [
             [
              0,
              "rgb(20,44,66)"
             ],
             [
              1,
              "rgb(90,179,244)"
             ]
            ],
            "type": "histogram2dcontour"
           }
          ],
          "mesh3d": [
           {
            "colorbar": {
             "outlinewidth": 0,
             "tickcolor": "rgb(237,237,237)",
             "ticklen": 6,
             "ticks": "inside"
            },
            "type": "mesh3d"
           }
          ],
          "parcoords": [
           {
            "line": {
             "colorbar": {
              "outlinewidth": 0,
              "tickcolor": "rgb(237,237,237)",
              "ticklen": 6,
              "ticks": "inside"
             }
            },
            "type": "parcoords"
           }
          ],
          "pie": [
           {
            "automargin": true,
            "type": "pie"
           }
          ],
          "scatter": [
           {
            "marker": {
             "colorbar": {
              "outlinewidth": 0,
              "tickcolor": "rgb(237,237,237)",
              "ticklen": 6,
              "ticks": "inside"
             }
            },
            "type": "scatter"
           }
          ],
          "scatter3d": [
           {
            "line": {
             "colorbar": {
              "outlinewidth": 0,
              "tickcolor": "rgb(237,237,237)",
              "ticklen": 6,
              "ticks": "inside"
             }
            },
            "marker": {
             "colorbar": {
              "outlinewidth": 0,
              "tickcolor": "rgb(237,237,237)",
              "ticklen": 6,
              "ticks": "inside"
             }
            },
            "type": "scatter3d"
           }
          ],
          "scattercarpet": [
           {
            "marker": {
             "colorbar": {
              "outlinewidth": 0,
              "tickcolor": "rgb(237,237,237)",
              "ticklen": 6,
              "ticks": "inside"
             }
            },
            "type": "scattercarpet"
           }
          ],
          "scattergeo": [
           {
            "marker": {
             "colorbar": {
              "outlinewidth": 0,
              "tickcolor": "rgb(237,237,237)",
              "ticklen": 6,
              "ticks": "inside"
             }
            },
            "type": "scattergeo"
           }
          ],
          "scattergl": [
           {
            "marker": {
             "colorbar": {
              "outlinewidth": 0,
              "tickcolor": "rgb(237,237,237)",
              "ticklen": 6,
              "ticks": "inside"
             }
            },
            "type": "scattergl"
           }
          ],
          "scattermapbox": [
           {
            "marker": {
             "colorbar": {
              "outlinewidth": 0,
              "tickcolor": "rgb(237,237,237)",
              "ticklen": 6,
              "ticks": "inside"
             }
            },
            "type": "scattermapbox"
           }
          ],
          "scatterpolar": [
           {
            "marker": {
             "colorbar": {
              "outlinewidth": 0,
              "tickcolor": "rgb(237,237,237)",
              "ticklen": 6,
              "ticks": "inside"
             }
            },
            "type": "scatterpolar"
           }
          ],
          "scatterpolargl": [
           {
            "marker": {
             "colorbar": {
              "outlinewidth": 0,
              "tickcolor": "rgb(237,237,237)",
              "ticklen": 6,
              "ticks": "inside"
             }
            },
            "type": "scatterpolargl"
           }
          ],
          "scatterternary": [
           {
            "marker": {
             "colorbar": {
              "outlinewidth": 0,
              "tickcolor": "rgb(237,237,237)",
              "ticklen": 6,
              "ticks": "inside"
             }
            },
            "type": "scatterternary"
           }
          ],
          "surface": [
           {
            "colorbar": {
             "outlinewidth": 0,
             "tickcolor": "rgb(237,237,237)",
             "ticklen": 6,
             "ticks": "inside"
            },
            "colorscale": [
             [
              0,
              "rgb(20,44,66)"
             ],
             [
              1,
              "rgb(90,179,244)"
             ]
            ],
            "type": "surface"
           }
          ],
          "table": [
           {
            "cells": {
             "fill": {
              "color": "rgb(237,237,237)"
             },
             "line": {
              "color": "white"
             }
            },
            "header": {
             "fill": {
              "color": "rgb(217,217,217)"
             },
             "line": {
              "color": "white"
             }
            },
            "type": "table"
           }
          ]
         },
         "layout": {
          "annotationdefaults": {
           "arrowhead": 0,
           "arrowwidth": 1
          },
          "coloraxis": {
           "colorbar": {
            "outlinewidth": 0,
            "tickcolor": "rgb(237,237,237)",
            "ticklen": 6,
            "ticks": "inside"
           }
          },
          "colorscale": {
           "sequential": [
            [
             0,
             "rgb(20,44,66)"
            ],
            [
             1,
             "rgb(90,179,244)"
            ]
           ],
           "sequentialminus": [
            [
             0,
             "rgb(20,44,66)"
            ],
            [
             1,
             "rgb(90,179,244)"
            ]
           ]
          },
          "colorway": [
           "#F8766D",
           "#A3A500",
           "#00BF7D",
           "#00B0F6",
           "#E76BF3"
          ],
          "font": {
           "color": "rgb(51,51,51)"
          },
          "geo": {
           "bgcolor": "white",
           "lakecolor": "white",
           "landcolor": "rgb(237,237,237)",
           "showlakes": true,
           "showland": true,
           "subunitcolor": "white"
          },
          "hoverlabel": {
           "align": "left"
          },
          "hovermode": "closest",
          "paper_bgcolor": "white",
          "plot_bgcolor": "rgb(237,237,237)",
          "polar": {
           "angularaxis": {
            "gridcolor": "white",
            "linecolor": "white",
            "showgrid": true,
            "tickcolor": "rgb(51,51,51)",
            "ticks": "outside"
           },
           "bgcolor": "rgb(237,237,237)",
           "radialaxis": {
            "gridcolor": "white",
            "linecolor": "white",
            "showgrid": true,
            "tickcolor": "rgb(51,51,51)",
            "ticks": "outside"
           }
          },
          "scene": {
           "xaxis": {
            "backgroundcolor": "rgb(237,237,237)",
            "gridcolor": "white",
            "gridwidth": 2,
            "linecolor": "white",
            "showbackground": true,
            "showgrid": true,
            "tickcolor": "rgb(51,51,51)",
            "ticks": "outside",
            "zerolinecolor": "white"
           },
           "yaxis": {
            "backgroundcolor": "rgb(237,237,237)",
            "gridcolor": "white",
            "gridwidth": 2,
            "linecolor": "white",
            "showbackground": true,
            "showgrid": true,
            "tickcolor": "rgb(51,51,51)",
            "ticks": "outside",
            "zerolinecolor": "white"
           },
           "zaxis": {
            "backgroundcolor": "rgb(237,237,237)",
            "gridcolor": "white",
            "gridwidth": 2,
            "linecolor": "white",
            "showbackground": true,
            "showgrid": true,
            "tickcolor": "rgb(51,51,51)",
            "ticks": "outside",
            "zerolinecolor": "white"
           }
          },
          "shapedefaults": {
           "fillcolor": "black",
           "line": {
            "width": 0
           },
           "opacity": 0.3
          },
          "ternary": {
           "aaxis": {
            "gridcolor": "white",
            "linecolor": "white",
            "showgrid": true,
            "tickcolor": "rgb(51,51,51)",
            "ticks": "outside"
           },
           "baxis": {
            "gridcolor": "white",
            "linecolor": "white",
            "showgrid": true,
            "tickcolor": "rgb(51,51,51)",
            "ticks": "outside"
           },
           "bgcolor": "rgb(237,237,237)",
           "caxis": {
            "gridcolor": "white",
            "linecolor": "white",
            "showgrid": true,
            "tickcolor": "rgb(51,51,51)",
            "ticks": "outside"
           }
          },
          "xaxis": {
           "automargin": true,
           "gridcolor": "white",
           "linecolor": "white",
           "showgrid": true,
           "tickcolor": "rgb(51,51,51)",
           "ticks": "outside",
           "title": {
            "standoff": 15
           },
           "zerolinecolor": "white"
          },
          "yaxis": {
           "automargin": true,
           "gridcolor": "white",
           "linecolor": "white",
           "showgrid": true,
           "tickcolor": "rgb(51,51,51)",
           "ticks": "outside",
           "title": {
            "standoff": 15
           },
           "zerolinecolor": "white"
          }
         }
        },
        "title": {
         "text": "Распределние по SibSp"
        },
        "xaxis": {
         "anchor": "y",
         "domain": [
          0,
          0.49
         ],
         "title": {
          "text": "xaxis 1 title"
         }
        },
        "xaxis2": {
         "anchor": "y2",
         "domain": [
          0.51,
          1
         ],
         "matches": "x",
         "title": {
          "text": "xaxis 2 title"
         }
        },
        "yaxis": {
         "anchor": "x",
         "domain": [
          0,
          1
         ],
         "title": {
          "text": "Parch"
         }
        },
        "yaxis2": {
         "anchor": "x2",
         "domain": [
          0,
          1
         ],
         "matches": "y",
         "showticklabels": false
        }
       }
      }
     },
     "metadata": {},
     "output_type": "display_data"
    }
   ],
   "source": [
    "fig = px.scatter(data, x=data[\"SibSp\"]+np.random.standard_normal(data[\"SibSp\"].size)/7, y=data[\"Parch\"]+np.random.standard_normal(data[\"SibSp\"].size)/7, color_continuous_scale='Bluered_r', color = \"Survived\", facet_col=\"Sex\", title= \"Распределние по SibSp\")\n",
    "fig.update_traces(marker_symbol= 100,marker=dict(size=8,opacity = 0.70,\n",
    "                              line=dict(width=2)))\n",
    "fig.update_layout(template=\"ggplot2\", yaxis_title=\"Parch\")\n",
    "fig.update_xaxes(title_text=\"xaxis 1 title\", row=1, col=1)\n",
    "fig.update_xaxes(title_text=\"xaxis 2 title\", row=1, col=2)\n",
    "fig.show()"
   ]
  },
  {
   "cell_type": "markdown",
   "metadata": {},
   "source": [
    "Давайте рассмотрим приведенный выше пример более подробно:\n",
    "\n",
    "1. scatter - строим точки\n",
    "2. `+np.random.standard_normal(data[\"SibSp\"].size)/7` - добавление шума\n",
    "3. color_continuous_scale='Bluered_r' - меняем цвета для легенды (по умолчанию был желтый очень режет глаз)\n",
    "4. `fig.update_traces(marker_symbol= 100,marker=dict(size=8,opacity = 0.70,line=dict(width=2)))`:\n",
    "* `marker_symbol = 100` тип маркера:кольцо\n",
    "* дальше пропишем (как для словоря) парметры `size` - размер, `opacity` - прозрачность, `line=dict(width=2))` - толщина линии\n",
    "5. `fig.update_layout(template=\"ggplot2\", yaxis_title=\"Parch\")` - убновляем fig: исползуем другой дизайн, и меняем название оси Y (если написать такое же для X, то изменится только название под одним subplot)\n",
    "6. `fig.update_xaxes(title_text=\"xaxis 1 title\", row=1, col=1)` - прописываем название оси для subplot\n",
    "\n",
    "Дополнение: [список маркеров](https://plot.ly/python/marker-style/) "
   ]
  },
  {
   "cell_type": "markdown",
   "metadata": {},
   "source": [
    "## plotly.graph_objects\n",
    "\n",
    "В этом режиме, уже доступна более тонкая настройка, сразу при создании Trace, но и код получается более объемный. Это увидим на примерах ниже:"
   ]
  },
  {
   "cell_type": "markdown",
   "metadata": {},
   "source": [
    "# Построение основных графиков\n",
    "Давайте посмотрим, как можно построить основные графики в Plotly (в двух режимах)\n",
    "\n",
    "## Scatter plot (Точечный график) \n",
    "Обычно возникающая задача на лабораторных работах:\n",
    "Имеется две серии данных (c погрешностями). Необходимо нанести их на один график и построить аппроксимирующие функции.\n",
    "\n",
    "Создадим DataFrame, с двумя сериями. Столбец `type` отвечает за номер серии."
   ]
  },
  {
   "cell_type": "code",
   "execution_count": 139,
   "metadata": {},
   "outputs": [
    {
     "data": {
      "text/html": "<div>\n<style scoped>\n    .dataframe tbody tr th:only-of-type {\n        vertical-align: middle;\n    }\n\n    .dataframe tbody tr th {\n        vertical-align: top;\n    }\n\n    .dataframe thead th {\n        text-align: right;\n    }\n</style>\n<table border=\"1\" class=\"dataframe\">\n  <thead>\n    <tr style=\"text-align: right;\">\n      <th></th>\n      <th>x</th>\n      <th>y</th>\n      <th>type</th>\n      <th>err</th>\n    </tr>\n  </thead>\n  <tbody>\n    <tr>\n      <th>0</th>\n      <td>-4.132953</td>\n      <td>-10.132953</td>\n      <td>1</td>\n      <td>1.768618</td>\n    </tr>\n    <tr>\n      <th>1</th>\n      <td>-3.966286</td>\n      <td>-9.966286</td>\n      <td>1</td>\n      <td>1.760411</td>\n    </tr>\n    <tr>\n      <th>2</th>\n      <td>-3.799619</td>\n      <td>-9.799619</td>\n      <td>1</td>\n      <td>0.673835</td>\n    </tr>\n    <tr>\n      <th>3</th>\n      <td>-3.632953</td>\n      <td>-9.632953</td>\n      <td>1</td>\n      <td>0.004240</td>\n    </tr>\n    <tr>\n      <th>4</th>\n      <td>-3.466286</td>\n      <td>-9.466286</td>\n      <td>1</td>\n      <td>0.673894</td>\n    </tr>\n  </tbody>\n</table>\n</div>",
      "text/plain": "          x          y type       err\n0 -4.132953 -10.132953    1  1.768618\n1 -3.966286  -9.966286    1  1.760411\n2 -3.799619  -9.799619    1  0.673835\n3 -3.632953  -9.632953    1  0.004240\n4 -3.466286  -9.466286    1  0.673894"
     },
     "execution_count": 139,
     "metadata": {},
     "output_type": "execute_result"
    }
   ],
   "source": [
    "x1 = np.linspace(-2,2 ,25) + np.random.randn()\n",
    "x2 = np.linspace(-3,3 ,25) + np.random.randn()\n",
    "e = np.random.sample(50)*2\n",
    "\n",
    "y1 = x1 - 6\n",
    "y2 = np.power(x2, 3) + 3\n",
    "df = pd.DataFrame({'x':np.append(x1,x2),'y':np.append(y1,y2),'type':np.repeat([1,2], 25),'err':e})\n",
    "df[\"type\"] = df[\"type\"].astype(str)\n",
    "df.head()"
   ]
  },
  {
   "cell_type": "markdown",
   "execution_count": null,
   "metadata": {},
   "outputs": [],
   "source": [
    "### Plotly Express\n"
   ]
  },
  {
   "cell_type": "code",
   "execution_count": 141,
   "metadata": {},
   "outputs": [
    {
     "data": {
      "application/vnd.plotly.v1+json": {
       "config": {
        "plotlyServerURL": "https://plot.ly"
       },
       "data": [
        {
         "error_y": {
          "array": [
           1.768617876094568,
           1.7604113698558146,
           0.6738345077760928,
           0.004240421101814329,
           0.6738936772085802,
           0.5054061432138044,
           1.2104112675887602,
           1.4087134171889926,
           0.040544337461718705,
           0.8876140386242257,
           1.6368882776513478,
           0.7835268321370057,
           1.7663740143589763,
           0.3683393661082226,
           1.0405173778262589,
           1.5474084180271281,
           1.6160564147481773,
           0.1350579827469871,
           0.3483164331462252,
           1.5926492796213332,
           0.6175588449870943,
           1.1690261868423164,
           0.26484805606473394,
           0.028904027547858924,
           1.9923017013593929
          ]
         },
         "hoverlabel": {
          "namelength": 0
         },
         "hovertemplate": "type=1<br>x=%{x}<br>y=%{y}",
         "legendgroup": "type=1",
         "marker": {
          "color": "#636efa",
          "symbol": "circle"
         },
         "mode": "markers",
         "name": "type=1",
         "showlegend": true,
         "type": "scatter",
         "x": [
          -4.132952803593767,
          -3.9662861369271,
          -3.799619470260434,
          -3.632952803593767,
          -3.4662861369271005,
          -3.299619470260434,
          -3.132952803593767,
          -2.9662861369271005,
          -2.799619470260434,
          -2.632952803593767,
          -2.4662861369271005,
          -2.299619470260434,
          -2.132952803593767,
          -1.9662861369271005,
          -1.799619470260434,
          -1.632952803593767,
          -1.4662861369271005,
          -1.299619470260434,
          -1.132952803593767,
          -0.9662861369271005,
          -0.799619470260434,
          -0.632952803593767,
          -0.4662861369271005,
          -0.299619470260434,
          -0.13295280359376704
         ],
         "xaxis": "x",
         "y": [
          -10.132952803593767,
          -9.9662861369271,
          -9.799619470260435,
          -9.632952803593767,
          -9.466286136927101,
          -9.299619470260435,
          -9.132952803593767,
          -8.966286136927101,
          -8.799619470260435,
          -8.632952803593767,
          -8.466286136927101,
          -8.299619470260435,
          -8.132952803593767,
          -7.966286136927101,
          -7.799619470260434,
          -7.632952803593767,
          -7.466286136927101,
          -7.299619470260434,
          -7.132952803593767,
          -6.966286136927101,
          -6.799619470260434,
          -6.632952803593767,
          -6.466286136927101,
          -6.299619470260434,
          -6.132952803593767
         ],
         "yaxis": "y"
        },
        {
         "hoverlabel": {
          "namelength": 0
         },
         "hovertemplate": "<b>OLS trendline</b><br>y = 1.000000 * x + -6.000000<br>R<sup>2</sup>=1.000000<br><br>type=1<br>x=%{x}<br>y=%{y} <b>(trend)</b>",
         "legendgroup": "type=1",
         "marker": {
          "color": "#636efa",
          "symbol": "circle"
         },
         "mode": "lines",
         "name": "type=1",
         "showlegend": false,
         "type": "scatter",
         "x": [
          -4.132952803593767,
          -3.9662861369271,
          -3.799619470260434,
          -3.632952803593767,
          -3.4662861369271005,
          -3.299619470260434,
          -3.132952803593767,
          -2.9662861369271005,
          -2.799619470260434,
          -2.632952803593767,
          -2.4662861369271005,
          -2.299619470260434,
          -2.132952803593767,
          -1.9662861369271005,
          -1.799619470260434,
          -1.632952803593767,
          -1.4662861369271005,
          -1.299619470260434,
          -1.132952803593767,
          -0.9662861369271005,
          -0.799619470260434,
          -0.632952803593767,
          -0.4662861369271005,
          -0.299619470260434,
          -0.13295280359376704
         ],
         "xaxis": "x",
         "y": [
          -10.132952803593763,
          -9.966286136927096,
          -9.799619470260431,
          -9.632952803593763,
          -9.466286136927097,
          -9.299619470260431,
          -9.132952803593763,
          -8.966286136927097,
          -8.799619470260431,
          -8.632952803593763,
          -8.466286136927097,
          -8.299619470260431,
          -8.132952803593763,
          -7.966286136927097,
          -7.799619470260431,
          -7.632952803593764,
          -7.466286136927098,
          -7.299619470260431,
          -7.132952803593765,
          -6.966286136927098,
          -6.799619470260432,
          -6.632952803593765,
          -6.466286136927098,
          -6.299619470260432,
          -6.132952803593765
         ],
         "yaxis": "y"
        },
        {
         "error_y": {
          "array": [
           0.7494563355299726,
           1.350058258218325,
           1.759073836487713,
           1.7203119210671294,
           0.3082760888683287,
           0.4341920473911447,
           1.34177078382092,
           1.9021516175701305,
           1.7150571527037395,
           0.003903194230694851,
           0.549191453215685,
           1.164295515815154,
           0.17830922893118095,
           0.3368776842746757,
           1.4590352269491433,
           1.4004760833246395,
           1.7353312931872855,
           1.8535134261163948,
           0.9166139184109265,
           0.0336919051344613,
           1.3619686950738852,
           1.608838856268427,
           0.30511398814286084,
           1.557552133013639,
           1.1682529592871047
          ]
         },
         "hoverlabel": {
          "namelength": 0
         },
         "hovertemplate": "type=2<br>x=%{x}<br>y=%{y}",
         "legendgroup": "type=2",
         "marker": {
          "color": "#EF553B",
          "symbol": "circle"
         },
         "mode": "markers",
         "name": "type=2",
         "showlegend": true,
         "type": "scatter",
         "x": [
          -3.3365845714278617,
          -3.0865845714278617,
          -2.8365845714278617,
          -2.5865845714278617,
          -2.3365845714278617,
          -2.0865845714278617,
          -1.8365845714278615,
          -1.5865845714278615,
          -1.3365845714278615,
          -1.0865845714278615,
          -0.8365845714278615,
          -0.5865845714278615,
          -0.3365845714278615,
          -0.08658457142786152,
          0.16341542857213848,
          0.4134154285721385,
          0.6634154285721385,
          0.9134154285721385,
          1.1634154285721385,
          1.4134154285721385,
          1.6634154285721385,
          1.9134154285721385,
          2.1634154285721383,
          2.4134154285721383,
          2.6634154285721383
         ],
         "xaxis": "x",
         "y": [
          -34.145517380046826,
          -26.405904535471716,
          -19.823760905182052,
          -14.305336489177837,
          -9.75688128745907,
          -6.084645300025752,
          -3.1948785268778783,
          -0.9938309680154558,
          0.6122473765615184,
          1.7171065068530442,
          2.4144964228591226,
          2.798167124579752,
          2.9618686120149342,
          2.999350885164668,
          3.004363944028954,
          3.0706577886077917,
          3.2919824189011813,
          3.762087834909123,
          4.574724036631617,
          5.823641024068662,
          7.6025887972202595,
          10.005317356086408,
          13.125576700667107,
          17.05711683096236,
          21.893687746972166
         ],
         "yaxis": "y"
        },
        {
         "hoverlabel": {
          "namelength": 0
         },
         "hovertemplate": "<b>OLS trendline</b><br>y = 6.177368 * x + 1.759376<br>R<sup>2</sup>=0.808435<br><br>type=2<br>x=%{x}<br>y=%{y} <b>(trend)</b>",
         "legendgroup": "type=2",
         "marker": {
          "color": "#EF553B",
          "symbol": "circle"
         },
         "mode": "lines",
         "name": "type=2",
         "showlegend": false,
         "type": "scatter",
         "x": [
          -3.3365845714278617,
          -3.0865845714278617,
          -2.8365845714278617,
          -2.5865845714278617,
          -2.3365845714278617,
          -2.0865845714278617,
          -1.8365845714278615,
          -1.5865845714278615,
          -1.3365845714278615,
          -1.0865845714278615,
          -0.8365845714278615,
          -0.5865845714278615,
          -0.3365845714278615,
          -0.08658457142786152,
          0.16341542857213848,
          0.4134154285721385,
          0.6634154285721385,
          0.9134154285721385,
          1.1634154285721385,
          1.4134154285721385,
          1.6634154285721385,
          1.9134154285721385,
          2.1634154285721383,
          2.4134154285721383,
          2.6634154285721383
         ],
         "xaxis": "x",
         "y": [
          -18.85193352291621,
          -17.307591642623752,
          -15.763249762331293,
          -14.218907882038835,
          -12.674566001746376,
          -11.130224121453919,
          -9.58588224116146,
          -8.041540360869003,
          -6.497198480576545,
          -4.952856600284088,
          -3.4085147199916306,
          -1.8641728396991728,
          -0.31983095940671546,
          1.2245109208857419,
          2.768852801178199,
          4.313194681470657,
          5.857536561763116,
          7.4018784420555725,
          8.94622032234803,
          10.490562202640488,
          12.034904082932945,
          13.579245963225404,
          15.123587843517859,
          16.667929723810317,
          18.212271604102774
         ],
         "yaxis": "y"
        }
       ],
       "layout": {
        "legend": {
         "tracegroupgap": 0
        },
        "template": {
         "data": {
          "bar": [
           {
            "error_x": {
             "color": "#2a3f5f"
            },
            "error_y": {
             "color": "#2a3f5f"
            },
            "marker": {
             "line": {
              "color": "#E5ECF6",
              "width": 0.5
             }
            },
            "type": "bar"
           }
          ],
          "barpolar": [
           {
            "marker": {
             "line": {
              "color": "#E5ECF6",
              "width": 0.5
             }
            },
            "type": "barpolar"
           }
          ],
          "carpet": [
           {
            "aaxis": {
             "endlinecolor": "#2a3f5f",
             "gridcolor": "white",
             "linecolor": "white",
             "minorgridcolor": "white",
             "startlinecolor": "#2a3f5f"
            },
            "baxis": {
             "endlinecolor": "#2a3f5f",
             "gridcolor": "white",
             "linecolor": "white",
             "minorgridcolor": "white",
             "startlinecolor": "#2a3f5f"
            },
            "type": "carpet"
           }
          ],
          "choropleth": [
           {
            "colorbar": {
             "outlinewidth": 0,
             "ticks": ""
            },
            "type": "choropleth"
           }
          ],
          "contour": [
           {
            "colorbar": {
             "outlinewidth": 0,
             "ticks": ""
            },
            "colorscale": [
             [
              0,
              "#0d0887"
             ],
             [
              0.1111111111111111,
              "#46039f"
             ],
             [
              0.2222222222222222,
              "#7201a8"
             ],
             [
              0.3333333333333333,
              "#9c179e"
             ],
             [
              0.4444444444444444,
              "#bd3786"
             ],
             [
              0.5555555555555556,
              "#d8576b"
             ],
             [
              0.6666666666666666,
              "#ed7953"
             ],
             [
              0.7777777777777778,
              "#fb9f3a"
             ],
             [
              0.8888888888888888,
              "#fdca26"
             ],
             [
              1,
              "#f0f921"
             ]
            ],
            "type": "contour"
           }
          ],
          "contourcarpet": [
           {
            "colorbar": {
             "outlinewidth": 0,
             "ticks": ""
            },
            "type": "contourcarpet"
           }
          ],
          "heatmap": [
           {
            "colorbar": {
             "outlinewidth": 0,
             "ticks": ""
            },
            "colorscale": [
             [
              0,
              "#0d0887"
             ],
             [
              0.1111111111111111,
              "#46039f"
             ],
             [
              0.2222222222222222,
              "#7201a8"
             ],
             [
              0.3333333333333333,
              "#9c179e"
             ],
             [
              0.4444444444444444,
              "#bd3786"
             ],
             [
              0.5555555555555556,
              "#d8576b"
             ],
             [
              0.6666666666666666,
              "#ed7953"
             ],
             [
              0.7777777777777778,
              "#fb9f3a"
             ],
             [
              0.8888888888888888,
              "#fdca26"
             ],
             [
              1,
              "#f0f921"
             ]
            ],
            "type": "heatmap"
           }
          ],
          "heatmapgl": [
           {
            "colorbar": {
             "outlinewidth": 0,
             "ticks": ""
            },
            "colorscale": [
             [
              0,
              "#0d0887"
             ],
             [
              0.1111111111111111,
              "#46039f"
             ],
             [
              0.2222222222222222,
              "#7201a8"
             ],
             [
              0.3333333333333333,
              "#9c179e"
             ],
             [
              0.4444444444444444,
              "#bd3786"
             ],
             [
              0.5555555555555556,
              "#d8576b"
             ],
             [
              0.6666666666666666,
              "#ed7953"
             ],
             [
              0.7777777777777778,
              "#fb9f3a"
             ],
             [
              0.8888888888888888,
              "#fdca26"
             ],
             [
              1,
              "#f0f921"
             ]
            ],
            "type": "heatmapgl"
           }
          ],
          "histogram": [
           {
            "marker": {
             "colorbar": {
              "outlinewidth": 0,
              "ticks": ""
             }
            },
            "type": "histogram"
           }
          ],
          "histogram2d": [
           {
            "colorbar": {
             "outlinewidth": 0,
             "ticks": ""
            },
            "colorscale": [
             [
              0,
              "#0d0887"
             ],
             [
              0.1111111111111111,
              "#46039f"
             ],
             [
              0.2222222222222222,
              "#7201a8"
             ],
             [
              0.3333333333333333,
              "#9c179e"
             ],
             [
              0.4444444444444444,
              "#bd3786"
             ],
             [
              0.5555555555555556,
              "#d8576b"
             ],
             [
              0.6666666666666666,
              "#ed7953"
             ],
             [
              0.7777777777777778,
              "#fb9f3a"
             ],
             [
              0.8888888888888888,
              "#fdca26"
             ],
             [
              1,
              "#f0f921"
             ]
            ],
            "type": "histogram2d"
           }
          ],
          "histogram2dcontour": [
           {
            "colorbar": {
             "outlinewidth": 0,
             "ticks": ""
            },
            "colorscale": [
             [
              0,
              "#0d0887"
             ],
             [
              0.1111111111111111,
              "#46039f"
             ],
             [
              0.2222222222222222,
              "#7201a8"
             ],
             [
              0.3333333333333333,
              "#9c179e"
             ],
             [
              0.4444444444444444,
              "#bd3786"
             ],
             [
              0.5555555555555556,
              "#d8576b"
             ],
             [
              0.6666666666666666,
              "#ed7953"
             ],
             [
              0.7777777777777778,
              "#fb9f3a"
             ],
             [
              0.8888888888888888,
              "#fdca26"
             ],
             [
              1,
              "#f0f921"
             ]
            ],
            "type": "histogram2dcontour"
           }
          ],
          "mesh3d": [
           {
            "colorbar": {
             "outlinewidth": 0,
             "ticks": ""
            },
            "type": "mesh3d"
           }
          ],
          "parcoords": [
           {
            "line": {
             "colorbar": {
              "outlinewidth": 0,
              "ticks": ""
             }
            },
            "type": "parcoords"
           }
          ],
          "pie": [
           {
            "automargin": true,
            "type": "pie"
           }
          ],
          "scatter": [
           {
            "marker": {
             "colorbar": {
              "outlinewidth": 0,
              "ticks": ""
             }
            },
            "type": "scatter"
           }
          ],
          "scatter3d": [
           {
            "line": {
             "colorbar": {
              "outlinewidth": 0,
              "ticks": ""
             }
            },
            "marker": {
             "colorbar": {
              "outlinewidth": 0,
              "ticks": ""
             }
            },
            "type": "scatter3d"
           }
          ],
          "scattercarpet": [
           {
            "marker": {
             "colorbar": {
              "outlinewidth": 0,
              "ticks": ""
             }
            },
            "type": "scattercarpet"
           }
          ],
          "scattergeo": [
           {
            "marker": {
             "colorbar": {
              "outlinewidth": 0,
              "ticks": ""
             }
            },
            "type": "scattergeo"
           }
          ],
          "scattergl": [
           {
            "marker": {
             "colorbar": {
              "outlinewidth": 0,
              "ticks": ""
             }
            },
            "type": "scattergl"
           }
          ],
          "scattermapbox": [
           {
            "marker": {
             "colorbar": {
              "outlinewidth": 0,
              "ticks": ""
             }
            },
            "type": "scattermapbox"
           }
          ],
          "scatterpolar": [
           {
            "marker": {
             "colorbar": {
              "outlinewidth": 0,
              "ticks": ""
             }
            },
            "type": "scatterpolar"
           }
          ],
          "scatterpolargl": [
           {
            "marker": {
             "colorbar": {
              "outlinewidth": 0,
              "ticks": ""
             }
            },
            "type": "scatterpolargl"
           }
          ],
          "scatterternary": [
           {
            "marker": {
             "colorbar": {
              "outlinewidth": 0,
              "ticks": ""
             }
            },
            "type": "scatterternary"
           }
          ],
          "surface": [
           {
            "colorbar": {
             "outlinewidth": 0,
             "ticks": ""
            },
            "colorscale": [
             [
              0,
              "#0d0887"
             ],
             [
              0.1111111111111111,
              "#46039f"
             ],
             [
              0.2222222222222222,
              "#7201a8"
             ],
             [
              0.3333333333333333,
              "#9c179e"
             ],
             [
              0.4444444444444444,
              "#bd3786"
             ],
             [
              0.5555555555555556,
              "#d8576b"
             ],
             [
              0.6666666666666666,
              "#ed7953"
             ],
             [
              0.7777777777777778,
              "#fb9f3a"
             ],
             [
              0.8888888888888888,
              "#fdca26"
             ],
             [
              1,
              "#f0f921"
             ]
            ],
            "type": "surface"
           }
          ],
          "table": [
           {
            "cells": {
             "fill": {
              "color": "#EBF0F8"
             },
             "line": {
              "color": "white"
             }
            },
            "header": {
             "fill": {
              "color": "#C8D4E3"
             },
             "line": {
              "color": "white"
             }
            },
            "type": "table"
           }
          ]
         },
         "layout": {
          "annotationdefaults": {
           "arrowcolor": "#2a3f5f",
           "arrowhead": 0,
           "arrowwidth": 1
          },
          "coloraxis": {
           "colorbar": {
            "outlinewidth": 0,
            "ticks": ""
           }
          },
          "colorscale": {
           "diverging": [
            [
             0,
             "#8e0152"
            ],
            [
             0.1,
             "#c51b7d"
            ],
            [
             0.2,
             "#de77ae"
            ],
            [
             0.3,
             "#f1b6da"
            ],
            [
             0.4,
             "#fde0ef"
            ],
            [
             0.5,
             "#f7f7f7"
            ],
            [
             0.6,
             "#e6f5d0"
            ],
            [
             0.7,
             "#b8e186"
            ],
            [
             0.8,
             "#7fbc41"
            ],
            [
             0.9,
             "#4d9221"
            ],
            [
             1,
             "#276419"
            ]
           ],
           "sequential": [
            [
             0,
             "#0d0887"
            ],
            [
             0.1111111111111111,
             "#46039f"
            ],
            [
             0.2222222222222222,
             "#7201a8"
            ],
            [
             0.3333333333333333,
             "#9c179e"
            ],
            [
             0.4444444444444444,
             "#bd3786"
            ],
            [
             0.5555555555555556,
             "#d8576b"
            ],
            [
             0.6666666666666666,
             "#ed7953"
            ],
            [
             0.7777777777777778,
             "#fb9f3a"
            ],
            [
             0.8888888888888888,
             "#fdca26"
            ],
            [
             1,
             "#f0f921"
            ]
           ],
           "sequentialminus": [
            [
             0,
             "#0d0887"
            ],
            [
             0.1111111111111111,
             "#46039f"
            ],
            [
             0.2222222222222222,
             "#7201a8"
            ],
            [
             0.3333333333333333,
             "#9c179e"
            ],
            [
             0.4444444444444444,
             "#bd3786"
            ],
            [
             0.5555555555555556,
             "#d8576b"
            ],
            [
             0.6666666666666666,
             "#ed7953"
            ],
            [
             0.7777777777777778,
             "#fb9f3a"
            ],
            [
             0.8888888888888888,
             "#fdca26"
            ],
            [
             1,
             "#f0f921"
            ]
           ]
          },
          "colorway": [
           "#636efa",
           "#EF553B",
           "#00cc96",
           "#ab63fa",
           "#FFA15A",
           "#19d3f3",
           "#FF6692",
           "#B6E880",
           "#FF97FF",
           "#FECB52"
          ],
          "font": {
           "color": "#2a3f5f"
          },
          "geo": {
           "bgcolor": "white",
           "lakecolor": "white",
           "landcolor": "#E5ECF6",
           "showlakes": true,
           "showland": true,
           "subunitcolor": "white"
          },
          "hoverlabel": {
           "align": "left"
          },
          "hovermode": "closest",
          "mapbox": {
           "style": "light"
          },
          "paper_bgcolor": "white",
          "plot_bgcolor": "#E5ECF6",
          "polar": {
           "angularaxis": {
            "gridcolor": "white",
            "linecolor": "white",
            "ticks": ""
           },
           "bgcolor": "#E5ECF6",
           "radialaxis": {
            "gridcolor": "white",
            "linecolor": "white",
            "ticks": ""
           }
          },
          "scene": {
           "xaxis": {
            "backgroundcolor": "#E5ECF6",
            "gridcolor": "white",
            "gridwidth": 2,
            "linecolor": "white",
            "showbackground": true,
            "ticks": "",
            "zerolinecolor": "white"
           },
           "yaxis": {
            "backgroundcolor": "#E5ECF6",
            "gridcolor": "white",
            "gridwidth": 2,
            "linecolor": "white",
            "showbackground": true,
            "ticks": "",
            "zerolinecolor": "white"
           },
           "zaxis": {
            "backgroundcolor": "#E5ECF6",
            "gridcolor": "white",
            "gridwidth": 2,
            "linecolor": "white",
            "showbackground": true,
            "ticks": "",
            "zerolinecolor": "white"
           }
          },
          "shapedefaults": {
           "line": {
            "color": "#2a3f5f"
           }
          },
          "ternary": {
           "aaxis": {
            "gridcolor": "white",
            "linecolor": "white",
            "ticks": ""
           },
           "baxis": {
            "gridcolor": "white",
            "linecolor": "white",
            "ticks": ""
           },
           "bgcolor": "#E5ECF6",
           "caxis": {
            "gridcolor": "white",
            "linecolor": "white",
            "ticks": ""
           }
          },
          "title": {
           "x": 0.05
          },
          "xaxis": {
           "automargin": true,
           "gridcolor": "white",
           "linecolor": "white",
           "ticks": "",
           "title": {
            "standoff": 15
           },
           "zerolinecolor": "white",
           "zerolinewidth": 2
          },
          "yaxis": {
           "automargin": true,
           "gridcolor": "white",
           "linecolor": "white",
           "ticks": "",
           "title": {
            "standoff": 15
           },
           "zerolinecolor": "white",
           "zerolinewidth": 2
          }
         }
        },
        "title": {
         "text": "example_1"
        },
        "xaxis": {
         "anchor": "y",
         "domain": [
          0,
          1
         ],
         "title": {
          "text": "x"
         }
        },
        "yaxis": {
         "anchor": "x",
         "domain": [
          0,
          1
         ],
         "title": {
          "text": "y"
         }
        }
       }
      }
     },
     "metadata": {},
     "output_type": "display_data"
    }
   ],
   "source": [
    "fig = px.scatter(df,x='x', y='y', color='type',error_y='err', title = 'example_1', trendline = 'ols', color_continuous_scale='Bluered_r')\n",
    "\n",
    "fig.show()\n"
   ]
  },
  {
   "cell_type": "markdown",
   "execution_count": 76,
   "metadata": {},
   "outputs": [
    {
     "ename": "SyntaxError",
     "evalue": "invalid syntax (<ipython-input-76-8693776cf515>, line 1)",
     "output_type": "error",
     "traceback": [
      "\u001b[0;36m  File \u001b[0;32m\"<ipython-input-76-8693776cf515>\"\u001b[0;36m, line \u001b[0;32m1\u001b[0m\n\u001b[0;31m    Пояснение к примеру\u001b[0m\n\u001b[0m              ^\u001b[0m\n\u001b[0;31mSyntaxError\u001b[0m\u001b[0;31m:\u001b[0m invalid syntax\n"
     ]
    }
   ],
   "source": [
    "Пояснение к примеру:\n",
    "\n",
    "1. `df` - текущий data frame с которым мы рабоатем.\n",
    "2. `x,y` - данные, которые мы строим. Можно,как указать названия столбцов текущего Data frame, так и указать Series или Array\n",
    "3. `color` - название колонки, по которой разделеть данные на категории, в нашем это 1,2 (обратите внимание, что как строки). Аналогично работает symbol (только разные категории, отилчаются разными символами) \n",
    "4. `title` - название графика\n",
    "5. `trendline` - апроксимация, значение аргумента - метод апроксимации.\n",
    "6. error_y='err' - значение погрешности (массив)\n",
    "\n",
    "[Более подробно](https://plot.ly/python-api-reference/generated/plotly.express.scatter.html#plotly.express.scatter)\n",
    "\n"
   ]
  },
  {
   "cell_type": "markdown",
   "execution_count": null,
   "metadata": {},
   "outputs": [],
   "source": [
    "### plotly.graph_objects\n",
    "Построем то же, самоое через полную версию.\n",
    "\n"
   ]
  },
  {
   "cell_type": "code",
   "execution_count": 143,
   "metadata": {},
   "outputs": [
    {
     "name": "stderr",
     "output_type": "stream",
     "text": "/Users/pavel/opt/anaconda3/envs/visual/lib/python3.7/site-packages/plotly/graph_objs/_deprecations.py:385: DeprecationWarning:\n\nplotly.graph_objs.Line is deprecated.\nPlease replace it with one of the following more specific types\n  - plotly.graph_objs.scatter.Line\n  - plotly.graph_objs.layout.shape.Line\n  - etc.\n\n\n"
    },
    {
     "data": {
      "application/vnd.plotly.v1+json": {
       "config": {
        "plotlyServerURL": "https://plot.ly"
       },
       "data": [
        {
         "mode": "markers",
         "name": "x",
         "type": "scatter",
         "x": [
          -4.132952803593767,
          -3.9662861369271,
          -3.799619470260434,
          -3.632952803593767,
          -3.4662861369271005,
          -3.299619470260434,
          -3.132952803593767,
          -2.9662861369271005,
          -2.799619470260434,
          -2.632952803593767,
          -2.4662861369271005,
          -2.299619470260434,
          -2.132952803593767,
          -1.9662861369271005,
          -1.799619470260434,
          -1.632952803593767,
          -1.4662861369271005,
          -1.299619470260434,
          -1.132952803593767,
          -0.9662861369271005,
          -0.799619470260434,
          -0.632952803593767,
          -0.4662861369271005,
          -0.299619470260434,
          -0.13295280359376704
         ],
         "y": [
          -10.132952803593767,
          -9.9662861369271,
          -9.799619470260435,
          -9.632952803593767,
          -9.466286136927101,
          -9.299619470260435,
          -9.132952803593767,
          -8.966286136927101,
          -8.799619470260435,
          -8.632952803593767,
          -8.466286136927101,
          -8.299619470260435,
          -8.132952803593767,
          -7.966286136927101,
          -7.799619470260434,
          -7.632952803593767,
          -7.466286136927101,
          -7.299619470260434,
          -7.132952803593767,
          -6.966286136927101,
          -6.799619470260434,
          -6.632952803593767,
          -6.466286136927101,
          -6.299619470260434,
          -6.132952803593767
         ]
        },
        {
         "error_x": {
          "color": "purple",
          "type": "constant",
          "value": 0.2
         },
         "mode": "markers",
         "name": "$x^2$",
         "type": "scatter",
         "x": [
          -3.3365845714278617,
          -3.0865845714278617,
          -2.8365845714278617,
          -2.5865845714278617,
          -2.3365845714278617,
          -2.0865845714278617,
          -1.8365845714278615,
          -1.5865845714278615,
          -1.3365845714278615,
          -1.0865845714278615,
          -0.8365845714278615,
          -0.5865845714278615,
          -0.3365845714278615,
          -0.08658457142786152,
          0.16341542857213848,
          0.4134154285721385,
          0.6634154285721385,
          0.9134154285721385,
          1.1634154285721385,
          1.4134154285721385,
          1.6634154285721385,
          1.9134154285721385,
          2.1634154285721383,
          2.4134154285721383,
          2.6634154285721383
         ],
         "y": [
          -34.145517380046826,
          -26.405904535471716,
          -19.823760905182052,
          -14.305336489177837,
          -9.75688128745907,
          -6.084645300025752,
          -3.1948785268778783,
          -0.9938309680154558,
          0.6122473765615184,
          1.7171065068530442,
          2.4144964228591226,
          2.798167124579752,
          2.9618686120149342,
          2.999350885164668,
          3.004363944028954,
          3.0706577886077917,
          3.2919824189011813,
          3.762087834909123,
          4.574724036631617,
          5.823641024068662,
          7.6025887972202595,
          10.005317356086408,
          13.125576700667107,
          17.05711683096236,
          21.893687746972166
         ]
        },
        {
         "type": "scatter",
         "x": [
          -3.3365845714278617,
          -3.214135591836025,
          -3.0916866122441884,
          -2.9692376326523515,
          -2.8467886530605147,
          -2.724339673468678,
          -2.6018906938768414,
          -2.4794417142850045,
          -2.3569927346931676,
          -2.234543755101331,
          -2.1120947755094943,
          -1.9896457959176577,
          -1.867196816325821,
          -1.7447478367339841,
          -1.6222988571421475,
          -1.4998498775503106,
          -1.377400897958474,
          -1.254951918366637,
          -1.1325029387748007,
          -1.0100539591829638,
          -0.8876049795911269,
          -0.7651559999992905,
          -0.6427070204074536,
          -0.5202580408156168,
          -0.39780906122378035,
          -0.2753600816319435,
          -0.1529111020401066,
          -0.030462122448269735,
          0.09198685714356669,
          0.21443583673540356,
          0.33688481632724043,
          0.45933379591907686,
          0.5817827755109137,
          0.7042317551027502,
          0.8266807346945875,
          0.9491297142864239,
          1.0715786938782603,
          1.1940276734700976,
          1.316476653061934,
          1.4389256326537705,
          1.5613746122456078,
          1.6838235918374442,
          1.8062725714292807,
          1.928721551021118,
          2.0511705306129544,
          2.173619510204791,
          2.296068489796628,
          2.4185174693884646,
          2.540966448980301,
          2.6634154285721383
         ],
         "y": [
          -18.851933522916216,
          -18.095521173385215,
          -17.339108823854218,
          -16.582696474323217,
          -15.826284124792217,
          -15.069871775261216,
          -14.313459425730219,
          -13.557047076199218,
          -12.800634726668218,
          -12.044222377137219,
          -11.287810027606218,
          -10.53139767807522,
          -9.774985328544219,
          -9.018572979013218,
          -8.262160629482219,
          -7.505748279951217,
          -6.7493359304202185,
          -5.992923580889217,
          -5.236511231358219,
          -4.480098881827218,
          -3.7236865322962176,
          -2.9672741827652196,
          -2.210861833234219,
          -1.454449483703218,
          -0.69803713417222,
          0.05837521535878065,
          0.8147875648897815,
          1.5711999144207822,
          2.3276122639517802,
          3.0840246134827813,
          3.840436963013782,
          4.59684931254478,
          5.353261662075781,
          6.109674011606779,
          6.866086361137783,
          7.622498710668781,
          8.378911060199778,
          9.135323409730782,
          9.89173575926178,
          10.648148108792777,
          11.40456045832378,
          12.16097280785478,
          12.917385157385777,
          13.673797506916781,
          14.430209856447778,
          15.186622205978777,
          15.94303455550978,
          16.69944690504078,
          17.455859254571777,
          18.21227160410278
         ]
        }
       ],
       "layout": {
        "template": {
         "data": {
          "bar": [
           {
            "error_x": {
             "color": "#2a3f5f"
            },
            "error_y": {
             "color": "#2a3f5f"
            },
            "marker": {
             "line": {
              "color": "#E5ECF6",
              "width": 0.5
             }
            },
            "type": "bar"
           }
          ],
          "barpolar": [
           {
            "marker": {
             "line": {
              "color": "#E5ECF6",
              "width": 0.5
             }
            },
            "type": "barpolar"
           }
          ],
          "carpet": [
           {
            "aaxis": {
             "endlinecolor": "#2a3f5f",
             "gridcolor": "white",
             "linecolor": "white",
             "minorgridcolor": "white",
             "startlinecolor": "#2a3f5f"
            },
            "baxis": {
             "endlinecolor": "#2a3f5f",
             "gridcolor": "white",
             "linecolor": "white",
             "minorgridcolor": "white",
             "startlinecolor": "#2a3f5f"
            },
            "type": "carpet"
           }
          ],
          "choropleth": [
           {
            "colorbar": {
             "outlinewidth": 0,
             "ticks": ""
            },
            "type": "choropleth"
           }
          ],
          "contour": [
           {
            "colorbar": {
             "outlinewidth": 0,
             "ticks": ""
            },
            "colorscale": [
             [
              0,
              "#0d0887"
             ],
             [
              0.1111111111111111,
              "#46039f"
             ],
             [
              0.2222222222222222,
              "#7201a8"
             ],
             [
              0.3333333333333333,
              "#9c179e"
             ],
             [
              0.4444444444444444,
              "#bd3786"
             ],
             [
              0.5555555555555556,
              "#d8576b"
             ],
             [
              0.6666666666666666,
              "#ed7953"
             ],
             [
              0.7777777777777778,
              "#fb9f3a"
             ],
             [
              0.8888888888888888,
              "#fdca26"
             ],
             [
              1,
              "#f0f921"
             ]
            ],
            "type": "contour"
           }
          ],
          "contourcarpet": [
           {
            "colorbar": {
             "outlinewidth": 0,
             "ticks": ""
            },
            "type": "contourcarpet"
           }
          ],
          "heatmap": [
           {
            "colorbar": {
             "outlinewidth": 0,
             "ticks": ""
            },
            "colorscale": [
             [
              0,
              "#0d0887"
             ],
             [
              0.1111111111111111,
              "#46039f"
             ],
             [
              0.2222222222222222,
              "#7201a8"
             ],
             [
              0.3333333333333333,
              "#9c179e"
             ],
             [
              0.4444444444444444,
              "#bd3786"
             ],
             [
              0.5555555555555556,
              "#d8576b"
             ],
             [
              0.6666666666666666,
              "#ed7953"
             ],
             [
              0.7777777777777778,
              "#fb9f3a"
             ],
             [
              0.8888888888888888,
              "#fdca26"
             ],
             [
              1,
              "#f0f921"
             ]
            ],
            "type": "heatmap"
           }
          ],
          "heatmapgl": [
           {
            "colorbar": {
             "outlinewidth": 0,
             "ticks": ""
            },
            "colorscale": [
             [
              0,
              "#0d0887"
             ],
             [
              0.1111111111111111,
              "#46039f"
             ],
             [
              0.2222222222222222,
              "#7201a8"
             ],
             [
              0.3333333333333333,
              "#9c179e"
             ],
             [
              0.4444444444444444,
              "#bd3786"
             ],
             [
              0.5555555555555556,
              "#d8576b"
             ],
             [
              0.6666666666666666,
              "#ed7953"
             ],
             [
              0.7777777777777778,
              "#fb9f3a"
             ],
             [
              0.8888888888888888,
              "#fdca26"
             ],
             [
              1,
              "#f0f921"
             ]
            ],
            "type": "heatmapgl"
           }
          ],
          "histogram": [
           {
            "marker": {
             "colorbar": {
              "outlinewidth": 0,
              "ticks": ""
             }
            },
            "type": "histogram"
           }
          ],
          "histogram2d": [
           {
            "colorbar": {
             "outlinewidth": 0,
             "ticks": ""
            },
            "colorscale": [
             [
              0,
              "#0d0887"
             ],
             [
              0.1111111111111111,
              "#46039f"
             ],
             [
              0.2222222222222222,
              "#7201a8"
             ],
             [
              0.3333333333333333,
              "#9c179e"
             ],
             [
              0.4444444444444444,
              "#bd3786"
             ],
             [
              0.5555555555555556,
              "#d8576b"
             ],
             [
              0.6666666666666666,
              "#ed7953"
             ],
             [
              0.7777777777777778,
              "#fb9f3a"
             ],
             [
              0.8888888888888888,
              "#fdca26"
             ],
             [
              1,
              "#f0f921"
             ]
            ],
            "type": "histogram2d"
           }
          ],
          "histogram2dcontour": [
           {
            "colorbar": {
             "outlinewidth": 0,
             "ticks": ""
            },
            "colorscale": [
             [
              0,
              "#0d0887"
             ],
             [
              0.1111111111111111,
              "#46039f"
             ],
             [
              0.2222222222222222,
              "#7201a8"
             ],
             [
              0.3333333333333333,
              "#9c179e"
             ],
             [
              0.4444444444444444,
              "#bd3786"
             ],
             [
              0.5555555555555556,
              "#d8576b"
             ],
             [
              0.6666666666666666,
              "#ed7953"
             ],
             [
              0.7777777777777778,
              "#fb9f3a"
             ],
             [
              0.8888888888888888,
              "#fdca26"
             ],
             [
              1,
              "#f0f921"
             ]
            ],
            "type": "histogram2dcontour"
           }
          ],
          "mesh3d": [
           {
            "colorbar": {
             "outlinewidth": 0,
             "ticks": ""
            },
            "type": "mesh3d"
           }
          ],
          "parcoords": [
           {
            "line": {
             "colorbar": {
              "outlinewidth": 0,
              "ticks": ""
             }
            },
            "type": "parcoords"
           }
          ],
          "pie": [
           {
            "automargin": true,
            "type": "pie"
           }
          ],
          "scatter": [
           {
            "marker": {
             "colorbar": {
              "outlinewidth": 0,
              "ticks": ""
             }
            },
            "type": "scatter"
           }
          ],
          "scatter3d": [
           {
            "line": {
             "colorbar": {
              "outlinewidth": 0,
              "ticks": ""
             }
            },
            "marker": {
             "colorbar": {
              "outlinewidth": 0,
              "ticks": ""
             }
            },
            "type": "scatter3d"
           }
          ],
          "scattercarpet": [
           {
            "marker": {
             "colorbar": {
              "outlinewidth": 0,
              "ticks": ""
             }
            },
            "type": "scattercarpet"
           }
          ],
          "scattergeo": [
           {
            "marker": {
             "colorbar": {
              "outlinewidth": 0,
              "ticks": ""
             }
            },
            "type": "scattergeo"
           }
          ],
          "scattergl": [
           {
            "marker": {
             "colorbar": {
              "outlinewidth": 0,
              "ticks": ""
             }
            },
            "type": "scattergl"
           }
          ],
          "scattermapbox": [
           {
            "marker": {
             "colorbar": {
              "outlinewidth": 0,
              "ticks": ""
             }
            },
            "type": "scattermapbox"
           }
          ],
          "scatterpolar": [
           {
            "marker": {
             "colorbar": {
              "outlinewidth": 0,
              "ticks": ""
             }
            },
            "type": "scatterpolar"
           }
          ],
          "scatterpolargl": [
           {
            "marker": {
             "colorbar": {
              "outlinewidth": 0,
              "ticks": ""
             }
            },
            "type": "scatterpolargl"
           }
          ],
          "scatterternary": [
           {
            "marker": {
             "colorbar": {
              "outlinewidth": 0,
              "ticks": ""
             }
            },
            "type": "scatterternary"
           }
          ],
          "surface": [
           {
            "colorbar": {
             "outlinewidth": 0,
             "ticks": ""
            },
            "colorscale": [
             [
              0,
              "#0d0887"
             ],
             [
              0.1111111111111111,
              "#46039f"
             ],
             [
              0.2222222222222222,
              "#7201a8"
             ],
             [
              0.3333333333333333,
              "#9c179e"
             ],
             [
              0.4444444444444444,
              "#bd3786"
             ],
             [
              0.5555555555555556,
              "#d8576b"
             ],
             [
              0.6666666666666666,
              "#ed7953"
             ],
             [
              0.7777777777777778,
              "#fb9f3a"
             ],
             [
              0.8888888888888888,
              "#fdca26"
             ],
             [
              1,
              "#f0f921"
             ]
            ],
            "type": "surface"
           }
          ],
          "table": [
           {
            "cells": {
             "fill": {
              "color": "#EBF0F8"
             },
             "line": {
              "color": "white"
             }
            },
            "header": {
             "fill": {
              "color": "#C8D4E3"
             },
             "line": {
              "color": "white"
             }
            },
            "type": "table"
           }
          ]
         },
         "layout": {
          "annotationdefaults": {
           "arrowcolor": "#2a3f5f",
           "arrowhead": 0,
           "arrowwidth": 1
          },
          "coloraxis": {
           "colorbar": {
            "outlinewidth": 0,
            "ticks": ""
           }
          },
          "colorscale": {
           "diverging": [
            [
             0,
             "#8e0152"
            ],
            [
             0.1,
             "#c51b7d"
            ],
            [
             0.2,
             "#de77ae"
            ],
            [
             0.3,
             "#f1b6da"
            ],
            [
             0.4,
             "#fde0ef"
            ],
            [
             0.5,
             "#f7f7f7"
            ],
            [
             0.6,
             "#e6f5d0"
            ],
            [
             0.7,
             "#b8e186"
            ],
            [
             0.8,
             "#7fbc41"
            ],
            [
             0.9,
             "#4d9221"
            ],
            [
             1,
             "#276419"
            ]
           ],
           "sequential": [
            [
             0,
             "#0d0887"
            ],
            [
             0.1111111111111111,
             "#46039f"
            ],
            [
             0.2222222222222222,
             "#7201a8"
            ],
            [
             0.3333333333333333,
             "#9c179e"
            ],
            [
             0.4444444444444444,
             "#bd3786"
            ],
            [
             0.5555555555555556,
             "#d8576b"
            ],
            [
             0.6666666666666666,
             "#ed7953"
            ],
            [
             0.7777777777777778,
             "#fb9f3a"
            ],
            [
             0.8888888888888888,
             "#fdca26"
            ],
            [
             1,
             "#f0f921"
            ]
           ],
           "sequentialminus": [
            [
             0,
             "#0d0887"
            ],
            [
             0.1111111111111111,
             "#46039f"
            ],
            [
             0.2222222222222222,
             "#7201a8"
            ],
            [
             0.3333333333333333,
             "#9c179e"
            ],
            [
             0.4444444444444444,
             "#bd3786"
            ],
            [
             0.5555555555555556,
             "#d8576b"
            ],
            [
             0.6666666666666666,
             "#ed7953"
            ],
            [
             0.7777777777777778,
             "#fb9f3a"
            ],
            [
             0.8888888888888888,
             "#fdca26"
            ],
            [
             1,
             "#f0f921"
            ]
           ]
          },
          "colorway": [
           "#636efa",
           "#EF553B",
           "#00cc96",
           "#ab63fa",
           "#FFA15A",
           "#19d3f3",
           "#FF6692",
           "#B6E880",
           "#FF97FF",
           "#FECB52"
          ],
          "font": {
           "color": "#2a3f5f"
          },
          "geo": {
           "bgcolor": "white",
           "lakecolor": "white",
           "landcolor": "#E5ECF6",
           "showlakes": true,
           "showland": true,
           "subunitcolor": "white"
          },
          "hoverlabel": {
           "align": "left"
          },
          "hovermode": "closest",
          "mapbox": {
           "style": "light"
          },
          "paper_bgcolor": "white",
          "plot_bgcolor": "#E5ECF6",
          "polar": {
           "angularaxis": {
            "gridcolor": "white",
            "linecolor": "white",
            "ticks": ""
           },
           "bgcolor": "#E5ECF6",
           "radialaxis": {
            "gridcolor": "white",
            "linecolor": "white",
            "ticks": ""
           }
          },
          "scene": {
           "xaxis": {
            "backgroundcolor": "#E5ECF6",
            "gridcolor": "white",
            "gridwidth": 2,
            "linecolor": "white",
            "showbackground": true,
            "ticks": "",
            "zerolinecolor": "white"
           },
           "yaxis": {
            "backgroundcolor": "#E5ECF6",
            "gridcolor": "white",
            "gridwidth": 2,
            "linecolor": "white",
            "showbackground": true,
            "ticks": "",
            "zerolinecolor": "white"
           },
           "zaxis": {
            "backgroundcolor": "#E5ECF6",
            "gridcolor": "white",
            "gridwidth": 2,
            "linecolor": "white",
            "showbackground": true,
            "ticks": "",
            "zerolinecolor": "white"
           }
          },
          "shapedefaults": {
           "line": {
            "color": "#2a3f5f"
           }
          },
          "ternary": {
           "aaxis": {
            "gridcolor": "white",
            "linecolor": "white",
            "ticks": ""
           },
           "baxis": {
            "gridcolor": "white",
            "linecolor": "white",
            "ticks": ""
           },
           "bgcolor": "#E5ECF6",
           "caxis": {
            "gridcolor": "white",
            "linecolor": "white",
            "ticks": ""
           }
          },
          "title": {
           "x": 0.05
          },
          "xaxis": {
           "automargin": true,
           "gridcolor": "white",
           "linecolor": "white",
           "ticks": "",
           "title": {
            "standoff": 15
           },
           "zerolinecolor": "white",
           "zerolinewidth": 2
          },
          "yaxis": {
           "automargin": true,
           "gridcolor": "white",
           "linecolor": "white",
           "ticks": "",
           "title": {
            "standoff": 15
           },
           "zerolinecolor": "white",
           "zerolinewidth": 2
          }
         }
        }
       }
      }
     },
     "metadata": {},
     "output_type": "display_data"
    }
   ],
   "source": [
    "import plotly.graph_objects as go\n",
    "df[\"type\"] = df[\"type\"].astype(int)\n",
    "X_1 = df[df['type']==1]['x']\n",
    "X_2 = df[df['type']==2]['x']\n",
    "Y_1 = df[df['type']==1]['y']\n",
    "Y_2 = df[df['type']==2]['y']\n",
    "\n",
    "z = np.polyfit(X_2, Y_2, 1)\n",
    "p = np.poly1d(z)\n",
    "xp = np.linspace(min(X_2), max(X_2), 50)\n",
    "fig = go.Figure()\n",
    "\n",
    "# Add traces\n",
    "\n",
    "fig.add_trace(go.Scatter(x=X_1, y=Y_1,\n",
    "                    mode='markers',\n",
    "                    name='x'))\n",
    "fig.add_trace(go.Scatter(x=X_2, y=Y_2,\n",
    "                    mode='markers',\n",
    "                    name='$x^2$',\n",
    "                    error_x = dict(\n",
    "                        type='constant',value=0.2,\n",
    "                        color='purple')))\n",
    "fig.add_trace(go.Line(x= xp, y = p(xp)))\n",
    "fig.show()"
   ]
  },
  {
   "cell_type": "markdown",
   "execution_count": 78,
   "metadata": {},
   "outputs": [
    {
     "data": {
      "text/plain": "25   -2.72501\n26   -2.47501\n27   -2.22501\n28   -1.97501\n29   -1.72501\n30   -1.47501\n31   -1.22501\n32   -0.97501\n33   -0.72501\n34   -0.47501\n35   -0.22501\n36    0.02499\n37    0.27499\n38    0.52499\n39    0.77499\n40    1.02499\n41    1.27499\n42    1.52499\n43    1.77499\n44    2.02499\n45    2.27499\n46    2.52499\n47    2.77499\n48    3.02499\n49    3.27499\nName: x, dtype: float64"
     },
     "execution_count": 78,
     "metadata": {},
     "output_type": "execute_result"
    }
   ],
   "source": [
    "Пояснения:\n",
    "\n",
    "1. go.Scatter - добавление на `fig`, точек типа Scatter. Тоесть точек от x и y.\n",
    "\n",
    "2. Параметры: \n",
    "* x,y - данные (Series, Array like)\n",
    "* mode - просто точки, просто линии, точки + линии\n",
    "* \n",
    " \n",
    "Как видно из данного примера в полоном режиме доступно больше возможностей для настройки,но и код получается более длинным. "
   ]
  },
  {
   "cell_type": "code",
   "execution_count": 9,
   "metadata": {},
   "outputs": [
    {
     "data": {
      "application/vnd.plotly.v1+json": {
       "config": {
        "plotlyServerURL": "https://plot.ly"
       },
       "data": [
        {
         "marker": {
          "symbol": "cross"
         },
         "mode": "markers",
         "name": "$x^2$",
         "type": "scatter",
         "x": [
          -1.3300626229143067,
          -1.16339595624764,
          -0.9967292895809734,
          -0.8300626229143067,
          -0.6633959562476401,
          -0.4967292895809734,
          -0.33006262291430666,
          -0.16339595624764014,
          0.003270710419026601,
          0.16993737708569334,
          0.33660404375235986,
          0.5032707104190266,
          0.6699373770856933,
          0.8366040437523599,
          1.0032707104190264,
          1.1699373770856933,
          1.3366040437523599,
          1.5032707104190264,
          1.6699373770856933,
          1.8366040437523599,
          2.0032707104190264,
          2.1699373770856933,
          2.33660404375236,
          2.5032707104190264,
          2.6699373770856933,
          -2.2108883314373218,
          -1.960888331437322,
          -1.710888331437322,
          -1.460888331437322,
          -1.210888331437322,
          -0.960888331437322,
          -0.710888331437322,
          -0.460888331437322,
          -0.210888331437322,
          0.039111668562678004,
          0.289111668562678,
          0.539111668562678,
          0.789111668562678,
          1.039111668562678,
          1.289111668562678,
          1.539111668562678,
          1.789111668562678,
          2.0391116685626782,
          2.2891116685626782,
          2.5391116685626782,
          2.7891116685626782,
          3.0391116685626782,
          3.2891116685626782,
          3.5391116685626782,
          3.7891116685626782
         ],
         "y": [
          -7.330062622914307,
          -7.16339595624764,
          -6.996729289580974,
          -6.830062622914307,
          -6.663395956247641,
          -6.496729289580974,
          -6.330062622914307,
          -6.163395956247641,
          -5.996729289580974,
          -5.830062622914307,
          -5.663395956247641,
          -5.496729289580974,
          -5.330062622914307,
          -5.163395956247641,
          -4.996729289580974,
          -4.830062622914307,
          -4.663395956247641,
          -4.496729289580974,
          -4.330062622914307,
          -4.163395956247641,
          -3.9967292895809736,
          -3.8300626229143067,
          -3.66339595624764,
          -3.4967292895809736,
          -3.3300626229143067,
          -7.806882331370165,
          -4.539778482950386,
          -2.0080077588196,
          -0.11782015897781051,
          1.2245343165749838,
          2.1128056678387823,
          2.640743894813585,
          2.902098997499392,
          2.9906209758962032,
          3.0000598300040187,
          3.0241655598228383,
          3.156688165352662,
          3.4913776465934903,
          4.121984003545323,
          5.1422572362081596,
          6.645947344582001,
          8.726804328666846,
          11.478578188462699,
          14.995018923969553,
          19.369876535187412,
          24.696901022116275,
          31.069842384756143,
          38.582450623107015,
          47.32847573716889,
          57.40166772694177
         ]
        }
       ],
       "layout": {
        "template": {
         "data": {
          "bar": [
           {
            "error_x": {
             "color": "#2a3f5f"
            },
            "error_y": {
             "color": "#2a3f5f"
            },
            "marker": {
             "line": {
              "color": "#E5ECF6",
              "width": 0.5
             }
            },
            "type": "bar"
           }
          ],
          "barpolar": [
           {
            "marker": {
             "line": {
              "color": "#E5ECF6",
              "width": 0.5
             }
            },
            "type": "barpolar"
           }
          ],
          "carpet": [
           {
            "aaxis": {
             "endlinecolor": "#2a3f5f",
             "gridcolor": "white",
             "linecolor": "white",
             "minorgridcolor": "white",
             "startlinecolor": "#2a3f5f"
            },
            "baxis": {
             "endlinecolor": "#2a3f5f",
             "gridcolor": "white",
             "linecolor": "white",
             "minorgridcolor": "white",
             "startlinecolor": "#2a3f5f"
            },
            "type": "carpet"
           }
          ],
          "choropleth": [
           {
            "colorbar": {
             "outlinewidth": 0,
             "ticks": ""
            },
            "type": "choropleth"
           }
          ],
          "contour": [
           {
            "colorbar": {
             "outlinewidth": 0,
             "ticks": ""
            },
            "colorscale": [
             [
              0,
              "#0d0887"
             ],
             [
              0.1111111111111111,
              "#46039f"
             ],
             [
              0.2222222222222222,
              "#7201a8"
             ],
             [
              0.3333333333333333,
              "#9c179e"
             ],
             [
              0.4444444444444444,
              "#bd3786"
             ],
             [
              0.5555555555555556,
              "#d8576b"
             ],
             [
              0.6666666666666666,
              "#ed7953"
             ],
             [
              0.7777777777777778,
              "#fb9f3a"
             ],
             [
              0.8888888888888888,
              "#fdca26"
             ],
             [
              1,
              "#f0f921"
             ]
            ],
            "type": "contour"
           }
          ],
          "contourcarpet": [
           {
            "colorbar": {
             "outlinewidth": 0,
             "ticks": ""
            },
            "type": "contourcarpet"
           }
          ],
          "heatmap": [
           {
            "colorbar": {
             "outlinewidth": 0,
             "ticks": ""
            },
            "colorscale": [
             [
              0,
              "#0d0887"
             ],
             [
              0.1111111111111111,
              "#46039f"
             ],
             [
              0.2222222222222222,
              "#7201a8"
             ],
             [
              0.3333333333333333,
              "#9c179e"
             ],
             [
              0.4444444444444444,
              "#bd3786"
             ],
             [
              0.5555555555555556,
              "#d8576b"
             ],
             [
              0.6666666666666666,
              "#ed7953"
             ],
             [
              0.7777777777777778,
              "#fb9f3a"
             ],
             [
              0.8888888888888888,
              "#fdca26"
             ],
             [
              1,
              "#f0f921"
             ]
            ],
            "type": "heatmap"
           }
          ],
          "heatmapgl": [
           {
            "colorbar": {
             "outlinewidth": 0,
             "ticks": ""
            },
            "colorscale": [
             [
              0,
              "#0d0887"
             ],
             [
              0.1111111111111111,
              "#46039f"
             ],
             [
              0.2222222222222222,
              "#7201a8"
             ],
             [
              0.3333333333333333,
              "#9c179e"
             ],
             [
              0.4444444444444444,
              "#bd3786"
             ],
             [
              0.5555555555555556,
              "#d8576b"
             ],
             [
              0.6666666666666666,
              "#ed7953"
             ],
             [
              0.7777777777777778,
              "#fb9f3a"
             ],
             [
              0.8888888888888888,
              "#fdca26"
             ],
             [
              1,
              "#f0f921"
             ]
            ],
            "type": "heatmapgl"
           }
          ],
          "histogram": [
           {
            "marker": {
             "colorbar": {
              "outlinewidth": 0,
              "ticks": ""
             }
            },
            "type": "histogram"
           }
          ],
          "histogram2d": [
           {
            "colorbar": {
             "outlinewidth": 0,
             "ticks": ""
            },
            "colorscale": [
             [
              0,
              "#0d0887"
             ],
             [
              0.1111111111111111,
              "#46039f"
             ],
             [
              0.2222222222222222,
              "#7201a8"
             ],
             [
              0.3333333333333333,
              "#9c179e"
             ],
             [
              0.4444444444444444,
              "#bd3786"
             ],
             [
              0.5555555555555556,
              "#d8576b"
             ],
             [
              0.6666666666666666,
              "#ed7953"
             ],
             [
              0.7777777777777778,
              "#fb9f3a"
             ],
             [
              0.8888888888888888,
              "#fdca26"
             ],
             [
              1,
              "#f0f921"
             ]
            ],
            "type": "histogram2d"
           }
          ],
          "histogram2dcontour": [
           {
            "colorbar": {
             "outlinewidth": 0,
             "ticks": ""
            },
            "colorscale": [
             [
              0,
              "#0d0887"
             ],
             [
              0.1111111111111111,
              "#46039f"
             ],
             [
              0.2222222222222222,
              "#7201a8"
             ],
             [
              0.3333333333333333,
              "#9c179e"
             ],
             [
              0.4444444444444444,
              "#bd3786"
             ],
             [
              0.5555555555555556,
              "#d8576b"
             ],
             [
              0.6666666666666666,
              "#ed7953"
             ],
             [
              0.7777777777777778,
              "#fb9f3a"
             ],
             [
              0.8888888888888888,
              "#fdca26"
             ],
             [
              1,
              "#f0f921"
             ]
            ],
            "type": "histogram2dcontour"
           }
          ],
          "mesh3d": [
           {
            "colorbar": {
             "outlinewidth": 0,
             "ticks": ""
            },
            "type": "mesh3d"
           }
          ],
          "parcoords": [
           {
            "line": {
             "colorbar": {
              "outlinewidth": 0,
              "ticks": ""
             }
            },
            "type": "parcoords"
           }
          ],
          "pie": [
           {
            "automargin": true,
            "type": "pie"
           }
          ],
          "scatter": [
           {
            "marker": {
             "colorbar": {
              "outlinewidth": 0,
              "ticks": ""
             }
            },
            "type": "scatter"
           }
          ],
          "scatter3d": [
           {
            "line": {
             "colorbar": {
              "outlinewidth": 0,
              "ticks": ""
             }
            },
            "marker": {
             "colorbar": {
              "outlinewidth": 0,
              "ticks": ""
             }
            },
            "type": "scatter3d"
           }
          ],
          "scattercarpet": [
           {
            "marker": {
             "colorbar": {
              "outlinewidth": 0,
              "ticks": ""
             }
            },
            "type": "scattercarpet"
           }
          ],
          "scattergeo": [
           {
            "marker": {
             "colorbar": {
              "outlinewidth": 0,
              "ticks": ""
             }
            },
            "type": "scattergeo"
           }
          ],
          "scattergl": [
           {
            "marker": {
             "colorbar": {
              "outlinewidth": 0,
              "ticks": ""
             }
            },
            "type": "scattergl"
           }
          ],
          "scattermapbox": [
           {
            "marker": {
             "colorbar": {
              "outlinewidth": 0,
              "ticks": ""
             }
            },
            "type": "scattermapbox"
           }
          ],
          "scatterpolar": [
           {
            "marker": {
             "colorbar": {
              "outlinewidth": 0,
              "ticks": ""
             }
            },
            "type": "scatterpolar"
           }
          ],
          "scatterpolargl": [
           {
            "marker": {
             "colorbar": {
              "outlinewidth": 0,
              "ticks": ""
             }
            },
            "type": "scatterpolargl"
           }
          ],
          "scatterternary": [
           {
            "marker": {
             "colorbar": {
              "outlinewidth": 0,
              "ticks": ""
             }
            },
            "type": "scatterternary"
           }
          ],
          "surface": [
           {
            "colorbar": {
             "outlinewidth": 0,
             "ticks": ""
            },
            "colorscale": [
             [
              0,
              "#0d0887"
             ],
             [
              0.1111111111111111,
              "#46039f"
             ],
             [
              0.2222222222222222,
              "#7201a8"
             ],
             [
              0.3333333333333333,
              "#9c179e"
             ],
             [
              0.4444444444444444,
              "#bd3786"
             ],
             [
              0.5555555555555556,
              "#d8576b"
             ],
             [
              0.6666666666666666,
              "#ed7953"
             ],
             [
              0.7777777777777778,
              "#fb9f3a"
             ],
             [
              0.8888888888888888,
              "#fdca26"
             ],
             [
              1,
              "#f0f921"
             ]
            ],
            "type": "surface"
           }
          ],
          "table": [
           {
            "cells": {
             "fill": {
              "color": "#EBF0F8"
             },
             "line": {
              "color": "white"
             }
            },
            "header": {
             "fill": {
              "color": "#C8D4E3"
             },
             "line": {
              "color": "white"
             }
            },
            "type": "table"
           }
          ]
         },
         "layout": {
          "annotationdefaults": {
           "arrowcolor": "#2a3f5f",
           "arrowhead": 0,
           "arrowwidth": 1
          },
          "coloraxis": {
           "colorbar": {
            "outlinewidth": 0,
            "ticks": ""
           }
          },
          "colorscale": {
           "diverging": [
            [
             0,
             "#8e0152"
            ],
            [
             0.1,
             "#c51b7d"
            ],
            [
             0.2,
             "#de77ae"
            ],
            [
             0.3,
             "#f1b6da"
            ],
            [
             0.4,
             "#fde0ef"
            ],
            [
             0.5,
             "#f7f7f7"
            ],
            [
             0.6,
             "#e6f5d0"
            ],
            [
             0.7,
             "#b8e186"
            ],
            [
             0.8,
             "#7fbc41"
            ],
            [
             0.9,
             "#4d9221"
            ],
            [
             1,
             "#276419"
            ]
           ],
           "sequential": [
            [
             0,
             "#0d0887"
            ],
            [
             0.1111111111111111,
             "#46039f"
            ],
            [
             0.2222222222222222,
             "#7201a8"
            ],
            [
             0.3333333333333333,
             "#9c179e"
            ],
            [
             0.4444444444444444,
             "#bd3786"
            ],
            [
             0.5555555555555556,
             "#d8576b"
            ],
            [
             0.6666666666666666,
             "#ed7953"
            ],
            [
             0.7777777777777778,
             "#fb9f3a"
            ],
            [
             0.8888888888888888,
             "#fdca26"
            ],
            [
             1,
             "#f0f921"
            ]
           ],
           "sequentialminus": [
            [
             0,
             "#0d0887"
            ],
            [
             0.1111111111111111,
             "#46039f"
            ],
            [
             0.2222222222222222,
             "#7201a8"
            ],
            [
             0.3333333333333333,
             "#9c179e"
            ],
            [
             0.4444444444444444,
             "#bd3786"
            ],
            [
             0.5555555555555556,
             "#d8576b"
            ],
            [
             0.6666666666666666,
             "#ed7953"
            ],
            [
             0.7777777777777778,
             "#fb9f3a"
            ],
            [
             0.8888888888888888,
             "#fdca26"
            ],
            [
             1,
             "#f0f921"
            ]
           ]
          },
          "colorway": [
           "#636efa",
           "#EF553B",
           "#00cc96",
           "#ab63fa",
           "#FFA15A",
           "#19d3f3",
           "#FF6692",
           "#B6E880",
           "#FF97FF",
           "#FECB52"
          ],
          "font": {
           "color": "#2a3f5f"
          },
          "geo": {
           "bgcolor": "white",
           "lakecolor": "white",
           "landcolor": "#E5ECF6",
           "showlakes": true,
           "showland": true,
           "subunitcolor": "white"
          },
          "hoverlabel": {
           "align": "left"
          },
          "hovermode": "closest",
          "mapbox": {
           "style": "light"
          },
          "paper_bgcolor": "white",
          "plot_bgcolor": "#E5ECF6",
          "polar": {
           "angularaxis": {
            "gridcolor": "white",
            "linecolor": "white",
            "ticks": ""
           },
           "bgcolor": "#E5ECF6",
           "radialaxis": {
            "gridcolor": "white",
            "linecolor": "white",
            "ticks": ""
           }
          },
          "scene": {
           "xaxis": {
            "backgroundcolor": "#E5ECF6",
            "gridcolor": "white",
            "gridwidth": 2,
            "linecolor": "white",
            "showbackground": true,
            "ticks": "",
            "zerolinecolor": "white"
           },
           "yaxis": {
            "backgroundcolor": "#E5ECF6",
            "gridcolor": "white",
            "gridwidth": 2,
            "linecolor": "white",
            "showbackground": true,
            "ticks": "",
            "zerolinecolor": "white"
           },
           "zaxis": {
            "backgroundcolor": "#E5ECF6",
            "gridcolor": "white",
            "gridwidth": 2,
            "linecolor": "white",
            "showbackground": true,
            "ticks": "",
            "zerolinecolor": "white"
           }
          },
          "shapedefaults": {
           "line": {
            "color": "#2a3f5f"
           }
          },
          "ternary": {
           "aaxis": {
            "gridcolor": "white",
            "linecolor": "white",
            "ticks": ""
           },
           "baxis": {
            "gridcolor": "white",
            "linecolor": "white",
            "ticks": ""
           },
           "bgcolor": "#E5ECF6",
           "caxis": {
            "gridcolor": "white",
            "linecolor": "white",
            "ticks": ""
           }
          },
          "title": {
           "x": 0.05
          },
          "xaxis": {
           "automargin": true,
           "gridcolor": "white",
           "linecolor": "white",
           "ticks": "",
           "title": {
            "standoff": 15
           },
           "zerolinecolor": "white",
           "zerolinewidth": 2
          },
          "yaxis": {
           "automargin": true,
           "gridcolor": "white",
           "linecolor": "white",
           "ticks": "",
           "title": {
            "standoff": 15
           },
           "zerolinecolor": "white",
           "zerolinewidth": 2
          }
         }
        }
       }
      }
     },
     "metadata": {},
     "output_type": "display_data"
    }
   ],
   "source": [
    "fig = go.Figure()\n",
    "\n",
    "# Add traces\n",
    "\n",
    "fig.add_trace(go.Scatter(x=data['x'], y=data['y'],\n",
    "                    mode='markers',\n",
    "                    marker = dict(\n",
    "                        symbol = 'cross'\n",
    "                    ),\n",
    "                    name='$x^2$'))\n",
    "fig.show()"
   ]
  },
  {
   "cell_type": "markdown",
   "execution_count": null,
   "metadata": {},
   "outputs": [],
   "source": [
    "В этом примере, мы задали `symbol` посмотреть все варианты можно [тут](https://plot.ly/python/reference/#scatter-marker-symbol)."
   ]
  },
  {
   "cell_type": "code",
   "execution_count": null,
   "metadata": {},
   "outputs": [],
   "source": []
  },
  {
   "cell_type": "markdown",
   "execution_count": null,
   "metadata": {},
   "outputs": [],
   "source": [
    "## 3D scatter plot\n",
    "\n",
    "На первом курсе возниквает задача построить эллипсоид инерции. Давайте построим это с помощью plotly.\n",
    "Создадим набор точек:\n"
   ]
  },
  {
   "cell_type": "code",
   "execution_count": 55,
   "metadata": {},
   "outputs": [],
   "source": [
    "omega =  np.linspace(0 , 2*np.pi ,50)\n",
    "phi = np.linspace(-np.pi/2 , np.pi/2 ,50)\n",
    "a,b,c = 1,2,3\n",
    "x = []\n",
    "y = []\n",
    "z = []\n",
    "for i in omega:\n",
    "    for j in phi:\n",
    "        x.append(a * np.sin(i)*np.cos(j))\n",
    "        y.append(b * np.sin(i)*np.sin(j))\n",
    "        z.append(c * np.cos(i))\n"
   ]
  },
  {
   "cell_type": "code",
   "execution_count": 56,
   "metadata": {},
   "outputs": [
    {
     "data": {
      "application/vnd.plotly.v1+json": {
       "config": {
        "plotlyServerURL": "https://plot.ly"
       },
       "data": [
        {
         "hoverlabel": {
          "namelength": 0
         },
         "hovertemplate": "x=%{x}<br>y=%{y}<br>z=%{z}",
         "legendgroup": "",
         "marker": {
          "color": "#636efa",
          "symbol": "circle"
         },
         "mode": "markers",
         "name": "",
         "scene": "scene",
         "showlegend": false,
         "type": "scatter3d",
         "x": [
          0,
          0,
          0,
          0,
          0,
          0,
          0,
          0,
          0,
          0,
          0,
          0,
          0,
          0,
          0,
          0,
          0,
          0,
          0,
          0,
          0,
          0,
          0,
          0,
          0,
          0,
          0,
          0,
          0,
          0,
          0,
          0,
          0,
          0,
          0,
          0,
          0,
          0,
          0,
          0,
          0,
          0,
          0,
          0,
          0,
          0,
          0,
          0,
          0,
          0,
          7.830217837048942e-18,
          0.008193117879635494,
          0.01635256848048529,
          0.024444822869833828,
          0.03243662823861216,
          0.04029514454432312,
          0.047988079457820035,
          0.055483821059414004,
          0.06275156773903255,
          0.06976145476664235,
          0.07648467701283088,
          0.08289360731526192,
          0.08896191000461155,
          0.09466464912348238,
          0.09997839089360126,
          0.10488130001024074,
          0.10935322936816984,
          0.11337580285043099,
          0.11693249083974629,
          0.12000867814226042,
          0.12259172404450727,
          0.12467101425681293,
          0.1262380045296886,
          0.12728625576398478,
          0.1278114604705305,
          0.1278114604705305,
          0.12728625576398478,
          0.1262380045296886,
          0.12467101425681293,
          0.12259172404450727,
          0.12000867814226043,
          0.11693249083974629,
          0.113375802850431,
          0.10935322936816984,
          0.10488130001024075,
          0.09997839089360126,
          0.09466464912348241,
          0.08896191000461157,
          0.08289360731526198,
          0.07648467701283089,
          0.06976145476664239,
          0.06275156773903258,
          0.055483821059414004,
          0.04798807945782006,
          0.04029514454432312,
          0.032436628238612215,
          0.02444482286983386,
          0.016352568480485344,
          0.008193117879635524,
          7.830217837048942e-18,
          1.5531863713691595e-17,
          0.016251704990198346,
          0.03243662823861217,
          0.04848826242395859,
          0.0643406479383053,
          0.07992864392924785,
          0.09518819597764473,
          0.11005659931096545,
          0.12447275647065091,
          0.13837742837467593,
          0.1517134777436441,
          0.16442610389012471,
          0.17646306790643213,
          0.18777490732550264,
          0.1983151393727814,
          0.20804045197391335,
          0.21691088173334752,
          0.22488997815250114,
          0.23194495341267712,
          0.23804681710724387,
          0.24317049536943489,
          0.24729493390624518,
          0.25040318451503774,
          0.2524824747273434,
          0.25352426029367336,
          0.25352426029367336,
          0.2524824747273434,
          0.25040318451503774,
          0.24729493390624518,
          0.24317049536943489,
          0.2380468171072439,
          0.23194495341267712,
          0.22488997815250117,
          0.21691088173334752,
          0.20804045197391338,
          0.1983151393727814,
          0.1877749073255027,
          0.17646306790643215,
          0.1644261038901248,
          0.15171347774364413,
          0.138377428374676,
          0.12447275647065095,
          0.11005659931096545,
          0.09518819597764479,
          0.07992864392924785,
          0.0643406479383054,
          0.04848826242395864,
          0.03243662823861228,
          0.0162517049901984,
          1.5531863713691595e-17,
          2.2978476817556982e-17,
          0.024043439554124774,
          0.04798807945782002,
          0.07173552604961232,
          0.09518819597764468,
          0.11824971719060097,
          0.14082532495113623,
          0.16282225124450977,
          0.18415010598225628,
          0.20472124843444783,
          0.22445114736425217,
          0.24325872838491666,
          0.26106670711181396,
          0.2778019067405557,
          0.2933955587461784,
          0.3077835854677631,
          0.32090686341728863,
          0.3327114662307263,
          0.3431488862630362,
          0.3521762339164859,
          0.35975641388320756,
          0.3658582775777744,
          0.3704567511334197,
          0.3735329384359338,
          0.37507419877185066,
          0.37507419877185066,
          0.3735329384359338,
          0.3704567511334197,
          0.3658582775777744,
          0.35975641388320756,
          0.35217623391648595,
          0.3431488862630362,
          0.33271146623072634,
          0.32090686341728863,
          0.30778358546776313,
          0.2933955587461784,
          0.27780190674055577,
          0.26106670711181396,
          0.2432587283849168,
          0.22445114736425223,
          0.20472124843444797,
          0.18415010598225637,
          0.16282225124450977,
          0.1408253249511363,
          0.11824971719060097,
          0.09518819597764484,
          0.0717355260496124,
          0.04798807945782019,
          0.024043439554124857,
          2.2978476817556982e-17,
          3.004778396735237e-17,
          0.03144038150528924,
          0.06275156773903254,
          0.0938048943207671,
          0.12447275647065086,
          0.1546291333648743,
          0.1841501059822563,
          0.21291436631408336,
          0.2408037158447375,
          0.26770355125475054,
          0.2935033353504261,
          0.31809705128487886,
          0.3413836382039985,
          0.3632674065271771,
          0.38365843115632126,
          0.40247292099736864,
          0.41963356327586704,
          0.43506984123174786,
          0.4487183238878192,
          0.4605229267012568,
          0.4704351420270209,
          0.4784142384461746,
          0.48442742814002054,
          0.4884500016222817,
          0.49046542927568015,
          0.49046542927568015,
          0.4884500016222817,
          0.48442742814002054,
          0.4784142384461746,
          0.4704351420270209,
          0.46052292670125683,
          0.4487183238878192,
          0.4350698412317479,
          0.41963356327586704,
          0.4024729209973687,
          0.38365843115632126,
          0.3632674065271772,
          0.34138363820399853,
          0.31809705128487903,
          0.29350333535042616,
          0.2677035512547507,
          0.2408037158447376,
          0.21291436631408336,
          0.18415010598225642,
          0.1546291333648743,
          0.12447275647065108,
          0.0938048943207672,
          0.06275156773903276,
          0.03144038150528935,
          3.004778396735237e-17,
          3.662370733511965e-17,
          0.03832107326135312,
          0.07648467701283086,
          0.11433398882055112,
          0.15171347774364405,
          0.18846954344424952,
          0.2244511473642522,
          0.25951043337511503,
          0.29350333535042616,
          0.3262901691645143,
          0.35773620668448375,
          0.38771222939701094,
          0.41609505939493335,
          0.4427680655416917,
          0.46762164273368706,
          0.4905536622911618,
          0.5114698916268516,
          0.530284381467899,
          0.5469198190398518,
          0.5613078457614364,
          0.573389338144632,
          0.5831146507457641,
          0.5904438201692813,
          0.5953467292859208,
          0.5978032309904515,
          0.5978032309904515,
          0.5953467292859208,
          0.5904438201692813,
          0.5831146507457641,
          0.573389338144632,
          0.5613078457614364,
          0.5469198190398518,
          0.5302843814678991,
          0.5114698916268516,
          0.49055366229116193,
          0.46762164273368706,
          0.44276806554169185,
          0.41609505939493346,
          0.3877122293970111,
          0.3577362066844838,
          0.32629016916451453,
          0.2935033353504263,
          0.25951043337511503,
          0.22445114736425234,
          0.18846954344424952,
          0.1517134777436443,
          0.11433398882055126,
          0.07648467701283113,
          0.03832107326135325,
          3.662370733511965e-17,
          4.259827044096131e-17,
          0.04457253405390883,
          0.08896191000461155,
          0.13298572238483547,
          0.1764630679064321,
          0.21921528883079197,
          0.261066707111814,
          0.30184534629468057,
          0.34138363820399853,
          0.3795191115173755,
          0.41609505939493346,
          0.4509611834213273,
          0.4839742112141724,
          0.5149984851609957,
          0.5439065198654639,
          0.5705795260122223,
          0.5949078984976719,
          0.6167916668208505,
          0.6361409058836647,
          0.6528761055124064,
          0.6669284971821122,
          0.6782403366011829,
          0.6867651409950631,
          0.692467880113934,
          0.6953251201795222,
          0.6953251201795222,
          0.692467880113934,
          0.6867651409950631,
          0.6782403366011829,
          0.6669284971821122,
          0.6528761055124065,
          0.6361409058836647,
          0.6167916668208506,
          0.5949078984976719,
          0.5705795260122224,
          0.5439065198654639,
          0.5149984851609959,
          0.48397421121417245,
          0.4509611834213275,
          0.4160950593949335,
          0.3795191115173757,
          0.34138363820399864,
          0.30184534629468057,
          0.2610667071118142,
          0.21921528883079197,
          0.1764630679064324,
          0.13298572238483564,
          0.08896191000461186,
          0.044572534053908985,
          4.259827044096131e-17,
          4.7873371123855125e-17,
          0.050092115069573576,
          0.09997839089360125,
          0.14945383406414953,
          0.1983151393727813,
          0.24636152523526653,
          0.29339555874617845,
          0.33922396697305235,
          0.38365843115632126,
          0.42651636055149345,
          0.46762164273368706,
          0.5068053672813602,
          0.5439065198654638,
          0.5787726438918577,
          0.6112604669781571,
          0.6412364896906843,
          0.6685775341222767,
          0.6931712500567294,
          0.7149165766399322,
          0.7337241576605967,
          0.7495167087340956,
          0.7622293348805762,
          0.771809797192353,
          0.778218727494784,
          0.7814297901185454,
          0.7814297901185454,
          0.778218727494784,
          0.771809797192353,
          0.7622293348805762,
          0.7495167087340956,
          0.7337241576605967,
          0.7149165766399322,
          0.6931712500567295,
          0.6685775341222767,
          0.6412364896906844,
          0.6112604669781571,
          0.5787726438918578,
          0.5439065198654639,
          0.5068053672813605,
          0.46762164273368717,
          0.42651636055149367,
          0.3836584311563214,
          0.33922396697305235,
          0.2933955587461786,
          0.24636152523526653,
          0.19831513937278167,
          0.1494538340641497,
          0.0999783908936016,
          0.05009211506957375,
          4.7873371123855125e-17,
          5.236239237642604e-17,
          0.054789184940667195,
          0.10935322936816984,
          0.16346791792000454,
          0.21691088173334747,
          0.26946251220641004,
          0.32090686341728875,
          0.3710325394920795,
          0.4196335632758671,
          0.46651022273703713,
          0.5114698916268517,
          0.5543278210220239,
          0.5949078984976719,
          0.6330433718110487,
          0.6685775341222768,
          0.701364367936365,
          0.7312691451204175,
          0.7581689805304306,
          0.7819533369727079,
          0.8025244794248994,
          0.819797876650173,
          0.833702548554198,
          0.8441813578575781,
          0.8511912448851878,
          0.854703404507615,
          0.854703404507615,
          0.8511912448851878,
          0.8441813578575781,
          0.833702548554198,
          0.819797876650173,
          0.8025244794248994,
          0.7819533369727079,
          0.7581689805304307,
          0.7312691451204175,
          0.7013643679363651,
          0.6685775341222768,
          0.633043371811049,
          0.5949078984976719,
          0.5543278210220242,
          0.5114698916268519,
          0.4665102227370374,
          0.41963356327586726,
          0.3710325394920795,
          0.3209068634172889,
          0.26946251220641004,
          0.21691088173334785,
          0.16346791792000473,
          0.10935322936817021,
          0.05478918494066738,
          5.236239237642604e-17,
          5.59916245938125e-17,
          0.058586617909763834,
          0.11693249083974627,
          0.17479786308292758,
          0.23194495341267704,
          0.2881389321768176,
          0.34314888626303625,
          0.3967487679703948,
          0.44871832388781924,
          0.4988439999626099,
          0.5469198190398519,
          0.5927482272667257,
          0.6361409058836646,
          0.6769195450665312,
          0.7149165766399322,
          0.7499758626507951,
          0.7819533369727077,
          0.8107175973045347,
          0.8361504451306583,
          0.8581473714240319,
          0.8766179860961901,
          0.891486389429511,
          0.902691483965435,
          0.9101872255670289,
          0.9139428126242204,
          0.9139428126242204,
          0.9101872255670289,
          0.902691483965435,
          0.891486389429511,
          0.8766179860961901,
          0.8581473714240319,
          0.8361504451306583,
          0.8107175973045349,
          0.7819533369727077,
          0.7499758626507952,
          0.7149165766399322,
          0.6769195450665313,
          0.6361409058836647,
          0.592748227266726,
          0.546919819039852,
          0.49884399996261025,
          0.4487183238878194,
          0.3967487679703948,
          0.3431488862630364,
          0.2881389321768176,
          0.23194495341267746,
          0.17479786308292777,
          0.11693249083974668,
          0.058586617909764035,
          5.59916245938125e-17,
          5.870147588334058e-17,
          0.06142206023249663,
          0.12259172404450727,
          0.1832576321665767,
          0.24317049536943483,
          0.3020841188469125,
          0.35975641388320767,
          0.41595039264734807,
          0.470435142027021,
          0.5229867725000834,
          0.5733893381446321,
          0.6214357240071172,
          0.6669284971821122,
          0.709680718106472,
          0.7495167087340957,
          0.786272774434701,
          0.819797876650173,
          0.8499542535443964,
          0.8766179860961902,
          0.8996795073091464,
          0.9190440524459202,
          0.9346320484368628,
          0.9463794408628327,
          0.9542379571685435,
          0.958175305024849,
          0.958175305024849,
          0.9542379571685435,
          0.9463794408628327,
          0.9346320484368628,
          0.9190440524459202,
          0.8996795073091465,
          0.8766179860961902,
          0.8499542535443965,
          0.819797876650173,
          0.7862727744347011,
          0.7495167087340957,
          0.7096807181064723,
          0.6669284971821123,
          0.6214357240071176,
          0.5733893381446322,
          0.5229867725000837,
          0.4704351420270212,
          0.41595039264734807,
          0.3597564138832079,
          0.3020841188469125,
          0.24317049536943525,
          0.18325763216657692,
          0.1225917240445077,
          0.06142206023249684,
          5.870147588334058e-17,
          6.04474505617541e-17,
          0.06324895402431634,
          0.1262380045296886,
          0.18870831599648136,
          0.2504031845150377,
          0.3110690926371073,
          0.37045675113341975,
          0.4283221233766011,
          0.4844274281400206,
          0.5385421166918553,
          0.5904438201692814,
          0.6399192633398297,
          0.6867651409950631,
          0.730788953375287,
          0.771809797192353,
          0.8096591090000733,
          0.844181357857578,
          0.8752346844393125,
          0.902691483965435,
          0.9264389305572273,
          0.9463794408628325,
          0.962431075048179,
          0.9745278735053343,
          0.9826201278946828,
          0.9866745854071557,
          0.9866745854071557,
          0.9826201278946828,
          0.9745278735053343,
          0.962431075048179,
          0.9463794408628325,
          0.9264389305572274,
          0.902691483965435,
          0.8752346844393126,
          0.844181357857578,
          0.8096591090000734,
          0.771809797192353,
          0.7307889533752873,
          0.6867651409950633,
          0.6399192633398301,
          0.5904438201692815,
          0.5385421166918556,
          0.48442742814002077,
          0.4283221233766011,
          0.37045675113341997,
          0.3110690926371073,
          0.2504031845150381,
          0.18870831599648158,
          0.12623800452968906,
          0.06324895402431654,
          6.04474505617541e-17,
          6.120087977310359e-17,
          0.06403730173966848,
          0.1278114604705305,
          0.1910604144948468,
          0.2535242602936733,
          0.3149463205261701,
          0.3750741987718508,
          0.4336608166816146,
          0.49046542927568026,
          0.5452546142163474,
          0.5978032309904516,
          0.6478953460600252,
          0.6953251201795222,
          0.739897654233431,
          0.7814297901185455,
          0.8197508633798987,
          0.854703404507615,
          0.8861437860129042,
          0.9139428126242205,
          0.9379862521783452,
          0.958175305024849,
          0.9744270100150474,
          0.9866745854071558,
          0.9948677032867913,
          0.9989726963751682,
          0.9989726963751682,
          0.9948677032867913,
          0.9866745854071558,
          0.9744270100150474,
          0.958175305024849,
          0.9379862521783453,
          0.9139428126242205,
          0.8861437860129043,
          0.854703404507615,
          0.8197508633798988,
          0.7814297901185455,
          0.7398976542334312,
          0.6953251201795223,
          0.6478953460600255,
          0.5978032309904517,
          0.5452546142163477,
          0.49046542927568043,
          0.4336608166816146,
          0.375074198771851,
          0.3149463205261701,
          0.25352426029367375,
          0.191060414494847,
          0.12781146047053094,
          0.0640373017396687,
          6.120087977310359e-17,
          6.094939223056837e-17,
          0.06377415873086204,
          0.12728625576398478,
          0.19027530626935707,
          0.25248247472734336,
          0.3136521385393542,
          0.37353293843593394,
          0.4318788113659164,
          0.4884500016222818,
          0.5430140460497844,
          0.5953467292859209,
          0.6452330051099486,
          0.692467880113934,
          0.7368572560646367,
          0.7782187274947842,
          0.8163823312462619,
          0.8511912448851878,
          0.8825024311189311,
          0.910187225567029,
          0.9341318654707242,
          0.9542379571685435,
          0.9704228804169575,
          0.9826201278946829,
          0.9907795784955328,
          0.9948677032867913,
          0.9948677032867913,
          0.9907795784955328,
          0.9826201278946829,
          0.9704228804169575,
          0.9542379571685435,
          0.9341318654707244,
          0.910187225567029,
          0.8825024311189312,
          0.8511912448851878,
          0.816382331246262,
          0.7782187274947842,
          0.7368572560646369,
          0.6924678801139341,
          0.645233005109949,
          0.595346729285921,
          0.5430140460497848,
          0.48845000162228197,
          0.4318788113659164,
          0.37353293843593416,
          0.3136521385393542,
          0.25248247472734375,
          0.1902753062693573,
          0.12728625576398522,
          0.06377415873086226,
          6.094939223056837e-17,
          5.969711735264411e-17,
          0.06246384579882663,
          0.12467101425681293,
          0.18636588277536928,
          0.24729493390624513,
          0.30720779710910345,
          0.3658582775777745,
          0.423005367907524,
          0.4784142384461747,
          0.5318572022595176,
          0.5831146507457642,
          0.631975956054396,
          0.6782403366011829,
          0.7217176821227794,
          0.7622293348805763,
          0.7996088238036693,
          0.833702548554198,
          0.8643704107040818,
          0.8914863894295111,
          0.9149390593575433,
          0.9346320484368628,
          0.9504844339512096,
          0.9624310750481792,
          0.9704228804169575,
          0.9744270100150474,
          0.9744270100150474,
          0.9704228804169575,
          0.9624310750481792,
          0.9504844339512096,
          0.9346320484368628,
          0.9149390593575434,
          0.8914863894295111,
          0.8643704107040819,
          0.833702548554198,
          0.7996088238036694,
          0.7622293348805763,
          0.7217176821227796,
          0.678240336601183,
          0.6319759560543963,
          0.5831146507457643,
          0.5318572022595179,
          0.47841423844617487,
          0.423005367907524,
          0.3658582775777747,
          0.30720779710910345,
          0.24729493390624557,
          0.1863658827753695,
          0.12467101425681336,
          0.06246384579882684,
          5.969711735264411e-17,
          5.746461745820532e-17,
          0.06012787824568071,
          0.12000867814226043,
          0.17939633663857288,
          0.23804681710724387,
          0.29571911214353924,
          0.35217623391648606,
          0.40718618800270473,
          0.46052292670125694,
          0.5119672779121356,
          0.5613078457614366,
          0.6083418792723485,
          0.6528761055124065,
          0.6947275237934285,
          0.7337241576605968,
          0.7697057615805996,
          0.8025244794248994,
          0.8320454520422814,
          0.858147371424032,
          0.8807229791845672,
          0.8996795073091465,
          0.9149390593575434,
          0.9264389305572275,
          0.9341318654707244,
          0.9379862521783453,
          0.9379862521783453,
          0.9341318654707244,
          0.9264389305572275,
          0.9149390593575434,
          0.8996795073091465,
          0.8807229791845673,
          0.858147371424032,
          0.8320454520422815,
          0.8025244794248994,
          0.7697057615805997,
          0.7337241576605968,
          0.6947275237934287,
          0.6528761055124066,
          0.6083418792723488,
          0.5613078457614367,
          0.5119672779121359,
          0.46052292670125705,
          0.40718618800270473,
          0.3521762339164863,
          0.29571911214353924,
          0.2380468171072443,
          0.17939633663857307,
          0.12000867814226085,
          0.060127878245680916,
          5.746461745820532e-17,
          5.428855013379791e-17,
          0.05680461259406563,
          0.113375802850431,
          0.16948110761385052,
          0.2248899781525011,
          0.27937472753217424,
          0.3327114662307264,
          0.3846810221481508,
          0.435069841231748,
          0.48367086501553563,
          0.5302843814678992,
          0.5747188456511682,
          0.6167916668208506,
          0.6563299587301685,
          0.6931712500567296,
          0.7271641520320408,
          0.7581689805304307,
          0.7860583300610848,
          0.810717597304535,
          0.8320454520422814,
          0.8499542535443965,
          0.8643704107040819,
          0.8752346844393127,
          0.8825024311189312,
          0.8861437860129043,
          0.8861437860129043,
          0.8825024311189312,
          0.8752346844393127,
          0.8643704107040819,
          0.8499542535443965,
          0.8320454520422815,
          0.810717597304535,
          0.7860583300610849,
          0.7581689805304307,
          0.7271641520320408,
          0.6931712500567296,
          0.6563299587301687,
          0.6167916668208506,
          0.5747188456511684,
          0.5302843814678994,
          0.4836708650155359,
          0.43506984123174813,
          0.3846810221481508,
          0.3327114662307266,
          0.27937472753217424,
          0.2248899781525015,
          0.1694811076138507,
          0.11337580285043139,
          0.05680461259406582,
          5.428855013379791e-17,
          5.022106631708152e-17,
          0.05254861677410427,
          0.10488130001024076,
          0.15678300348766688,
          0.20804045197391338,
          0.2584430176184622,
          0.30778358546776324,
          0.3558594045450052,
          0.40247292099736887,
          0.44743258988718343,
          0.49055366229116204,
          0.5316589444733557,
          0.5705795260122224,
          0.6071554738897804,
          0.6412364896906846,
          0.672682527210654,
          0.7013643679363651,
          0.7271641520320408,
          0.7499758626507954,
          0.7697057615805997,
          0.7862727744347012,
          0.7996088238036695,
          0.8096591090000735,
          0.8163823312462621,
          0.8197508633798989,
          0.8197508633798989,
          0.8163823312462621,
          0.8096591090000735,
          0.7996088238036695,
          0.7862727744347012,
          0.7697057615805998,
          0.7499758626507954,
          0.7271641520320409,
          0.7013643679363651,
          0.672682527210654,
          0.6412364896906846,
          0.6071554738897805,
          0.5705795260122225,
          0.531658944473356,
          0.49055366229116215,
          0.4474325898871837,
          0.402472920997369,
          0.3558594045450052,
          0.30778358546776347,
          0.2584430176184622,
          0.20804045197391374,
          0.15678300348766708,
          0.10488130001024114,
          0.05254861677410446,
          5.022106631708152e-17,
          4.5328953979874954e-17,
          0.047429774119497045,
          0.09466464912348241,
          0.1415105267787158,
          0.18777490732550267,
          0.23326768050049787,
          0.2778019067405559,
          0.3211945853574948,
          0.36326740652717726,
          0.4038474840028252,
          0.4427680655416919,
          0.4798692181257956,
          0.5149984851609959,
          0.548011512953841,
          0.5787726438918579,
          0.6071554738897804,
          0.633043371811049,
          0.6563299587301686,
          0.6769195450665314,
          0.6947275237934286,
          0.7096807181064723,
          0.7217176821227796,
          0.7307889533752873,
          0.7368572560646369,
          0.7398976542334312,
          0.7398976542334312,
          0.7368572560646369,
          0.7307889533752873,
          0.7217176821227796,
          0.7096807181064723,
          0.6947275237934287,
          0.6769195450665314,
          0.6563299587301687,
          0.633043371811049,
          0.6071554738897805,
          0.5787726438918579,
          0.5480115129538411,
          0.514998485160996,
          0.47986921812579586,
          0.442768065541692,
          0.4038474840028255,
          0.36326740652717737,
          0.3211945853574948,
          0.27780190674055605,
          0.23326768050049787,
          0.187774907325503,
          0.14151052677871598,
          0.09466464912348273,
          0.04742977411949721,
          4.5328953979874954e-17,
          3.969254147150543e-17,
          0.04153213588511457,
          0.08289360731526198,
          0.12391445113232795,
          0.16442610389012477,
          0.20426209451774852,
          0.24325872838491686,
          0.281255759958318,
          0.3180970512848791,
          0.35363121359610705,
          0.3877122293970112,
          0.4202000524833106,
          0.4509611834213275,
          0.4798692181257957,
          0.5068053672813605,
          0.5316589444733558,
          0.5543278210220242,
          0.5747188456511684,
          0.5927482272667262,
          0.6083418792723487,
          0.6214357240071176,
          0.6319759560543963,
          0.6399192633398301,
          0.645233005109949,
          0.6478953460600255,
          0.6478953460600255,
          0.645233005109949,
          0.6399192633398301,
          0.6319759560543963,
          0.6214357240071176,
          0.6083418792723488,
          0.5927482272667262,
          0.5747188456511684,
          0.5543278210220242,
          0.5316589444733559,
          0.5068053672813605,
          0.47986921812579586,
          0.45096118342132757,
          0.4202000524833108,
          0.3877122293970113,
          0.3536312135961073,
          0.3180970512848792,
          0.281255759958318,
          0.24325872838491702,
          0.20426209451774852,
          0.16442610389012505,
          0.1239144511323281,
          0.08289360731526225,
          0.041532135885114715,
          3.969254147150543e-17,
          3.340437852953332e-17,
          0.034952541127716376,
          0.06976145476664239,
          0.10428370362414714,
          0.13837742837467598,
          0.1719025305901481,
          0.20472124843444803,
          0.23669872275636072,
          0.26770355125475076,
          0.2976083284388033,
          0.3262901691645146,
          0.3536312135961071,
          0.3795191115173757,
          0.40384748400282533,
          0.4265163605514937,
          0.4474325898871836,
          0.4665102227370374,
          0.48367086501553586,
          0.4988439999626103,
          0.5119672779121358,
          0.5229867725000837,
          0.5318572022595179,
          0.5385421166918557,
          0.5430140460497848,
          0.5452546142163477,
          0.5452546142163477,
          0.5430140460497848,
          0.5385421166918557,
          0.5318572022595179,
          0.5229867725000837,
          0.5119672779121359,
          0.4988439999626103,
          0.4836708650155359,
          0.4665102227370374,
          0.44743258988718365,
          0.4265163605514937,
          0.4038474840028255,
          0.3795191115173758,
          0.3536312135961073,
          0.32629016916451464,
          0.2976083284388035,
          0.26770355125475087,
          0.23669872275636072,
          0.20472124843444814,
          0.1719025305901481,
          0.13837742837467623,
          0.10428370362414727,
          0.06976145476664262,
          0.0349525411277165,
          3.340437852953332e-17,
          2.6567716615620147e-17,
          0.02779902661131622,
          0.05548382105941401,
          0.08294062058553638,
          0.11005659931096544,
          0.13672033186275934,
          0.16282225124450986,
          0.1882550990706333,
          0.21291436631408342,
          0.2366987227563606,
          0.2595104333751151,
          0.28125575995831786,
          0.30184534629468057,
          0.32119458535749473,
          0.33922396697305246,
          0.35585940454500514,
          0.3710325394920795,
          0.3846810221481508,
          0.39674876797039493,
          0.40718618800270473,
          0.41595039264734807,
          0.4230053679075241,
          0.4283221233766012,
          0.43187881136591644,
          0.43366081668161466,
          0.43366081668161466,
          0.43187881136591644,
          0.4283221233766012,
          0.4230053679075241,
          0.41595039264734807,
          0.4071861880027048,
          0.39674876797039493,
          0.38468102214815086,
          0.3710325394920795,
          0.3558594045450052,
          0.33922396697305246,
          0.32119458535749484,
          0.3018453462946806,
          0.28125575995831803,
          0.25951043337511515,
          0.23669872275636075,
          0.2129143663140835,
          0.1882550990706333,
          0.16282225124450994,
          0.13672033186275934,
          0.11005659931096563,
          0.08294062058553647,
          0.055483821059414205,
          0.027799026611316315,
          2.6567716615620147e-17,
          1.9294813529382676e-17,
          0.020189052846503838,
          0.040295144544323126,
          0.06023565484992839,
          0.07992864392924785,
          0.09929318906602173,
          0.11824971719060103,
          0.13672033186275934,
          0.15462913336487438,
          0.17190253059014804,
          0.1884695434442496,
          0.20426209451774846,
          0.21921528883079203,
          0.23326768050049784,
          0.2463615252352666,
          0.2584430176184622,
          0.2694625122064101,
          0.2793747275321743,
          0.28813893217681763,
          0.2957191121435393,
          0.30208411884691255,
          0.3072077971091035,
          0.3110690926371074,
          0.31365213853935425,
          0.31494632052617016,
          0.31494632052617016,
          0.31365213853935425,
          0.3110690926371074,
          0.3072077971091035,
          0.30208411884691255,
          0.2957191121435393,
          0.28813893217681763,
          0.2793747275321743,
          0.2694625122064101,
          0.2584430176184622,
          0.2463615252352666,
          0.23326768050049793,
          0.21921528883079205,
          0.20426209451774857,
          0.18846954344424963,
          0.17190253059014812,
          0.15462913336487444,
          0.13672033186275934,
          0.1182497171906011,
          0.09929318906602173,
          0.07992864392924799,
          0.06023565484992846,
          0.040295144544323265,
          0.02018905284650391,
          1.9294813529382676e-17,
          1.1705090138426663e-17,
          0.012247575392108365,
          0.024444822869833866,
          0.036541621326989154,
          0.04848826242395865,
          0.06023565484992847,
          0.07173552604961245,
          0.08294062058553649,
          0.09380489432076725,
          0.10428370362414723,
          0.11433398882055132,
          0.12391445113232807,
          0.13298572238483566,
          0.14151052677871598,
          0.14945383406414978,
          0.15678300348766708,
          0.16346791792000476,
          0.16948110761385074,
          0.17479786308292786,
          0.1793963366385731,
          0.18325763216657698,
          0.18636588277536956,
          0.18870831599648163,
          0.19027530626935735,
          0.19106041449484706,
          0.19106041449484706,
          0.19027530626935735,
          0.18870831599648163,
          0.18636588277536956,
          0.18325763216657698,
          0.17939633663857313,
          0.17479786308292786,
          0.16948110761385077,
          0.16346791792000476,
          0.1567830034876671,
          0.14945383406414978,
          0.14151052677871603,
          0.1329857223848357,
          0.12391445113232813,
          0.11433398882055133,
          0.1042837036241473,
          0.09380489432076727,
          0.08294062058553649,
          0.07173552604961249,
          0.06023565484992847,
          0.04848826242395873,
          0.036541621326989196,
          0.02444482286983395,
          0.012247575392108407,
          1.1705090138426663e-17,
          3.923169491002363e-18,
          0.004104993088376966,
          0.008193117879635533,
          0.012247575392108403,
          0.016251704990198415,
          0.02018905284650393,
          0.02404343955412489,
          0.027799026611316342,
          0.03144038150528939,
          0.034952541127716515,
          0.0383210732613533,
          0.04153213588511474,
          0.044572534053909034,
          0.047429774119497246,
          0.05009211506957381,
          0.0525486167741045,
          0.054789184940667444,
          0.05680461259406588,
          0.058586617909764105,
          0.06012787824568097,
          0.061422060232496904,
          0.06246384579882691,
          0.06324895402431663,
          0.06377415873086233,
          0.06403730173966878,
          0.06403730173966878,
          0.06377415873086233,
          0.06324895402431663,
          0.06246384579882691,
          0.061422060232496904,
          0.06012787824568098,
          0.058586617909764105,
          0.056804612594065884,
          0.054789184940667444,
          0.05254861677410451,
          0.05009211506957381,
          0.04742977411949726,
          0.04457253405390904,
          0.041532135885114764,
          0.038321073261353304,
          0.034952541127716535,
          0.031440381505289404,
          0.027799026611316342,
          0.024043439554124905,
          0.02018905284650393,
          0.016251704990198443,
          0.012247575392108417,
          0.00819311787963556,
          0.004104993088376981,
          3.923169491002363e-18,
          -3.92316949100232e-18,
          -0.004104993088376922,
          -0.008193117879635444,
          -0.01224757539210827,
          -0.016251704990198238,
          -0.02018905284650371,
          -0.02404343955412463,
          -0.02779902661131604,
          -0.03144038150528905,
          -0.03495254112771614,
          -0.03832107326135288,
          -0.04153213588511429,
          -0.044572534053908555,
          -0.04742977411949673,
          -0.05009211506957326,
          -0.05254861677410393,
          -0.05478918494066685,
          -0.05680461259406526,
          -0.05858661790976347,
          -0.06012787824568032,
          -0.06142206023249624,
          -0.06246384579882623,
          -0.06324895402431595,
          -0.06377415873086165,
          -0.06403730173966808,
          -0.06403730173966808,
          -0.06377415873086165,
          -0.06324895402431595,
          -0.06246384579882623,
          -0.06142206023249624,
          -0.060127878245680326,
          -0.05858661790976347,
          -0.05680461259406527,
          -0.05478918494066685,
          -0.05254861677410394,
          -0.05009211506957326,
          -0.04742977411949675,
          -0.04457253405390856,
          -0.04153213588511431,
          -0.03832107326135289,
          -0.03495254112771616,
          -0.03144038150528906,
          -0.02779902661131604,
          -0.024043439554124645,
          -0.02018905284650371,
          -0.016251704990198266,
          -0.012247575392108285,
          -0.008193117879635472,
          -0.004104993088376936,
          -3.92316949100232e-18,
          -1.1705090138426621e-17,
          -0.012247575392108322,
          -0.02444482286983378,
          -0.03654162132698903,
          -0.048488262423958484,
          -0.06023565484992826,
          -0.0717355260496122,
          -0.08294062058553621,
          -0.09380489432076693,
          -0.10428370362414686,
          -0.11433398882055092,
          -0.12391445113232763,
          -0.1329857223848352,
          -0.14151052677871548,
          -0.14945383406414925,
          -0.15678300348766652,
          -0.1634679179200042,
          -0.16948110761385016,
          -0.17479786308292725,
          -0.1793963366385725,
          -0.18325763216657634,
          -0.18636588277536892,
          -0.188708315996481,
          -0.19027530626935668,
          -0.1910604144948464,
          -0.1910604144948464,
          -0.19027530626935668,
          -0.188708315996481,
          -0.18636588277536892,
          -0.18325763216657634,
          -0.17939633663857252,
          -0.17479786308292725,
          -0.16948110761385018,
          -0.1634679179200042,
          -0.15678300348766655,
          -0.14945383406414925,
          -0.14151052677871553,
          -0.13298572238483522,
          -0.1239144511323277,
          -0.11433398882055094,
          -0.10428370362414693,
          -0.09380489432076695,
          -0.08294062058553621,
          -0.07173552604961224,
          -0.06023565484992826,
          -0.04848826242395857,
          -0.03654162132698907,
          -0.024444822869833866,
          -0.012247575392108365,
          -1.1705090138426621e-17,
          -1.929481352938264e-17,
          -0.0201890528465038,
          -0.04029514454432305,
          -0.06023565484992827,
          -0.07992864392924769,
          -0.09929318906602154,
          -0.11824971719060079,
          -0.1367203318627591,
          -0.15462913336487408,
          -0.1719025305901477,
          -0.18846954344424924,
          -0.20426209451774807,
          -0.21921528883079158,
          -0.2332676805004974,
          -0.24636152523526614,
          -0.2584430176184617,
          -0.2694625122064096,
          -0.27937472753217374,
          -0.2881389321768171,
          -0.2957191121435387,
          -0.30208411884691194,
          -0.30720779710910295,
          -0.3110690926371068,
          -0.31365213853935364,
          -0.31494632052616955,
          -0.31494632052616955,
          -0.31365213853935364,
          -0.3110690926371068,
          -0.30720779710910295,
          -0.30208411884691194,
          -0.29571911214353874,
          -0.2881389321768171,
          -0.2793747275321738,
          -0.2694625122064096,
          -0.2584430176184617,
          -0.24636152523526614,
          -0.23326768050049748,
          -0.2192152888307916,
          -0.20426209451774816,
          -0.18846954344424927,
          -0.1719025305901478,
          -0.15462913336487413,
          -0.1367203318627591,
          -0.11824971719060086,
          -0.09929318906602154,
          -0.07992864392924783,
          -0.06023565484992834,
          -0.04029514454432319,
          -0.02018905284650387,
          -1.929481352938264e-17,
          -2.6567716615620132e-17,
          -0.027799026611316207,
          -0.05548382105941398,
          -0.08294062058553633,
          -0.11005659931096538,
          -0.13672033186275925,
          -0.16282225124450977,
          -0.1882550990706332,
          -0.21291436631408334,
          -0.2366987227563605,
          -0.259510433375115,
          -0.28125575995831775,
          -0.30184534629468046,
          -0.32119458535749457,
          -0.3392239669730523,
          -0.355859404545005,
          -0.3710325394920793,
          -0.38468102214815064,
          -0.3967487679703947,
          -0.40718618800270456,
          -0.4159503926473479,
          -0.42300536790752385,
          -0.42832212337660097,
          -0.4318788113659162,
          -0.43366081668161444,
          -0.43366081668161444,
          -0.4318788113659162,
          -0.42832212337660097,
          -0.42300536790752385,
          -0.4159503926473479,
          -0.40718618800270456,
          -0.3967487679703947,
          -0.38468102214815064,
          -0.3710325394920793,
          -0.35585940454500503,
          -0.3392239669730523,
          -0.3211945853574947,
          -0.30184534629468046,
          -0.28125575995831786,
          -0.25951043337511503,
          -0.23669872275636064,
          -0.2129143663140834,
          -0.1882550990706332,
          -0.16282225124450986,
          -0.13672033186275925,
          -0.11005659931096558,
          -0.08294062058553643,
          -0.05548382105941418,
          -0.0277990266113163,
          -2.6567716615620132e-17,
          -3.340437852953329e-17,
          -0.03495254112771634,
          -0.06976145476664232,
          -0.10428370362414703,
          -0.13837742837467584,
          -0.17190253059014793,
          -0.20472124843444783,
          -0.2366987227563605,
          -0.2677035512547505,
          -0.297608328438803,
          -0.32629016916451425,
          -0.3536312135961067,
          -0.37951911151737533,
          -0.40384748400282494,
          -0.42651636055149333,
          -0.44743258988718315,
          -0.46651022273703696,
          -0.48367086501553536,
          -0.4988439999626098,
          -0.5119672779121354,
          -0.5229867725000832,
          -0.5318572022595174,
          -0.5385421166918551,
          -0.5430140460497842,
          -0.5452546142163471,
          -0.5452546142163471,
          -0.5430140460497842,
          -0.5385421166918551,
          -0.5318572022595174,
          -0.5229867725000832,
          -0.5119672779121354,
          -0.4988439999626098,
          -0.4836708650155354,
          -0.46651022273703696,
          -0.4474325898871832,
          -0.42651636055149333,
          -0.40384748400282505,
          -0.3795191115173754,
          -0.3536312135961069,
          -0.3262901691645143,
          -0.2976083284388032,
          -0.2677035512547506,
          -0.2366987227563605,
          -0.20472124843444794,
          -0.17190253059014793,
          -0.1383774283746761,
          -0.10428370362414716,
          -0.06976145476664256,
          -0.034952541127716466,
          -3.340437852953329e-17,
          -3.9692541471505396e-17,
          -0.041532135885114535,
          -0.0828936073152619,
          -0.12391445113232785,
          -0.16442610389012463,
          -0.20426209451774835,
          -0.24325872838491666,
          -0.28125575995831775,
          -0.3180970512848788,
          -0.3536312135961068,
          -0.3877122293970109,
          -0.42020005248331027,
          -0.4509611834213271,
          -0.4798692181257953,
          -0.50680536728136,
          -0.5316589444733554,
          -0.5543278210220237,
          -0.5747188456511678,
          -0.5927482272667256,
          -0.6083418792723483,
          -0.621435724007117,
          -0.6319759560543958,
          -0.6399192633398295,
          -0.6452330051099484,
          -0.647895346060025,
          -0.647895346060025,
          -0.6452330051099484,
          -0.6399192633398295,
          -0.6319759560543958,
          -0.621435724007117,
          -0.6083418792723483,
          -0.5927482272667256,
          -0.5747188456511679,
          -0.5543278210220237,
          -0.5316589444733555,
          -0.50680536728136,
          -0.4798692181257954,
          -0.4509611834213272,
          -0.4202000524833105,
          -0.38771222939701094,
          -0.35363121359610694,
          -0.3180970512848789,
          -0.28125575995831775,
          -0.2432587283849168,
          -0.20426209451774835,
          -0.1644261038901249,
          -0.12391445113232799,
          -0.08289360731526219,
          -0.04153213588511468,
          -3.9692541471505396e-17,
          -4.532895397987493e-17,
          -0.04742977411949702,
          -0.09466464912348235,
          -0.14151052677871573,
          -0.18777490732550256,
          -0.23326768050049773,
          -0.2778019067405557,
          -0.32119458535749457,
          -0.36326740652717704,
          -0.403847484002825,
          -0.4427680655416917,
          -0.4798692181257953,
          -0.5149984851609956,
          -0.5480115129538407,
          -0.5787726438918576,
          -0.60715547388978,
          -0.6330433718110486,
          -0.6563299587301682,
          -0.676919545066531,
          -0.6947275237934282,
          -0.7096807181064718,
          -0.7217176821227792,
          -0.7307889533752868,
          -0.7368572560646365,
          -0.7398976542334308,
          -0.7398976542334308,
          -0.7368572560646365,
          -0.7307889533752868,
          -0.7217176821227792,
          -0.7096807181064718,
          -0.6947275237934283,
          -0.676919545066531,
          -0.6563299587301683,
          -0.6330433718110486,
          -0.6071554738897801,
          -0.5787726438918576,
          -0.5480115129538409,
          -0.5149984851609957,
          -0.4798692181257956,
          -0.44276806554169174,
          -0.4038474840028252,
          -0.3632674065271772,
          -0.32119458535749457,
          -0.2778019067405559,
          -0.23326768050049773,
          -0.1877749073255029,
          -0.1415105267787159,
          -0.09466464912348267,
          -0.047429774119497184,
          -4.532895397987493e-17,
          -5.022106631708149e-17,
          -0.052548616774104245,
          -0.10488130001024071,
          -0.1567830034876668,
          -0.20804045197391327,
          -0.2584430176184621,
          -0.3077835854677631,
          -0.35585940454500503,
          -0.40247292099736864,
          -0.4474325898871832,
          -0.4905536622911618,
          -0.5316589444733555,
          -0.5705795260122221,
          -0.6071554738897801,
          -0.6412364896906843,
          -0.6726825272106536,
          -0.7013643679363648,
          -0.7271641520320404,
          -0.749975862650795,
          -0.7697057615805992,
          -0.7862727744347008,
          -0.799608823803669,
          -0.8096591090000731,
          -0.8163823312462617,
          -0.8197508633798984,
          -0.8197508633798984,
          -0.8163823312462617,
          -0.8096591090000731,
          -0.799608823803669,
          -0.7862727744347008,
          -0.7697057615805993,
          -0.749975862650795,
          -0.7271641520320405,
          -0.7013643679363648,
          -0.6726825272106537,
          -0.6412364896906843,
          -0.6071554738897802,
          -0.5705795260122222,
          -0.5316589444733557,
          -0.4905536622911619,
          -0.4474325898871835,
          -0.40247292099736875,
          -0.35585940454500503,
          -0.3077835854677633,
          -0.2584430176184621,
          -0.20804045197391363,
          -0.156783003487667,
          -0.10488130001024108,
          -0.052548616774104426,
          -5.022106631708149e-17,
          -5.428855013379791e-17,
          -0.05680461259406563,
          -0.113375802850431,
          -0.16948110761385052,
          -0.2248899781525011,
          -0.27937472753217424,
          -0.3327114662307264,
          -0.3846810221481508,
          -0.435069841231748,
          -0.48367086501553563,
          -0.5302843814678992,
          -0.5747188456511682,
          -0.6167916668208506,
          -0.6563299587301685,
          -0.6931712500567296,
          -0.7271641520320408,
          -0.7581689805304307,
          -0.7860583300610848,
          -0.810717597304535,
          -0.8320454520422814,
          -0.8499542535443965,
          -0.8643704107040819,
          -0.8752346844393127,
          -0.8825024311189312,
          -0.8861437860129043,
          -0.8861437860129043,
          -0.8825024311189312,
          -0.8752346844393127,
          -0.8643704107040819,
          -0.8499542535443965,
          -0.8320454520422815,
          -0.810717597304535,
          -0.7860583300610849,
          -0.7581689805304307,
          -0.7271641520320408,
          -0.6931712500567296,
          -0.6563299587301687,
          -0.6167916668208506,
          -0.5747188456511684,
          -0.5302843814678994,
          -0.4836708650155359,
          -0.43506984123174813,
          -0.3846810221481508,
          -0.3327114662307266,
          -0.27937472753217424,
          -0.2248899781525015,
          -0.1694811076138507,
          -0.11337580285043139,
          -0.05680461259406582,
          -5.428855013379791e-17,
          -5.746461745820531e-17,
          -0.060127878245680694,
          -0.1200086781422604,
          -0.17939633663857282,
          -0.23804681710724382,
          -0.2957191121435392,
          -0.35217623391648595,
          -0.4071861880027046,
          -0.46052292670125683,
          -0.5119672779121355,
          -0.5613078457614364,
          -0.6083418792723484,
          -0.6528761055124064,
          -0.6947275237934284,
          -0.7337241576605967,
          -0.7697057615805993,
          -0.8025244794248992,
          -0.8320454520422812,
          -0.8581473714240319,
          -0.880722979184567,
          -0.8996795073091463,
          -0.9149390593575433,
          -0.9264389305572273,
          -0.9341318654707241,
          -0.9379862521783451,
          -0.9379862521783451,
          -0.9341318654707241,
          -0.9264389305572273,
          -0.9149390593575433,
          -0.8996795073091463,
          -0.8807229791845671,
          -0.8581473714240319,
          -0.8320454520422813,
          -0.8025244794248992,
          -0.7697057615805994,
          -0.7337241576605967,
          -0.6947275237934285,
          -0.6528761055124064,
          -0.6083418792723487,
          -0.5613078457614366,
          -0.5119672779121358,
          -0.46052292670125694,
          -0.4071861880027046,
          -0.35217623391648617,
          -0.2957191121435392,
          -0.23804681710724424,
          -0.17939633663857305,
          -0.12000867814226082,
          -0.0601278782456809,
          -5.746461745820531e-17,
          -5.96971173526441e-17,
          -0.06246384579882662,
          -0.12467101425681291,
          -0.18636588277536925,
          -0.2472949339062451,
          -0.30720779710910345,
          -0.36585827757777445,
          -0.42300536790752397,
          -0.47841423844617464,
          -0.5318572022595176,
          -0.5831146507457641,
          -0.6319759560543959,
          -0.6782403366011828,
          -0.7217176821227794,
          -0.7622293348805762,
          -0.7996088238036692,
          -0.833702548554198,
          -0.8643704107040818,
          -0.891486389429511,
          -0.9149390593575433,
          -0.9346320484368628,
          -0.9504844339512095,
          -0.962431075048179,
          -0.9704228804169573,
          -0.9744270100150473,
          -0.9744270100150473,
          -0.9704228804169573,
          -0.962431075048179,
          -0.9504844339512095,
          -0.9346320484368628,
          -0.9149390593575434,
          -0.891486389429511,
          -0.8643704107040819,
          -0.833702548554198,
          -0.7996088238036693,
          -0.7622293348805762,
          -0.7217176821227796,
          -0.6782403366011829,
          -0.6319759560543963,
          -0.5831146507457642,
          -0.5318572022595179,
          -0.4784142384461748,
          -0.42300536790752397,
          -0.36585827757777467,
          -0.30720779710910345,
          -0.24729493390624555,
          -0.18636588277536947,
          -0.12467101425681335,
          -0.062463845798826835,
          -5.96971173526441e-17,
          -6.094939223056836e-17,
          -0.06377415873086204,
          -0.12728625576398475,
          -0.19027530626935704,
          -0.2524824747273433,
          -0.31365213853935414,
          -0.3735329384359339,
          -0.4318788113659163,
          -0.48845000162228175,
          -0.5430140460497844,
          -0.5953467292859209,
          -0.6452330051099486,
          -0.6924678801139339,
          -0.7368572560646366,
          -0.778218727494784,
          -0.8163823312462618,
          -0.8511912448851877,
          -0.8825024311189311,
          -0.9101872255670289,
          -0.9341318654707241,
          -0.9542379571685434,
          -0.9704228804169573,
          -0.9826201278946828,
          -0.9907795784955327,
          -0.9948677032867912,
          -0.9948677032867912,
          -0.9907795784955327,
          -0.9826201278946828,
          -0.9704228804169573,
          -0.9542379571685434,
          -0.9341318654707242,
          -0.9101872255670289,
          -0.8825024311189312,
          -0.8511912448851877,
          -0.8163823312462619,
          -0.778218727494784,
          -0.7368572560646368,
          -0.692467880113934,
          -0.6452330051099489,
          -0.595346729285921,
          -0.5430140460497848,
          -0.4884500016222819,
          -0.4318788113659163,
          -0.3735329384359341,
          -0.31365213853935414,
          -0.25248247472734375,
          -0.19027530626935726,
          -0.1272862557639852,
          -0.06377415873086226,
          -6.094939223056836e-17,
          -6.120087977310359e-17,
          -0.06403730173966848,
          -0.1278114604705305,
          -0.1910604144948468,
          -0.2535242602936733,
          -0.3149463205261701,
          -0.3750741987718508,
          -0.4336608166816146,
          -0.49046542927568026,
          -0.5452546142163474,
          -0.5978032309904516,
          -0.6478953460600252,
          -0.6953251201795222,
          -0.739897654233431,
          -0.7814297901185455,
          -0.8197508633798987,
          -0.854703404507615,
          -0.8861437860129042,
          -0.9139428126242205,
          -0.9379862521783452,
          -0.958175305024849,
          -0.9744270100150474,
          -0.9866745854071558,
          -0.9948677032867913,
          -0.9989726963751682,
          -0.9989726963751682,
          -0.9948677032867913,
          -0.9866745854071558,
          -0.9744270100150474,
          -0.958175305024849,
          -0.9379862521783453,
          -0.9139428126242205,
          -0.8861437860129043,
          -0.854703404507615,
          -0.8197508633798988,
          -0.7814297901185455,
          -0.7398976542334312,
          -0.6953251201795223,
          -0.6478953460600255,
          -0.5978032309904517,
          -0.5452546142163477,
          -0.49046542927568043,
          -0.4336608166816146,
          -0.375074198771851,
          -0.3149463205261701,
          -0.25352426029367375,
          -0.191060414494847,
          -0.12781146047053094,
          -0.0640373017396687,
          -6.120087977310359e-17,
          -6.044745056175412e-17,
          -0.06324895402431635,
          -0.12623800452968864,
          -0.18870831599648138,
          -0.25040318451503774,
          -0.31106909263710736,
          -0.37045675113341986,
          -0.4283221233766012,
          -0.4844274281400207,
          -0.5385421166918555,
          -0.5904438201692815,
          -0.6399192633398298,
          -0.6867651409950633,
          -0.7307889533752872,
          -0.7718097971923532,
          -0.8096591090000734,
          -0.8441813578575782,
          -0.8752346844393127,
          -0.9026914839654352,
          -0.9264389305572275,
          -0.9463794408628328,
          -0.9624310750481793,
          -0.9745278735053345,
          -0.982620127894683,
          -0.9866745854071559,
          -0.9866745854071559,
          -0.982620127894683,
          -0.9745278735053345,
          -0.9624310750481793,
          -0.9463794408628328,
          -0.9264389305572275,
          -0.9026914839654352,
          -0.8752346844393128,
          -0.8441813578575782,
          -0.8096591090000735,
          -0.7718097971923532,
          -0.7307889533752874,
          -0.6867651409950634,
          -0.6399192633398302,
          -0.5904438201692817,
          -0.5385421166918558,
          -0.4844274281400209,
          -0.4283221233766012,
          -0.3704567511334201,
          -0.31106909263710736,
          -0.2504031845150382,
          -0.1887083159964816,
          -0.12623800452968909,
          -0.06324895402431656,
          -6.044745056175412e-17,
          -5.87014758833406e-17,
          -0.06142206023249664,
          -0.1225917240445073,
          -0.18325763216657676,
          -0.24317049536943489,
          -0.30208411884691255,
          -0.3597564138832078,
          -0.4159503926473481,
          -0.47043514202702114,
          -0.5229867725000836,
          -0.5733893381446322,
          -0.6214357240071173,
          -0.6669284971821124,
          -0.7096807181064722,
          -0.7495167087340958,
          -0.7862727744347012,
          -0.8197978766501732,
          -0.8499542535443966,
          -0.8766179860961905,
          -0.8996795073091466,
          -0.9190440524459205,
          -0.934632048436863,
          -0.9463794408628329,
          -0.9542379571685438,
          -0.9581753050248493,
          -0.9581753050248493,
          -0.9542379571685438,
          -0.9463794408628329,
          -0.934632048436863,
          -0.9190440524459205,
          -0.8996795073091467,
          -0.8766179860961905,
          -0.8499542535443967,
          -0.8197978766501732,
          -0.7862727744347013,
          -0.7495167087340958,
          -0.7096807181064724,
          -0.6669284971821126,
          -0.6214357240071177,
          -0.5733893381446323,
          -0.5229867725000839,
          -0.4704351420270213,
          -0.4159503926473481,
          -0.359756413883208,
          -0.30208411884691255,
          -0.2431704953694353,
          -0.18325763216657698,
          -0.12259172404450773,
          -0.061422060232496856,
          -5.87014758833406e-17,
          -5.599162459381253e-17,
          -0.05858661790976386,
          -0.11693249083974633,
          -0.17479786308292766,
          -0.23194495341267715,
          -0.2881389321768177,
          -0.3431488862630364,
          -0.396748767970395,
          -0.44871832388781946,
          -0.4988439999626102,
          -0.5469198190398521,
          -0.592748227266726,
          -0.6361409058836649,
          -0.6769195450665315,
          -0.7149165766399326,
          -0.7499758626507954,
          -0.7819533369727081,
          -0.8107175973045352,
          -0.8361504451306587,
          -0.8581473714240322,
          -0.8766179860961906,
          -0.8914863894295113,
          -0.9026914839654354,
          -0.9101872255670294,
          -0.9139428126242208,
          -0.9139428126242208,
          -0.9101872255670294,
          -0.9026914839654354,
          -0.8914863894295113,
          -0.8766179860961906,
          -0.8581473714240323,
          -0.8361504451306587,
          -0.8107175973045353,
          -0.7819533369727081,
          -0.7499758626507955,
          -0.7149165766399326,
          -0.6769195450665316,
          -0.636140905883665,
          -0.5927482272667264,
          -0.5469198190398522,
          -0.4988439999626105,
          -0.4487183238878196,
          -0.396748767970395,
          -0.3431488862630366,
          -0.2881389321768177,
          -0.23194495341267757,
          -0.17479786308292786,
          -0.11693249083974673,
          -0.05858661790976406,
          -5.599162459381253e-17,
          -5.2362392376426063e-17,
          -0.05478918494066722,
          -0.1093532293681699,
          -0.16346791792000462,
          -0.21691088173334758,
          -0.2694625122064102,
          -0.3209068634172889,
          -0.37103253949207965,
          -0.4196335632758673,
          -0.4665102227370374,
          -0.511469891626852,
          -0.5543278210220242,
          -0.5949078984976721,
          -0.6330433718110491,
          -0.6685775341222772,
          -0.7013643679363654,
          -0.7312691451204179,
          -0.7581689805304309,
          -0.7819533369727082,
          -0.8025244794248997,
          -0.8197978766501735,
          -0.8337025485541985,
          -0.8441813578575785,
          -0.8511912448851883,
          -0.8547034045076154,
          -0.8547034045076154,
          -0.8511912448851883,
          -0.8441813578575785,
          -0.8337025485541985,
          -0.8197978766501735,
          -0.8025244794248998,
          -0.7819533369727082,
          -0.758168980530431,
          -0.7312691451204179,
          -0.7013643679363655,
          -0.6685775341222772,
          -0.6330433718110493,
          -0.5949078984976722,
          -0.5543278210220245,
          -0.5114698916268521,
          -0.4665102227370377,
          -0.4196335632758675,
          -0.37103253949207965,
          -0.3209068634172891,
          -0.2694625122064102,
          -0.21691088173334797,
          -0.1634679179200048,
          -0.10935322936817027,
          -0.05478918494066741,
          -5.2362392376426063e-17,
          -4.7873371123855144e-17,
          -0.05009211506957359,
          -0.09997839089360128,
          -0.14945383406414958,
          -0.19831513937278136,
          -0.2463615252352666,
          -0.29339555874617856,
          -0.33922396697305246,
          -0.38365843115632137,
          -0.42651636055149356,
          -0.4676216427336872,
          -0.5068053672813604,
          -0.543906519865464,
          -0.5787726438918578,
          -0.6112604669781573,
          -0.6412364896906845,
          -0.6685775341222769,
          -0.6931712500567296,
          -0.7149165766399325,
          -0.7337241576605968,
          -0.7495167087340958,
          -0.7622293348805764,
          -0.7718097971923532,
          -0.7782187274947843,
          -0.7814297901185456,
          -0.7814297901185456,
          -0.7782187274947843,
          -0.7718097971923532,
          -0.7622293348805764,
          -0.7495167087340958,
          -0.733724157660597,
          -0.7149165766399325,
          -0.6931712500567297,
          -0.6685775341222769,
          -0.6412364896906846,
          -0.6112604669781573,
          -0.578772643891858,
          -0.5439065198654641,
          -0.5068053672813606,
          -0.4676216427336873,
          -0.4265163605514938,
          -0.38365843115632153,
          -0.33922396697305246,
          -0.29339555874617873,
          -0.2463615252352666,
          -0.19831513937278172,
          -0.14945383406414975,
          -0.09997839089360162,
          -0.05009211506957376,
          -4.7873371123855144e-17,
          -4.259827044096134e-17,
          -0.04457253405390887,
          -0.08896191000461162,
          -0.13298572238483558,
          -0.17646306790643224,
          -0.21921528883079214,
          -0.26106670711181423,
          -0.3018453462946808,
          -0.3413836382039988,
          -0.3795191115173758,
          -0.4160950593949338,
          -0.4509611834213276,
          -0.4839742112141728,
          -0.5149984851609961,
          -0.5439065198654643,
          -0.5705795260122227,
          -0.5949078984976723,
          -0.616791666820851,
          -0.6361409058836652,
          -0.6528761055124069,
          -0.6669284971821128,
          -0.6782403366011833,
          -0.6867651409950637,
          -0.6924678801139346,
          -0.6953251201795227,
          -0.6953251201795227,
          -0.6924678801139346,
          -0.6867651409950637,
          -0.6782403366011833,
          -0.6669284971821128,
          -0.652876105512407,
          -0.6361409058836652,
          -0.6167916668208511,
          -0.5949078984976723,
          -0.5705795260122228,
          -0.5439065198654643,
          -0.5149984851609963,
          -0.48397421121417283,
          -0.4509611834213279,
          -0.41609505939493385,
          -0.37951911151737605,
          -0.3413836382039989,
          -0.3018453462946808,
          -0.2610667071118144,
          -0.21921528883079214,
          -0.17646306790643254,
          -0.13298572238483575,
          -0.08896191000461193,
          -0.04457253405390903,
          -4.259827044096134e-17,
          -3.6623707335119667e-17,
          -0.03832107326135314,
          -0.0764846770128309,
          -0.1143339888205512,
          -0.15171347774364413,
          -0.18846954344424963,
          -0.2244511473642523,
          -0.2595104333751152,
          -0.29350333535042633,
          -0.32629016916451453,
          -0.3577362066844839,
          -0.38771222939701117,
          -0.41609505939493363,
          -0.44276806554169196,
          -0.46762164273368734,
          -0.4905536622911621,
          -0.511469891626852,
          -0.5302843814678994,
          -0.5469198190398521,
          -0.5613078457614368,
          -0.5733893381446323,
          -0.5831146507457644,
          -0.5904438201692817,
          -0.5953467292859211,
          -0.5978032309904519,
          -0.5978032309904519,
          -0.5953467292859211,
          -0.5904438201692817,
          -0.5831146507457644,
          -0.5733893381446323,
          -0.5613078457614368,
          -0.5469198190398521,
          -0.5302843814678995,
          -0.511469891626852,
          -0.49055366229116215,
          -0.46762164273368734,
          -0.44276806554169207,
          -0.4160950593949337,
          -0.38771222939701133,
          -0.357736206684484,
          -0.3262901691645147,
          -0.2935033353504264,
          -0.2595104333751152,
          -0.22445114736425245,
          -0.18846954344424963,
          -0.15171347774364438,
          -0.11433398882055132,
          -0.07648467701283117,
          -0.03832107326135327,
          -3.6623707335119667e-17,
          -3.004778396735241e-17,
          -0.03144038150528929,
          -0.06275156773903263,
          -0.09380489432076723,
          -0.12447275647065106,
          -0.15462913336487455,
          -0.1841501059822566,
          -0.2129143663140837,
          -0.2408037158447379,
          -0.267703551254751,
          -0.2935033353504266,
          -0.31809705128487936,
          -0.341383638203999,
          -0.36326740652717765,
          -0.38365843115632187,
          -0.40247292099736925,
          -0.4196335632758677,
          -0.4350698412317485,
          -0.4487183238878199,
          -0.4605229267012575,
          -0.4704351420270217,
          -0.47841423844617537,
          -0.4844274281400213,
          -0.48845000162228247,
          -0.49046542927568093,
          -0.49046542927568093,
          -0.48845000162228247,
          -0.4844274281400213,
          -0.47841423844617537,
          -0.4704351420270217,
          -0.46052292670125755,
          -0.4487183238878199,
          -0.4350698412317486,
          -0.4196335632758677,
          -0.4024729209973693,
          -0.38365843115632187,
          -0.36326740652717776,
          -0.34138363820399903,
          -0.31809705128487953,
          -0.29350333535042666,
          -0.2677035512547511,
          -0.24080371584473798,
          -0.2129143663140837,
          -0.1841501059822567,
          -0.15462913336487455,
          -0.12447275647065127,
          -0.09380489432076734,
          -0.06275156773903286,
          -0.0314403815052894,
          -3.004778396735241e-17,
          -2.2978476817557013e-17,
          -0.024043439554124805,
          -0.04798807945782008,
          -0.07173552604961242,
          -0.0951881959776448,
          -0.11824971719060112,
          -0.1408253249511364,
          -0.16282225124451,
          -0.18415010598225653,
          -0.2047212484344481,
          -0.22445114736425248,
          -0.243258728384917,
          -0.2610667071118143,
          -0.27780190674055605,
          -0.2933955587461788,
          -0.30778358546776347,
          -0.3209068634172891,
          -0.3327114662307267,
          -0.34314888626303663,
          -0.3521762339164864,
          -0.35975641388320806,
          -0.3658582775777749,
          -0.3704567511334202,
          -0.3735329384359343,
          -0.37507419877185116,
          -0.37507419877185116,
          -0.3735329384359343,
          -0.3704567511334202,
          -0.3658582775777749,
          -0.35975641388320806,
          -0.35217623391648645,
          -0.34314888626303663,
          -0.3327114662307268,
          -0.3209068634172891,
          -0.3077835854677635,
          -0.2933955587461788,
          -0.27780190674055616,
          -0.26106670711181434,
          -0.24325872838491713,
          -0.2244511473642525,
          -0.20472124843444825,
          -0.1841501059822566,
          -0.16282225124451,
          -0.14082532495113648,
          -0.11824971719060112,
          -0.09518819597764497,
          -0.0717355260496125,
          -0.04798807945782025,
          -0.024043439554124888,
          -2.2978476817557013e-17,
          -1.5531863713691657e-17,
          -0.016251704990198408,
          -0.03243662823861229,
          -0.04848826242395878,
          -0.06434064793830555,
          -0.07992864392924816,
          -0.09518819597764511,
          -0.11005659931096588,
          -0.12447275647065141,
          -0.13837742837467648,
          -0.1517134777436447,
          -0.16442610389012535,
          -0.17646306790643282,
          -0.1877749073255034,
          -0.19831513937278217,
          -0.2080404519739142,
          -0.21691088173334838,
          -0.22488997815250203,
          -0.23194495341267804,
          -0.23804681710724482,
          -0.24317049536943583,
          -0.24729493390624616,
          -0.25040318451503873,
          -0.25248247472734436,
          -0.25352426029367436,
          -0.25352426029367436,
          -0.25248247472734436,
          -0.25040318451503873,
          -0.24729493390624616,
          -0.24317049536943583,
          -0.23804681710724485,
          -0.23194495341267804,
          -0.22488997815250206,
          -0.21691088173334838,
          -0.20804045197391421,
          -0.19831513937278217,
          -0.18777490732550345,
          -0.17646306790643285,
          -0.16442610389012544,
          -0.15171347774364471,
          -0.13837742837467656,
          -0.12447275647065145,
          -0.11005659931096588,
          -0.09518819597764516,
          -0.07992864392924816,
          -0.06434064793830566,
          -0.04848826242395884,
          -0.0324366282386124,
          -0.016251704990198464,
          -1.5531863713691657e-17,
          -7.83021783704898e-18,
          -0.008193117879635536,
          -0.01635256848048537,
          -0.024444822869833953,
          -0.03243662823861232,
          -0.04029514454432332,
          -0.04798807945782028,
          -0.05548382105941428,
          -0.06275156773903287,
          -0.0697614547666427,
          -0.07648467701283126,
          -0.08289360731526234,
          -0.088961910004612,
          -0.09466464912348285,
          -0.09997839089360176,
          -0.10488130001024126,
          -0.10935322936817038,
          -0.11337580285043156,
          -0.11693249083974687,
          -0.12000867814226102,
          -0.1225917240445079,
          -0.12467101425681354,
          -0.12623800452968925,
          -0.12728625576398542,
          -0.12781146047053113,
          -0.12781146047053113,
          -0.12728625576398542,
          -0.12623800452968925,
          -0.12467101425681354,
          -0.1225917240445079,
          -0.12000867814226103,
          -0.11693249083974687,
          -0.11337580285043157,
          -0.10935322936817038,
          -0.10488130001024128,
          -0.09997839089360176,
          -0.09466464912348288,
          -0.08896191000461201,
          -0.08289360731526238,
          -0.07648467701283128,
          -0.06976145476664274,
          -0.06275156773903288,
          -0.05548382105941428,
          -0.047988079457820305,
          -0.04029514454432332,
          -0.032436628238612375,
          -0.02444482286983398,
          -0.016352568480485427,
          -0.008193117879635564,
          -7.83021783704898e-18,
          -1.4997597826618576e-32,
          -1.5692677964009378e-17,
          -3.1320871348195766e-17,
          -4.6820360553706583e-17,
          -6.212745485476637e-17,
          -7.717925411753069e-17,
          -9.191390727022796e-17,
          -1.0627086646248058e-16,
          -1.201911358694095e-16,
          -1.336175141181332e-16,
          -1.4649482934047862e-16,
          -1.5877016588602166e-16,
          -1.7039308176384524e-16,
          -1.8131581591949977e-16,
          -1.9149348449542055e-16,
          -2.00884265268326e-16,
          -2.0944956950570415e-16,
          -2.171542005351916e-16,
          -2.2396649837525e-16,
          -2.2985846983282128e-16,
          -2.3480590353336234e-16,
          -2.3878846941057645e-16,
          -2.417898022470164e-16,
          -2.437975689222735e-16,
          -2.4480351909241436e-16,
          -2.4480351909241436e-16,
          -2.437975689222735e-16,
          -2.417898022470164e-16,
          -2.3878846941057645e-16,
          -2.3480590353336234e-16,
          -2.2985846983282128e-16,
          -2.2396649837525e-16,
          -2.1715420053519163e-16,
          -2.0944956950570415e-16,
          -2.0088426526832603e-16,
          -1.9149348449542055e-16,
          -1.8131581591949982e-16,
          -1.7039308176384526e-16,
          -1.5877016588602173e-16,
          -1.4649482934047864e-16,
          -1.3361751411813328e-16,
          -1.2019113586940952e-16,
          -1.0627086646248058e-16,
          -9.191390727022801e-17,
          -7.717925411753069e-17,
          -6.212745485476648e-17,
          -4.682036055370663e-17,
          -3.132087134819588e-17,
          -1.5692677964009433e-17,
          -1.4997597826618576e-32
         ],
         "y": [
          0,
          0,
          0,
          0,
          0,
          0,
          0,
          0,
          0,
          0,
          0,
          0,
          0,
          0,
          0,
          0,
          0,
          0,
          0,
          0,
          0,
          0,
          0,
          0,
          0,
          0,
          0,
          0,
          0,
          0,
          0,
          0,
          0,
          0,
          0,
          0,
          0,
          0,
          0,
          0,
          0,
          0,
          0,
          0,
          0,
          0,
          0,
          0,
          0,
          0,
          -0.255754323369012,
          -0.2552288486820852,
          -0.25365458390950735,
          -0.2510379980429077,
          -0.2473898431948681,
          -0.24272511041618577,
          -0.23706296809443048,
          -0.23042668318692797,
          -0.2228435256118418,
          -0.21434465619023024,
          -0.20496499859954848,
          -0.19474309586476685,
          -0.18372095197681385,
          -0.17194385928916747,
          -0.15946021240185973,
          -0.1463213092976845,
          -0.13258114054778267,
          -0.11829616745280454,
          -0.10352509003131448,
          -0.08832860580882357,
          -0.07276916039863769,
          -0.056910690899437795,
          -0.040818363164027247,
          -0.02455830401886427,
          -0.008197329534748094,
          0.008197329534748037,
          0.02455830401886422,
          0.04081836316402719,
          0.056910690899437795,
          0.07276916039863764,
          0.08832860580882351,
          0.10352509003131442,
          0.11829616745280448,
          0.13258114054778267,
          0.14632130929768444,
          0.15946021240185973,
          0.1719438592891674,
          0.1837209519768138,
          0.1947430958647668,
          0.20496499859954845,
          0.2143446561902302,
          0.22284352561184176,
          0.23042668318692797,
          0.23706296809443045,
          0.24272511041618577,
          0.24738984319486806,
          0.2510379980429077,
          0.25365458390950735,
          0.2552288486820852,
          0.255754323369012,
          -0.5073091678190147,
          -0.5062668467249929,
          -0.5031441665638801,
          -0.49795395909827095,
          -0.49071755200393785,
          -0.48146468122983566,
          -0.47023336880670985,
          -0.457069766606416,
          -0.4420279666939789,
          -0.42516977905169473,
          -0.4065644775886556,
          -0.3862885154793977,
          -0.36442521100140823,
          -0.34106440516245135,
          -0.31630209252459646,
          -0.29024002674197197,
          -0.2629853024331742,
          -0.23464991510650807,
          -0.20535030094642034,
          -0.17520685835224237,
          -0.14434345319534175,
          -0.11288690982768779,
          -0.08096648993338572,
          -0.04871336136468975,
          -0.01626005914516303,
          0.016260059145162917,
          0.04871336136468964,
          0.08096648993338562,
          0.11288690982768779,
          0.14434345319534164,
          0.17520685835224226,
          0.20535030094642023,
          0.23464991510650796,
          0.2629853024331742,
          0.29024002674197186,
          0.31630209252459646,
          0.34106440516245123,
          0.3644252110014082,
          0.3862885154793976,
          0.40656447758865555,
          0.4251697790516946,
          0.44202796669397887,
          0.457069766606416,
          0.4702333688067098,
          0.48146468122983566,
          0.4907175520039378,
          0.49795395909827095,
          0.5031441665638801,
          0.5062668467249929,
          0.5073091678190147,
          -0.7505340097587482,
          -0.7489919571411787,
          -0.7443721359134452,
          -0.7366935299119208,
          -0.7259876921757219,
          -0.7122986152885012,
          -0.6956825506034863,
          -0.6762077770946026,
          -0.6539543207835237,
          -0.6290136258955834,
          -0.6014881790958386,
          -0.5714910883493793,
          -0.5391456181364384,
          -0.5045846829322023,
          -0.46795030103272267,
          -0.4293930109712749,
          -0.38907125292323413,
          -0.3471507176414098,
          -0.3038036655972015,
          -0.2592082191253724,
          -0.2135476304811685,
          -0.16700952881749423,
          -0.11978514917647744,
          -0.0720685466636606,
          -0.02405579903394799,
          0.024055799033947823,
          0.07206854666366044,
          0.11978514917647728,
          0.16700952881749423,
          0.21354763048116834,
          0.25920821912537223,
          0.30380366559720134,
          0.34715071764140965,
          0.38907125292323413,
          0.42939301097127475,
          0.46795030103272267,
          0.504584682932202,
          0.5391456181364382,
          0.5714910883493791,
          0.6014881790958386,
          0.6290136258955833,
          0.6539543207835236,
          0.6762077770946026,
          0.6956825506034863,
          0.7122986152885012,
          0.7259876921757218,
          0.7366935299119208,
          0.7443721359134451,
          0.7489919571411787,
          0.7505340097587482,
          -0.9814351040078757,
          -0.9794186403281067,
          -0.9733775353705901,
          -0.963336613331409,
          -0.9493371345129937,
          -0.9314366257766877,
          -0.9097086441525357,
          -0.8842424745776688,
          -0.8551427630053461,
          -0.8225290863922871,
          -0.7865354613313064,
          -0.747309793348388,
          -0.7050132691271532,
          -0.6598196941582029,
          -0.6119147785350759,
          -0.56149537383164,
          -0.5087686641967499,
          -0.45395131499013924,
          -0.39726858245798236,
          -0.33895338810666187,
          -0.27924536157833735,
          -0.21838985596134505,
          -0.15663693958173058,
          -0.09424036841885665,
          -0.03145654336765399,
          0.031456543367653765,
          0.09424036841885644,
          0.15663693958173042,
          0.21838985596134505,
          0.2792453615783371,
          0.33895338810666165,
          0.39726858245798213,
          0.453951314990139,
          0.5087686641967499,
          0.5614953738316398,
          0.6119147785350759,
          0.6598196941582026,
          0.7050132691271531,
          0.7473097933483878,
          0.7865354613313063,
          0.8225290863922868,
          0.855142763005346,
          0.8842424745776688,
          0.9097086441525356,
          0.9314366257766877,
          0.9493371345129936,
          0.963336613331409,
          0.97337753537059,
          0.9794186403281067,
          0.9814351040078757,
          -1.1962210609824317,
          -1.193763296518337,
          -1.1864001026074242,
          -1.1741617361928736,
          -1.1570984873474037,
          -1.1352804726205763,
          -1.1087973469148533,
          -1.0777579350743722,
          -1.0422897847003183,
          -1.0025386420304732,
          -0.9586678530366605,
          -0.9108576922011106,
          -0.859304621729944,
          -0.8042204842478258,
          -0.7458316322911803,
          -0.6843779981770671,
          -0.620112108069824,
          -0.553298044296892,
          -0.4842103601778858,
          -0.41313295182611204,
          -0.3403578915585446,
          -0.266184227708024,
          -0.19091675576951364,
          -0.11486476593003067,
          -0.03834077212892618,
          0.038340772128925914,
          0.11486476593003042,
          0.19091675576951342,
          0.266184227708024,
          0.34035789155854435,
          0.4131329518261118,
          0.48421036017788555,
          0.5532980442968918,
          0.620112108069824,
          0.6843779981770668,
          0.7458316322911803,
          0.8042204842478256,
          0.8593046217299439,
          0.9108576922011102,
          0.9586678530366602,
          1.002538642030473,
          1.042289784700318,
          1.0777579350743722,
          1.1087973469148533,
          1.1352804726205763,
          1.1570984873474037,
          1.1741617361928736,
          1.186400102607424,
          1.193763296518337,
          1.1962210609824317,
          -1.3913651012069728,
          -1.3885063923831038,
          -1.379942012959246,
          -1.3657071558075045,
          -1.345860315009284,
          -1.320483045490558,
          -1.2896796278951865,
          -1.253576640073381,
          -1.2123224369461678,
          -1.1660865408831957,
          -1.115058945098956,
          -1.059449332929911,
          -0.9994862162006879,
          -0.935415996219975,
          -0.8675019512646921,
          -0.7960231547130778,
          -0.7212733282723163,
          -0.64355963501304,
          -0.5632014171703864,
          -0.48052888389825454,
          -0.3958817543690624,
          -0.3096078617947975,
          -0.22206172410573993,
          -0.13360308716024147,
          -0.044595446471829274,
          0.04459544647182896,
          0.1336030871602412,
          0.22206172410573966,
          0.3096078617947975,
          0.3958817543690621,
          0.4805288838982542,
          0.5632014171703861,
          0.6435596350130397,
          0.7212733282723163,
          0.7960231547130775,
          0.8675019512646921,
          0.9354159962199746,
          0.9994862162006877,
          1.0594493329299108,
          1.1150589450989559,
          1.1660865408831955,
          1.2123224369461678,
          1.253576640073381,
          1.2896796278951863,
          1.320483045490558,
          1.3458603150092838,
          1.3657071558075045,
          1.3799420129592457,
          1.3885063923831038,
          1.3913651012069728,
          -1.5636629649360594,
          -1.5604502516722711,
          -1.5508253136088324,
          -1.5348277016807883,
          -1.5125231535070283,
          -1.4840033232603087,
          -1.4493854050405983,
          -1.4088116512993816,
          -1.3624487882938239,
          -1.3104873309728187,
          -1.253140800110195,
          -1.19064484490206,
          -1.123256274633704,
          -1.051252003395163,
          -0.9749279121818234,
          -0.8945976330559476,
          -0.8105912603652543,
          -0.7232539943144403,
          -0.6329447224634928,
          -0.5400345449817257,
          -0.44490524971758194,
          -0.3479477433504716,
          -0.24956044507137765,
          -0.1501476493929378,
          -0.05011786481657258,
          0.05011786481657223,
          0.15014764939293748,
          0.24956044507137734,
          0.3479477433504716,
          0.4449052497175816,
          0.5400345449817253,
          0.6329447224634924,
          0.7232539943144398,
          0.8105912603652543,
          0.8945976330559472,
          0.9749279121818234,
          1.0512520033951624,
          1.1232562746337038,
          1.1906448449020597,
          1.253140800110195,
          1.3104873309728182,
          1.3624487882938239,
          1.4088116512993816,
          1.449385405040598,
          1.4840033232603087,
          1.512523153507028,
          1.5348277016807883,
          1.5508253136088324,
          1.5604502516722711,
          1.5636629649360594,
          -1.7102855260106922,
          -1.7067715609699559,
          -1.6962441054838422,
          -1.6787464191250758,
          -1.6543504036401468,
          -1.6231563074896118,
          -1.5852923139056658,
          -1.5409140141597468,
          -1.4902037682046254,
          -1.4333699553182457,
          -1.370646117828572,
          -1.3022900014380707,
          -1.228582496091331,
          -1.1498264817380328,
          -1.0663455837342661,
          -0.9784828429965253,
          -0.886599306373,
          -0.7910725430246334,
          -0.6922950929124501,
          -0.5906728537666577,
          -0.4866234131658084,
          -0.38057433257986567,
          -0.2729613904284143,
          -0.16422679137365792,
          -0.05481734920661094,
          0.054817349206610556,
          0.16422679137365756,
          0.27296139042841394,
          0.38057433257986567,
          0.48662341316580804,
          0.5906728537666573,
          0.6922950929124496,
          0.7910725430246329,
          0.886599306373,
          0.978482842996525,
          1.0663455837342661,
          1.1498264817380324,
          1.2285824960913307,
          1.3022900014380703,
          1.370646117828572,
          1.4333699553182453,
          1.4902037682046254,
          1.5409140141597468,
          1.5852923139056658,
          1.6231563074896118,
          1.6543504036401466,
          1.6787464191250758,
          1.696244105483842,
          1.7067715609699559,
          1.7102855260106922,
          -1.8288252460316248,
          -1.8250677284227603,
          -1.8138106160420067,
          -1.7951001667787791,
          -1.7690132658824798,
          -1.7356571100245135,
          -1.6951687668041742,
          -1.6477146115084762,
          -1.593489643440414,
          -1.5327166846249984,
          -1.4656454641857612,
          -1.3925515921542186,
          -1.3137354269291344,
          -1.229520841039433,
          -1.1402538902825072,
          -1.0463013917067183,
          -0.9480494162814618,
          -0.8459017024487429,
          -0.7402779970753157,
          -0.6316123306227737,
          -0.5203512336232826,
          -0.4069519017898436,
          -0.29188031730104125,
          -0.17560933398031728,
          -0.05861673423818416,
          0.05861673423818375,
          0.1756093339803169,
          0.2918803173010409,
          0.4069519017898436,
          0.5203512336232823,
          0.6316123306227732,
          0.7402779970753153,
          0.8459017024487424,
          0.9480494162814618,
          1.0463013917067179,
          1.1402538902825072,
          1.2295208410394327,
          1.3137354269291341,
          1.3925515921542182,
          1.465645464185761,
          1.5327166846249982,
          1.5934896434404138,
          1.6477146115084762,
          1.695168766804174,
          1.7356571100245135,
          1.7690132658824795,
          1.7951001667787791,
          1.8138106160420064,
          1.8250677284227603,
          1.8288252460316248,
          -1.9173357060733212,
          -1.9133963342315838,
          -1.9015944064302626,
          -1.8819784193221982,
          -1.854628979206034,
          -1.8196584707976435,
          -1.777210595417228,
          -1.7274597804897656,
          -1.6706104627853098,
          -1.6068962483444489,
          -1.5365789525409763,
          -1.459947524226361,
          -1.377316858376938,
          -1.2890265021229041,
          -1.19543925947633,
          -1.0969397004916506,
          -0.993932580984823,
          -0.8868411793048588,
          -0.7761055569922947,
          -0.6621807504719291,
          -0.5455349012105489,
          -0.4266473320232249,
          -0.3060065774330521,
          -0.18410837617800194,
          -0.06145363411411348,
          0.06145363411411305,
          0.18410837617800152,
          0.30600657743305176,
          0.4266473320232249,
          0.5455349012105486,
          0.6621807504719287,
          0.7761055569922942,
          0.8868411793048584,
          0.993932580984823,
          1.0969397004916501,
          1.19543925947633,
          1.2890265021229037,
          1.3773168583769377,
          1.4599475242263606,
          1.536578952540976,
          1.6068962483444484,
          1.6706104627853096,
          1.7274597804897656,
          1.7772105954172277,
          1.8196584707976435,
          1.8546289792060338,
          1.8819784193221982,
          1.9015944064302623,
          1.9133963342315838,
          1.9173357060733212,
          -1.9743635668289001,
          -1.9703070251310217,
          -1.9581540692373485,
          -1.937954638250448,
          -1.9097917359650107,
          -1.87378108978745,
          -1.8300706751871696,
          -1.7788401076336164,
          -1.72029990451779,
          -1.6546906200911278,
          -1.5822818569764863,
          -1.5033711583131344,
          -1.4182827850881718,
          -1.3273663836785783,
          -1.2309955490792532,
          -1.1295662897210446,
          -1.0234954001871626,
          -0.9132187485148368,
          -0.7991894851200563,
          -0.6818761807053104,
          -0.5617609008020644,
          -0.43933722486008703,
          -0.3151082180236207,
          -0.18958436392879455,
          -0.06328146701686647,
          0.06328146701686603,
          0.18958436392879416,
          0.3151082180236203,
          0.43933722486008703,
          0.561760900802064,
          0.68187618070531,
          0.7991894851200558,
          0.9132187485148363,
          1.0234954001871626,
          1.1295662897210441,
          1.2309955490792532,
          1.3273663836785778,
          1.4182827850881716,
          1.503371158313134,
          1.582281856976486,
          1.6546906200911273,
          1.7202999045177898,
          1.7788401076336164,
          1.8300706751871694,
          1.87378108978745,
          1.9097917359650105,
          1.937954638250448,
          1.9581540692373482,
          1.9703070251310217,
          1.9743635668289001,
          -1.9989724324013758,
          -1.9948653291498861,
          -1.9825608963636485,
          -1.9621096955962738,
          -1.9335957652184843,
          -1.897136275086421,
          -1.8528810450655728,
          -1.8010119293888127,
          -1.741742069378346,
          -1.675315017602302,
          -1.6020037370649856,
          -1.5221094795433454,
          -1.435960547678802,
          -1.3439109459112748,
          -1.2463389257990043,
          -1.1436454317017646,
          -1.0362524532144866,
          -0.9246012911214962,
          -0.8091507439969325,
          -0.6903752229029951,
          -0.5687628019331284,
          -0.4448132126108797,
          -0.31903579038587837,
          -0.19194738166521905,
          -0.06407021998071312,
          0.06407021998071268,
          0.19194738166521863,
          0.319035790385878,
          0.4448132126108797,
          0.568762801933128,
          0.6903752229029947,
          0.8091507439969321,
          0.9246012911214958,
          1.0362524532144866,
          1.1436454317017641,
          1.2463389257990043,
          1.3439109459112744,
          1.4359605476788018,
          1.522109479543345,
          1.6020037370649853,
          1.6753150176023015,
          1.7417420693783459,
          1.8010119293888127,
          1.8528810450655726,
          1.897136275086421,
          1.933595765218484,
          1.9621096955962738,
          1.9825608963636483,
          1.9948653291498861,
          1.9989724324013758,
          -1.9907582258983965,
          -1.986667999615138,
          -1.9744141283825116,
          -1.9540469659858588,
          -1.9256502054642106,
          -1.889340535197636,
          -1.8452671594096608,
          -1.7936111850551066,
          -1.7345848776127684,
          -1.66843078884103,
          -1.5954207600806616,
          -1.5158548052004424,
          -1.4300598777758182,
          -1.3383885275665315,
          -1.241217451814035,
          -1.1389459473117263,
          -1.031994269608774,
          -0.920801906089923,
          -0.8058257700275588,
          -0.6875383230270659,
          -0.5664256335807468,
          -0.4429853797081267,
          -0.31772480389022034,
          -0.1911586287013724,
          -0.06380694170379328,
          0.06380694170379284,
          0.19115862870137199,
          0.31772480389021995,
          0.4429853797081267,
          0.5664256335807464,
          0.6875383230270654,
          0.8058257700275584,
          0.9208019060899225,
          1.031994269608774,
          1.1389459473117258,
          1.241217451814035,
          1.338388527566531,
          1.430059877775818,
          1.515854805200442,
          1.5954207600806614,
          1.6684307888410295,
          1.7345848776127681,
          1.7936111850551066,
          1.8452671594096606,
          1.889340535197636,
          1.9256502054642104,
          1.9540469659858588,
          1.9744141283825114,
          1.986667999615138,
          1.9907582258983965,
          -1.9498558243636472,
          -1.9458496364511109,
          -1.9338475349989588,
          -1.9138988392165004,
          -1.8860855225736881,
          -1.8505218759545443,
          -1.807354038011406,
          -1.7567593946498534,
          -1.698945850111976,
          -1.6341509726532466,
          -1.5626410183236008,
          -1.484709836864216,
          -1.400677664215895,
          -1.3108898066008938,
          -1.2157152215855878,
          -1.1155450019546898,
          -1.0107907686271072,
          -0.901882979217296,
          -0.7892691591925886,
          -0.673412062895055,
          -0.5547877719846511,
          -0.4338837391175581,
          -0.31119678489866126,
          -0.18723105633911477,
          -0.06249595520813527,
          0.06249595520813484,
          0.18723105633911438,
          0.31119678489866087,
          0.4338837391175581,
          0.5547877719846507,
          0.6734120628950545,
          0.7892691591925881,
          0.9018829792172955,
          1.0107907686271072,
          1.1155450019546893,
          1.2157152215855878,
          1.3108898066008934,
          1.4006776642158947,
          1.4847098368642155,
          1.5626410183236006,
          1.6341509726532464,
          1.6989458501119759,
          1.7567593946498534,
          1.8073540380114057,
          1.8505218759545443,
          1.886085522573688,
          1.9138988392165004,
          1.9338475349989586,
          1.9458496364511109,
          1.9498558243636472,
          -1.8769368440995209,
          -1.873080476052473,
          -1.861527218554824,
          -1.8423245464197964,
          -1.8155513675461543,
          -1.7813176986687176,
          -1.7397642132760034,
          -1.6910616635526847,
          -1.6354101787222386,
          -1.5730384426730395,
          -1.5042027542472092,
          -1.4291859740536983,
          -1.3482963621333708,
          -1.2618663112523743,
          -1.1702509810289667,
          -1.0738268385064633,
          -0.9729901111694021,
          -0.8681551587598217,
          -0.7597527705841995,
          -0.6482283953077886,
          -0.5340403105105034,
          -0.4176577395260426,
          -0.2995589233025656,
          -0.18022915520805083,
          -0.060158786855753626,
          0.06015878685575321,
          0.18022915520805044,
          0.2995589233025652,
          0.4176577395260426,
          0.5340403105105029,
          0.6482283953077883,
          0.7597527705841992,
          0.8681551587598213,
          0.9729901111694021,
          1.0738268385064629,
          1.1702509810289667,
          1.2618663112523738,
          1.3482963621333706,
          1.4291859740536978,
          1.504202754247209,
          1.573038442673039,
          1.6354101787222384,
          1.6910616635526847,
          1.7397642132760032,
          1.7813176986687176,
          1.815551367546154,
          1.8423245464197964,
          1.8615272185548237,
          1.873080476052473,
          1.8769368440995209,
          -1.7731986127460002,
          -1.7695553860211588,
          -1.7586406766467164,
          -1.7404993355046905,
          -1.7152059092571392,
          -1.6828643340179366,
          -1.6436075082569868,
          -1.5975967466919039,
          -1.5450211174112365,
          -1.486096664953136,
          -1.4210655225320084,
          -1.3501949170611978,
          -1.2737760710602815,
          -1.1921230059592678,
          -1.1055712517171847,
          -1.0144764680575062,
          -0.9192129829860591,
          -0.8201722545969561,
          -0.7177612624873172,
          -0.6124008353908098,
          -0.5045239219021145,
          -0.394573811398281,
          -0.28300231246759533,
          -0.17026789633117465,
          -0.05683381288637994,
          0.056833812886379544,
          0.17026789633117426,
          0.28300231246759494,
          0.394573811398281,
          0.504523921902114,
          0.6124008353908094,
          0.7177612624873168,
          0.8201722545969556,
          0.9192129829860591,
          1.0144764680575058,
          1.1055712517171847,
          1.1921230059592673,
          1.2737760710602812,
          1.3501949170611973,
          1.4210655225320081,
          1.4860966649531357,
          1.5450211174112363,
          1.5975967466919039,
          1.6436075082569865,
          1.6828643340179366,
          1.715205909257139,
          1.7404993355046905,
          1.7586406766467162,
          1.7695553860211588,
          1.7731986127460002,
          -1.6403445091939122,
          -1.6369742454733764,
          -1.6268773034483162,
          -1.6100951736192992,
          -1.5866968173575493,
          -1.556778383527877,
          -1.5204628133923725,
          -1.4778993354183885,
          -1.4292628520667565,
          -1.3747532210800621,
          -1.3145944342243088,
          -1.249033696858706,
          -1.1783404121158227,
          -1.10280507386633,
          -1.0227380730173736,
          -0.9384684220497607,
          -0.8503424030350998,
          -0.7587221446884944,
          -0.6639841343039743,
          -0.5665176706874488,
          -0.46672326444440954,
          -0.36501099219594146,
          -0.2617988114859284,
          -0.15751084330385065,
          -0.05257562928066747,
          0.0525756292806671,
          0.1575108433038503,
          0.26179881148592804,
          0.36501099219594146,
          0.46672326444440915,
          0.5665176706874485,
          0.6639841343039738,
          0.758722144688494,
          0.8503424030350998,
          0.9384684220497603,
          1.0227380730173736,
          1.1028050738663295,
          1.1783404121158225,
          1.2490336968587055,
          1.3145944342243086,
          1.374753221080062,
          1.4292628520667565,
          1.4778993354183885,
          1.5204628133923725,
          1.556778383527877,
          1.586696817357549,
          1.6100951736192992,
          1.626877303448316,
          1.6369742454733764,
          1.6403445091939122,
          -1.4805559941506314,
          -1.4775140330715166,
          -1.4684006499047446,
          -1.4532532934965625,
          -1.432134207583549,
          -1.4051301750197507,
          -1.3723521611673188,
          -1.333934857916035,
          -1.2900361302054446,
          -1.2408363673239577,
          -1.1865377416505707,
          -1.1273633778851941,
          -1.0635564361814012,
          -0.9953791129491985,
          -0.9231115634337373,
          -0.8470507504973178,
          -0.7675092243352886,
          -0.6848138381402533,
          -0.5993044049921922,
          -0.5113323014936263,
          -0.4212590238877884,
          -0.32945470259301807,
          -0.2362965812574812,
          -0.14216746658409968,
          -0.04745415529569815,
          0.04745415529569782,
          0.14216746658409937,
          0.23629658125748093,
          0.32945470259301807,
          0.4212590238877881,
          0.511332301493626,
          0.5993044049921918,
          0.684813838140253,
          0.7675092243352886,
          0.8470507504973175,
          0.9231115634337373,
          0.9953791129491981,
          1.063556436181401,
          1.1273633778851937,
          1.1865377416505705,
          1.2408363673239575,
          1.2900361302054444,
          1.333934857916035,
          1.3723521611673186,
          1.4051301750197507,
          1.432134207583549,
          1.4532532934965625,
          1.4684006499047446,
          1.4775140330715166,
          1.4805559941506314,
          -1.2964567906155775,
          -1.2937930810947031,
          -1.285812898285865,
          -1.2725490344719683,
          -1.2540559937145148,
          -1.230409767884721,
          -1.2017075243966213,
          -1.1680672069253206,
          -1.1296270507511332,
          -1.086545014721167,
          -1.038998132162537,
          -0.9871817834144506,
          -0.9313088929684858,
          -0.8716090545161823,
          -0.808327587499316,
          -0.7417245290396912,
          -0.6720735653908299,
          -0.5996609073024499,
          -0.524784113919103,
          -0.4477508700458229,
          -0.36887772180526424,
          -0.28848877588178423,
          -0.2069143676975579,
          -0.12448970399346962,
          -0.04155348539271442,
          0.041553485392714126,
          0.12448970399346936,
          0.20691436769755764,
          0.28848877588178423,
          0.36887772180526396,
          0.44775087004582265,
          0.5247841139191026,
          0.5996609073024496,
          0.6720735653908299,
          0.741724529039691,
          0.808327587499316,
          0.8716090545161821,
          0.9313088929684856,
          0.9871817834144504,
          1.0389981321625368,
          1.0865450147211668,
          1.129627050751133,
          1.1680672069253206,
          1.2017075243966213,
          1.230409767884721,
          1.2540559937145146,
          1.2725490344719683,
          1.2858128982858648,
          1.2937930810947031,
          1.2964567906155775,
          -1.091069802421098,
          -1.0888280824951546,
          -1.0821121344253473,
          -1.0709495554828612,
          -1.055386215098937,
          -1.0354860663775378,
          -1.0113308832983288,
          -0.9830199246898529,
          -0.9506695263537136,
          -0.914412623015813,
          -0.8743982020690481,
          -0.8307906913521552,
          -0.7837692834804518,
          -0.7335271995049433,
          -0.6802708949255779,
          -0.6242192113213142,
          -0.5656024770831302,
          -0.5046615609452607,
          -0.4416468822039019,
          -0.3768173816906081,
          -0.3104394577288726,
          -0.24278587144627417,
          -0.17413462594049708,
          -0.10476782390497039,
          -0.034970508408390416,
          0.03497050840839017,
          0.10476782390497015,
          0.17413462594049686,
          0.24278587144627417,
          0.3104394577288724,
          0.3768173816906078,
          0.4416468822039017,
          0.5046615609452605,
          0.5656024770831302,
          0.624219211321314,
          0.6802708949255779,
          0.733527199504943,
          0.7837692834804517,
          0.8307906913521549,
          0.874398202069048,
          0.9144126230158128,
          0.9506695263537135,
          0.9830199246898529,
          1.0113308832983288,
          1.0354860663775378,
          1.0553862150989368,
          1.0709495554828612,
          1.0821121344253473,
          1.0888280824951546,
          1.091069802421098,
          -0.8677674782351165,
          -0.8659845568833122,
          -0.8606431192341696,
          -0.8517651144007236,
          -0.839387024009161,
          -0.8235597122879926,
          -0.8043482170560287,
          -0.78183148246803,
          -0.7561020346162431,
          -0.7272656013208403,
          -0.6954406776716279,
          -0.6607580391063053,
          -0.6233602040261399,
          -0.5834008481572867,
          -0.5410441730642656,
          -0.4964642314105124,
          -0.4498442117386497,
          -0.4013756857094721,
          -0.35125782089289964,
          -0.299696562345712,
          -0.24690378633913482,
          -0.19309642971379384,
          -0.1384955984397048,
          -0.0833256590444143,
          -0.027813316642812513,
          0.02781331664281232,
          0.08332565904441412,
          0.13849559843970463,
          0.19309642971379384,
          0.24690378633913462,
          0.2996965623457118,
          0.3512578208928995,
          0.4013756857094719,
          0.4498442117386497,
          0.4964642314105122,
          0.5410441730642656,
          0.5834008481572864,
          0.6233602040261398,
          0.660758039106305,
          0.6954406776716278,
          0.7272656013208401,
          0.756102034616243,
          0.78183148246803,
          0.8043482170560285,
          0.8235597122879926,
          0.8393870240091609,
          0.8517651144007236,
          0.8606431192341695,
          0.8659845568833122,
          0.8677674782351165,
          -0.6302164360472416,
          -0.6289215887888818,
          -0.6250423678189307,
          -0.6185947136884441,
          -0.6096051211912619,
          -0.5981105304912162,
          -0.5841581753270757,
          -0.5678053889189807,
          -0.5491193683739435,
          -0.5281768985585226,
          -0.5050640365733354,
          -0.4798757581259722,
          -0.45271556725544215,
          -0.42369507101187476,
          -0.3929335208392119,
          -0.3605573225454448,
          -0.32669951687403537,
          -0.2914992328109639,
          -0.25510111587388284,
          -0.21765473373265823,
          -0.17931396160373217,
          -0.1402363499438521,
          -0.10058247704145012,
          -0.060515289166011184,
          -0.020199430986900288,
          0.02019943098690015,
          0.06051528916601105,
          0.10058247704145,
          0.1402363499438521,
          0.17931396160373203,
          0.2176547337326581,
          0.25510111587388273,
          0.2914992328109638,
          0.32669951687403537,
          0.3605573225454447,
          0.3929335208392119,
          0.42369507101187465,
          0.4527155672554421,
          0.4798757581259721,
          0.5050640365733353,
          0.5281768985585225,
          0.5491193683739434,
          0.5678053889189807,
          0.5841581753270757,
          0.5981105304912162,
          0.6096051211912618,
          0.6185947136884441,
          0.6250423678189306,
          0.6289215887888818,
          0.6302164360472416,
          -0.3823172574027451,
          -0.38153174559401387,
          -0.3791784380043341,
          -0.3752670048793746,
          -0.3698135191368457,
          -0.3628403903194323,
          -0.3543762725091768,
          -0.344455946581709,
          -0.3331201772841681,
          -0.3204155457241126,
          -0.30639425795775777,
          -0.2911139304640923,
          -0.27463735338640755,
          -0.25703223251413054,
          -0.23837091106521194,
          -0.21873007241232637,
          -0.1981904249744451,
          -0.17683637056863108,
          -0.15475565758486798,
          -0.13203902040910417,
          -0.10877980657619835,
          -0.08507359318487549,
          -0.06101779415092755,
          -0.036711259912537646,
          -0.012253871232626579,
          0.012253871232626494,
          0.03671125991253757,
          0.06101779415092747,
          0.08507359318487549,
          0.10877980657619826,
          0.1320390204091041,
          0.1547556575848679,
          0.176836370568631,
          0.1981904249744451,
          0.21873007241232628,
          0.23837091106521194,
          0.25703223251413043,
          0.27463735338640755,
          0.2911139304640922,
          0.30639425795775777,
          0.32041554572411257,
          0.33312017728416804,
          0.344455946581709,
          0.35437627250917675,
          0.3628403903194323,
          0.3698135191368456,
          0.3752670048793746,
          0.37917843800433404,
          0.38153174559401387,
          0.3823172574027451,
          -0.12814043996142646,
          -0.12787716168450664,
          -0.12708840872066,
          -0.125777422225002,
          -0.12394958932224899,
          -0.12161242096986732,
          -0.118775521093938,
          -0.1154505471245643,
          -0.11165116209299107,
          -0.10739297848727858,
          -0.10269349409724023,
          -0.0975720201122709,
          -0.09204960176752758,
          -0.08614893186454382,
          -0.07989425752164071,
          -0.07331128053731671,
          -0.06642705177604451,
          -0.059269860010466614,
          -0.051869115676760606,
          -0.04425523002084837,
          -0.0364594901320634,
          -0.028513930377789647,
          -0.020451200767374698,
          -0.0123044327862378,
          -0.004107103251489695,
          0.004107103251489667,
          0.012304432786237773,
          0.020451200767374673,
          0.028513930377789647,
          0.03645949013206337,
          0.04425523002084834,
          0.05186911567676058,
          0.05926986001046659,
          0.06642705177604451,
          0.07331128053731668,
          0.07989425752164071,
          0.0861489318645438,
          0.09204960176752756,
          0.09757202011227087,
          0.10269349409724021,
          0.10739297848727855,
          0.11165116209299106,
          0.1154505471245643,
          0.11877552109393799,
          0.12161242096986732,
          0.12394958932224898,
          0.125777422225002,
          0.12708840872066,
          0.12787716168450664,
          0.12814043996142646,
          0.12814043996142507,
          0.12787716168450525,
          0.12708840872065863,
          0.1257774222250006,
          0.12394958932224764,
          0.121612420969866,
          0.11877552109393671,
          0.11545054712456305,
          0.11165116209298986,
          0.10739297848727743,
          0.10269349409723912,
          0.09757202011226984,
          0.09204960176752658,
          0.0861489318645429,
          0.07989425752163985,
          0.07331128053731592,
          0.06642705177604379,
          0.05926986001046597,
          0.051869115676760044,
          0.04425523002084789,
          0.036459490132063004,
          0.028513930377789338,
          0.020451200767374476,
          0.012304432786237666,
          0.00410710325148965,
          -0.004107103251489622,
          -0.01230443278623764,
          -0.02045120076737445,
          -0.028513930377789338,
          -0.036459490132062976,
          -0.044255230020847865,
          -0.051869115676760016,
          -0.05926986001046594,
          -0.06642705177604379,
          -0.07331128053731589,
          -0.07989425752163985,
          -0.08614893186454287,
          -0.09204960176752656,
          -0.09757202011226981,
          -0.1026934940972391,
          -0.10739297848727739,
          -0.11165116209298985,
          -0.11545054712456305,
          -0.1187755210939367,
          -0.121612420969866,
          -0.12394958932224763,
          -0.1257774222250006,
          -0.1270884087206586,
          -0.12787716168450525,
          -0.12814043996142507,
          0.38231725740274375,
          0.38153174559401254,
          0.37917843800433276,
          0.3752670048793733,
          0.3698135191368444,
          0.36284039031943105,
          0.3543762725091756,
          0.3444559465817078,
          0.33312017728416693,
          0.3204155457241115,
          0.3063942579577567,
          0.2911139304640913,
          0.2746373533864066,
          0.25703223251412965,
          0.2383709110652111,
          0.2187300724123256,
          0.19819042497444442,
          0.17683637056863044,
          0.15475565758486742,
          0.13203902040910373,
          0.10877980657619797,
          0.08507359318487519,
          0.06101779415092733,
          0.03671125991253752,
          0.012253871232626536,
          -0.01225387123262645,
          -0.036711259912537444,
          -0.06101779415092726,
          -0.08507359318487519,
          -0.10877980657619789,
          -0.13203902040910365,
          -0.15475565758486734,
          -0.17683637056863036,
          -0.19819042497444442,
          -0.2187300724123255,
          -0.2383709110652111,
          -0.25703223251412954,
          -0.27463735338640655,
          -0.2911139304640912,
          -0.30639425795775665,
          -0.32041554572411146,
          -0.33312017728416693,
          -0.3444559465817078,
          -0.3543762725091755,
          -0.36284039031943105,
          -0.36981351913684435,
          -0.3752670048793733,
          -0.37917843800433276,
          -0.38153174559401254,
          -0.38231725740274375,
          0.6302164360472404,
          0.6289215887888806,
          0.6250423678189295,
          0.618594713688443,
          0.6096051211912606,
          0.598110530491215,
          0.5841581753270746,
          0.5678053889189796,
          0.5491193683739424,
          0.5281768985585216,
          0.5050640365733344,
          0.4798757581259713,
          0.45271556725544126,
          0.423695071011874,
          0.3929335208392111,
          0.36055732254544415,
          0.3266995168740347,
          0.29149923281096335,
          0.25510111587388234,
          0.2176547337326578,
          0.17931396160373184,
          0.1402363499438518,
          0.10058247704144993,
          0.060515289166011066,
          0.02019943098690025,
          -0.020199430986900108,
          -0.060515289166010934,
          -0.1005824770414498,
          -0.1402363499438518,
          -0.1793139616037317,
          -0.21765473373265767,
          -0.25510111587388223,
          -0.29149923281096324,
          -0.3266995168740347,
          -0.360557322545444,
          -0.3929335208392111,
          -0.4236950710118738,
          -0.4527155672554412,
          -0.47987575812597116,
          -0.5050640365733343,
          -0.5281768985585215,
          -0.5491193683739423,
          -0.5678053889189796,
          -0.5841581753270745,
          -0.598110530491215,
          -0.6096051211912606,
          -0.618594713688443,
          -0.6250423678189294,
          -0.6289215887888806,
          -0.6302164360472404,
          0.867767478235116,
          0.8659845568833118,
          0.8606431192341691,
          0.8517651144007231,
          0.8393870240091605,
          0.8235597122879922,
          0.8043482170560282,
          0.7818314824680296,
          0.7561020346162427,
          0.72726560132084,
          0.6954406776716275,
          0.6607580391063049,
          0.6233602040261396,
          0.5834008481572863,
          0.5410441730642653,
          0.49646423141051216,
          0.4498442117386494,
          0.4013756857094719,
          0.3512578208928995,
          0.29969656234571185,
          0.24690378633913468,
          0.19309642971379373,
          0.13849559843970471,
          0.08332565904441426,
          0.027813316642812495,
          -0.027813316642812305,
          -0.08332565904441408,
          -0.13849559843970455,
          -0.19309642971379373,
          -0.24690378633913448,
          -0.2996965623457117,
          -0.3512578208928993,
          -0.4013756857094717,
          -0.4498442117386494,
          -0.49646423141051194,
          -0.5410441730642653,
          -0.5834008481572861,
          -0.6233602040261395,
          -0.6607580391063047,
          -0.6954406776716274,
          -0.7272656013208397,
          -0.7561020346162426,
          -0.7818314824680296,
          -0.8043482170560281,
          -0.8235597122879922,
          -0.8393870240091604,
          -0.8517651144007231,
          -0.860643119234169,
          -0.8659845568833118,
          -0.867767478235116,
          1.091069802421097,
          1.0888280824951535,
          1.0821121344253462,
          1.07094955548286,
          1.055386215098936,
          1.035486066377537,
          1.0113308832983279,
          0.9830199246898519,
          0.9506695263537126,
          0.9144126230158122,
          0.8743982020690472,
          0.8307906913521543,
          0.783769283480451,
          0.7335271995049425,
          0.6802708949255772,
          0.6242192113213135,
          0.5656024770831296,
          0.5046615609452603,
          0.44164688220390147,
          0.3768173816906077,
          0.3104394577288723,
          0.24278587144627392,
          0.1741346259404969,
          0.10476782390497028,
          0.034970508408390374,
          -0.03497050840839014,
          -0.10476782390497005,
          -0.1741346259404967,
          -0.24278587144627392,
          -0.31043945772887205,
          -0.3768173816906074,
          -0.44164688220390125,
          -0.50466156094526,
          -0.5656024770831296,
          -0.6242192113213133,
          -0.6802708949255772,
          -0.7335271995049423,
          -0.7837692834804509,
          -0.8307906913521541,
          -0.8743982020690471,
          -0.9144126230158118,
          -0.9506695263537125,
          -0.9830199246898519,
          -1.0113308832983277,
          -1.035486066377537,
          -1.0553862150989357,
          -1.07094955548286,
          -1.0821121344253462,
          -1.0888280824951535,
          -1.091069802421097,
          1.2964567906155764,
          1.293793081094702,
          1.2858128982858639,
          1.2725490344719672,
          1.2540559937145137,
          1.23040976788472,
          1.2017075243966204,
          1.1680672069253195,
          1.1296270507511323,
          1.0865450147211662,
          1.0389981321625361,
          0.9871817834144498,
          0.9313088929684851,
          0.8716090545161815,
          0.8083275874993152,
          0.7417245290396905,
          0.6720735653908293,
          0.5996609073024494,
          0.5247841139191025,
          0.44775087004582254,
          0.3688777218052639,
          0.288488775881784,
          0.20691436769755772,
          0.12448970399346951,
          0.04155348539271438,
          -0.04155348539271409,
          -0.12448970399346924,
          -0.20691436769755747,
          -0.288488775881784,
          -0.3688777218052636,
          -0.44775087004582226,
          -0.5247841139191022,
          -0.5996609073024491,
          -0.6720735653908293,
          -0.7417245290396903,
          -0.8083275874993152,
          -0.8716090545161813,
          -0.9313088929684848,
          -0.9871817834144495,
          -1.038998132162536,
          -1.086545014721166,
          -1.1296270507511321,
          -1.1680672069253195,
          -1.2017075243966202,
          -1.23040976788472,
          -1.2540559937145135,
          -1.2725490344719672,
          -1.2858128982858636,
          -1.293793081094702,
          -1.2964567906155764,
          1.4805559941506305,
          1.4775140330715157,
          1.468400649904744,
          1.4532532934965616,
          1.4321342075835484,
          1.4051301750197498,
          1.372352161167318,
          1.3339348579160344,
          1.2900361302054437,
          1.240836367323957,
          1.18653774165057,
          1.1273633778851935,
          1.0635564361814005,
          0.9953791129491979,
          0.9231115634337368,
          0.8470507504973173,
          0.7675092243352881,
          0.6848138381402529,
          0.5993044049921917,
          0.511332301493626,
          0.42125902388778813,
          0.32945470259301785,
          0.23629658125748107,
          0.1421674665840996,
          0.047454155295698124,
          -0.04745415529569779,
          -0.1421674665840993,
          -0.2362965812574808,
          -0.32945470259301785,
          -0.4212590238877878,
          -0.5113323014936256,
          -0.5993044049921914,
          -0.6848138381402525,
          -0.7675092243352881,
          -0.8470507504973169,
          -0.9231115634337368,
          -0.9953791129491976,
          -1.0635564361814003,
          -1.127363377885193,
          -1.1865377416505698,
          -1.2408363673239566,
          -1.2900361302054435,
          -1.3339348579160344,
          -1.372352161167318,
          -1.4051301750197498,
          -1.4321342075835481,
          -1.4532532934965616,
          -1.4684006499047437,
          -1.4775140330715157,
          -1.4805559941506305,
          1.6403445091939113,
          1.6369742454733756,
          1.6268773034483153,
          1.6100951736192983,
          1.5866968173575484,
          1.5567783835278761,
          1.5204628133923719,
          1.4778993354183876,
          1.4292628520667559,
          1.3747532210800615,
          1.314594434224308,
          1.2490336968587052,
          1.178340412115822,
          1.1028050738663293,
          1.0227380730173732,
          0.9384684220497601,
          0.8503424030350993,
          0.758722144688494,
          0.6639841343039738,
          0.5665176706874485,
          0.46672326444440926,
          0.3650109921959413,
          0.2617988114859282,
          0.15751084330385057,
          0.05257562928066744,
          -0.05257562928066707,
          -0.1575108433038502,
          -0.26179881148592793,
          -0.3650109921959413,
          -0.4667232644444089,
          -0.5665176706874482,
          -0.6639841343039735,
          -0.7587221446884936,
          -0.8503424030350993,
          -0.9384684220497598,
          -1.0227380730173732,
          -1.1028050738663289,
          -1.1783404121158219,
          -1.2490336968587048,
          -1.3145944342243079,
          -1.374753221080061,
          -1.4292628520667556,
          -1.4778993354183876,
          -1.5204628133923717,
          -1.5567783835278761,
          -1.5866968173575482,
          -1.6100951736192983,
          -1.626877303448315,
          -1.6369742454733756,
          -1.6403445091939113,
          1.7731986127460002,
          1.7695553860211588,
          1.7586406766467164,
          1.7404993355046905,
          1.7152059092571392,
          1.6828643340179366,
          1.6436075082569868,
          1.5975967466919039,
          1.5450211174112365,
          1.486096664953136,
          1.4210655225320084,
          1.3501949170611978,
          1.2737760710602815,
          1.1921230059592678,
          1.1055712517171847,
          1.0144764680575062,
          0.9192129829860591,
          0.8201722545969561,
          0.7177612624873172,
          0.6124008353908098,
          0.5045239219021145,
          0.394573811398281,
          0.28300231246759533,
          0.17026789633117465,
          0.05683381288637994,
          -0.056833812886379544,
          -0.17026789633117426,
          -0.28300231246759494,
          -0.394573811398281,
          -0.504523921902114,
          -0.6124008353908094,
          -0.7177612624873168,
          -0.8201722545969556,
          -0.9192129829860591,
          -1.0144764680575058,
          -1.1055712517171847,
          -1.1921230059592673,
          -1.2737760710602812,
          -1.3501949170611973,
          -1.4210655225320081,
          -1.4860966649531357,
          -1.5450211174112363,
          -1.5975967466919039,
          -1.6436075082569865,
          -1.6828643340179366,
          -1.715205909257139,
          -1.7404993355046905,
          -1.7586406766467162,
          -1.7695553860211588,
          -1.7731986127460002,
          1.8769368440995204,
          1.8730804760524726,
          1.8615272185548235,
          1.842324546419796,
          1.8155513675461539,
          1.7813176986687174,
          1.739764213276003,
          1.6910616635526843,
          1.6354101787222382,
          1.573038442673039,
          1.504202754247209,
          1.429185974053698,
          1.3482963621333703,
          1.261866311252374,
          1.1702509810289665,
          1.073826838506463,
          0.9729901111694019,
          0.8681551587598215,
          0.7597527705841994,
          0.6482283953077885,
          0.5340403105105033,
          0.41765773952604257,
          0.29955892330256556,
          0.1802291552080508,
          0.06015878685575361,
          -0.060158786855753196,
          -0.1802291552080504,
          -0.29955892330256517,
          -0.41765773952604257,
          -0.5340403105105028,
          -0.6482283953077881,
          -0.759752770584199,
          -0.8681551587598212,
          -0.9729901111694019,
          -1.0738268385064627,
          -1.1702509810289665,
          -1.2618663112523736,
          -1.3482963621333701,
          -1.4291859740536976,
          -1.5042027542472087,
          -1.5730384426730388,
          -1.635410178722238,
          -1.6910616635526843,
          -1.7397642132760027,
          -1.7813176986687174,
          -1.8155513675461536,
          -1.842324546419796,
          -1.8615272185548233,
          -1.8730804760524726,
          -1.8769368440995204,
          1.949855824363647,
          1.9458496364511106,
          1.9338475349989586,
          1.9138988392165002,
          1.886085522573688,
          1.850521875954544,
          1.8073540380114057,
          1.7567593946498532,
          1.6989458501119759,
          1.6341509726532466,
          1.5626410183236006,
          1.4847098368642158,
          1.4006776642158947,
          1.3108898066008936,
          1.2157152215855878,
          1.1155450019546895,
          1.010790768627107,
          0.9018829792172959,
          0.7892691591925884,
          0.6734120628950548,
          0.5547877719846511,
          0.43388373911755806,
          0.3111967848986612,
          0.18723105633911477,
          0.062495955208135265,
          -0.062495955208134835,
          -0.18723105633911435,
          -0.3111967848986608,
          -0.43388373911755806,
          -0.5547877719846507,
          -0.6734120628950544,
          -0.789269159192588,
          -0.9018829792172954,
          -1.010790768627107,
          -1.115545001954689,
          -1.2157152215855878,
          -1.3108898066008932,
          -1.4006776642158945,
          -1.4847098368642153,
          -1.5626410183236004,
          -1.6341509726532462,
          -1.6989458501119756,
          -1.7567593946498532,
          -1.8073540380114055,
          -1.850521875954544,
          -1.8860855225736877,
          -1.9138988392165002,
          -1.9338475349989583,
          -1.9458496364511106,
          -1.949855824363647,
          1.9907582258983962,
          1.9866679996151377,
          1.9744141283825114,
          1.9540469659858586,
          1.9256502054642104,
          1.8893405351976358,
          1.8452671594096606,
          1.7936111850551064,
          1.7345848776127681,
          1.6684307888410297,
          1.5954207600806616,
          1.5158548052004421,
          1.4300598777758182,
          1.3383885275665315,
          1.2412174518140349,
          1.1389459473117263,
          1.031994269608774,
          0.9208019060899229,
          0.8058257700275587,
          0.6875383230270657,
          0.5664256335807467,
          0.4429853797081266,
          0.3177248038902203,
          0.1911586287013724,
          0.06380694170379327,
          -0.06380694170379284,
          -0.19115862870137199,
          -0.3177248038902199,
          -0.4429853797081266,
          -0.5664256335807463,
          -0.6875383230270653,
          -0.8058257700275583,
          -0.9208019060899225,
          -1.031994269608774,
          -1.1389459473117258,
          -1.2412174518140349,
          -1.338388527566531,
          -1.430059877775818,
          -1.5158548052004417,
          -1.5954207600806614,
          -1.6684307888410292,
          -1.734584877612768,
          -1.7936111850551064,
          -1.8452671594096604,
          -1.8893405351976358,
          -1.9256502054642102,
          -1.9540469659858586,
          -1.9744141283825112,
          -1.9866679996151377,
          -1.9907582258983962,
          1.9989724324013758,
          1.9948653291498861,
          1.9825608963636485,
          1.9621096955962738,
          1.9335957652184843,
          1.897136275086421,
          1.8528810450655728,
          1.8010119293888127,
          1.741742069378346,
          1.675315017602302,
          1.6020037370649856,
          1.5221094795433454,
          1.435960547678802,
          1.3439109459112748,
          1.2463389257990043,
          1.1436454317017646,
          1.0362524532144866,
          0.9246012911214962,
          0.8091507439969325,
          0.6903752229029951,
          0.5687628019331284,
          0.4448132126108797,
          0.31903579038587837,
          0.19194738166521905,
          0.06407021998071312,
          -0.06407021998071268,
          -0.19194738166521863,
          -0.319035790385878,
          -0.4448132126108797,
          -0.568762801933128,
          -0.6903752229029947,
          -0.8091507439969321,
          -0.9246012911214958,
          -1.0362524532144866,
          -1.1436454317017641,
          -1.2463389257990043,
          -1.3439109459112744,
          -1.4359605476788018,
          -1.522109479543345,
          -1.6020037370649853,
          -1.6753150176023015,
          -1.7417420693783459,
          -1.8010119293888127,
          -1.8528810450655726,
          -1.897136275086421,
          -1.933595765218484,
          -1.9621096955962738,
          -1.9825608963636483,
          -1.9948653291498861,
          -1.9989724324013758,
          1.9743635668289006,
          1.9703070251310222,
          1.958154069237349,
          1.9379546382504484,
          1.909791735965011,
          1.8737810897874505,
          1.83007067518717,
          1.7788401076336169,
          1.7202999045177905,
          1.6546906200911282,
          1.5822818569764867,
          1.5033711583131348,
          1.418282785088172,
          1.3273663836785787,
          1.2309955490792535,
          1.1295662897210448,
          1.0234954001871628,
          0.913218748514837,
          0.7991894851200564,
          0.6818761807053105,
          0.5617609008020645,
          0.4393372248600871,
          0.31510821802362077,
          0.1895843639287946,
          0.06328146701686649,
          -0.06328146701686604,
          -0.1895843639287942,
          -0.3151082180236204,
          -0.4393372248600871,
          -0.5617609008020641,
          -0.6818761807053101,
          -0.7991894851200559,
          -0.9132187485148365,
          -1.0234954001871628,
          -1.1295662897210443,
          -1.2309955490792535,
          -1.3273663836785783,
          -1.4182827850881718,
          -1.5033711583131344,
          -1.5822818569764865,
          -1.6546906200911278,
          -1.7202999045177902,
          -1.7788401076336169,
          -1.8300706751871698,
          -1.8737810897874505,
          -1.9097917359650107,
          -1.9379546382504484,
          -1.9581540692373487,
          -1.9703070251310222,
          -1.9743635668289006,
          1.9173357060733216,
          1.9133963342315843,
          1.901594406430263,
          1.8819784193221987,
          1.8546289792060344,
          1.819658470797644,
          1.7772105954172284,
          1.727459780489766,
          1.6706104627853102,
          1.606896248344449,
          1.5365789525409765,
          1.4599475242263613,
          1.3773168583769382,
          1.2890265021229046,
          1.1954392594763301,
          1.0969397004916508,
          0.9939325809848232,
          0.8868411793048591,
          0.7761055569922948,
          0.6621807504719293,
          0.5455349012105492,
          0.426647332023225,
          0.3060065774330522,
          0.18410837617800196,
          0.061453634114113496,
          -0.061453634114113066,
          -0.18410837617800158,
          -0.3060065774330518,
          -0.426647332023225,
          -0.5455349012105487,
          -0.6621807504719288,
          -0.7761055569922943,
          -0.8868411793048586,
          -0.9939325809848232,
          -1.0969397004916503,
          -1.1954392594763301,
          -1.2890265021229041,
          -1.377316858376938,
          -1.4599475242263609,
          -1.5365789525409763,
          -1.6068962483444489,
          -1.67061046278531,
          -1.727459780489766,
          -1.7772105954172281,
          -1.819658470797644,
          -1.8546289792060342,
          -1.8819784193221987,
          -1.9015944064302628,
          -1.9133963342315843,
          -1.9173357060733216,
          1.8288252460316257,
          1.8250677284227612,
          1.8138106160420076,
          1.79510016677878,
          1.7690132658824806,
          1.7356571100245144,
          1.6951687668041748,
          1.6477146115084769,
          1.5934896434404147,
          1.5327166846249993,
          1.465645464185762,
          1.3925515921542193,
          1.313735426929135,
          1.2295208410394336,
          1.140253890282508,
          1.046301391706719,
          0.9480494162814623,
          0.8459017024487432,
          0.740277997075316,
          0.631612330622774,
          0.520351233623283,
          0.4069519017898438,
          0.2918803173010414,
          0.17560933398031736,
          0.058616734238184184,
          -0.058616734238183775,
          -0.17560933398031697,
          -0.2918803173010411,
          -0.4069519017898438,
          -0.5203512336232825,
          -0.6316123306227736,
          -0.7402779970753156,
          -0.8459017024487429,
          -0.9480494162814623,
          -1.0463013917067185,
          -1.140253890282508,
          -1.2295208410394332,
          -1.3137354269291348,
          -1.3925515921542189,
          -1.4656454641857617,
          -1.5327166846249989,
          -1.5934896434404144,
          -1.6477146115084769,
          -1.6951687668041746,
          -1.7356571100245144,
          -1.7690132658824804,
          -1.79510016677878,
          -1.8138106160420073,
          -1.8250677284227612,
          -1.8288252460316257,
          1.710285526010693,
          1.7067715609699567,
          1.696244105483843,
          1.6787464191250767,
          1.6543504036401477,
          1.6231563074896127,
          1.5852923139056667,
          1.5409140141597475,
          1.4902037682046263,
          1.4333699553182464,
          1.370646117828573,
          1.3022900014380714,
          1.2285824960913316,
          1.1498264817380335,
          1.0663455837342668,
          0.9784828429965259,
          0.8865993063730004,
          0.7910725430246337,
          0.6922950929124504,
          0.590672853766658,
          0.48662341316580865,
          0.38057433257986584,
          0.2729613904284144,
          0.164226791373658,
          0.054817349206610966,
          -0.054817349206610584,
          -0.16422679137365764,
          -0.27296139042841405,
          -0.38057433257986584,
          -0.48662341316580826,
          -0.5906728537666576,
          -0.69229509291245,
          -0.7910725430246334,
          -0.8865993063730004,
          -0.9784828429965254,
          -1.0663455837342668,
          -1.149826481738033,
          -1.2285824960913314,
          -1.302290001438071,
          -1.3706461178285727,
          -1.4333699553182462,
          -1.490203768204626,
          -1.5409140141597475,
          -1.5852923139056665,
          -1.6231563074896127,
          -1.6543504036401475,
          -1.6787464191250767,
          -1.6962441054838429,
          -1.7067715609699567,
          -1.710285526010693,
          1.5636629649360598,
          1.5604502516722716,
          1.5508253136088328,
          1.5348277016807885,
          1.5125231535070287,
          1.4840033232603091,
          1.4493854050405988,
          1.408811651299382,
          1.3624487882938243,
          1.3104873309728189,
          1.2531408001101954,
          1.1906448449020604,
          1.1232562746337045,
          1.0512520033951631,
          0.9749279121818236,
          0.8945976330559479,
          0.8105912603652545,
          0.7232539943144404,
          0.632944722463493,
          0.5400345449817258,
          0.44490524971758205,
          0.34794774335047174,
          0.2495604450713777,
          0.15014764939293784,
          0.05011786481657259,
          -0.050117864816572245,
          -0.1501476493929375,
          -0.2495604450713774,
          -0.34794774335047174,
          -0.4449052497175817,
          -0.5400345449817254,
          -0.6329447224634926,
          -0.72325399431444,
          -0.8105912603652545,
          -0.8945976330559475,
          -0.9749279121818236,
          -1.051252003395163,
          -1.1232562746337043,
          -1.19064484490206,
          -1.2531408001101951,
          -1.3104873309728187,
          -1.362448788293824,
          -1.408811651299382,
          -1.4493854050405985,
          -1.4840033232603091,
          -1.5125231535070285,
          -1.5348277016807885,
          -1.5508253136088326,
          -1.5604502516722716,
          -1.5636629649360598,
          1.3913651012069739,
          1.388506392383105,
          1.379942012959247,
          1.3657071558075056,
          1.3458603150092852,
          1.3204830454905592,
          1.2896796278951876,
          1.253576640073382,
          1.212322436946169,
          1.1660865408831966,
          1.115058945098957,
          1.059449332929912,
          0.9994862162006887,
          0.9354159962199756,
          0.8675019512646928,
          0.7960231547130785,
          0.7212733282723168,
          0.6435596350130406,
          0.5632014171703869,
          0.48052888389825493,
          0.3958817543690627,
          0.3096078617947977,
          0.2220617241057401,
          0.13360308716024158,
          0.04459544647182931,
          -0.044595446471828996,
          -0.1336030871602413,
          -0.22206172410573985,
          -0.3096078617947977,
          -0.3958817543690624,
          -0.4805288838982546,
          -0.5632014171703866,
          -0.6435596350130403,
          -0.7212733282723168,
          -0.7960231547130782,
          -0.8675019512646928,
          -0.9354159962199754,
          -0.9994862162006886,
          -1.0594493329299117,
          -1.1150589450989568,
          -1.1660865408831964,
          -1.2123224369461687,
          -1.253576640073382,
          -1.2896796278951874,
          -1.3204830454905592,
          -1.345860315009285,
          -1.3657071558075056,
          -1.3799420129592468,
          -1.388506392383105,
          -1.3913651012069739,
          1.1962210609824324,
          1.1937632965183376,
          1.186400102607425,
          1.174161736192874,
          1.1570984873474044,
          1.135280472620577,
          1.108797346914854,
          1.077757935074373,
          1.042289784700319,
          1.0025386420304736,
          0.9586678530366609,
          0.910857692201111,
          0.8593046217299445,
          0.8042204842478262,
          0.7458316322911808,
          0.6843779981770675,
          0.6201121080698243,
          0.5532980442968923,
          0.4842103601778861,
          0.4131329518261123,
          0.3403578915585448,
          0.2661842277080242,
          0.19091675576951375,
          0.11486476593003074,
          0.0383407721289262,
          -0.038340772128925935,
          -0.11486476593003049,
          -0.19091675576951353,
          -0.2661842277080242,
          -0.3403578915585445,
          -0.41313295182611204,
          -0.4842103601778858,
          -0.5532980442968921,
          -0.6201121080698243,
          -0.6843779981770672,
          -0.7458316322911808,
          -0.804220484247826,
          -0.8593046217299444,
          -0.9108576922011108,
          -0.9586678530366608,
          -1.0025386420304734,
          -1.0422897847003187,
          -1.077757935074373,
          -1.1087973469148538,
          -1.135280472620577,
          -1.1570984873474044,
          -1.174161736192874,
          -1.1864001026074247,
          -1.1937632965183376,
          -1.1962210609824324,
          0.9814351040078773,
          0.9794186403281082,
          0.9733775353705916,
          0.9633366133314105,
          0.9493371345129953,
          0.9314366257766892,
          0.9097086441525372,
          0.8842424745776701,
          0.8551427630053474,
          0.8225290863922883,
          0.7865354613313076,
          0.7473097933483892,
          0.7050132691271543,
          0.659819694158204,
          0.6119147785350769,
          0.5614953738316409,
          0.5087686641967508,
          0.45395131499013996,
          0.39726858245798297,
          0.33895338810666237,
          0.2792453615783378,
          0.2183898559613454,
          0.15663693958173083,
          0.0942403684188568,
          0.031456543367654036,
          -0.03145654336765382,
          -0.0942403684188566,
          -0.15663693958173064,
          -0.2183898559613454,
          -0.27924536157833757,
          -0.33895338810666215,
          -0.39726858245798274,
          -0.45395131499013974,
          -0.5087686641967508,
          -0.5614953738316407,
          -0.6119147785350769,
          -0.6598196941582037,
          -0.7050132691271542,
          -0.747309793348389,
          -0.7865354613313075,
          -0.8225290863922881,
          -0.8551427630053473,
          -0.8842424745776701,
          -0.909708644152537,
          -0.9314366257766892,
          -0.9493371345129952,
          -0.9633366133314105,
          -0.9733775353705915,
          -0.9794186403281082,
          -0.9814351040078773,
          0.7505340097587492,
          0.7489919571411797,
          0.7443721359134462,
          0.7366935299119218,
          0.7259876921757229,
          0.7122986152885021,
          0.6956825506034873,
          0.6762077770946034,
          0.6539543207835246,
          0.6290136258955843,
          0.6014881790958395,
          0.57149108834938,
          0.539145618136439,
          0.5045846829322029,
          0.4679503010327233,
          0.42939301097127547,
          0.38907125292323463,
          0.3471507176414103,
          0.30380366559720196,
          0.25920821912537273,
          0.2135476304811688,
          0.16700952881749445,
          0.11978514917647759,
          0.0720685466636607,
          0.02405579903394802,
          -0.024055799033947854,
          -0.07206854666366053,
          -0.11978514917647745,
          -0.16700952881749445,
          -0.21354763048116862,
          -0.25920821912537256,
          -0.3038036655972018,
          -0.34715071764141014,
          -0.38907125292323463,
          -0.4293930109712753,
          -0.4679503010327233,
          -0.5045846829322027,
          -0.5391456181364389,
          -0.5714910883493799,
          -0.6014881790958394,
          -0.6290136258955842,
          -0.6539543207835244,
          -0.6762077770946034,
          -0.6956825506034872,
          -0.7122986152885021,
          -0.7259876921757228,
          -0.7366935299119218,
          -0.7443721359134461,
          -0.7489919571411797,
          -0.7505340097587492,
          0.5073091678190167,
          0.5062668467249949,
          0.5031441665638821,
          0.4979539590982729,
          0.49071755200393974,
          0.48146468122983754,
          0.47023336880671174,
          0.45706976660641785,
          0.44202796669398065,
          0.42516977905169645,
          0.4065644775886572,
          0.3862885154793992,
          0.3644252110014097,
          0.3410644051624527,
          0.3163020925245977,
          0.2902400267419731,
          0.26298530243317525,
          0.234649915106509,
          0.20535030094642118,
          0.17520685835224306,
          0.14434345319534234,
          0.11288690982768823,
          0.08096648993338604,
          0.04871336136468994,
          0.016260059145163094,
          -0.016260059145162983,
          -0.04871336136468984,
          -0.08096648993338594,
          -0.11288690982768823,
          -0.14434345319534223,
          -0.17520685835224295,
          -0.20535030094642107,
          -0.2346499151065089,
          -0.26298530243317525,
          -0.29024002674197297,
          -0.3163020925245977,
          -0.34106440516245257,
          -0.3644252110014096,
          -0.3862885154793991,
          -0.40656447758865716,
          -0.42516977905169634,
          -0.4420279666939806,
          -0.45706976660641785,
          -0.4702333688067117,
          -0.48146468122983754,
          -0.4907175520039397,
          -0.4979539590982729,
          -0.5031441665638821,
          -0.5062668467249949,
          -0.5073091678190167,
          0.25575432336901327,
          0.25522884868208645,
          0.2536545839095086,
          0.251037998042909,
          0.24738984319486934,
          0.242725110416187,
          0.23706296809443164,
          0.2304266831869291,
          0.2228435256118429,
          0.21434465619023133,
          0.2049649985995495,
          0.19474309586476782,
          0.18372095197681476,
          0.1719438592891683,
          0.15946021240186053,
          0.14632130929768525,
          0.13258114054778333,
          0.11829616745280512,
          0.10352509003131499,
          0.08832860580882401,
          0.07276916039863805,
          0.05691069089943808,
          0.04081836316402745,
          0.024558304018864396,
          0.008197329534748134,
          -0.008197329534748079,
          -0.02455830401886434,
          -0.0408183631640274,
          -0.05691069089943808,
          -0.072769160398638,
          -0.08832860580882396,
          -0.10352509003131494,
          -0.11829616745280506,
          -0.13258114054778333,
          -0.1463213092976852,
          -0.15946021240186053,
          -0.17194385928916825,
          -0.18372095197681473,
          -0.19474309586476776,
          -0.20496499859954947,
          -0.21434465619023127,
          -0.22284352561184287,
          -0.2304266831869291,
          -0.23706296809443161,
          -0.242725110416187,
          -0.2473898431948693,
          -0.251037998042909,
          -0.2536545839095086,
          -0.25522884868208645,
          -0.25575432336901327,
          4.898587196589413e-16,
          4.888522523822191e-16,
          4.858369863419791e-16,
          4.80825311913153e-16,
          4.738378231409699e-16,
          4.649032331156063e-16,
          4.540582559839397e-16,
          4.4134745608324484e-16,
          4.2682306481677137e-16,
          4.1054476602370553e-16,
          3.9257945072547215e-16,
          3.730009422561797e-16,
          3.518896929067054e-16,
          3.2933245332897505e-16,
          3.054219160589262e-16,
          2.802563346229957e-16,
          2.5393911979330405e-16,
          2.265784146506114e-16,
          1.982866502012018e-16,
          1.691800833737624e-16,
          1.3937831929472615e-16,
          1.09003819805152e-16,
          7.818140023875258e-17,
          4.7037716528914365e-17,
          1.5700744752300288e-17,
          -1.570074475230018e-17,
          -4.703771652891426e-17,
          -7.818140023875248e-17,
          -1.09003819805152e-16,
          -1.3937831929472602e-16,
          -1.6918008337376229e-16,
          -1.982866502012017e-16,
          -2.265784146506113e-16,
          -2.5393911979330405e-16,
          -2.802563346229956e-16,
          -3.054219160589262e-16,
          -3.293324533289749e-16,
          -3.5188969290670537e-16,
          -3.730009422561796e-16,
          -3.925794507254721e-16,
          -4.1054476602370543e-16,
          -4.268230648167713e-16,
          -4.4134745608324484e-16,
          -4.540582559839397e-16,
          -4.649032331156063e-16,
          -4.738378231409699e-16,
          -4.80825311913153e-16,
          -4.85836986341979e-16,
          -4.888522523822191e-16,
          -4.898587196589413e-16
         ],
         "z": [
          3,
          3,
          3,
          3,
          3,
          3,
          3,
          3,
          3,
          3,
          3,
          3,
          3,
          3,
          3,
          3,
          3,
          3,
          3,
          3,
          3,
          3,
          3,
          3,
          3,
          3,
          3,
          3,
          3,
          3,
          3,
          3,
          3,
          3,
          3,
          3,
          3,
          3,
          3,
          3,
          3,
          3,
          3,
          3,
          3,
          3,
          3,
          3,
          3,
          3,
          2.9753700414697386,
          2.9753700414697386,
          2.9753700414697386,
          2.9753700414697386,
          2.9753700414697386,
          2.9753700414697386,
          2.9753700414697386,
          2.9753700414697386,
          2.9753700414697386,
          2.9753700414697386,
          2.9753700414697386,
          2.9753700414697386,
          2.9753700414697386,
          2.9753700414697386,
          2.9753700414697386,
          2.9753700414697386,
          2.9753700414697386,
          2.9753700414697386,
          2.9753700414697386,
          2.9753700414697386,
          2.9753700414697386,
          2.9753700414697386,
          2.9753700414697386,
          2.9753700414697386,
          2.9753700414697386,
          2.9753700414697386,
          2.9753700414697386,
          2.9753700414697386,
          2.9753700414697386,
          2.9753700414697386,
          2.9753700414697386,
          2.9753700414697386,
          2.9753700414697386,
          2.9753700414697386,
          2.9753700414697386,
          2.9753700414697386,
          2.9753700414697386,
          2.9753700414697386,
          2.9753700414697386,
          2.9753700414697386,
          2.9753700414697386,
          2.9753700414697386,
          2.9753700414697386,
          2.9753700414697386,
          2.9753700414697386,
          2.9753700414697386,
          2.9753700414697386,
          2.9753700414697386,
          2.9753700414697386,
          2.9753700414697386,
          2.9018845891170884,
          2.9018845891170884,
          2.9018845891170884,
          2.9018845891170884,
          2.9018845891170884,
          2.9018845891170884,
          2.9018845891170884,
          2.9018845891170884,
          2.9018845891170884,
          2.9018845891170884,
          2.9018845891170884,
          2.9018845891170884,
          2.9018845891170884,
          2.9018845891170884,
          2.9018845891170884,
          2.9018845891170884,
          2.9018845891170884,
          2.9018845891170884,
          2.9018845891170884,
          2.9018845891170884,
          2.9018845891170884,
          2.9018845891170884,
          2.9018845891170884,
          2.9018845891170884,
          2.9018845891170884,
          2.9018845891170884,
          2.9018845891170884,
          2.9018845891170884,
          2.9018845891170884,
          2.9018845891170884,
          2.9018845891170884,
          2.9018845891170884,
          2.9018845891170884,
          2.9018845891170884,
          2.9018845891170884,
          2.9018845891170884,
          2.9018845891170884,
          2.9018845891170884,
          2.9018845891170884,
          2.9018845891170884,
          2.9018845891170884,
          2.9018845891170884,
          2.9018845891170884,
          2.9018845891170884,
          2.9018845891170884,
          2.9018845891170884,
          2.9018845891170884,
          2.9018845891170884,
          2.9018845891170884,
          2.9018845891170884,
          2.7807502720380652,
          2.7807502720380652,
          2.7807502720380652,
          2.7807502720380652,
          2.7807502720380652,
          2.7807502720380652,
          2.7807502720380652,
          2.7807502720380652,
          2.7807502720380652,
          2.7807502720380652,
          2.7807502720380652,
          2.7807502720380652,
          2.7807502720380652,
          2.7807502720380652,
          2.7807502720380652,
          2.7807502720380652,
          2.7807502720380652,
          2.7807502720380652,
          2.7807502720380652,
          2.7807502720380652,
          2.7807502720380652,
          2.7807502720380652,
          2.7807502720380652,
          2.7807502720380652,
          2.7807502720380652,
          2.7807502720380652,
          2.7807502720380652,
          2.7807502720380652,
          2.7807502720380652,
          2.7807502720380652,
          2.7807502720380652,
          2.7807502720380652,
          2.7807502720380652,
          2.7807502720380652,
          2.7807502720380652,
          2.7807502720380652,
          2.7807502720380652,
          2.7807502720380652,
          2.7807502720380652,
          2.7807502720380652,
          2.7807502720380652,
          2.7807502720380652,
          2.7807502720380652,
          2.7807502720380652,
          2.7807502720380652,
          2.7807502720380652,
          2.7807502720380652,
          2.7807502720380652,
          2.7807502720380652,
          2.7807502720380652,
          2.6139561123701682,
          2.6139561123701682,
          2.6139561123701682,
          2.6139561123701682,
          2.6139561123701682,
          2.6139561123701682,
          2.6139561123701682,
          2.6139561123701682,
          2.6139561123701682,
          2.6139561123701682,
          2.6139561123701682,
          2.6139561123701682,
          2.6139561123701682,
          2.6139561123701682,
          2.6139561123701682,
          2.6139561123701682,
          2.6139561123701682,
          2.6139561123701682,
          2.6139561123701682,
          2.6139561123701682,
          2.6139561123701682,
          2.6139561123701682,
          2.6139561123701682,
          2.6139561123701682,
          2.6139561123701682,
          2.6139561123701682,
          2.6139561123701682,
          2.6139561123701682,
          2.6139561123701682,
          2.6139561123701682,
          2.6139561123701682,
          2.6139561123701682,
          2.6139561123701682,
          2.6139561123701682,
          2.6139561123701682,
          2.6139561123701682,
          2.6139561123701682,
          2.6139561123701682,
          2.6139561123701682,
          2.6139561123701682,
          2.6139561123701682,
          2.6139561123701682,
          2.6139561123701682,
          2.6139561123701682,
          2.6139561123701682,
          2.6139561123701682,
          2.6139561123701682,
          2.6139561123701682,
          2.6139561123701682,
          2.6139561123701682,
          2.40424086560387,
          2.40424086560387,
          2.40424086560387,
          2.40424086560387,
          2.40424086560387,
          2.40424086560387,
          2.40424086560387,
          2.40424086560387,
          2.40424086560387,
          2.40424086560387,
          2.40424086560387,
          2.40424086560387,
          2.40424086560387,
          2.40424086560387,
          2.40424086560387,
          2.40424086560387,
          2.40424086560387,
          2.40424086560387,
          2.40424086560387,
          2.40424086560387,
          2.40424086560387,
          2.40424086560387,
          2.40424086560387,
          2.40424086560387,
          2.40424086560387,
          2.40424086560387,
          2.40424086560387,
          2.40424086560387,
          2.40424086560387,
          2.40424086560387,
          2.40424086560387,
          2.40424086560387,
          2.40424086560387,
          2.40424086560387,
          2.40424086560387,
          2.40424086560387,
          2.40424086560387,
          2.40424086560387,
          2.40424086560387,
          2.40424086560387,
          2.40424086560387,
          2.40424086560387,
          2.40424086560387,
          2.40424086560387,
          2.40424086560387,
          2.40424086560387,
          2.40424086560387,
          2.40424086560387,
          2.40424086560387,
          2.40424086560387,
          2.155048050293183,
          2.155048050293183,
          2.155048050293183,
          2.155048050293183,
          2.155048050293183,
          2.155048050293183,
          2.155048050293183,
          2.155048050293183,
          2.155048050293183,
          2.155048050293183,
          2.155048050293183,
          2.155048050293183,
          2.155048050293183,
          2.155048050293183,
          2.155048050293183,
          2.155048050293183,
          2.155048050293183,
          2.155048050293183,
          2.155048050293183,
          2.155048050293183,
          2.155048050293183,
          2.155048050293183,
          2.155048050293183,
          2.155048050293183,
          2.155048050293183,
          2.155048050293183,
          2.155048050293183,
          2.155048050293183,
          2.155048050293183,
          2.155048050293183,
          2.155048050293183,
          2.155048050293183,
          2.155048050293183,
          2.155048050293183,
          2.155048050293183,
          2.155048050293183,
          2.155048050293183,
          2.155048050293183,
          2.155048050293183,
          2.155048050293183,
          2.155048050293183,
          2.155048050293183,
          2.155048050293183,
          2.155048050293183,
          2.155048050293183,
          2.155048050293183,
          2.155048050293183,
          2.155048050293183,
          2.155048050293183,
          2.155048050293183,
          1.8704694055762008,
          1.8704694055762008,
          1.8704694055762008,
          1.8704694055762008,
          1.8704694055762008,
          1.8704694055762008,
          1.8704694055762008,
          1.8704694055762008,
          1.8704694055762008,
          1.8704694055762008,
          1.8704694055762008,
          1.8704694055762008,
          1.8704694055762008,
          1.8704694055762008,
          1.8704694055762008,
          1.8704694055762008,
          1.8704694055762008,
          1.8704694055762008,
          1.8704694055762008,
          1.8704694055762008,
          1.8704694055762008,
          1.8704694055762008,
          1.8704694055762008,
          1.8704694055762008,
          1.8704694055762008,
          1.8704694055762008,
          1.8704694055762008,
          1.8704694055762008,
          1.8704694055762008,
          1.8704694055762008,
          1.8704694055762008,
          1.8704694055762008,
          1.8704694055762008,
          1.8704694055762008,
          1.8704694055762008,
          1.8704694055762008,
          1.8704694055762008,
          1.8704694055762008,
          1.8704694055762008,
          1.8704694055762008,
          1.8704694055762008,
          1.8704694055762008,
          1.8704694055762008,
          1.8704694055762008,
          1.8704694055762008,
          1.8704694055762008,
          1.8704694055762008,
          1.8704694055762008,
          1.8704694055762008,
          1.8704694055762008,
          1.5551777049315754,
          1.5551777049315754,
          1.5551777049315754,
          1.5551777049315754,
          1.5551777049315754,
          1.5551777049315754,
          1.5551777049315754,
          1.5551777049315754,
          1.5551777049315754,
          1.5551777049315754,
          1.5551777049315754,
          1.5551777049315754,
          1.5551777049315754,
          1.5551777049315754,
          1.5551777049315754,
          1.5551777049315754,
          1.5551777049315754,
          1.5551777049315754,
          1.5551777049315754,
          1.5551777049315754,
          1.5551777049315754,
          1.5551777049315754,
          1.5551777049315754,
          1.5551777049315754,
          1.5551777049315754,
          1.5551777049315754,
          1.5551777049315754,
          1.5551777049315754,
          1.5551777049315754,
          1.5551777049315754,
          1.5551777049315754,
          1.5551777049315754,
          1.5551777049315754,
          1.5551777049315754,
          1.5551777049315754,
          1.5551777049315754,
          1.5551777049315754,
          1.5551777049315754,
          1.5551777049315754,
          1.5551777049315754,
          1.5551777049315754,
          1.5551777049315754,
          1.5551777049315754,
          1.5551777049315754,
          1.5551777049315754,
          1.5551777049315754,
          1.5551777049315754,
          1.5551777049315754,
          1.5551777049315754,
          1.5551777049315754,
          1.2143500293671818,
          1.2143500293671818,
          1.2143500293671818,
          1.2143500293671818,
          1.2143500293671818,
          1.2143500293671818,
          1.2143500293671818,
          1.2143500293671818,
          1.2143500293671818,
          1.2143500293671818,
          1.2143500293671818,
          1.2143500293671818,
          1.2143500293671818,
          1.2143500293671818,
          1.2143500293671818,
          1.2143500293671818,
          1.2143500293671818,
          1.2143500293671818,
          1.2143500293671818,
          1.2143500293671818,
          1.2143500293671818,
          1.2143500293671818,
          1.2143500293671818,
          1.2143500293671818,
          1.2143500293671818,
          1.2143500293671818,
          1.2143500293671818,
          1.2143500293671818,
          1.2143500293671818,
          1.2143500293671818,
          1.2143500293671818,
          1.2143500293671818,
          1.2143500293671818,
          1.2143500293671818,
          1.2143500293671818,
          1.2143500293671818,
          1.2143500293671818,
          1.2143500293671818,
          1.2143500293671818,
          1.2143500293671818,
          1.2143500293671818,
          1.2143500293671818,
          1.2143500293671818,
          1.2143500293671818,
          1.2143500293671818,
          1.2143500293671818,
          1.2143500293671818,
          1.2143500293671818,
          1.2143500293671818,
          1.2143500293671818,
          0.8535827598930981,
          0.8535827598930981,
          0.8535827598930981,
          0.8535827598930981,
          0.8535827598930981,
          0.8535827598930981,
          0.8535827598930981,
          0.8535827598930981,
          0.8535827598930981,
          0.8535827598930981,
          0.8535827598930981,
          0.8535827598930981,
          0.8535827598930981,
          0.8535827598930981,
          0.8535827598930981,
          0.8535827598930981,
          0.8535827598930981,
          0.8535827598930981,
          0.8535827598930981,
          0.8535827598930981,
          0.8535827598930981,
          0.8535827598930981,
          0.8535827598930981,
          0.8535827598930981,
          0.8535827598930981,
          0.8535827598930981,
          0.8535827598930981,
          0.8535827598930981,
          0.8535827598930981,
          0.8535827598930981,
          0.8535827598930981,
          0.8535827598930981,
          0.8535827598930981,
          0.8535827598930981,
          0.8535827598930981,
          0.8535827598930981,
          0.8535827598930981,
          0.8535827598930981,
          0.8535827598930981,
          0.8535827598930981,
          0.8535827598930981,
          0.8535827598930981,
          0.8535827598930981,
          0.8535827598930981,
          0.8535827598930981,
          0.8535827598930981,
          0.8535827598930981,
          0.8535827598930981,
          0.8535827598930981,
          0.8535827598930981,
          0.4787996851001379,
          0.4787996851001379,
          0.4787996851001379,
          0.4787996851001379,
          0.4787996851001379,
          0.4787996851001379,
          0.4787996851001379,
          0.4787996851001379,
          0.4787996851001379,
          0.4787996851001379,
          0.4787996851001379,
          0.4787996851001379,
          0.4787996851001379,
          0.4787996851001379,
          0.4787996851001379,
          0.4787996851001379,
          0.4787996851001379,
          0.4787996851001379,
          0.4787996851001379,
          0.4787996851001379,
          0.4787996851001379,
          0.4787996851001379,
          0.4787996851001379,
          0.4787996851001379,
          0.4787996851001379,
          0.4787996851001379,
          0.4787996851001379,
          0.4787996851001379,
          0.4787996851001379,
          0.4787996851001379,
          0.4787996851001379,
          0.4787996851001379,
          0.4787996851001379,
          0.4787996851001379,
          0.4787996851001379,
          0.4787996851001379,
          0.4787996851001379,
          0.4787996851001379,
          0.4787996851001379,
          0.4787996851001379,
          0.4787996851001379,
          0.4787996851001379,
          0.4787996851001379,
          0.4787996851001379,
          0.4787996851001379,
          0.4787996851001379,
          0.4787996851001379,
          0.4787996851001379,
          0.4787996851001379,
          0.4787996851001379,
          0.096154732714966,
          0.096154732714966,
          0.096154732714966,
          0.096154732714966,
          0.096154732714966,
          0.096154732714966,
          0.096154732714966,
          0.096154732714966,
          0.096154732714966,
          0.096154732714966,
          0.096154732714966,
          0.096154732714966,
          0.096154732714966,
          0.096154732714966,
          0.096154732714966,
          0.096154732714966,
          0.096154732714966,
          0.096154732714966,
          0.096154732714966,
          0.096154732714966,
          0.096154732714966,
          0.096154732714966,
          0.096154732714966,
          0.096154732714966,
          0.096154732714966,
          0.096154732714966,
          0.096154732714966,
          0.096154732714966,
          0.096154732714966,
          0.096154732714966,
          0.096154732714966,
          0.096154732714966,
          0.096154732714966,
          0.096154732714966,
          0.096154732714966,
          0.096154732714966,
          0.096154732714966,
          0.096154732714966,
          0.096154732714966,
          0.096154732714966,
          0.096154732714966,
          0.096154732714966,
          0.096154732714966,
          0.096154732714966,
          0.096154732714966,
          0.096154732714966,
          0.096154732714966,
          0.096154732714966,
          0.096154732714966,
          0.096154732714966,
          -0.2880690777230447,
          -0.2880690777230447,
          -0.2880690777230447,
          -0.2880690777230447,
          -0.2880690777230447,
          -0.2880690777230447,
          -0.2880690777230447,
          -0.2880690777230447,
          -0.2880690777230447,
          -0.2880690777230447,
          -0.2880690777230447,
          -0.2880690777230447,
          -0.2880690777230447,
          -0.2880690777230447,
          -0.2880690777230447,
          -0.2880690777230447,
          -0.2880690777230447,
          -0.2880690777230447,
          -0.2880690777230447,
          -0.2880690777230447,
          -0.2880690777230447,
          -0.2880690777230447,
          -0.2880690777230447,
          -0.2880690777230447,
          -0.2880690777230447,
          -0.2880690777230447,
          -0.2880690777230447,
          -0.2880690777230447,
          -0.2880690777230447,
          -0.2880690777230447,
          -0.2880690777230447,
          -0.2880690777230447,
          -0.2880690777230447,
          -0.2880690777230447,
          -0.2880690777230447,
          -0.2880690777230447,
          -0.2880690777230447,
          -0.2880690777230447,
          -0.2880690777230447,
          -0.2880690777230447,
          -0.2880690777230447,
          -0.2880690777230447,
          -0.2880690777230447,
          -0.2880690777230447,
          -0.2880690777230447,
          -0.2880690777230447,
          -0.2880690777230447,
          -0.2880690777230447,
          -0.2880690777230447,
          -0.2880690777230447,
          -0.667562801868943,
          -0.667562801868943,
          -0.667562801868943,
          -0.667562801868943,
          -0.667562801868943,
          -0.667562801868943,
          -0.667562801868943,
          -0.667562801868943,
          -0.667562801868943,
          -0.667562801868943,
          -0.667562801868943,
          -0.667562801868943,
          -0.667562801868943,
          -0.667562801868943,
          -0.667562801868943,
          -0.667562801868943,
          -0.667562801868943,
          -0.667562801868943,
          -0.667562801868943,
          -0.667562801868943,
          -0.667562801868943,
          -0.667562801868943,
          -0.667562801868943,
          -0.667562801868943,
          -0.667562801868943,
          -0.667562801868943,
          -0.667562801868943,
          -0.667562801868943,
          -0.667562801868943,
          -0.667562801868943,
          -0.667562801868943,
          -0.667562801868943,
          -0.667562801868943,
          -0.667562801868943,
          -0.667562801868943,
          -0.667562801868943,
          -0.667562801868943,
          -0.667562801868943,
          -0.667562801868943,
          -0.667562801868943,
          -0.667562801868943,
          -0.667562801868943,
          -0.667562801868943,
          -0.667562801868943,
          -0.667562801868943,
          -0.667562801868943,
          -0.667562801868943,
          -0.667562801868943,
          -0.667562801868943,
          -0.667562801868943,
          -1.0360951632639224,
          -1.0360951632639224,
          -1.0360951632639224,
          -1.0360951632639224,
          -1.0360951632639224,
          -1.0360951632639224,
          -1.0360951632639224,
          -1.0360951632639224,
          -1.0360951632639224,
          -1.0360951632639224,
          -1.0360951632639224,
          -1.0360951632639224,
          -1.0360951632639224,
          -1.0360951632639224,
          -1.0360951632639224,
          -1.0360951632639224,
          -1.0360951632639224,
          -1.0360951632639224,
          -1.0360951632639224,
          -1.0360951632639224,
          -1.0360951632639224,
          -1.0360951632639224,
          -1.0360951632639224,
          -1.0360951632639224,
          -1.0360951632639224,
          -1.0360951632639224,
          -1.0360951632639224,
          -1.0360951632639224,
          -1.0360951632639224,
          -1.0360951632639224,
          -1.0360951632639224,
          -1.0360951632639224,
          -1.0360951632639224,
          -1.0360951632639224,
          -1.0360951632639224,
          -1.0360951632639224,
          -1.0360951632639224,
          -1.0360951632639224,
          -1.0360951632639224,
          -1.0360951632639224,
          -1.0360951632639224,
          -1.0360951632639224,
          -1.0360951632639224,
          -1.0360951632639224,
          -1.0360951632639224,
          -1.0360951632639224,
          -1.0360951632639224,
          -1.0360951632639224,
          -1.0360951632639224,
          -1.0360951632639224,
          -1.3876148707225053,
          -1.3876148707225053,
          -1.3876148707225053,
          -1.3876148707225053,
          -1.3876148707225053,
          -1.3876148707225053,
          -1.3876148707225053,
          -1.3876148707225053,
          -1.3876148707225053,
          -1.3876148707225053,
          -1.3876148707225053,
          -1.3876148707225053,
          -1.3876148707225053,
          -1.3876148707225053,
          -1.3876148707225053,
          -1.3876148707225053,
          -1.3876148707225053,
          -1.3876148707225053,
          -1.3876148707225053,
          -1.3876148707225053,
          -1.3876148707225053,
          -1.3876148707225053,
          -1.3876148707225053,
          -1.3876148707225053,
          -1.3876148707225053,
          -1.3876148707225053,
          -1.3876148707225053,
          -1.3876148707225053,
          -1.3876148707225053,
          -1.3876148707225053,
          -1.3876148707225053,
          -1.3876148707225053,
          -1.3876148707225053,
          -1.3876148707225053,
          -1.3876148707225053,
          -1.3876148707225053,
          -1.3876148707225053,
          -1.3876148707225053,
          -1.3876148707225053,
          -1.3876148707225053,
          -1.3876148707225053,
          -1.3876148707225053,
          -1.3876148707225053,
          -1.3876148707225053,
          -1.3876148707225053,
          -1.3876148707225053,
          -1.3876148707225053,
          -1.3876148707225053,
          -1.3876148707225053,
          -1.3876148707225053,
          -1.7163499803665083,
          -1.7163499803665083,
          -1.7163499803665083,
          -1.7163499803665083,
          -1.7163499803665083,
          -1.7163499803665083,
          -1.7163499803665083,
          -1.7163499803665083,
          -1.7163499803665083,
          -1.7163499803665083,
          -1.7163499803665083,
          -1.7163499803665083,
          -1.7163499803665083,
          -1.7163499803665083,
          -1.7163499803665083,
          -1.7163499803665083,
          -1.7163499803665083,
          -1.7163499803665083,
          -1.7163499803665083,
          -1.7163499803665083,
          -1.7163499803665083,
          -1.7163499803665083,
          -1.7163499803665083,
          -1.7163499803665083,
          -1.7163499803665083,
          -1.7163499803665083,
          -1.7163499803665083,
          -1.7163499803665083,
          -1.7163499803665083,
          -1.7163499803665083,
          -1.7163499803665083,
          -1.7163499803665083,
          -1.7163499803665083,
          -1.7163499803665083,
          -1.7163499803665083,
          -1.7163499803665083,
          -1.7163499803665083,
          -1.7163499803665083,
          -1.7163499803665083,
          -1.7163499803665083,
          -1.7163499803665083,
          -1.7163499803665083,
          -1.7163499803665083,
          -1.7163499803665083,
          -1.7163499803665083,
          -1.7163499803665083,
          -1.7163499803665083,
          -1.7163499803665083,
          -1.7163499803665083,
          -1.7163499803665083,
          -2.0169026707839492,
          -2.0169026707839492,
          -2.0169026707839492,
          -2.0169026707839492,
          -2.0169026707839492,
          -2.0169026707839492,
          -2.0169026707839492,
          -2.0169026707839492,
          -2.0169026707839492,
          -2.0169026707839492,
          -2.0169026707839492,
          -2.0169026707839492,
          -2.0169026707839492,
          -2.0169026707839492,
          -2.0169026707839492,
          -2.0169026707839492,
          -2.0169026707839492,
          -2.0169026707839492,
          -2.0169026707839492,
          -2.0169026707839492,
          -2.0169026707839492,
          -2.0169026707839492,
          -2.0169026707839492,
          -2.0169026707839492,
          -2.0169026707839492,
          -2.0169026707839492,
          -2.0169026707839492,
          -2.0169026707839492,
          -2.0169026707839492,
          -2.0169026707839492,
          -2.0169026707839492,
          -2.0169026707839492,
          -2.0169026707839492,
          -2.0169026707839492,
          -2.0169026707839492,
          -2.0169026707839492,
          -2.0169026707839492,
          -2.0169026707839492,
          -2.0169026707839492,
          -2.0169026707839492,
          -2.0169026707839492,
          -2.0169026707839492,
          -2.0169026707839492,
          -2.0169026707839492,
          -2.0169026707839492,
          -2.0169026707839492,
          -2.0169026707839492,
          -2.0169026707839492,
          -2.0169026707839492,
          -2.0169026707839492,
          -2.2843378751074024,
          -2.2843378751074024,
          -2.2843378751074024,
          -2.2843378751074024,
          -2.2843378751074024,
          -2.2843378751074024,
          -2.2843378751074024,
          -2.2843378751074024,
          -2.2843378751074024,
          -2.2843378751074024,
          -2.2843378751074024,
          -2.2843378751074024,
          -2.2843378751074024,
          -2.2843378751074024,
          -2.2843378751074024,
          -2.2843378751074024,
          -2.2843378751074024,
          -2.2843378751074024,
          -2.2843378751074024,
          -2.2843378751074024,
          -2.2843378751074024,
          -2.2843378751074024,
          -2.2843378751074024,
          -2.2843378751074024,
          -2.2843378751074024,
          -2.2843378751074024,
          -2.2843378751074024,
          -2.2843378751074024,
          -2.2843378751074024,
          -2.2843378751074024,
          -2.2843378751074024,
          -2.2843378751074024,
          -2.2843378751074024,
          -2.2843378751074024,
          -2.2843378751074024,
          -2.2843378751074024,
          -2.2843378751074024,
          -2.2843378751074024,
          -2.2843378751074024,
          -2.2843378751074024,
          -2.2843378751074024,
          -2.2843378751074024,
          -2.2843378751074024,
          -2.2843378751074024,
          -2.2843378751074024,
          -2.2843378751074024,
          -2.2843378751074024,
          -2.2843378751074024,
          -2.2843378751074024,
          -2.2843378751074024,
          -2.514264314675521,
          -2.514264314675521,
          -2.514264314675521,
          -2.514264314675521,
          -2.514264314675521,
          -2.514264314675521,
          -2.514264314675521,
          -2.514264314675521,
          -2.514264314675521,
          -2.514264314675521,
          -2.514264314675521,
          -2.514264314675521,
          -2.514264314675521,
          -2.514264314675521,
          -2.514264314675521,
          -2.514264314675521,
          -2.514264314675521,
          -2.514264314675521,
          -2.514264314675521,
          -2.514264314675521,
          -2.514264314675521,
          -2.514264314675521,
          -2.514264314675521,
          -2.514264314675521,
          -2.514264314675521,
          -2.514264314675521,
          -2.514264314675521,
          -2.514264314675521,
          -2.514264314675521,
          -2.514264314675521,
          -2.514264314675521,
          -2.514264314675521,
          -2.514264314675521,
          -2.514264314675521,
          -2.514264314675521,
          -2.514264314675521,
          -2.514264314675521,
          -2.514264314675521,
          -2.514264314675521,
          -2.514264314675521,
          -2.514264314675521,
          -2.514264314675521,
          -2.514264314675521,
          -2.514264314675521,
          -2.514264314675521,
          -2.514264314675521,
          -2.514264314675521,
          -2.514264314675521,
          -2.514264314675521,
          -2.514264314675521,
          -2.702906603707257,
          -2.702906603707257,
          -2.702906603707257,
          -2.702906603707257,
          -2.702906603707257,
          -2.702906603707257,
          -2.702906603707257,
          -2.702906603707257,
          -2.702906603707257,
          -2.702906603707257,
          -2.702906603707257,
          -2.702906603707257,
          -2.702906603707257,
          -2.702906603707257,
          -2.702906603707257,
          -2.702906603707257,
          -2.702906603707257,
          -2.702906603707257,
          -2.702906603707257,
          -2.702906603707257,
          -2.702906603707257,
          -2.702906603707257,
          -2.702906603707257,
          -2.702906603707257,
          -2.702906603707257,
          -2.702906603707257,
          -2.702906603707257,
          -2.702906603707257,
          -2.702906603707257,
          -2.702906603707257,
          -2.702906603707257,
          -2.702906603707257,
          -2.702906603707257,
          -2.702906603707257,
          -2.702906603707257,
          -2.702906603707257,
          -2.702906603707257,
          -2.702906603707257,
          -2.702906603707257,
          -2.702906603707257,
          -2.702906603707257,
          -2.702906603707257,
          -2.702906603707257,
          -2.702906603707257,
          -2.702906603707257,
          -2.702906603707257,
          -2.702906603707257,
          -2.702906603707257,
          -2.702906603707257,
          -2.702906603707257,
          -2.8471672410320057,
          -2.8471672410320057,
          -2.8471672410320057,
          -2.8471672410320057,
          -2.8471672410320057,
          -2.8471672410320057,
          -2.8471672410320057,
          -2.8471672410320057,
          -2.8471672410320057,
          -2.8471672410320057,
          -2.8471672410320057,
          -2.8471672410320057,
          -2.8471672410320057,
          -2.8471672410320057,
          -2.8471672410320057,
          -2.8471672410320057,
          -2.8471672410320057,
          -2.8471672410320057,
          -2.8471672410320057,
          -2.8471672410320057,
          -2.8471672410320057,
          -2.8471672410320057,
          -2.8471672410320057,
          -2.8471672410320057,
          -2.8471672410320057,
          -2.8471672410320057,
          -2.8471672410320057,
          -2.8471672410320057,
          -2.8471672410320057,
          -2.8471672410320057,
          -2.8471672410320057,
          -2.8471672410320057,
          -2.8471672410320057,
          -2.8471672410320057,
          -2.8471672410320057,
          -2.8471672410320057,
          -2.8471672410320057,
          -2.8471672410320057,
          -2.8471672410320057,
          -2.8471672410320057,
          -2.8471672410320057,
          -2.8471672410320057,
          -2.8471672410320057,
          -2.8471672410320057,
          -2.8471672410320057,
          -2.8471672410320057,
          -2.8471672410320057,
          -2.8471672410320057,
          -2.8471672410320057,
          -2.8471672410320057,
          -2.944677470973196,
          -2.944677470973196,
          -2.944677470973196,
          -2.944677470973196,
          -2.944677470973196,
          -2.944677470973196,
          -2.944677470973196,
          -2.944677470973196,
          -2.944677470973196,
          -2.944677470973196,
          -2.944677470973196,
          -2.944677470973196,
          -2.944677470973196,
          -2.944677470973196,
          -2.944677470973196,
          -2.944677470973196,
          -2.944677470973196,
          -2.944677470973196,
          -2.944677470973196,
          -2.944677470973196,
          -2.944677470973196,
          -2.944677470973196,
          -2.944677470973196,
          -2.944677470973196,
          -2.944677470973196,
          -2.944677470973196,
          -2.944677470973196,
          -2.944677470973196,
          -2.944677470973196,
          -2.944677470973196,
          -2.944677470973196,
          -2.944677470973196,
          -2.944677470973196,
          -2.944677470973196,
          -2.944677470973196,
          -2.944677470973196,
          -2.944677470973196,
          -2.944677470973196,
          -2.944677470973196,
          -2.944677470973196,
          -2.944677470973196,
          -2.944677470973196,
          -2.944677470973196,
          -2.944677470973196,
          -2.944677470973196,
          -2.944677470973196,
          -2.944677470973196,
          -2.944677470973196,
          -2.944677470973196,
          -2.944677470973196,
          -2.993836178251009,
          -2.993836178251009,
          -2.993836178251009,
          -2.993836178251009,
          -2.993836178251009,
          -2.993836178251009,
          -2.993836178251009,
          -2.993836178251009,
          -2.993836178251009,
          -2.993836178251009,
          -2.993836178251009,
          -2.993836178251009,
          -2.993836178251009,
          -2.993836178251009,
          -2.993836178251009,
          -2.993836178251009,
          -2.993836178251009,
          -2.993836178251009,
          -2.993836178251009,
          -2.993836178251009,
          -2.993836178251009,
          -2.993836178251009,
          -2.993836178251009,
          -2.993836178251009,
          -2.993836178251009,
          -2.993836178251009,
          -2.993836178251009,
          -2.993836178251009,
          -2.993836178251009,
          -2.993836178251009,
          -2.993836178251009,
          -2.993836178251009,
          -2.993836178251009,
          -2.993836178251009,
          -2.993836178251009,
          -2.993836178251009,
          -2.993836178251009,
          -2.993836178251009,
          -2.993836178251009,
          -2.993836178251009,
          -2.993836178251009,
          -2.993836178251009,
          -2.993836178251009,
          -2.993836178251009,
          -2.993836178251009,
          -2.993836178251009,
          -2.993836178251009,
          -2.993836178251009,
          -2.993836178251009,
          -2.993836178251009,
          -2.993836178251009,
          -2.993836178251009,
          -2.993836178251009,
          -2.993836178251009,
          -2.993836178251009,
          -2.993836178251009,
          -2.993836178251009,
          -2.993836178251009,
          -2.993836178251009,
          -2.993836178251009,
          -2.993836178251009,
          -2.993836178251009,
          -2.993836178251009,
          -2.993836178251009,
          -2.993836178251009,
          -2.993836178251009,
          -2.993836178251009,
          -2.993836178251009,
          -2.993836178251009,
          -2.993836178251009,
          -2.993836178251009,
          -2.993836178251009,
          -2.993836178251009,
          -2.993836178251009,
          -2.993836178251009,
          -2.993836178251009,
          -2.993836178251009,
          -2.993836178251009,
          -2.993836178251009,
          -2.993836178251009,
          -2.993836178251009,
          -2.993836178251009,
          -2.993836178251009,
          -2.993836178251009,
          -2.993836178251009,
          -2.993836178251009,
          -2.993836178251009,
          -2.993836178251009,
          -2.993836178251009,
          -2.993836178251009,
          -2.993836178251009,
          -2.993836178251009,
          -2.993836178251009,
          -2.993836178251009,
          -2.993836178251009,
          -2.993836178251009,
          -2.993836178251009,
          -2.993836178251009,
          -2.993836178251009,
          -2.993836178251009,
          -2.9446774709731964,
          -2.9446774709731964,
          -2.9446774709731964,
          -2.9446774709731964,
          -2.9446774709731964,
          -2.9446774709731964,
          -2.9446774709731964,
          -2.9446774709731964,
          -2.9446774709731964,
          -2.9446774709731964,
          -2.9446774709731964,
          -2.9446774709731964,
          -2.9446774709731964,
          -2.9446774709731964,
          -2.9446774709731964,
          -2.9446774709731964,
          -2.9446774709731964,
          -2.9446774709731964,
          -2.9446774709731964,
          -2.9446774709731964,
          -2.9446774709731964,
          -2.9446774709731964,
          -2.9446774709731964,
          -2.9446774709731964,
          -2.9446774709731964,
          -2.9446774709731964,
          -2.9446774709731964,
          -2.9446774709731964,
          -2.9446774709731964,
          -2.9446774709731964,
          -2.9446774709731964,
          -2.9446774709731964,
          -2.9446774709731964,
          -2.9446774709731964,
          -2.9446774709731964,
          -2.9446774709731964,
          -2.9446774709731964,
          -2.9446774709731964,
          -2.9446774709731964,
          -2.9446774709731964,
          -2.9446774709731964,
          -2.9446774709731964,
          -2.9446774709731964,
          -2.9446774709731964,
          -2.9446774709731964,
          -2.9446774709731964,
          -2.9446774709731964,
          -2.9446774709731964,
          -2.9446774709731964,
          -2.9446774709731964,
          -2.8471672410320066,
          -2.8471672410320066,
          -2.8471672410320066,
          -2.8471672410320066,
          -2.8471672410320066,
          -2.8471672410320066,
          -2.8471672410320066,
          -2.8471672410320066,
          -2.8471672410320066,
          -2.8471672410320066,
          -2.8471672410320066,
          -2.8471672410320066,
          -2.8471672410320066,
          -2.8471672410320066,
          -2.8471672410320066,
          -2.8471672410320066,
          -2.8471672410320066,
          -2.8471672410320066,
          -2.8471672410320066,
          -2.8471672410320066,
          -2.8471672410320066,
          -2.8471672410320066,
          -2.8471672410320066,
          -2.8471672410320066,
          -2.8471672410320066,
          -2.8471672410320066,
          -2.8471672410320066,
          -2.8471672410320066,
          -2.8471672410320066,
          -2.8471672410320066,
          -2.8471672410320066,
          -2.8471672410320066,
          -2.8471672410320066,
          -2.8471672410320066,
          -2.8471672410320066,
          -2.8471672410320066,
          -2.8471672410320066,
          -2.8471672410320066,
          -2.8471672410320066,
          -2.8471672410320066,
          -2.8471672410320066,
          -2.8471672410320066,
          -2.8471672410320066,
          -2.8471672410320066,
          -2.8471672410320066,
          -2.8471672410320066,
          -2.8471672410320066,
          -2.8471672410320066,
          -2.8471672410320066,
          -2.8471672410320066,
          -2.7029066037072575,
          -2.7029066037072575,
          -2.7029066037072575,
          -2.7029066037072575,
          -2.7029066037072575,
          -2.7029066037072575,
          -2.7029066037072575,
          -2.7029066037072575,
          -2.7029066037072575,
          -2.7029066037072575,
          -2.7029066037072575,
          -2.7029066037072575,
          -2.7029066037072575,
          -2.7029066037072575,
          -2.7029066037072575,
          -2.7029066037072575,
          -2.7029066037072575,
          -2.7029066037072575,
          -2.7029066037072575,
          -2.7029066037072575,
          -2.7029066037072575,
          -2.7029066037072575,
          -2.7029066037072575,
          -2.7029066037072575,
          -2.7029066037072575,
          -2.7029066037072575,
          -2.7029066037072575,
          -2.7029066037072575,
          -2.7029066037072575,
          -2.7029066037072575,
          -2.7029066037072575,
          -2.7029066037072575,
          -2.7029066037072575,
          -2.7029066037072575,
          -2.7029066037072575,
          -2.7029066037072575,
          -2.7029066037072575,
          -2.7029066037072575,
          -2.7029066037072575,
          -2.7029066037072575,
          -2.7029066037072575,
          -2.7029066037072575,
          -2.7029066037072575,
          -2.7029066037072575,
          -2.7029066037072575,
          -2.7029066037072575,
          -2.7029066037072575,
          -2.7029066037072575,
          -2.7029066037072575,
          -2.7029066037072575,
          -2.514264314675522,
          -2.514264314675522,
          -2.514264314675522,
          -2.514264314675522,
          -2.514264314675522,
          -2.514264314675522,
          -2.514264314675522,
          -2.514264314675522,
          -2.514264314675522,
          -2.514264314675522,
          -2.514264314675522,
          -2.514264314675522,
          -2.514264314675522,
          -2.514264314675522,
          -2.514264314675522,
          -2.514264314675522,
          -2.514264314675522,
          -2.514264314675522,
          -2.514264314675522,
          -2.514264314675522,
          -2.514264314675522,
          -2.514264314675522,
          -2.514264314675522,
          -2.514264314675522,
          -2.514264314675522,
          -2.514264314675522,
          -2.514264314675522,
          -2.514264314675522,
          -2.514264314675522,
          -2.514264314675522,
          -2.514264314675522,
          -2.514264314675522,
          -2.514264314675522,
          -2.514264314675522,
          -2.514264314675522,
          -2.514264314675522,
          -2.514264314675522,
          -2.514264314675522,
          -2.514264314675522,
          -2.514264314675522,
          -2.514264314675522,
          -2.514264314675522,
          -2.514264314675522,
          -2.514264314675522,
          -2.514264314675522,
          -2.514264314675522,
          -2.514264314675522,
          -2.514264314675522,
          -2.514264314675522,
          -2.514264314675522,
          -2.284337875107404,
          -2.284337875107404,
          -2.284337875107404,
          -2.284337875107404,
          -2.284337875107404,
          -2.284337875107404,
          -2.284337875107404,
          -2.284337875107404,
          -2.284337875107404,
          -2.284337875107404,
          -2.284337875107404,
          -2.284337875107404,
          -2.284337875107404,
          -2.284337875107404,
          -2.284337875107404,
          -2.284337875107404,
          -2.284337875107404,
          -2.284337875107404,
          -2.284337875107404,
          -2.284337875107404,
          -2.284337875107404,
          -2.284337875107404,
          -2.284337875107404,
          -2.284337875107404,
          -2.284337875107404,
          -2.284337875107404,
          -2.284337875107404,
          -2.284337875107404,
          -2.284337875107404,
          -2.284337875107404,
          -2.284337875107404,
          -2.284337875107404,
          -2.284337875107404,
          -2.284337875107404,
          -2.284337875107404,
          -2.284337875107404,
          -2.284337875107404,
          -2.284337875107404,
          -2.284337875107404,
          -2.284337875107404,
          -2.284337875107404,
          -2.284337875107404,
          -2.284337875107404,
          -2.284337875107404,
          -2.284337875107404,
          -2.284337875107404,
          -2.284337875107404,
          -2.284337875107404,
          -2.284337875107404,
          -2.284337875107404,
          -2.0169026707839515,
          -2.0169026707839515,
          -2.0169026707839515,
          -2.0169026707839515,
          -2.0169026707839515,
          -2.0169026707839515,
          -2.0169026707839515,
          -2.0169026707839515,
          -2.0169026707839515,
          -2.0169026707839515,
          -2.0169026707839515,
          -2.0169026707839515,
          -2.0169026707839515,
          -2.0169026707839515,
          -2.0169026707839515,
          -2.0169026707839515,
          -2.0169026707839515,
          -2.0169026707839515,
          -2.0169026707839515,
          -2.0169026707839515,
          -2.0169026707839515,
          -2.0169026707839515,
          -2.0169026707839515,
          -2.0169026707839515,
          -2.0169026707839515,
          -2.0169026707839515,
          -2.0169026707839515,
          -2.0169026707839515,
          -2.0169026707839515,
          -2.0169026707839515,
          -2.0169026707839515,
          -2.0169026707839515,
          -2.0169026707839515,
          -2.0169026707839515,
          -2.0169026707839515,
          -2.0169026707839515,
          -2.0169026707839515,
          -2.0169026707839515,
          -2.0169026707839515,
          -2.0169026707839515,
          -2.0169026707839515,
          -2.0169026707839515,
          -2.0169026707839515,
          -2.0169026707839515,
          -2.0169026707839515,
          -2.0169026707839515,
          -2.0169026707839515,
          -2.0169026707839515,
          -2.0169026707839515,
          -2.0169026707839515,
          -1.7163499803665099,
          -1.7163499803665099,
          -1.7163499803665099,
          -1.7163499803665099,
          -1.7163499803665099,
          -1.7163499803665099,
          -1.7163499803665099,
          -1.7163499803665099,
          -1.7163499803665099,
          -1.7163499803665099,
          -1.7163499803665099,
          -1.7163499803665099,
          -1.7163499803665099,
          -1.7163499803665099,
          -1.7163499803665099,
          -1.7163499803665099,
          -1.7163499803665099,
          -1.7163499803665099,
          -1.7163499803665099,
          -1.7163499803665099,
          -1.7163499803665099,
          -1.7163499803665099,
          -1.7163499803665099,
          -1.7163499803665099,
          -1.7163499803665099,
          -1.7163499803665099,
          -1.7163499803665099,
          -1.7163499803665099,
          -1.7163499803665099,
          -1.7163499803665099,
          -1.7163499803665099,
          -1.7163499803665099,
          -1.7163499803665099,
          -1.7163499803665099,
          -1.7163499803665099,
          -1.7163499803665099,
          -1.7163499803665099,
          -1.7163499803665099,
          -1.7163499803665099,
          -1.7163499803665099,
          -1.7163499803665099,
          -1.7163499803665099,
          -1.7163499803665099,
          -1.7163499803665099,
          -1.7163499803665099,
          -1.7163499803665099,
          -1.7163499803665099,
          -1.7163499803665099,
          -1.7163499803665099,
          -1.7163499803665099,
          -1.387614870722506,
          -1.387614870722506,
          -1.387614870722506,
          -1.387614870722506,
          -1.387614870722506,
          -1.387614870722506,
          -1.387614870722506,
          -1.387614870722506,
          -1.387614870722506,
          -1.387614870722506,
          -1.387614870722506,
          -1.387614870722506,
          -1.387614870722506,
          -1.387614870722506,
          -1.387614870722506,
          -1.387614870722506,
          -1.387614870722506,
          -1.387614870722506,
          -1.387614870722506,
          -1.387614870722506,
          -1.387614870722506,
          -1.387614870722506,
          -1.387614870722506,
          -1.387614870722506,
          -1.387614870722506,
          -1.387614870722506,
          -1.387614870722506,
          -1.387614870722506,
          -1.387614870722506,
          -1.387614870722506,
          -1.387614870722506,
          -1.387614870722506,
          -1.387614870722506,
          -1.387614870722506,
          -1.387614870722506,
          -1.387614870722506,
          -1.387614870722506,
          -1.387614870722506,
          -1.387614870722506,
          -1.387614870722506,
          -1.387614870722506,
          -1.387614870722506,
          -1.387614870722506,
          -1.387614870722506,
          -1.387614870722506,
          -1.387614870722506,
          -1.387614870722506,
          -1.387614870722506,
          -1.387614870722506,
          -1.387614870722506,
          -1.0360951632639246,
          -1.0360951632639246,
          -1.0360951632639246,
          -1.0360951632639246,
          -1.0360951632639246,
          -1.0360951632639246,
          -1.0360951632639246,
          -1.0360951632639246,
          -1.0360951632639246,
          -1.0360951632639246,
          -1.0360951632639246,
          -1.0360951632639246,
          -1.0360951632639246,
          -1.0360951632639246,
          -1.0360951632639246,
          -1.0360951632639246,
          -1.0360951632639246,
          -1.0360951632639246,
          -1.0360951632639246,
          -1.0360951632639246,
          -1.0360951632639246,
          -1.0360951632639246,
          -1.0360951632639246,
          -1.0360951632639246,
          -1.0360951632639246,
          -1.0360951632639246,
          -1.0360951632639246,
          -1.0360951632639246,
          -1.0360951632639246,
          -1.0360951632639246,
          -1.0360951632639246,
          -1.0360951632639246,
          -1.0360951632639246,
          -1.0360951632639246,
          -1.0360951632639246,
          -1.0360951632639246,
          -1.0360951632639246,
          -1.0360951632639246,
          -1.0360951632639246,
          -1.0360951632639246,
          -1.0360951632639246,
          -1.0360951632639246,
          -1.0360951632639246,
          -1.0360951632639246,
          -1.0360951632639246,
          -1.0360951632639246,
          -1.0360951632639246,
          -1.0360951632639246,
          -1.0360951632639246,
          -1.0360951632639246,
          -0.6675628018689438,
          -0.6675628018689438,
          -0.6675628018689438,
          -0.6675628018689438,
          -0.6675628018689438,
          -0.6675628018689438,
          -0.6675628018689438,
          -0.6675628018689438,
          -0.6675628018689438,
          -0.6675628018689438,
          -0.6675628018689438,
          -0.6675628018689438,
          -0.6675628018689438,
          -0.6675628018689438,
          -0.6675628018689438,
          -0.6675628018689438,
          -0.6675628018689438,
          -0.6675628018689438,
          -0.6675628018689438,
          -0.6675628018689438,
          -0.6675628018689438,
          -0.6675628018689438,
          -0.6675628018689438,
          -0.6675628018689438,
          -0.6675628018689438,
          -0.6675628018689438,
          -0.6675628018689438,
          -0.6675628018689438,
          -0.6675628018689438,
          -0.6675628018689438,
          -0.6675628018689438,
          -0.6675628018689438,
          -0.6675628018689438,
          -0.6675628018689438,
          -0.6675628018689438,
          -0.6675628018689438,
          -0.6675628018689438,
          -0.6675628018689438,
          -0.6675628018689438,
          -0.6675628018689438,
          -0.6675628018689438,
          -0.6675628018689438,
          -0.6675628018689438,
          -0.6675628018689438,
          -0.6675628018689438,
          -0.6675628018689438,
          -0.6675628018689438,
          -0.6675628018689438,
          -0.6675628018689438,
          -0.6675628018689438,
          -0.28806907772304735,
          -0.28806907772304735,
          -0.28806907772304735,
          -0.28806907772304735,
          -0.28806907772304735,
          -0.28806907772304735,
          -0.28806907772304735,
          -0.28806907772304735,
          -0.28806907772304735,
          -0.28806907772304735,
          -0.28806907772304735,
          -0.28806907772304735,
          -0.28806907772304735,
          -0.28806907772304735,
          -0.28806907772304735,
          -0.28806907772304735,
          -0.28806907772304735,
          -0.28806907772304735,
          -0.28806907772304735,
          -0.28806907772304735,
          -0.28806907772304735,
          -0.28806907772304735,
          -0.28806907772304735,
          -0.28806907772304735,
          -0.28806907772304735,
          -0.28806907772304735,
          -0.28806907772304735,
          -0.28806907772304735,
          -0.28806907772304735,
          -0.28806907772304735,
          -0.28806907772304735,
          -0.28806907772304735,
          -0.28806907772304735,
          -0.28806907772304735,
          -0.28806907772304735,
          -0.28806907772304735,
          -0.28806907772304735,
          -0.28806907772304735,
          -0.28806907772304735,
          -0.28806907772304735,
          -0.28806907772304735,
          -0.28806907772304735,
          -0.28806907772304735,
          -0.28806907772304735,
          -0.28806907772304735,
          -0.28806907772304735,
          -0.28806907772304735,
          -0.28806907772304735,
          -0.28806907772304735,
          -0.28806907772304735,
          0.09615473271496461,
          0.09615473271496461,
          0.09615473271496461,
          0.09615473271496461,
          0.09615473271496461,
          0.09615473271496461,
          0.09615473271496461,
          0.09615473271496461,
          0.09615473271496461,
          0.09615473271496461,
          0.09615473271496461,
          0.09615473271496461,
          0.09615473271496461,
          0.09615473271496461,
          0.09615473271496461,
          0.09615473271496461,
          0.09615473271496461,
          0.09615473271496461,
          0.09615473271496461,
          0.09615473271496461,
          0.09615473271496461,
          0.09615473271496461,
          0.09615473271496461,
          0.09615473271496461,
          0.09615473271496461,
          0.09615473271496461,
          0.09615473271496461,
          0.09615473271496461,
          0.09615473271496461,
          0.09615473271496461,
          0.09615473271496461,
          0.09615473271496461,
          0.09615473271496461,
          0.09615473271496461,
          0.09615473271496461,
          0.09615473271496461,
          0.09615473271496461,
          0.09615473271496461,
          0.09615473271496461,
          0.09615473271496461,
          0.09615473271496461,
          0.09615473271496461,
          0.09615473271496461,
          0.09615473271496461,
          0.09615473271496461,
          0.09615473271496461,
          0.09615473271496461,
          0.09615473271496461,
          0.09615473271496461,
          0.09615473271496461,
          0.4787996851001352,
          0.4787996851001352,
          0.4787996851001352,
          0.4787996851001352,
          0.4787996851001352,
          0.4787996851001352,
          0.4787996851001352,
          0.4787996851001352,
          0.4787996851001352,
          0.4787996851001352,
          0.4787996851001352,
          0.4787996851001352,
          0.4787996851001352,
          0.4787996851001352,
          0.4787996851001352,
          0.4787996851001352,
          0.4787996851001352,
          0.4787996851001352,
          0.4787996851001352,
          0.4787996851001352,
          0.4787996851001352,
          0.4787996851001352,
          0.4787996851001352,
          0.4787996851001352,
          0.4787996851001352,
          0.4787996851001352,
          0.4787996851001352,
          0.4787996851001352,
          0.4787996851001352,
          0.4787996851001352,
          0.4787996851001352,
          0.4787996851001352,
          0.4787996851001352,
          0.4787996851001352,
          0.4787996851001352,
          0.4787996851001352,
          0.4787996851001352,
          0.4787996851001352,
          0.4787996851001352,
          0.4787996851001352,
          0.4787996851001352,
          0.4787996851001352,
          0.4787996851001352,
          0.4787996851001352,
          0.4787996851001352,
          0.4787996851001352,
          0.4787996851001352,
          0.4787996851001352,
          0.4787996851001352,
          0.4787996851001352,
          0.8535827598930961,
          0.8535827598930961,
          0.8535827598930961,
          0.8535827598930961,
          0.8535827598930961,
          0.8535827598930961,
          0.8535827598930961,
          0.8535827598930961,
          0.8535827598930961,
          0.8535827598930961,
          0.8535827598930961,
          0.8535827598930961,
          0.8535827598930961,
          0.8535827598930961,
          0.8535827598930961,
          0.8535827598930961,
          0.8535827598930961,
          0.8535827598930961,
          0.8535827598930961,
          0.8535827598930961,
          0.8535827598930961,
          0.8535827598930961,
          0.8535827598930961,
          0.8535827598930961,
          0.8535827598930961,
          0.8535827598930961,
          0.8535827598930961,
          0.8535827598930961,
          0.8535827598930961,
          0.8535827598930961,
          0.8535827598930961,
          0.8535827598930961,
          0.8535827598930961,
          0.8535827598930961,
          0.8535827598930961,
          0.8535827598930961,
          0.8535827598930961,
          0.8535827598930961,
          0.8535827598930961,
          0.8535827598930961,
          0.8535827598930961,
          0.8535827598930961,
          0.8535827598930961,
          0.8535827598930961,
          0.8535827598930961,
          0.8535827598930961,
          0.8535827598930961,
          0.8535827598930961,
          0.8535827598930961,
          0.8535827598930961,
          1.214350029367179,
          1.214350029367179,
          1.214350029367179,
          1.214350029367179,
          1.214350029367179,
          1.214350029367179,
          1.214350029367179,
          1.214350029367179,
          1.214350029367179,
          1.214350029367179,
          1.214350029367179,
          1.214350029367179,
          1.214350029367179,
          1.214350029367179,
          1.214350029367179,
          1.214350029367179,
          1.214350029367179,
          1.214350029367179,
          1.214350029367179,
          1.214350029367179,
          1.214350029367179,
          1.214350029367179,
          1.214350029367179,
          1.214350029367179,
          1.214350029367179,
          1.214350029367179,
          1.214350029367179,
          1.214350029367179,
          1.214350029367179,
          1.214350029367179,
          1.214350029367179,
          1.214350029367179,
          1.214350029367179,
          1.214350029367179,
          1.214350029367179,
          1.214350029367179,
          1.214350029367179,
          1.214350029367179,
          1.214350029367179,
          1.214350029367179,
          1.214350029367179,
          1.214350029367179,
          1.214350029367179,
          1.214350029367179,
          1.214350029367179,
          1.214350029367179,
          1.214350029367179,
          1.214350029367179,
          1.214350029367179,
          1.214350029367179,
          1.5551777049315736,
          1.5551777049315736,
          1.5551777049315736,
          1.5551777049315736,
          1.5551777049315736,
          1.5551777049315736,
          1.5551777049315736,
          1.5551777049315736,
          1.5551777049315736,
          1.5551777049315736,
          1.5551777049315736,
          1.5551777049315736,
          1.5551777049315736,
          1.5551777049315736,
          1.5551777049315736,
          1.5551777049315736,
          1.5551777049315736,
          1.5551777049315736,
          1.5551777049315736,
          1.5551777049315736,
          1.5551777049315736,
          1.5551777049315736,
          1.5551777049315736,
          1.5551777049315736,
          1.5551777049315736,
          1.5551777049315736,
          1.5551777049315736,
          1.5551777049315736,
          1.5551777049315736,
          1.5551777049315736,
          1.5551777049315736,
          1.5551777049315736,
          1.5551777049315736,
          1.5551777049315736,
          1.5551777049315736,
          1.5551777049315736,
          1.5551777049315736,
          1.5551777049315736,
          1.5551777049315736,
          1.5551777049315736,
          1.5551777049315736,
          1.5551777049315736,
          1.5551777049315736,
          1.5551777049315736,
          1.5551777049315736,
          1.5551777049315736,
          1.5551777049315736,
          1.5551777049315736,
          1.5551777049315736,
          1.5551777049315736,
          1.8704694055762001,
          1.8704694055762001,
          1.8704694055762001,
          1.8704694055762001,
          1.8704694055762001,
          1.8704694055762001,
          1.8704694055762001,
          1.8704694055762001,
          1.8704694055762001,
          1.8704694055762001,
          1.8704694055762001,
          1.8704694055762001,
          1.8704694055762001,
          1.8704694055762001,
          1.8704694055762001,
          1.8704694055762001,
          1.8704694055762001,
          1.8704694055762001,
          1.8704694055762001,
          1.8704694055762001,
          1.8704694055762001,
          1.8704694055762001,
          1.8704694055762001,
          1.8704694055762001,
          1.8704694055762001,
          1.8704694055762001,
          1.8704694055762001,
          1.8704694055762001,
          1.8704694055762001,
          1.8704694055762001,
          1.8704694055762001,
          1.8704694055762001,
          1.8704694055762001,
          1.8704694055762001,
          1.8704694055762001,
          1.8704694055762001,
          1.8704694055762001,
          1.8704694055762001,
          1.8704694055762001,
          1.8704694055762001,
          1.8704694055762001,
          1.8704694055762001,
          1.8704694055762001,
          1.8704694055762001,
          1.8704694055762001,
          1.8704694055762001,
          1.8704694055762001,
          1.8704694055762001,
          1.8704694055762001,
          1.8704694055762001,
          2.1550480502931815,
          2.1550480502931815,
          2.1550480502931815,
          2.1550480502931815,
          2.1550480502931815,
          2.1550480502931815,
          2.1550480502931815,
          2.1550480502931815,
          2.1550480502931815,
          2.1550480502931815,
          2.1550480502931815,
          2.1550480502931815,
          2.1550480502931815,
          2.1550480502931815,
          2.1550480502931815,
          2.1550480502931815,
          2.1550480502931815,
          2.1550480502931815,
          2.1550480502931815,
          2.1550480502931815,
          2.1550480502931815,
          2.1550480502931815,
          2.1550480502931815,
          2.1550480502931815,
          2.1550480502931815,
          2.1550480502931815,
          2.1550480502931815,
          2.1550480502931815,
          2.1550480502931815,
          2.1550480502931815,
          2.1550480502931815,
          2.1550480502931815,
          2.1550480502931815,
          2.1550480502931815,
          2.1550480502931815,
          2.1550480502931815,
          2.1550480502931815,
          2.1550480502931815,
          2.1550480502931815,
          2.1550480502931815,
          2.1550480502931815,
          2.1550480502931815,
          2.1550480502931815,
          2.1550480502931815,
          2.1550480502931815,
          2.1550480502931815,
          2.1550480502931815,
          2.1550480502931815,
          2.1550480502931815,
          2.1550480502931815,
          2.404240865603869,
          2.404240865603869,
          2.404240865603869,
          2.404240865603869,
          2.404240865603869,
          2.404240865603869,
          2.404240865603869,
          2.404240865603869,
          2.404240865603869,
          2.404240865603869,
          2.404240865603869,
          2.404240865603869,
          2.404240865603869,
          2.404240865603869,
          2.404240865603869,
          2.404240865603869,
          2.404240865603869,
          2.404240865603869,
          2.404240865603869,
          2.404240865603869,
          2.404240865603869,
          2.404240865603869,
          2.404240865603869,
          2.404240865603869,
          2.404240865603869,
          2.404240865603869,
          2.404240865603869,
          2.404240865603869,
          2.404240865603869,
          2.404240865603869,
          2.404240865603869,
          2.404240865603869,
          2.404240865603869,
          2.404240865603869,
          2.404240865603869,
          2.404240865603869,
          2.404240865603869,
          2.404240865603869,
          2.404240865603869,
          2.404240865603869,
          2.404240865603869,
          2.404240865603869,
          2.404240865603869,
          2.404240865603869,
          2.404240865603869,
          2.404240865603869,
          2.404240865603869,
          2.404240865603869,
          2.404240865603869,
          2.404240865603869,
          2.613956112370167,
          2.613956112370167,
          2.613956112370167,
          2.613956112370167,
          2.613956112370167,
          2.613956112370167,
          2.613956112370167,
          2.613956112370167,
          2.613956112370167,
          2.613956112370167,
          2.613956112370167,
          2.613956112370167,
          2.613956112370167,
          2.613956112370167,
          2.613956112370167,
          2.613956112370167,
          2.613956112370167,
          2.613956112370167,
          2.613956112370167,
          2.613956112370167,
          2.613956112370167,
          2.613956112370167,
          2.613956112370167,
          2.613956112370167,
          2.613956112370167,
          2.613956112370167,
          2.613956112370167,
          2.613956112370167,
          2.613956112370167,
          2.613956112370167,
          2.613956112370167,
          2.613956112370167,
          2.613956112370167,
          2.613956112370167,
          2.613956112370167,
          2.613956112370167,
          2.613956112370167,
          2.613956112370167,
          2.613956112370167,
          2.613956112370167,
          2.613956112370167,
          2.613956112370167,
          2.613956112370167,
          2.613956112370167,
          2.613956112370167,
          2.613956112370167,
          2.613956112370167,
          2.613956112370167,
          2.613956112370167,
          2.613956112370167,
          2.780750272038065,
          2.780750272038065,
          2.780750272038065,
          2.780750272038065,
          2.780750272038065,
          2.780750272038065,
          2.780750272038065,
          2.780750272038065,
          2.780750272038065,
          2.780750272038065,
          2.780750272038065,
          2.780750272038065,
          2.780750272038065,
          2.780750272038065,
          2.780750272038065,
          2.780750272038065,
          2.780750272038065,
          2.780750272038065,
          2.780750272038065,
          2.780750272038065,
          2.780750272038065,
          2.780750272038065,
          2.780750272038065,
          2.780750272038065,
          2.780750272038065,
          2.780750272038065,
          2.780750272038065,
          2.780750272038065,
          2.780750272038065,
          2.780750272038065,
          2.780750272038065,
          2.780750272038065,
          2.780750272038065,
          2.780750272038065,
          2.780750272038065,
          2.780750272038065,
          2.780750272038065,
          2.780750272038065,
          2.780750272038065,
          2.780750272038065,
          2.780750272038065,
          2.780750272038065,
          2.780750272038065,
          2.780750272038065,
          2.780750272038065,
          2.780750272038065,
          2.780750272038065,
          2.780750272038065,
          2.780750272038065,
          2.780750272038065,
          2.9018845891170875,
          2.9018845891170875,
          2.9018845891170875,
          2.9018845891170875,
          2.9018845891170875,
          2.9018845891170875,
          2.9018845891170875,
          2.9018845891170875,
          2.9018845891170875,
          2.9018845891170875,
          2.9018845891170875,
          2.9018845891170875,
          2.9018845891170875,
          2.9018845891170875,
          2.9018845891170875,
          2.9018845891170875,
          2.9018845891170875,
          2.9018845891170875,
          2.9018845891170875,
          2.9018845891170875,
          2.9018845891170875,
          2.9018845891170875,
          2.9018845891170875,
          2.9018845891170875,
          2.9018845891170875,
          2.9018845891170875,
          2.9018845891170875,
          2.9018845891170875,
          2.9018845891170875,
          2.9018845891170875,
          2.9018845891170875,
          2.9018845891170875,
          2.9018845891170875,
          2.9018845891170875,
          2.9018845891170875,
          2.9018845891170875,
          2.9018845891170875,
          2.9018845891170875,
          2.9018845891170875,
          2.9018845891170875,
          2.9018845891170875,
          2.9018845891170875,
          2.9018845891170875,
          2.9018845891170875,
          2.9018845891170875,
          2.9018845891170875,
          2.9018845891170875,
          2.9018845891170875,
          2.9018845891170875,
          2.9018845891170875,
          2.975370041469738,
          2.975370041469738,
          2.975370041469738,
          2.975370041469738,
          2.975370041469738,
          2.975370041469738,
          2.975370041469738,
          2.975370041469738,
          2.975370041469738,
          2.975370041469738,
          2.975370041469738,
          2.975370041469738,
          2.975370041469738,
          2.975370041469738,
          2.975370041469738,
          2.975370041469738,
          2.975370041469738,
          2.975370041469738,
          2.975370041469738,
          2.975370041469738,
          2.975370041469738,
          2.975370041469738,
          2.975370041469738,
          2.975370041469738,
          2.975370041469738,
          2.975370041469738,
          2.975370041469738,
          2.975370041469738,
          2.975370041469738,
          2.975370041469738,
          2.975370041469738,
          2.975370041469738,
          2.975370041469738,
          2.975370041469738,
          2.975370041469738,
          2.975370041469738,
          2.975370041469738,
          2.975370041469738,
          2.975370041469738,
          2.975370041469738,
          2.975370041469738,
          2.975370041469738,
          2.975370041469738,
          2.975370041469738,
          2.975370041469738,
          2.975370041469738,
          2.975370041469738,
          2.975370041469738,
          2.975370041469738,
          2.975370041469738,
          3,
          3,
          3,
          3,
          3,
          3,
          3,
          3,
          3,
          3,
          3,
          3,
          3,
          3,
          3,
          3,
          3,
          3,
          3,
          3,
          3,
          3,
          3,
          3,
          3,
          3,
          3,
          3,
          3,
          3,
          3,
          3,
          3,
          3,
          3,
          3,
          3,
          3,
          3,
          3,
          3,
          3,
          3,
          3,
          3,
          3,
          3,
          3,
          3,
          3
         ]
        }
       ],
       "layout": {
        "legend": {
         "tracegroupgap": 0
        },
        "margin": {
         "t": 60
        },
        "scene": {
         "domain": {
          "x": [
           0,
           1
          ],
          "y": [
           0,
           1
          ]
         },
         "xaxis": {
          "title": {
           "text": "x"
          }
         },
         "yaxis": {
          "title": {
           "text": "y"
          }
         },
         "zaxis": {
          "title": {
           "text": "z"
          }
         }
        },
        "template": {
         "data": {
          "bar": [
           {
            "error_x": {
             "color": "#2a3f5f"
            },
            "error_y": {
             "color": "#2a3f5f"
            },
            "marker": {
             "line": {
              "color": "#E5ECF6",
              "width": 0.5
             }
            },
            "type": "bar"
           }
          ],
          "barpolar": [
           {
            "marker": {
             "line": {
              "color": "#E5ECF6",
              "width": 0.5
             }
            },
            "type": "barpolar"
           }
          ],
          "carpet": [
           {
            "aaxis": {
             "endlinecolor": "#2a3f5f",
             "gridcolor": "white",
             "linecolor": "white",
             "minorgridcolor": "white",
             "startlinecolor": "#2a3f5f"
            },
            "baxis": {
             "endlinecolor": "#2a3f5f",
             "gridcolor": "white",
             "linecolor": "white",
             "minorgridcolor": "white",
             "startlinecolor": "#2a3f5f"
            },
            "type": "carpet"
           }
          ],
          "choropleth": [
           {
            "colorbar": {
             "outlinewidth": 0,
             "ticks": ""
            },
            "type": "choropleth"
           }
          ],
          "contour": [
           {
            "colorbar": {
             "outlinewidth": 0,
             "ticks": ""
            },
            "colorscale": [
             [
              0,
              "#0d0887"
             ],
             [
              0.1111111111111111,
              "#46039f"
             ],
             [
              0.2222222222222222,
              "#7201a8"
             ],
             [
              0.3333333333333333,
              "#9c179e"
             ],
             [
              0.4444444444444444,
              "#bd3786"
             ],
             [
              0.5555555555555556,
              "#d8576b"
             ],
             [
              0.6666666666666666,
              "#ed7953"
             ],
             [
              0.7777777777777778,
              "#fb9f3a"
             ],
             [
              0.8888888888888888,
              "#fdca26"
             ],
             [
              1,
              "#f0f921"
             ]
            ],
            "type": "contour"
           }
          ],
          "contourcarpet": [
           {
            "colorbar": {
             "outlinewidth": 0,
             "ticks": ""
            },
            "type": "contourcarpet"
           }
          ],
          "heatmap": [
           {
            "colorbar": {
             "outlinewidth": 0,
             "ticks": ""
            },
            "colorscale": [
             [
              0,
              "#0d0887"
             ],
             [
              0.1111111111111111,
              "#46039f"
             ],
             [
              0.2222222222222222,
              "#7201a8"
             ],
             [
              0.3333333333333333,
              "#9c179e"
             ],
             [
              0.4444444444444444,
              "#bd3786"
             ],
             [
              0.5555555555555556,
              "#d8576b"
             ],
             [
              0.6666666666666666,
              "#ed7953"
             ],
             [
              0.7777777777777778,
              "#fb9f3a"
             ],
             [
              0.8888888888888888,
              "#fdca26"
             ],
             [
              1,
              "#f0f921"
             ]
            ],
            "type": "heatmap"
           }
          ],
          "heatmapgl": [
           {
            "colorbar": {
             "outlinewidth": 0,
             "ticks": ""
            },
            "colorscale": [
             [
              0,
              "#0d0887"
             ],
             [
              0.1111111111111111,
              "#46039f"
             ],
             [
              0.2222222222222222,
              "#7201a8"
             ],
             [
              0.3333333333333333,
              "#9c179e"
             ],
             [
              0.4444444444444444,
              "#bd3786"
             ],
             [
              0.5555555555555556,
              "#d8576b"
             ],
             [
              0.6666666666666666,
              "#ed7953"
             ],
             [
              0.7777777777777778,
              "#fb9f3a"
             ],
             [
              0.8888888888888888,
              "#fdca26"
             ],
             [
              1,
              "#f0f921"
             ]
            ],
            "type": "heatmapgl"
           }
          ],
          "histogram": [
           {
            "marker": {
             "colorbar": {
              "outlinewidth": 0,
              "ticks": ""
             }
            },
            "type": "histogram"
           }
          ],
          "histogram2d": [
           {
            "colorbar": {
             "outlinewidth": 0,
             "ticks": ""
            },
            "colorscale": [
             [
              0,
              "#0d0887"
             ],
             [
              0.1111111111111111,
              "#46039f"
             ],
             [
              0.2222222222222222,
              "#7201a8"
             ],
             [
              0.3333333333333333,
              "#9c179e"
             ],
             [
              0.4444444444444444,
              "#bd3786"
             ],
             [
              0.5555555555555556,
              "#d8576b"
             ],
             [
              0.6666666666666666,
              "#ed7953"
             ],
             [
              0.7777777777777778,
              "#fb9f3a"
             ],
             [
              0.8888888888888888,
              "#fdca26"
             ],
             [
              1,
              "#f0f921"
             ]
            ],
            "type": "histogram2d"
           }
          ],
          "histogram2dcontour": [
           {
            "colorbar": {
             "outlinewidth": 0,
             "ticks": ""
            },
            "colorscale": [
             [
              0,
              "#0d0887"
             ],
             [
              0.1111111111111111,
              "#46039f"
             ],
             [
              0.2222222222222222,
              "#7201a8"
             ],
             [
              0.3333333333333333,
              "#9c179e"
             ],
             [
              0.4444444444444444,
              "#bd3786"
             ],
             [
              0.5555555555555556,
              "#d8576b"
             ],
             [
              0.6666666666666666,
              "#ed7953"
             ],
             [
              0.7777777777777778,
              "#fb9f3a"
             ],
             [
              0.8888888888888888,
              "#fdca26"
             ],
             [
              1,
              "#f0f921"
             ]
            ],
            "type": "histogram2dcontour"
           }
          ],
          "mesh3d": [
           {
            "colorbar": {
             "outlinewidth": 0,
             "ticks": ""
            },
            "type": "mesh3d"
           }
          ],
          "parcoords": [
           {
            "line": {
             "colorbar": {
              "outlinewidth": 0,
              "ticks": ""
             }
            },
            "type": "parcoords"
           }
          ],
          "pie": [
           {
            "automargin": true,
            "type": "pie"
           }
          ],
          "scatter": [
           {
            "marker": {
             "colorbar": {
              "outlinewidth": 0,
              "ticks": ""
             }
            },
            "type": "scatter"
           }
          ],
          "scatter3d": [
           {
            "line": {
             "colorbar": {
              "outlinewidth": 0,
              "ticks": ""
             }
            },
            "marker": {
             "colorbar": {
              "outlinewidth": 0,
              "ticks": ""
             }
            },
            "type": "scatter3d"
           }
          ],
          "scattercarpet": [
           {
            "marker": {
             "colorbar": {
              "outlinewidth": 0,
              "ticks": ""
             }
            },
            "type": "scattercarpet"
           }
          ],
          "scattergeo": [
           {
            "marker": {
             "colorbar": {
              "outlinewidth": 0,
              "ticks": ""
             }
            },
            "type": "scattergeo"
           }
          ],
          "scattergl": [
           {
            "marker": {
             "colorbar": {
              "outlinewidth": 0,
              "ticks": ""
             }
            },
            "type": "scattergl"
           }
          ],
          "scattermapbox": [
           {
            "marker": {
             "colorbar": {
              "outlinewidth": 0,
              "ticks": ""
             }
            },
            "type": "scattermapbox"
           }
          ],
          "scatterpolar": [
           {
            "marker": {
             "colorbar": {
              "outlinewidth": 0,
              "ticks": ""
             }
            },
            "type": "scatterpolar"
           }
          ],
          "scatterpolargl": [
           {
            "marker": {
             "colorbar": {
              "outlinewidth": 0,
              "ticks": ""
             }
            },
            "type": "scatterpolargl"
           }
          ],
          "scatterternary": [
           {
            "marker": {
             "colorbar": {
              "outlinewidth": 0,
              "ticks": ""
             }
            },
            "type": "scatterternary"
           }
          ],
          "surface": [
           {
            "colorbar": {
             "outlinewidth": 0,
             "ticks": ""
            },
            "colorscale": [
             [
              0,
              "#0d0887"
             ],
             [
              0.1111111111111111,
              "#46039f"
             ],
             [
              0.2222222222222222,
              "#7201a8"
             ],
             [
              0.3333333333333333,
              "#9c179e"
             ],
             [
              0.4444444444444444,
              "#bd3786"
             ],
             [
              0.5555555555555556,
              "#d8576b"
             ],
             [
              0.6666666666666666,
              "#ed7953"
             ],
             [
              0.7777777777777778,
              "#fb9f3a"
             ],
             [
              0.8888888888888888,
              "#fdca26"
             ],
             [
              1,
              "#f0f921"
             ]
            ],
            "type": "surface"
           }
          ],
          "table": [
           {
            "cells": {
             "fill": {
              "color": "#EBF0F8"
             },
             "line": {
              "color": "white"
             }
            },
            "header": {
             "fill": {
              "color": "#C8D4E3"
             },
             "line": {
              "color": "white"
             }
            },
            "type": "table"
           }
          ]
         },
         "layout": {
          "annotationdefaults": {
           "arrowcolor": "#2a3f5f",
           "arrowhead": 0,
           "arrowwidth": 1
          },
          "coloraxis": {
           "colorbar": {
            "outlinewidth": 0,
            "ticks": ""
           }
          },
          "colorscale": {
           "diverging": [
            [
             0,
             "#8e0152"
            ],
            [
             0.1,
             "#c51b7d"
            ],
            [
             0.2,
             "#de77ae"
            ],
            [
             0.3,
             "#f1b6da"
            ],
            [
             0.4,
             "#fde0ef"
            ],
            [
             0.5,
             "#f7f7f7"
            ],
            [
             0.6,
             "#e6f5d0"
            ],
            [
             0.7,
             "#b8e186"
            ],
            [
             0.8,
             "#7fbc41"
            ],
            [
             0.9,
             "#4d9221"
            ],
            [
             1,
             "#276419"
            ]
           ],
           "sequential": [
            [
             0,
             "#0d0887"
            ],
            [
             0.1111111111111111,
             "#46039f"
            ],
            [
             0.2222222222222222,
             "#7201a8"
            ],
            [
             0.3333333333333333,
             "#9c179e"
            ],
            [
             0.4444444444444444,
             "#bd3786"
            ],
            [
             0.5555555555555556,
             "#d8576b"
            ],
            [
             0.6666666666666666,
             "#ed7953"
            ],
            [
             0.7777777777777778,
             "#fb9f3a"
            ],
            [
             0.8888888888888888,
             "#fdca26"
            ],
            [
             1,
             "#f0f921"
            ]
           ],
           "sequentialminus": [
            [
             0,
             "#0d0887"
            ],
            [
             0.1111111111111111,
             "#46039f"
            ],
            [
             0.2222222222222222,
             "#7201a8"
            ],
            [
             0.3333333333333333,
             "#9c179e"
            ],
            [
             0.4444444444444444,
             "#bd3786"
            ],
            [
             0.5555555555555556,
             "#d8576b"
            ],
            [
             0.6666666666666666,
             "#ed7953"
            ],
            [
             0.7777777777777778,
             "#fb9f3a"
            ],
            [
             0.8888888888888888,
             "#fdca26"
            ],
            [
             1,
             "#f0f921"
            ]
           ]
          },
          "colorway": [
           "#636efa",
           "#EF553B",
           "#00cc96",
           "#ab63fa",
           "#FFA15A",
           "#19d3f3",
           "#FF6692",
           "#B6E880",
           "#FF97FF",
           "#FECB52"
          ],
          "font": {
           "color": "#2a3f5f"
          },
          "geo": {
           "bgcolor": "white",
           "lakecolor": "white",
           "landcolor": "#E5ECF6",
           "showlakes": true,
           "showland": true,
           "subunitcolor": "white"
          },
          "hoverlabel": {
           "align": "left"
          },
          "hovermode": "closest",
          "mapbox": {
           "style": "light"
          },
          "paper_bgcolor": "white",
          "plot_bgcolor": "#E5ECF6",
          "polar": {
           "angularaxis": {
            "gridcolor": "white",
            "linecolor": "white",
            "ticks": ""
           },
           "bgcolor": "#E5ECF6",
           "radialaxis": {
            "gridcolor": "white",
            "linecolor": "white",
            "ticks": ""
           }
          },
          "scene": {
           "xaxis": {
            "backgroundcolor": "#E5ECF6",
            "gridcolor": "white",
            "gridwidth": 2,
            "linecolor": "white",
            "showbackground": true,
            "ticks": "",
            "zerolinecolor": "white"
           },
           "yaxis": {
            "backgroundcolor": "#E5ECF6",
            "gridcolor": "white",
            "gridwidth": 2,
            "linecolor": "white",
            "showbackground": true,
            "ticks": "",
            "zerolinecolor": "white"
           },
           "zaxis": {
            "backgroundcolor": "#E5ECF6",
            "gridcolor": "white",
            "gridwidth": 2,
            "linecolor": "white",
            "showbackground": true,
            "ticks": "",
            "zerolinecolor": "white"
           }
          },
          "shapedefaults": {
           "line": {
            "color": "#2a3f5f"
           }
          },
          "ternary": {
           "aaxis": {
            "gridcolor": "white",
            "linecolor": "white",
            "ticks": ""
           },
           "baxis": {
            "gridcolor": "white",
            "linecolor": "white",
            "ticks": ""
           },
           "bgcolor": "#E5ECF6",
           "caxis": {
            "gridcolor": "white",
            "linecolor": "white",
            "ticks": ""
           }
          },
          "title": {
           "x": 0.05
          },
          "xaxis": {
           "automargin": true,
           "gridcolor": "white",
           "linecolor": "white",
           "ticks": "",
           "title": {
            "standoff": 15
           },
           "zerolinecolor": "white",
           "zerolinewidth": 2
          },
          "yaxis": {
           "automargin": true,
           "gridcolor": "white",
           "linecolor": "white",
           "ticks": "",
           "title": {
            "standoff": 15
           },
           "zerolinecolor": "white",
           "zerolinewidth": 2
          }
         }
        }
       }
      }
     },
     "metadata": {},
     "output_type": "display_data"
    }
   ],
   "source": [
    "fig = px.scatter_3d(x=x, y=y, z=z)\n",
    "fig.show()"
   ]
  },
  {
   "cell_type": "code",
   "execution_count": null,
   "metadata": {},
   "outputs": [],
   "source": []
  }
 ]
}