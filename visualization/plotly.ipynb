{
 "nbformat": 4,
 "nbformat_minor": 2,
 "metadata": {
  "language_info": {
   "name": "python",
   "codemirror_mode": {
    "name": "ipython",
    "version": 3
   },
   "version": "3.7.6-final"
  },
  "orig_nbformat": 2,
  "file_extension": ".py",
  "mimetype": "text/x-python",
  "name": "python",
  "npconvert_exporter": "python",
  "pygments_lexer": "ipython3",
  "version": 3,
  "kernelspec": {
   "name": "python3",
   "display_name": "Python 3"
  }
 },
 "cells": [
  {
   "cell_type": "markdown",
   "execution_count": null,
   "metadata": {},
   "outputs": [],
   "source": [
    "# Введение\n",
    "В любом эксперименте важной частью, является представление данных в удобном виде. Для этого существует большое количество различных библиотек для визуализации. В этой статье одну из новых библиотек - [Plotly](https://plot.ly/python/) \n",
    "\n",
    "Plotly - библиотека с которой я работаю сейчас. С ней можно работать в двух видах: \n",
    "* Полный вид. Код начинается с команды `import plotly.graph_objects as go` \n",
    "* Компактный вид. Код начинается с команды `import plotly.express as px`\n",
    "\n",
    "Из плюсов библиотеки отмечу отличную [документацию](https://plot.ly/python/) с большим количеством примеров, также интерактивные графики. \n",
    "\n",
    "Из минусов: при большом количестве графиков могут начаться подтормаживания (решается включением неинтерактивный режима)\n"
   ]
  },
  {
   "cell_type": "markdown",
   "execution_count": null,
   "metadata": {},
   "outputs": [],
   "source": [
    "# Установка\n",
    "## Подготовка\n",
    "0. (необязательно) Создадим новое окружение `conda create --name visual` \n",
    "1. Активируем его `conda activate visual`\n",
    "2. Установим pandas и  numpy и Jupyter `conda install numpy pandas jupyter`\n",
    "3. Создадим два массива (x и sin(x))\n",
    "\n"
   ]
  },
  {
   "cell_type": "code",
   "execution_count": 3,
   "metadata": {},
   "outputs": [],
   "source": [
    "import numpy as np\n",
    "import pandas as pd\n",
    "\n",
    "x = np.linspace(0, 10, 100)\n",
    "y = np.sin(x)\n"
   ]
  },
  {
   "cell_type": "markdown",
   "execution_count": null,
   "metadata": {},
   "outputs": [],
   "source": [
    "## Установка Plotly\n",
    "Установка Plotly достаточно сложная (не в одну строчку)\n",
    "Приведем тут, что говорит нам [документация](https://plot.ly/python/getting-started/)\n",
    "\n",
    "1. `conda install plotly` (может возникать проблема No module named 'plotly', тогда пропишите pip install plotly)\n",
    "\n",
    "2. Дальше если вы работаете\n",
    " через Jupter:\n",
    "\n",
    "`conda install notebook ipywidgets`\n",
    "\n",
    "через Jupterlab: \n",
    "```\n",
    "conda install jupyterlab\n",
    "conda install ipywidgets\n",
    "```\n",
    "\n",
    "Если через VS code ничего не надо\n",
    "\n",
    "Проверим, что все работает:"
   ]
  },
  {
   "cell_type": "code",
   "execution_count": 4,
   "metadata": {},
   "outputs": [
    {
     "data": {
      "application/vnd.plotly.v1+json": {
       "config": {
        "plotlyServerURL": "https://plot.ly"
       },
       "data": [
        {
         "hoverlabel": {
          "namelength": 0
         },
         "hovertemplate": "x=%{x}<br>y=%{y}",
         "legendgroup": "",
         "marker": {
          "color": "#636efa",
          "symbol": "circle"
         },
         "mode": "markers",
         "name": "",
         "showlegend": false,
         "type": "scatter",
         "x": [
          0,
          0.10101010101010101,
          0.20202020202020202,
          0.30303030303030304,
          0.40404040404040403,
          0.5050505050505051,
          0.6060606060606061,
          0.7070707070707071,
          0.8080808080808081,
          0.9090909090909091,
          1.0101010101010102,
          1.1111111111111112,
          1.2121212121212122,
          1.3131313131313131,
          1.4141414141414141,
          1.5151515151515151,
          1.6161616161616161,
          1.7171717171717171,
          1.8181818181818181,
          1.9191919191919191,
          2.0202020202020203,
          2.121212121212121,
          2.2222222222222223,
          2.323232323232323,
          2.4242424242424243,
          2.525252525252525,
          2.6262626262626263,
          2.727272727272727,
          2.8282828282828283,
          2.929292929292929,
          3.0303030303030303,
          3.131313131313131,
          3.2323232323232323,
          3.3333333333333335,
          3.4343434343434343,
          3.5353535353535355,
          3.6363636363636362,
          3.7373737373737375,
          3.8383838383838382,
          3.9393939393939394,
          4.040404040404041,
          4.141414141414141,
          4.242424242424242,
          4.343434343434343,
          4.444444444444445,
          4.545454545454545,
          4.646464646464646,
          4.747474747474747,
          4.848484848484849,
          4.94949494949495,
          5.05050505050505,
          5.151515151515151,
          5.252525252525253,
          5.353535353535354,
          5.454545454545454,
          5.555555555555555,
          5.656565656565657,
          5.757575757575758,
          5.858585858585858,
          5.959595959595959,
          6.0606060606060606,
          6.161616161616162,
          6.262626262626262,
          6.363636363636363,
          6.4646464646464645,
          6.565656565656566,
          6.666666666666667,
          6.767676767676767,
          6.8686868686868685,
          6.96969696969697,
          7.070707070707071,
          7.171717171717171,
          7.2727272727272725,
          7.373737373737374,
          7.474747474747475,
          7.575757575757575,
          7.6767676767676765,
          7.777777777777778,
          7.878787878787879,
          7.979797979797979,
          8.080808080808081,
          8.181818181818182,
          8.282828282828282,
          8.383838383838384,
          8.484848484848484,
          8.585858585858587,
          8.686868686868687,
          8.787878787878787,
          8.88888888888889,
          8.98989898989899,
          9.09090909090909,
          9.191919191919192,
          9.292929292929292,
          9.393939393939394,
          9.494949494949495,
          9.595959595959595,
          9.696969696969697,
          9.797979797979798,
          9.8989898989899,
          10
         ],
         "xaxis": "x",
         "y": [
          0,
          0.1008384202581046,
          0.2006488565226854,
          0.2984138044476411,
          0.3931366121483298,
          0.48385164043793466,
          0.5696341069089657,
          0.6496095135057065,
          0.7229625614794604,
          0.7889454628442574,
          0.8468855636029834,
          0.8961922010299563,
          0.9363627251042848,
          0.9669876227092996,
          0.9877546923600838,
          0.9984522269003895,
          0.9989711717233568,
          0.9893062365143401,
          0.9695559491823237,
          0.9399216514301312,
          0.9007054462029555,
          0.8523071179396753,
          0.7952200570230491,
          0.7300262299764464,
          0.6573902466827755,
          0.5780525851065732,
          0.4928220425889235,
          0.40256749066949654,
          0.30820901749007684,
          0.2107085480771929,
          0.11106003812412972,
          0.010279341240534697,
          -0.09060614703340773,
          -0.19056796287548539,
          -0.28858705872043244,
          -0.38366419180611233,
          -0.4748301108222395,
          -0.5611554368152017,
          -0.6417601376193878,
          -0.7158224992291902,
          -0.7825875026542022,
          -0.8413745208608701,
          -0.8915842573351402,
          -0.9327048555318336,
          -0.9643171169287783,
          -0.9860987744909296,
          -0.9978277779792126,
          -0.9993845576124357,
          -0.9907532430056771,
          -0.9720218249588334,
          -0.9433812584459996,
          -0.9051235159501367,
          -0.8576386109880517,
          -0.8014106221689697,
          -0.7370127583189134,
          -0.6651015149788224,
          -0.586409981847235,
          -0.5017403693939113,
          -0.4119558308308628,
          -0.31797166281061867,
          -0.22074597455506337,
          -0.12126992053716677,
          -0.020557596287260064,
          0.08036429967028173,
          0.18046693235991093,
          0.2787298186775573,
          0.37415123057121996,
          0.4657584070256517,
          0.5526174707464059,
          0.6338429484489058,
          0.7086067976992182,
          0.7761468482835805,
          0.8357745720522589,
          0.8868821020290788,
          0.9289484292312513,
          0.9615447140268235,
          0.9843386578838236,
          0.9970978909438748,
          0.9996923408861117,
          0.9920955589323228,
          0.9743849894755358,
          0.9467411805833543,
          0.9094459434244626,
          0.8628794793817836,
          0.8075165041395626,
          0.7439214082568444,
          0.6727425035622647,
          0.5947054140244974,
          0.510605678474283,
          0.4213006405886069,
          0.32770070881349983,
          0.23076007532505177,
          0.13146698864295842,
          0.03083367906114098,
          -0.07011396040064677,
          -0.1703468323280965,
          -0.268843125910384,
          -0.36459873365588863,
          -0.45663748763377376,
          -0.5440211108893699
         ],
         "yaxis": "y"
        }
       ],
       "layout": {
        "legend": {
         "tracegroupgap": 0
        },
        "margin": {
         "t": 60
        },
        "template": {
         "data": {
          "bar": [
           {
            "error_x": {
             "color": "#2a3f5f"
            },
            "error_y": {
             "color": "#2a3f5f"
            },
            "marker": {
             "line": {
              "color": "#E5ECF6",
              "width": 0.5
             }
            },
            "type": "bar"
           }
          ],
          "barpolar": [
           {
            "marker": {
             "line": {
              "color": "#E5ECF6",
              "width": 0.5
             }
            },
            "type": "barpolar"
           }
          ],
          "carpet": [
           {
            "aaxis": {
             "endlinecolor": "#2a3f5f",
             "gridcolor": "white",
             "linecolor": "white",
             "minorgridcolor": "white",
             "startlinecolor": "#2a3f5f"
            },
            "baxis": {
             "endlinecolor": "#2a3f5f",
             "gridcolor": "white",
             "linecolor": "white",
             "minorgridcolor": "white",
             "startlinecolor": "#2a3f5f"
            },
            "type": "carpet"
           }
          ],
          "choropleth": [
           {
            "colorbar": {
             "outlinewidth": 0,
             "ticks": ""
            },
            "type": "choropleth"
           }
          ],
          "contour": [
           {
            "colorbar": {
             "outlinewidth": 0,
             "ticks": ""
            },
            "colorscale": [
             [
              0,
              "#0d0887"
             ],
             [
              0.1111111111111111,
              "#46039f"
             ],
             [
              0.2222222222222222,
              "#7201a8"
             ],
             [
              0.3333333333333333,
              "#9c179e"
             ],
             [
              0.4444444444444444,
              "#bd3786"
             ],
             [
              0.5555555555555556,
              "#d8576b"
             ],
             [
              0.6666666666666666,
              "#ed7953"
             ],
             [
              0.7777777777777778,
              "#fb9f3a"
             ],
             [
              0.8888888888888888,
              "#fdca26"
             ],
             [
              1,
              "#f0f921"
             ]
            ],
            "type": "contour"
           }
          ],
          "contourcarpet": [
           {
            "colorbar": {
             "outlinewidth": 0,
             "ticks": ""
            },
            "type": "contourcarpet"
           }
          ],
          "heatmap": [
           {
            "colorbar": {
             "outlinewidth": 0,
             "ticks": ""
            },
            "colorscale": [
             [
              0,
              "#0d0887"
             ],
             [
              0.1111111111111111,
              "#46039f"
             ],
             [
              0.2222222222222222,
              "#7201a8"
             ],
             [
              0.3333333333333333,
              "#9c179e"
             ],
             [
              0.4444444444444444,
              "#bd3786"
             ],
             [
              0.5555555555555556,
              "#d8576b"
             ],
             [
              0.6666666666666666,
              "#ed7953"
             ],
             [
              0.7777777777777778,
              "#fb9f3a"
             ],
             [
              0.8888888888888888,
              "#fdca26"
             ],
             [
              1,
              "#f0f921"
             ]
            ],
            "type": "heatmap"
           }
          ],
          "heatmapgl": [
           {
            "colorbar": {
             "outlinewidth": 0,
             "ticks": ""
            },
            "colorscale": [
             [
              0,
              "#0d0887"
             ],
             [
              0.1111111111111111,
              "#46039f"
             ],
             [
              0.2222222222222222,
              "#7201a8"
             ],
             [
              0.3333333333333333,
              "#9c179e"
             ],
             [
              0.4444444444444444,
              "#bd3786"
             ],
             [
              0.5555555555555556,
              "#d8576b"
             ],
             [
              0.6666666666666666,
              "#ed7953"
             ],
             [
              0.7777777777777778,
              "#fb9f3a"
             ],
             [
              0.8888888888888888,
              "#fdca26"
             ],
             [
              1,
              "#f0f921"
             ]
            ],
            "type": "heatmapgl"
           }
          ],
          "histogram": [
           {
            "marker": {
             "colorbar": {
              "outlinewidth": 0,
              "ticks": ""
             }
            },
            "type": "histogram"
           }
          ],
          "histogram2d": [
           {
            "colorbar": {
             "outlinewidth": 0,
             "ticks": ""
            },
            "colorscale": [
             [
              0,
              "#0d0887"
             ],
             [
              0.1111111111111111,
              "#46039f"
             ],
             [
              0.2222222222222222,
              "#7201a8"
             ],
             [
              0.3333333333333333,
              "#9c179e"
             ],
             [
              0.4444444444444444,
              "#bd3786"
             ],
             [
              0.5555555555555556,
              "#d8576b"
             ],
             [
              0.6666666666666666,
              "#ed7953"
             ],
             [
              0.7777777777777778,
              "#fb9f3a"
             ],
             [
              0.8888888888888888,
              "#fdca26"
             ],
             [
              1,
              "#f0f921"
             ]
            ],
            "type": "histogram2d"
           }
          ],
          "histogram2dcontour": [
           {
            "colorbar": {
             "outlinewidth": 0,
             "ticks": ""
            },
            "colorscale": [
             [
              0,
              "#0d0887"
             ],
             [
              0.1111111111111111,
              "#46039f"
             ],
             [
              0.2222222222222222,
              "#7201a8"
             ],
             [
              0.3333333333333333,
              "#9c179e"
             ],
             [
              0.4444444444444444,
              "#bd3786"
             ],
             [
              0.5555555555555556,
              "#d8576b"
             ],
             [
              0.6666666666666666,
              "#ed7953"
             ],
             [
              0.7777777777777778,
              "#fb9f3a"
             ],
             [
              0.8888888888888888,
              "#fdca26"
             ],
             [
              1,
              "#f0f921"
             ]
            ],
            "type": "histogram2dcontour"
           }
          ],
          "mesh3d": [
           {
            "colorbar": {
             "outlinewidth": 0,
             "ticks": ""
            },
            "type": "mesh3d"
           }
          ],
          "parcoords": [
           {
            "line": {
             "colorbar": {
              "outlinewidth": 0,
              "ticks": ""
             }
            },
            "type": "parcoords"
           }
          ],
          "pie": [
           {
            "automargin": true,
            "type": "pie"
           }
          ],
          "scatter": [
           {
            "marker": {
             "colorbar": {
              "outlinewidth": 0,
              "ticks": ""
             }
            },
            "type": "scatter"
           }
          ],
          "scatter3d": [
           {
            "line": {
             "colorbar": {
              "outlinewidth": 0,
              "ticks": ""
             }
            },
            "marker": {
             "colorbar": {
              "outlinewidth": 0,
              "ticks": ""
             }
            },
            "type": "scatter3d"
           }
          ],
          "scattercarpet": [
           {
            "marker": {
             "colorbar": {
              "outlinewidth": 0,
              "ticks": ""
             }
            },
            "type": "scattercarpet"
           }
          ],
          "scattergeo": [
           {
            "marker": {
             "colorbar": {
              "outlinewidth": 0,
              "ticks": ""
             }
            },
            "type": "scattergeo"
           }
          ],
          "scattergl": [
           {
            "marker": {
             "colorbar": {
              "outlinewidth": 0,
              "ticks": ""
             }
            },
            "type": "scattergl"
           }
          ],
          "scattermapbox": [
           {
            "marker": {
             "colorbar": {
              "outlinewidth": 0,
              "ticks": ""
             }
            },
            "type": "scattermapbox"
           }
          ],
          "scatterpolar": [
           {
            "marker": {
             "colorbar": {
              "outlinewidth": 0,
              "ticks": ""
             }
            },
            "type": "scatterpolar"
           }
          ],
          "scatterpolargl": [
           {
            "marker": {
             "colorbar": {
              "outlinewidth": 0,
              "ticks": ""
             }
            },
            "type": "scatterpolargl"
           }
          ],
          "scatterternary": [
           {
            "marker": {
             "colorbar": {
              "outlinewidth": 0,
              "ticks": ""
             }
            },
            "type": "scatterternary"
           }
          ],
          "surface": [
           {
            "colorbar": {
             "outlinewidth": 0,
             "ticks": ""
            },
            "colorscale": [
             [
              0,
              "#0d0887"
             ],
             [
              0.1111111111111111,
              "#46039f"
             ],
             [
              0.2222222222222222,
              "#7201a8"
             ],
             [
              0.3333333333333333,
              "#9c179e"
             ],
             [
              0.4444444444444444,
              "#bd3786"
             ],
             [
              0.5555555555555556,
              "#d8576b"
             ],
             [
              0.6666666666666666,
              "#ed7953"
             ],
             [
              0.7777777777777778,
              "#fb9f3a"
             ],
             [
              0.8888888888888888,
              "#fdca26"
             ],
             [
              1,
              "#f0f921"
             ]
            ],
            "type": "surface"
           }
          ],
          "table": [
           {
            "cells": {
             "fill": {
              "color": "#EBF0F8"
             },
             "line": {
              "color": "white"
             }
            },
            "header": {
             "fill": {
              "color": "#C8D4E3"
             },
             "line": {
              "color": "white"
             }
            },
            "type": "table"
           }
          ]
         },
         "layout": {
          "annotationdefaults": {
           "arrowcolor": "#2a3f5f",
           "arrowhead": 0,
           "arrowwidth": 1
          },
          "coloraxis": {
           "colorbar": {
            "outlinewidth": 0,
            "ticks": ""
           }
          },
          "colorscale": {
           "diverging": [
            [
             0,
             "#8e0152"
            ],
            [
             0.1,
             "#c51b7d"
            ],
            [
             0.2,
             "#de77ae"
            ],
            [
             0.3,
             "#f1b6da"
            ],
            [
             0.4,
             "#fde0ef"
            ],
            [
             0.5,
             "#f7f7f7"
            ],
            [
             0.6,
             "#e6f5d0"
            ],
            [
             0.7,
             "#b8e186"
            ],
            [
             0.8,
             "#7fbc41"
            ],
            [
             0.9,
             "#4d9221"
            ],
            [
             1,
             "#276419"
            ]
           ],
           "sequential": [
            [
             0,
             "#0d0887"
            ],
            [
             0.1111111111111111,
             "#46039f"
            ],
            [
             0.2222222222222222,
             "#7201a8"
            ],
            [
             0.3333333333333333,
             "#9c179e"
            ],
            [
             0.4444444444444444,
             "#bd3786"
            ],
            [
             0.5555555555555556,
             "#d8576b"
            ],
            [
             0.6666666666666666,
             "#ed7953"
            ],
            [
             0.7777777777777778,
             "#fb9f3a"
            ],
            [
             0.8888888888888888,
             "#fdca26"
            ],
            [
             1,
             "#f0f921"
            ]
           ],
           "sequentialminus": [
            [
             0,
             "#0d0887"
            ],
            [
             0.1111111111111111,
             "#46039f"
            ],
            [
             0.2222222222222222,
             "#7201a8"
            ],
            [
             0.3333333333333333,
             "#9c179e"
            ],
            [
             0.4444444444444444,
             "#bd3786"
            ],
            [
             0.5555555555555556,
             "#d8576b"
            ],
            [
             0.6666666666666666,
             "#ed7953"
            ],
            [
             0.7777777777777778,
             "#fb9f3a"
            ],
            [
             0.8888888888888888,
             "#fdca26"
            ],
            [
             1,
             "#f0f921"
            ]
           ]
          },
          "colorway": [
           "#636efa",
           "#EF553B",
           "#00cc96",
           "#ab63fa",
           "#FFA15A",
           "#19d3f3",
           "#FF6692",
           "#B6E880",
           "#FF97FF",
           "#FECB52"
          ],
          "font": {
           "color": "#2a3f5f"
          },
          "geo": {
           "bgcolor": "white",
           "lakecolor": "white",
           "landcolor": "#E5ECF6",
           "showlakes": true,
           "showland": true,
           "subunitcolor": "white"
          },
          "hoverlabel": {
           "align": "left"
          },
          "hovermode": "closest",
          "mapbox": {
           "style": "light"
          },
          "paper_bgcolor": "white",
          "plot_bgcolor": "#E5ECF6",
          "polar": {
           "angularaxis": {
            "gridcolor": "white",
            "linecolor": "white",
            "ticks": ""
           },
           "bgcolor": "#E5ECF6",
           "radialaxis": {
            "gridcolor": "white",
            "linecolor": "white",
            "ticks": ""
           }
          },
          "scene": {
           "xaxis": {
            "backgroundcolor": "#E5ECF6",
            "gridcolor": "white",
            "gridwidth": 2,
            "linecolor": "white",
            "showbackground": true,
            "ticks": "",
            "zerolinecolor": "white"
           },
           "yaxis": {
            "backgroundcolor": "#E5ECF6",
            "gridcolor": "white",
            "gridwidth": 2,
            "linecolor": "white",
            "showbackground": true,
            "ticks": "",
            "zerolinecolor": "white"
           },
           "zaxis": {
            "backgroundcolor": "#E5ECF6",
            "gridcolor": "white",
            "gridwidth": 2,
            "linecolor": "white",
            "showbackground": true,
            "ticks": "",
            "zerolinecolor": "white"
           }
          },
          "shapedefaults": {
           "line": {
            "color": "#2a3f5f"
           }
          },
          "ternary": {
           "aaxis": {
            "gridcolor": "white",
            "linecolor": "white",
            "ticks": ""
           },
           "baxis": {
            "gridcolor": "white",
            "linecolor": "white",
            "ticks": ""
           },
           "bgcolor": "#E5ECF6",
           "caxis": {
            "gridcolor": "white",
            "linecolor": "white",
            "ticks": ""
           }
          },
          "title": {
           "x": 0.05
          },
          "xaxis": {
           "automargin": true,
           "gridcolor": "white",
           "linecolor": "white",
           "ticks": "",
           "title": {
            "standoff": 15
           },
           "zerolinecolor": "white",
           "zerolinewidth": 2
          },
          "yaxis": {
           "automargin": true,
           "gridcolor": "white",
           "linecolor": "white",
           "ticks": "",
           "title": {
            "standoff": 15
           },
           "zerolinecolor": "white",
           "zerolinewidth": 2
          }
         }
        },
        "xaxis": {
         "anchor": "y",
         "domain": [
          0,
          1
         ],
         "title": {
          "text": "x"
         }
        },
        "yaxis": {
         "anchor": "x",
         "domain": [
          0,
          1
         ],
         "title": {
          "text": "y"
         }
        }
       }
      }
     },
     "metadata": {},
     "output_type": "display_data"
    }
   ],
   "source": [
    "import plotly.express as px\n",
    "fig = px.scatter(x=x, y=y)\n",
    "fig.show()"
   ]
  },
  {
   "cell_type": "markdown",
   "execution_count": null,
   "metadata": {},
   "outputs": [],
   "source": [
    "Также для сохранения графиков (как картинки, либо вывода в неинтерактивный режиме) необходимо прописать (в терминале): \n",
    "`conda install -c plotly plotly-orca psutil requests`\n",
    "\n",
    "После этого график можно отобразить в неинтерактивном режиме либо сохранить:"
   ]
  },
  {
   "cell_type": "code",
   "execution_count": 5,
   "metadata": {},
   "outputs": [
    {
     "data": {
      "image/png": "[encoded data removed]"
     },
     "metadata": {},
     "output_type": "display_data"
    }
   ],
   "source": [
    "fig.show(renderer=\"png\")"
   ]
  },
  {
   "cell_type": "markdown",
   "execution_count": null,
   "metadata": {},
   "outputs": [],
   "source": [
    "Как уже говорилось, plotly может работать в двух режимах, на примерах посмотрим разни\n",
    "\n",
    "#Построение оснонвых графиков\n",
    "## Scatter plot (Точечный график) \n",
    "\n",
    "Обычная задача возникающая на лабораторных работах:\n",
    "Имеется две серии данных (c погрешностями). Необходимо нанести их на один график и построить аппроксимирующие функции. Отметим, что Plotly-express работают с DataFrame. \n",
    "\n",
    "Создадим DataFrame, с двумя сериями. Столбец `type` отвечает за номер серии."
   ]
  },
  {
   "cell_type": "code",
   "execution_count": 6,
   "metadata": {},
   "outputs": [
    {
     "data": {
      "text/html": "<div>\n<style scoped>\n    .dataframe tbody tr th:only-of-type {\n        vertical-align: middle;\n    }\n\n    .dataframe tbody tr th {\n        vertical-align: top;\n    }\n\n    .dataframe thead th {\n        text-align: right;\n    }\n</style>\n<table border=\"1\" class=\"dataframe\">\n  <thead>\n    <tr style=\"text-align: right;\">\n      <th></th>\n      <th>x</th>\n      <th>y</th>\n      <th>type</th>\n      <th>err</th>\n    </tr>\n  </thead>\n  <tbody>\n    <tr>\n      <th>0</th>\n      <td>-1.330063</td>\n      <td>-7.330063</td>\n      <td>1</td>\n      <td>1.207495</td>\n    </tr>\n    <tr>\n      <th>1</th>\n      <td>-1.163396</td>\n      <td>-7.163396</td>\n      <td>1</td>\n      <td>0.637497</td>\n    </tr>\n    <tr>\n      <th>2</th>\n      <td>-0.996729</td>\n      <td>-6.996729</td>\n      <td>1</td>\n      <td>0.239883</td>\n    </tr>\n    <tr>\n      <th>3</th>\n      <td>-0.830063</td>\n      <td>-6.830063</td>\n      <td>1</td>\n      <td>0.910920</td>\n    </tr>\n    <tr>\n      <th>4</th>\n      <td>-0.663396</td>\n      <td>-6.663396</td>\n      <td>1</td>\n      <td>0.410565</td>\n    </tr>\n    <tr>\n      <th>5</th>\n      <td>-0.496729</td>\n      <td>-6.496729</td>\n      <td>1</td>\n      <td>0.658654</td>\n    </tr>\n    <tr>\n      <th>6</th>\n      <td>-0.330063</td>\n      <td>-6.330063</td>\n      <td>1</td>\n      <td>1.853500</td>\n    </tr>\n    <tr>\n      <th>7</th>\n      <td>-0.163396</td>\n      <td>-6.163396</td>\n      <td>1</td>\n      <td>0.583968</td>\n    </tr>\n    <tr>\n      <th>8</th>\n      <td>0.003271</td>\n      <td>-5.996729</td>\n      <td>1</td>\n      <td>1.428811</td>\n    </tr>\n    <tr>\n      <th>9</th>\n      <td>0.169937</td>\n      <td>-5.830063</td>\n      <td>1</td>\n      <td>1.530365</td>\n    </tr>\n    <tr>\n      <th>10</th>\n      <td>0.336604</td>\n      <td>-5.663396</td>\n      <td>1</td>\n      <td>0.047446</td>\n    </tr>\n    <tr>\n      <th>11</th>\n      <td>0.503271</td>\n      <td>-5.496729</td>\n      <td>1</td>\n      <td>0.491534</td>\n    </tr>\n    <tr>\n      <th>12</th>\n      <td>0.669937</td>\n      <td>-5.330063</td>\n      <td>1</td>\n      <td>1.142498</td>\n    </tr>\n    <tr>\n      <th>13</th>\n      <td>0.836604</td>\n      <td>-5.163396</td>\n      <td>1</td>\n      <td>1.375684</td>\n    </tr>\n    <tr>\n      <th>14</th>\n      <td>1.003271</td>\n      <td>-4.996729</td>\n      <td>1</td>\n      <td>1.274607</td>\n    </tr>\n    <tr>\n      <th>15</th>\n      <td>1.169937</td>\n      <td>-4.830063</td>\n      <td>1</td>\n      <td>1.622654</td>\n    </tr>\n    <tr>\n      <th>16</th>\n      <td>1.336604</td>\n      <td>-4.663396</td>\n      <td>1</td>\n      <td>0.701111</td>\n    </tr>\n    <tr>\n      <th>17</th>\n      <td>1.503271</td>\n      <td>-4.496729</td>\n      <td>1</td>\n      <td>1.335087</td>\n    </tr>\n    <tr>\n      <th>18</th>\n      <td>1.669937</td>\n      <td>-4.330063</td>\n      <td>1</td>\n      <td>1.941865</td>\n    </tr>\n    <tr>\n      <th>19</th>\n      <td>1.836604</td>\n      <td>-4.163396</td>\n      <td>1</td>\n      <td>0.432325</td>\n    </tr>\n    <tr>\n      <th>20</th>\n      <td>2.003271</td>\n      <td>-3.996729</td>\n      <td>1</td>\n      <td>0.712237</td>\n    </tr>\n    <tr>\n      <th>21</th>\n      <td>2.169937</td>\n      <td>-3.830063</td>\n      <td>1</td>\n      <td>1.389012</td>\n    </tr>\n    <tr>\n      <th>22</th>\n      <td>2.336604</td>\n      <td>-3.663396</td>\n      <td>1</td>\n      <td>1.064173</td>\n    </tr>\n    <tr>\n      <th>23</th>\n      <td>2.503271</td>\n      <td>-3.496729</td>\n      <td>1</td>\n      <td>1.733226</td>\n    </tr>\n    <tr>\n      <th>24</th>\n      <td>2.669937</td>\n      <td>-3.330063</td>\n      <td>1</td>\n      <td>1.373882</td>\n    </tr>\n    <tr>\n      <th>25</th>\n      <td>-2.210888</td>\n      <td>-7.806882</td>\n      <td>2</td>\n      <td>1.669277</td>\n    </tr>\n    <tr>\n      <th>26</th>\n      <td>-1.960888</td>\n      <td>-4.539778</td>\n      <td>2</td>\n      <td>0.714138</td>\n    </tr>\n    <tr>\n      <th>27</th>\n      <td>-1.710888</td>\n      <td>-2.008008</td>\n      <td>2</td>\n      <td>1.102222</td>\n    </tr>\n    <tr>\n      <th>28</th>\n      <td>-1.460888</td>\n      <td>-0.117820</td>\n      <td>2</td>\n      <td>0.761423</td>\n    </tr>\n    <tr>\n      <th>29</th>\n      <td>-1.210888</td>\n      <td>1.224534</td>\n      <td>2</td>\n      <td>0.069558</td>\n    </tr>\n    <tr>\n      <th>30</th>\n      <td>-0.960888</td>\n      <td>2.112806</td>\n      <td>2</td>\n      <td>1.660295</td>\n    </tr>\n    <tr>\n      <th>31</th>\n      <td>-0.710888</td>\n      <td>2.640744</td>\n      <td>2</td>\n      <td>0.314234</td>\n    </tr>\n    <tr>\n      <th>32</th>\n      <td>-0.460888</td>\n      <td>2.902099</td>\n      <td>2</td>\n      <td>1.242435</td>\n    </tr>\n    <tr>\n      <th>33</th>\n      <td>-0.210888</td>\n      <td>2.990621</td>\n      <td>2</td>\n      <td>0.478712</td>\n    </tr>\n    <tr>\n      <th>34</th>\n      <td>0.039112</td>\n      <td>3.000060</td>\n      <td>2</td>\n      <td>0.746744</td>\n    </tr>\n    <tr>\n      <th>35</th>\n      <td>0.289112</td>\n      <td>3.024166</td>\n      <td>2</td>\n      <td>0.517035</td>\n    </tr>\n    <tr>\n      <th>36</th>\n      <td>0.539112</td>\n      <td>3.156688</td>\n      <td>2</td>\n      <td>0.134908</td>\n    </tr>\n    <tr>\n      <th>37</th>\n      <td>0.789112</td>\n      <td>3.491378</td>\n      <td>2</td>\n      <td>1.728199</td>\n    </tr>\n    <tr>\n      <th>38</th>\n      <td>1.039112</td>\n      <td>4.121984</td>\n      <td>2</td>\n      <td>1.061079</td>\n    </tr>\n    <tr>\n      <th>39</th>\n      <td>1.289112</td>\n      <td>5.142257</td>\n      <td>2</td>\n      <td>0.791841</td>\n    </tr>\n    <tr>\n      <th>40</th>\n      <td>1.539112</td>\n      <td>6.645947</td>\n      <td>2</td>\n      <td>0.981505</td>\n    </tr>\n    <tr>\n      <th>41</th>\n      <td>1.789112</td>\n      <td>8.726804</td>\n      <td>2</td>\n      <td>0.133594</td>\n    </tr>\n    <tr>\n      <th>42</th>\n      <td>2.039112</td>\n      <td>11.478578</td>\n      <td>2</td>\n      <td>0.472211</td>\n    </tr>\n    <tr>\n      <th>43</th>\n      <td>2.289112</td>\n      <td>14.995019</td>\n      <td>2</td>\n      <td>1.301412</td>\n    </tr>\n    <tr>\n      <th>44</th>\n      <td>2.539112</td>\n      <td>19.369877</td>\n      <td>2</td>\n      <td>1.474715</td>\n    </tr>\n    <tr>\n      <th>45</th>\n      <td>2.789112</td>\n      <td>24.696901</td>\n      <td>2</td>\n      <td>1.475723</td>\n    </tr>\n    <tr>\n      <th>46</th>\n      <td>3.039112</td>\n      <td>31.069842</td>\n      <td>2</td>\n      <td>1.952059</td>\n    </tr>\n    <tr>\n      <th>47</th>\n      <td>3.289112</td>\n      <td>38.582451</td>\n      <td>2</td>\n      <td>1.302618</td>\n    </tr>\n    <tr>\n      <th>48</th>\n      <td>3.539112</td>\n      <td>47.328476</td>\n      <td>2</td>\n      <td>0.297598</td>\n    </tr>\n    <tr>\n      <th>49</th>\n      <td>3.789112</td>\n      <td>57.401668</td>\n      <td>2</td>\n      <td>0.643895</td>\n    </tr>\n  </tbody>\n</table>\n</div>",
      "text/plain": "           x          y type       err\n0  -1.330063  -7.330063    1  1.207495\n1  -1.163396  -7.163396    1  0.637497\n2  -0.996729  -6.996729    1  0.239883\n3  -0.830063  -6.830063    1  0.910920\n4  -0.663396  -6.663396    1  0.410565\n5  -0.496729  -6.496729    1  0.658654\n6  -0.330063  -6.330063    1  1.853500\n7  -0.163396  -6.163396    1  0.583968\n8   0.003271  -5.996729    1  1.428811\n9   0.169937  -5.830063    1  1.530365\n10  0.336604  -5.663396    1  0.047446\n11  0.503271  -5.496729    1  0.491534\n12  0.669937  -5.330063    1  1.142498\n13  0.836604  -5.163396    1  1.375684\n14  1.003271  -4.996729    1  1.274607\n15  1.169937  -4.830063    1  1.622654\n16  1.336604  -4.663396    1  0.701111\n17  1.503271  -4.496729    1  1.335087\n18  1.669937  -4.330063    1  1.941865\n19  1.836604  -4.163396    1  0.432325\n20  2.003271  -3.996729    1  0.712237\n21  2.169937  -3.830063    1  1.389012\n22  2.336604  -3.663396    1  1.064173\n23  2.503271  -3.496729    1  1.733226\n24  2.669937  -3.330063    1  1.373882\n25 -2.210888  -7.806882    2  1.669277\n26 -1.960888  -4.539778    2  0.714138\n27 -1.710888  -2.008008    2  1.102222\n28 -1.460888  -0.117820    2  0.761423\n29 -1.210888   1.224534    2  0.069558\n30 -0.960888   2.112806    2  1.660295\n31 -0.710888   2.640744    2  0.314234\n32 -0.460888   2.902099    2  1.242435\n33 -0.210888   2.990621    2  0.478712\n34  0.039112   3.000060    2  0.746744\n35  0.289112   3.024166    2  0.517035\n36  0.539112   3.156688    2  0.134908\n37  0.789112   3.491378    2  1.728199\n38  1.039112   4.121984    2  1.061079\n39  1.289112   5.142257    2  0.791841\n40  1.539112   6.645947    2  0.981505\n41  1.789112   8.726804    2  0.133594\n42  2.039112  11.478578    2  0.472211\n43  2.289112  14.995019    2  1.301412\n44  2.539112  19.369877    2  1.474715\n45  2.789112  24.696901    2  1.475723\n46  3.039112  31.069842    2  1.952059\n47  3.289112  38.582451    2  1.302618\n48  3.539112  47.328476    2  0.297598\n49  3.789112  57.401668    2  0.643895"
     },
     "execution_count": 6,
     "metadata": {},
     "output_type": "execute_result"
    }
   ],
   "source": [
    "x1 = np.linspace(-2,2 ,25) + np.random.randn()\n",
    "x2 = np.linspace(-3,3 ,25) + np.random.randn()\n",
    "e = np.random.sample(50)*2\n",
    "\n",
    "y1 = x1 - 6\n",
    "y2 = np.power(x2, 3) + 3\n",
    "data = pd.DataFrame({'x':np.append(x1,x2),'y':np.append(y1,y2),'type':np.repeat(['1','2'], 25),'err':e})\n",
    "data"
   ]
  },
  {
   "cell_type": "markdown",
   "execution_count": null,
   "metadata": {},
   "outputs": [],
   "source": [
    "### Plotly Express\n"
   ]
  },
  {
   "cell_type": "code",
   "execution_count": 7,
   "metadata": {},
   "outputs": [
    {
     "data": {
      "application/vnd.plotly.v1+json": {
       "config": {
        "plotlyServerURL": "https://plot.ly"
       },
       "data": [
        {
         "error_y": {
          "array": [
           1.2074951899974269,
           0.6374972062199398,
           0.2398829654708594,
           0.9109204370647539,
           0.4105652124459842,
           0.658654487378804,
           1.8535003726789978,
           0.583967702239024,
           1.4288111395618406,
           1.5303654347885585,
           0.04744595962890541,
           0.49153377070991144,
           1.1424981401289254,
           1.3756844732070015,
           1.2746068577228113,
           1.6226544880879703,
           0.7011106147408332,
           1.33508725121823,
           1.9418650453944977,
           0.43232548813210725,
           0.7122373878127366,
           1.3890120386952585,
           1.0641728854407708,
           1.7332259176276068,
           1.3738820551275206
          ]
         },
         "hoverlabel": {
          "namelength": 0
         },
         "hovertemplate": "type=1<br>x=%{x}<br>y=%{y}",
         "legendgroup": "type=1",
         "marker": {
          "color": "#636efa",
          "symbol": "circle"
         },
         "mode": "markers",
         "name": "type=1",
         "showlegend": true,
         "type": "scatter",
         "x": [
          -1.3300626229143067,
          -1.16339595624764,
          -0.9967292895809734,
          -0.8300626229143067,
          -0.6633959562476401,
          -0.4967292895809734,
          -0.33006262291430666,
          -0.16339595624764014,
          0.003270710419026601,
          0.16993737708569334,
          0.33660404375235986,
          0.5032707104190266,
          0.6699373770856933,
          0.8366040437523599,
          1.0032707104190264,
          1.1699373770856933,
          1.3366040437523599,
          1.5032707104190264,
          1.6699373770856933,
          1.8366040437523599,
          2.0032707104190264,
          2.1699373770856933,
          2.33660404375236,
          2.5032707104190264,
          2.6699373770856933
         ],
         "xaxis": "x",
         "y": [
          -7.330062622914307,
          -7.16339595624764,
          -6.996729289580974,
          -6.830062622914307,
          -6.663395956247641,
          -6.496729289580974,
          -6.330062622914307,
          -6.163395956247641,
          -5.996729289580974,
          -5.830062622914307,
          -5.663395956247641,
          -5.496729289580974,
          -5.330062622914307,
          -5.163395956247641,
          -4.996729289580974,
          -4.830062622914307,
          -4.663395956247641,
          -4.496729289580974,
          -4.330062622914307,
          -4.163395956247641,
          -3.9967292895809736,
          -3.8300626229143067,
          -3.66339595624764,
          -3.4967292895809736,
          -3.3300626229143067
         ],
         "yaxis": "y"
        },
        {
         "hoverlabel": {
          "namelength": 0
         },
         "hovertemplate": "<b>OLS trendline</b><br>y = 1.000000 * x + -6.000000<br>R<sup>2</sup>=1.000000<br><br>type=1<br>x=%{x}<br>y=%{y} <b>(trend)</b>",
         "legendgroup": "type=1",
         "marker": {
          "color": "#636efa",
          "symbol": "circle"
         },
         "mode": "lines",
         "name": "type=1",
         "showlegend": false,
         "type": "scatter",
         "x": [
          -1.3300626229143067,
          -1.16339595624764,
          -0.9967292895809734,
          -0.8300626229143067,
          -0.6633959562476401,
          -0.4967292895809734,
          -0.33006262291430666,
          -0.16339595624764014,
          0.003270710419026601,
          0.16993737708569334,
          0.33660404375235986,
          0.5032707104190266,
          0.6699373770856933,
          0.8366040437523599,
          1.0032707104190264,
          1.1699373770856933,
          1.3366040437523599,
          1.5032707104190264,
          1.6699373770856933,
          1.8366040437523599,
          2.0032707104190264,
          2.1699373770856933,
          2.33660404375236,
          2.5032707104190264,
          2.6699373770856933
         ],
         "xaxis": "x",
         "y": [
          -7.3300626229143075,
          -7.163395956247641,
          -6.9967292895809745,
          -6.8300626229143075,
          -6.663395956247641,
          -6.496729289580974,
          -6.330062622914307,
          -6.163395956247641,
          -5.996729289580974,
          -5.830062622914307,
          -5.66339595624764,
          -5.496729289580973,
          -5.330062622914306,
          -5.16339595624764,
          -4.996729289580973,
          -4.830062622914306,
          -4.663395956247639,
          -4.496729289580973,
          -4.330062622914305,
          -4.163395956247639,
          -3.996729289580972,
          -3.830062622914305,
          -3.663395956247638,
          -3.4967292895809714,
          -3.3300626229143044
         ],
         "yaxis": "y"
        },
        {
         "error_y": {
          "array": [
           1.6692766760918971,
           0.7141376749207264,
           1.1022215661932473,
           0.761423286045346,
           0.06955800974323867,
           1.6602946319427785,
           0.31423356565724636,
           1.2424348117924062,
           0.47871210501284955,
           0.7467435780764047,
           0.5170349609038583,
           0.13490766646634667,
           1.7281986743137456,
           1.061078513502215,
           0.7918413431508646,
           0.9815045045307431,
           0.13359420228244168,
           0.47221149523507133,
           1.3014116841012096,
           1.4747145751964763,
           1.4757225621292742,
           1.9520590442360473,
           1.3026183362746946,
           0.2975978661472911,
           0.6438947213457877
          ]
         },
         "hoverlabel": {
          "namelength": 0
         },
         "hovertemplate": "type=2<br>x=%{x}<br>y=%{y}",
         "legendgroup": "type=2",
         "marker": {
          "color": "#EF553B",
          "symbol": "circle"
         },
         "mode": "markers",
         "name": "type=2",
         "showlegend": true,
         "type": "scatter",
         "x": [
          -2.2108883314373218,
          -1.960888331437322,
          -1.710888331437322,
          -1.460888331437322,
          -1.210888331437322,
          -0.960888331437322,
          -0.710888331437322,
          -0.460888331437322,
          -0.210888331437322,
          0.039111668562678004,
          0.289111668562678,
          0.539111668562678,
          0.789111668562678,
          1.039111668562678,
          1.289111668562678,
          1.539111668562678,
          1.789111668562678,
          2.0391116685626782,
          2.2891116685626782,
          2.5391116685626782,
          2.7891116685626782,
          3.0391116685626782,
          3.2891116685626782,
          3.5391116685626782,
          3.7891116685626782
         ],
         "xaxis": "x",
         "y": [
          -7.806882331370165,
          -4.539778482950386,
          -2.0080077588196,
          -0.11782015897781051,
          1.2245343165749838,
          2.1128056678387823,
          2.640743894813585,
          2.902098997499392,
          2.9906209758962032,
          3.0000598300040187,
          3.0241655598228383,
          3.156688165352662,
          3.4913776465934903,
          4.121984003545323,
          5.1422572362081596,
          6.645947344582001,
          8.726804328666846,
          11.478578188462699,
          14.995018923969553,
          19.369876535187412,
          24.696901022116275,
          31.069842384756143,
          38.582450623107015,
          47.32847573716889,
          57.40166772694177
         ],
         "yaxis": "y"
        },
        {
         "hoverlabel": {
          "namelength": 0
         },
         "hovertemplate": "<b>OLS trendline</b><br>y = 7.705592 * x + 5.104644<br>R<sup>2</sup>=0.739601<br><br>type=2<br>x=%{x}<br>y=%{y} <b>(trend)</b>",
         "legendgroup": "type=2",
         "marker": {
          "color": "#EF553B",
          "symbol": "circle"
         },
         "mode": "lines",
         "name": "type=2",
         "showlegend": false,
         "type": "scatter",
         "x": [
          -2.2108883314373218,
          -1.960888331437322,
          -1.710888331437322,
          -1.460888331437322,
          -1.210888331437322,
          -0.960888331437322,
          -0.710888331437322,
          -0.460888331437322,
          -0.210888331437322,
          0.039111668562678004,
          0.289111668562678,
          0.539111668562678,
          0.789111668562678,
          1.039111668562678,
          1.289111668562678,
          1.539111668562678,
          1.789111668562678,
          2.0391116685626782,
          2.2891116685626782,
          2.5391116685626782,
          2.7891116685626782,
          3.0391116685626782,
          3.2891116685626782,
          3.5391116685626782,
          3.7891116685626782
         ],
         "xaxis": "x",
         "y": [
          -11.931558614076362,
          -10.005160694980034,
          -8.078762775883703,
          -6.152364856787373,
          -4.225966937691042,
          -2.2995690185947115,
          -0.37317109949838123,
          1.5532268195979495,
          3.4796247386942802,
          5.4060226577906105,
          7.332420576886941,
          9.258818495983272,
          11.185216415079601,
          13.111614334175933,
          15.038012253272264,
          16.964410172368595,
          18.890808091464923,
          20.817206010561257,
          22.74360392965759,
          24.67000184875392,
          26.596399767850247,
          28.52279768694658,
          30.44919560604291,
          32.37559352513924,
          34.30199144423557
         ],
         "yaxis": "y"
        }
       ],
       "layout": {
        "legend": {
         "tracegroupgap": 0
        },
        "template": {
         "data": {
          "bar": [
           {
            "error_x": {
             "color": "#2a3f5f"
            },
            "error_y": {
             "color": "#2a3f5f"
            },
            "marker": {
             "line": {
              "color": "#E5ECF6",
              "width": 0.5
             }
            },
            "type": "bar"
           }
          ],
          "barpolar": [
           {
            "marker": {
             "line": {
              "color": "#E5ECF6",
              "width": 0.5
             }
            },
            "type": "barpolar"
           }
          ],
          "carpet": [
           {
            "aaxis": {
             "endlinecolor": "#2a3f5f",
             "gridcolor": "white",
             "linecolor": "white",
             "minorgridcolor": "white",
             "startlinecolor": "#2a3f5f"
            },
            "baxis": {
             "endlinecolor": "#2a3f5f",
             "gridcolor": "white",
             "linecolor": "white",
             "minorgridcolor": "white",
             "startlinecolor": "#2a3f5f"
            },
            "type": "carpet"
           }
          ],
          "choropleth": [
           {
            "colorbar": {
             "outlinewidth": 0,
             "ticks": ""
            },
            "type": "choropleth"
           }
          ],
          "contour": [
           {
            "colorbar": {
             "outlinewidth": 0,
             "ticks": ""
            },
            "colorscale": [
             [
              0,
              "#0d0887"
             ],
             [
              0.1111111111111111,
              "#46039f"
             ],
             [
              0.2222222222222222,
              "#7201a8"
             ],
             [
              0.3333333333333333,
              "#9c179e"
             ],
             [
              0.4444444444444444,
              "#bd3786"
             ],
             [
              0.5555555555555556,
              "#d8576b"
             ],
             [
              0.6666666666666666,
              "#ed7953"
             ],
             [
              0.7777777777777778,
              "#fb9f3a"
             ],
             [
              0.8888888888888888,
              "#fdca26"
             ],
             [
              1,
              "#f0f921"
             ]
            ],
            "type": "contour"
           }
          ],
          "contourcarpet": [
           {
            "colorbar": {
             "outlinewidth": 0,
             "ticks": ""
            },
            "type": "contourcarpet"
           }
          ],
          "heatmap": [
           {
            "colorbar": {
             "outlinewidth": 0,
             "ticks": ""
            },
            "colorscale": [
             [
              0,
              "#0d0887"
             ],
             [
              0.1111111111111111,
              "#46039f"
             ],
             [
              0.2222222222222222,
              "#7201a8"
             ],
             [
              0.3333333333333333,
              "#9c179e"
             ],
             [
              0.4444444444444444,
              "#bd3786"
             ],
             [
              0.5555555555555556,
              "#d8576b"
             ],
             [
              0.6666666666666666,
              "#ed7953"
             ],
             [
              0.7777777777777778,
              "#fb9f3a"
             ],
             [
              0.8888888888888888,
              "#fdca26"
             ],
             [
              1,
              "#f0f921"
             ]
            ],
            "type": "heatmap"
           }
          ],
          "heatmapgl": [
           {
            "colorbar": {
             "outlinewidth": 0,
             "ticks": ""
            },
            "colorscale": [
             [
              0,
              "#0d0887"
             ],
             [
              0.1111111111111111,
              "#46039f"
             ],
             [
              0.2222222222222222,
              "#7201a8"
             ],
             [
              0.3333333333333333,
              "#9c179e"
             ],
             [
              0.4444444444444444,
              "#bd3786"
             ],
             [
              0.5555555555555556,
              "#d8576b"
             ],
             [
              0.6666666666666666,
              "#ed7953"
             ],
             [
              0.7777777777777778,
              "#fb9f3a"
             ],
             [
              0.8888888888888888,
              "#fdca26"
             ],
             [
              1,
              "#f0f921"
             ]
            ],
            "type": "heatmapgl"
           }
          ],
          "histogram": [
           {
            "marker": {
             "colorbar": {
              "outlinewidth": 0,
              "ticks": ""
             }
            },
            "type": "histogram"
           }
          ],
          "histogram2d": [
           {
            "colorbar": {
             "outlinewidth": 0,
             "ticks": ""
            },
            "colorscale": [
             [
              0,
              "#0d0887"
             ],
             [
              0.1111111111111111,
              "#46039f"
             ],
             [
              0.2222222222222222,
              "#7201a8"
             ],
             [
              0.3333333333333333,
              "#9c179e"
             ],
             [
              0.4444444444444444,
              "#bd3786"
             ],
             [
              0.5555555555555556,
              "#d8576b"
             ],
             [
              0.6666666666666666,
              "#ed7953"
             ],
             [
              0.7777777777777778,
              "#fb9f3a"
             ],
             [
              0.8888888888888888,
              "#fdca26"
             ],
             [
              1,
              "#f0f921"
             ]
            ],
            "type": "histogram2d"
           }
          ],
          "histogram2dcontour": [
           {
            "colorbar": {
             "outlinewidth": 0,
             "ticks": ""
            },
            "colorscale": [
             [
              0,
              "#0d0887"
             ],
             [
              0.1111111111111111,
              "#46039f"
             ],
             [
              0.2222222222222222,
              "#7201a8"
             ],
             [
              0.3333333333333333,
              "#9c179e"
             ],
             [
              0.4444444444444444,
              "#bd3786"
             ],
             [
              0.5555555555555556,
              "#d8576b"
             ],
             [
              0.6666666666666666,
              "#ed7953"
             ],
             [
              0.7777777777777778,
              "#fb9f3a"
             ],
             [
              0.8888888888888888,
              "#fdca26"
             ],
             [
              1,
              "#f0f921"
             ]
            ],
            "type": "histogram2dcontour"
           }
          ],
          "mesh3d": [
           {
            "colorbar": {
             "outlinewidth": 0,
             "ticks": ""
            },
            "type": "mesh3d"
           }
          ],
          "parcoords": [
           {
            "line": {
             "colorbar": {
              "outlinewidth": 0,
              "ticks": ""
             }
            },
            "type": "parcoords"
           }
          ],
          "pie": [
           {
            "automargin": true,
            "type": "pie"
           }
          ],
          "scatter": [
           {
            "marker": {
             "colorbar": {
              "outlinewidth": 0,
              "ticks": ""
             }
            },
            "type": "scatter"
           }
          ],
          "scatter3d": [
           {
            "line": {
             "colorbar": {
              "outlinewidth": 0,
              "ticks": ""
             }
            },
            "marker": {
             "colorbar": {
              "outlinewidth": 0,
              "ticks": ""
             }
            },
            "type": "scatter3d"
           }
          ],
          "scattercarpet": [
           {
            "marker": {
             "colorbar": {
              "outlinewidth": 0,
              "ticks": ""
             }
            },
            "type": "scattercarpet"
           }
          ],
          "scattergeo": [
           {
            "marker": {
             "colorbar": {
              "outlinewidth": 0,
              "ticks": ""
             }
            },
            "type": "scattergeo"
           }
          ],
          "scattergl": [
           {
            "marker": {
             "colorbar": {
              "outlinewidth": 0,
              "ticks": ""
             }
            },
            "type": "scattergl"
           }
          ],
          "scattermapbox": [
           {
            "marker": {
             "colorbar": {
              "outlinewidth": 0,
              "ticks": ""
             }
            },
            "type": "scattermapbox"
           }
          ],
          "scatterpolar": [
           {
            "marker": {
             "colorbar": {
              "outlinewidth": 0,
              "ticks": ""
             }
            },
            "type": "scatterpolar"
           }
          ],
          "scatterpolargl": [
           {
            "marker": {
             "colorbar": {
              "outlinewidth": 0,
              "ticks": ""
             }
            },
            "type": "scatterpolargl"
           }
          ],
          "scatterternary": [
           {
            "marker": {
             "colorbar": {
              "outlinewidth": 0,
              "ticks": ""
             }
            },
            "type": "scatterternary"
           }
          ],
          "surface": [
           {
            "colorbar": {
             "outlinewidth": 0,
             "ticks": ""
            },
            "colorscale": [
             [
              0,
              "#0d0887"
             ],
             [
              0.1111111111111111,
              "#46039f"
             ],
             [
              0.2222222222222222,
              "#7201a8"
             ],
             [
              0.3333333333333333,
              "#9c179e"
             ],
             [
              0.4444444444444444,
              "#bd3786"
             ],
             [
              0.5555555555555556,
              "#d8576b"
             ],
             [
              0.6666666666666666,
              "#ed7953"
             ],
             [
              0.7777777777777778,
              "#fb9f3a"
             ],
             [
              0.8888888888888888,
              "#fdca26"
             ],
             [
              1,
              "#f0f921"
             ]
            ],
            "type": "surface"
           }
          ],
          "table": [
           {
            "cells": {
             "fill": {
              "color": "#EBF0F8"
             },
             "line": {
              "color": "white"
             }
            },
            "header": {
             "fill": {
              "color": "#C8D4E3"
             },
             "line": {
              "color": "white"
             }
            },
            "type": "table"
           }
          ]
         },
         "layout": {
          "annotationdefaults": {
           "arrowcolor": "#2a3f5f",
           "arrowhead": 0,
           "arrowwidth": 1
          },
          "coloraxis": {
           "colorbar": {
            "outlinewidth": 0,
            "ticks": ""
           }
          },
          "colorscale": {
           "diverging": [
            [
             0,
             "#8e0152"
            ],
            [
             0.1,
             "#c51b7d"
            ],
            [
             0.2,
             "#de77ae"
            ],
            [
             0.3,
             "#f1b6da"
            ],
            [
             0.4,
             "#fde0ef"
            ],
            [
             0.5,
             "#f7f7f7"
            ],
            [
             0.6,
             "#e6f5d0"
            ],
            [
             0.7,
             "#b8e186"
            ],
            [
             0.8,
             "#7fbc41"
            ],
            [
             0.9,
             "#4d9221"
            ],
            [
             1,
             "#276419"
            ]
           ],
           "sequential": [
            [
             0,
             "#0d0887"
            ],
            [
             0.1111111111111111,
             "#46039f"
            ],
            [
             0.2222222222222222,
             "#7201a8"
            ],
            [
             0.3333333333333333,
             "#9c179e"
            ],
            [
             0.4444444444444444,
             "#bd3786"
            ],
            [
             0.5555555555555556,
             "#d8576b"
            ],
            [
             0.6666666666666666,
             "#ed7953"
            ],
            [
             0.7777777777777778,
             "#fb9f3a"
            ],
            [
             0.8888888888888888,
             "#fdca26"
            ],
            [
             1,
             "#f0f921"
            ]
           ],
           "sequentialminus": [
            [
             0,
             "#0d0887"
            ],
            [
             0.1111111111111111,
             "#46039f"
            ],
            [
             0.2222222222222222,
             "#7201a8"
            ],
            [
             0.3333333333333333,
             "#9c179e"
            ],
            [
             0.4444444444444444,
             "#bd3786"
            ],
            [
             0.5555555555555556,
             "#d8576b"
            ],
            [
             0.6666666666666666,
             "#ed7953"
            ],
            [
             0.7777777777777778,
             "#fb9f3a"
            ],
            [
             0.8888888888888888,
             "#fdca26"
            ],
            [
             1,
             "#f0f921"
            ]
           ]
          },
          "colorway": [
           "#636efa",
           "#EF553B",
           "#00cc96",
           "#ab63fa",
           "#FFA15A",
           "#19d3f3",
           "#FF6692",
           "#B6E880",
           "#FF97FF",
           "#FECB52"
          ],
          "font": {
           "color": "#2a3f5f"
          },
          "geo": {
           "bgcolor": "white",
           "lakecolor": "white",
           "landcolor": "#E5ECF6",
           "showlakes": true,
           "showland": true,
           "subunitcolor": "white"
          },
          "hoverlabel": {
           "align": "left"
          },
          "hovermode": "closest",
          "mapbox": {
           "style": "light"
          },
          "paper_bgcolor": "white",
          "plot_bgcolor": "#E5ECF6",
          "polar": {
           "angularaxis": {
            "gridcolor": "white",
            "linecolor": "white",
            "ticks": ""
           },
           "bgcolor": "#E5ECF6",
           "radialaxis": {
            "gridcolor": "white",
            "linecolor": "white",
            "ticks": ""
           }
          },
          "scene": {
           "xaxis": {
            "backgroundcolor": "#E5ECF6",
            "gridcolor": "white",
            "gridwidth": 2,
            "linecolor": "white",
            "showbackground": true,
            "ticks": "",
            "zerolinecolor": "white"
           },
           "yaxis": {
            "backgroundcolor": "#E5ECF6",
            "gridcolor": "white",
            "gridwidth": 2,
            "linecolor": "white",
            "showbackground": true,
            "ticks": "",
            "zerolinecolor": "white"
           },
           "zaxis": {
            "backgroundcolor": "#E5ECF6",
            "gridcolor": "white",
            "gridwidth": 2,
            "linecolor": "white",
            "showbackground": true,
            "ticks": "",
            "zerolinecolor": "white"
           }
          },
          "shapedefaults": {
           "line": {
            "color": "#2a3f5f"
           }
          },
          "ternary": {
           "aaxis": {
            "gridcolor": "white",
            "linecolor": "white",
            "ticks": ""
           },
           "baxis": {
            "gridcolor": "white",
            "linecolor": "white",
            "ticks": ""
           },
           "bgcolor": "#E5ECF6",
           "caxis": {
            "gridcolor": "white",
            "linecolor": "white",
            "ticks": ""
           }
          },
          "title": {
           "x": 0.05
          },
          "xaxis": {
           "automargin": true,
           "gridcolor": "white",
           "linecolor": "white",
           "ticks": "",
           "title": {
            "standoff": 15
           },
           "zerolinecolor": "white",
           "zerolinewidth": 2
          },
          "yaxis": {
           "automargin": true,
           "gridcolor": "white",
           "linecolor": "white",
           "ticks": "",
           "title": {
            "standoff": 15
           },
           "zerolinecolor": "white",
           "zerolinewidth": 2
          }
         }
        },
        "title": {
         "text": "example_1"
        },
        "xaxis": {
         "anchor": "y",
         "domain": [
          0,
          1
         ],
         "title": {
          "text": "x"
         }
        },
        "yaxis": {
         "anchor": "x",
         "domain": [
          0,
          1
         ],
         "title": {
          "text": "y"
         }
        }
       }
      }
     },
     "metadata": {},
     "output_type": "display_data"
    }
   ],
   "source": [
    "fig = px.scatter(data,x='x', y='y', color=\"type\",error_y='err', title = 'example_1', trendline = 'ols')\n",
    "fig.show()"
   ]
  },
  {
   "cell_type": "markdown",
   "execution_count": 76,
   "metadata": {},
   "outputs": [
    {
     "ename": "SyntaxError",
     "evalue": "invalid syntax (<ipython-input-76-8693776cf515>, line 1)",
     "output_type": "error",
     "traceback": [
      "\u001b[0;36m  File \u001b[0;32m\"<ipython-input-76-8693776cf515>\"\u001b[0;36m, line \u001b[0;32m1\u001b[0m\n\u001b[0;31m    Пояснение к примеру\u001b[0m\n\u001b[0m              ^\u001b[0m\n\u001b[0;31mSyntaxError\u001b[0m\u001b[0;31m:\u001b[0m invalid syntax\n"
     ]
    }
   ],
   "source": [
    "Пояснение к примеру:\n",
    "\n",
    "1. `data` - текущий data frame с которым мы рабоатем.\n",
    "2. `x,y` - данные, которые мы строим. Можно,как указать названия столбцов текущего Data frame, так и указать Series или Array\n",
    "3. `color` - название колонки, по которой разделеть данные на категории, в нашем это 1,2 (обратите внимание, что как строки). Аналогично работает symbol (только разные категории, отилчаются разными символами) \n",
    "4. `title` - название графика\n",
    "5. `trendline` - апроксимация, значение аргумента - метод апроксимации.\n",
    "\n",
    "[Более подробно](https://plot.ly/python-api-reference/generated/plotly.express.scatter.html#plotly.express.scatter)\n",
    "\n"
   ]
  },
  {
   "cell_type": "markdown",
   "execution_count": null,
   "metadata": {},
   "outputs": [],
   "source": [
    "### Полный вид\n",
    "Построем то же, самоое через полную версию.\n",
    "\n"
   ]
  },
  {
   "cell_type": "code",
   "execution_count": 8,
   "metadata": {},
   "outputs": [
    {
     "data": {
      "application/vnd.plotly.v1+json": {
       "config": {
        "plotlyServerURL": "https://plot.ly"
       },
       "data": [
        {
         "mode": "markers",
         "name": "x",
         "type": "scatter",
         "x": [
          -1.3300626229143067,
          -1.16339595624764,
          -0.9967292895809734,
          -0.8300626229143067,
          -0.6633959562476401,
          -0.4967292895809734,
          -0.33006262291430666,
          -0.16339595624764014,
          0.003270710419026601,
          0.16993737708569334,
          0.33660404375235986,
          0.5032707104190266,
          0.6699373770856933,
          0.8366040437523599,
          1.0032707104190264,
          1.1699373770856933,
          1.3366040437523599,
          1.5032707104190264,
          1.6699373770856933,
          1.8366040437523599,
          2.0032707104190264,
          2.1699373770856933,
          2.33660404375236,
          2.5032707104190264,
          2.6699373770856933
         ],
         "y": [
          -7.330062622914307,
          -7.16339595624764,
          -6.996729289580974,
          -6.830062622914307,
          -6.663395956247641,
          -6.496729289580974,
          -6.330062622914307,
          -6.163395956247641,
          -5.996729289580974,
          -5.830062622914307,
          -5.663395956247641,
          -5.496729289580974,
          -5.330062622914307,
          -5.163395956247641,
          -4.996729289580974,
          -4.830062622914307,
          -4.663395956247641,
          -4.496729289580974,
          -4.330062622914307,
          -4.163395956247641,
          -3.9967292895809736,
          -3.8300626229143067,
          -3.66339595624764,
          -3.4967292895809736,
          -3.3300626229143067
         ]
        },
        {
         "error_x": {
          "color": "purple",
          "type": "constant",
          "value": 0.2
         },
         "mode": "markers",
         "name": "$x^2$",
         "type": "scatter",
         "x": [
          -2.2108883314373218,
          -1.960888331437322,
          -1.710888331437322,
          -1.460888331437322,
          -1.210888331437322,
          -0.960888331437322,
          -0.710888331437322,
          -0.460888331437322,
          -0.210888331437322,
          0.039111668562678004,
          0.289111668562678,
          0.539111668562678,
          0.789111668562678,
          1.039111668562678,
          1.289111668562678,
          1.539111668562678,
          1.789111668562678,
          2.0391116685626782,
          2.2891116685626782,
          2.5391116685626782,
          2.7891116685626782,
          3.0391116685626782,
          3.2891116685626782,
          3.5391116685626782,
          3.7891116685626782
         ],
         "y": [
          -7.806882331370165,
          -4.539778482950386,
          -2.0080077588196,
          -0.11782015897781051,
          1.2245343165749838,
          2.1128056678387823,
          2.640743894813585,
          2.902098997499392,
          2.9906209758962032,
          3.0000598300040187,
          3.0241655598228383,
          3.156688165352662,
          3.4913776465934903,
          4.121984003545323,
          5.1422572362081596,
          6.645947344582001,
          8.726804328666846,
          11.478578188462699,
          14.995018923969553,
          19.369876535187412,
          24.696901022116275,
          31.069842384756143,
          38.582450623107015,
          47.32847573716889,
          57.40166772694177
         ]
        }
       ],
       "layout": {
        "template": {
         "data": {
          "bar": [
           {
            "error_x": {
             "color": "#2a3f5f"
            },
            "error_y": {
             "color": "#2a3f5f"
            },
            "marker": {
             "line": {
              "color": "#E5ECF6",
              "width": 0.5
             }
            },
            "type": "bar"
           }
          ],
          "barpolar": [
           {
            "marker": {
             "line": {
              "color": "#E5ECF6",
              "width": 0.5
             }
            },
            "type": "barpolar"
           }
          ],
          "carpet": [
           {
            "aaxis": {
             "endlinecolor": "#2a3f5f",
             "gridcolor": "white",
             "linecolor": "white",
             "minorgridcolor": "white",
             "startlinecolor": "#2a3f5f"
            },
            "baxis": {
             "endlinecolor": "#2a3f5f",
             "gridcolor": "white",
             "linecolor": "white",
             "minorgridcolor": "white",
             "startlinecolor": "#2a3f5f"
            },
            "type": "carpet"
           }
          ],
          "choropleth": [
           {
            "colorbar": {
             "outlinewidth": 0,
             "ticks": ""
            },
            "type": "choropleth"
           }
          ],
          "contour": [
           {
            "colorbar": {
             "outlinewidth": 0,
             "ticks": ""
            },
            "colorscale": [
             [
              0,
              "#0d0887"
             ],
             [
              0.1111111111111111,
              "#46039f"
             ],
             [
              0.2222222222222222,
              "#7201a8"
             ],
             [
              0.3333333333333333,
              "#9c179e"
             ],
             [
              0.4444444444444444,
              "#bd3786"
             ],
             [
              0.5555555555555556,
              "#d8576b"
             ],
             [
              0.6666666666666666,
              "#ed7953"
             ],
             [
              0.7777777777777778,
              "#fb9f3a"
             ],
             [
              0.8888888888888888,
              "#fdca26"
             ],
             [
              1,
              "#f0f921"
             ]
            ],
            "type": "contour"
           }
          ],
          "contourcarpet": [
           {
            "colorbar": {
             "outlinewidth": 0,
             "ticks": ""
            },
            "type": "contourcarpet"
           }
          ],
          "heatmap": [
           {
            "colorbar": {
             "outlinewidth": 0,
             "ticks": ""
            },
            "colorscale": [
             [
              0,
              "#0d0887"
             ],
             [
              0.1111111111111111,
              "#46039f"
             ],
             [
              0.2222222222222222,
              "#7201a8"
             ],
             [
              0.3333333333333333,
              "#9c179e"
             ],
             [
              0.4444444444444444,
              "#bd3786"
             ],
             [
              0.5555555555555556,
              "#d8576b"
             ],
             [
              0.6666666666666666,
              "#ed7953"
             ],
             [
              0.7777777777777778,
              "#fb9f3a"
             ],
             [
              0.8888888888888888,
              "#fdca26"
             ],
             [
              1,
              "#f0f921"
             ]
            ],
            "type": "heatmap"
           }
          ],
          "heatmapgl": [
           {
            "colorbar": {
             "outlinewidth": 0,
             "ticks": ""
            },
            "colorscale": [
             [
              0,
              "#0d0887"
             ],
             [
              0.1111111111111111,
              "#46039f"
             ],
             [
              0.2222222222222222,
              "#7201a8"
             ],
             [
              0.3333333333333333,
              "#9c179e"
             ],
             [
              0.4444444444444444,
              "#bd3786"
             ],
             [
              0.5555555555555556,
              "#d8576b"
             ],
             [
              0.6666666666666666,
              "#ed7953"
             ],
             [
              0.7777777777777778,
              "#fb9f3a"
             ],
             [
              0.8888888888888888,
              "#fdca26"
             ],
             [
              1,
              "#f0f921"
             ]
            ],
            "type": "heatmapgl"
           }
          ],
          "histogram": [
           {
            "marker": {
             "colorbar": {
              "outlinewidth": 0,
              "ticks": ""
             }
            },
            "type": "histogram"
           }
          ],
          "histogram2d": [
           {
            "colorbar": {
             "outlinewidth": 0,
             "ticks": ""
            },
            "colorscale": [
             [
              0,
              "#0d0887"
             ],
             [
              0.1111111111111111,
              "#46039f"
             ],
             [
              0.2222222222222222,
              "#7201a8"
             ],
             [
              0.3333333333333333,
              "#9c179e"
             ],
             [
              0.4444444444444444,
              "#bd3786"
             ],
             [
              0.5555555555555556,
              "#d8576b"
             ],
             [
              0.6666666666666666,
              "#ed7953"
             ],
             [
              0.7777777777777778,
              "#fb9f3a"
             ],
             [
              0.8888888888888888,
              "#fdca26"
             ],
             [
              1,
              "#f0f921"
             ]
            ],
            "type": "histogram2d"
           }
          ],
          "histogram2dcontour": [
           {
            "colorbar": {
             "outlinewidth": 0,
             "ticks": ""
            },
            "colorscale": [
             [
              0,
              "#0d0887"
             ],
             [
              0.1111111111111111,
              "#46039f"
             ],
             [
              0.2222222222222222,
              "#7201a8"
             ],
             [
              0.3333333333333333,
              "#9c179e"
             ],
             [
              0.4444444444444444,
              "#bd3786"
             ],
             [
              0.5555555555555556,
              "#d8576b"
             ],
             [
              0.6666666666666666,
              "#ed7953"
             ],
             [
              0.7777777777777778,
              "#fb9f3a"
             ],
             [
              0.8888888888888888,
              "#fdca26"
             ],
             [
              1,
              "#f0f921"
             ]
            ],
            "type": "histogram2dcontour"
           }
          ],
          "mesh3d": [
           {
            "colorbar": {
             "outlinewidth": 0,
             "ticks": ""
            },
            "type": "mesh3d"
           }
          ],
          "parcoords": [
           {
            "line": {
             "colorbar": {
              "outlinewidth": 0,
              "ticks": ""
             }
            },
            "type": "parcoords"
           }
          ],
          "pie": [
           {
            "automargin": true,
            "type": "pie"
           }
          ],
          "scatter": [
           {
            "marker": {
             "colorbar": {
              "outlinewidth": 0,
              "ticks": ""
             }
            },
            "type": "scatter"
           }
          ],
          "scatter3d": [
           {
            "line": {
             "colorbar": {
              "outlinewidth": 0,
              "ticks": ""
             }
            },
            "marker": {
             "colorbar": {
              "outlinewidth": 0,
              "ticks": ""
             }
            },
            "type": "scatter3d"
           }
          ],
          "scattercarpet": [
           {
            "marker": {
             "colorbar": {
              "outlinewidth": 0,
              "ticks": ""
             }
            },
            "type": "scattercarpet"
           }
          ],
          "scattergeo": [
           {
            "marker": {
             "colorbar": {
              "outlinewidth": 0,
              "ticks": ""
             }
            },
            "type": "scattergeo"
           }
          ],
          "scattergl": [
           {
            "marker": {
             "colorbar": {
              "outlinewidth": 0,
              "ticks": ""
             }
            },
            "type": "scattergl"
           }
          ],
          "scattermapbox": [
           {
            "marker": {
             "colorbar": {
              "outlinewidth": 0,
              "ticks": ""
             }
            },
            "type": "scattermapbox"
           }
          ],
          "scatterpolar": [
           {
            "marker": {
             "colorbar": {
              "outlinewidth": 0,
              "ticks": ""
             }
            },
            "type": "scatterpolar"
           }
          ],
          "scatterpolargl": [
           {
            "marker": {
             "colorbar": {
              "outlinewidth": 0,
              "ticks": ""
             }
            },
            "type": "scatterpolargl"
           }
          ],
          "scatterternary": [
           {
            "marker": {
             "colorbar": {
              "outlinewidth": 0,
              "ticks": ""
             }
            },
            "type": "scatterternary"
           }
          ],
          "surface": [
           {
            "colorbar": {
             "outlinewidth": 0,
             "ticks": ""
            },
            "colorscale": [
             [
              0,
              "#0d0887"
             ],
             [
              0.1111111111111111,
              "#46039f"
             ],
             [
              0.2222222222222222,
              "#7201a8"
             ],
             [
              0.3333333333333333,
              "#9c179e"
             ],
             [
              0.4444444444444444,
              "#bd3786"
             ],
             [
              0.5555555555555556,
              "#d8576b"
             ],
             [
              0.6666666666666666,
              "#ed7953"
             ],
             [
              0.7777777777777778,
              "#fb9f3a"
             ],
             [
              0.8888888888888888,
              "#fdca26"
             ],
             [
              1,
              "#f0f921"
             ]
            ],
            "type": "surface"
           }
          ],
          "table": [
           {
            "cells": {
             "fill": {
              "color": "#EBF0F8"
             },
             "line": {
              "color": "white"
             }
            },
            "header": {
             "fill": {
              "color": "#C8D4E3"
             },
             "line": {
              "color": "white"
             }
            },
            "type": "table"
           }
          ]
         },
         "layout": {
          "annotationdefaults": {
           "arrowcolor": "#2a3f5f",
           "arrowhead": 0,
           "arrowwidth": 1
          },
          "coloraxis": {
           "colorbar": {
            "outlinewidth": 0,
            "ticks": ""
           }
          },
          "colorscale": {
           "diverging": [
            [
             0,
             "#8e0152"
            ],
            [
             0.1,
             "#c51b7d"
            ],
            [
             0.2,
             "#de77ae"
            ],
            [
             0.3,
             "#f1b6da"
            ],
            [
             0.4,
             "#fde0ef"
            ],
            [
             0.5,
             "#f7f7f7"
            ],
            [
             0.6,
             "#e6f5d0"
            ],
            [
             0.7,
             "#b8e186"
            ],
            [
             0.8,
             "#7fbc41"
            ],
            [
             0.9,
             "#4d9221"
            ],
            [
             1,
             "#276419"
            ]
           ],
           "sequential": [
            [
             0,
             "#0d0887"
            ],
            [
             0.1111111111111111,
             "#46039f"
            ],
            [
             0.2222222222222222,
             "#7201a8"
            ],
            [
             0.3333333333333333,
             "#9c179e"
            ],
            [
             0.4444444444444444,
             "#bd3786"
            ],
            [
             0.5555555555555556,
             "#d8576b"
            ],
            [
             0.6666666666666666,
             "#ed7953"
            ],
            [
             0.7777777777777778,
             "#fb9f3a"
            ],
            [
             0.8888888888888888,
             "#fdca26"
            ],
            [
             1,
             "#f0f921"
            ]
           ],
           "sequentialminus": [
            [
             0,
             "#0d0887"
            ],
            [
             0.1111111111111111,
             "#46039f"
            ],
            [
             0.2222222222222222,
             "#7201a8"
            ],
            [
             0.3333333333333333,
             "#9c179e"
            ],
            [
             0.4444444444444444,
             "#bd3786"
            ],
            [
             0.5555555555555556,
             "#d8576b"
            ],
            [
             0.6666666666666666,
             "#ed7953"
            ],
            [
             0.7777777777777778,
             "#fb9f3a"
            ],
            [
             0.8888888888888888,
             "#fdca26"
            ],
            [
             1,
             "#f0f921"
            ]
           ]
          },
          "colorway": [
           "#636efa",
           "#EF553B",
           "#00cc96",
           "#ab63fa",
           "#FFA15A",
           "#19d3f3",
           "#FF6692",
           "#B6E880",
           "#FF97FF",
           "#FECB52"
          ],
          "font": {
           "color": "#2a3f5f"
          },
          "geo": {
           "bgcolor": "white",
           "lakecolor": "white",
           "landcolor": "#E5ECF6",
           "showlakes": true,
           "showland": true,
           "subunitcolor": "white"
          },
          "hoverlabel": {
           "align": "left"
          },
          "hovermode": "closest",
          "mapbox": {
           "style": "light"
          },
          "paper_bgcolor": "white",
          "plot_bgcolor": "#E5ECF6",
          "polar": {
           "angularaxis": {
            "gridcolor": "white",
            "linecolor": "white",
            "ticks": ""
           },
           "bgcolor": "#E5ECF6",
           "radialaxis": {
            "gridcolor": "white",
            "linecolor": "white",
            "ticks": ""
           }
          },
          "scene": {
           "xaxis": {
            "backgroundcolor": "#E5ECF6",
            "gridcolor": "white",
            "gridwidth": 2,
            "linecolor": "white",
            "showbackground": true,
            "ticks": "",
            "zerolinecolor": "white"
           },
           "yaxis": {
            "backgroundcolor": "#E5ECF6",
            "gridcolor": "white",
            "gridwidth": 2,
            "linecolor": "white",
            "showbackground": true,
            "ticks": "",
            "zerolinecolor": "white"
           },
           "zaxis": {
            "backgroundcolor": "#E5ECF6",
            "gridcolor": "white",
            "gridwidth": 2,
            "linecolor": "white",
            "showbackground": true,
            "ticks": "",
            "zerolinecolor": "white"
           }
          },
          "shapedefaults": {
           "line": {
            "color": "#2a3f5f"
           }
          },
          "ternary": {
           "aaxis": {
            "gridcolor": "white",
            "linecolor": "white",
            "ticks": ""
           },
           "baxis": {
            "gridcolor": "white",
            "linecolor": "white",
            "ticks": ""
           },
           "bgcolor": "#E5ECF6",
           "caxis": {
            "gridcolor": "white",
            "linecolor": "white",
            "ticks": ""
           }
          },
          "title": {
           "x": 0.05
          },
          "xaxis": {
           "automargin": true,
           "gridcolor": "white",
           "linecolor": "white",
           "ticks": "",
           "title": {
            "standoff": 15
           },
           "zerolinecolor": "white",
           "zerolinewidth": 2
          },
          "yaxis": {
           "automargin": true,
           "gridcolor": "white",
           "linecolor": "white",
           "ticks": "",
           "title": {
            "standoff": 15
           },
           "zerolinecolor": "white",
           "zerolinewidth": 2
          }
         }
        }
       }
      }
     },
     "metadata": {},
     "output_type": "display_data"
    }
   ],
   "source": [
    "import plotly.graph_objects as go\n",
    "\n",
    "fig = go.Figure()\n",
    "\n",
    "# Add traces\n",
    "fig.add_trace(go.Scatter(x=data['x'][0:25], y=data['y'][0:25],\n",
    "                    mode='markers',\n",
    "                    name='x'))\n",
    "fig.add_trace(go.Scatter(x=data['x'][25:50], y=data['y'][25:50],\n",
    "                    mode='markers',\n",
    "                    name='$x^2$',\n",
    "                    error_x = dict(\n",
    "                        type='constant',value=0.2,\n",
    "                        color='purple')))\n",
    "fig.show()"
   ]
  },
  {
   "cell_type": "markdown",
   "execution_count": 78,
   "metadata": {},
   "outputs": [
    {
     "data": {
      "text/plain": "25   -2.72501\n26   -2.47501\n27   -2.22501\n28   -1.97501\n29   -1.72501\n30   -1.47501\n31   -1.22501\n32   -0.97501\n33   -0.72501\n34   -0.47501\n35   -0.22501\n36    0.02499\n37    0.27499\n38    0.52499\n39    0.77499\n40    1.02499\n41    1.27499\n42    1.52499\n43    1.77499\n44    2.02499\n45    2.27499\n46    2.52499\n47    2.77499\n48    3.02499\n49    3.27499\nName: x, dtype: float64"
     },
     "execution_count": 78,
     "metadata": {},
     "output_type": "execute_result"
    }
   ],
   "source": [
    "Пояснения:\n",
    "\n",
    "1. go.Scatter - добавление на `fig`, точек типа Scatter. Тоесть точек от x и y.\n",
    "\n",
    "2. Параметры: \n",
    "* x,y - данные (Series, Array like)\n",
    "* mode - просто точки, просто линии, точки + линии\n",
    "* \n",
    " \n",
    "Как видно из данного примера в полоном режиме доступно больше возможностей для настройки,но и код получается более длинным. "
   ]
  },
  {
   "cell_type": "code",
   "execution_count": 9,
   "metadata": {},
   "outputs": [
    {
     "data": {
      "application/vnd.plotly.v1+json": {
       "config": {
        "plotlyServerURL": "https://plot.ly"
       },
       "data": [
        {
         "marker": {
          "symbol": "cross"
         },
         "mode": "markers",
         "name": "$x^2$",
         "type": "scatter",
         "x": [
          -1.3300626229143067,
          -1.16339595624764,
          -0.9967292895809734,
          -0.8300626229143067,
          -0.6633959562476401,
          -0.4967292895809734,
          -0.33006262291430666,
          -0.16339595624764014,
          0.003270710419026601,
          0.16993737708569334,
          0.33660404375235986,
          0.5032707104190266,
          0.6699373770856933,
          0.8366040437523599,
          1.0032707104190264,
          1.1699373770856933,
          1.3366040437523599,
          1.5032707104190264,
          1.6699373770856933,
          1.8366040437523599,
          2.0032707104190264,
          2.1699373770856933,
          2.33660404375236,
          2.5032707104190264,
          2.6699373770856933,
          -2.2108883314373218,
          -1.960888331437322,
          -1.710888331437322,
          -1.460888331437322,
          -1.210888331437322,
          -0.960888331437322,
          -0.710888331437322,
          -0.460888331437322,
          -0.210888331437322,
          0.039111668562678004,
          0.289111668562678,
          0.539111668562678,
          0.789111668562678,
          1.039111668562678,
          1.289111668562678,
          1.539111668562678,
          1.789111668562678,
          2.0391116685626782,
          2.2891116685626782,
          2.5391116685626782,
          2.7891116685626782,
          3.0391116685626782,
          3.2891116685626782,
          3.5391116685626782,
          3.7891116685626782
         ],
         "y": [
          -7.330062622914307,
          -7.16339595624764,
          -6.996729289580974,
          -6.830062622914307,
          -6.663395956247641,
          -6.496729289580974,
          -6.330062622914307,
          -6.163395956247641,
          -5.996729289580974,
          -5.830062622914307,
          -5.663395956247641,
          -5.496729289580974,
          -5.330062622914307,
          -5.163395956247641,
          -4.996729289580974,
          -4.830062622914307,
          -4.663395956247641,
          -4.496729289580974,
          -4.330062622914307,
          -4.163395956247641,
          -3.9967292895809736,
          -3.8300626229143067,
          -3.66339595624764,
          -3.4967292895809736,
          -3.3300626229143067,
          -7.806882331370165,
          -4.539778482950386,
          -2.0080077588196,
          -0.11782015897781051,
          1.2245343165749838,
          2.1128056678387823,
          2.640743894813585,
          2.902098997499392,
          2.9906209758962032,
          3.0000598300040187,
          3.0241655598228383,
          3.156688165352662,
          3.4913776465934903,
          4.121984003545323,
          5.1422572362081596,
          6.645947344582001,
          8.726804328666846,
          11.478578188462699,
          14.995018923969553,
          19.369876535187412,
          24.696901022116275,
          31.069842384756143,
          38.582450623107015,
          47.32847573716889,
          57.40166772694177
         ]
        }
       ],
       "layout": {
        "template": {
         "data": {
          "bar": [
           {
            "error_x": {
             "color": "#2a3f5f"
            },
            "error_y": {
             "color": "#2a3f5f"
            },
            "marker": {
             "line": {
              "color": "#E5ECF6",
              "width": 0.5
             }
            },
            "type": "bar"
           }
          ],
          "barpolar": [
           {
            "marker": {
             "line": {
              "color": "#E5ECF6",
              "width": 0.5
             }
            },
            "type": "barpolar"
           }
          ],
          "carpet": [
           {
            "aaxis": {
             "endlinecolor": "#2a3f5f",
             "gridcolor": "white",
             "linecolor": "white",
             "minorgridcolor": "white",
             "startlinecolor": "#2a3f5f"
            },
            "baxis": {
             "endlinecolor": "#2a3f5f",
             "gridcolor": "white",
             "linecolor": "white",
             "minorgridcolor": "white",
             "startlinecolor": "#2a3f5f"
            },
            "type": "carpet"
           }
          ],
          "choropleth": [
           {
            "colorbar": {
             "outlinewidth": 0,
             "ticks": ""
            },
            "type": "choropleth"
           }
          ],
          "contour": [
           {
            "colorbar": {
             "outlinewidth": 0,
             "ticks": ""
            },
            "colorscale": [
             [
              0,
              "#0d0887"
             ],
             [
              0.1111111111111111,
              "#46039f"
             ],
             [
              0.2222222222222222,
              "#7201a8"
             ],
             [
              0.3333333333333333,
              "#9c179e"
             ],
             [
              0.4444444444444444,
              "#bd3786"
             ],
             [
              0.5555555555555556,
              "#d8576b"
             ],
             [
              0.6666666666666666,
              "#ed7953"
             ],
             [
              0.7777777777777778,
              "#fb9f3a"
             ],
             [
              0.8888888888888888,
              "#fdca26"
             ],
             [
              1,
              "#f0f921"
             ]
            ],
            "type": "contour"
           }
          ],
          "contourcarpet": [
           {
            "colorbar": {
             "outlinewidth": 0,
             "ticks": ""
            },
            "type": "contourcarpet"
           }
          ],
          "heatmap": [
           {
            "colorbar": {
             "outlinewidth": 0,
             "ticks": ""
            },
            "colorscale": [
             [
              0,
              "#0d0887"
             ],
             [
              0.1111111111111111,
              "#46039f"
             ],
             [
              0.2222222222222222,
              "#7201a8"
             ],
             [
              0.3333333333333333,
              "#9c179e"
             ],
             [
              0.4444444444444444,
              "#bd3786"
             ],
             [
              0.5555555555555556,
              "#d8576b"
             ],
             [
              0.6666666666666666,
              "#ed7953"
             ],
             [
              0.7777777777777778,
              "#fb9f3a"
             ],
             [
              0.8888888888888888,
              "#fdca26"
             ],
             [
              1,
              "#f0f921"
             ]
            ],
            "type": "heatmap"
           }
          ],
          "heatmapgl": [
           {
            "colorbar": {
             "outlinewidth": 0,
             "ticks": ""
            },
            "colorscale": [
             [
              0,
              "#0d0887"
             ],
             [
              0.1111111111111111,
              "#46039f"
             ],
             [
              0.2222222222222222,
              "#7201a8"
             ],
             [
              0.3333333333333333,
              "#9c179e"
             ],
             [
              0.4444444444444444,
              "#bd3786"
             ],
             [
              0.5555555555555556,
              "#d8576b"
             ],
             [
              0.6666666666666666,
              "#ed7953"
             ],
             [
              0.7777777777777778,
              "#fb9f3a"
             ],
             [
              0.8888888888888888,
              "#fdca26"
             ],
             [
              1,
              "#f0f921"
             ]
            ],
            "type": "heatmapgl"
           }
          ],
          "histogram": [
           {
            "marker": {
             "colorbar": {
              "outlinewidth": 0,
              "ticks": ""
             }
            },
            "type": "histogram"
           }
          ],
          "histogram2d": [
           {
            "colorbar": {
             "outlinewidth": 0,
             "ticks": ""
            },
            "colorscale": [
             [
              0,
              "#0d0887"
             ],
             [
              0.1111111111111111,
              "#46039f"
             ],
             [
              0.2222222222222222,
              "#7201a8"
             ],
             [
              0.3333333333333333,
              "#9c179e"
             ],
             [
              0.4444444444444444,
              "#bd3786"
             ],
             [
              0.5555555555555556,
              "#d8576b"
             ],
             [
              0.6666666666666666,
              "#ed7953"
             ],
             [
              0.7777777777777778,
              "#fb9f3a"
             ],
             [
              0.8888888888888888,
              "#fdca26"
             ],
             [
              1,
              "#f0f921"
             ]
            ],
            "type": "histogram2d"
           }
          ],
          "histogram2dcontour": [
           {
            "colorbar": {
             "outlinewidth": 0,
             "ticks": ""
            },
            "colorscale": [
             [
              0,
              "#0d0887"
             ],
             [
              0.1111111111111111,
              "#46039f"
             ],
             [
              0.2222222222222222,
              "#7201a8"
             ],
             [
              0.3333333333333333,
              "#9c179e"
             ],
             [
              0.4444444444444444,
              "#bd3786"
             ],
             [
              0.5555555555555556,
              "#d8576b"
             ],
             [
              0.6666666666666666,
              "#ed7953"
             ],
             [
              0.7777777777777778,
              "#fb9f3a"
             ],
             [
              0.8888888888888888,
              "#fdca26"
             ],
             [
              1,
              "#f0f921"
             ]
            ],
            "type": "histogram2dcontour"
           }
          ],
          "mesh3d": [
           {
            "colorbar": {
             "outlinewidth": 0,
             "ticks": ""
            },
            "type": "mesh3d"
           }
          ],
          "parcoords": [
           {
            "line": {
             "colorbar": {
              "outlinewidth": 0,
              "ticks": ""
             }
            },
            "type": "parcoords"
           }
          ],
          "pie": [
           {
            "automargin": true,
            "type": "pie"
           }
          ],
          "scatter": [
           {
            "marker": {
             "colorbar": {
              "outlinewidth": 0,
              "ticks": ""
             }
            },
            "type": "scatter"
           }
          ],
          "scatter3d": [
           {
            "line": {
             "colorbar": {
              "outlinewidth": 0,
              "ticks": ""
             }
            },
            "marker": {
             "colorbar": {
              "outlinewidth": 0,
              "ticks": ""
             }
            },
            "type": "scatter3d"
           }
          ],
          "scattercarpet": [
           {
            "marker": {
             "colorbar": {
              "outlinewidth": 0,
              "ticks": ""
             }
            },
            "type": "scattercarpet"
           }
          ],
          "scattergeo": [
           {
            "marker": {
             "colorbar": {
              "outlinewidth": 0,
              "ticks": ""
             }
            },
            "type": "scattergeo"
           }
          ],
          "scattergl": [
           {
            "marker": {
             "colorbar": {
              "outlinewidth": 0,
              "ticks": ""
             }
            },
            "type": "scattergl"
           }
          ],
          "scattermapbox": [
           {
            "marker": {
             "colorbar": {
              "outlinewidth": 0,
              "ticks": ""
             }
            },
            "type": "scattermapbox"
           }
          ],
          "scatterpolar": [
           {
            "marker": {
             "colorbar": {
              "outlinewidth": 0,
              "ticks": ""
             }
            },
            "type": "scatterpolar"
           }
          ],
          "scatterpolargl": [
           {
            "marker": {
             "colorbar": {
              "outlinewidth": 0,
              "ticks": ""
             }
            },
            "type": "scatterpolargl"
           }
          ],
          "scatterternary": [
           {
            "marker": {
             "colorbar": {
              "outlinewidth": 0,
              "ticks": ""
             }
            },
            "type": "scatterternary"
           }
          ],
          "surface": [
           {
            "colorbar": {
             "outlinewidth": 0,
             "ticks": ""
            },
            "colorscale": [
             [
              0,
              "#0d0887"
             ],
             [
              0.1111111111111111,
              "#46039f"
             ],
             [
              0.2222222222222222,
              "#7201a8"
             ],
             [
              0.3333333333333333,
              "#9c179e"
             ],
             [
              0.4444444444444444,
              "#bd3786"
             ],
             [
              0.5555555555555556,
              "#d8576b"
             ],
             [
              0.6666666666666666,
              "#ed7953"
             ],
             [
              0.7777777777777778,
              "#fb9f3a"
             ],
             [
              0.8888888888888888,
              "#fdca26"
             ],
             [
              1,
              "#f0f921"
             ]
            ],
            "type": "surface"
           }
          ],
          "table": [
           {
            "cells": {
             "fill": {
              "color": "#EBF0F8"
             },
             "line": {
              "color": "white"
             }
            },
            "header": {
             "fill": {
              "color": "#C8D4E3"
             },
             "line": {
              "color": "white"
             }
            },
            "type": "table"
           }
          ]
         },
         "layout": {
          "annotationdefaults": {
           "arrowcolor": "#2a3f5f",
           "arrowhead": 0,
           "arrowwidth": 1
          },
          "coloraxis": {
           "colorbar": {
            "outlinewidth": 0,
            "ticks": ""
           }
          },
          "colorscale": {
           "diverging": [
            [
             0,
             "#8e0152"
            ],
            [
             0.1,
             "#c51b7d"
            ],
            [
             0.2,
             "#de77ae"
            ],
            [
             0.3,
             "#f1b6da"
            ],
            [
             0.4,
             "#fde0ef"
            ],
            [
             0.5,
             "#f7f7f7"
            ],
            [
             0.6,
             "#e6f5d0"
            ],
            [
             0.7,
             "#b8e186"
            ],
            [
             0.8,
             "#7fbc41"
            ],
            [
             0.9,
             "#4d9221"
            ],
            [
             1,
             "#276419"
            ]
           ],
           "sequential": [
            [
             0,
             "#0d0887"
            ],
            [
             0.1111111111111111,
             "#46039f"
            ],
            [
             0.2222222222222222,
             "#7201a8"
            ],
            [
             0.3333333333333333,
             "#9c179e"
            ],
            [
             0.4444444444444444,
             "#bd3786"
            ],
            [
             0.5555555555555556,
             "#d8576b"
            ],
            [
             0.6666666666666666,
             "#ed7953"
            ],
            [
             0.7777777777777778,
             "#fb9f3a"
            ],
            [
             0.8888888888888888,
             "#fdca26"
            ],
            [
             1,
             "#f0f921"
            ]
           ],
           "sequentialminus": [
            [
             0,
             "#0d0887"
            ],
            [
             0.1111111111111111,
             "#46039f"
            ],
            [
             0.2222222222222222,
             "#7201a8"
            ],
            [
             0.3333333333333333,
             "#9c179e"
            ],
            [
             0.4444444444444444,
             "#bd3786"
            ],
            [
             0.5555555555555556,
             "#d8576b"
            ],
            [
             0.6666666666666666,
             "#ed7953"
            ],
            [
             0.7777777777777778,
             "#fb9f3a"
            ],
            [
             0.8888888888888888,
             "#fdca26"
            ],
            [
             1,
             "#f0f921"
            ]
           ]
          },
          "colorway": [
           "#636efa",
           "#EF553B",
           "#00cc96",
           "#ab63fa",
           "#FFA15A",
           "#19d3f3",
           "#FF6692",
           "#B6E880",
           "#FF97FF",
           "#FECB52"
          ],
          "font": {
           "color": "#2a3f5f"
          },
          "geo": {
           "bgcolor": "white",
           "lakecolor": "white",
           "landcolor": "#E5ECF6",
           "showlakes": true,
           "showland": true,
           "subunitcolor": "white"
          },
          "hoverlabel": {
           "align": "left"
          },
          "hovermode": "closest",
          "mapbox": {
           "style": "light"
          },
          "paper_bgcolor": "white",
          "plot_bgcolor": "#E5ECF6",
          "polar": {
           "angularaxis": {
            "gridcolor": "white",
            "linecolor": "white",
            "ticks": ""
           },
           "bgcolor": "#E5ECF6",
           "radialaxis": {
            "gridcolor": "white",
            "linecolor": "white",
            "ticks": ""
           }
          },
          "scene": {
           "xaxis": {
            "backgroundcolor": "#E5ECF6",
            "gridcolor": "white",
            "gridwidth": 2,
            "linecolor": "white",
            "showbackground": true,
            "ticks": "",
            "zerolinecolor": "white"
           },
           "yaxis": {
            "backgroundcolor": "#E5ECF6",
            "gridcolor": "white",
            "gridwidth": 2,
            "linecolor": "white",
            "showbackground": true,
            "ticks": "",
            "zerolinecolor": "white"
           },
           "zaxis": {
            "backgroundcolor": "#E5ECF6",
            "gridcolor": "white",
            "gridwidth": 2,
            "linecolor": "white",
            "showbackground": true,
            "ticks": "",
            "zerolinecolor": "white"
           }
          },
          "shapedefaults": {
           "line": {
            "color": "#2a3f5f"
           }
          },
          "ternary": {
           "aaxis": {
            "gridcolor": "white",
            "linecolor": "white",
            "ticks": ""
           },
           "baxis": {
            "gridcolor": "white",
            "linecolor": "white",
            "ticks": ""
           },
           "bgcolor": "#E5ECF6",
           "caxis": {
            "gridcolor": "white",
            "linecolor": "white",
            "ticks": ""
           }
          },
          "title": {
           "x": 0.05
          },
          "xaxis": {
           "automargin": true,
           "gridcolor": "white",
           "linecolor": "white",
           "ticks": "",
           "title": {
            "standoff": 15
           },
           "zerolinecolor": "white",
           "zerolinewidth": 2
          },
          "yaxis": {
           "automargin": true,
           "gridcolor": "white",
           "linecolor": "white",
           "ticks": "",
           "title": {
            "standoff": 15
           },
           "zerolinecolor": "white",
           "zerolinewidth": 2
          }
         }
        }
       }
      }
     },
     "metadata": {},
     "output_type": "display_data"
    }
   ],
   "source": [
    "fig = go.Figure()\n",
    "\n",
    "# Add traces\n",
    "\n",
    "fig.add_trace(go.Scatter(x=data['x'], y=data['y'],\n",
    "                    mode='markers',\n",
    "                    marker = dict(\n",
    "                        symbol = 'cross'\n",
    "                    ),\n",
    "                    name='$x^2$'))\n",
    "fig.show()"
   ]
  },
  {
   "cell_type": "markdown",
   "execution_count": null,
   "metadata": {},
   "outputs": [],
   "source": [
    "В этом примере, мы задали `symbol` посмотреть все варианты можно [тут](https://plot.ly/python/reference/#scatter-marker-symbol)."
   ]
  },
  {
   "cell_type": "code",
   "execution_count": null,
   "metadata": {},
   "outputs": [],
   "source": []
  },
  {
   "cell_type": "markdown",
   "execution_count": null,
   "metadata": {},
   "outputs": [],
   "source": [
    "## 3D scatter plot\n",
    "\n",
    "На первом курсе возниквает задача построить эллипсоид инерции. Давайте построим это с помощью plotly.\n",
    "Создадим набор точек:\n"
   ]
  },
  {
   "cell_type": "code",
   "execution_count": 55,
   "metadata": {},
   "outputs": [],
   "source": [
    "omega =  np.linspace(0 , 2*np.pi ,50)\n",
    "phi = np.linspace(-np.pi/2 , np.pi/2 ,50)\n",
    "a,b,c = 1,2,3\n",
    "x = []\n",
    "y = []\n",
    "z = []\n",
    "for i in omega:\n",
    "    for j in phi:\n",
    "        x.append(a * np.sin(i)*np.cos(j))\n",
    "        y.append(b * np.sin(i)*np.sin(j))\n",
    "        z.append(c * np.cos(i))\n"
   ]
  },
  {
   "cell_type": "code",
   "execution_count": 56,
   "metadata": {},
   "outputs": [
    {
     "data": {
      "application/vnd.plotly.v1+json": {
       "config": {
        "plotlyServerURL": "https://plot.ly"
       },
       "data": [
        {
         "hoverlabel": {
          "namelength": 0
         },
         "hovertemplate": "x=%{x}<br>y=%{y}<br>z=%{z}",
         "legendgroup": "",
         "marker": {
          "color": "#636efa",
          "symbol": "circle"
         },
         "mode": "markers",
         "name": "",
         "scene": "scene",
         "showlegend": false,
         "type": "scatter3d",
         "x": [
          0,
          0,
          0,
          0,
          0,
          0,
          0,
          0,
          0,
          0,
          0,
          0,
          0,
          0,
          0,
          0,
          0,
          0,
          0,
          0,
          0,
          0,
          0,
          0,
          0,
          0,
          0,
          0,
          0,
          0,
          0,
          0,
          0,
          0,
          0,
          0,
          0,
          0,
          0,
          0,
          0,
          0,
          0,
          0,
          0,
          0,
          0,
          0,
          0,
          0,
          7.830217837048942e-18,
          0.008193117879635494,
          0.01635256848048529,
          0.024444822869833828,
          0.03243662823861216,
          0.04029514454432312,
          0.047988079457820035,
          0.055483821059414004,
          0.06275156773903255,
          0.06976145476664235,
          0.07648467701283088,
          0.08289360731526192,
          0.08896191000461155,
          0.09466464912348238,
          0.09997839089360126,
          0.10488130001024074,
          0.10935322936816984,
          0.11337580285043099,
          0.11693249083974629,
          0.12000867814226042,
          0.12259172404450727,
          0.12467101425681293,
          0.1262380045296886,
          0.12728625576398478,
          0.1278114604705305,
          0.1278114604705305,
          0.12728625576398478,
          0.1262380045296886,
          0.12467101425681293,
          0.12259172404450727,
          0.12000867814226043,
          0.11693249083974629,
          0.113375802850431,
          0.10935322936816984,
          0.10488130001024075,
          0.09997839089360126,
          0.09466464912348241,
          0.08896191000461157,
          0.08289360731526198,
          0.07648467701283089,
          0.06976145476664239,
          0.06275156773903258,
          0.055483821059414004,
          0.04798807945782006,
          0.04029514454432312,
          0.032436628238612215,
          0.02444482286983386,
          0.016352568480485344,
          0.008193117879635524,
          7.830217837048942e-18,
          1.5531863713691595e-17,
          0.016251704990198346,
          0.03243662823861217,
          0.04848826242395859,
          0.0643406479383053,
          0.07992864392924785,
          0.09518819597764473,
          0.11005659931096545,
          0.12447275647065091,
          0.13837742837467593,
          0.1517134777436441,
          0.16442610389012471,
          0.17646306790643213,
          0.18777490732550264,
          0.1983151393727814,
          0.20804045197391335,
          0.21691088173334752,
          0.22488997815250114,
          0.23194495341267712,
          0.23804681710724387,
          0.24317049536943489,
          0.24729493390624518,
          0.25040318451503774,
          0.2524824747273434,
          0.25352426029367336,
          0.25352426029367336,
          0.2524824747273434,
          0.25040318451503774,
          0.24729493390624518,
          0.24317049536943489,
          0.2380468171072439,
          0.23194495341267712,
          0.22488997815250117,
          0.21691088173334752,
          0.20804045197391338,
          0.1983151393727814,
          0.1877749073255027,
          0.17646306790643215,
          0.1644261038901248,
          0.15171347774364413,
          0.138377428374676,
          0.12447275647065095,
          0.11005659931096545,
          0.09518819597764479,
          0.07992864392924785,
          0.0643406479383054,
          0.04848826242395864,
          0.03243662823861228,
          0.0162517049901984,
          1.5531863713691595e-17,
          2.2978476817556982e-17,
          0.024043439554124774,
          0.04798807945782002,
          0.07173552604961232,
          0.09518819597764468,
          0.11824971719060097,
          0.14082532495113623,
          0.16282225124450977,
          0.18415010598225628,
          0.20472124843444783,
          0.22445114736425217,
          0.24325872838491666,
          0.26106670711181396,
          0.2778019067405557,
          0.2933955587461784,
          0.3077835854677631,
          0.32090686341728863,
          0.3327114662307263,
          0.3431488862630362,
          0.3521762339164859,
          0.35975641388320756,
          0.3658582775777744,
          0.3704567511334197,
          0.3735329384359338,
          0.37507419877185066,
          0.37507419877185066,
          0.3735329384359338,
          0.3704567511334197,
          0.3658582775777744,
          0.35975641388320756,
          0.35217623391648595,
          0.3431488862630362,
          0.33271146623072634,
          0.32090686341728863,
          0.30778358546776313,
          0.2933955587461784,
          0.27780190674055577,
          0.26106670711181396,
          0.2432587283849168,
          0.22445114736425223,
          0.20472124843444797,
          0.18415010598225637,
          0.16282225124450977,
          0.1408253249511363,
          0.11824971719060097,
          0.09518819597764484,
          0.0717355260496124,
          0.04798807945782019,
          0.024043439554124857,
          2.2978476817556982e-17,
          3.004778396735237e-17,
          0.03144038150528924,
          0.06275156773903254,
          0.0938048943207671,
          0.12447275647065086,
          0.1546291333648743,
          0.1841501059822563,
          0.21291436631408336,
          0.2408037158447375,
          0.26770355125475054,
          0.2935033353504261,
          0.31809705128487886,
          0.3413836382039985,
          0.3632674065271771,
          0.38365843115632126,
          0.40247292099736864,
          0.41963356327586704,
          0.43506984123174786,
          0.4487183238878192,
          0.4605229267012568,
          0.4704351420270209,
          0.4784142384461746,
          0.48442742814002054,
          0.4884500016222817,
          0.49046542927568015,
          0.49046542927568015,
          0.4884500016222817,
          0.48442742814002054,
          0.4784142384461746,
          0.4704351420270209,
          0.46052292670125683,
          0.4487183238878192,
          0.4350698412317479,
          0.41963356327586704,
          0.4024729209973687,
          0.38365843115632126,
          0.3632674065271772,
          0.34138363820399853,
          0.31809705128487903,
          0.29350333535042616,
          0.2677035512547507,
          0.2408037158447376,
          0.21291436631408336,
          0.18415010598225642,
          0.1546291333648743,
          0.12447275647065108,
          0.0938048943207672,
          0.06275156773903276,
          0.03144038150528935,
          3.004778396735237e-17,
          3.662370733511965e-17,
          0.03832107326135312,
          0.07648467701283086,
          0.11433398882055112,
          0.15171347774364405,
          0.18846954344424952,
          0.2244511473642522,
          0.25951043337511503,
          0.29350333535042616,
          0.3262901691645143,
          0.35773620668448375,
          0.38771222939701094,
          0.41609505939493335,
          0.4427680655416917,
          0.46762164273368706,
          0.4905536622911618,
          0.5114698916268516,
          0.530284381467899,
          0.5469198190398518,
          0.5613078457614364,
          0.573389338144632,
          0.5831146507457641,
          0.5904438201692813,
          0.5953467292859208,
          0.5978032309904515,
          0.5978032309904515,
          0.5953467292859208,
          0.5904438201692813,
          0.5831146507457641,
          0.573389338144632,
          0.5613078457614364,
          0.5469198190398518,
          0.5302843814678991,
          0.5114698916268516,
          0.49055366229116193,
          0.46762164273368706,
          0.44276806554169185,
          0.41609505939493346,
          0.3877122293970111,
          0.3577362066844838,
          0.32629016916451453,
          0.2935033353504263,
          0.25951043337511503,
          0.22445114736425234,
          0.18846954344424952,
          0.1517134777436443,
          0.11433398882055126,
          0.07648467701283113,
          0.03832107326135325,
          3.662370733511965e-17,
          4.259827044096131e-17,
          0.04457253405390883,
          0.08896191000461155,
          0.13298572238483547,
          0.1764630679064321,
          0.21921528883079197,
          0.261066707111814,
          0.30184534629468057,
          0.34138363820399853,
          0.3795191115173755,
          0.41609505939493346,
          0.4509611834213273,
          0.4839742112141724,
          0.5149984851609957,
          0.5439065198654639,
          0.5705795260122223,
          0.5949078984976719,
          0.6167916668208505,
          0.6361409058836647,
          0.6528761055124064,
          0.6669284971821122,
          0.6782403366011829,
          0.6867651409950631,
          0.692467880113934,
          0.6953251201795222,
          0.6953251201795222,
          0.692467880113934,
          0.6867651409950631,
          0.6782403366011829,
          0.6669284971821122,
          0.6528761055124065,
          0.6361409058836647,
          0.6167916668208506,
          0.5949078984976719,
          0.5705795260122224,
          0.5439065198654639,
          0.5149984851609959,
          0.48397421121417245,
          0.4509611834213275,
          0.4160950593949335,
          0.3795191115173757,
          0.34138363820399864,
          0.30184534629468057,
          0.2610667071118142,
          0.21921528883079197,
          0.1764630679064324,
          0.13298572238483564,
          0.08896191000461186,
          0.044572534053908985,
          4.259827044096131e-17,
          4.7873371123855125e-17,
          0.050092115069573576,
          0.09997839089360125,
          0.14945383406414953,
          0.1983151393727813,
          0.24636152523526653,
          0.29339555874617845,
          0.33922396697305235,
          0.38365843115632126,
          0.42651636055149345,
          0.46762164273368706,
          0.5068053672813602,
          0.5439065198654638,
          0.5787726438918577,
          0.6112604669781571,
          0.6412364896906843,
          0.6685775341222767,
          0.6931712500567294,
          0.7149165766399322,
          0.7337241576605967,
          0.7495167087340956,
          0.7622293348805762,
          0.771809797192353,
          0.778218727494784,
          0.7814297901185454,
          0.7814297901185454,
          0.778218727494784,
          0.771809797192353,
          0.7622293348805762,
          0.7495167087340956,
          0.7337241576605967,
          0.7149165766399322,
          0.6931712500567295,
          0.6685775341222767,
          0.6412364896906844,
          0.6112604669781571,
          0.5787726438918578,
          0.5439065198654639,
          0.5068053672813605,
          0.46762164273368717,
          0.42651636055149367,
          0.3836584311563214,
          0.33922396697305235,
          0.2933955587461786,
          0.24636152523526653,
          0.19831513937278167,
          0.1494538340641497,
          0.0999783908936016,
          0.05009211506957375,
          4.7873371123855125e-17,
          5.236239237642604e-17,
          0.054789184940667195,
          0.10935322936816984,
          0.16346791792000454,
          0.21691088173334747,
          0.26946251220641004,
          0.32090686341728875,
          0.3710325394920795,
          0.4196335632758671,
          0.46651022273703713,
          0.5114698916268517,
          0.5543278210220239,
          0.5949078984976719,
          0.6330433718110487,
          0.6685775341222768,
          0.701364367936365,
          0.7312691451204175,
          0.7581689805304306,
          0.7819533369727079,
          0.8025244794248994,
          0.819797876650173,
          0.833702548554198,
          0.8441813578575781,
          0.8511912448851878,
          0.854703404507615,
          0.854703404507615,
          0.8511912448851878,
          0.8441813578575781,
          0.833702548554198,
          0.819797876650173,
          0.8025244794248994,
          0.7819533369727079,
          0.7581689805304307,
          0.7312691451204175,
          0.7013643679363651,
          0.6685775341222768,
          0.633043371811049,
          0.5949078984976719,
          0.5543278210220242,
          0.5114698916268519,
          0.4665102227370374,
          0.41963356327586726,
          0.3710325394920795,
          0.3209068634172889,
          0.26946251220641004,
          0.21691088173334785,
          0.16346791792000473,
          0.10935322936817021,
          0.05478918494066738,
          5.236239237642604e-17,
          5.59916245938125e-17,
          0.058586617909763834,
          0.11693249083974627,
          0.17479786308292758,
          0.23194495341267704,
          0.2881389321768176,
          0.34314888626303625,
          0.3967487679703948,
          0.44871832388781924,
          0.4988439999626099,
          0.5469198190398519,
          0.5927482272667257,
          0.6361409058836646,
          0.6769195450665312,
          0.7149165766399322,
          0.7499758626507951,
          0.7819533369727077,
          0.8107175973045347,
          0.8361504451306583,
          0.8581473714240319,
          0.8766179860961901,
          0.891486389429511,
          0.902691483965435,
          0.9101872255670289,
          0.9139428126242204,
          0.9139428126242204,
          0.9101872255670289,
          0.902691483965435,
          0.891486389429511,
          0.8766179860961901,
          0.8581473714240319,
          0.8361504451306583,
          0.8107175973045349,
          0.7819533369727077,
          0.7499758626507952,
          0.7149165766399322,
          0.6769195450665313,
          0.6361409058836647,
          0.592748227266726,
          0.546919819039852,
          0.49884399996261025,
          0.4487183238878194,
          0.3967487679703948,
          0.3431488862630364,
          0.2881389321768176,
          0.23194495341267746,
          0.17479786308292777,
          0.11693249083974668,
          0.058586617909764035,
          5.59916245938125e-17,
          5.870147588334058e-17,
          0.06142206023249663,
          0.12259172404450727,
          0.1832576321665767,
          0.24317049536943483,
          0.3020841188469125,
          0.35975641388320767,
          0.41595039264734807,
          0.470435142027021,
          0.5229867725000834,
          0.5733893381446321,
          0.6214357240071172,
          0.6669284971821122,
          0.709680718106472,
          0.7495167087340957,
          0.786272774434701,
          0.819797876650173,
          0.8499542535443964,
          0.8766179860961902,
          0.8996795073091464,
          0.9190440524459202,
          0.9346320484368628,
          0.9463794408628327,
          0.9542379571685435,
          0.958175305024849,
          0.958175305024849,
          0.9542379571685435,
          0.9463794408628327,
          0.9346320484368628,
          0.9190440524459202,
          0.8996795073091465,
          0.8766179860961902,
          0.8499542535443965,
          0.819797876650173,
          0.7862727744347011,
          0.7495167087340957,
          0.7096807181064723,
          0.6669284971821123,
          0.6214357240071176,
          0.5733893381446322,
          0.5229867725000837,
          0.4704351420270212,
          0.41595039264734807,
          0.3597564138832079,
          0.3020841188469125,
          0.24317049536943525,
          0.18325763216657692,
          0.1225917240445077,
          0.06142206023249684,
          5.870147588334058e-17,
          6.04474505617541e-17,
          0.06324895402431634,
          0.1262380045296886,
          0.18870831599648136,
          0.2504031845150377,
          0.3110690926371073,
          0.37045675113341975,
          0.4283221233766011,
          0.4844274281400206,
          0.5385421166918553,
          0.5904438201692814,
          0.6399192633398297,
          0.6867651409950631,
          0.730788953375287,
          0.771809797192353,
          0.8096591090000733,
          0.844181357857578,
          0.8752346844393125,
          0.902691483965435,
          0.9264389305572273,
          0.9463794408628325,
          0.962431075048179,
          0.9745278735053343,
          0.9826201278946828,
          0.9866745854071557,
          0.9866745854071557,
          0.9826201278946828,
          0.9745278735053343,
          0.962431075048179,
          0.9463794408628325,
          0.9264389305572274,
          0.902691483965435,
          0.8752346844393126,
          0.844181357857578,
          0.8096591090000734,
          0.771809797192353,
          0.7307889533752873,
          0.6867651409950633,
          0.6399192633398301,
          0.5904438201692815,
          0.5385421166918556,
          0.48442742814002077,
          0.4283221233766011,
          0.37045675113341997,
          0.3110690926371073,
          0.2504031845150381,
          0.18870831599648158,
          0.12623800452968906,
          0.06324895402431654,
          6.04474505617541e-17,
          6.120087977310359e-17,
          0.06403730173966848,
          0.1278114604705305,
          0.1910604144948468,
          0.2535242602936733,
          0.3149463205261701,
          0.3750741987718508,
          0.4336608166816146,
          0.49046542927568026,
          0.5452546142163474,
          0.5978032309904516,
          0.6478953460600252,
          0.6953251201795222,
          0.739897654233431,
          0.7814297901185455,
          0.8197508633798987,
          0.854703404507615,
          0.8861437860129042,
          0.9139428126242205,
          0.9379862521783452,
          0.958175305024849,
          0.9744270100150474,
          0.9866745854071558,
          0.9948677032867913,
          0.9989726963751682,
          0.9989726963751682,
          0.9948677032867913,
          0.9866745854071558,
          0.9744270100150474,
          0.958175305024849,
          0.9379862521783453,
          0.9139428126242205,
          0.8861437860129043,
          0.854703404507615,
          0.8197508633798988,
          0.7814297901185455,
          0.7398976542334312,
          0.6953251201795223,
          0.6478953460600255,
          0.5978032309904517,
          0.5452546142163477,
          0.49046542927568043,
          0.4336608166816146,
          0.375074198771851,
          0.3149463205261701,
          0.25352426029367375,
          0.191060414494847,
          0.12781146047053094,
          0.0640373017396687,
          6.120087977310359e-17,
          6.094939223056837e-17,
          0.06377415873086204,
          0.12728625576398478,
          0.19027530626935707,
          0.25248247472734336,
          0.3136521385393542,
          0.37353293843593394,
          0.4318788113659164,
          0.4884500016222818,
          0.5430140460497844,
          0.5953467292859209,
          0.6452330051099486,
          0.692467880113934,
          0.7368572560646367,
          0.7782187274947842,
          0.8163823312462619,
          0.8511912448851878,
          0.8825024311189311,
          0.910187225567029,
          0.9341318654707242,
          0.9542379571685435,
          0.9704228804169575,
          0.9826201278946829,
          0.9907795784955328,
          0.9948677032867913,
          0.9948677032867913,
          0.9907795784955328,
          0.9826201278946829,
          0.9704228804169575,
          0.9542379571685435,
          0.9341318654707244,
          0.910187225567029,
          0.8825024311189312,
          0.8511912448851878,
          0.816382331246262,
          0.7782187274947842,
          0.7368572560646369,
          0.6924678801139341,
          0.645233005109949,
          0.595346729285921,
          0.5430140460497848,
          0.48845000162228197,
          0.4318788113659164,
          0.37353293843593416,
          0.3136521385393542,
          0.25248247472734375,
          0.1902753062693573,
          0.12728625576398522,
          0.06377415873086226,
          6.094939223056837e-17,
          5.969711735264411e-17,
          0.06246384579882663,
          0.12467101425681293,
          0.18636588277536928,
          0.24729493390624513,
          0.30720779710910345,
          0.3658582775777745,
          0.423005367907524,
          0.4784142384461747,
          0.5318572022595176,
          0.5831146507457642,
          0.631975956054396,
          0.6782403366011829,
          0.7217176821227794,
          0.7622293348805763,
          0.7996088238036693,
          0.833702548554198,
          0.8643704107040818,
          0.8914863894295111,
          0.9149390593575433,
          0.9346320484368628,
          0.9504844339512096,
          0.9624310750481792,
          0.9704228804169575,
          0.9744270100150474,
          0.9744270100150474,
          0.9704228804169575,
          0.9624310750481792,
          0.9504844339512096,
          0.9346320484368628,
          0.9149390593575434,
          0.8914863894295111,
          0.8643704107040819,
          0.833702548554198,
          0.7996088238036694,
          0.7622293348805763,
          0.7217176821227796,
          0.678240336601183,
          0.6319759560543963,
          0.5831146507457643,
          0.5318572022595179,
          0.47841423844617487,
          0.423005367907524,
          0.3658582775777747,
          0.30720779710910345,
          0.24729493390624557,
          0.1863658827753695,
          0.12467101425681336,
          0.06246384579882684,
          5.969711735264411e-17,
          5.746461745820532e-17,
          0.06012787824568071,
          0.12000867814226043,
          0.17939633663857288,
          0.23804681710724387,
          0.29571911214353924,
          0.35217623391648606,
          0.40718618800270473,
          0.46052292670125694,
          0.5119672779121356,
          0.5613078457614366,
          0.6083418792723485,
          0.6528761055124065,
          0.6947275237934285,
          0.7337241576605968,
          0.7697057615805996,
          0.8025244794248994,
          0.8320454520422814,
          0.858147371424032,
          0.8807229791845672,
          0.8996795073091465,
          0.9149390593575434,
          0.9264389305572275,
          0.9341318654707244,
          0.9379862521783453,
          0.9379862521783453,
          0.9341318654707244,
          0.9264389305572275,
          0.9149390593575434,
          0.8996795073091465,
          0.8807229791845673,
          0.858147371424032,
          0.8320454520422815,
          0.8025244794248994,
          0.7697057615805997,
          0.7337241576605968,
          0.6947275237934287,
          0.6528761055124066,
          0.6083418792723488,
          0.5613078457614367,
          0.5119672779121359,
          0.46052292670125705,
          0.40718618800270473,
          0.3521762339164863,
          0.29571911214353924,
          0.2380468171072443,
          0.17939633663857307,
          0.12000867814226085,
          0.060127878245680916,
          5.746461745820532e-17,
          5.428855013379791e-17,
          0.05680461259406563,
          0.113375802850431,
          0.16948110761385052,
          0.2248899781525011,
          0.27937472753217424,
          0.3327114662307264,
          0.3846810221481508,
          0.435069841231748,
          0.48367086501553563,
          0.5302843814678992,
          0.5747188456511682,
          0.6167916668208506,
          0.6563299587301685,
          0.6931712500567296,
          0.7271641520320408,
          0.7581689805304307,
          0.7860583300610848,
          0.810717597304535,
          0.8320454520422814,
          0.8499542535443965,
          0.8643704107040819,
          0.8752346844393127,
          0.8825024311189312,
          0.8861437860129043,
          0.8861437860129043,
          0.8825024311189312,
          0.8752346844393127,
          0.8643704107040819,
          0.8499542535443965,
          0.8320454520422815,
          0.810717597304535,
          0.7860583300610849,
          0.7581689805304307,
          0.7271641520320408,
          0.6931712500567296,
          0.6563299587301687,
          0.6167916668208506,
          0.5747188456511684,
          0.5302843814678994,
          0.4836708650155359,
          0.43506984123174813,
          0.3846810221481508,
          0.3327114662307266,
          0.27937472753217424,
          0.2248899781525015,
          0.1694811076138507,
          0.11337580285043139,
          0.05680461259406582,
          5.428855013379791e-17,
          5.022106631708152e-17,
          0.05254861677410427,
          0.10488130001024076,
          0.15678300348766688,
          0.20804045197391338,
          0.2584430176184622,
          0.30778358546776324,
          0.3558594045450052,
          0.40247292099736887,
          0.44743258988718343,
          0.49055366229116204,
          0.5316589444733557,
          0.5705795260122224,
          0.6071554738897804,
          0.6412364896906846,
          0.672682527210654,
          0.7013643679363651,
          0.7271641520320408,
          0.7499758626507954,
          0.7697057615805997,
          0.7862727744347012,
          0.7996088238036695,
          0.8096591090000735,
          0.8163823312462621,
          0.8197508633798989,
          0.8197508633798989,
          0.8163823312462621,
          0.8096591090000735,
          0.7996088238036695,
          0.7862727744347012,
          0.7697057615805998,
          0.7499758626507954,
          0.7271641520320409,
          0.7013643679363651,
          0.672682527210654,
          0.6412364896906846,
          0.6071554738897805,
          0.5705795260122225,
          0.531658944473356,
          0.49055366229116215,
          0.4474325898871837,
          0.402472920997369,
          0.3558594045450052,
          0.30778358546776347,
          0.2584430176184622,
          0.20804045197391374,
          0.15678300348766708,
          0.10488130001024114,
          0.05254861677410446,
          5.022106631708152e-17,
          4.5328953979874954e-17,
          0.047429774119497045,
          0.09466464912348241,
          0.1415105267787158,
          0.18777490732550267,
          0.23326768050049787,
          0.2778019067405559,
          0.3211945853574948,
          0.36326740652717726,
          0.4038474840028252,
          0.4427680655416919,
          0.4798692181257956,
          0.5149984851609959,
          0.548011512953841,
          0.5787726438918579,
          0.6071554738897804,
          0.633043371811049,
          0.6563299587301686,
          0.6769195450665314,
          0.6947275237934286,
          0.7096807181064723,
          0.7217176821227796,
          0.7307889533752873,
          0.7368572560646369,
          0.7398976542334312,
          0.7398976542334312,
          0.7368572560646369,
          0.7307889533752873,
          0.7217176821227796,
          0.7096807181064723,
          0.6947275237934287,
          0.6769195450665314,
          0.6563299587301687,
          0.633043371811049,
          0.6071554738897805,
          0.5787726438918579,
          0.5480115129538411,
          0.514998485160996,
          0.47986921812579586,
          0.442768065541692,
          0.4038474840028255,
          0.36326740652717737,
          0.3211945853574948,
          0.27780190674055605,
          0.23326768050049787,
          0.187774907325503,
          0.14151052677871598,
          0.09466464912348273,
          0.04742977411949721,
          4.5328953979874954e-17,
          3.969254147150543e-17,
          0.04153213588511457,
          0.08289360731526198,
          0.12391445113232795,
          0.16442610389012477,
          0.20426209451774852,
          0.24325872838491686,
          0.281255759958318,
          0.3180970512848791,
          0.35363121359610705,
          0.3877122293970112,
          0.4202000524833106,
          0.4509611834213275,
          0.4798692181257957,
          0.5068053672813605,
          0.5316589444733558,
          0.5543278210220242,
          0.5747188456511684,
          0.5927482272667262,
          0.6083418792723487,
          0.6214357240071176,
          0.6319759560543963,
          0.6399192633398301,
          0.645233005109949,
          0.6478953460600255,
          0.6478953460600255,
          0.645233005109949,
          0.6399192633398301,
          0.6319759560543963,
          0.6214357240071176,
          0.6083418792723488,
          0.5927482272667262,
          0.5747188456511684,
          0.5543278210220242,
          0.5316589444733559,
          0.5068053672813605,
          0.47986921812579586,
          0.45096118342132757,
          0.4202000524833108,
          0.3877122293970113,
          0.3536312135961073,
          0.3180970512848792,
          0.281255759958318,
          0.24325872838491702,
          0.20426209451774852,
          0.16442610389012505,
          0.1239144511323281,
          0.08289360731526225,
          0.041532135885114715,
          3.969254147150543e-17,
          3.340437852953332e-17,
          0.034952541127716376,
          0.06976145476664239,
          0.10428370362414714,
          0.13837742837467598,
          0.1719025305901481,
          0.20472124843444803,
          0.23669872275636072,
          0.26770355125475076,
          0.2976083284388033,
          0.3262901691645146,
          0.3536312135961071,
          0.3795191115173757,
          0.40384748400282533,
          0.4265163605514937,
          0.4474325898871836,
          0.4665102227370374,
          0.48367086501553586,
          0.4988439999626103,
          0.5119672779121358,
          0.5229867725000837,
          0.5318572022595179,
          0.5385421166918557,
          0.5430140460497848,
          0.5452546142163477,
          0.5452546142163477,
          0.5430140460497848,
          0.5385421166918557,
          0.5318572022595179,
          0.5229867725000837,
          0.5119672779121359,
          0.4988439999626103,
          0.4836708650155359,
          0.4665102227370374,
          0.44743258988718365,
          0.4265163605514937,
          0.4038474840028255,
          0.3795191115173758,
          0.3536312135961073,
          0.32629016916451464,
          0.2976083284388035,
          0.26770355125475087,
          0.23669872275636072,
          0.20472124843444814,
          0.1719025305901481,
          0.13837742837467623,
          0.10428370362414727,
          0.06976145476664262,
          0.0349525411277165,
          3.340437852953332e-17,
          2.6567716615620147e-17,
          0.02779902661131622,
          0.05548382105941401,
          0.08294062058553638,
          0.11005659931096544,
          0.13672033186275934,
          0.16282225124450986,
          0.1882550990706333,
          0.21291436631408342,
          0.2366987227563606,
          0.2595104333751151,
          0.28125575995831786,
          0.30184534629468057,
          0.32119458535749473,
          0.33922396697305246,
          0.35585940454500514,
          0.3710325394920795,
          0.3846810221481508,
          0.39674876797039493,
          0.40718618800270473,
          0.41595039264734807,
          0.4230053679075241,
          0.4283221233766012,
          0.43187881136591644,
          0.43366081668161466,
          0.43366081668161466,
          0.43187881136591644,
          0.4283221233766012,
          0.4230053679075241,
          0.41595039264734807,
          0.4071861880027048,
          0.39674876797039493,
          0.38468102214815086,
          0.3710325394920795,
          0.3558594045450052,
          0.33922396697305246,
          0.32119458535749484,
          0.3018453462946806,
          0.28125575995831803,
          0.25951043337511515,
          0.23669872275636075,
          0.2129143663140835,
          0.1882550990706333,
          0.16282225124450994,
          0.13672033186275934,
          0.11005659931096563,
          0.08294062058553647,
          0.055483821059414205,
          0.027799026611316315,
          2.6567716615620147e-17,
          1.9294813529382676e-17,
          0.020189052846503838,
          0.040295144544323126,
          0.06023565484992839,
          0.07992864392924785,
          0.09929318906602173,
          0.11824971719060103,
          0.13672033186275934,
          0.15462913336487438,
          0.17190253059014804,
          0.1884695434442496,
          0.20426209451774846,
          0.21921528883079203,
          0.23326768050049784,
          0.2463615252352666,
          0.2584430176184622,
          0.2694625122064101,
          0.2793747275321743,
          0.28813893217681763,
          0.2957191121435393,
          0.30208411884691255,
          0.3072077971091035,
          0.3110690926371074,
          0.31365213853935425,
          0.31494632052617016,
          0.31494632052617016,
          0.31365213853935425,
          0.3110690926371074,
          0.3072077971091035,
          0.30208411884691255,
          0.2957191121435393,
          0.28813893217681763,
          0.2793747275321743,
          0.2694625122064101,
          0.2584430176184622,
          0.2463615252352666,
          0.23326768050049793,
          0.21921528883079205,
          0.20426209451774857,
          0.18846954344424963,
          0.17190253059014812,
          0.15462913336487444,
          0.13672033186275934,
          0.1182497171906011,
          0.09929318906602173,
          0.07992864392924799,
          0.06023565484992846,
          0.040295144544323265,
          0.02018905284650391,
          1.9294813529382676e-17,
          1.1705090138426663e-17,
          0.012247575392108365,
          0.024444822869833866,
          0.036541621326989154,
          0.04848826242395865,
          0.06023565484992847,
          0.07173552604961245,
          0.08294062058553649,
          0.09380489432076725,
          0.10428370362414723,
          0.11433398882055132,
          0.12391445113232807,
          0.13298572238483566,
          0.14151052677871598,
          0.14945383406414978,
          0.15678300348766708,
          0.16346791792000476,
          0.16948110761385074,
          0.17479786308292786,
          0.1793963366385731,
          0.18325763216657698,
          0.18636588277536956,
          0.18870831599648163,
          0.19027530626935735,
          0.19106041449484706,
          0.19106041449484706,
          0.19027530626935735,
          0.18870831599648163,
          0.18636588277536956,
          0.18325763216657698,
          0.17939633663857313,
          0.17479786308292786,
          0.16948110761385077,
          0.16346791792000476,
          0.1567830034876671,
          0.14945383406414978,
          0.14151052677871603,
          0.1329857223848357,
          0.12391445113232813,
          0.11433398882055133,
          0.1042837036241473,
          0.09380489432076727,
          0.08294062058553649,
          0.07173552604961249,
          0.06023565484992847,
          0.04848826242395873,
          0.036541621326989196,
          0.02444482286983395,
          0.012247575392108407,
          1.1705090138426663e-17,
          3.923169491002363e-18,
          0.004104993088376966,
          0.008193117879635533,
          0.012247575392108403,
          0.016251704990198415,
          0.02018905284650393,
          0.02404343955412489,
          0.027799026611316342,
          0.03144038150528939,
          0.034952541127716515,
          0.0383210732613533,
          0.04153213588511474,
          0.044572534053909034,
          0.047429774119497246,
          0.05009211506957381,
          0.0525486167741045,
          0.054789184940667444,
          0.05680461259406588,
          0.058586617909764105,
          0.06012787824568097,
          0.061422060232496904,
          0.06246384579882691,
          0.06324895402431663,
          0.06377415873086233,
          0.06403730173966878,
          0.06403730173966878,
          0.06377415873086233,
          0.06324895402431663,
          0.06246384579882691,
          0.061422060232496904,
          0.06012787824568098,
          0.058586617909764105,
          0.056804612594065884,
          0.054789184940667444,
          0.05254861677410451,
          0.05009211506957381,
          0.04742977411949726,
          0.04457253405390904,
          0.041532135885114764,
          0.038321073261353304,
          0.034952541127716535,
          0.031440381505289404,
          0.027799026611316342,
          0.024043439554124905,
          0.02018905284650393,
          0.016251704990198443,
          0.012247575392108417,
          0.00819311787963556,
          0.004104993088376981,
          3.923169491002363e-18,
          -3.92316949100232e-18,
          -0.004104993088376922,
          -0.008193117879635444,
          -0.01224757539210827,
          -0.016251704990198238,
          -0.02018905284650371,
          -0.02404343955412463,
          -0.02779902661131604,
          -0.03144038150528905,
          -0.03495254112771614,
          -0.03832107326135288,
          -0.04153213588511429,
          -0.044572534053908555,
          -0.04742977411949673,
          -0.05009211506957326,
          -0.05254861677410393,
          -0.05478918494066685,
          -0.05680461259406526,
          -0.05858661790976347,
          -0.06012787824568032,
          -0.06142206023249624,
          -0.06246384579882623,
          -0.06324895402431595,
          -0.06377415873086165,
          -0.06403730173966808,
          -0.06403730173966808,
          -0.06377415873086165,
          -0.06324895402431595,
          -0.06246384579882623,
          -0.06142206023249624,
          -0.060127878245680326,
          -0.05858661790976347,
          -0.05680461259406527,
          -0.05478918494066685,
          -0.05254861677410394,
          -0.05009211506957326,
          -0.04742977411949675,
          -0.04457253405390856,
          -0.04153213588511431,
          -0.03832107326135289,
          -0.03495254112771616,
          -0.03144038150528906,
          -0.02779902661131604,
          -0.024043439554124645,
          -0.02018905284650371,
          -0.016251704990198266,
          -0.012247575392108285,
          -0.008193117879635472,
          -0.004104993088376936,
          -3.92316949100232e-18,
          -1.1705090138426621e-17,
          -0.012247575392108322,
          -0.02444482286983378,
          -0.03654162132698903,
          -0.048488262423958484,
          -0.06023565484992826,
          -0.0717355260496122,
          -0.08294062058553621,
          -0.09380489432076693,
          -0.10428370362414686,
          -0.11433398882055092,
          -0.12391445113232763,
          -0.1329857223848352,
          -0.14151052677871548,
          -0.14945383406414925,
          -0.15678300348766652,
          -0.1634679179200042,
          -0.16948110761385016,
          -0.17479786308292725,
          -0.1793963366385725,
          -0.18325763216657634,
          -0.18636588277536892,
          -0.188708315996481,
          -0.19027530626935668,
          -0.1910604144948464,
          -0.1910604144948464,
          -0.19027530626935668,
          -0.188708315996481,
          -0.18636588277536892,
          -0.18325763216657634,
          -0.17939633663857252,
          -0.17479786308292725,
          -0.16948110761385018,
          -0.1634679179200042,
          -0.15678300348766655,
          -0.14945383406414925,
          -0.14151052677871553,
          -0.13298572238483522,
          -0.1239144511323277,
          -0.11433398882055094,
          -0.10428370362414693,
          -0.09380489432076695,
          -0.08294062058553621,
          -0.07173552604961224,
          -0.06023565484992826,
          -0.04848826242395857,
          -0.03654162132698907,
          -0.024444822869833866,
          -0.012247575392108365,
          -1.1705090138426621e-17,
          -1.929481352938264e-17,
          -0.0201890528465038,
          -0.04029514454432305,
          -0.06023565484992827,
          -0.07992864392924769,
          -0.09929318906602154,
          -0.11824971719060079,
          -0.1367203318627591,
          -0.15462913336487408,
          -0.1719025305901477,
          -0.18846954344424924,
          -0.20426209451774807,
          -0.21921528883079158,
          -0.2332676805004974,
          -0.24636152523526614,
          -0.2584430176184617,
          -0.2694625122064096,
          -0.27937472753217374,
          -0.2881389321768171,
          -0.2957191121435387,
          -0.30208411884691194,
          -0.30720779710910295,
          -0.3110690926371068,
          -0.31365213853935364,
          -0.31494632052616955,
          -0.31494632052616955,
          -0.31365213853935364,
          -0.3110690926371068,
          -0.30720779710910295,
          -0.30208411884691194,
          -0.29571911214353874,
          -0.2881389321768171,
          -0.2793747275321738,
          -0.2694625122064096,
          -0.2584430176184617,
          -0.24636152523526614,
          -0.23326768050049748,
          -0.2192152888307916,
          -0.20426209451774816,
          -0.18846954344424927,
          -0.1719025305901478,
          -0.15462913336487413,
          -0.1367203318627591,
          -0.11824971719060086,
          -0.09929318906602154,
          -0.07992864392924783,
          -0.06023565484992834,
          -0.04029514454432319,
          -0.02018905284650387,
          -1.929481352938264e-17,
          -2.6567716615620132e-17,
          -0.027799026611316207,
          -0.05548382105941398,
          -0.08294062058553633,
          -0.11005659931096538,
          -0.13672033186275925,
          -0.16282225124450977,
          -0.1882550990706332,
          -0.21291436631408334,
          -0.2366987227563605,
          -0.259510433375115,
          -0.28125575995831775,
          -0.30184534629468046,
          -0.32119458535749457,
          -0.3392239669730523,
          -0.355859404545005,
          -0.3710325394920793,
          -0.38468102214815064,
          -0.3967487679703947,
          -0.40718618800270456,
          -0.4159503926473479,
          -0.42300536790752385,
          -0.42832212337660097,
          -0.4318788113659162,
          -0.43366081668161444,
          -0.43366081668161444,
          -0.4318788113659162,
          -0.42832212337660097,
          -0.42300536790752385,
          -0.4159503926473479,
          -0.40718618800270456,
          -0.3967487679703947,
          -0.38468102214815064,
          -0.3710325394920793,
          -0.35585940454500503,
          -0.3392239669730523,
          -0.3211945853574947,
          -0.30184534629468046,
          -0.28125575995831786,
          -0.25951043337511503,
          -0.23669872275636064,
          -0.2129143663140834,
          -0.1882550990706332,
          -0.16282225124450986,
          -0.13672033186275925,
          -0.11005659931096558,
          -0.08294062058553643,
          -0.05548382105941418,
          -0.0277990266113163,
          -2.6567716615620132e-17,
          -3.340437852953329e-17,
          -0.03495254112771634,
          -0.06976145476664232,
          -0.10428370362414703,
          -0.13837742837467584,
          -0.17190253059014793,
          -0.20472124843444783,
          -0.2366987227563605,
          -0.2677035512547505,
          -0.297608328438803,
          -0.32629016916451425,
          -0.3536312135961067,
          -0.37951911151737533,
          -0.40384748400282494,
          -0.42651636055149333,
          -0.44743258988718315,
          -0.46651022273703696,
          -0.48367086501553536,
          -0.4988439999626098,
          -0.5119672779121354,
          -0.5229867725000832,
          -0.5318572022595174,
          -0.5385421166918551,
          -0.5430140460497842,
          -0.5452546142163471,
          -0.5452546142163471,
          -0.5430140460497842,
          -0.5385421166918551,
          -0.5318572022595174,
          -0.5229867725000832,
          -0.5119672779121354,
          -0.4988439999626098,
          -0.4836708650155354,
          -0.46651022273703696,
          -0.4474325898871832,
          -0.42651636055149333,
          -0.40384748400282505,
          -0.3795191115173754,
          -0.3536312135961069,
          -0.3262901691645143,
          -0.2976083284388032,
          -0.2677035512547506,
          -0.2366987227563605,
          -0.20472124843444794,
          -0.17190253059014793,
          -0.1383774283746761,
          -0.10428370362414716,
          -0.06976145476664256,
          -0.034952541127716466,
          -3.340437852953329e-17,
          -3.9692541471505396e-17,
          -0.041532135885114535,
          -0.0828936073152619,
          -0.12391445113232785,
          -0.16442610389012463,
          -0.20426209451774835,
          -0.24325872838491666,
          -0.28125575995831775,
          -0.3180970512848788,
          -0.3536312135961068,
          -0.3877122293970109,
          -0.42020005248331027,
          -0.4509611834213271,
          -0.4798692181257953,
          -0.50680536728136,
          -0.5316589444733554,
          -0.5543278210220237,
          -0.5747188456511678,
          -0.5927482272667256,
          -0.6083418792723483,
          -0.621435724007117,
          -0.6319759560543958,
          -0.6399192633398295,
          -0.6452330051099484,
          -0.647895346060025,
          -0.647895346060025,
          -0.6452330051099484,
          -0.6399192633398295,
          -0.6319759560543958,
          -0.621435724007117,
          -0.6083418792723483,
          -0.5927482272667256,
          -0.5747188456511679,
          -0.5543278210220237,
          -0.5316589444733555,
          -0.50680536728136,
          -0.4798692181257954,
          -0.4509611834213272,
          -0.4202000524833105,
          -0.38771222939701094,
          -0.35363121359610694,
          -0.3180970512848789,
          -0.28125575995831775,
          -0.2432587283849168,
          -0.20426209451774835,
          -0.1644261038901249,
          -0.12391445113232799,
          -0.08289360731526219,
          -0.04153213588511468,
          -3.9692541471505396e-17,
          -4.532895397987493e-17,
          -0.04742977411949702,
          -0.09466464912348235,
          -0.14151052677871573,
          -0.18777490732550256,
          -0.23326768050049773,
          -0.2778019067405557,
          -0.32119458535749457,
          -0.36326740652717704,
          -0.403847484002825,
          -0.4427680655416917,
          -0.4798692181257953,
          -0.5149984851609956,
          -0.5480115129538407,
          -0.5787726438918576,
          -0.60715547388978,
          -0.6330433718110486,
          -0.6563299587301682,
          -0.676919545066531,
          -0.6947275237934282,
          -0.7096807181064718,
          -0.7217176821227792,
          -0.7307889533752868,
          -0.7368572560646365,
          -0.7398976542334308,
          -0.7398976542334308,
          -0.7368572560646365,
          -0.7307889533752868,
          -0.7217176821227792,
          -0.7096807181064718,
          -0.6947275237934283,
          -0.676919545066531,
          -0.6563299587301683,
          -0.6330433718110486,
          -0.6071554738897801,
          -0.5787726438918576,
          -0.5480115129538409,
          -0.5149984851609957,
          -0.4798692181257956,
          -0.44276806554169174,
          -0.4038474840028252,
          -0.3632674065271772,
          -0.32119458535749457,
          -0.2778019067405559,
          -0.23326768050049773,
          -0.1877749073255029,
          -0.1415105267787159,
          -0.09466464912348267,
          -0.047429774119497184,
          -4.532895397987493e-17,
          -5.022106631708149e-17,
          -0.052548616774104245,
          -0.10488130001024071,
          -0.1567830034876668,
          -0.20804045197391327,
          -0.2584430176184621,
          -0.3077835854677631,
          -0.35585940454500503,
          -0.40247292099736864,
          -0.4474325898871832,
          -0.4905536622911618,
          -0.5316589444733555,
          -0.5705795260122221,
          -0.6071554738897801,
          -0.6412364896906843,
          -0.6726825272106536,
          -0.7013643679363648,
          -0.7271641520320404,
          -0.749975862650795,
          -0.7697057615805992,
          -0.7862727744347008,
          -0.799608823803669,
          -0.8096591090000731,
          -0.8163823312462617,
          -0.8197508633798984,
          -0.8197508633798984,
          -0.8163823312462617,
          -0.8096591090000731,
          -0.799608823803669,
          -0.7862727744347008,
          -0.7697057615805993,
          -0.749975862650795,
          -0.7271641520320405,
          -0.7013643679363648,
          -0.6726825272106537,
          -0.6412364896906843,
          -0.6071554738897802,
          -0.5705795260122222,
          -0.5316589444733557,
          -0.4905536622911619,
          -0.4474325898871835,
          -0.40247292099736875,
          -0.35585940454500503,
          -0.3077835854677633,
          -0.2584430176184621,
          -0.20804045197391363,
          -0.156783003487667,
          -0.10488130001024108,
          -0.052548616774104426,
          -5.022106631708149e-17,
          -5.428855013379791e-17,
          -0.05680461259406563,
          -0.113375802850431,
          -0.16948110761385052,
          -0.2248899781525011,
          -0.27937472753217424,
          -0.3327114662307264,
          -0.3846810221481508,
          -0.435069841231748,
          -0.48367086501553563,
          -0.5302843814678992,
          -0.5747188456511682,
          -0.6167916668208506,
          -0.6563299587301685,
          -0.6931712500567296,
          -0.7271641520320408,
          -0.7581689805304307,
          -0.7860583300610848,
          -0.810717597304535,
          -0.8320454520422814,
          -0.8499542535443965,
          -0.8643704107040819,
          -0.8752346844393127,
          -0.8825024311189312,
          -0.8861437860129043,
          -0.8861437860129043,
          -0.8825024311189312,
          -0.8752346844393127,
          -0.8643704107040819,
          -0.8499542535443965,
          -0.8320454520422815,
          -0.810717597304535,
          -0.7860583300610849,
          -0.7581689805304307,
          -0.7271641520320408,
          -0.6931712500567296,
          -0.6563299587301687,
          -0.6167916668208506,
          -0.5747188456511684,
          -0.5302843814678994,
          -0.4836708650155359,
          -0.43506984123174813,
          -0.3846810221481508,
          -0.3327114662307266,
          -0.27937472753217424,
          -0.2248899781525015,
          -0.1694811076138507,
          -0.11337580285043139,
          -0.05680461259406582,
          -5.428855013379791e-17,
          -5.746461745820531e-17,
          -0.060127878245680694,
          -0.1200086781422604,
          -0.17939633663857282,
          -0.23804681710724382,
          -0.2957191121435392,
          -0.35217623391648595,
          -0.4071861880027046,
          -0.46052292670125683,
          -0.5119672779121355,
          -0.5613078457614364,
          -0.6083418792723484,
          -0.6528761055124064,
          -0.6947275237934284,
          -0.7337241576605967,
          -0.7697057615805993,
          -0.8025244794248992,
          -0.8320454520422812,
          -0.8581473714240319,
          -0.880722979184567,
          -0.8996795073091463,
          -0.9149390593575433,
          -0.9264389305572273,
          -0.9341318654707241,
          -0.9379862521783451,
          -0.9379862521783451,
          -0.9341318654707241,
          -0.9264389305572273,
          -0.9149390593575433,
          -0.8996795073091463,
          -0.8807229791845671,
          -0.8581473714240319,
          -0.8320454520422813,
          -0.8025244794248992,
          -0.7697057615805994,
          -0.7337241576605967,
          -0.6947275237934285,
          -0.6528761055124064,
          -0.6083418792723487,
          -0.5613078457614366,
          -0.5119672779121358,
          -0.46052292670125694,
          -0.4071861880027046,
          -0.35217623391648617,
          -0.2957191121435392,
          -0.23804681710724424,
          -0.17939633663857305,
          -0.12000867814226082,
          -0.0601278782456809,
          -5.746461745820531e-17,
          -5.96971173526441e-17,
          -0.06246384579882662,
          -0.12467101425681291,
          -0.18636588277536925,
          -0.2472949339062451,
          -0.30720779710910345,
          -0.36585827757777445,
          -0.42300536790752397,
          -0.47841423844617464,
          -0.5318572022595176,
          -0.5831146507457641,
          -0.6319759560543959,
          -0.6782403366011828,
          -0.7217176821227794,
          -0.7622293348805762,
          -0.7996088238036692,
          -0.833702548554198,
          -0.8643704107040818,
          -0.891486389429511,
          -0.9149390593575433,
          -0.9346320484368628,
          -0.9504844339512095,
          -0.962431075048179,
          -0.9704228804169573,
          -0.9744270100150473,
          -0.9744270100150473,
          -0.9704228804169573,
          -0.962431075048179,
          -0.9504844339512095,
          -0.9346320484368628,
          -0.9149390593575434,
          -0.891486389429511,
          -0.8643704107040819,
          -0.833702548554198,
          -0.7996088238036693,
          -0.7622293348805762,
          -0.7217176821227796,
          -0.6782403366011829,
          -0.6319759560543963,
          -0.5831146507457642,
          -0.5318572022595179,
          -0.4784142384461748,
          -0.42300536790752397,
          -0.36585827757777467,
          -0.30720779710910345,
          -0.24729493390624555,
          -0.18636588277536947,
          -0.12467101425681335,
          -0.062463845798826835,
          -5.96971173526441e-17,
          -6.094939223056836e-17,
          -0.06377415873086204,
          -0.12728625576398475,
          -0.19027530626935704,
          -0.2524824747273433,
          -0.31365213853935414,
          -0.3735329384359339,
          -0.4318788113659163,
          -0.48845000162228175,
          -0.5430140460497844,
          -0.5953467292859209,
          -0.6452330051099486,
          -0.6924678801139339,
          -0.7368572560646366,
          -0.778218727494784,
          -0.8163823312462618,
          -0.8511912448851877,
          -0.8825024311189311,
          -0.9101872255670289,
          -0.9341318654707241,
          -0.9542379571685434,
          -0.9704228804169573,
          -0.9826201278946828,
          -0.9907795784955327,
          -0.9948677032867912,
          -0.9948677032867912,
          -0.9907795784955327,
          -0.9826201278946828,
          -0.9704228804169573,
          -0.9542379571685434,
          -0.9341318654707242,
          -0.9101872255670289,
          -0.8825024311189312,
          -0.8511912448851877,
          -0.8163823312462619,
          -0.778218727494784,
          -0.7368572560646368,
          -0.692467880113934,
          -0.6452330051099489,
          -0.595346729285921,
          -0.5430140460497848,
          -0.4884500016222819,
          -0.4318788113659163,
          -0.3735329384359341,
          -0.31365213853935414,
          -0.25248247472734375,
          -0.19027530626935726,
          -0.1272862557639852,
          -0.06377415873086226,
          -6.094939223056836e-17,
          -6.120087977310359e-17,
          -0.06403730173966848,
          -0.1278114604705305,
          -0.1910604144948468,
          -0.2535242602936733,
          -0.3149463205261701,
          -0.3750741987718508,
          -0.4336608166816146,
          -0.49046542927568026,
          -0.5452546142163474,
          -0.5978032309904516,
          -0.6478953460600252,
          -0.6953251201795222,
          -0.739897654233431,
          -0.7814297901185455,
          -0.8197508633798987,
          -0.854703404507615,
          -0.8861437860129042,
          -0.9139428126242205,
          -0.9379862521783452,
          -0.958175305024849,
          -0.9744270100150474,
          -0.9866745854071558,
          -0.9948677032867913,
          -0.9989726963751682,
          -0.9989726963751682,
          -0.9948677032867913,
          -0.9866745854071558,
          -0.9744270100150474,
          -0.958175305024849,
          -0.9379862521783453,
          -0.9139428126242205,
          -0.8861437860129043,
          -0.854703404507615,
          -0.8197508633798988,
          -0.7814297901185455,
          -0.7398976542334312,
          -0.6953251201795223,
          -0.6478953460600255,
          -0.5978032309904517,
          -0.5452546142163477,
          -0.49046542927568043,
          -0.4336608166816146,
          -0.375074198771851,
          -0.3149463205261701,
          -0.25352426029367375,
          -0.191060414494847,
          -0.12781146047053094,
          -0.0640373017396687,
          -6.120087977310359e-17,
          -6.044745056175412e-17,
          -0.06324895402431635,
          -0.12623800452968864,
          -0.18870831599648138,
          -0.25040318451503774,
          -0.31106909263710736,
          -0.37045675113341986,
          -0.4283221233766012,
          -0.4844274281400207,
          -0.5385421166918555,
          -0.5904438201692815,
          -0.6399192633398298,
          -0.6867651409950633,
          -0.7307889533752872,
          -0.7718097971923532,
          -0.8096591090000734,
          -0.8441813578575782,
          -0.8752346844393127,
          -0.9026914839654352,
          -0.9264389305572275,
          -0.9463794408628328,
          -0.9624310750481793,
          -0.9745278735053345,
          -0.982620127894683,
          -0.9866745854071559,
          -0.9866745854071559,
          -0.982620127894683,
          -0.9745278735053345,
          -0.9624310750481793,
          -0.9463794408628328,
          -0.9264389305572275,
          -0.9026914839654352,
          -0.8752346844393128,
          -0.8441813578575782,
          -0.8096591090000735,
          -0.7718097971923532,
          -0.7307889533752874,
          -0.6867651409950634,
          -0.6399192633398302,
          -0.5904438201692817,
          -0.5385421166918558,
          -0.4844274281400209,
          -0.4283221233766012,
          -0.3704567511334201,
          -0.31106909263710736,
          -0.2504031845150382,
          -0.1887083159964816,
          -0.12623800452968909,
          -0.06324895402431656,
          -6.044745056175412e-17,
          -5.87014758833406e-17,
          -0.06142206023249664,
          -0.1225917240445073,
          -0.18325763216657676,
          -0.24317049536943489,
          -0.30208411884691255,
          -0.3597564138832078,
          -0.4159503926473481,
          -0.47043514202702114,
          -0.5229867725000836,
          -0.5733893381446322,
          -0.6214357240071173,
          -0.6669284971821124,
          -0.7096807181064722,
          -0.7495167087340958,
          -0.7862727744347012,
          -0.8197978766501732,
          -0.8499542535443966,
          -0.8766179860961905,
          -0.8996795073091466,
          -0.9190440524459205,
          -0.934632048436863,
          -0.9463794408628329,
          -0.9542379571685438,
          -0.9581753050248493,
          -0.9581753050248493,
          -0.9542379571685438,
          -0.9463794408628329,
          -0.934632048436863,
          -0.9190440524459205,
          -0.8996795073091467,
          -0.8766179860961905,
          -0.8499542535443967,
          -0.8197978766501732,
          -0.7862727744347013,
          -0.7495167087340958,
          -0.7096807181064724,
          -0.6669284971821126,
          -0.6214357240071177,
          -0.5733893381446323,
          -0.5229867725000839,
          -0.4704351420270213,
          -0.4159503926473481,
          -0.359756413883208,
          -0.30208411884691255,
          -0.2431704953694353,
          -0.18325763216657698,
          -0.12259172404450773,
          -0.061422060232496856,
          -5.87014758833406e-17,
          -5.599162459381253e-17,
          -0.05858661790976386,
          -0.11693249083974633,
          -0.17479786308292766,
          -0.23194495341267715,
          -0.2881389321768177,
          -0.3431488862630364,
          -0.396748767970395,
          -0.44871832388781946,
          -0.4988439999626102,
          -0.5469198190398521,
          -0.592748227266726,
          -0.6361409058836649,
          -0.6769195450665315,
          -0.7149165766399326,
          -0.7499758626507954,
          -0.7819533369727081,
          -0.8107175973045352,
          -0.8361504451306587,
          -0.8581473714240322,
          -0.8766179860961906,
          -0.8914863894295113,
          -0.9026914839654354,
          -0.9101872255670294,
          -0.9139428126242208,
          -0.9139428126242208,
          -0.9101872255670294,
          -0.9026914839654354,
          -0.8914863894295113,
          -0.8766179860961906,
          -0.8581473714240323,
          -0.8361504451306587,
          -0.8107175973045353,
          -0.7819533369727081,
          -0.7499758626507955,
          -0.7149165766399326,
          -0.6769195450665316,
          -0.636140905883665,
          -0.5927482272667264,
          -0.5469198190398522,
          -0.4988439999626105,
          -0.4487183238878196,
          -0.396748767970395,
          -0.3431488862630366,
          -0.2881389321768177,
          -0.23194495341267757,
          -0.17479786308292786,
          -0.11693249083974673,
          -0.05858661790976406,
          -5.599162459381253e-17,
          -5.2362392376426063e-17,
          -0.05478918494066722,
          -0.1093532293681699,
          -0.16346791792000462,
          -0.21691088173334758,
          -0.2694625122064102,
          -0.3209068634172889,
          -0.37103253949207965,
          -0.4196335632758673,
          -0.4665102227370374,
          -0.511469891626852,
          -0.5543278210220242,
          -0.5949078984976721,
          -0.6330433718110491,
          -0.6685775341222772,
          -0.7013643679363654,
          -0.7312691451204179,
          -0.7581689805304309,
          -0.7819533369727082,
          -0.8025244794248997,
          -0.8197978766501735,
          -0.8337025485541985,
          -0.8441813578575785,
          -0.8511912448851883,
          -0.8547034045076154,
          -0.8547034045076154,
          -0.8511912448851883,
          -0.8441813578575785,
          -0.8337025485541985,
          -0.8197978766501735,
          -0.8025244794248998,
          -0.7819533369727082,
          -0.758168980530431,
          -0.7312691451204179,
          -0.7013643679363655,
          -0.6685775341222772,
          -0.6330433718110493,
          -0.5949078984976722,
          -0.5543278210220245,
          -0.5114698916268521,
          -0.4665102227370377,
          -0.4196335632758675,
          -0.37103253949207965,
          -0.3209068634172891,
          -0.2694625122064102,
          -0.21691088173334797,
          -0.1634679179200048,
          -0.10935322936817027,
          -0.05478918494066741,
          -5.2362392376426063e-17,
          -4.7873371123855144e-17,
          -0.05009211506957359,
          -0.09997839089360128,
          -0.14945383406414958,
          -0.19831513937278136,
          -0.2463615252352666,
          -0.29339555874617856,
          -0.33922396697305246,
          -0.38365843115632137,
          -0.42651636055149356,
          -0.4676216427336872,
          -0.5068053672813604,
          -0.543906519865464,
          -0.5787726438918578,
          -0.6112604669781573,
          -0.6412364896906845,
          -0.6685775341222769,
          -0.6931712500567296,
          -0.7149165766399325,
          -0.7337241576605968,
          -0.7495167087340958,
          -0.7622293348805764,
          -0.7718097971923532,
          -0.7782187274947843,
          -0.7814297901185456,
          -0.7814297901185456,
          -0.7782187274947843,
          -0.7718097971923532,
          -0.7622293348805764,
          -0.7495167087340958,
          -0.733724157660597,
          -0.7149165766399325,
          -0.6931712500567297,
          -0.6685775341222769,
          -0.6412364896906846,
          -0.6112604669781573,
          -0.578772643891858,
          -0.5439065198654641,
          -0.5068053672813606,
          -0.4676216427336873,
          -0.4265163605514938,
          -0.38365843115632153,
          -0.33922396697305246,
          -0.29339555874617873,
          -0.2463615252352666,
          -0.19831513937278172,
          -0.14945383406414975,
          -0.09997839089360162,
          -0.05009211506957376,
          -4.7873371123855144e-17,
          -4.259827044096134e-17,
          -0.04457253405390887,
          -0.08896191000461162,
          -0.13298572238483558,
          -0.17646306790643224,
          -0.21921528883079214,
          -0.26106670711181423,
          -0.3018453462946808,
          -0.3413836382039988,
          -0.3795191115173758,
          -0.4160950593949338,
          -0.4509611834213276,
          -0.4839742112141728,
          -0.5149984851609961,
          -0.5439065198654643,
          -0.5705795260122227,
          -0.5949078984976723,
          -0.616791666820851,
          -0.6361409058836652,
          -0.6528761055124069,
          -0.6669284971821128,
          -0.6782403366011833,
          -0.6867651409950637,
          -0.6924678801139346,
          -0.6953251201795227,
          -0.6953251201795227,
          -0.6924678801139346,
          -0.6867651409950637,
          -0.6782403366011833,
          -0.6669284971821128,
          -0.652876105512407,
          -0.6361409058836652,
          -0.6167916668208511,
          -0.5949078984976723,
          -0.5705795260122228,
          -0.5439065198654643,
          -0.5149984851609963,
          -0.48397421121417283,
          -0.4509611834213279,
          -0.41609505939493385,
          -0.37951911151737605,
          -0.3413836382039989,
          -0.3018453462946808,
          -0.2610667071118144,
          -0.21921528883079214,
          -0.17646306790643254,
          -0.13298572238483575,
          -0.08896191000461193,
          -0.04457253405390903,
          -4.259827044096134e-17,
          -3.6623707335119667e-17,
          -0.03832107326135314,
          -0.0764846770128309,
          -0.1143339888205512,
          -0.15171347774364413,
          -0.18846954344424963,
          -0.2244511473642523,
          -0.2595104333751152,
          -0.29350333535042633,
          -0.32629016916451453,
          -0.3577362066844839,
          -0.38771222939701117,
          -0.41609505939493363,
          -0.44276806554169196,
          -0.46762164273368734,
          -0.4905536622911621,
          -0.511469891626852,
          -0.5302843814678994,
          -0.5469198190398521,
          -0.5613078457614368,
          -0.5733893381446323,
          -0.5831146507457644,
          -0.5904438201692817,
          -0.5953467292859211,
          -0.5978032309904519,
          -0.5978032309904519,
          -0.5953467292859211,
          -0.5904438201692817,
          -0.5831146507457644,
          -0.5733893381446323,
          -0.5613078457614368,
          -0.5469198190398521,
          -0.5302843814678995,
          -0.511469891626852,
          -0.49055366229116215,
          -0.46762164273368734,
          -0.44276806554169207,
          -0.4160950593949337,
          -0.38771222939701133,
          -0.357736206684484,
          -0.3262901691645147,
          -0.2935033353504264,
          -0.2595104333751152,
          -0.22445114736425245,
          -0.18846954344424963,
          -0.15171347774364438,
          -0.11433398882055132,
          -0.07648467701283117,
          -0.03832107326135327,
          -3.6623707335119667e-17,
          -3.004778396735241e-17,
          -0.03144038150528929,
          -0.06275156773903263,
          -0.09380489432076723,
          -0.12447275647065106,
          -0.15462913336487455,
          -0.1841501059822566,
          -0.2129143663140837,
          -0.2408037158447379,
          -0.267703551254751,
          -0.2935033353504266,
          -0.31809705128487936,
          -0.341383638203999,
          -0.36326740652717765,
          -0.38365843115632187,
          -0.40247292099736925,
          -0.4196335632758677,
          -0.4350698412317485,
          -0.4487183238878199,
          -0.4605229267012575,
          -0.4704351420270217,
          -0.47841423844617537,
          -0.4844274281400213,
          -0.48845000162228247,
          -0.49046542927568093,
          -0.49046542927568093,
          -0.48845000162228247,
          -0.4844274281400213,
          -0.47841423844617537,
          -0.4704351420270217,
          -0.46052292670125755,
          -0.4487183238878199,
          -0.4350698412317486,
          -0.4196335632758677,
          -0.4024729209973693,
          -0.38365843115632187,
          -0.36326740652717776,
          -0.34138363820399903,
          -0.31809705128487953,
          -0.29350333535042666,
          -0.2677035512547511,
          -0.24080371584473798,
          -0.2129143663140837,
          -0.1841501059822567,
          -0.15462913336487455,
          -0.12447275647065127,
          -0.09380489432076734,
          -0.06275156773903286,
          -0.0314403815052894,
          -3.004778396735241e-17,
          -2.2978476817557013e-17,
          -0.024043439554124805,
          -0.04798807945782008,
          -0.07173552604961242,
          -0.0951881959776448,
          -0.11824971719060112,
          -0.1408253249511364,
          -0.16282225124451,
          -0.18415010598225653,
          -0.2047212484344481,
          -0.22445114736425248,
          -0.243258728384917,
          -0.2610667071118143,
          -0.27780190674055605,
          -0.2933955587461788,
          -0.30778358546776347,
          -0.3209068634172891,
          -0.3327114662307267,
          -0.34314888626303663,
          -0.3521762339164864,
          -0.35975641388320806,
          -0.3658582775777749,
          -0.3704567511334202,
          -0.3735329384359343,
          -0.37507419877185116,
          -0.37507419877185116,
          -0.3735329384359343,
          -0.3704567511334202,
          -0.3658582775777749,
          -0.35975641388320806,
          -0.35217623391648645,
          -0.34314888626303663,
          -0.3327114662307268,
          -0.3209068634172891,
          -0.3077835854677635,
          -0.2933955587461788,
          -0.27780190674055616,
          -0.26106670711181434,
          -0.24325872838491713,
          -0.2244511473642525,
          -0.20472124843444825,
          -0.1841501059822566,
          -0.16282225124451,
          -0.14082532495113648,
          -0.11824971719060112,
          -0.09518819597764497,
          -0.0717355260496125,
          -0.04798807945782025,
          -0.024043439554124888,
          -2.2978476817557013e-17,
          -1.5531863713691657e-17,
          -0.016251704990198408,
          -0.03243662823861229,
          -0.04848826242395878,
          -0.06434064793830555,
          -0.07992864392924816,
          -0.09518819597764511,
          -0.11005659931096588,
          -0.12447275647065141,
          -0.13837742837467648,
          -0.1517134777436447,
          -0.16442610389012535,
          -0.17646306790643282,
          -0.1877749073255034,
          -0.19831513937278217,
          -0.2080404519739142,
          -0.21691088173334838,
          -0.22488997815250203,
          -0.23194495341267804,
          -0.23804681710724482,
          -0.24317049536943583,
          -0.24729493390624616,
          -0.25040318451503873,
          -0.25248247472734436,
          -0.25352426029367436,
          -0.25352426029367436,
          -0.25248247472734436,
          -0.25040318451503873,
          -0.24729493390624616,
          -0.24317049536943583,
          -0.23804681710724485,
          -0.23194495341267804,
          -0.22488997815250206,
          -0.21691088173334838,
          -0.20804045197391421,
          -0.19831513937278217,
          -0.18777490732550345,
          -0.17646306790643285,
          -0.16442610389012544,
          -0.15171347774364471,
          -0.13837742837467656,
          -0.12447275647065145,
          -0.11005659931096588,
          -0.09518819597764516,
          -0.07992864392924816,
          -0.06434064793830566,
          -0.04848826242395884,
          -0.0324366282386124,
          -0.016251704990198464,
          -1.5531863713691657e-17,
          -7.83021783704898e-18,
          -0.008193117879635536,
          -0.01635256848048537,
          -0.024444822869833953,
          -0.03243662823861232,
          -0.04029514454432332,
          -0.04798807945782028,
          -0.05548382105941428,
          -0.06275156773903287,
          -0.0697614547666427,
          -0.07648467701283126,
          -0.08289360731526234,
          -0.088961910004612,
          -0.09466464912348285,
          -0.09997839089360176,
          -0.10488130001024126,
          -0.10935322936817038,
          -0.11337580285043156,
          -0.11693249083974687,
          -0.12000867814226102,
          -0.1225917240445079,
          -0.12467101425681354,
          -0.12623800452968925,
          -0.12728625576398542,
          -0.12781146047053113,
          -0.12781146047053113,
          -0.12728625576398542,
          -0.12623800452968925,
          -0.12467101425681354,
          -0.1225917240445079,
          -0.12000867814226103,
          -0.11693249083974687,
          -0.11337580285043157,
          -0.10935322936817038,
          -0.10488130001024128,
          -0.09997839089360176,
          -0.09466464912348288,
          -0.08896191000461201,
          -0.08289360731526238,
          -0.07648467701283128,
          -0.06976145476664274,
          -0.06275156773903288,
          -0.05548382105941428,
          -0.047988079457820305,
          -0.04029514454432332,
          -0.032436628238612375,
          -0.02444482286983398,
          -0.016352568480485427,
          -0.008193117879635564,
          -7.83021783704898e-18,
          -1.4997597826618576e-32,
          -1.5692677964009378e-17,
          -3.1320871348195766e-17,
          -4.6820360553706583e-17,
          -6.212745485476637e-17,
          -7.717925411753069e-17,
          -9.191390727022796e-17,
          -1.0627086646248058e-16,
          -1.201911358694095e-16,
          -1.336175141181332e-16,
          -1.4649482934047862e-16,
          -1.5877016588602166e-16,
          -1.7039308176384524e-16,
          -1.8131581591949977e-16,
          -1.9149348449542055e-16,
          -2.00884265268326e-16,
          -2.0944956950570415e-16,
          -2.171542005351916e-16,
          -2.2396649837525e-16,
          -2.2985846983282128e-16,
          -2.3480590353336234e-16,
          -2.3878846941057645e-16,
          -2.417898022470164e-16,
          -2.437975689222735e-16,
          -2.4480351909241436e-16,
          -2.4480351909241436e-16,
          -2.437975689222735e-16,
          -2.417898022470164e-16,
          -2.3878846941057645e-16,
          -2.3480590353336234e-16,
          -2.2985846983282128e-16,
          -2.2396649837525e-16,
          -2.1715420053519163e-16,
          -2.0944956950570415e-16,
          -2.0088426526832603e-16,
          -1.9149348449542055e-16,
          -1.8131581591949982e-16,
          -1.7039308176384526e-16,
          -1.5877016588602173e-16,
          -1.4649482934047864e-16,
          -1.3361751411813328e-16,
          -1.2019113586940952e-16,
          -1.0627086646248058e-16,
          -9.191390727022801e-17,
          -7.717925411753069e-17,
          -6.212745485476648e-17,
          -4.682036055370663e-17,
          -3.132087134819588e-17,
          -1.5692677964009433e-17,
          -1.4997597826618576e-32
         ],
         "y": [
          0,
          0,
          0,
          0,
          0,
          0,
          0,
          0,
          0,
          0,
          0,
          0,
          0,
          0,
          0,
          0,
          0,
          0,
          0,
          0,
          0,
          0,
          0,
          0,
          0,
          0,
          0,
          0,
          0,
          0,
          0,
          0,
          0,
          0,
          0,
          0,
          0,
          0,
          0,
          0,
          0,
          0,
          0,
          0,
          0,
          0,
          0,
          0,
          0,
          0,
          -0.255754323369012,
          -0.2552288486820852,
          -0.25365458390950735,
          -0.2510379980429077,
          -0.2473898431948681,
          -0.24272511041618577,
          -0.23706296809443048,
          -0.23042668318692797,
          -0.2228435256118418,
          -0.21434465619023024,
          -0.20496499859954848,
          -0.19474309586476685,
          -0.18372095197681385,
          -0.17194385928916747,
          -0.15946021240185973,
          -0.1463213092976845,
          -0.13258114054778267,
          -0.11829616745280454,
          -0.10352509003131448,
          -0.08832860580882357,
          -0.07276916039863769,
          -0.056910690899437795,
          -0.040818363164027247,
          -0.02455830401886427,
          -0.008197329534748094,
          0.008197329534748037,
          0.02455830401886422,
          0.04081836316402719,
          0.056910690899437795,
          0.07276916039863764,
          0.08832860580882351,
          0.10352509003131442,
          0.11829616745280448,
          0.13258114054778267,
          0.14632130929768444,
          0.15946021240185973,
          0.1719438592891674,
          0.1837209519768138,
          0.1947430958647668,
          0.20496499859954845,
          0.2143446561902302,
          0.22284352561184176,
          0.23042668318692797,
          0.23706296809443045,
          0.24272511041618577,
          0.24738984319486806,
          0.2510379980429077,
          0.25365458390950735,
          0.2552288486820852,
          0.255754323369012,
          -0.5073091678190147,
          -0.5062668467249929,
          -0.5031441665638801,
          -0.49795395909827095,
          -0.49071755200393785,
          -0.48146468122983566,
          -0.47023336880670985,
          -0.457069766606416,
          -0.4420279666939789,
          -0.42516977905169473,
          -0.4065644775886556,
          -0.3862885154793977,
          -0.36442521100140823,
          -0.34106440516245135,
          -0.31630209252459646,
          -0.29024002674197197,
          -0.2629853024331742,
          -0.23464991510650807,
          -0.20535030094642034,
          -0.17520685835224237,
          -0.14434345319534175,
          -0.11288690982768779,
          -0.08096648993338572,
          -0.04871336136468975,
          -0.01626005914516303,
          0.016260059145162917,
          0.04871336136468964,
          0.08096648993338562,
          0.11288690982768779,
          0.14434345319534164,
          0.17520685835224226,
          0.20535030094642023,
          0.23464991510650796,
          0.2629853024331742,
          0.29024002674197186,
          0.31630209252459646,
          0.34106440516245123,
          0.3644252110014082,
          0.3862885154793976,
          0.40656447758865555,
          0.4251697790516946,
          0.44202796669397887,
          0.457069766606416,
          0.4702333688067098,
          0.48146468122983566,
          0.4907175520039378,
          0.49795395909827095,
          0.5031441665638801,
          0.5062668467249929,
          0.5073091678190147,
          -0.7505340097587482,
          -0.7489919571411787,
          -0.7443721359134452,
          -0.7366935299119208,
          -0.7259876921757219,
          -0.7122986152885012,
          -0.6956825506034863,
          -0.6762077770946026,
          -0.6539543207835237,
          -0.6290136258955834,
          -0.6014881790958386,
          -0.5714910883493793,
          -0.5391456181364384,
          -0.5045846829322023,
          -0.46795030103272267,
          -0.4293930109712749,
          -0.38907125292323413,
          -0.3471507176414098,
          -0.3038036655972015,
          -0.2592082191253724,
          -0.2135476304811685,
          -0.16700952881749423,
          -0.11978514917647744,
          -0.0720685466636606,
          -0.02405579903394799,
          0.024055799033947823,
          0.07206854666366044,
          0.11978514917647728,
          0.16700952881749423,
          0.21354763048116834,
          0.25920821912537223,
          0.30380366559720134,
          0.34715071764140965,
          0.38907125292323413,
          0.42939301097127475,
          0.46795030103272267,
          0.504584682932202,
          0.5391456181364382,
          0.5714910883493791,
          0.6014881790958386,
          0.6290136258955833,
          0.6539543207835236,
          0.6762077770946026,
          0.6956825506034863,
          0.7122986152885012,
          0.7259876921757218,
          0.7366935299119208,
          0.7443721359134451,
          0.7489919571411787,
          0.7505340097587482,
          -0.9814351040078757,
          -0.9794186403281067,
          -0.9733775353705901,
          -0.963336613331409,
          -0.9493371345129937,
          -0.9314366257766877,
          -0.9097086441525357,
          -0.8842424745776688,
          -0.8551427630053461,
          -0.8225290863922871,
          -0.7865354613313064,
          -0.747309793348388,
          -0.7050132691271532,
          -0.6598196941582029,
          -0.6119147785350759,
          -0.56149537383164,
          -0.5087686641967499,
          -0.45395131499013924,
          -0.39726858245798236,
          -0.33895338810666187,
          -0.27924536157833735,
          -0.21838985596134505,
          -0.15663693958173058,
          -0.09424036841885665,
          -0.03145654336765399,
          0.031456543367653765,
          0.09424036841885644,
          0.15663693958173042,
          0.21838985596134505,
          0.2792453615783371,
          0.33895338810666165,
          0.39726858245798213,
          0.453951314990139,
          0.5087686641967499,
          0.5614953738316398,
          0.6119147785350759,
          0.6598196941582026,
          0.7050132691271531,
          0.7473097933483878,
          0.7865354613313063,
          0.8225290863922868,
          0.855142763005346,
          0.8842424745776688,
          0.9097086441525356,
          0.9314366257766877,
          0.9493371345129936,
          0.963336613331409,
          0.97337753537059,
          0.9794186403281067,
          0.9814351040078757,
          -1.1962210609824317,
          -1.193763296518337,
          -1.1864001026074242,
          -1.1741617361928736,
          -1.1570984873474037,
          -1.1352804726205763,
          -1.1087973469148533,
          -1.0777579350743722,
          -1.0422897847003183,
          -1.0025386420304732,
          -0.9586678530366605,
          -0.9108576922011106,
          -0.859304621729944,
          -0.8042204842478258,
          -0.7458316322911803,
          -0.6843779981770671,
          -0.620112108069824,
          -0.553298044296892,
          -0.4842103601778858,
          -0.41313295182611204,
          -0.3403578915585446,
          -0.266184227708024,
          -0.19091675576951364,
          -0.11486476593003067,
          -0.03834077212892618,
          0.038340772128925914,
          0.11486476593003042,
          0.19091675576951342,
          0.266184227708024,
          0.34035789155854435,
          0.4131329518261118,
          0.48421036017788555,
          0.5532980442968918,
          0.620112108069824,
          0.6843779981770668,
          0.7458316322911803,
          0.8042204842478256,
          0.8593046217299439,
          0.9108576922011102,
          0.9586678530366602,
          1.002538642030473,
          1.042289784700318,
          1.0777579350743722,
          1.1087973469148533,
          1.1352804726205763,
          1.1570984873474037,
          1.1741617361928736,
          1.186400102607424,
          1.193763296518337,
          1.1962210609824317,
          -1.3913651012069728,
          -1.3885063923831038,
          -1.379942012959246,
          -1.3657071558075045,
          -1.345860315009284,
          -1.320483045490558,
          -1.2896796278951865,
          -1.253576640073381,
          -1.2123224369461678,
          -1.1660865408831957,
          -1.115058945098956,
          -1.059449332929911,
          -0.9994862162006879,
          -0.935415996219975,
          -0.8675019512646921,
          -0.7960231547130778,
          -0.7212733282723163,
          -0.64355963501304,
          -0.5632014171703864,
          -0.48052888389825454,
          -0.3958817543690624,
          -0.3096078617947975,
          -0.22206172410573993,
          -0.13360308716024147,
          -0.044595446471829274,
          0.04459544647182896,
          0.1336030871602412,
          0.22206172410573966,
          0.3096078617947975,
          0.3958817543690621,
          0.4805288838982542,
          0.5632014171703861,
          0.6435596350130397,
          0.7212733282723163,
          0.7960231547130775,
          0.8675019512646921,
          0.9354159962199746,
          0.9994862162006877,
          1.0594493329299108,
          1.1150589450989559,
          1.1660865408831955,
          1.2123224369461678,
          1.253576640073381,
          1.2896796278951863,
          1.320483045490558,
          1.3458603150092838,
          1.3657071558075045,
          1.3799420129592457,
          1.3885063923831038,
          1.3913651012069728,
          -1.5636629649360594,
          -1.5604502516722711,
          -1.5508253136088324,
          -1.5348277016807883,
          -1.5125231535070283,
          -1.4840033232603087,
          -1.4493854050405983,
          -1.4088116512993816,
          -1.3624487882938239,
          -1.3104873309728187,
          -1.253140800110195,
          -1.19064484490206,
          -1.123256274633704,
          -1.051252003395163,
          -0.9749279121818234,
          -0.8945976330559476,
          -0.8105912603652543,
          -0.7232539943144403,
          -0.6329447224634928,
          -0.5400345449817257,
          -0.44490524971758194,
          -0.3479477433504716,
          -0.24956044507137765,
          -0.1501476493929378,
          -0.05011786481657258,
          0.05011786481657223,
          0.15014764939293748,
          0.24956044507137734,
          0.3479477433504716,
          0.4449052497175816,
          0.5400345449817253,
          0.6329447224634924,
          0.7232539943144398,
          0.8105912603652543,
          0.8945976330559472,
          0.9749279121818234,
          1.0512520033951624,
          1.1232562746337038,
          1.1906448449020597,
          1.253140800110195,
          1.3104873309728182,
          1.3624487882938239,
          1.4088116512993816,
          1.449385405040598,
          1.4840033232603087,
          1.512523153507028,
          1.5348277016807883,
          1.5508253136088324,
          1.5604502516722711,
          1.5636629649360594,
          -1.7102855260106922,
          -1.7067715609699559,
          -1.6962441054838422,
          -1.6787464191250758,
          -1.6543504036401468,
          -1.6231563074896118,
          -1.5852923139056658,
          -1.5409140141597468,
          -1.4902037682046254,
          -1.4333699553182457,
          -1.370646117828572,
          -1.3022900014380707,
          -1.228582496091331,
          -1.1498264817380328,
          -1.0663455837342661,
          -0.9784828429965253,
          -0.886599306373,
          -0.7910725430246334,
          -0.6922950929124501,
          -0.5906728537666577,
          -0.4866234131658084,
          -0.38057433257986567,
          -0.2729613904284143,
          -0.16422679137365792,
          -0.05481734920661094,
          0.054817349206610556,
          0.16422679137365756,
          0.27296139042841394,
          0.38057433257986567,
          0.48662341316580804,
          0.5906728537666573,
          0.6922950929124496,
          0.7910725430246329,
          0.886599306373,
          0.978482842996525,
          1.0663455837342661,
          1.1498264817380324,
          1.2285824960913307,
          1.3022900014380703,
          1.370646117828572,
          1.4333699553182453,
          1.4902037682046254,
          1.5409140141597468,
          1.5852923139056658,
          1.6231563074896118,
          1.6543504036401466,
          1.6787464191250758,
          1.696244105483842,
          1.7067715609699559,
          1.7102855260106922,
          -1.8288252460316248,
          -1.8250677284227603,
          -1.8138106160420067,
          -1.7951001667787791,
          -1.7690132658824798,
          -1.7356571100245135,
          -1.6951687668041742,
          -1.6477146115084762,
          -1.593489643440414,
          -1.5327166846249984,
          -1.4656454641857612,
          -1.3925515921542186,
          -1.3137354269291344,
          -1.229520841039433,
          -1.1402538902825072,
          -1.0463013917067183,
          -0.9480494162814618,
          -0.8459017024487429,
          -0.7402779970753157,
          -0.6316123306227737,
          -0.5203512336232826,
          -0.4069519017898436,
          -0.29188031730104125,
          -0.17560933398031728,
          -0.05861673423818416,
          0.05861673423818375,
          0.1756093339803169,
          0.2918803173010409,
          0.4069519017898436,
          0.5203512336232823,
          0.6316123306227732,
          0.7402779970753153,
          0.8459017024487424,
          0.9480494162814618,
          1.0463013917067179,
          1.1402538902825072,
          1.2295208410394327,
          1.3137354269291341,
          1.3925515921542182,
          1.465645464185761,
          1.5327166846249982,
          1.5934896434404138,
          1.6477146115084762,
          1.695168766804174,
          1.7356571100245135,
          1.7690132658824795,
          1.7951001667787791,
          1.8138106160420064,
          1.8250677284227603,
          1.8288252460316248,
          -1.9173357060733212,
          -1.9133963342315838,
          -1.9015944064302626,
          -1.8819784193221982,
          -1.854628979206034,
          -1.8196584707976435,
          -1.777210595417228,
          -1.7274597804897656,
          -1.6706104627853098,
          -1.6068962483444489,
          -1.5365789525409763,
          -1.459947524226361,
          -1.377316858376938,
          -1.2890265021229041,
          -1.19543925947633,
          -1.0969397004916506,
          -0.993932580984823,
          -0.8868411793048588,
          -0.7761055569922947,
          -0.6621807504719291,
          -0.5455349012105489,
          -0.4266473320232249,
          -0.3060065774330521,
          -0.18410837617800194,
          -0.06145363411411348,
          0.06145363411411305,
          0.18410837617800152,
          0.30600657743305176,
          0.4266473320232249,
          0.5455349012105486,
          0.6621807504719287,
          0.7761055569922942,
          0.8868411793048584,
          0.993932580984823,
          1.0969397004916501,
          1.19543925947633,
          1.2890265021229037,
          1.3773168583769377,
          1.4599475242263606,
          1.536578952540976,
          1.6068962483444484,
          1.6706104627853096,
          1.7274597804897656,
          1.7772105954172277,
          1.8196584707976435,
          1.8546289792060338,
          1.8819784193221982,
          1.9015944064302623,
          1.9133963342315838,
          1.9173357060733212,
          -1.9743635668289001,
          -1.9703070251310217,
          -1.9581540692373485,
          -1.937954638250448,
          -1.9097917359650107,
          -1.87378108978745,
          -1.8300706751871696,
          -1.7788401076336164,
          -1.72029990451779,
          -1.6546906200911278,
          -1.5822818569764863,
          -1.5033711583131344,
          -1.4182827850881718,
          -1.3273663836785783,
          -1.2309955490792532,
          -1.1295662897210446,
          -1.0234954001871626,
          -0.9132187485148368,
          -0.7991894851200563,
          -0.6818761807053104,
          -0.5617609008020644,
          -0.43933722486008703,
          -0.3151082180236207,
          -0.18958436392879455,
          -0.06328146701686647,
          0.06328146701686603,
          0.18958436392879416,
          0.3151082180236203,
          0.43933722486008703,
          0.561760900802064,
          0.68187618070531,
          0.7991894851200558,
          0.9132187485148363,
          1.0234954001871626,
          1.1295662897210441,
          1.2309955490792532,
          1.3273663836785778,
          1.4182827850881716,
          1.503371158313134,
          1.582281856976486,
          1.6546906200911273,
          1.7202999045177898,
          1.7788401076336164,
          1.8300706751871694,
          1.87378108978745,
          1.9097917359650105,
          1.937954638250448,
          1.9581540692373482,
          1.9703070251310217,
          1.9743635668289001,
          -1.9989724324013758,
          -1.9948653291498861,
          -1.9825608963636485,
          -1.9621096955962738,
          -1.9335957652184843,
          -1.897136275086421,
          -1.8528810450655728,
          -1.8010119293888127,
          -1.741742069378346,
          -1.675315017602302,
          -1.6020037370649856,
          -1.5221094795433454,
          -1.435960547678802,
          -1.3439109459112748,
          -1.2463389257990043,
          -1.1436454317017646,
          -1.0362524532144866,
          -0.9246012911214962,
          -0.8091507439969325,
          -0.6903752229029951,
          -0.5687628019331284,
          -0.4448132126108797,
          -0.31903579038587837,
          -0.19194738166521905,
          -0.06407021998071312,
          0.06407021998071268,
          0.19194738166521863,
          0.319035790385878,
          0.4448132126108797,
          0.568762801933128,
          0.6903752229029947,
          0.8091507439969321,
          0.9246012911214958,
          1.0362524532144866,
          1.1436454317017641,
          1.2463389257990043,
          1.3439109459112744,
          1.4359605476788018,
          1.522109479543345,
          1.6020037370649853,
          1.6753150176023015,
          1.7417420693783459,
          1.8010119293888127,
          1.8528810450655726,
          1.897136275086421,
          1.933595765218484,
          1.9621096955962738,
          1.9825608963636483,
          1.9948653291498861,
          1.9989724324013758,
          -1.9907582258983965,
          -1.986667999615138,
          -1.9744141283825116,
          -1.9540469659858588,
          -1.9256502054642106,
          -1.889340535197636,
          -1.8452671594096608,
          -1.7936111850551066,
          -1.7345848776127684,
          -1.66843078884103,
          -1.5954207600806616,
          -1.5158548052004424,
          -1.4300598777758182,
          -1.3383885275665315,
          -1.241217451814035,
          -1.1389459473117263,
          -1.031994269608774,
          -0.920801906089923,
          -0.8058257700275588,
          -0.6875383230270659,
          -0.5664256335807468,
          -0.4429853797081267,
          -0.31772480389022034,
          -0.1911586287013724,
          -0.06380694170379328,
          0.06380694170379284,
          0.19115862870137199,
          0.31772480389021995,
          0.4429853797081267,
          0.5664256335807464,
          0.6875383230270654,
          0.8058257700275584,
          0.9208019060899225,
          1.031994269608774,
          1.1389459473117258,
          1.241217451814035,
          1.338388527566531,
          1.430059877775818,
          1.515854805200442,
          1.5954207600806614,
          1.6684307888410295,
          1.7345848776127681,
          1.7936111850551066,
          1.8452671594096606,
          1.889340535197636,
          1.9256502054642104,
          1.9540469659858588,
          1.9744141283825114,
          1.986667999615138,
          1.9907582258983965,
          -1.9498558243636472,
          -1.9458496364511109,
          -1.9338475349989588,
          -1.9138988392165004,
          -1.8860855225736881,
          -1.8505218759545443,
          -1.807354038011406,
          -1.7567593946498534,
          -1.698945850111976,
          -1.6341509726532466,
          -1.5626410183236008,
          -1.484709836864216,
          -1.400677664215895,
          -1.3108898066008938,
          -1.2157152215855878,
          -1.1155450019546898,
          -1.0107907686271072,
          -0.901882979217296,
          -0.7892691591925886,
          -0.673412062895055,
          -0.5547877719846511,
          -0.4338837391175581,
          -0.31119678489866126,
          -0.18723105633911477,
          -0.06249595520813527,
          0.06249595520813484,
          0.18723105633911438,
          0.31119678489866087,
          0.4338837391175581,
          0.5547877719846507,
          0.6734120628950545,
          0.7892691591925881,
          0.9018829792172955,
          1.0107907686271072,
          1.1155450019546893,
          1.2157152215855878,
          1.3108898066008934,
          1.4006776642158947,
          1.4847098368642155,
          1.5626410183236006,
          1.6341509726532464,
          1.6989458501119759,
          1.7567593946498534,
          1.8073540380114057,
          1.8505218759545443,
          1.886085522573688,
          1.9138988392165004,
          1.9338475349989586,
          1.9458496364511109,
          1.9498558243636472,
          -1.8769368440995209,
          -1.873080476052473,
          -1.861527218554824,
          -1.8423245464197964,
          -1.8155513675461543,
          -1.7813176986687176,
          -1.7397642132760034,
          -1.6910616635526847,
          -1.6354101787222386,
          -1.5730384426730395,
          -1.5042027542472092,
          -1.4291859740536983,
          -1.3482963621333708,
          -1.2618663112523743,
          -1.1702509810289667,
          -1.0738268385064633,
          -0.9729901111694021,
          -0.8681551587598217,
          -0.7597527705841995,
          -0.6482283953077886,
          -0.5340403105105034,
          -0.4176577395260426,
          -0.2995589233025656,
          -0.18022915520805083,
          -0.060158786855753626,
          0.06015878685575321,
          0.18022915520805044,
          0.2995589233025652,
          0.4176577395260426,
          0.5340403105105029,
          0.6482283953077883,
          0.7597527705841992,
          0.8681551587598213,
          0.9729901111694021,
          1.0738268385064629,
          1.1702509810289667,
          1.2618663112523738,
          1.3482963621333706,
          1.4291859740536978,
          1.504202754247209,
          1.573038442673039,
          1.6354101787222384,
          1.6910616635526847,
          1.7397642132760032,
          1.7813176986687176,
          1.815551367546154,
          1.8423245464197964,
          1.8615272185548237,
          1.873080476052473,
          1.8769368440995209,
          -1.7731986127460002,
          -1.7695553860211588,
          -1.7586406766467164,
          -1.7404993355046905,
          -1.7152059092571392,
          -1.6828643340179366,
          -1.6436075082569868,
          -1.5975967466919039,
          -1.5450211174112365,
          -1.486096664953136,
          -1.4210655225320084,
          -1.3501949170611978,
          -1.2737760710602815,
          -1.1921230059592678,
          -1.1055712517171847,
          -1.0144764680575062,
          -0.9192129829860591,
          -0.8201722545969561,
          -0.7177612624873172,
          -0.6124008353908098,
          -0.5045239219021145,
          -0.394573811398281,
          -0.28300231246759533,
          -0.17026789633117465,
          -0.05683381288637994,
          0.056833812886379544,
          0.17026789633117426,
          0.28300231246759494,
          0.394573811398281,
          0.504523921902114,
          0.6124008353908094,
          0.7177612624873168,
          0.8201722545969556,
          0.9192129829860591,
          1.0144764680575058,
          1.1055712517171847,
          1.1921230059592673,
          1.2737760710602812,
          1.3501949170611973,
          1.4210655225320081,
          1.4860966649531357,
          1.5450211174112363,
          1.5975967466919039,
          1.6436075082569865,
          1.6828643340179366,
          1.715205909257139,
          1.7404993355046905,
          1.7586406766467162,
          1.7695553860211588,
          1.7731986127460002,
          -1.6403445091939122,
          -1.6369742454733764,
          -1.6268773034483162,
          -1.6100951736192992,
          -1.5866968173575493,
          -1.556778383527877,
          -1.5204628133923725,
          -1.4778993354183885,
          -1.4292628520667565,
          -1.3747532210800621,
          -1.3145944342243088,
          -1.249033696858706,
          -1.1783404121158227,
          -1.10280507386633,
          -1.0227380730173736,
          -0.9384684220497607,
          -0.8503424030350998,
          -0.7587221446884944,
          -0.6639841343039743,
          -0.5665176706874488,
          -0.46672326444440954,
          -0.36501099219594146,
          -0.2617988114859284,
          -0.15751084330385065,
          -0.05257562928066747,
          0.0525756292806671,
          0.1575108433038503,
          0.26179881148592804,
          0.36501099219594146,
          0.46672326444440915,
          0.5665176706874485,
          0.6639841343039738,
          0.758722144688494,
          0.8503424030350998,
          0.9384684220497603,
          1.0227380730173736,
          1.1028050738663295,
          1.1783404121158225,
          1.2490336968587055,
          1.3145944342243086,
          1.374753221080062,
          1.4292628520667565,
          1.4778993354183885,
          1.5204628133923725,
          1.556778383527877,
          1.586696817357549,
          1.6100951736192992,
          1.626877303448316,
          1.6369742454733764,
          1.6403445091939122,
          -1.4805559941506314,
          -1.4775140330715166,
          -1.4684006499047446,
          -1.4532532934965625,
          -1.432134207583549,
          -1.4051301750197507,
          -1.3723521611673188,
          -1.333934857916035,
          -1.2900361302054446,
          -1.2408363673239577,
          -1.1865377416505707,
          -1.1273633778851941,
          -1.0635564361814012,
          -0.9953791129491985,
          -0.9231115634337373,
          -0.8470507504973178,
          -0.7675092243352886,
          -0.6848138381402533,
          -0.5993044049921922,
          -0.5113323014936263,
          -0.4212590238877884,
          -0.32945470259301807,
          -0.2362965812574812,
          -0.14216746658409968,
          -0.04745415529569815,
          0.04745415529569782,
          0.14216746658409937,
          0.23629658125748093,
          0.32945470259301807,
          0.4212590238877881,
          0.511332301493626,
          0.5993044049921918,
          0.684813838140253,
          0.7675092243352886,
          0.8470507504973175,
          0.9231115634337373,
          0.9953791129491981,
          1.063556436181401,
          1.1273633778851937,
          1.1865377416505705,
          1.2408363673239575,
          1.2900361302054444,
          1.333934857916035,
          1.3723521611673186,
          1.4051301750197507,
          1.432134207583549,
          1.4532532934965625,
          1.4684006499047446,
          1.4775140330715166,
          1.4805559941506314,
          -1.2964567906155775,
          -1.2937930810947031,
          -1.285812898285865,
          -1.2725490344719683,
          -1.2540559937145148,
          -1.230409767884721,
          -1.2017075243966213,
          -1.1680672069253206,
          -1.1296270507511332,
          -1.086545014721167,
          -1.038998132162537,
          -0.9871817834144506,
          -0.9313088929684858,
          -0.8716090545161823,
          -0.808327587499316,
          -0.7417245290396912,
          -0.6720735653908299,
          -0.5996609073024499,
          -0.524784113919103,
          -0.4477508700458229,
          -0.36887772180526424,
          -0.28848877588178423,
          -0.2069143676975579,
          -0.12448970399346962,
          -0.04155348539271442,
          0.041553485392714126,
          0.12448970399346936,
          0.20691436769755764,
          0.28848877588178423,
          0.36887772180526396,
          0.44775087004582265,
          0.5247841139191026,
          0.5996609073024496,
          0.6720735653908299,
          0.741724529039691,
          0.808327587499316,
          0.8716090545161821,
          0.9313088929684856,
          0.9871817834144504,
          1.0389981321625368,
          1.0865450147211668,
          1.129627050751133,
          1.1680672069253206,
          1.2017075243966213,
          1.230409767884721,
          1.2540559937145146,
          1.2725490344719683,
          1.2858128982858648,
          1.2937930810947031,
          1.2964567906155775,
          -1.091069802421098,
          -1.0888280824951546,
          -1.0821121344253473,
          -1.0709495554828612,
          -1.055386215098937,
          -1.0354860663775378,
          -1.0113308832983288,
          -0.9830199246898529,
          -0.9506695263537136,
          -0.914412623015813,
          -0.8743982020690481,
          -0.8307906913521552,
          -0.7837692834804518,
          -0.7335271995049433,
          -0.6802708949255779,
          -0.6242192113213142,
          -0.5656024770831302,
          -0.5046615609452607,
          -0.4416468822039019,
          -0.3768173816906081,
          -0.3104394577288726,
          -0.24278587144627417,
          -0.17413462594049708,
          -0.10476782390497039,
          -0.034970508408390416,
          0.03497050840839017,
          0.10476782390497015,
          0.17413462594049686,
          0.24278587144627417,
          0.3104394577288724,
          0.3768173816906078,
          0.4416468822039017,
          0.5046615609452605,
          0.5656024770831302,
          0.624219211321314,
          0.6802708949255779,
          0.733527199504943,
          0.7837692834804517,
          0.8307906913521549,
          0.874398202069048,
          0.9144126230158128,
          0.9506695263537135,
          0.9830199246898529,
          1.0113308832983288,
          1.0354860663775378,
          1.0553862150989368,
          1.0709495554828612,
          1.0821121344253473,
          1.0888280824951546,
          1.091069802421098,
          -0.8677674782351165,
          -0.8659845568833122,
          -0.8606431192341696,
          -0.8517651144007236,
          -0.839387024009161,
          -0.8235597122879926,
          -0.8043482170560287,
          -0.78183148246803,
          -0.7561020346162431,
          -0.7272656013208403,
          -0.6954406776716279,
          -0.6607580391063053,
          -0.6233602040261399,
          -0.5834008481572867,
          -0.5410441730642656,
          -0.4964642314105124,
          -0.4498442117386497,
          -0.4013756857094721,
          -0.35125782089289964,
          -0.299696562345712,
          -0.24690378633913482,
          -0.19309642971379384,
          -0.1384955984397048,
          -0.0833256590444143,
          -0.027813316642812513,
          0.02781331664281232,
          0.08332565904441412,
          0.13849559843970463,
          0.19309642971379384,
          0.24690378633913462,
          0.2996965623457118,
          0.3512578208928995,
          0.4013756857094719,
          0.4498442117386497,
          0.4964642314105122,
          0.5410441730642656,
          0.5834008481572864,
          0.6233602040261398,
          0.660758039106305,
          0.6954406776716278,
          0.7272656013208401,
          0.756102034616243,
          0.78183148246803,
          0.8043482170560285,
          0.8235597122879926,
          0.8393870240091609,
          0.8517651144007236,
          0.8606431192341695,
          0.8659845568833122,
          0.8677674782351165,
          -0.6302164360472416,
          -0.6289215887888818,
          -0.6250423678189307,
          -0.6185947136884441,
          -0.6096051211912619,
          -0.5981105304912162,
          -0.5841581753270757,
          -0.5678053889189807,
          -0.5491193683739435,
          -0.5281768985585226,
          -0.5050640365733354,
          -0.4798757581259722,
          -0.45271556725544215,
          -0.42369507101187476,
          -0.3929335208392119,
          -0.3605573225454448,
          -0.32669951687403537,
          -0.2914992328109639,
          -0.25510111587388284,
          -0.21765473373265823,
          -0.17931396160373217,
          -0.1402363499438521,
          -0.10058247704145012,
          -0.060515289166011184,
          -0.020199430986900288,
          0.02019943098690015,
          0.06051528916601105,
          0.10058247704145,
          0.1402363499438521,
          0.17931396160373203,
          0.2176547337326581,
          0.25510111587388273,
          0.2914992328109638,
          0.32669951687403537,
          0.3605573225454447,
          0.3929335208392119,
          0.42369507101187465,
          0.4527155672554421,
          0.4798757581259721,
          0.5050640365733353,
          0.5281768985585225,
          0.5491193683739434,
          0.5678053889189807,
          0.5841581753270757,
          0.5981105304912162,
          0.6096051211912618,
          0.6185947136884441,
          0.6250423678189306,
          0.6289215887888818,
          0.6302164360472416,
          -0.3823172574027451,
          -0.38153174559401387,
          -0.3791784380043341,
          -0.3752670048793746,
          -0.3698135191368457,
          -0.3628403903194323,
          -0.3543762725091768,
          -0.344455946581709,
          -0.3331201772841681,
          -0.3204155457241126,
          -0.30639425795775777,
          -0.2911139304640923,
          -0.27463735338640755,
          -0.25703223251413054,
          -0.23837091106521194,
          -0.21873007241232637,
          -0.1981904249744451,
          -0.17683637056863108,
          -0.15475565758486798,
          -0.13203902040910417,
          -0.10877980657619835,
          -0.08507359318487549,
          -0.06101779415092755,
          -0.036711259912537646,
          -0.012253871232626579,
          0.012253871232626494,
          0.03671125991253757,
          0.06101779415092747,
          0.08507359318487549,
          0.10877980657619826,
          0.1320390204091041,
          0.1547556575848679,
          0.176836370568631,
          0.1981904249744451,
          0.21873007241232628,
          0.23837091106521194,
          0.25703223251413043,
          0.27463735338640755,
          0.2911139304640922,
          0.30639425795775777,
          0.32041554572411257,
          0.33312017728416804,
          0.344455946581709,
          0.35437627250917675,
          0.3628403903194323,
          0.3698135191368456,
          0.3752670048793746,
          0.37917843800433404,
          0.38153174559401387,
          0.3823172574027451,
          -0.12814043996142646,
          -0.12787716168450664,
          -0.12708840872066,
          -0.125777422225002,
          -0.12394958932224899,
          -0.12161242096986732,
          -0.118775521093938,
          -0.1154505471245643,
          -0.11165116209299107,
          -0.10739297848727858,
          -0.10269349409724023,
          -0.0975720201122709,
          -0.09204960176752758,
          -0.08614893186454382,
          -0.07989425752164071,
          -0.07331128053731671,
          -0.06642705177604451,
          -0.059269860010466614,
          -0.051869115676760606,
          -0.04425523002084837,
          -0.0364594901320634,
          -0.028513930377789647,
          -0.020451200767374698,
          -0.0123044327862378,
          -0.004107103251489695,
          0.004107103251489667,
          0.012304432786237773,
          0.020451200767374673,
          0.028513930377789647,
          0.03645949013206337,
          0.04425523002084834,
          0.05186911567676058,
          0.05926986001046659,
          0.06642705177604451,
          0.07331128053731668,
          0.07989425752164071,
          0.0861489318645438,
          0.09204960176752756,
          0.09757202011227087,
          0.10269349409724021,
          0.10739297848727855,
          0.11165116209299106,
          0.1154505471245643,
          0.11877552109393799,
          0.12161242096986732,
          0.12394958932224898,
          0.125777422225002,
          0.12708840872066,
          0.12787716168450664,
          0.12814043996142646,
          0.12814043996142507,
          0.12787716168450525,
          0.12708840872065863,
          0.1257774222250006,
          0.12394958932224764,
          0.121612420969866,
          0.11877552109393671,
          0.11545054712456305,
          0.11165116209298986,
          0.10739297848727743,
          0.10269349409723912,
          0.09757202011226984,
          0.09204960176752658,
          0.0861489318645429,
          0.07989425752163985,
          0.07331128053731592,
          0.06642705177604379,
          0.05926986001046597,
          0.051869115676760044,
          0.04425523002084789,
          0.036459490132063004,
          0.028513930377789338,
          0.020451200767374476,
          0.012304432786237666,
          0.00410710325148965,
          -0.004107103251489622,
          -0.01230443278623764,
          -0.02045120076737445,
          -0.028513930377789338,
          -0.036459490132062976,
          -0.044255230020847865,
          -0.051869115676760016,
          -0.05926986001046594,
          -0.06642705177604379,
          -0.07331128053731589,
          -0.07989425752163985,
          -0.08614893186454287,
          -0.09204960176752656,
          -0.09757202011226981,
          -0.1026934940972391,
          -0.10739297848727739,
          -0.11165116209298985,
          -0.11545054712456305,
          -0.1187755210939367,
          -0.121612420969866,
          -0.12394958932224763,
          -0.1257774222250006,
          -0.1270884087206586,
          -0.12787716168450525,
          -0.12814043996142507,
          0.38231725740274375,
          0.38153174559401254,
          0.37917843800433276,
          0.3752670048793733,
          0.3698135191368444,
          0.36284039031943105,
          0.3543762725091756,
          0.3444559465817078,
          0.33312017728416693,
          0.3204155457241115,
          0.3063942579577567,
          0.2911139304640913,
          0.2746373533864066,
          0.25703223251412965,
          0.2383709110652111,
          0.2187300724123256,
          0.19819042497444442,
          0.17683637056863044,
          0.15475565758486742,
          0.13203902040910373,
          0.10877980657619797,
          0.08507359318487519,
          0.06101779415092733,
          0.03671125991253752,
          0.012253871232626536,
          -0.01225387123262645,
          -0.036711259912537444,
          -0.06101779415092726,
          -0.08507359318487519,
          -0.10877980657619789,
          -0.13203902040910365,
          -0.15475565758486734,
          -0.17683637056863036,
          -0.19819042497444442,
          -0.2187300724123255,
          -0.2383709110652111,
          -0.25703223251412954,
          -0.27463735338640655,
          -0.2911139304640912,
          -0.30639425795775665,
          -0.32041554572411146,
          -0.33312017728416693,
          -0.3444559465817078,
          -0.3543762725091755,
          -0.36284039031943105,
          -0.36981351913684435,
          -0.3752670048793733,
          -0.37917843800433276,
          -0.38153174559401254,
          -0.38231725740274375,
          0.6302164360472404,
          0.6289215887888806,
          0.6250423678189295,
          0.618594713688443,
          0.6096051211912606,
          0.598110530491215,
          0.5841581753270746,
          0.5678053889189796,
          0.5491193683739424,
          0.5281768985585216,
          0.5050640365733344,
          0.4798757581259713,
          0.45271556725544126,
          0.423695071011874,
          0.3929335208392111,
          0.36055732254544415,
          0.3266995168740347,
          0.29149923281096335,
          0.25510111587388234,
          0.2176547337326578,
          0.17931396160373184,
          0.1402363499438518,
          0.10058247704144993,
          0.060515289166011066,
          0.02019943098690025,
          -0.020199430986900108,
          -0.060515289166010934,
          -0.1005824770414498,
          -0.1402363499438518,
          -0.1793139616037317,
          -0.21765473373265767,
          -0.25510111587388223,
          -0.29149923281096324,
          -0.3266995168740347,
          -0.360557322545444,
          -0.3929335208392111,
          -0.4236950710118738,
          -0.4527155672554412,
          -0.47987575812597116,
          -0.5050640365733343,
          -0.5281768985585215,
          -0.5491193683739423,
          -0.5678053889189796,
          -0.5841581753270745,
          -0.598110530491215,
          -0.6096051211912606,
          -0.618594713688443,
          -0.6250423678189294,
          -0.6289215887888806,
          -0.6302164360472404,
          0.867767478235116,
          0.8659845568833118,
          0.8606431192341691,
          0.8517651144007231,
          0.8393870240091605,
          0.8235597122879922,
          0.8043482170560282,
          0.7818314824680296,
          0.7561020346162427,
          0.72726560132084,
          0.6954406776716275,
          0.6607580391063049,
          0.6233602040261396,
          0.5834008481572863,
          0.5410441730642653,
          0.49646423141051216,
          0.4498442117386494,
          0.4013756857094719,
          0.3512578208928995,
          0.29969656234571185,
          0.24690378633913468,
          0.19309642971379373,
          0.13849559843970471,
          0.08332565904441426,
          0.027813316642812495,
          -0.027813316642812305,
          -0.08332565904441408,
          -0.13849559843970455,
          -0.19309642971379373,
          -0.24690378633913448,
          -0.2996965623457117,
          -0.3512578208928993,
          -0.4013756857094717,
          -0.4498442117386494,
          -0.49646423141051194,
          -0.5410441730642653,
          -0.5834008481572861,
          -0.6233602040261395,
          -0.6607580391063047,
          -0.6954406776716274,
          -0.7272656013208397,
          -0.7561020346162426,
          -0.7818314824680296,
          -0.8043482170560281,
          -0.8235597122879922,
          -0.8393870240091604,
          -0.8517651144007231,
          -0.860643119234169,
          -0.8659845568833118,
          -0.867767478235116,
          1.091069802421097,
          1.0888280824951535,
          1.0821121344253462,
          1.07094955548286,
          1.055386215098936,
          1.035486066377537,
          1.0113308832983279,
          0.9830199246898519,
          0.9506695263537126,
          0.9144126230158122,
          0.8743982020690472,
          0.8307906913521543,
          0.783769283480451,
          0.7335271995049425,
          0.6802708949255772,
          0.6242192113213135,
          0.5656024770831296,
          0.5046615609452603,
          0.44164688220390147,
          0.3768173816906077,
          0.3104394577288723,
          0.24278587144627392,
          0.1741346259404969,
          0.10476782390497028,
          0.034970508408390374,
          -0.03497050840839014,
          -0.10476782390497005,
          -0.1741346259404967,
          -0.24278587144627392,
          -0.31043945772887205,
          -0.3768173816906074,
          -0.44164688220390125,
          -0.50466156094526,
          -0.5656024770831296,
          -0.6242192113213133,
          -0.6802708949255772,
          -0.7335271995049423,
          -0.7837692834804509,
          -0.8307906913521541,
          -0.8743982020690471,
          -0.9144126230158118,
          -0.9506695263537125,
          -0.9830199246898519,
          -1.0113308832983277,
          -1.035486066377537,
          -1.0553862150989357,
          -1.07094955548286,
          -1.0821121344253462,
          -1.0888280824951535,
          -1.091069802421097,
          1.2964567906155764,
          1.293793081094702,
          1.2858128982858639,
          1.2725490344719672,
          1.2540559937145137,
          1.23040976788472,
          1.2017075243966204,
          1.1680672069253195,
          1.1296270507511323,
          1.0865450147211662,
          1.0389981321625361,
          0.9871817834144498,
          0.9313088929684851,
          0.8716090545161815,
          0.8083275874993152,
          0.7417245290396905,
          0.6720735653908293,
          0.5996609073024494,
          0.5247841139191025,
          0.44775087004582254,
          0.3688777218052639,
          0.288488775881784,
          0.20691436769755772,
          0.12448970399346951,
          0.04155348539271438,
          -0.04155348539271409,
          -0.12448970399346924,
          -0.20691436769755747,
          -0.288488775881784,
          -0.3688777218052636,
          -0.44775087004582226,
          -0.5247841139191022,
          -0.5996609073024491,
          -0.6720735653908293,
          -0.7417245290396903,
          -0.8083275874993152,
          -0.8716090545161813,
          -0.9313088929684848,
          -0.9871817834144495,
          -1.038998132162536,
          -1.086545014721166,
          -1.1296270507511321,
          -1.1680672069253195,
          -1.2017075243966202,
          -1.23040976788472,
          -1.2540559937145135,
          -1.2725490344719672,
          -1.2858128982858636,
          -1.293793081094702,
          -1.2964567906155764,
          1.4805559941506305,
          1.4775140330715157,
          1.468400649904744,
          1.4532532934965616,
          1.4321342075835484,
          1.4051301750197498,
          1.372352161167318,
          1.3339348579160344,
          1.2900361302054437,
          1.240836367323957,
          1.18653774165057,
          1.1273633778851935,
          1.0635564361814005,
          0.9953791129491979,
          0.9231115634337368,
          0.8470507504973173,
          0.7675092243352881,
          0.6848138381402529,
          0.5993044049921917,
          0.511332301493626,
          0.42125902388778813,
          0.32945470259301785,
          0.23629658125748107,
          0.1421674665840996,
          0.047454155295698124,
          -0.04745415529569779,
          -0.1421674665840993,
          -0.2362965812574808,
          -0.32945470259301785,
          -0.4212590238877878,
          -0.5113323014936256,
          -0.5993044049921914,
          -0.6848138381402525,
          -0.7675092243352881,
          -0.8470507504973169,
          -0.9231115634337368,
          -0.9953791129491976,
          -1.0635564361814003,
          -1.127363377885193,
          -1.1865377416505698,
          -1.2408363673239566,
          -1.2900361302054435,
          -1.3339348579160344,
          -1.372352161167318,
          -1.4051301750197498,
          -1.4321342075835481,
          -1.4532532934965616,
          -1.4684006499047437,
          -1.4775140330715157,
          -1.4805559941506305,
          1.6403445091939113,
          1.6369742454733756,
          1.6268773034483153,
          1.6100951736192983,
          1.5866968173575484,
          1.5567783835278761,
          1.5204628133923719,
          1.4778993354183876,
          1.4292628520667559,
          1.3747532210800615,
          1.314594434224308,
          1.2490336968587052,
          1.178340412115822,
          1.1028050738663293,
          1.0227380730173732,
          0.9384684220497601,
          0.8503424030350993,
          0.758722144688494,
          0.6639841343039738,
          0.5665176706874485,
          0.46672326444440926,
          0.3650109921959413,
          0.2617988114859282,
          0.15751084330385057,
          0.05257562928066744,
          -0.05257562928066707,
          -0.1575108433038502,
          -0.26179881148592793,
          -0.3650109921959413,
          -0.4667232644444089,
          -0.5665176706874482,
          -0.6639841343039735,
          -0.7587221446884936,
          -0.8503424030350993,
          -0.9384684220497598,
          -1.0227380730173732,
          -1.1028050738663289,
          -1.1783404121158219,
          -1.2490336968587048,
          -1.3145944342243079,
          -1.374753221080061,
          -1.4292628520667556,
          -1.4778993354183876,
          -1.5204628133923717,
          -1.5567783835278761,
          -1.5866968173575482,
          -1.6100951736192983,
          -1.626877303448315,
          -1.6369742454733756,
          -1.6403445091939113,
          1.7731986127460002,
          1.7695553860211588,
          1.7586406766467164,
          1.7404993355046905,
          1.7152059092571392,
          1.6828643340179366,
          1.6436075082569868,
          1.5975967466919039,
          1.5450211174112365,
          1.486096664953136,
          1.4210655225320084,
          1.3501949170611978,
          1.2737760710602815,
          1.1921230059592678,
          1.1055712517171847,
          1.0144764680575062,
          0.9192129829860591,
          0.8201722545969561,
          0.7177612624873172,
          0.6124008353908098,
          0.5045239219021145,
          0.394573811398281,
          0.28300231246759533,
          0.17026789633117465,
          0.05683381288637994,
          -0.056833812886379544,
          -0.17026789633117426,
          -0.28300231246759494,
          -0.394573811398281,
          -0.504523921902114,
          -0.6124008353908094,
          -0.7177612624873168,
          -0.8201722545969556,
          -0.9192129829860591,
          -1.0144764680575058,
          -1.1055712517171847,
          -1.1921230059592673,
          -1.2737760710602812,
          -1.3501949170611973,
          -1.4210655225320081,
          -1.4860966649531357,
          -1.5450211174112363,
          -1.5975967466919039,
          -1.6436075082569865,
          -1.6828643340179366,
          -1.715205909257139,
          -1.7404993355046905,
          -1.7586406766467162,
          -1.7695553860211588,
          -1.7731986127460002,
          1.8769368440995204,
          1.8730804760524726,
          1.8615272185548235,
          1.842324546419796,
          1.8155513675461539,
          1.7813176986687174,
          1.739764213276003,
          1.6910616635526843,
          1.6354101787222382,
          1.573038442673039,
          1.504202754247209,
          1.429185974053698,
          1.3482963621333703,
          1.261866311252374,
          1.1702509810289665,
          1.073826838506463,
          0.9729901111694019,
          0.8681551587598215,
          0.7597527705841994,
          0.6482283953077885,
          0.5340403105105033,
          0.41765773952604257,
          0.29955892330256556,
          0.1802291552080508,
          0.06015878685575361,
          -0.060158786855753196,
          -0.1802291552080504,
          -0.29955892330256517,
          -0.41765773952604257,
          -0.5340403105105028,
          -0.6482283953077881,
          -0.759752770584199,
          -0.8681551587598212,
          -0.9729901111694019,
          -1.0738268385064627,
          -1.1702509810289665,
          -1.2618663112523736,
          -1.3482963621333701,
          -1.4291859740536976,
          -1.5042027542472087,
          -1.5730384426730388,
          -1.635410178722238,
          -1.6910616635526843,
          -1.7397642132760027,
          -1.7813176986687174,
          -1.8155513675461536,
          -1.842324546419796,
          -1.8615272185548233,
          -1.8730804760524726,
          -1.8769368440995204,
          1.949855824363647,
          1.9458496364511106,
          1.9338475349989586,
          1.9138988392165002,
          1.886085522573688,
          1.850521875954544,
          1.8073540380114057,
          1.7567593946498532,
          1.6989458501119759,
          1.6341509726532466,
          1.5626410183236006,
          1.4847098368642158,
          1.4006776642158947,
          1.3108898066008936,
          1.2157152215855878,
          1.1155450019546895,
          1.010790768627107,
          0.9018829792172959,
          0.7892691591925884,
          0.6734120628950548,
          0.5547877719846511,
          0.43388373911755806,
          0.3111967848986612,
          0.18723105633911477,
          0.062495955208135265,
          -0.062495955208134835,
          -0.18723105633911435,
          -0.3111967848986608,
          -0.43388373911755806,
          -0.5547877719846507,
          -0.6734120628950544,
          -0.789269159192588,
          -0.9018829792172954,
          -1.010790768627107,
          -1.115545001954689,
          -1.2157152215855878,
          -1.3108898066008932,
          -1.4006776642158945,
          -1.4847098368642153,
          -1.5626410183236004,
          -1.6341509726532462,
          -1.6989458501119756,
          -1.7567593946498532,
          -1.8073540380114055,
          -1.850521875954544,
          -1.8860855225736877,
          -1.9138988392165002,
          -1.9338475349989583,
          -1.9458496364511106,
          -1.949855824363647,
          1.9907582258983962,
          1.9866679996151377,
          1.9744141283825114,
          1.9540469659858586,
          1.9256502054642104,
          1.8893405351976358,
          1.8452671594096606,
          1.7936111850551064,
          1.7345848776127681,
          1.6684307888410297,
          1.5954207600806616,
          1.5158548052004421,
          1.4300598777758182,
          1.3383885275665315,
          1.2412174518140349,
          1.1389459473117263,
          1.031994269608774,
          0.9208019060899229,
          0.8058257700275587,
          0.6875383230270657,
          0.5664256335807467,
          0.4429853797081266,
          0.3177248038902203,
          0.1911586287013724,
          0.06380694170379327,
          -0.06380694170379284,
          -0.19115862870137199,
          -0.3177248038902199,
          -0.4429853797081266,
          -0.5664256335807463,
          -0.6875383230270653,
          -0.8058257700275583,
          -0.9208019060899225,
          -1.031994269608774,
          -1.1389459473117258,
          -1.2412174518140349,
          -1.338388527566531,
          -1.430059877775818,
          -1.5158548052004417,
          -1.5954207600806614,
          -1.6684307888410292,
          -1.734584877612768,
          -1.7936111850551064,
          -1.8452671594096604,
          -1.8893405351976358,
          -1.9256502054642102,
          -1.9540469659858586,
          -1.9744141283825112,
          -1.9866679996151377,
          -1.9907582258983962,
          1.9989724324013758,
          1.9948653291498861,
          1.9825608963636485,
          1.9621096955962738,
          1.9335957652184843,
          1.897136275086421,
          1.8528810450655728,
          1.8010119293888127,
          1.741742069378346,
          1.675315017602302,
          1.6020037370649856,
          1.5221094795433454,
          1.435960547678802,
          1.3439109459112748,
          1.2463389257990043,
          1.1436454317017646,
          1.0362524532144866,
          0.9246012911214962,
          0.8091507439969325,
          0.6903752229029951,
          0.5687628019331284,
          0.4448132126108797,
          0.31903579038587837,
          0.19194738166521905,
          0.06407021998071312,
          -0.06407021998071268,
          -0.19194738166521863,
          -0.319035790385878,
          -0.4448132126108797,
          -0.568762801933128,
          -0.6903752229029947,
          -0.8091507439969321,
          -0.9246012911214958,
          -1.0362524532144866,
          -1.1436454317017641,
          -1.2463389257990043,
          -1.3439109459112744,
          -1.4359605476788018,
          -1.522109479543345,
          -1.6020037370649853,
          -1.6753150176023015,
          -1.7417420693783459,
          -1.8010119293888127,
          -1.8528810450655726,
          -1.897136275086421,
          -1.933595765218484,
          -1.9621096955962738,
          -1.9825608963636483,
          -1.9948653291498861,
          -1.9989724324013758,
          1.9743635668289006,
          1.9703070251310222,
          1.958154069237349,
          1.9379546382504484,
          1.909791735965011,
          1.8737810897874505,
          1.83007067518717,
          1.7788401076336169,
          1.7202999045177905,
          1.6546906200911282,
          1.5822818569764867,
          1.5033711583131348,
          1.418282785088172,
          1.3273663836785787,
          1.2309955490792535,
          1.1295662897210448,
          1.0234954001871628,
          0.913218748514837,
          0.7991894851200564,
          0.6818761807053105,
          0.5617609008020645,
          0.4393372248600871,
          0.31510821802362077,
          0.1895843639287946,
          0.06328146701686649,
          -0.06328146701686604,
          -0.1895843639287942,
          -0.3151082180236204,
          -0.4393372248600871,
          -0.5617609008020641,
          -0.6818761807053101,
          -0.7991894851200559,
          -0.9132187485148365,
          -1.0234954001871628,
          -1.1295662897210443,
          -1.2309955490792535,
          -1.3273663836785783,
          -1.4182827850881718,
          -1.5033711583131344,
          -1.5822818569764865,
          -1.6546906200911278,
          -1.7202999045177902,
          -1.7788401076336169,
          -1.8300706751871698,
          -1.8737810897874505,
          -1.9097917359650107,
          -1.9379546382504484,
          -1.9581540692373487,
          -1.9703070251310222,
          -1.9743635668289006,
          1.9173357060733216,
          1.9133963342315843,
          1.901594406430263,
          1.8819784193221987,
          1.8546289792060344,
          1.819658470797644,
          1.7772105954172284,
          1.727459780489766,
          1.6706104627853102,
          1.606896248344449,
          1.5365789525409765,
          1.4599475242263613,
          1.3773168583769382,
          1.2890265021229046,
          1.1954392594763301,
          1.0969397004916508,
          0.9939325809848232,
          0.8868411793048591,
          0.7761055569922948,
          0.6621807504719293,
          0.5455349012105492,
          0.426647332023225,
          0.3060065774330522,
          0.18410837617800196,
          0.061453634114113496,
          -0.061453634114113066,
          -0.18410837617800158,
          -0.3060065774330518,
          -0.426647332023225,
          -0.5455349012105487,
          -0.6621807504719288,
          -0.7761055569922943,
          -0.8868411793048586,
          -0.9939325809848232,
          -1.0969397004916503,
          -1.1954392594763301,
          -1.2890265021229041,
          -1.377316858376938,
          -1.4599475242263609,
          -1.5365789525409763,
          -1.6068962483444489,
          -1.67061046278531,
          -1.727459780489766,
          -1.7772105954172281,
          -1.819658470797644,
          -1.8546289792060342,
          -1.8819784193221987,
          -1.9015944064302628,
          -1.9133963342315843,
          -1.9173357060733216,
          1.8288252460316257,
          1.8250677284227612,
          1.8138106160420076,
          1.79510016677878,
          1.7690132658824806,
          1.7356571100245144,
          1.6951687668041748,
          1.6477146115084769,
          1.5934896434404147,
          1.5327166846249993,
          1.465645464185762,
          1.3925515921542193,
          1.313735426929135,
          1.2295208410394336,
          1.140253890282508,
          1.046301391706719,
          0.9480494162814623,
          0.8459017024487432,
          0.740277997075316,
          0.631612330622774,
          0.520351233623283,
          0.4069519017898438,
          0.2918803173010414,
          0.17560933398031736,
          0.058616734238184184,
          -0.058616734238183775,
          -0.17560933398031697,
          -0.2918803173010411,
          -0.4069519017898438,
          -0.5203512336232825,
          -0.6316123306227736,
          -0.7402779970753156,
          -0.8459017024487429,
          -0.9480494162814623,
          -1.0463013917067185,
          -1.140253890282508,
          -1.2295208410394332,
          -1.3137354269291348,
          -1.3925515921542189,
          -1.4656454641857617,
          -1.5327166846249989,
          -1.5934896434404144,
          -1.6477146115084769,
          -1.6951687668041746,
          -1.7356571100245144,
          -1.7690132658824804,
          -1.79510016677878,
          -1.8138106160420073,
          -1.8250677284227612,
          -1.8288252460316257,
          1.710285526010693,
          1.7067715609699567,
          1.696244105483843,
          1.6787464191250767,
          1.6543504036401477,
          1.6231563074896127,
          1.5852923139056667,
          1.5409140141597475,
          1.4902037682046263,
          1.4333699553182464,
          1.370646117828573,
          1.3022900014380714,
          1.2285824960913316,
          1.1498264817380335,
          1.0663455837342668,
          0.9784828429965259,
          0.8865993063730004,
          0.7910725430246337,
          0.6922950929124504,
          0.590672853766658,
          0.48662341316580865,
          0.38057433257986584,
          0.2729613904284144,
          0.164226791373658,
          0.054817349206610966,
          -0.054817349206610584,
          -0.16422679137365764,
          -0.27296139042841405,
          -0.38057433257986584,
          -0.48662341316580826,
          -0.5906728537666576,
          -0.69229509291245,
          -0.7910725430246334,
          -0.8865993063730004,
          -0.9784828429965254,
          -1.0663455837342668,
          -1.149826481738033,
          -1.2285824960913314,
          -1.302290001438071,
          -1.3706461178285727,
          -1.4333699553182462,
          -1.490203768204626,
          -1.5409140141597475,
          -1.5852923139056665,
          -1.6231563074896127,
          -1.6543504036401475,
          -1.6787464191250767,
          -1.6962441054838429,
          -1.7067715609699567,
          -1.710285526010693,
          1.5636629649360598,
          1.5604502516722716,
          1.5508253136088328,
          1.5348277016807885,
          1.5125231535070287,
          1.4840033232603091,
          1.4493854050405988,
          1.408811651299382,
          1.3624487882938243,
          1.3104873309728189,
          1.2531408001101954,
          1.1906448449020604,
          1.1232562746337045,
          1.0512520033951631,
          0.9749279121818236,
          0.8945976330559479,
          0.8105912603652545,
          0.7232539943144404,
          0.632944722463493,
          0.5400345449817258,
          0.44490524971758205,
          0.34794774335047174,
          0.2495604450713777,
          0.15014764939293784,
          0.05011786481657259,
          -0.050117864816572245,
          -0.1501476493929375,
          -0.2495604450713774,
          -0.34794774335047174,
          -0.4449052497175817,
          -0.5400345449817254,
          -0.6329447224634926,
          -0.72325399431444,
          -0.8105912603652545,
          -0.8945976330559475,
          -0.9749279121818236,
          -1.051252003395163,
          -1.1232562746337043,
          -1.19064484490206,
          -1.2531408001101951,
          -1.3104873309728187,
          -1.362448788293824,
          -1.408811651299382,
          -1.4493854050405985,
          -1.4840033232603091,
          -1.5125231535070285,
          -1.5348277016807885,
          -1.5508253136088326,
          -1.5604502516722716,
          -1.5636629649360598,
          1.3913651012069739,
          1.388506392383105,
          1.379942012959247,
          1.3657071558075056,
          1.3458603150092852,
          1.3204830454905592,
          1.2896796278951876,
          1.253576640073382,
          1.212322436946169,
          1.1660865408831966,
          1.115058945098957,
          1.059449332929912,
          0.9994862162006887,
          0.9354159962199756,
          0.8675019512646928,
          0.7960231547130785,
          0.7212733282723168,
          0.6435596350130406,
          0.5632014171703869,
          0.48052888389825493,
          0.3958817543690627,
          0.3096078617947977,
          0.2220617241057401,
          0.13360308716024158,
          0.04459544647182931,
          -0.044595446471828996,
          -0.1336030871602413,
          -0.22206172410573985,
          -0.3096078617947977,
          -0.3958817543690624,
          -0.4805288838982546,
          -0.5632014171703866,
          -0.6435596350130403,
          -0.7212733282723168,
          -0.7960231547130782,
          -0.8675019512646928,
          -0.9354159962199754,
          -0.9994862162006886,
          -1.0594493329299117,
          -1.1150589450989568,
          -1.1660865408831964,
          -1.2123224369461687,
          -1.253576640073382,
          -1.2896796278951874,
          -1.3204830454905592,
          -1.345860315009285,
          -1.3657071558075056,
          -1.3799420129592468,
          -1.388506392383105,
          -1.3913651012069739,
          1.1962210609824324,
          1.1937632965183376,
          1.186400102607425,
          1.174161736192874,
          1.1570984873474044,
          1.135280472620577,
          1.108797346914854,
          1.077757935074373,
          1.042289784700319,
          1.0025386420304736,
          0.9586678530366609,
          0.910857692201111,
          0.8593046217299445,
          0.8042204842478262,
          0.7458316322911808,
          0.6843779981770675,
          0.6201121080698243,
          0.5532980442968923,
          0.4842103601778861,
          0.4131329518261123,
          0.3403578915585448,
          0.2661842277080242,
          0.19091675576951375,
          0.11486476593003074,
          0.0383407721289262,
          -0.038340772128925935,
          -0.11486476593003049,
          -0.19091675576951353,
          -0.2661842277080242,
          -0.3403578915585445,
          -0.41313295182611204,
          -0.4842103601778858,
          -0.5532980442968921,
          -0.6201121080698243,
          -0.6843779981770672,
          -0.7458316322911808,
          -0.804220484247826,
          -0.8593046217299444,
          -0.9108576922011108,
          -0.9586678530366608,
          -1.0025386420304734,
          -1.0422897847003187,
          -1.077757935074373,
          -1.1087973469148538,
          -1.135280472620577,
          -1.1570984873474044,
          -1.174161736192874,
          -1.1864001026074247,
          -1.1937632965183376,
          -1.1962210609824324,
          0.9814351040078773,
          0.9794186403281082,
          0.9733775353705916,
          0.9633366133314105,
          0.9493371345129953,
          0.9314366257766892,
          0.9097086441525372,
          0.8842424745776701,
          0.8551427630053474,
          0.8225290863922883,
          0.7865354613313076,
          0.7473097933483892,
          0.7050132691271543,
          0.659819694158204,
          0.6119147785350769,
          0.5614953738316409,
          0.5087686641967508,
          0.45395131499013996,
          0.39726858245798297,
          0.33895338810666237,
          0.2792453615783378,
          0.2183898559613454,
          0.15663693958173083,
          0.0942403684188568,
          0.031456543367654036,
          -0.03145654336765382,
          -0.0942403684188566,
          -0.15663693958173064,
          -0.2183898559613454,
          -0.27924536157833757,
          -0.33895338810666215,
          -0.39726858245798274,
          -0.45395131499013974,
          -0.5087686641967508,
          -0.5614953738316407,
          -0.6119147785350769,
          -0.6598196941582037,
          -0.7050132691271542,
          -0.747309793348389,
          -0.7865354613313075,
          -0.8225290863922881,
          -0.8551427630053473,
          -0.8842424745776701,
          -0.909708644152537,
          -0.9314366257766892,
          -0.9493371345129952,
          -0.9633366133314105,
          -0.9733775353705915,
          -0.9794186403281082,
          -0.9814351040078773,
          0.7505340097587492,
          0.7489919571411797,
          0.7443721359134462,
          0.7366935299119218,
          0.7259876921757229,
          0.7122986152885021,
          0.6956825506034873,
          0.6762077770946034,
          0.6539543207835246,
          0.6290136258955843,
          0.6014881790958395,
          0.57149108834938,
          0.539145618136439,
          0.5045846829322029,
          0.4679503010327233,
          0.42939301097127547,
          0.38907125292323463,
          0.3471507176414103,
          0.30380366559720196,
          0.25920821912537273,
          0.2135476304811688,
          0.16700952881749445,
          0.11978514917647759,
          0.0720685466636607,
          0.02405579903394802,
          -0.024055799033947854,
          -0.07206854666366053,
          -0.11978514917647745,
          -0.16700952881749445,
          -0.21354763048116862,
          -0.25920821912537256,
          -0.3038036655972018,
          -0.34715071764141014,
          -0.38907125292323463,
          -0.4293930109712753,
          -0.4679503010327233,
          -0.5045846829322027,
          -0.5391456181364389,
          -0.5714910883493799,
          -0.6014881790958394,
          -0.6290136258955842,
          -0.6539543207835244,
          -0.6762077770946034,
          -0.6956825506034872,
          -0.7122986152885021,
          -0.7259876921757228,
          -0.7366935299119218,
          -0.7443721359134461,
          -0.7489919571411797,
          -0.7505340097587492,
          0.5073091678190167,
          0.5062668467249949,
          0.5031441665638821,
          0.4979539590982729,
          0.49071755200393974,
          0.48146468122983754,
          0.47023336880671174,
          0.45706976660641785,
          0.44202796669398065,
          0.42516977905169645,
          0.4065644775886572,
          0.3862885154793992,
          0.3644252110014097,
          0.3410644051624527,
          0.3163020925245977,
          0.2902400267419731,
          0.26298530243317525,
          0.234649915106509,
          0.20535030094642118,
          0.17520685835224306,
          0.14434345319534234,
          0.11288690982768823,
          0.08096648993338604,
          0.04871336136468994,
          0.016260059145163094,
          -0.016260059145162983,
          -0.04871336136468984,
          -0.08096648993338594,
          -0.11288690982768823,
          -0.14434345319534223,
          -0.17520685835224295,
          -0.20535030094642107,
          -0.2346499151065089,
          -0.26298530243317525,
          -0.29024002674197297,
          -0.3163020925245977,
          -0.34106440516245257,
          -0.3644252110014096,
          -0.3862885154793991,
          -0.40656447758865716,
          -0.42516977905169634,
          -0.4420279666939806,
          -0.45706976660641785,
          -0.4702333688067117,
          -0.48146468122983754,
          -0.4907175520039397,
          -0.4979539590982729,
          -0.5031441665638821,
          -0.5062668467249949,
          -0.5073091678190167,
          0.25575432336901327,
          0.25522884868208645,
          0.2536545839095086,
          0.251037998042909,
          0.24738984319486934,
          0.242725110416187,
          0.23706296809443164,
          0.2304266831869291,
          0.2228435256118429,
          0.21434465619023133,
          0.2049649985995495,
          0.19474309586476782,
          0.18372095197681476,
          0.1719438592891683,
          0.15946021240186053,
          0.14632130929768525,
          0.13258114054778333,
          0.11829616745280512,
          0.10352509003131499,
          0.08832860580882401,
          0.07276916039863805,
          0.05691069089943808,
          0.04081836316402745,
          0.024558304018864396,
          0.008197329534748134,
          -0.008197329534748079,
          -0.02455830401886434,
          -0.0408183631640274,
          -0.05691069089943808,
          -0.072769160398638,
          -0.08832860580882396,
          -0.10352509003131494,
          -0.11829616745280506,
          -0.13258114054778333,
          -0.1463213092976852,
          -0.15946021240186053,
          -0.17194385928916825,
          -0.18372095197681473,
          -0.19474309586476776,
          -0.20496499859954947,
          -0.21434465619023127,
          -0.22284352561184287,
          -0.2304266831869291,
          -0.23706296809443161,
          -0.242725110416187,
          -0.2473898431948693,
          -0.251037998042909,
          -0.2536545839095086,
          -0.25522884868208645,
          -0.25575432336901327,
          4.898587196589413e-16,
          4.888522523822191e-16,
          4.858369863419791e-16,
          4.80825311913153e-16,
          4.738378231409699e-16,
          4.649032331156063e-16,
          4.540582559839397e-16,
          4.4134745608324484e-16,
          4.2682306481677137e-16,
          4.1054476602370553e-16,
          3.9257945072547215e-16,
          3.730009422561797e-16,
          3.518896929067054e-16,
          3.2933245332897505e-16,
          3.054219160589262e-16,
          2.802563346229957e-16,
          2.5393911979330405e-16,
          2.265784146506114e-16,
          1.982866502012018e-16,
          1.691800833737624e-16,
          1.3937831929472615e-16,
          1.09003819805152e-16,
          7.818140023875258e-17,
          4.7037716528914365e-17,
          1.5700744752300288e-17,
          -1.570074475230018e-17,
          -4.703771652891426e-17,
          -7.818140023875248e-17,
          -1.09003819805152e-16,
          -1.3937831929472602e-16,
          -1.6918008337376229e-16,
          -1.982866502012017e-16,
          -2.265784146506113e-16,
          -2.5393911979330405e-16,
          -2.802563346229956e-16,
          -3.054219160589262e-16,
          -3.293324533289749e-16,
          -3.5188969290670537e-16,
          -3.730009422561796e-16,
          -3.925794507254721e-16,
          -4.1054476602370543e-16,
          -4.268230648167713e-16,
          -4.4134745608324484e-16,
          -4.540582559839397e-16,
          -4.649032331156063e-16,
          -4.738378231409699e-16,
          -4.80825311913153e-16,
          -4.85836986341979e-16,
          -4.888522523822191e-16,
          -4.898587196589413e-16
         ],
         "z": [
          3,
          3,
          3,
          3,
          3,
          3,
          3,
          3,
          3,
          3,
          3,
          3,
          3,
          3,
          3,
          3,
          3,
          3,
          3,
          3,
          3,
          3,
          3,
          3,
          3,
          3,
          3,
          3,
          3,
          3,
          3,
          3,
          3,
          3,
          3,
          3,
          3,
          3,
          3,
          3,
          3,
          3,
          3,
          3,
          3,
          3,
          3,
          3,
          3,
          3,
          2.9753700414697386,
          2.9753700414697386,
          2.9753700414697386,
          2.9753700414697386,
          2.9753700414697386,
          2.9753700414697386,
          2.9753700414697386,
          2.9753700414697386,
          2.9753700414697386,
          2.9753700414697386,
          2.9753700414697386,
          2.9753700414697386,
          2.9753700414697386,
          2.9753700414697386,
          2.9753700414697386,
          2.9753700414697386,
          2.9753700414697386,
          2.9753700414697386,
          2.9753700414697386,
          2.9753700414697386,
          2.9753700414697386,
          2.9753700414697386,
          2.9753700414697386,
          2.9753700414697386,
          2.9753700414697386,
          2.9753700414697386,
          2.9753700414697386,
          2.9753700414697386,
          2.9753700414697386,
          2.9753700414697386,
          2.9753700414697386,
          2.9753700414697386,
          2.9753700414697386,
          2.9753700414697386,
          2.9753700414697386,
          2.9753700414697386,
          2.9753700414697386,
          2.9753700414697386,
          2.9753700414697386,
          2.9753700414697386,
          2.9753700414697386,
          2.9753700414697386,
          2.9753700414697386,
          2.9753700414697386,
          2.9753700414697386,
          2.9753700414697386,
          2.9753700414697386,
          2.9753700414697386,
          2.9753700414697386,
          2.9753700414697386,
          2.9018845891170884,
          2.9018845891170884,
          2.9018845891170884,
          2.9018845891170884,
          2.9018845891170884,
          2.9018845891170884,
          2.9018845891170884,
          2.9018845891170884,
          2.9018845891170884,
          2.9018845891170884,
          2.9018845891170884,
          2.9018845891170884,
          2.9018845891170884,
          2.9018845891170884,
          2.9018845891170884,
          2.9018845891170884,
          2.9018845891170884,
          2.9018845891170884,
          2.9018845891170884,
          2.9018845891170884,
          2.9018845891170884,
          2.9018845891170884,
          2.9018845891170884,
          2.9018845891170884,
          2.9018845891170884,
          2.9018845891170884,
          2.9018845891170884,
          2.9018845891170884,
          2.9018845891170884,
          2.9018845891170884,
          2.9018845891170884,
          2.9018845891170884,
          2.9018845891170884,
          2.9018845891170884,
          2.9018845891170884,
          2.9018845891170884,
          2.9018845891170884,
          2.9018845891170884,
          2.9018845891170884,
          2.9018845891170884,
          2.9018845891170884,
          2.9018845891170884,
          2.9018845891170884,
          2.9018845891170884,
          2.9018845891170884,
          2.9018845891170884,
          2.9018845891170884,
          2.9018845891170884,
          2.9018845891170884,
          2.9018845891170884,
          2.7807502720380652,
          2.7807502720380652,
          2.7807502720380652,
          2.7807502720380652,
          2.7807502720380652,
          2.7807502720380652,
          2.7807502720380652,
          2.7807502720380652,
          2.7807502720380652,
          2.7807502720380652,
          2.7807502720380652,
          2.7807502720380652,
          2.7807502720380652,
          2.7807502720380652,
          2.7807502720380652,
          2.7807502720380652,
          2.7807502720380652,
          2.7807502720380652,
          2.7807502720380652,
          2.7807502720380652,
          2.7807502720380652,
          2.7807502720380652,
          2.7807502720380652,
          2.7807502720380652,
          2.7807502720380652,
          2.7807502720380652,
          2.7807502720380652,
          2.7807502720380652,
          2.7807502720380652,
          2.7807502720380652,
          2.7807502720380652,
          2.7807502720380652,
          2.7807502720380652,
          2.7807502720380652,
          2.7807502720380652,
          2.7807502720380652,
          2.7807502720380652,
          2.7807502720380652,
          2.7807502720380652,
          2.7807502720380652,
          2.7807502720380652,
          2.7807502720380652,
          2.7807502720380652,
          2.7807502720380652,
          2.7807502720380652,
          2.7807502720380652,
          2.7807502720380652,
          2.7807502720380652,
          2.7807502720380652,
          2.7807502720380652,
          2.6139561123701682,
          2.6139561123701682,
          2.6139561123701682,
          2.6139561123701682,
          2.6139561123701682,
          2.6139561123701682,
          2.6139561123701682,
          2.6139561123701682,
          2.6139561123701682,
          2.6139561123701682,
          2.6139561123701682,
          2.6139561123701682,
          2.6139561123701682,
          2.6139561123701682,
          2.6139561123701682,
          2.6139561123701682,
          2.6139561123701682,
          2.6139561123701682,
          2.6139561123701682,
          2.6139561123701682,
          2.6139561123701682,
          2.6139561123701682,
          2.6139561123701682,
          2.6139561123701682,
          2.6139561123701682,
          2.6139561123701682,
          2.6139561123701682,
          2.6139561123701682,
          2.6139561123701682,
          2.6139561123701682,
          2.6139561123701682,
          2.6139561123701682,
          2.6139561123701682,
          2.6139561123701682,
          2.6139561123701682,
          2.6139561123701682,
          2.6139561123701682,
          2.6139561123701682,
          2.6139561123701682,
          2.6139561123701682,
          2.6139561123701682,
          2.6139561123701682,
          2.6139561123701682,
          2.6139561123701682,
          2.6139561123701682,
          2.6139561123701682,
          2.6139561123701682,
          2.6139561123701682,
          2.6139561123701682,
          2.6139561123701682,
          2.40424086560387,
          2.40424086560387,
          2.40424086560387,
          2.40424086560387,
          2.40424086560387,
          2.40424086560387,
          2.40424086560387,
          2.40424086560387,
          2.40424086560387,
          2.40424086560387,
          2.40424086560387,
          2.40424086560387,
          2.40424086560387,
          2.40424086560387,
          2.40424086560387,
          2.40424086560387,
          2.40424086560387,
          2.40424086560387,
          2.40424086560387,
          2.40424086560387,
          2.40424086560387,
          2.40424086560387,
          2.40424086560387,
          2.40424086560387,
          2.40424086560387,
          2.40424086560387,
          2.40424086560387,
          2.40424086560387,
          2.40424086560387,
          2.40424086560387,
          2.40424086560387,
          2.40424086560387,
          2.40424086560387,
          2.40424086560387,
          2.40424086560387,
          2.40424086560387,
          2.40424086560387,
          2.40424086560387,
          2.40424086560387,
          2.40424086560387,
          2.40424086560387,
          2.40424086560387,
          2.40424086560387,
          2.40424086560387,
          2.40424086560387,
          2.40424086560387,
          2.40424086560387,
          2.40424086560387,
          2.40424086560387,
          2.40424086560387,
          2.155048050293183,
          2.155048050293183,
          2.155048050293183,
          2.155048050293183,
          2.155048050293183,
          2.155048050293183,
          2.155048050293183,
          2.155048050293183,
          2.155048050293183,
          2.155048050293183,
          2.155048050293183,
          2.155048050293183,
          2.155048050293183,
          2.155048050293183,
          2.155048050293183,
          2.155048050293183,
          2.155048050293183,
          2.155048050293183,
          2.155048050293183,
          2.155048050293183,
          2.155048050293183,
          2.155048050293183,
          2.155048050293183,
          2.155048050293183,
          2.155048050293183,
          2.155048050293183,
          2.155048050293183,
          2.155048050293183,
          2.155048050293183,
          2.155048050293183,
          2.155048050293183,
          2.155048050293183,
          2.155048050293183,
          2.155048050293183,
          2.155048050293183,
          2.155048050293183,
          2.155048050293183,
          2.155048050293183,
          2.155048050293183,
          2.155048050293183,
          2.155048050293183,
          2.155048050293183,
          2.155048050293183,
          2.155048050293183,
          2.155048050293183,
          2.155048050293183,
          2.155048050293183,
          2.155048050293183,
          2.155048050293183,
          2.155048050293183,
          1.8704694055762008,
          1.8704694055762008,
          1.8704694055762008,
          1.8704694055762008,
          1.8704694055762008,
          1.8704694055762008,
          1.8704694055762008,
          1.8704694055762008,
          1.8704694055762008,
          1.8704694055762008,
          1.8704694055762008,
          1.8704694055762008,
          1.8704694055762008,
          1.8704694055762008,
          1.8704694055762008,
          1.8704694055762008,
          1.8704694055762008,
          1.8704694055762008,
          1.8704694055762008,
          1.8704694055762008,
          1.8704694055762008,
          1.8704694055762008,
          1.8704694055762008,
          1.8704694055762008,
          1.8704694055762008,
          1.8704694055762008,
          1.8704694055762008,
          1.8704694055762008,
          1.8704694055762008,
          1.8704694055762008,
          1.8704694055762008,
          1.8704694055762008,
          1.8704694055762008,
          1.8704694055762008,
          1.8704694055762008,
          1.8704694055762008,
          1.8704694055762008,
          1.8704694055762008,
          1.8704694055762008,
          1.8704694055762008,
          1.8704694055762008,
          1.8704694055762008,
          1.8704694055762008,
          1.8704694055762008,
          1.8704694055762008,
          1.8704694055762008,
          1.8704694055762008,
          1.8704694055762008,
          1.8704694055762008,
          1.8704694055762008,
          1.5551777049315754,
          1.5551777049315754,
          1.5551777049315754,
          1.5551777049315754,
          1.5551777049315754,
          1.5551777049315754,
          1.5551777049315754,
          1.5551777049315754,
          1.5551777049315754,
          1.5551777049315754,
          1.5551777049315754,
          1.5551777049315754,
          1.5551777049315754,
          1.5551777049315754,
          1.5551777049315754,
          1.5551777049315754,
          1.5551777049315754,
          1.5551777049315754,
          1.5551777049315754,
          1.5551777049315754,
          1.5551777049315754,
          1.5551777049315754,
          1.5551777049315754,
          1.5551777049315754,
          1.5551777049315754,
          1.5551777049315754,
          1.5551777049315754,
          1.5551777049315754,
          1.5551777049315754,
          1.5551777049315754,
          1.5551777049315754,
          1.5551777049315754,
          1.5551777049315754,
          1.5551777049315754,
          1.5551777049315754,
          1.5551777049315754,
          1.5551777049315754,
          1.5551777049315754,
          1.5551777049315754,
          1.5551777049315754,
          1.5551777049315754,
          1.5551777049315754,
          1.5551777049315754,
          1.5551777049315754,
          1.5551777049315754,
          1.5551777049315754,
          1.5551777049315754,
          1.5551777049315754,
          1.5551777049315754,
          1.5551777049315754,
          1.2143500293671818,
          1.2143500293671818,
          1.2143500293671818,
          1.2143500293671818,
          1.2143500293671818,
          1.2143500293671818,
          1.2143500293671818,
          1.2143500293671818,
          1.2143500293671818,
          1.2143500293671818,
          1.2143500293671818,
          1.2143500293671818,
          1.2143500293671818,
          1.2143500293671818,
          1.2143500293671818,
          1.2143500293671818,
          1.2143500293671818,
          1.2143500293671818,
          1.2143500293671818,
          1.2143500293671818,
          1.2143500293671818,
          1.2143500293671818,
          1.2143500293671818,
          1.2143500293671818,
          1.2143500293671818,
          1.2143500293671818,
          1.2143500293671818,
          1.2143500293671818,
          1.2143500293671818,
          1.2143500293671818,
          1.2143500293671818,
          1.2143500293671818,
          1.2143500293671818,
          1.2143500293671818,
          1.2143500293671818,
          1.2143500293671818,
          1.2143500293671818,
          1.2143500293671818,
          1.2143500293671818,
          1.2143500293671818,
          1.2143500293671818,
          1.2143500293671818,
          1.2143500293671818,
          1.2143500293671818,
          1.2143500293671818,
          1.2143500293671818,
          1.2143500293671818,
          1.2143500293671818,
          1.2143500293671818,
          1.2143500293671818,
          0.8535827598930981,
          0.8535827598930981,
          0.8535827598930981,
          0.8535827598930981,
          0.8535827598930981,
          0.8535827598930981,
          0.8535827598930981,
          0.8535827598930981,
          0.8535827598930981,
          0.8535827598930981,
          0.8535827598930981,
          0.8535827598930981,
          0.8535827598930981,
          0.8535827598930981,
          0.8535827598930981,
          0.8535827598930981,
          0.8535827598930981,
          0.8535827598930981,
          0.8535827598930981,
          0.8535827598930981,
          0.8535827598930981,
          0.8535827598930981,
          0.8535827598930981,
          0.8535827598930981,
          0.8535827598930981,
          0.8535827598930981,
          0.8535827598930981,
          0.8535827598930981,
          0.8535827598930981,
          0.8535827598930981,
          0.8535827598930981,
          0.8535827598930981,
          0.8535827598930981,
          0.8535827598930981,
          0.8535827598930981,
          0.8535827598930981,
          0.8535827598930981,
          0.8535827598930981,
          0.8535827598930981,
          0.8535827598930981,
          0.8535827598930981,
          0.8535827598930981,
          0.8535827598930981,
          0.8535827598930981,
          0.8535827598930981,
          0.8535827598930981,
          0.8535827598930981,
          0.8535827598930981,
          0.8535827598930981,
          0.8535827598930981,
          0.4787996851001379,
          0.4787996851001379,
          0.4787996851001379,
          0.4787996851001379,
          0.4787996851001379,
          0.4787996851001379,
          0.4787996851001379,
          0.4787996851001379,
          0.4787996851001379,
          0.4787996851001379,
          0.4787996851001379,
          0.4787996851001379,
          0.4787996851001379,
          0.4787996851001379,
          0.4787996851001379,
          0.4787996851001379,
          0.4787996851001379,
          0.4787996851001379,
          0.4787996851001379,
          0.4787996851001379,
          0.4787996851001379,
          0.4787996851001379,
          0.4787996851001379,
          0.4787996851001379,
          0.4787996851001379,
          0.4787996851001379,
          0.4787996851001379,
          0.4787996851001379,
          0.4787996851001379,
          0.4787996851001379,
          0.4787996851001379,
          0.4787996851001379,
          0.4787996851001379,
          0.4787996851001379,
          0.4787996851001379,
          0.4787996851001379,
          0.4787996851001379,
          0.4787996851001379,
          0.4787996851001379,
          0.4787996851001379,
          0.4787996851001379,
          0.4787996851001379,
          0.4787996851001379,
          0.4787996851001379,
          0.4787996851001379,
          0.4787996851001379,
          0.4787996851001379,
          0.4787996851001379,
          0.4787996851001379,
          0.4787996851001379,
          0.096154732714966,
          0.096154732714966,
          0.096154732714966,
          0.096154732714966,
          0.096154732714966,
          0.096154732714966,
          0.096154732714966,
          0.096154732714966,
          0.096154732714966,
          0.096154732714966,
          0.096154732714966,
          0.096154732714966,
          0.096154732714966,
          0.096154732714966,
          0.096154732714966,
          0.096154732714966,
          0.096154732714966,
          0.096154732714966,
          0.096154732714966,
          0.096154732714966,
          0.096154732714966,
          0.096154732714966,
          0.096154732714966,
          0.096154732714966,
          0.096154732714966,
          0.096154732714966,
          0.096154732714966,
          0.096154732714966,
          0.096154732714966,
          0.096154732714966,
          0.096154732714966,
          0.096154732714966,
          0.096154732714966,
          0.096154732714966,
          0.096154732714966,
          0.096154732714966,
          0.096154732714966,
          0.096154732714966,
          0.096154732714966,
          0.096154732714966,
          0.096154732714966,
          0.096154732714966,
          0.096154732714966,
          0.096154732714966,
          0.096154732714966,
          0.096154732714966,
          0.096154732714966,
          0.096154732714966,
          0.096154732714966,
          0.096154732714966,
          -0.2880690777230447,
          -0.2880690777230447,
          -0.2880690777230447,
          -0.2880690777230447,
          -0.2880690777230447,
          -0.2880690777230447,
          -0.2880690777230447,
          -0.2880690777230447,
          -0.2880690777230447,
          -0.2880690777230447,
          -0.2880690777230447,
          -0.2880690777230447,
          -0.2880690777230447,
          -0.2880690777230447,
          -0.2880690777230447,
          -0.2880690777230447,
          -0.2880690777230447,
          -0.2880690777230447,
          -0.2880690777230447,
          -0.2880690777230447,
          -0.2880690777230447,
          -0.2880690777230447,
          -0.2880690777230447,
          -0.2880690777230447,
          -0.2880690777230447,
          -0.2880690777230447,
          -0.2880690777230447,
          -0.2880690777230447,
          -0.2880690777230447,
          -0.2880690777230447,
          -0.2880690777230447,
          -0.2880690777230447,
          -0.2880690777230447,
          -0.2880690777230447,
          -0.2880690777230447,
          -0.2880690777230447,
          -0.2880690777230447,
          -0.2880690777230447,
          -0.2880690777230447,
          -0.2880690777230447,
          -0.2880690777230447,
          -0.2880690777230447,
          -0.2880690777230447,
          -0.2880690777230447,
          -0.2880690777230447,
          -0.2880690777230447,
          -0.2880690777230447,
          -0.2880690777230447,
          -0.2880690777230447,
          -0.2880690777230447,
          -0.667562801868943,
          -0.667562801868943,
          -0.667562801868943,
          -0.667562801868943,
          -0.667562801868943,
          -0.667562801868943,
          -0.667562801868943,
          -0.667562801868943,
          -0.667562801868943,
          -0.667562801868943,
          -0.667562801868943,
          -0.667562801868943,
          -0.667562801868943,
          -0.667562801868943,
          -0.667562801868943,
          -0.667562801868943,
          -0.667562801868943,
          -0.667562801868943,
          -0.667562801868943,
          -0.667562801868943,
          -0.667562801868943,
          -0.667562801868943,
          -0.667562801868943,
          -0.667562801868943,
          -0.667562801868943,
          -0.667562801868943,
          -0.667562801868943,
          -0.667562801868943,
          -0.667562801868943,
          -0.667562801868943,
          -0.667562801868943,
          -0.667562801868943,
          -0.667562801868943,
          -0.667562801868943,
          -0.667562801868943,
          -0.667562801868943,
          -0.667562801868943,
          -0.667562801868943,
          -0.667562801868943,
          -0.667562801868943,
          -0.667562801868943,
          -0.667562801868943,
          -0.667562801868943,
          -0.667562801868943,
          -0.667562801868943,
          -0.667562801868943,
          -0.667562801868943,
          -0.667562801868943,
          -0.667562801868943,
          -0.667562801868943,
          -1.0360951632639224,
          -1.0360951632639224,
          -1.0360951632639224,
          -1.0360951632639224,
          -1.0360951632639224,
          -1.0360951632639224,
          -1.0360951632639224,
          -1.0360951632639224,
          -1.0360951632639224,
          -1.0360951632639224,
          -1.0360951632639224,
          -1.0360951632639224,
          -1.0360951632639224,
          -1.0360951632639224,
          -1.0360951632639224,
          -1.0360951632639224,
          -1.0360951632639224,
          -1.0360951632639224,
          -1.0360951632639224,
          -1.0360951632639224,
          -1.0360951632639224,
          -1.0360951632639224,
          -1.0360951632639224,
          -1.0360951632639224,
          -1.0360951632639224,
          -1.0360951632639224,
          -1.0360951632639224,
          -1.0360951632639224,
          -1.0360951632639224,
          -1.0360951632639224,
          -1.0360951632639224,
          -1.0360951632639224,
          -1.0360951632639224,
          -1.0360951632639224,
          -1.0360951632639224,
          -1.0360951632639224,
          -1.0360951632639224,
          -1.0360951632639224,
          -1.0360951632639224,
          -1.0360951632639224,
          -1.0360951632639224,
          -1.0360951632639224,
          -1.0360951632639224,
          -1.0360951632639224,
          -1.0360951632639224,
          -1.0360951632639224,
          -1.0360951632639224,
          -1.0360951632639224,
          -1.0360951632639224,
          -1.0360951632639224,
          -1.3876148707225053,
          -1.3876148707225053,
          -1.3876148707225053,
          -1.3876148707225053,
          -1.3876148707225053,
          -1.3876148707225053,
          -1.3876148707225053,
          -1.3876148707225053,
          -1.3876148707225053,
          -1.3876148707225053,
          -1.3876148707225053,
          -1.3876148707225053,
          -1.3876148707225053,
          -1.3876148707225053,
          -1.3876148707225053,
          -1.3876148707225053,
          -1.3876148707225053,
          -1.3876148707225053,
          -1.3876148707225053,
          -1.3876148707225053,
          -1.3876148707225053,
          -1.3876148707225053,
          -1.3876148707225053,
          -1.3876148707225053,
          -1.3876148707225053,
          -1.3876148707225053,
          -1.3876148707225053,
          -1.3876148707225053,
          -1.3876148707225053,
          -1.3876148707225053,
          -1.3876148707225053,
          -1.3876148707225053,
          -1.3876148707225053,
          -1.3876148707225053,
          -1.3876148707225053,
          -1.3876148707225053,
          -1.3876148707225053,
          -1.3876148707225053,
          -1.3876148707225053,
          -1.3876148707225053,
          -1.3876148707225053,
          -1.3876148707225053,
          -1.3876148707225053,
          -1.3876148707225053,
          -1.3876148707225053,
          -1.3876148707225053,
          -1.3876148707225053,
          -1.3876148707225053,
          -1.3876148707225053,
          -1.3876148707225053,
          -1.7163499803665083,
          -1.7163499803665083,
          -1.7163499803665083,
          -1.7163499803665083,
          -1.7163499803665083,
          -1.7163499803665083,
          -1.7163499803665083,
          -1.7163499803665083,
          -1.7163499803665083,
          -1.7163499803665083,
          -1.7163499803665083,
          -1.7163499803665083,
          -1.7163499803665083,
          -1.7163499803665083,
          -1.7163499803665083,
          -1.7163499803665083,
          -1.7163499803665083,
          -1.7163499803665083,
          -1.7163499803665083,
          -1.7163499803665083,
          -1.7163499803665083,
          -1.7163499803665083,
          -1.7163499803665083,
          -1.7163499803665083,
          -1.7163499803665083,
          -1.7163499803665083,
          -1.7163499803665083,
          -1.7163499803665083,
          -1.7163499803665083,
          -1.7163499803665083,
          -1.7163499803665083,
          -1.7163499803665083,
          -1.7163499803665083,
          -1.7163499803665083,
          -1.7163499803665083,
          -1.7163499803665083,
          -1.7163499803665083,
          -1.7163499803665083,
          -1.7163499803665083,
          -1.7163499803665083,
          -1.7163499803665083,
          -1.7163499803665083,
          -1.7163499803665083,
          -1.7163499803665083,
          -1.7163499803665083,
          -1.7163499803665083,
          -1.7163499803665083,
          -1.7163499803665083,
          -1.7163499803665083,
          -1.7163499803665083,
          -2.0169026707839492,
          -2.0169026707839492,
          -2.0169026707839492,
          -2.0169026707839492,
          -2.0169026707839492,
          -2.0169026707839492,
          -2.0169026707839492,
          -2.0169026707839492,
          -2.0169026707839492,
          -2.0169026707839492,
          -2.0169026707839492,
          -2.0169026707839492,
          -2.0169026707839492,
          -2.0169026707839492,
          -2.0169026707839492,
          -2.0169026707839492,
          -2.0169026707839492,
          -2.0169026707839492,
          -2.0169026707839492,
          -2.0169026707839492,
          -2.0169026707839492,
          -2.0169026707839492,
          -2.0169026707839492,
          -2.0169026707839492,
          -2.0169026707839492,
          -2.0169026707839492,
          -2.0169026707839492,
          -2.0169026707839492,
          -2.0169026707839492,
          -2.0169026707839492,
          -2.0169026707839492,
          -2.0169026707839492,
          -2.0169026707839492,
          -2.0169026707839492,
          -2.0169026707839492,
          -2.0169026707839492,
          -2.0169026707839492,
          -2.0169026707839492,
          -2.0169026707839492,
          -2.0169026707839492,
          -2.0169026707839492,
          -2.0169026707839492,
          -2.0169026707839492,
          -2.0169026707839492,
          -2.0169026707839492,
          -2.0169026707839492,
          -2.0169026707839492,
          -2.0169026707839492,
          -2.0169026707839492,
          -2.0169026707839492,
          -2.2843378751074024,
          -2.2843378751074024,
          -2.2843378751074024,
          -2.2843378751074024,
          -2.2843378751074024,
          -2.2843378751074024,
          -2.2843378751074024,
          -2.2843378751074024,
          -2.2843378751074024,
          -2.2843378751074024,
          -2.2843378751074024,
          -2.2843378751074024,
          -2.2843378751074024,
          -2.2843378751074024,
          -2.2843378751074024,
          -2.2843378751074024,
          -2.2843378751074024,
          -2.2843378751074024,
          -2.2843378751074024,
          -2.2843378751074024,
          -2.2843378751074024,
          -2.2843378751074024,
          -2.2843378751074024,
          -2.2843378751074024,
          -2.2843378751074024,
          -2.2843378751074024,
          -2.2843378751074024,
          -2.2843378751074024,
          -2.2843378751074024,
          -2.2843378751074024,
          -2.2843378751074024,
          -2.2843378751074024,
          -2.2843378751074024,
          -2.2843378751074024,
          -2.2843378751074024,
          -2.2843378751074024,
          -2.2843378751074024,
          -2.2843378751074024,
          -2.2843378751074024,
          -2.2843378751074024,
          -2.2843378751074024,
          -2.2843378751074024,
          -2.2843378751074024,
          -2.2843378751074024,
          -2.2843378751074024,
          -2.2843378751074024,
          -2.2843378751074024,
          -2.2843378751074024,
          -2.2843378751074024,
          -2.2843378751074024,
          -2.514264314675521,
          -2.514264314675521,
          -2.514264314675521,
          -2.514264314675521,
          -2.514264314675521,
          -2.514264314675521,
          -2.514264314675521,
          -2.514264314675521,
          -2.514264314675521,
          -2.514264314675521,
          -2.514264314675521,
          -2.514264314675521,
          -2.514264314675521,
          -2.514264314675521,
          -2.514264314675521,
          -2.514264314675521,
          -2.514264314675521,
          -2.514264314675521,
          -2.514264314675521,
          -2.514264314675521,
          -2.514264314675521,
          -2.514264314675521,
          -2.514264314675521,
          -2.514264314675521,
          -2.514264314675521,
          -2.514264314675521,
          -2.514264314675521,
          -2.514264314675521,
          -2.514264314675521,
          -2.514264314675521,
          -2.514264314675521,
          -2.514264314675521,
          -2.514264314675521,
          -2.514264314675521,
          -2.514264314675521,
          -2.514264314675521,
          -2.514264314675521,
          -2.514264314675521,
          -2.514264314675521,
          -2.514264314675521,
          -2.514264314675521,
          -2.514264314675521,
          -2.514264314675521,
          -2.514264314675521,
          -2.514264314675521,
          -2.514264314675521,
          -2.514264314675521,
          -2.514264314675521,
          -2.514264314675521,
          -2.514264314675521,
          -2.702906603707257,
          -2.702906603707257,
          -2.702906603707257,
          -2.702906603707257,
          -2.702906603707257,
          -2.702906603707257,
          -2.702906603707257,
          -2.702906603707257,
          -2.702906603707257,
          -2.702906603707257,
          -2.702906603707257,
          -2.702906603707257,
          -2.702906603707257,
          -2.702906603707257,
          -2.702906603707257,
          -2.702906603707257,
          -2.702906603707257,
          -2.702906603707257,
          -2.702906603707257,
          -2.702906603707257,
          -2.702906603707257,
          -2.702906603707257,
          -2.702906603707257,
          -2.702906603707257,
          -2.702906603707257,
          -2.702906603707257,
          -2.702906603707257,
          -2.702906603707257,
          -2.702906603707257,
          -2.702906603707257,
          -2.702906603707257,
          -2.702906603707257,
          -2.702906603707257,
          -2.702906603707257,
          -2.702906603707257,
          -2.702906603707257,
          -2.702906603707257,
          -2.702906603707257,
          -2.702906603707257,
          -2.702906603707257,
          -2.702906603707257,
          -2.702906603707257,
          -2.702906603707257,
          -2.702906603707257,
          -2.702906603707257,
          -2.702906603707257,
          -2.702906603707257,
          -2.702906603707257,
          -2.702906603707257,
          -2.702906603707257,
          -2.8471672410320057,
          -2.8471672410320057,
          -2.8471672410320057,
          -2.8471672410320057,
          -2.8471672410320057,
          -2.8471672410320057,
          -2.8471672410320057,
          -2.8471672410320057,
          -2.8471672410320057,
          -2.8471672410320057,
          -2.8471672410320057,
          -2.8471672410320057,
          -2.8471672410320057,
          -2.8471672410320057,
          -2.8471672410320057,
          -2.8471672410320057,
          -2.8471672410320057,
          -2.8471672410320057,
          -2.8471672410320057,
          -2.8471672410320057,
          -2.8471672410320057,
          -2.8471672410320057,
          -2.8471672410320057,
          -2.8471672410320057,
          -2.8471672410320057,
          -2.8471672410320057,
          -2.8471672410320057,
          -2.8471672410320057,
          -2.8471672410320057,
          -2.8471672410320057,
          -2.8471672410320057,
          -2.8471672410320057,
          -2.8471672410320057,
          -2.8471672410320057,
          -2.8471672410320057,
          -2.8471672410320057,
          -2.8471672410320057,
          -2.8471672410320057,
          -2.8471672410320057,
          -2.8471672410320057,
          -2.8471672410320057,
          -2.8471672410320057,
          -2.8471672410320057,
          -2.8471672410320057,
          -2.8471672410320057,
          -2.8471672410320057,
          -2.8471672410320057,
          -2.8471672410320057,
          -2.8471672410320057,
          -2.8471672410320057,
          -2.944677470973196,
          -2.944677470973196,
          -2.944677470973196,
          -2.944677470973196,
          -2.944677470973196,
          -2.944677470973196,
          -2.944677470973196,
          -2.944677470973196,
          -2.944677470973196,
          -2.944677470973196,
          -2.944677470973196,
          -2.944677470973196,
          -2.944677470973196,
          -2.944677470973196,
          -2.944677470973196,
          -2.944677470973196,
          -2.944677470973196,
          -2.944677470973196,
          -2.944677470973196,
          -2.944677470973196,
          -2.944677470973196,
          -2.944677470973196,
          -2.944677470973196,
          -2.944677470973196,
          -2.944677470973196,
          -2.944677470973196,
          -2.944677470973196,
          -2.944677470973196,
          -2.944677470973196,
          -2.944677470973196,
          -2.944677470973196,
          -2.944677470973196,
          -2.944677470973196,
          -2.944677470973196,
          -2.944677470973196,
          -2.944677470973196,
          -2.944677470973196,
          -2.944677470973196,
          -2.944677470973196,
          -2.944677470973196,
          -2.944677470973196,
          -2.944677470973196,
          -2.944677470973196,
          -2.944677470973196,
          -2.944677470973196,
          -2.944677470973196,
          -2.944677470973196,
          -2.944677470973196,
          -2.944677470973196,
          -2.944677470973196,
          -2.993836178251009,
          -2.993836178251009,
          -2.993836178251009,
          -2.993836178251009,
          -2.993836178251009,
          -2.993836178251009,
          -2.993836178251009,
          -2.993836178251009,
          -2.993836178251009,
          -2.993836178251009,
          -2.993836178251009,
          -2.993836178251009,
          -2.993836178251009,
          -2.993836178251009,
          -2.993836178251009,
          -2.993836178251009,
          -2.993836178251009,
          -2.993836178251009,
          -2.993836178251009,
          -2.993836178251009,
          -2.993836178251009,
          -2.993836178251009,
          -2.993836178251009,
          -2.993836178251009,
          -2.993836178251009,
          -2.993836178251009,
          -2.993836178251009,
          -2.993836178251009,
          -2.993836178251009,
          -2.993836178251009,
          -2.993836178251009,
          -2.993836178251009,
          -2.993836178251009,
          -2.993836178251009,
          -2.993836178251009,
          -2.993836178251009,
          -2.993836178251009,
          -2.993836178251009,
          -2.993836178251009,
          -2.993836178251009,
          -2.993836178251009,
          -2.993836178251009,
          -2.993836178251009,
          -2.993836178251009,
          -2.993836178251009,
          -2.993836178251009,
          -2.993836178251009,
          -2.993836178251009,
          -2.993836178251009,
          -2.993836178251009,
          -2.993836178251009,
          -2.993836178251009,
          -2.993836178251009,
          -2.993836178251009,
          -2.993836178251009,
          -2.993836178251009,
          -2.993836178251009,
          -2.993836178251009,
          -2.993836178251009,
          -2.993836178251009,
          -2.993836178251009,
          -2.993836178251009,
          -2.993836178251009,
          -2.993836178251009,
          -2.993836178251009,
          -2.993836178251009,
          -2.993836178251009,
          -2.993836178251009,
          -2.993836178251009,
          -2.993836178251009,
          -2.993836178251009,
          -2.993836178251009,
          -2.993836178251009,
          -2.993836178251009,
          -2.993836178251009,
          -2.993836178251009,
          -2.993836178251009,
          -2.993836178251009,
          -2.993836178251009,
          -2.993836178251009,
          -2.993836178251009,
          -2.993836178251009,
          -2.993836178251009,
          -2.993836178251009,
          -2.993836178251009,
          -2.993836178251009,
          -2.993836178251009,
          -2.993836178251009,
          -2.993836178251009,
          -2.993836178251009,
          -2.993836178251009,
          -2.993836178251009,
          -2.993836178251009,
          -2.993836178251009,
          -2.993836178251009,
          -2.993836178251009,
          -2.993836178251009,
          -2.993836178251009,
          -2.993836178251009,
          -2.993836178251009,
          -2.9446774709731964,
          -2.9446774709731964,
          -2.9446774709731964,
          -2.9446774709731964,
          -2.9446774709731964,
          -2.9446774709731964,
          -2.9446774709731964,
          -2.9446774709731964,
          -2.9446774709731964,
          -2.9446774709731964,
          -2.9446774709731964,
          -2.9446774709731964,
          -2.9446774709731964,
          -2.9446774709731964,
          -2.9446774709731964,
          -2.9446774709731964,
          -2.9446774709731964,
          -2.9446774709731964,
          -2.9446774709731964,
          -2.9446774709731964,
          -2.9446774709731964,
          -2.9446774709731964,
          -2.9446774709731964,
          -2.9446774709731964,
          -2.9446774709731964,
          -2.9446774709731964,
          -2.9446774709731964,
          -2.9446774709731964,
          -2.9446774709731964,
          -2.9446774709731964,
          -2.9446774709731964,
          -2.9446774709731964,
          -2.9446774709731964,
          -2.9446774709731964,
          -2.9446774709731964,
          -2.9446774709731964,
          -2.9446774709731964,
          -2.9446774709731964,
          -2.9446774709731964,
          -2.9446774709731964,
          -2.9446774709731964,
          -2.9446774709731964,
          -2.9446774709731964,
          -2.9446774709731964,
          -2.9446774709731964,
          -2.9446774709731964,
          -2.9446774709731964,
          -2.9446774709731964,
          -2.9446774709731964,
          -2.9446774709731964,
          -2.8471672410320066,
          -2.8471672410320066,
          -2.8471672410320066,
          -2.8471672410320066,
          -2.8471672410320066,
          -2.8471672410320066,
          -2.8471672410320066,
          -2.8471672410320066,
          -2.8471672410320066,
          -2.8471672410320066,
          -2.8471672410320066,
          -2.8471672410320066,
          -2.8471672410320066,
          -2.8471672410320066,
          -2.8471672410320066,
          -2.8471672410320066,
          -2.8471672410320066,
          -2.8471672410320066,
          -2.8471672410320066,
          -2.8471672410320066,
          -2.8471672410320066,
          -2.8471672410320066,
          -2.8471672410320066,
          -2.8471672410320066,
          -2.8471672410320066,
          -2.8471672410320066,
          -2.8471672410320066,
          -2.8471672410320066,
          -2.8471672410320066,
          -2.8471672410320066,
          -2.8471672410320066,
          -2.8471672410320066,
          -2.8471672410320066,
          -2.8471672410320066,
          -2.8471672410320066,
          -2.8471672410320066,
          -2.8471672410320066,
          -2.8471672410320066,
          -2.8471672410320066,
          -2.8471672410320066,
          -2.8471672410320066,
          -2.8471672410320066,
          -2.8471672410320066,
          -2.8471672410320066,
          -2.8471672410320066,
          -2.8471672410320066,
          -2.8471672410320066,
          -2.8471672410320066,
          -2.8471672410320066,
          -2.8471672410320066,
          -2.7029066037072575,
          -2.7029066037072575,
          -2.7029066037072575,
          -2.7029066037072575,
          -2.7029066037072575,
          -2.7029066037072575,
          -2.7029066037072575,
          -2.7029066037072575,
          -2.7029066037072575,
          -2.7029066037072575,
          -2.7029066037072575,
          -2.7029066037072575,
          -2.7029066037072575,
          -2.7029066037072575,
          -2.7029066037072575,
          -2.7029066037072575,
          -2.7029066037072575,
          -2.7029066037072575,
          -2.7029066037072575,
          -2.7029066037072575,
          -2.7029066037072575,
          -2.7029066037072575,
          -2.7029066037072575,
          -2.7029066037072575,
          -2.7029066037072575,
          -2.7029066037072575,
          -2.7029066037072575,
          -2.7029066037072575,
          -2.7029066037072575,
          -2.7029066037072575,
          -2.7029066037072575,
          -2.7029066037072575,
          -2.7029066037072575,
          -2.7029066037072575,
          -2.7029066037072575,
          -2.7029066037072575,
          -2.7029066037072575,
          -2.7029066037072575,
          -2.7029066037072575,
          -2.7029066037072575,
          -2.7029066037072575,
          -2.7029066037072575,
          -2.7029066037072575,
          -2.7029066037072575,
          -2.7029066037072575,
          -2.7029066037072575,
          -2.7029066037072575,
          -2.7029066037072575,
          -2.7029066037072575,
          -2.7029066037072575,
          -2.514264314675522,
          -2.514264314675522,
          -2.514264314675522,
          -2.514264314675522,
          -2.514264314675522,
          -2.514264314675522,
          -2.514264314675522,
          -2.514264314675522,
          -2.514264314675522,
          -2.514264314675522,
          -2.514264314675522,
          -2.514264314675522,
          -2.514264314675522,
          -2.514264314675522,
          -2.514264314675522,
          -2.514264314675522,
          -2.514264314675522,
          -2.514264314675522,
          -2.514264314675522,
          -2.514264314675522,
          -2.514264314675522,
          -2.514264314675522,
          -2.514264314675522,
          -2.514264314675522,
          -2.514264314675522,
          -2.514264314675522,
          -2.514264314675522,
          -2.514264314675522,
          -2.514264314675522,
          -2.514264314675522,
          -2.514264314675522,
          -2.514264314675522,
          -2.514264314675522,
          -2.514264314675522,
          -2.514264314675522,
          -2.514264314675522,
          -2.514264314675522,
          -2.514264314675522,
          -2.514264314675522,
          -2.514264314675522,
          -2.514264314675522,
          -2.514264314675522,
          -2.514264314675522,
          -2.514264314675522,
          -2.514264314675522,
          -2.514264314675522,
          -2.514264314675522,
          -2.514264314675522,
          -2.514264314675522,
          -2.514264314675522,
          -2.284337875107404,
          -2.284337875107404,
          -2.284337875107404,
          -2.284337875107404,
          -2.284337875107404,
          -2.284337875107404,
          -2.284337875107404,
          -2.284337875107404,
          -2.284337875107404,
          -2.284337875107404,
          -2.284337875107404,
          -2.284337875107404,
          -2.284337875107404,
          -2.284337875107404,
          -2.284337875107404,
          -2.284337875107404,
          -2.284337875107404,
          -2.284337875107404,
          -2.284337875107404,
          -2.284337875107404,
          -2.284337875107404,
          -2.284337875107404,
          -2.284337875107404,
          -2.284337875107404,
          -2.284337875107404,
          -2.284337875107404,
          -2.284337875107404,
          -2.284337875107404,
          -2.284337875107404,
          -2.284337875107404,
          -2.284337875107404,
          -2.284337875107404,
          -2.284337875107404,
          -2.284337875107404,
          -2.284337875107404,
          -2.284337875107404,
          -2.284337875107404,
          -2.284337875107404,
          -2.284337875107404,
          -2.284337875107404,
          -2.284337875107404,
          -2.284337875107404,
          -2.284337875107404,
          -2.284337875107404,
          -2.284337875107404,
          -2.284337875107404,
          -2.284337875107404,
          -2.284337875107404,
          -2.284337875107404,
          -2.284337875107404,
          -2.0169026707839515,
          -2.0169026707839515,
          -2.0169026707839515,
          -2.0169026707839515,
          -2.0169026707839515,
          -2.0169026707839515,
          -2.0169026707839515,
          -2.0169026707839515,
          -2.0169026707839515,
          -2.0169026707839515,
          -2.0169026707839515,
          -2.0169026707839515,
          -2.0169026707839515,
          -2.0169026707839515,
          -2.0169026707839515,
          -2.0169026707839515,
          -2.0169026707839515,
          -2.0169026707839515,
          -2.0169026707839515,
          -2.0169026707839515,
          -2.0169026707839515,
          -2.0169026707839515,
          -2.0169026707839515,
          -2.0169026707839515,
          -2.0169026707839515,
          -2.0169026707839515,
          -2.0169026707839515,
          -2.0169026707839515,
          -2.0169026707839515,
          -2.0169026707839515,
          -2.0169026707839515,
          -2.0169026707839515,
          -2.0169026707839515,
          -2.0169026707839515,
          -2.0169026707839515,
          -2.0169026707839515,
          -2.0169026707839515,
          -2.0169026707839515,
          -2.0169026707839515,
          -2.0169026707839515,
          -2.0169026707839515,
          -2.0169026707839515,
          -2.0169026707839515,
          -2.0169026707839515,
          -2.0169026707839515,
          -2.0169026707839515,
          -2.0169026707839515,
          -2.0169026707839515,
          -2.0169026707839515,
          -2.0169026707839515,
          -1.7163499803665099,
          -1.7163499803665099,
          -1.7163499803665099,
          -1.7163499803665099,
          -1.7163499803665099,
          -1.7163499803665099,
          -1.7163499803665099,
          -1.7163499803665099,
          -1.7163499803665099,
          -1.7163499803665099,
          -1.7163499803665099,
          -1.7163499803665099,
          -1.7163499803665099,
          -1.7163499803665099,
          -1.7163499803665099,
          -1.7163499803665099,
          -1.7163499803665099,
          -1.7163499803665099,
          -1.7163499803665099,
          -1.7163499803665099,
          -1.7163499803665099,
          -1.7163499803665099,
          -1.7163499803665099,
          -1.7163499803665099,
          -1.7163499803665099,
          -1.7163499803665099,
          -1.7163499803665099,
          -1.7163499803665099,
          -1.7163499803665099,
          -1.7163499803665099,
          -1.7163499803665099,
          -1.7163499803665099,
          -1.7163499803665099,
          -1.7163499803665099,
          -1.7163499803665099,
          -1.7163499803665099,
          -1.7163499803665099,
          -1.7163499803665099,
          -1.7163499803665099,
          -1.7163499803665099,
          -1.7163499803665099,
          -1.7163499803665099,
          -1.7163499803665099,
          -1.7163499803665099,
          -1.7163499803665099,
          -1.7163499803665099,
          -1.7163499803665099,
          -1.7163499803665099,
          -1.7163499803665099,
          -1.7163499803665099,
          -1.387614870722506,
          -1.387614870722506,
          -1.387614870722506,
          -1.387614870722506,
          -1.387614870722506,
          -1.387614870722506,
          -1.387614870722506,
          -1.387614870722506,
          -1.387614870722506,
          -1.387614870722506,
          -1.387614870722506,
          -1.387614870722506,
          -1.387614870722506,
          -1.387614870722506,
          -1.387614870722506,
          -1.387614870722506,
          -1.387614870722506,
          -1.387614870722506,
          -1.387614870722506,
          -1.387614870722506,
          -1.387614870722506,
          -1.387614870722506,
          -1.387614870722506,
          -1.387614870722506,
          -1.387614870722506,
          -1.387614870722506,
          -1.387614870722506,
          -1.387614870722506,
          -1.387614870722506,
          -1.387614870722506,
          -1.387614870722506,
          -1.387614870722506,
          -1.387614870722506,
          -1.387614870722506,
          -1.387614870722506,
          -1.387614870722506,
          -1.387614870722506,
          -1.387614870722506,
          -1.387614870722506,
          -1.387614870722506,
          -1.387614870722506,
          -1.387614870722506,
          -1.387614870722506,
          -1.387614870722506,
          -1.387614870722506,
          -1.387614870722506,
          -1.387614870722506,
          -1.387614870722506,
          -1.387614870722506,
          -1.387614870722506,
          -1.0360951632639246,
          -1.0360951632639246,
          -1.0360951632639246,
          -1.0360951632639246,
          -1.0360951632639246,
          -1.0360951632639246,
          -1.0360951632639246,
          -1.0360951632639246,
          -1.0360951632639246,
          -1.0360951632639246,
          -1.0360951632639246,
          -1.0360951632639246,
          -1.0360951632639246,
          -1.0360951632639246,
          -1.0360951632639246,
          -1.0360951632639246,
          -1.0360951632639246,
          -1.0360951632639246,
          -1.0360951632639246,
          -1.0360951632639246,
          -1.0360951632639246,
          -1.0360951632639246,
          -1.0360951632639246,
          -1.0360951632639246,
          -1.0360951632639246,
          -1.0360951632639246,
          -1.0360951632639246,
          -1.0360951632639246,
          -1.0360951632639246,
          -1.0360951632639246,
          -1.0360951632639246,
          -1.0360951632639246,
          -1.0360951632639246,
          -1.0360951632639246,
          -1.0360951632639246,
          -1.0360951632639246,
          -1.0360951632639246,
          -1.0360951632639246,
          -1.0360951632639246,
          -1.0360951632639246,
          -1.0360951632639246,
          -1.0360951632639246,
          -1.0360951632639246,
          -1.0360951632639246,
          -1.0360951632639246,
          -1.0360951632639246,
          -1.0360951632639246,
          -1.0360951632639246,
          -1.0360951632639246,
          -1.0360951632639246,
          -0.6675628018689438,
          -0.6675628018689438,
          -0.6675628018689438,
          -0.6675628018689438,
          -0.6675628018689438,
          -0.6675628018689438,
          -0.6675628018689438,
          -0.6675628018689438,
          -0.6675628018689438,
          -0.6675628018689438,
          -0.6675628018689438,
          -0.6675628018689438,
          -0.6675628018689438,
          -0.6675628018689438,
          -0.6675628018689438,
          -0.6675628018689438,
          -0.6675628018689438,
          -0.6675628018689438,
          -0.6675628018689438,
          -0.6675628018689438,
          -0.6675628018689438,
          -0.6675628018689438,
          -0.6675628018689438,
          -0.6675628018689438,
          -0.6675628018689438,
          -0.6675628018689438,
          -0.6675628018689438,
          -0.6675628018689438,
          -0.6675628018689438,
          -0.6675628018689438,
          -0.6675628018689438,
          -0.6675628018689438,
          -0.6675628018689438,
          -0.6675628018689438,
          -0.6675628018689438,
          -0.6675628018689438,
          -0.6675628018689438,
          -0.6675628018689438,
          -0.6675628018689438,
          -0.6675628018689438,
          -0.6675628018689438,
          -0.6675628018689438,
          -0.6675628018689438,
          -0.6675628018689438,
          -0.6675628018689438,
          -0.6675628018689438,
          -0.6675628018689438,
          -0.6675628018689438,
          -0.6675628018689438,
          -0.6675628018689438,
          -0.28806907772304735,
          -0.28806907772304735,
          -0.28806907772304735,
          -0.28806907772304735,
          -0.28806907772304735,
          -0.28806907772304735,
          -0.28806907772304735,
          -0.28806907772304735,
          -0.28806907772304735,
          -0.28806907772304735,
          -0.28806907772304735,
          -0.28806907772304735,
          -0.28806907772304735,
          -0.28806907772304735,
          -0.28806907772304735,
          -0.28806907772304735,
          -0.28806907772304735,
          -0.28806907772304735,
          -0.28806907772304735,
          -0.28806907772304735,
          -0.28806907772304735,
          -0.28806907772304735,
          -0.28806907772304735,
          -0.28806907772304735,
          -0.28806907772304735,
          -0.28806907772304735,
          -0.28806907772304735,
          -0.28806907772304735,
          -0.28806907772304735,
          -0.28806907772304735,
          -0.28806907772304735,
          -0.28806907772304735,
          -0.28806907772304735,
          -0.28806907772304735,
          -0.28806907772304735,
          -0.28806907772304735,
          -0.28806907772304735,
          -0.28806907772304735,
          -0.28806907772304735,
          -0.28806907772304735,
          -0.28806907772304735,
          -0.28806907772304735,
          -0.28806907772304735,
          -0.28806907772304735,
          -0.28806907772304735,
          -0.28806907772304735,
          -0.28806907772304735,
          -0.28806907772304735,
          -0.28806907772304735,
          -0.28806907772304735,
          0.09615473271496461,
          0.09615473271496461,
          0.09615473271496461,
          0.09615473271496461,
          0.09615473271496461,
          0.09615473271496461,
          0.09615473271496461,
          0.09615473271496461,
          0.09615473271496461,
          0.09615473271496461,
          0.09615473271496461,
          0.09615473271496461,
          0.09615473271496461,
          0.09615473271496461,
          0.09615473271496461,
          0.09615473271496461,
          0.09615473271496461,
          0.09615473271496461,
          0.09615473271496461,
          0.09615473271496461,
          0.09615473271496461,
          0.09615473271496461,
          0.09615473271496461,
          0.09615473271496461,
          0.09615473271496461,
          0.09615473271496461,
          0.09615473271496461,
          0.09615473271496461,
          0.09615473271496461,
          0.09615473271496461,
          0.09615473271496461,
          0.09615473271496461,
          0.09615473271496461,
          0.09615473271496461,
          0.09615473271496461,
          0.09615473271496461,
          0.09615473271496461,
          0.09615473271496461,
          0.09615473271496461,
          0.09615473271496461,
          0.09615473271496461,
          0.09615473271496461,
          0.09615473271496461,
          0.09615473271496461,
          0.09615473271496461,
          0.09615473271496461,
          0.09615473271496461,
          0.09615473271496461,
          0.09615473271496461,
          0.09615473271496461,
          0.4787996851001352,
          0.4787996851001352,
          0.4787996851001352,
          0.4787996851001352,
          0.4787996851001352,
          0.4787996851001352,
          0.4787996851001352,
          0.4787996851001352,
          0.4787996851001352,
          0.4787996851001352,
          0.4787996851001352,
          0.4787996851001352,
          0.4787996851001352,
          0.4787996851001352,
          0.4787996851001352,
          0.4787996851001352,
          0.4787996851001352,
          0.4787996851001352,
          0.4787996851001352,
          0.4787996851001352,
          0.4787996851001352,
          0.4787996851001352,
          0.4787996851001352,
          0.4787996851001352,
          0.4787996851001352,
          0.4787996851001352,
          0.4787996851001352,
          0.4787996851001352,
          0.4787996851001352,
          0.4787996851001352,
          0.4787996851001352,
          0.4787996851001352,
          0.4787996851001352,
          0.4787996851001352,
          0.4787996851001352,
          0.4787996851001352,
          0.4787996851001352,
          0.4787996851001352,
          0.4787996851001352,
          0.4787996851001352,
          0.4787996851001352,
          0.4787996851001352,
          0.4787996851001352,
          0.4787996851001352,
          0.4787996851001352,
          0.4787996851001352,
          0.4787996851001352,
          0.4787996851001352,
          0.4787996851001352,
          0.4787996851001352,
          0.8535827598930961,
          0.8535827598930961,
          0.8535827598930961,
          0.8535827598930961,
          0.8535827598930961,
          0.8535827598930961,
          0.8535827598930961,
          0.8535827598930961,
          0.8535827598930961,
          0.8535827598930961,
          0.8535827598930961,
          0.8535827598930961,
          0.8535827598930961,
          0.8535827598930961,
          0.8535827598930961,
          0.8535827598930961,
          0.8535827598930961,
          0.8535827598930961,
          0.8535827598930961,
          0.8535827598930961,
          0.8535827598930961,
          0.8535827598930961,
          0.8535827598930961,
          0.8535827598930961,
          0.8535827598930961,
          0.8535827598930961,
          0.8535827598930961,
          0.8535827598930961,
          0.8535827598930961,
          0.8535827598930961,
          0.8535827598930961,
          0.8535827598930961,
          0.8535827598930961,
          0.8535827598930961,
          0.8535827598930961,
          0.8535827598930961,
          0.8535827598930961,
          0.8535827598930961,
          0.8535827598930961,
          0.8535827598930961,
          0.8535827598930961,
          0.8535827598930961,
          0.8535827598930961,
          0.8535827598930961,
          0.8535827598930961,
          0.8535827598930961,
          0.8535827598930961,
          0.8535827598930961,
          0.8535827598930961,
          0.8535827598930961,
          1.214350029367179,
          1.214350029367179,
          1.214350029367179,
          1.214350029367179,
          1.214350029367179,
          1.214350029367179,
          1.214350029367179,
          1.214350029367179,
          1.214350029367179,
          1.214350029367179,
          1.214350029367179,
          1.214350029367179,
          1.214350029367179,
          1.214350029367179,
          1.214350029367179,
          1.214350029367179,
          1.214350029367179,
          1.214350029367179,
          1.214350029367179,
          1.214350029367179,
          1.214350029367179,
          1.214350029367179,
          1.214350029367179,
          1.214350029367179,
          1.214350029367179,
          1.214350029367179,
          1.214350029367179,
          1.214350029367179,
          1.214350029367179,
          1.214350029367179,
          1.214350029367179,
          1.214350029367179,
          1.214350029367179,
          1.214350029367179,
          1.214350029367179,
          1.214350029367179,
          1.214350029367179,
          1.214350029367179,
          1.214350029367179,
          1.214350029367179,
          1.214350029367179,
          1.214350029367179,
          1.214350029367179,
          1.214350029367179,
          1.214350029367179,
          1.214350029367179,
          1.214350029367179,
          1.214350029367179,
          1.214350029367179,
          1.214350029367179,
          1.5551777049315736,
          1.5551777049315736,
          1.5551777049315736,
          1.5551777049315736,
          1.5551777049315736,
          1.5551777049315736,
          1.5551777049315736,
          1.5551777049315736,
          1.5551777049315736,
          1.5551777049315736,
          1.5551777049315736,
          1.5551777049315736,
          1.5551777049315736,
          1.5551777049315736,
          1.5551777049315736,
          1.5551777049315736,
          1.5551777049315736,
          1.5551777049315736,
          1.5551777049315736,
          1.5551777049315736,
          1.5551777049315736,
          1.5551777049315736,
          1.5551777049315736,
          1.5551777049315736,
          1.5551777049315736,
          1.5551777049315736,
          1.5551777049315736,
          1.5551777049315736,
          1.5551777049315736,
          1.5551777049315736,
          1.5551777049315736,
          1.5551777049315736,
          1.5551777049315736,
          1.5551777049315736,
          1.5551777049315736,
          1.5551777049315736,
          1.5551777049315736,
          1.5551777049315736,
          1.5551777049315736,
          1.5551777049315736,
          1.5551777049315736,
          1.5551777049315736,
          1.5551777049315736,
          1.5551777049315736,
          1.5551777049315736,
          1.5551777049315736,
          1.5551777049315736,
          1.5551777049315736,
          1.5551777049315736,
          1.5551777049315736,
          1.8704694055762001,
          1.8704694055762001,
          1.8704694055762001,
          1.8704694055762001,
          1.8704694055762001,
          1.8704694055762001,
          1.8704694055762001,
          1.8704694055762001,
          1.8704694055762001,
          1.8704694055762001,
          1.8704694055762001,
          1.8704694055762001,
          1.8704694055762001,
          1.8704694055762001,
          1.8704694055762001,
          1.8704694055762001,
          1.8704694055762001,
          1.8704694055762001,
          1.8704694055762001,
          1.8704694055762001,
          1.8704694055762001,
          1.8704694055762001,
          1.8704694055762001,
          1.8704694055762001,
          1.8704694055762001,
          1.8704694055762001,
          1.8704694055762001,
          1.8704694055762001,
          1.8704694055762001,
          1.8704694055762001,
          1.8704694055762001,
          1.8704694055762001,
          1.8704694055762001,
          1.8704694055762001,
          1.8704694055762001,
          1.8704694055762001,
          1.8704694055762001,
          1.8704694055762001,
          1.8704694055762001,
          1.8704694055762001,
          1.8704694055762001,
          1.8704694055762001,
          1.8704694055762001,
          1.8704694055762001,
          1.8704694055762001,
          1.8704694055762001,
          1.8704694055762001,
          1.8704694055762001,
          1.8704694055762001,
          1.8704694055762001,
          2.1550480502931815,
          2.1550480502931815,
          2.1550480502931815,
          2.1550480502931815,
          2.1550480502931815,
          2.1550480502931815,
          2.1550480502931815,
          2.1550480502931815,
          2.1550480502931815,
          2.1550480502931815,
          2.1550480502931815,
          2.1550480502931815,
          2.1550480502931815,
          2.1550480502931815,
          2.1550480502931815,
          2.1550480502931815,
          2.1550480502931815,
          2.1550480502931815,
          2.1550480502931815,
          2.1550480502931815,
          2.1550480502931815,
          2.1550480502931815,
          2.1550480502931815,
          2.1550480502931815,
          2.1550480502931815,
          2.1550480502931815,
          2.1550480502931815,
          2.1550480502931815,
          2.1550480502931815,
          2.1550480502931815,
          2.1550480502931815,
          2.1550480502931815,
          2.1550480502931815,
          2.1550480502931815,
          2.1550480502931815,
          2.1550480502931815,
          2.1550480502931815,
          2.1550480502931815,
          2.1550480502931815,
          2.1550480502931815,
          2.1550480502931815,
          2.1550480502931815,
          2.1550480502931815,
          2.1550480502931815,
          2.1550480502931815,
          2.1550480502931815,
          2.1550480502931815,
          2.1550480502931815,
          2.1550480502931815,
          2.1550480502931815,
          2.404240865603869,
          2.404240865603869,
          2.404240865603869,
          2.404240865603869,
          2.404240865603869,
          2.404240865603869,
          2.404240865603869,
          2.404240865603869,
          2.404240865603869,
          2.404240865603869,
          2.404240865603869,
          2.404240865603869,
          2.404240865603869,
          2.404240865603869,
          2.404240865603869,
          2.404240865603869,
          2.404240865603869,
          2.404240865603869,
          2.404240865603869,
          2.404240865603869,
          2.404240865603869,
          2.404240865603869,
          2.404240865603869,
          2.404240865603869,
          2.404240865603869,
          2.404240865603869,
          2.404240865603869,
          2.404240865603869,
          2.404240865603869,
          2.404240865603869,
          2.404240865603869,
          2.404240865603869,
          2.404240865603869,
          2.404240865603869,
          2.404240865603869,
          2.404240865603869,
          2.404240865603869,
          2.404240865603869,
          2.404240865603869,
          2.404240865603869,
          2.404240865603869,
          2.404240865603869,
          2.404240865603869,
          2.404240865603869,
          2.404240865603869,
          2.404240865603869,
          2.404240865603869,
          2.404240865603869,
          2.404240865603869,
          2.404240865603869,
          2.613956112370167,
          2.613956112370167,
          2.613956112370167,
          2.613956112370167,
          2.613956112370167,
          2.613956112370167,
          2.613956112370167,
          2.613956112370167,
          2.613956112370167,
          2.613956112370167,
          2.613956112370167,
          2.613956112370167,
          2.613956112370167,
          2.613956112370167,
          2.613956112370167,
          2.613956112370167,
          2.613956112370167,
          2.613956112370167,
          2.613956112370167,
          2.613956112370167,
          2.613956112370167,
          2.613956112370167,
          2.613956112370167,
          2.613956112370167,
          2.613956112370167,
          2.613956112370167,
          2.613956112370167,
          2.613956112370167,
          2.613956112370167,
          2.613956112370167,
          2.613956112370167,
          2.613956112370167,
          2.613956112370167,
          2.613956112370167,
          2.613956112370167,
          2.613956112370167,
          2.613956112370167,
          2.613956112370167,
          2.613956112370167,
          2.613956112370167,
          2.613956112370167,
          2.613956112370167,
          2.613956112370167,
          2.613956112370167,
          2.613956112370167,
          2.613956112370167,
          2.613956112370167,
          2.613956112370167,
          2.613956112370167,
          2.613956112370167,
          2.780750272038065,
          2.780750272038065,
          2.780750272038065,
          2.780750272038065,
          2.780750272038065,
          2.780750272038065,
          2.780750272038065,
          2.780750272038065,
          2.780750272038065,
          2.780750272038065,
          2.780750272038065,
          2.780750272038065,
          2.780750272038065,
          2.780750272038065,
          2.780750272038065,
          2.780750272038065,
          2.780750272038065,
          2.780750272038065,
          2.780750272038065,
          2.780750272038065,
          2.780750272038065,
          2.780750272038065,
          2.780750272038065,
          2.780750272038065,
          2.780750272038065,
          2.780750272038065,
          2.780750272038065,
          2.780750272038065,
          2.780750272038065,
          2.780750272038065,
          2.780750272038065,
          2.780750272038065,
          2.780750272038065,
          2.780750272038065,
          2.780750272038065,
          2.780750272038065,
          2.780750272038065,
          2.780750272038065,
          2.780750272038065,
          2.780750272038065,
          2.780750272038065,
          2.780750272038065,
          2.780750272038065,
          2.780750272038065,
          2.780750272038065,
          2.780750272038065,
          2.780750272038065,
          2.780750272038065,
          2.780750272038065,
          2.780750272038065,
          2.9018845891170875,
          2.9018845891170875,
          2.9018845891170875,
          2.9018845891170875,
          2.9018845891170875,
          2.9018845891170875,
          2.9018845891170875,
          2.9018845891170875,
          2.9018845891170875,
          2.9018845891170875,
          2.9018845891170875,
          2.9018845891170875,
          2.9018845891170875,
          2.9018845891170875,
          2.9018845891170875,
          2.9018845891170875,
          2.9018845891170875,
          2.9018845891170875,
          2.9018845891170875,
          2.9018845891170875,
          2.9018845891170875,
          2.9018845891170875,
          2.9018845891170875,
          2.9018845891170875,
          2.9018845891170875,
          2.9018845891170875,
          2.9018845891170875,
          2.9018845891170875,
          2.9018845891170875,
          2.9018845891170875,
          2.9018845891170875,
          2.9018845891170875,
          2.9018845891170875,
          2.9018845891170875,
          2.9018845891170875,
          2.9018845891170875,
          2.9018845891170875,
          2.9018845891170875,
          2.9018845891170875,
          2.9018845891170875,
          2.9018845891170875,
          2.9018845891170875,
          2.9018845891170875,
          2.9018845891170875,
          2.9018845891170875,
          2.9018845891170875,
          2.9018845891170875,
          2.9018845891170875,
          2.9018845891170875,
          2.9018845891170875,
          2.975370041469738,
          2.975370041469738,
          2.975370041469738,
          2.975370041469738,
          2.975370041469738,
          2.975370041469738,
          2.975370041469738,
          2.975370041469738,
          2.975370041469738,
          2.975370041469738,
          2.975370041469738,
          2.975370041469738,
          2.975370041469738,
          2.975370041469738,
          2.975370041469738,
          2.975370041469738,
          2.975370041469738,
          2.975370041469738,
          2.975370041469738,
          2.975370041469738,
          2.975370041469738,
          2.975370041469738,
          2.975370041469738,
          2.975370041469738,
          2.975370041469738,
          2.975370041469738,
          2.975370041469738,
          2.975370041469738,
          2.975370041469738,
          2.975370041469738,
          2.975370041469738,
          2.975370041469738,
          2.975370041469738,
          2.975370041469738,
          2.975370041469738,
          2.975370041469738,
          2.975370041469738,
          2.975370041469738,
          2.975370041469738,
          2.975370041469738,
          2.975370041469738,
          2.975370041469738,
          2.975370041469738,
          2.975370041469738,
          2.975370041469738,
          2.975370041469738,
          2.975370041469738,
          2.975370041469738,
          2.975370041469738,
          2.975370041469738,
          3,
          3,
          3,
          3,
          3,
          3,
          3,
          3,
          3,
          3,
          3,
          3,
          3,
          3,
          3,
          3,
          3,
          3,
          3,
          3,
          3,
          3,
          3,
          3,
          3,
          3,
          3,
          3,
          3,
          3,
          3,
          3,
          3,
          3,
          3,
          3,
          3,
          3,
          3,
          3,
          3,
          3,
          3,
          3,
          3,
          3,
          3,
          3,
          3,
          3
         ]
        }
       ],
       "layout": {
        "legend": {
         "tracegroupgap": 0
        },
        "margin": {
         "t": 60
        },
        "scene": {
         "domain": {
          "x": [
           0,
           1
          ],
          "y": [
           0,
           1
          ]
         },
         "xaxis": {
          "title": {
           "text": "x"
          }
         },
         "yaxis": {
          "title": {
           "text": "y"
          }
         },
         "zaxis": {
          "title": {
           "text": "z"
          }
         }
        },
        "template": {
         "data": {
          "bar": [
           {
            "error_x": {
             "color": "#2a3f5f"
            },
            "error_y": {
             "color": "#2a3f5f"
            },
            "marker": {
             "line": {
              "color": "#E5ECF6",
              "width": 0.5
             }
            },
            "type": "bar"
           }
          ],
          "barpolar": [
           {
            "marker": {
             "line": {
              "color": "#E5ECF6",
              "width": 0.5
             }
            },
            "type": "barpolar"
           }
          ],
          "carpet": [
           {
            "aaxis": {
             "endlinecolor": "#2a3f5f",
             "gridcolor": "white",
             "linecolor": "white",
             "minorgridcolor": "white",
             "startlinecolor": "#2a3f5f"
            },
            "baxis": {
             "endlinecolor": "#2a3f5f",
             "gridcolor": "white",
             "linecolor": "white",
             "minorgridcolor": "white",
             "startlinecolor": "#2a3f5f"
            },
            "type": "carpet"
           }
          ],
          "choropleth": [
           {
            "colorbar": {
             "outlinewidth": 0,
             "ticks": ""
            },
            "type": "choropleth"
           }
          ],
          "contour": [
           {
            "colorbar": {
             "outlinewidth": 0,
             "ticks": ""
            },
            "colorscale": [
             [
              0,
              "#0d0887"
             ],
             [
              0.1111111111111111,
              "#46039f"
             ],
             [
              0.2222222222222222,
              "#7201a8"
             ],
             [
              0.3333333333333333,
              "#9c179e"
             ],
             [
              0.4444444444444444,
              "#bd3786"
             ],
             [
              0.5555555555555556,
              "#d8576b"
             ],
             [
              0.6666666666666666,
              "#ed7953"
             ],
             [
              0.7777777777777778,
              "#fb9f3a"
             ],
             [
              0.8888888888888888,
              "#fdca26"
             ],
             [
              1,
              "#f0f921"
             ]
            ],
            "type": "contour"
           }
          ],
          "contourcarpet": [
           {
            "colorbar": {
             "outlinewidth": 0,
             "ticks": ""
            },
            "type": "contourcarpet"
           }
          ],
          "heatmap": [
           {
            "colorbar": {
             "outlinewidth": 0,
             "ticks": ""
            },
            "colorscale": [
             [
              0,
              "#0d0887"
             ],
             [
              0.1111111111111111,
              "#46039f"
             ],
             [
              0.2222222222222222,
              "#7201a8"
             ],
             [
              0.3333333333333333,
              "#9c179e"
             ],
             [
              0.4444444444444444,
              "#bd3786"
             ],
             [
              0.5555555555555556,
              "#d8576b"
             ],
             [
              0.6666666666666666,
              "#ed7953"
             ],
             [
              0.7777777777777778,
              "#fb9f3a"
             ],
             [
              0.8888888888888888,
              "#fdca26"
             ],
             [
              1,
              "#f0f921"
             ]
            ],
            "type": "heatmap"
           }
          ],
          "heatmapgl": [
           {
            "colorbar": {
             "outlinewidth": 0,
             "ticks": ""
            },
            "colorscale": [
             [
              0,
              "#0d0887"
             ],
             [
              0.1111111111111111,
              "#46039f"
             ],
             [
              0.2222222222222222,
              "#7201a8"
             ],
             [
              0.3333333333333333,
              "#9c179e"
             ],
             [
              0.4444444444444444,
              "#bd3786"
             ],
             [
              0.5555555555555556,
              "#d8576b"
             ],
             [
              0.6666666666666666,
              "#ed7953"
             ],
             [
              0.7777777777777778,
              "#fb9f3a"
             ],
             [
              0.8888888888888888,
              "#fdca26"
             ],
             [
              1,
              "#f0f921"
             ]
            ],
            "type": "heatmapgl"
           }
          ],
          "histogram": [
           {
            "marker": {
             "colorbar": {
              "outlinewidth": 0,
              "ticks": ""
             }
            },
            "type": "histogram"
           }
          ],
          "histogram2d": [
           {
            "colorbar": {
             "outlinewidth": 0,
             "ticks": ""
            },
            "colorscale": [
             [
              0,
              "#0d0887"
             ],
             [
              0.1111111111111111,
              "#46039f"
             ],
             [
              0.2222222222222222,
              "#7201a8"
             ],
             [
              0.3333333333333333,
              "#9c179e"
             ],
             [
              0.4444444444444444,
              "#bd3786"
             ],
             [
              0.5555555555555556,
              "#d8576b"
             ],
             [
              0.6666666666666666,
              "#ed7953"
             ],
             [
              0.7777777777777778,
              "#fb9f3a"
             ],
             [
              0.8888888888888888,
              "#fdca26"
             ],
             [
              1,
              "#f0f921"
             ]
            ],
            "type": "histogram2d"
           }
          ],
          "histogram2dcontour": [
           {
            "colorbar": {
             "outlinewidth": 0,
             "ticks": ""
            },
            "colorscale": [
             [
              0,
              "#0d0887"
             ],
             [
              0.1111111111111111,
              "#46039f"
             ],
             [
              0.2222222222222222,
              "#7201a8"
             ],
             [
              0.3333333333333333,
              "#9c179e"
             ],
             [
              0.4444444444444444,
              "#bd3786"
             ],
             [
              0.5555555555555556,
              "#d8576b"
             ],
             [
              0.6666666666666666,
              "#ed7953"
             ],
             [
              0.7777777777777778,
              "#fb9f3a"
             ],
             [
              0.8888888888888888,
              "#fdca26"
             ],
             [
              1,
              "#f0f921"
             ]
            ],
            "type": "histogram2dcontour"
           }
          ],
          "mesh3d": [
           {
            "colorbar": {
             "outlinewidth": 0,
             "ticks": ""
            },
            "type": "mesh3d"
           }
          ],
          "parcoords": [
           {
            "line": {
             "colorbar": {
              "outlinewidth": 0,
              "ticks": ""
             }
            },
            "type": "parcoords"
           }
          ],
          "pie": [
           {
            "automargin": true,
            "type": "pie"
           }
          ],
          "scatter": [
           {
            "marker": {
             "colorbar": {
              "outlinewidth": 0,
              "ticks": ""
             }
            },
            "type": "scatter"
           }
          ],
          "scatter3d": [
           {
            "line": {
             "colorbar": {
              "outlinewidth": 0,
              "ticks": ""
             }
            },
            "marker": {
             "colorbar": {
              "outlinewidth": 0,
              "ticks": ""
             }
            },
            "type": "scatter3d"
           }
          ],
          "scattercarpet": [
           {
            "marker": {
             "colorbar": {
              "outlinewidth": 0,
              "ticks": ""
             }
            },
            "type": "scattercarpet"
           }
          ],
          "scattergeo": [
           {
            "marker": {
             "colorbar": {
              "outlinewidth": 0,
              "ticks": ""
             }
            },
            "type": "scattergeo"
           }
          ],
          "scattergl": [
           {
            "marker": {
             "colorbar": {
              "outlinewidth": 0,
              "ticks": ""
             }
            },
            "type": "scattergl"
           }
          ],
          "scattermapbox": [
           {
            "marker": {
             "colorbar": {
              "outlinewidth": 0,
              "ticks": ""
             }
            },
            "type": "scattermapbox"
           }
          ],
          "scatterpolar": [
           {
            "marker": {
             "colorbar": {
              "outlinewidth": 0,
              "ticks": ""
             }
            },
            "type": "scatterpolar"
           }
          ],
          "scatterpolargl": [
           {
            "marker": {
             "colorbar": {
              "outlinewidth": 0,
              "ticks": ""
             }
            },
            "type": "scatterpolargl"
           }
          ],
          "scatterternary": [
           {
            "marker": {
             "colorbar": {
              "outlinewidth": 0,
              "ticks": ""
             }
            },
            "type": "scatterternary"
           }
          ],
          "surface": [
           {
            "colorbar": {
             "outlinewidth": 0,
             "ticks": ""
            },
            "colorscale": [
             [
              0,
              "#0d0887"
             ],
             [
              0.1111111111111111,
              "#46039f"
             ],
             [
              0.2222222222222222,
              "#7201a8"
             ],
             [
              0.3333333333333333,
              "#9c179e"
             ],
             [
              0.4444444444444444,
              "#bd3786"
             ],
             [
              0.5555555555555556,
              "#d8576b"
             ],
             [
              0.6666666666666666,
              "#ed7953"
             ],
             [
              0.7777777777777778,
              "#fb9f3a"
             ],
             [
              0.8888888888888888,
              "#fdca26"
             ],
             [
              1,
              "#f0f921"
             ]
            ],
            "type": "surface"
           }
          ],
          "table": [
           {
            "cells": {
             "fill": {
              "color": "#EBF0F8"
             },
             "line": {
              "color": "white"
             }
            },
            "header": {
             "fill": {
              "color": "#C8D4E3"
             },
             "line": {
              "color": "white"
             }
            },
            "type": "table"
           }
          ]
         },
         "layout": {
          "annotationdefaults": {
           "arrowcolor": "#2a3f5f",
           "arrowhead": 0,
           "arrowwidth": 1
          },
          "coloraxis": {
           "colorbar": {
            "outlinewidth": 0,
            "ticks": ""
           }
          },
          "colorscale": {
           "diverging": [
            [
             0,
             "#8e0152"
            ],
            [
             0.1,
             "#c51b7d"
            ],
            [
             0.2,
             "#de77ae"
            ],
            [
             0.3,
             "#f1b6da"
            ],
            [
             0.4,
             "#fde0ef"
            ],
            [
             0.5,
             "#f7f7f7"
            ],
            [
             0.6,
             "#e6f5d0"
            ],
            [
             0.7,
             "#b8e186"
            ],
            [
             0.8,
             "#7fbc41"
            ],
            [
             0.9,
             "#4d9221"
            ],
            [
             1,
             "#276419"
            ]
           ],
           "sequential": [
            [
             0,
             "#0d0887"
            ],
            [
             0.1111111111111111,
             "#46039f"
            ],
            [
             0.2222222222222222,
             "#7201a8"
            ],
            [
             0.3333333333333333,
             "#9c179e"
            ],
            [
             0.4444444444444444,
             "#bd3786"
            ],
            [
             0.5555555555555556,
             "#d8576b"
            ],
            [
             0.6666666666666666,
             "#ed7953"
            ],
            [
             0.7777777777777778,
             "#fb9f3a"
            ],
            [
             0.8888888888888888,
             "#fdca26"
            ],
            [
             1,
             "#f0f921"
            ]
           ],
           "sequentialminus": [
            [
             0,
             "#0d0887"
            ],
            [
             0.1111111111111111,
             "#46039f"
            ],
            [
             0.2222222222222222,
             "#7201a8"
            ],
            [
             0.3333333333333333,
             "#9c179e"
            ],
            [
             0.4444444444444444,
             "#bd3786"
            ],
            [
             0.5555555555555556,
             "#d8576b"
            ],
            [
             0.6666666666666666,
             "#ed7953"
            ],
            [
             0.7777777777777778,
             "#fb9f3a"
            ],
            [
             0.8888888888888888,
             "#fdca26"
            ],
            [
             1,
             "#f0f921"
            ]
           ]
          },
          "colorway": [
           "#636efa",
           "#EF553B",
           "#00cc96",
           "#ab63fa",
           "#FFA15A",
           "#19d3f3",
           "#FF6692",
           "#B6E880",
           "#FF97FF",
           "#FECB52"
          ],
          "font": {
           "color": "#2a3f5f"
          },
          "geo": {
           "bgcolor": "white",
           "lakecolor": "white",
           "landcolor": "#E5ECF6",
           "showlakes": true,
           "showland": true,
           "subunitcolor": "white"
          },
          "hoverlabel": {
           "align": "left"
          },
          "hovermode": "closest",
          "mapbox": {
           "style": "light"
          },
          "paper_bgcolor": "white",
          "plot_bgcolor": "#E5ECF6",
          "polar": {
           "angularaxis": {
            "gridcolor": "white",
            "linecolor": "white",
            "ticks": ""
           },
           "bgcolor": "#E5ECF6",
           "radialaxis": {
            "gridcolor": "white",
            "linecolor": "white",
            "ticks": ""
           }
          },
          "scene": {
           "xaxis": {
            "backgroundcolor": "#E5ECF6",
            "gridcolor": "white",
            "gridwidth": 2,
            "linecolor": "white",
            "showbackground": true,
            "ticks": "",
            "zerolinecolor": "white"
           },
           "yaxis": {
            "backgroundcolor": "#E5ECF6",
            "gridcolor": "white",
            "gridwidth": 2,
            "linecolor": "white",
            "showbackground": true,
            "ticks": "",
            "zerolinecolor": "white"
           },
           "zaxis": {
            "backgroundcolor": "#E5ECF6",
            "gridcolor": "white",
            "gridwidth": 2,
            "linecolor": "white",
            "showbackground": true,
            "ticks": "",
            "zerolinecolor": "white"
           }
          },
          "shapedefaults": {
           "line": {
            "color": "#2a3f5f"
           }
          },
          "ternary": {
           "aaxis": {
            "gridcolor": "white",
            "linecolor": "white",
            "ticks": ""
           },
           "baxis": {
            "gridcolor": "white",
            "linecolor": "white",
            "ticks": ""
           },
           "bgcolor": "#E5ECF6",
           "caxis": {
            "gridcolor": "white",
            "linecolor": "white",
            "ticks": ""
           }
          },
          "title": {
           "x": 0.05
          },
          "xaxis": {
           "automargin": true,
           "gridcolor": "white",
           "linecolor": "white",
           "ticks": "",
           "title": {
            "standoff": 15
           },
           "zerolinecolor": "white",
           "zerolinewidth": 2
          },
          "yaxis": {
           "automargin": true,
           "gridcolor": "white",
           "linecolor": "white",
           "ticks": "",
           "title": {
            "standoff": 15
           },
           "zerolinecolor": "white",
           "zerolinewidth": 2
          }
         }
        }
       }
      }
     },
     "metadata": {},
     "output_type": "display_data"
    }
   ],
   "source": [
    "fig = px.scatter_3d(x=x, y=y, z=z)\n",
    "fig.show()"
   ]
  },
  {
   "cell_type": "code",
   "execution_count": null,
   "metadata": {},
   "outputs": [],
   "source": []
  }
 ]
}