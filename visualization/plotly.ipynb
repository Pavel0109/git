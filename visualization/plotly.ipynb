{
 "cells": [
  {
   "cell_type": "markdown",
   "metadata": {
    "toc": true
   },
   "source": [
    "<h1>Table of Contents<span class=\"tocSkip\"></span></h1>\n",
    "<div class=\"toc\"><ul class=\"toc-item\"><li><span><a href=\"#Введение\" data-toc-modified-id=\"Введение-1\"><span class=\"toc-item-num\">1&nbsp;&nbsp;</span>Введение</a></span><ul class=\"toc-item\"><li><span><a href=\"#Подготовка\" data-toc-modified-id=\"Подготовка-1.1\"><span class=\"toc-item-num\">1.1&nbsp;&nbsp;</span>Подготовка</a></span></li><li><span><a href=\"#Установка-Plotly\" data-toc-modified-id=\"Установка-Plotly-1.2\"><span class=\"toc-item-num\">1.2&nbsp;&nbsp;</span>Установка Plotly</a></span></li><li><span><a href=\"#Static-режим\" data-toc-modified-id=\"Static-режим-1.3\"><span class=\"toc-item-num\">1.3&nbsp;&nbsp;</span>Static режим</a></span></li></ul></li><li><span><a href=\"#Немного-теории\" data-toc-modified-id=\"Немного-теории-2\"><span class=\"toc-item-num\">2&nbsp;&nbsp;</span>Немного теории</a></span><ul class=\"toc-item\"><li><span><a href=\"#Основные-объекты\" data-toc-modified-id=\"Основные-объекты-2.1\"><span class=\"toc-item-num\">2.1&nbsp;&nbsp;</span>Основные объекты</a></span></li><li><span><a href=\"#plotly.express\" data-toc-modified-id=\"plotly.express-2.2\"><span class=\"toc-item-num\">2.2&nbsp;&nbsp;</span>plotly.express</a></span><ul class=\"toc-item\"><li><span><a href=\"#Пример-1-(построение-гистограмм,-разделенные-на-subplots-по-категориям)\" data-toc-modified-id=\"Пример-1-(построение-гистограмм,-разделенные-на-subplots-по-категориям)-2.2.1\"><span class=\"toc-item-num\">2.2.1&nbsp;&nbsp;</span>Пример 1 (построение гистограмм, разделенные на subplots по категориям)</a></span></li><li><span><a href=\"#Пример-2-(Scatter-разделенные-на-subplots-по-категориям-c-добавлением-шума)\" data-toc-modified-id=\"Пример-2-(Scatter-разделенные-на-subplots-по-категориям-c-добавлением-шума)-2.2.2\"><span class=\"toc-item-num\">2.2.2&nbsp;&nbsp;</span>Пример 2 (Scatter разделенные на subplots по категориям c добавлением шума)</a></span></li></ul></li><li><span><a href=\"#plotly.graph_objects\" data-toc-modified-id=\"plotly.graph_objects-2.3\"><span class=\"toc-item-num\">2.3&nbsp;&nbsp;</span>plotly.graph_objects</a></span></li></ul></li><li><span><a href=\"#Построение-основных-графиков\" data-toc-modified-id=\"Построение-основных-графиков-3\"><span class=\"toc-item-num\">3&nbsp;&nbsp;</span>Построение основных графиков</a></span><ul class=\"toc-item\"><li><span><a href=\"#Scatter-plot-(Точечный-график)\" data-toc-modified-id=\"Scatter-plot-(Точечный-график)-3.1\"><span class=\"toc-item-num\">3.1&nbsp;&nbsp;</span>Scatter plot (Точечный график)</a></span><ul class=\"toc-item\"><li><span><a href=\"#Plotly-Express\" data-toc-modified-id=\"Plotly-Express-3.1.1\"><span class=\"toc-item-num\">3.1.1&nbsp;&nbsp;</span>Plotly Express</a></span></li><li><span><a href=\"#plotly.graph_objects\" data-toc-modified-id=\"plotly.graph_objects-3.1.2\"><span class=\"toc-item-num\">3.1.2&nbsp;&nbsp;</span>plotly.graph_objects</a></span></li></ul></li><li><span><a href=\"#3D-scatter-plot\" data-toc-modified-id=\"3D-scatter-plot-3.2\"><span class=\"toc-item-num\">3.2&nbsp;&nbsp;</span>3D scatter plot</a></span><ul class=\"toc-item\"><li><span><a href=\"#Plotly-Express\" data-toc-modified-id=\"Plotly-Express-3.2.1\"><span class=\"toc-item-num\">3.2.1&nbsp;&nbsp;</span>Plotly Express</a></span></li><li><span><a href=\"#plotly.graph_objects\" data-toc-modified-id=\"plotly.graph_objects-3.2.2\"><span class=\"toc-item-num\">3.2.2&nbsp;&nbsp;</span>plotly.graph_objects</a></span></li></ul></li><li><span><a href=\"#Гистограммы\" data-toc-modified-id=\"Гистограммы-3.3\"><span class=\"toc-item-num\">3.3&nbsp;&nbsp;</span>Гистограммы</a></span><ul class=\"toc-item\"><li><ul class=\"toc-item\"><li><span><a href=\"#facet_row-и-facet_сol-(plotly.express)\" data-toc-modified-id=\"facet_row-и-facet_сol-(plotly.express)-3.3.0.1\"><span class=\"toc-item-num\">3.3.0.1&nbsp;&nbsp;</span>facet_row и facet_сol (plotly.express)</a></span></li></ul></li></ul></li><li><span><a href=\"#2d-Histogram\" data-toc-modified-id=\"2d-Histogram-3.4\"><span class=\"toc-item-num\">3.4&nbsp;&nbsp;</span>2d Histogram</a></span></li><li><span><a href=\"#Смешенные-графики\" data-toc-modified-id=\"Смешенные-графики-3.5\"><span class=\"toc-item-num\">3.5&nbsp;&nbsp;</span>Смешенные графики</a></span></li></ul></li></ul></div>"
   ]
  },
  {
   "cell_type": "markdown",
   "metadata": {},
   "source": [
    "# Введение\n",
    "В любом эксперименте важной частью, является представление данных в удобном виде. Для этого существует большое количество различных библиотек для визуализации. В этой статье мы познакомимся с одной из новых библиотек - [Plotly](https://plot.ly/python/) \n",
    "\n",
    "Из плюсов библиотеки отмечу: \n",
    " * Отличную [документацию](https://plot.ly/python/) с большим количеством примеров. \n",
    " * Интерактивные графики (возможность узнать значение точки, выделить нужную часть и тд. И все это без дополнительного написания кода). \n",
    " * От той же компании существует проект [Dash](https://dash-gallery.plotly.host/Portal/) который позволяет строить красивую аналитику на подобии tableau.\n",
    " * Много возможностей при работе с датасетами (об этом ниже)\n",
    "## Подготовка\n",
    "0. (необязательно) Создадим новое окружение `conda create --name visual` \n",
    "1. Активируем его `conda activate visual`\n",
    "2. Установим pandas и  numpy и Jupyter `conda install numpy pandas jupyter`\n",
    "3. Скачать датасет \"Титаник\" [ссылка](https://www.kaggle.com/c/titanic/data)\n"
   ]
  },
  {
   "cell_type": "markdown",
   "metadata": {},
   "source": [
    "## Установка Plotly\n",
    "Установка Plotly достаточно сложная (не в одну строчку)\n",
    "Приведем тут, что говорит нам [документация](https://plot.ly/python/getting-started/)\n",
    "\n",
    "1. `conda install plotly` (может возникать проблема No module named 'plotly', тогда пропишите pip install plotly)\n",
    "\n",
    "2. Дальше если вы работаете\n",
    " через Jupter:\n",
    "\n",
    "`conda install notebook ipywidgets`\n",
    "\n",
    "через Jupterlab: \n",
    "```\n",
    "conda install jupyterlab\n",
    "conda install ipywidgets\n",
    "```\n",
    "\n",
    "Если через VS code ничего не надо\n",
    "\n",
    "Проверим, что все работает (создадим точки по синусу):"
   ]
  },
  {
   "cell_type": "code",
   "execution_count": 2,
   "metadata": {},
   "outputs": [
    {
     "data": {
      "application/vnd.plotly.v1+json": {
       "config": {
        "plotlyServerURL": "https://plot.ly"
       },
       "data": [
        {
         "hoverlabel": {
          "namelength": 0
         },
         "hovertemplate": "x=%{x}<br>y=%{y}",
         "legendgroup": "",
         "marker": {
          "color": "#636efa",
          "symbol": "circle"
         },
         "mode": "markers",
         "name": "",
         "showlegend": false,
         "type": "scatter",
         "x": [
          0,
          0.10101010101010101,
          0.20202020202020202,
          0.30303030303030304,
          0.40404040404040403,
          0.5050505050505051,
          0.6060606060606061,
          0.7070707070707071,
          0.8080808080808081,
          0.9090909090909091,
          1.0101010101010102,
          1.1111111111111112,
          1.2121212121212122,
          1.3131313131313131,
          1.4141414141414141,
          1.5151515151515151,
          1.6161616161616161,
          1.7171717171717171,
          1.8181818181818181,
          1.9191919191919191,
          2.0202020202020203,
          2.121212121212121,
          2.2222222222222223,
          2.323232323232323,
          2.4242424242424243,
          2.525252525252525,
          2.6262626262626263,
          2.727272727272727,
          2.8282828282828283,
          2.929292929292929,
          3.0303030303030303,
          3.131313131313131,
          3.2323232323232323,
          3.3333333333333335,
          3.4343434343434343,
          3.5353535353535355,
          3.6363636363636362,
          3.7373737373737375,
          3.8383838383838382,
          3.9393939393939394,
          4.040404040404041,
          4.141414141414141,
          4.242424242424242,
          4.343434343434343,
          4.444444444444445,
          4.545454545454545,
          4.646464646464646,
          4.747474747474747,
          4.848484848484849,
          4.94949494949495,
          5.05050505050505,
          5.151515151515151,
          5.252525252525253,
          5.353535353535354,
          5.454545454545454,
          5.555555555555555,
          5.656565656565657,
          5.757575757575758,
          5.858585858585858,
          5.959595959595959,
          6.0606060606060606,
          6.161616161616162,
          6.262626262626262,
          6.363636363636363,
          6.4646464646464645,
          6.565656565656566,
          6.666666666666667,
          6.767676767676767,
          6.8686868686868685,
          6.96969696969697,
          7.070707070707071,
          7.171717171717171,
          7.2727272727272725,
          7.373737373737374,
          7.474747474747475,
          7.575757575757575,
          7.6767676767676765,
          7.777777777777778,
          7.878787878787879,
          7.979797979797979,
          8.080808080808081,
          8.181818181818182,
          8.282828282828282,
          8.383838383838384,
          8.484848484848484,
          8.585858585858587,
          8.686868686868687,
          8.787878787878787,
          8.88888888888889,
          8.98989898989899,
          9.09090909090909,
          9.191919191919192,
          9.292929292929292,
          9.393939393939394,
          9.494949494949495,
          9.595959595959595,
          9.696969696969697,
          9.797979797979798,
          9.8989898989899,
          10
         ],
         "xaxis": "x",
         "y": [
          0,
          0.1008384202581046,
          0.2006488565226854,
          0.2984138044476411,
          0.3931366121483298,
          0.48385164043793466,
          0.5696341069089657,
          0.6496095135057065,
          0.7229625614794604,
          0.7889454628442574,
          0.8468855636029834,
          0.8961922010299563,
          0.9363627251042848,
          0.9669876227092996,
          0.9877546923600838,
          0.9984522269003895,
          0.9989711717233568,
          0.9893062365143401,
          0.9695559491823237,
          0.9399216514301312,
          0.9007054462029555,
          0.8523071179396753,
          0.7952200570230491,
          0.7300262299764464,
          0.6573902466827755,
          0.5780525851065732,
          0.4928220425889235,
          0.40256749066949654,
          0.30820901749007684,
          0.2107085480771929,
          0.11106003812412972,
          0.010279341240534697,
          -0.09060614703340773,
          -0.19056796287548539,
          -0.28858705872043244,
          -0.38366419180611233,
          -0.4748301108222395,
          -0.5611554368152017,
          -0.6417601376193878,
          -0.7158224992291902,
          -0.7825875026542022,
          -0.8413745208608701,
          -0.8915842573351402,
          -0.9327048555318336,
          -0.9643171169287783,
          -0.9860987744909296,
          -0.9978277779792126,
          -0.9993845576124357,
          -0.9907532430056771,
          -0.9720218249588334,
          -0.9433812584459996,
          -0.9051235159501367,
          -0.8576386109880517,
          -0.8014106221689697,
          -0.7370127583189134,
          -0.6651015149788224,
          -0.586409981847235,
          -0.5017403693939113,
          -0.4119558308308628,
          -0.31797166281061867,
          -0.22074597455506337,
          -0.12126992053716677,
          -0.020557596287260064,
          0.08036429967028173,
          0.18046693235991093,
          0.2787298186775573,
          0.37415123057121996,
          0.4657584070256517,
          0.5526174707464059,
          0.6338429484489058,
          0.7086067976992182,
          0.7761468482835805,
          0.8357745720522589,
          0.8868821020290788,
          0.9289484292312513,
          0.9615447140268235,
          0.9843386578838236,
          0.9970978909438748,
          0.9996923408861117,
          0.9920955589323228,
          0.9743849894755358,
          0.9467411805833543,
          0.9094459434244626,
          0.8628794793817836,
          0.8075165041395626,
          0.7439214082568444,
          0.6727425035622647,
          0.5947054140244974,
          0.510605678474283,
          0.4213006405886069,
          0.32770070881349983,
          0.23076007532505177,
          0.13146698864295842,
          0.03083367906114098,
          -0.07011396040064677,
          -0.1703468323280965,
          -0.268843125910384,
          -0.36459873365588863,
          -0.45663748763377376,
          -0.5440211108893699
         ],
         "yaxis": "y"
        }
       ],
       "layout": {
        "legend": {
         "tracegroupgap": 0
        },
        "margin": {
         "t": 60
        },
        "template": {
         "data": {
          "bar": [
           {
            "error_x": {
             "color": "#2a3f5f"
            },
            "error_y": {
             "color": "#2a3f5f"
            },
            "marker": {
             "line": {
              "color": "#E5ECF6",
              "width": 0.5
             }
            },
            "type": "bar"
           }
          ],
          "barpolar": [
           {
            "marker": {
             "line": {
              "color": "#E5ECF6",
              "width": 0.5
             }
            },
            "type": "barpolar"
           }
          ],
          "carpet": [
           {
            "aaxis": {
             "endlinecolor": "#2a3f5f",
             "gridcolor": "white",
             "linecolor": "white",
             "minorgridcolor": "white",
             "startlinecolor": "#2a3f5f"
            },
            "baxis": {
             "endlinecolor": "#2a3f5f",
             "gridcolor": "white",
             "linecolor": "white",
             "minorgridcolor": "white",
             "startlinecolor": "#2a3f5f"
            },
            "type": "carpet"
           }
          ],
          "choropleth": [
           {
            "colorbar": {
             "outlinewidth": 0,
             "ticks": ""
            },
            "type": "choropleth"
           }
          ],
          "contour": [
           {
            "colorbar": {
             "outlinewidth": 0,
             "ticks": ""
            },
            "colorscale": [
             [
              0,
              "#0d0887"
             ],
             [
              0.1111111111111111,
              "#46039f"
             ],
             [
              0.2222222222222222,
              "#7201a8"
             ],
             [
              0.3333333333333333,
              "#9c179e"
             ],
             [
              0.4444444444444444,
              "#bd3786"
             ],
             [
              0.5555555555555556,
              "#d8576b"
             ],
             [
              0.6666666666666666,
              "#ed7953"
             ],
             [
              0.7777777777777778,
              "#fb9f3a"
             ],
             [
              0.8888888888888888,
              "#fdca26"
             ],
             [
              1,
              "#f0f921"
             ]
            ],
            "type": "contour"
           }
          ],
          "contourcarpet": [
           {
            "colorbar": {
             "outlinewidth": 0,
             "ticks": ""
            },
            "type": "contourcarpet"
           }
          ],
          "heatmap": [
           {
            "colorbar": {
             "outlinewidth": 0,
             "ticks": ""
            },
            "colorscale": [
             [
              0,
              "#0d0887"
             ],
             [
              0.1111111111111111,
              "#46039f"
             ],
             [
              0.2222222222222222,
              "#7201a8"
             ],
             [
              0.3333333333333333,
              "#9c179e"
             ],
             [
              0.4444444444444444,
              "#bd3786"
             ],
             [
              0.5555555555555556,
              "#d8576b"
             ],
             [
              0.6666666666666666,
              "#ed7953"
             ],
             [
              0.7777777777777778,
              "#fb9f3a"
             ],
             [
              0.8888888888888888,
              "#fdca26"
             ],
             [
              1,
              "#f0f921"
             ]
            ],
            "type": "heatmap"
           }
          ],
          "heatmapgl": [
           {
            "colorbar": {
             "outlinewidth": 0,
             "ticks": ""
            },
            "colorscale": [
             [
              0,
              "#0d0887"
             ],
             [
              0.1111111111111111,
              "#46039f"
             ],
             [
              0.2222222222222222,
              "#7201a8"
             ],
             [
              0.3333333333333333,
              "#9c179e"
             ],
             [
              0.4444444444444444,
              "#bd3786"
             ],
             [
              0.5555555555555556,
              "#d8576b"
             ],
             [
              0.6666666666666666,
              "#ed7953"
             ],
             [
              0.7777777777777778,
              "#fb9f3a"
             ],
             [
              0.8888888888888888,
              "#fdca26"
             ],
             [
              1,
              "#f0f921"
             ]
            ],
            "type": "heatmapgl"
           }
          ],
          "histogram": [
           {
            "marker": {
             "colorbar": {
              "outlinewidth": 0,
              "ticks": ""
             }
            },
            "type": "histogram"
           }
          ],
          "histogram2d": [
           {
            "colorbar": {
             "outlinewidth": 0,
             "ticks": ""
            },
            "colorscale": [
             [
              0,
              "#0d0887"
             ],
             [
              0.1111111111111111,
              "#46039f"
             ],
             [
              0.2222222222222222,
              "#7201a8"
             ],
             [
              0.3333333333333333,
              "#9c179e"
             ],
             [
              0.4444444444444444,
              "#bd3786"
             ],
             [
              0.5555555555555556,
              "#d8576b"
             ],
             [
              0.6666666666666666,
              "#ed7953"
             ],
             [
              0.7777777777777778,
              "#fb9f3a"
             ],
             [
              0.8888888888888888,
              "#fdca26"
             ],
             [
              1,
              "#f0f921"
             ]
            ],
            "type": "histogram2d"
           }
          ],
          "histogram2dcontour": [
           {
            "colorbar": {
             "outlinewidth": 0,
             "ticks": ""
            },
            "colorscale": [
             [
              0,
              "#0d0887"
             ],
             [
              0.1111111111111111,
              "#46039f"
             ],
             [
              0.2222222222222222,
              "#7201a8"
             ],
             [
              0.3333333333333333,
              "#9c179e"
             ],
             [
              0.4444444444444444,
              "#bd3786"
             ],
             [
              0.5555555555555556,
              "#d8576b"
             ],
             [
              0.6666666666666666,
              "#ed7953"
             ],
             [
              0.7777777777777778,
              "#fb9f3a"
             ],
             [
              0.8888888888888888,
              "#fdca26"
             ],
             [
              1,
              "#f0f921"
             ]
            ],
            "type": "histogram2dcontour"
           }
          ],
          "mesh3d": [
           {
            "colorbar": {
             "outlinewidth": 0,
             "ticks": ""
            },
            "type": "mesh3d"
           }
          ],
          "parcoords": [
           {
            "line": {
             "colorbar": {
              "outlinewidth": 0,
              "ticks": ""
             }
            },
            "type": "parcoords"
           }
          ],
          "pie": [
           {
            "automargin": true,
            "type": "pie"
           }
          ],
          "scatter": [
           {
            "marker": {
             "colorbar": {
              "outlinewidth": 0,
              "ticks": ""
             }
            },
            "type": "scatter"
           }
          ],
          "scatter3d": [
           {
            "line": {
             "colorbar": {
              "outlinewidth": 0,
              "ticks": ""
             }
            },
            "marker": {
             "colorbar": {
              "outlinewidth": 0,
              "ticks": ""
             }
            },
            "type": "scatter3d"
           }
          ],
          "scattercarpet": [
           {
            "marker": {
             "colorbar": {
              "outlinewidth": 0,
              "ticks": ""
             }
            },
            "type": "scattercarpet"
           }
          ],
          "scattergeo": [
           {
            "marker": {
             "colorbar": {
              "outlinewidth": 0,
              "ticks": ""
             }
            },
            "type": "scattergeo"
           }
          ],
          "scattergl": [
           {
            "marker": {
             "colorbar": {
              "outlinewidth": 0,
              "ticks": ""
             }
            },
            "type": "scattergl"
           }
          ],
          "scattermapbox": [
           {
            "marker": {
             "colorbar": {
              "outlinewidth": 0,
              "ticks": ""
             }
            },
            "type": "scattermapbox"
           }
          ],
          "scatterpolar": [
           {
            "marker": {
             "colorbar": {
              "outlinewidth": 0,
              "ticks": ""
             }
            },
            "type": "scatterpolar"
           }
          ],
          "scatterpolargl": [
           {
            "marker": {
             "colorbar": {
              "outlinewidth": 0,
              "ticks": ""
             }
            },
            "type": "scatterpolargl"
           }
          ],
          "scatterternary": [
           {
            "marker": {
             "colorbar": {
              "outlinewidth": 0,
              "ticks": ""
             }
            },
            "type": "scatterternary"
           }
          ],
          "surface": [
           {
            "colorbar": {
             "outlinewidth": 0,
             "ticks": ""
            },
            "colorscale": [
             [
              0,
              "#0d0887"
             ],
             [
              0.1111111111111111,
              "#46039f"
             ],
             [
              0.2222222222222222,
              "#7201a8"
             ],
             [
              0.3333333333333333,
              "#9c179e"
             ],
             [
              0.4444444444444444,
              "#bd3786"
             ],
             [
              0.5555555555555556,
              "#d8576b"
             ],
             [
              0.6666666666666666,
              "#ed7953"
             ],
             [
              0.7777777777777778,
              "#fb9f3a"
             ],
             [
              0.8888888888888888,
              "#fdca26"
             ],
             [
              1,
              "#f0f921"
             ]
            ],
            "type": "surface"
           }
          ],
          "table": [
           {
            "cells": {
             "fill": {
              "color": "#EBF0F8"
             },
             "line": {
              "color": "white"
             }
            },
            "header": {
             "fill": {
              "color": "#C8D4E3"
             },
             "line": {
              "color": "white"
             }
            },
            "type": "table"
           }
          ]
         },
         "layout": {
          "annotationdefaults": {
           "arrowcolor": "#2a3f5f",
           "arrowhead": 0,
           "arrowwidth": 1
          },
          "coloraxis": {
           "colorbar": {
            "outlinewidth": 0,
            "ticks": ""
           }
          },
          "colorscale": {
           "diverging": [
            [
             0,
             "#8e0152"
            ],
            [
             0.1,
             "#c51b7d"
            ],
            [
             0.2,
             "#de77ae"
            ],
            [
             0.3,
             "#f1b6da"
            ],
            [
             0.4,
             "#fde0ef"
            ],
            [
             0.5,
             "#f7f7f7"
            ],
            [
             0.6,
             "#e6f5d0"
            ],
            [
             0.7,
             "#b8e186"
            ],
            [
             0.8,
             "#7fbc41"
            ],
            [
             0.9,
             "#4d9221"
            ],
            [
             1,
             "#276419"
            ]
           ],
           "sequential": [
            [
             0,
             "#0d0887"
            ],
            [
             0.1111111111111111,
             "#46039f"
            ],
            [
             0.2222222222222222,
             "#7201a8"
            ],
            [
             0.3333333333333333,
             "#9c179e"
            ],
            [
             0.4444444444444444,
             "#bd3786"
            ],
            [
             0.5555555555555556,
             "#d8576b"
            ],
            [
             0.6666666666666666,
             "#ed7953"
            ],
            [
             0.7777777777777778,
             "#fb9f3a"
            ],
            [
             0.8888888888888888,
             "#fdca26"
            ],
            [
             1,
             "#f0f921"
            ]
           ],
           "sequentialminus": [
            [
             0,
             "#0d0887"
            ],
            [
             0.1111111111111111,
             "#46039f"
            ],
            [
             0.2222222222222222,
             "#7201a8"
            ],
            [
             0.3333333333333333,
             "#9c179e"
            ],
            [
             0.4444444444444444,
             "#bd3786"
            ],
            [
             0.5555555555555556,
             "#d8576b"
            ],
            [
             0.6666666666666666,
             "#ed7953"
            ],
            [
             0.7777777777777778,
             "#fb9f3a"
            ],
            [
             0.8888888888888888,
             "#fdca26"
            ],
            [
             1,
             "#f0f921"
            ]
           ]
          },
          "colorway": [
           "#636efa",
           "#EF553B",
           "#00cc96",
           "#ab63fa",
           "#FFA15A",
           "#19d3f3",
           "#FF6692",
           "#B6E880",
           "#FF97FF",
           "#FECB52"
          ],
          "font": {
           "color": "#2a3f5f"
          },
          "geo": {
           "bgcolor": "white",
           "lakecolor": "white",
           "landcolor": "#E5ECF6",
           "showlakes": true,
           "showland": true,
           "subunitcolor": "white"
          },
          "hoverlabel": {
           "align": "left"
          },
          "hovermode": "closest",
          "mapbox": {
           "style": "light"
          },
          "paper_bgcolor": "white",
          "plot_bgcolor": "#E5ECF6",
          "polar": {
           "angularaxis": {
            "gridcolor": "white",
            "linecolor": "white",
            "ticks": ""
           },
           "bgcolor": "#E5ECF6",
           "radialaxis": {
            "gridcolor": "white",
            "linecolor": "white",
            "ticks": ""
           }
          },
          "scene": {
           "xaxis": {
            "backgroundcolor": "#E5ECF6",
            "gridcolor": "white",
            "gridwidth": 2,
            "linecolor": "white",
            "showbackground": true,
            "ticks": "",
            "zerolinecolor": "white"
           },
           "yaxis": {
            "backgroundcolor": "#E5ECF6",
            "gridcolor": "white",
            "gridwidth": 2,
            "linecolor": "white",
            "showbackground": true,
            "ticks": "",
            "zerolinecolor": "white"
           },
           "zaxis": {
            "backgroundcolor": "#E5ECF6",
            "gridcolor": "white",
            "gridwidth": 2,
            "linecolor": "white",
            "showbackground": true,
            "ticks": "",
            "zerolinecolor": "white"
           }
          },
          "shapedefaults": {
           "line": {
            "color": "#2a3f5f"
           }
          },
          "ternary": {
           "aaxis": {
            "gridcolor": "white",
            "linecolor": "white",
            "ticks": ""
           },
           "baxis": {
            "gridcolor": "white",
            "linecolor": "white",
            "ticks": ""
           },
           "bgcolor": "#E5ECF6",
           "caxis": {
            "gridcolor": "white",
            "linecolor": "white",
            "ticks": ""
           }
          },
          "title": {
           "x": 0.05
          },
          "xaxis": {
           "automargin": true,
           "gridcolor": "white",
           "linecolor": "white",
           "ticks": "",
           "title": {
            "standoff": 15
           },
           "zerolinecolor": "white",
           "zerolinewidth": 2
          },
          "yaxis": {
           "automargin": true,
           "gridcolor": "white",
           "linecolor": "white",
           "ticks": "",
           "title": {
            "standoff": 15
           },
           "zerolinecolor": "white",
           "zerolinewidth": 2
          }
         }
        },
        "xaxis": {
         "anchor": "y",
         "domain": [
          0,
          1
         ],
         "title": {
          "text": "x"
         }
        },
        "yaxis": {
         "anchor": "x",
         "domain": [
          0,
          1
         ],
         "title": {
          "text": "y"
         }
        }
       }
      }
     },
     "metadata": {},
     "output_type": "display_data"
    }
   ],
   "source": [
    "import numpy as np\n",
    "import pandas as pd\n",
    "import plotly.graph_objects as go\n",
    "import plotly.express as px\n",
    "\n",
    "x = np.linspace(0, 10, 100)\n",
    "y = np.sin(x)\n",
    "\n",
    "fig = px.scatter(x=x, y=y)\n",
    "fig.show()"
   ]
  },
  {
   "cell_type": "markdown",
   "metadata": {},
   "source": [
    "Чтобы сохранить картинку можно нажать на картинку фотоаппарата, однако если мы хотим это автоматизировать, или же отображать графики статично (если например оченб много точек, могут начаться лаги в интерактивном режиме) нам понадобится Static режим.\n",
    "\n",
    "## Static режим\n",
    "Также для сохранения графиков (как картинки, либо вывода в не интерактивный режиме) необходимо прописать (в терминале): \n",
    "`conda install -c plotly plotly-orca psutil requests`\n",
    "\n",
    "В случае если не работает, рекомендую посмотреть этот [раздел](https://plot.ly/python/orca-management/), если не помогло (особенно на Mac), рекомендую проделать все действия от [сюда](https://github.com/plotly/orca)\n",
    "После этого график можно отобразить в не интерактивном режиме либо сохранить. Доступные форматы: eps, png, jpeg, pdf"
   ]
  },
  {
   "cell_type": "code",
   "execution_count": 3,
   "metadata": {},
   "outputs": [
    {
     "data": {
      "image/png": "[encoded data removed]"
     },
     "metadata": {},
     "output_type": "display_data"
    }
   ],
   "source": [
    "fig.show(renderer=\"png\")\n",
    "#fig.write_image(\"images/fig1.png\") для сохранения "
   ]
  },
  {
   "cell_type": "markdown",
   "metadata": {},
   "source": [
    "# Немного теории\n",
    "## Основные объекты\n",
    "Основными объектами в Plotly являются: fig и trace. Fig это все, что будет вывести. На ней может быть и два графика:"
   ]
  },
  {
   "cell_type": "code",
   "execution_count": null,
   "metadata": {},
   "outputs": [],
   "source": [
    "from plotly.subplots import make_subplots\n",
    "fig = make_subplots(rows=1, cols=2)\n",
    "fig.add_trace(go.Scatter(y=[4, 2, 1], mode=\"markers\"), row=1, col=1)\n",
    "fig.add_trace(go.Bar(y=[2, 1, 3]), row=1, col=2)\n",
    "fig.show() "
   ]
  },
  {
   "cell_type": "markdown",
   "metadata": {},
   "source": [
    "Как видно, fig может состоять из двух частей, но это все fig. fig можно, как создать отдельно например:"
   ]
  },
  {
   "cell_type": "code",
   "execution_count": null,
   "metadata": {},
   "outputs": [],
   "source": [
    "fig = go.Figure()\n",
    "fig.update_layout( autosize=False,\n",
    "    width=500,\n",
    "    height=500,\n",
    "    \n",
    "    yaxis=dict(\n",
    "        title_text=\"Y-axis Title\",\n",
    "        ticktext=[\"Very long label\", \"long label\", \"3\", \"label\"],\n",
    "        tickvals=[1, 2, 3, 4],\n",
    "        tickmode=\"array\",\n",
    "        titlefont=dict(size=30),\n",
    "    )\n",
    ")\n"
   ]
  },
  {
   "cell_type": "markdown",
   "metadata": {},
   "source": [
    "Так и сразу с точками: "
   ]
  },
  {
   "cell_type": "code",
   "execution_count": null,
   "metadata": {},
   "outputs": [],
   "source": [
    "fig = go.Figure(data=go.Scatter(\n",
    "    y = np.random.randn(500),\n",
    "    mode='markers',  \n",
    "    )\n",
    ")\n",
    "fig.show()"
   ]
  },
  {
   "cell_type": "markdown",
   "metadata": {},
   "source": [
    "Trace это же, те данные которые вы хотите нанести. Перечислим основные:\n",
    "* Scatter - набор точек\n",
    "* Line - точки соеденные прямыми\n",
    "* Error Bars - набор точек с погрешностями\n",
    "* histogram (Bar) - гистограмма \n",
    "\n",
    "и другие..."
   ]
  },
  {
   "cell_type": "markdown",
   "metadata": {},
   "source": [
    "С Plotly можно работать в двух видах (которые отличаются друг от друга): \n",
    "* Полный вид. Код начинается с команды `import plotly.graph_objects as go` \n",
    "* Компактный вид. Код начинается с команды `import plotly.express as px`\n",
    "\n",
    "названия лично мои)\n",
    "\n"
   ]
  },
  {
   "cell_type": "markdown",
   "metadata": {},
   "source": [
    "## plotly.express\n",
    "В этом виде удобно работать с датасетом. Год достаточно получается достаточно лаконичный. Есть дополнительные возможности например простой [способ создания анимации](https://plot.ly/python/animations/), а также параметры facet_col, facet_row (рассмотрим их ниже). Также отметим ограничения: вы не можете построить на одном fig несколько графиков вида express `fig.add_trace(px.Scatter...` - выдаст ошибку  (если знаете, как это можно сделать напишете). Остальные графики надо добавлять с помощью `fig.add_trace(go.Scatter(...))` то есть в полным виде."
   ]
  },
  {
   "cell_type": "markdown",
   "metadata": {},
   "source": [
    "### Пример 1 (построение гистограмм, разделенные на subplots по категориям)"
   ]
  },
  {
   "cell_type": "code",
   "execution_count": null,
   "metadata": {},
   "outputs": [],
   "source": [
    "# загрузим датасет титаник\n",
    "data = pd.read_csv('train.csv')\n",
    "data.head()"
   ]
  },
  {
   "cell_type": "code",
   "execution_count": null,
   "metadata": {},
   "outputs": [],
   "source": [
    "px.histogram(data, x = \"Fare\", color = \"Survived\", facet_col=\"Pclass\", facet_row=\"Sex\", nbins=200)"
   ]
  },
  {
   "cell_type": "markdown",
   "metadata": {},
   "source": [
    "Давайте рассмотрим приведенный выше пример более подробно:\n",
    "\n",
    "1. histogram - означает, что мы будем наносить гистограмму\n",
    "2. data - наш dataframe. Добавлять его не обязательно. Но если же он объявлен, то для того чтобы задать x или y (без него необходимо прописать массивы пример ниже),или для определения парметров, по которым будет разделение, достаточно только записать название столбца.\n",
    "3. x = \"Fare\" - стобец, по которому строим гистограмму. Если бы датасет не был указан, мы бы написали `x = data[Fare]`\n",
    "4. color = \"Survived\" - параметр, по которому наши данные разделяются на серии\n",
    "5. facet_col, facet_row - парметры, по которым происходит разделение на subplots\n",
    "\n",
    "Дополнение: \n",
    "\n",
    "1. Если вы указали датасет, то подписи осей, легенда, и прочее будет происходить автоматически по названию столбцов.\n",
    "2. Если вы нажмете на легенду (в отображенном графике), то вы можете фильтровать данные. (Нажмите на Survived = 0, на графике)"
   ]
  },
  {
   "cell_type": "markdown",
   "metadata": {},
   "source": [
    "### Пример 2 (Scatter разделенные на subplots по категориям c добавлением шума)\n",
    "В данном примере датасет добавлен, но мы добавили небольшой шум в данные,чтобы увидеть, где скапливаются точки (иначе эти группы будут в одной точке). Поэтому названия осей по умолчанию будут x,y."
   ]
  },
  {
   "cell_type": "code",
   "execution_count": null,
   "metadata": {},
   "outputs": [],
   "source": [
    "data['Survived']=data['Survived'].astype(str)\n",
    "fig = px.scatter(data, x=data[\"SibSp\"]+np.random.standard_normal(data[\"SibSp\"].size)/7, y=data[\"Parch\"]+np.random.standard_normal(data[\"SibSp\"].size)/7, color_continuous_scale='Bluered_r', color = \"Survived\", facet_col=\"Sex\", title= \"Распределние по SibSp\")\n",
    "fig.update_traces(marker_symbol= 100,marker=dict(size=8,opacity = 0.70,\n",
    "                              line=dict(width=2)))\n",
    "\n",
    "fig.update_layout(template=\"ggplot2\", yaxis_title=\"Parch\")\n",
    "fig.update_xaxes(title_text=\"xaxis 1 title\", row=1, col=1)\n",
    "fig.update_xaxes(title_text=\"xaxis 2 title\", row=1, col=2)\n",
    "fig.show()\n",
    "data['Survived']=data['Survived'].astype(int)"
   ]
  },
  {
   "cell_type": "markdown",
   "metadata": {},
   "source": [
    "Давайте рассмотрим приведенный выше пример более подробно:\n",
    "\n",
    "1. scatter - строим точки\n",
    "2. `+np.random.standard_normal(data[\"SibSp\"].size)/7` - добавление шума \n",
    "3. color_continuous_scale='Bluered_r' - меняем цвета для легенды (по умолчанию был желтый очень режет глаз)\n",
    "4. `fig.update_traces(marker_symbol= 100,marker=dict(size=8,opacity = 0.70,line=dict(width=2)))`:\n",
    "* `marker_symbol = 100` тип маркера:кольцо\n",
    "* дальше пропишем (как для словаря) парметры `size` - размер, `opacity` - прозрачность, `line=dict(width=2))` - толщина линии\n",
    "5. `fig.update_layout(template=\"ggplot2\", yaxis_title=\"Parch\")` - обновляем fig: используем другой дизайн, и меняем название оси Y (если написать такое же для X, то изменится только название под одним subplot)\n",
    "6. `fig.update_xaxes(title_text=\"xaxis 1 title\", row=1, col=1)` - прописываем название оси для subplot\n",
    "7. `data['Survived']=data['Survived'].astype(str)` - применяем для того, чтобы тип был дискретным. Иначе будет непрерывный (попробуйте убрать эту строчку)\n",
    "\n",
    "Дополнение: \n",
    "\n",
    "1. [Cписок маркеров](https://plot.ly/python/marker-style/) \n",
    "2. [Редактирование осей](https://plot.ly/python/axes/)\n",
    "\n",
    "Пояснения:\n",
    "\n",
    "1. Параметры: \n",
    "* `x= \"Age\"` - данные по которым строиться гистограмма (массив)\n",
    "* `color='Sex'` - построение гистограмм по типу, в нашем случае по типу пол.\n",
    "* `nbins` - количество столбцов.\n",
    "\n",
    "Дополнение: \n",
    "\n",
    "1. Напомню, что нажимая на легенду (например на Sex = female), можно фильтровать данные.                                                                                  2. В вверхние части окна отображения (где кнопка фотоаппарат, лупа и тд) есть кнопка `Compare data on hover`, нажав на которую, при наведении на нужный вам столбец будут отображаться сразу данные сразу о двух типов.\n",
    "\n",
    "В приведенном выше примере данные суммировались, из-за чего сравнить их было проблематично. Давайте отобразим данные по другому (заодно посмотрим, как это можно сделать в полном режиме):)"
   ]
  },
  {
   "cell_type": "markdown",
   "metadata": {},
   "source": [
    "## plotly.graph_objects\n",
    "\n",
    "В этом режиме, уже доступна более тонкая настройка, сразу при создании Trace, но и код получается более объемный. Это увидим на примерах ниже:"
   ]
  },
  {
   "cell_type": "markdown",
   "metadata": {},
   "source": [
    "# Построение основных графиков\n",
    "Давайте посмотрим, как можно построить основные графики в Plotly (в двух режимах)\n",
    "\n",
    "## Scatter plot (Точечный график) \n",
    "Обычно возникающая задача на лабораторных работах:\n",
    "Имеется две серии данных (c погрешностями). Необходимо нанести их на один график и построить аппроксимирующие функции.\n",
    "\n",
    "Создадим DataFrame, с двумя сериями. Столбец `type` отвечает за номер серии."
   ]
  },
  {
   "cell_type": "code",
   "execution_count": null,
   "metadata": {},
   "outputs": [],
   "source": [
    "x1 = np.linspace(-2,2 ,25) + np.random.randn()\n",
    "x2 = np.linspace(-3,3 ,25) + np.random.randn()\n",
    "e = np.random.sample(50)*2\n",
    "\n",
    "y1 = x1 - 6\n",
    "y2 = np.power(x2, 3) + 3\n",
    "df = pd.DataFrame({'x':np.append(x1,x2),'y':np.append(y1,y2),'type':np.repeat([1,2], 25),'err':e})\n",
    "df[\"type\"] = df[\"type\"].astype(str)\n",
    "df.head()"
   ]
  },
  {
   "cell_type": "markdown",
   "metadata": {},
   "source": [
    "### Plotly Express\n"
   ]
  },
  {
   "cell_type": "code",
   "execution_count": null,
   "metadata": {},
   "outputs": [],
   "source": [
    "fig = px.scatter(df,x='x', y='y', color='type',error_y='err', title = 'example_1', trendline = 'ols', color_continuous_scale='Bluered_r')\n",
    "\n",
    "fig.show()\n",
    "# results = px.get_trendline_results(fig)\n",
    "# print(results)"
   ]
  },
  {
   "cell_type": "markdown",
   "metadata": {},
   "source": [
    "Пояснение к примеру:\n",
    "\n",
    "1. `df` - текущий data frame с которым мы работаем.\n",
    "2. `x,y` - данные, которые мы строим. Можно, как указать названия столбцов текущего Data frame, так и указать Series или Array\n",
    "3. `color` - название колонки, по которой разделены данные на категории, в нашем это 1,2 (обратите внимание, что как строки). Аналогично работает symbol (только разные категории, отличаются разными символами) \n",
    "4. `title` - название графика\n",
    "5. `trendline` - аппроксимация, значение аргумента - метод аппроксимации.\n",
    "6. error_y='err' - значение погрешности (массив)\n",
    "7. df['type'] = df['type'].astype(str) - необходимо добавить чтобы параметр type был дискретный\n",
    "\n",
    "[Более подробно](https://plot.ly/python-api-reference/generated/plotly.express.scatter.html#plotly.express.scatter)\n",
    "\n",
    "Получение результатов аппроксимации немного проблематично, для желающих [документация](https://plot.ly/python/linear-fits/)"
   ]
  },
  {
   "cell_type": "markdown",
   "metadata": {},
   "source": [
    "### plotly.graph_objects\n",
    "Построем то же, самое через полную версию.\n"
   ]
  },
  {
   "cell_type": "code",
   "execution_count": null,
   "metadata": {},
   "outputs": [],
   "source": [
    "import plotly.graph_objects as go\n",
    "df[\"type\"] = df[\"type\"].astype(int)# необходмо, чтобы снова сделать параметр числовым чтобы можно было делать сравнение\n",
    "X_1 = df[df['type']==1]['x']\n",
    "X_2 = df[df['type']==2]['x']\n",
    "Y_1 = df[df['type']==1]['y']\n",
    "Y_2 = df[df['type']==2]['y']\n",
    "\n",
    "z = np.polyfit(X_2, Y_2, 1)\n",
    "p = np.poly1d(z)\n",
    "xp = np.linspace(min(X_2), max(X_2), 50)\n",
    "fig = go.Figure()\n",
    "# апроксимацию смотри в выпуске про numpy\n",
    "# Add traces\n",
    "\n",
    "fig.add_trace(go.Scatter(x=X_1, y=Y_1,\n",
    "                    mode='markers',\n",
    "                    name='x'))\n",
    "fig.add_trace(go.Scatter(x=X_2, y=Y_2,\n",
    "                    mode='markers',\n",
    "                    name='$x^2$',\n",
    "                    error_x = dict(\n",
    "                        type='constant',value=0.2,\n",
    "                        color='purple')))\n",
    "fig.add_trace(go.Line(x= xp, y = p(xp)))\n",
    "fig.show()"
   ]
  },
  {
   "cell_type": "markdown",
   "metadata": {},
   "source": [
    "Пояснения:\n",
    "\n",
    "1. go.Scatter - добавление на `fig`, точек типа Scatter. Тоесть точек от x и y.\n",
    "\n",
    "2. Параметры: \n",
    "* `x,y` - данные (Series, Array like)\n",
    "* `mode` - просто точки, просто линии, точки + линии (marker,line, marker + line)\n",
    "* `name` - название для легенды (поддерживает latex)\n",
    "* `error_x = dict` - словарь, так как много параметров\n",
    "* `type='constant' - тип погрешности: константа (есть также проценты, массив), значение константы\n",
    "* `value=0.2` - значение погрешности\n",
    "* `color='purple'` - цвет\n",
    "\n",
    "Как видно из данного примера в полном режиме доступно больше возможностей для настройки, но и код получается более длинным. "
   ]
  },
  {
   "cell_type": "markdown",
   "metadata": {},
   "source": [
    "## 3D scatter plot\n",
    "[Документация](https://plot.ly/python/3d-scatter-plots/)\n",
    "\n",
    "На первом курсе возниквает задача построить эллипсоид инерции. Давайте построим это с помощью plotly.\n",
    "Создадим набор точек:\n"
   ]
  },
  {
   "cell_type": "code",
   "execution_count": null,
   "metadata": {},
   "outputs": [],
   "source": [
    "omega =  np.linspace(0 , 2*np.pi , 50)\n",
    "phi = np.linspace(-np.pi/2 , np.pi/2 ,50)\n",
    "a,b,c = 1,2,3\n",
    "x = []\n",
    "y = []\n",
    "z = []\n",
    "for i in omega:\n",
    "    for j in phi:\n",
    "        x.append(a * np.sin(i)*np.cos(j))\n",
    "        y.append(b * np.sin(i)*np.sin(j))\n",
    "        z.append(c * np.cos(i))\n"
   ]
  },
  {
   "cell_type": "markdown",
   "metadata": {},
   "source": [
    "### Plotly Express"
   ]
  },
  {
   "cell_type": "code",
   "execution_count": null,
   "metadata": {},
   "outputs": [],
   "source": [
    "fig = px.scatter_3d(x=x, y=y, z=z)\n",
    "fig.show()"
   ]
  },
  {
   "cell_type": "markdown",
   "metadata": {},
   "source": [
    "### plotly.graph_objects"
   ]
  },
  {
   "cell_type": "code",
   "execution_count": null,
   "metadata": {},
   "outputs": [],
   "source": [
    "fig = go.Figure(data=[go.Scatter3d(x=x, y=y, z=z,\n",
    "   mode='markers')])\n",
    "fig.show()"
   ]
  },
  {
   "cell_type": "markdown",
   "metadata": {},
   "source": [
    "##"
   ]
  },
  {
   "cell_type": "markdown",
   "metadata": {},
   "source": [
    "## Гистограммы \n",
    "[документация](https://plot.ly/python/histograms/)\n",
    "Давайте вернемся к нашему датасету \"Титаник\"\n"
   ]
  },
  {
   "cell_type": "code",
   "execution_count": null,
   "metadata": {},
   "outputs": [],
   "source": [
    "data = pd.read_csv('train.csv')\n",
    "data.head()"
   ]
  },
  {
   "cell_type": "markdown",
   "metadata": {},
   "source": [
    "Посмотрим распрередление по возрастам среди мужчин и женщин (выживших)\n"
   ]
  },
  {
   "cell_type": "code",
   "execution_count": null,
   "metadata": {},
   "outputs": [],
   "source": [
    "fig = px.histogram(data[data[\"Survived\"]==1], x= \"Age\", nbins=50, color=\"Sex\")\n",
    "fig.show()"
   ]
  },
  {
   "cell_type": "markdown",
   "metadata": {},
   "source": [
    "Обратите внимание, что мы указываем именно значения, а не значения и их количество (построение такой диаграммы будет ниже).\n",
    "\n",
    "Пояснения:\n",
    "\n",
    "1. Параметры: \n",
    "* `x= \"Age\"` - данные по которым строиться гистограмма (массив)\n",
    "* `color='Sex'` - построение гистограмм по типу, в нашем случае по типу пол.\n",
    "* `nbins` - количество столбцов.\n",
    "\n",
    "Дополнение: \n",
    "\n",
    "1. Напомню, что нажимая на легенду (например на Sex = female), можно фильтровать данные.     2. В вверхней части окна отображения (где кнопка фотоаппарат, лупа и тд) есть кнопка `Compare data on hover`, нажав на которую, при наведении на нужный вам столбец будут отображаться сразу данные сразу о двух типов.\n",
    "\n",
    "В приведенном выше примере данные суммировались, из-за чего сравнить их было проблематично. Давайте отобразим данные по другому (заодно посмотрим, как это можно сделать в полном режиме):"
   ]
  },
  {
   "cell_type": "code",
   "execution_count": null,
   "metadata": {},
   "outputs": [],
   "source": [
    "\n",
    "data_male = data[(data[\"Survived\"]==1) & (data[\"Sex\"] == 'male')]\n",
    "data_female = data[(data[\"Survived\"]==1) & (data[\"Sex\"] == 'female')]\n",
    "\n",
    "fig1 = go.Figure()\n",
    "fig1.add_trace(go.Histogram(x=data_male[\"Age\"],name = 'male'))\n",
    "fig1.add_trace(go.Histogram(x=data_female[\"Age\"],name = 'female'))\n",
    "\n",
    "fig2 = go.Figure()\n",
    "fig2.add_trace(go.Histogram(x=data_male[\"Age\"],name = 'male'))\n",
    "fig2.add_trace(go.Histogram(x=data_female[\"Age\"],name = 'female'))\n",
    "\n",
    "fig3 = go.Figure()\n",
    "fig3.add_trace(go.Histogram(x=data_male[\"Age\"],name = 'male'))\n",
    "fig3.add_trace(go.Histogram(x=data_female[\"Age\"],name = 'female'))\n",
    "\n",
    "fig1.update_layout(title_text=r\"barmode='default'\")\n",
    "\n",
    "fig2.update_layout(barmode='stack',  title_text=r\"barmode='stack'\")\n",
    "\n",
    "fig3.update_layout(barmode='overlay',  title_text=r\"barmode='overlay'\")\n",
    "fig3.update_traces(opacity=0.75)\n",
    "\n",
    "fig1.show()\n",
    "fig2.show()\n",
    "fig3.show()"
   ]
  },
  {
   "cell_type": "markdown",
   "metadata": {},
   "source": [
    "#### facet\\_row и facet_сol (plotly.express)\n",
    "Давайте посмотрим полезные параметры `facet_col` (или `facet_row`)  (только для plotly express)\n",
    "Распределение по ценам на билет"
   ]
  },
  {
   "cell_type": "code",
   "execution_count": null,
   "metadata": {},
   "outputs": [],
   "source": [
    "px.histogram(data, x = \"Fare\", color = \"Survived\", facet_col=\"Pclass\", facet_row=\"Sex\", nbins=200)"
   ]
  },
  {
   "cell_type": "markdown",
   "metadata": {},
   "source": [
    "Пояснения: \n",
    "* `facet_col=\"Pclass\"` - строит наши графики на отдельных колонках, для которых соответственно Pclass = 1,2,3 \n",
    "* `facet_row=\"Sex\"` - аналогично, только графики располагаются в разных рядах\n",
    "\n",
    "Итог: имеем распределения по классам и полу в одну строчку."
   ]
  },
  {
   "cell_type": "markdown",
   "metadata": {},
   "source": [
    "## 2d Histogram\n",
    "\n",
    "Пример из [документации](https://plot.ly/python/2D-Histogram/)"
   ]
  },
  {
   "cell_type": "code",
   "execution_count": null,
   "metadata": {},
   "outputs": [],
   "source": [
    "import numpy as np\n",
    "np.random.seed(1)\n",
    "\n",
    "x = np.random.randn(500)\n",
    "y = np.random.randn(500)+1\n",
    "\n",
    "fig = go.Figure(go.Histogram2d(\n",
    "        x=x,\n",
    "        y=y\n",
    "    ))\n",
    "fig.show()"
   ]
  },
  {
   "cell_type": "markdown",
   "metadata": {},
   "source": [
    "## Смешенные графики\n",
    "Давайте посмотрим, как можно использвать разные типы графиков для одних данных\n",
    "\n",
    "Примеры взяты от [сюда](https://plot.ly/python/plotly-express/#plotly-express)"
   ]
  },
  {
   "cell_type": "code",
   "execution_count": null,
   "metadata": {},
   "outputs": [],
   "source": [
    "df = px.data.iris()\n",
    "fig = px.scatter(df, x=\"sepal_width\", y=\"sepal_length\", color=\"species\", marginal_y=\"rug\", marginal_x=\"histogram\")\n",
    "fig"
   ]
  },
  {
   "cell_type": "code",
   "execution_count": null,
   "metadata": {},
   "outputs": [],
   "source": [
    "df = px.data.iris()\n",
    "fig = px.density_heatmap(df, x=\"sepal_width\", y=\"sepal_length\", marginal_x=\"rug\", marginal_y=\"histogram\")\n",
    "fig.show()"
   ]
  },
  {
   "cell_type": "code",
   "execution_count": null,
   "metadata": {},
   "outputs": [],
   "source": []
  }
 ],
 "metadata": {
  "file_extension": ".py",
  "hide_input": false,
  "kernelspec": {
   "display_name": "Python 3",
   "language": "python",
   "name": "python3"
  },
  "language_info": {
   "codemirror_mode": {
    "name": "ipython",
    "version": 3
   },
   "file_extension": ".py",
   "mimetype": "text/x-python",
   "name": "python",
   "nbconvert_exporter": "python",
   "pygments_lexer": "ipython3",
   "version": "3.7.6-final"
  },
  "mimetype": "text/x-python",
  "name": "python",
  "npconvert_exporter": "python",
  "pygments_lexer": "ipython3",
  "toc": {
   "base_numbering": 1,
   "nav_menu": {},
   "number_sections": true,
   "sideBar": true,
   "skip_h1_title": false,
   "title_cell": "Table of Contents",
   "title_sidebar": "Contents",
   "toc_cell": true,
   "toc_position": {
    "height": "calc(100% - 180px)",
    "left": "10px",
    "top": "150px",
    "width": "336px"
   },
   "toc_section_display": true,
   "toc_window_display": true
  },
  "version": 3
 },
 "nbformat": 4,
 "nbformat_minor": 2
}