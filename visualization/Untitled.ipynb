{
 "nbformat": 4,
 "nbformat_minor": 2,
 "metadata": {
  "language_info": {
   "name": "python",
   "codemirror_mode": {
    "name": "ipython",
    "version": 3
   }
  },
  "orig_nbformat": 2,
  "file_extension": ".py",
  "mimetype": "text/x-python",
  "name": "python",
  "npconvert_exporter": "python",
  "pygments_lexer": "ipython3",
  "version": 3
 },
 "cells": [
  {
   "cell_type": "markdown",
   "execution_count": null,
   "metadata": {},
   "outputs": [],
   "source": [
    "# Введение\n",
    "В любом эксперименте важной частью, является представление данных в удобном виде. Для этого существует большое количество различных библиотек для визуализации. Ниже рассмотрим некоторые из них:\n",
    "\n",
    "## 1. [Matplotlib](https://matplotlib.org)\n",
    "Matplotlib - одна из первых библиотек созданная для визуализация. В следствии этого по ней много достаточно хороших статей и введений. Недостатками (на мой взгляд) является достаточно сложный синтаксис. Помочь с этим может высокоуровневая оболочка [Seaborn](https://seaborn.pydata.org).\n",
    "\n",
    "## 2. [Plotly](https://plot.ly/python/) \n",
    "Plotly - библиотека с которой я работаю сейчас. С ней можно работать в двух видах: \n",
    "* Полный вид. Код начинается с команды `import plotly.graph_objects as go` \n",
    "* Компактный вид. Код начинается с команды `import plotly.express as px`\n",
    "Нам будет достаточно компактного вида. Из плюсов библиотеки отмечу отличную [документацию](https://plot.ly/python/) с большим количеством примеров, также интерактивные графики. Из минусов: при большом количестве графиков могут начаться подтормаживания (решается включением неинтерактивный режима)\n",
    "\n",
    "## 3. [Ggplot](http://ggplot.yhathq.com)\n",
    "Ggplot - библиотека пришедшая из языка R. Основана на *grammar of graphic*. Имеет локанчиный синтаксис. Из минусов достаточно мало документации и примеров. Тут будет использваться реализция [plotline](https://plotnine.readthedocs.io/en/stable/).\n"
   ]
  },
  {
   "cell_type": "markdown",
   "execution_count": null,
   "metadata": {},
   "outputs": [],
   "source": [
    "## Установка библиотек\n",
    "### Подготовка\n",
    "0. (необязательно) Создадим новое окружение `conda create --name visual` \n",
    "1. активируем его `conda activate visual`\n",
    "2. Установим pandas и  numpy ``"
   ]
  },
  {
   "cell_type": "code",
   "execution_count": null,
   "metadata": {},
   "outputs": [],
   "source": []
  }
 ]
}