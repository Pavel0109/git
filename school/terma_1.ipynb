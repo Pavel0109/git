{
 "nbformat": 4,
 "nbformat_minor": 2,
 "metadata": {
  "language_info": {
   "name": "python",
   "codemirror_mode": {
    "name": "ipython",
    "version": 3
   },
   "version": "3.7.6-final"
  },
  "orig_nbformat": 2,
  "file_extension": ".py",
  "mimetype": "text/x-python",
  "name": "python",
  "npconvert_exporter": "python",
  "pygments_lexer": "ipython3",
  "version": 3,
  "kernelspec": {
   "name": "python3",
   "display_name": "Python 3"
  }
 },
 "cells": [
  {
   "cell_type": "code",
   "execution_count": 3,
   "metadata": {},
   "outputs": [],
   "source": [
    "import pandas as pd\n",
    "import numpy as np\n",
    "import plotly.express as px"
   ]
  },
  {
   "cell_type": "code",
   "execution_count": 28,
   "metadata": {},
   "outputs": [],
   "source": [
    "v_0 = 0\n",
    "V_0 = 1 # m^3\n",
    "\n",
    "S = 1 # метры^2\n",
    "gamma = 5 / 3 \n",
    "N = 30 # ватт\n",
    "dt = 10**(-3)\n",
    "m = 1 # кг\n",
    "g = 10 #m/c^2\n",
    "P_atm = 10**5 #паскали\n",
    "P_0 = P_atm + m*g/S"
   ]
  },
  {
   "cell_type": "code",
   "execution_count": 29,
   "metadata": {},
   "outputs": [],
   "source": [
    "def a_solve (P):\n",
    "    global S, m, P_atm, g\n",
    "    return P*S/m - (g + P_atm*S / m)\n",
    "\n",
    "def dx_solve (a, t):\n",
    "    global v_0, dt\n",
    "    return v_0 * dt + a * t * dt\n",
    "\n",
    "def dP_solve (P,dV,V):\n",
    "    global gamma, N , dt\n",
    "    return ((gamma-1)*N*dt - gamma*P*dV)/V\n",
    "\n"
   ]
  },
  {
   "cell_type": "code",
   "execution_count": 32,
   "metadata": {},
   "outputs": [],
   "source": [
    "t = np.arange(0,100,dt)\n",
    "x = np.array(len(t))\n",
    "P = P_0\n",
    "V = V_0\n",
    "x_0 = V_0/S\n",
    "x_current = x_0\n",
    "for i in t:\n",
    "    a_corrent = a_solve(P)\n",
    "    dx_current = dx_solve(a_corrent,t)\n",
    "    x_current = x_current + dx_current\n",
    "    x = np.append(x,x_current)\n",
    "    \n",
    "    dV = dx_current * S\n",
    "    V = V + dV\n",
    "    P = P + dP_solve(P,dV,V)\n"
   ]
  },
  {
   "cell_type": "code",
   "execution_count": null,
   "metadata": {},
   "outputs": [],
   "source": [
    "x"
   ]
  },
  {
   "cell_type": "code",
   "execution_count": null,
   "metadata": {},
   "outputs": [],
   "source": []
  }
 ]
}